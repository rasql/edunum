{
 "cells": [
  {
   "cell_type": "markdown",
   "id": "8cb9d8c5-2a86-4aea-95f8-105c5abd0866",
   "metadata": {},
   "source": [
    "# Le terminal"
   ]
  },
  {
   "cell_type": "markdown",
   "id": "7d850c7f-d5bf-4948-870c-44c23ebbec61",
   "metadata": {},
   "source": [
    "## Afficher date\n",
    "La commande `cal` permet d'afficher un calendrier mensuel."
   ]
  },
  {
   "cell_type": "code",
   "execution_count": 3,
   "id": "cdbfc612-7baf-4127-b14f-17a6486d6c47",
   "metadata": {},
   "outputs": [
    {
     "name": "stdout",
     "output_type": "stream",
     "text": [
      "     Août 2021        \n",
      "Di Lu Ma Me Je Ve Sa  \n",
      " 1  2  3  4  5  6  7  \n",
      " 8  9 10 11 12 13 14  \n",
      "15 16 17 18 19 20 21  \n",
      "22 23 \u001b[7m24\u001b[m 25 26 27 28  \n",
      "29 30 31              \n",
      "                      \n"
     ]
    }
   ],
   "source": [
    "!cal"
   ]
  },
  {
   "cell_type": "code",
   "execution_count": 2,
   "id": "24730304-7ed0-482e-b05a-21afd80465e3",
   "metadata": {},
   "outputs": [
    {
     "name": "stdout",
     "output_type": "stream",
     "text": [
      "Mar 24 aoû 2021 15:09:15 CEST\n"
     ]
    }
   ],
   "source": [
    "!date"
   ]
  },
  {
   "cell_type": "code",
   "execution_count": 5,
   "id": "b194ad7a-f7f2-4fd3-830d-87000b6316d3",
   "metadata": {},
   "outputs": [
    {
     "name": "stdout",
     "output_type": "stream",
     "text": [
      "Python 3.7.9 (v3.7.9:13c94747c7, Aug 15 2020, 01:31:08) \n",
      "[Clang 6.0 (clang-600.0.57)] on darwin\n",
      "Type \"help\", \"copyright\", \"credits\" or \"license\" for more information.\n",
      ">>> ^C\n",
      "\n",
      "KeyboardInterrupt\n",
      ">>> >>> "
     ]
    }
   ],
   "source": []
  },
  {
   "cell_type": "markdown",
   "id": "b8159858-ab06-4a06-874c-301581aa9005",
   "metadata": {},
   "source": [
    "Changer de dossier\n",
    "\n",
    "    M507-2:oc pp77xir$ cd demo\n",
    "    M507-2:demo pp77xir$ ls\n",
    "    M507-2:demo pp77xir$ touch file_a\n",
    "    M507-2:demo pp77xir$ ls\n",
    "    file_a\n",
    "    M507-2:demo pp77xir$ mv file_a file_a.txt\n",
    "    M507-2:demo pp77xir$ touch file_b\n",
    "    M507-2:demo pp77xir$ ls\n",
    "    file_a.txt\tfile_b\n",
    "    M507-2:demo pp77xir$ ls -l\n",
    "    total 0\n",
    "    -rwx------+ 1 pp77xir  DGEP\\Domain Users  0 24 aoû 15:14 file_a.txt\n",
    "    -rwx------+ 1 pp77xir  DGEP\\Domain Users  0 24 aoû 15:14 file_b\n",
    "    M507-2:demo pp77xir$ date > file_a.txt \n",
    "    M507-2:demo pp77xir$ ls -l\n",
    "    total 1\n",
    "    -rwx------+ 1 pp77xir  DGEP\\Domain Users  31 24 aoû 15:14 file_a.txt\n",
    "    -rwx------+ 1 pp77xir  DGEP\\Domain Users   0 24 aoû 15:14 file_b\n",
    "    M507-2:demo pp77xir$ date > file_a.txt \n",
    "    M507-2:demo pp77xir$ ls -l\n",
    "    total 1\n",
    "    -rwx------+ 1 pp77xir  DGEP\\Domain Users  31 24 aoû 15:14 file_a.txt\n",
    "    -rwx------+ 1 pp77xir  DGEP\\Domain Users   0 24 aoû 15:14 file_b\n",
    "    M507-2:demo pp77xir$ "
   ]
  },
  {
   "cell_type": "markdown",
   "id": "fd0e6c47-d95e-4298-b31a-0e86d9edd2b0",
   "metadata": {},
   "source": [
    "![](https://upload.wikimedia.org/wikipedia/commons/thumb/a/a2/Elixir_M2U51264DS8HC3G-5T_20060320.jpg/220px-Elixir_M2U51264DS8HC3G-5T_20060320.jpg)"
   ]
  },
  {
   "cell_type": "code",
   "execution_count": null,
   "id": "48124d6b-f48f-444c-a2e5-39ccea1fb0df",
   "metadata": {},
   "outputs": [],
   "source": []
  }
 ],
 "metadata": {
  "kernelspec": {
   "display_name": "Python 3",
   "language": "python",
   "name": "python3"
  },
  "language_info": {
   "codemirror_mode": {
    "name": "ipython",
    "version": 3
   },
   "file_extension": ".py",
   "mimetype": "text/x-python",
   "name": "python",
   "nbconvert_exporter": "python",
   "pygments_lexer": "ipython3",
   "version": "3.7.9"
  }
 },
 "nbformat": 4,
 "nbformat_minor": 5
}
