{
 "cells": [
  {
   "cell_type": "markdown",
   "id": "11c7ebaf-c40a-4e8d-973e-cbaa20dd04b3",
   "metadata": {},
   "source": [
    "# Des premiers ordinateurs à Internet"
   ]
  },
  {
   "cell_type": "markdown",
   "id": "d79211cb-2604-4e80-9862-0643f94a8e74",
   "metadata": {},
   "source": [
    "ENIAC\n",
    "\n",
    "![](https://upload.wikimedia.org/wikipedia/commons/thumb/4/4e/Eniac.jpg/1280px-Eniac.jpg)"
   ]
  },
  {
   "cell_type": "code",
   "execution_count": null,
   "id": "de6f4ea2-c628-41ad-b7e8-8b99ce09da75",
   "metadata": {},
   "outputs": [],
   "source": [
    "poid = 30000"
   ]
  },
  {
   "cell_type": "markdown",
   "id": "152b66f1-a77f-482f-a34d-4e520b694022",
   "metadata": {},
   "source": [
    "## Mémoire\n",
    "\n",
    "Voici une implémentation d'une mémoire en programmation orienté objet."
   ]
  },
  {
   "cell_type": "code",
   "execution_count": 36,
   "id": "7ea24058-bb88-445f-9216-00ad7f8d7b74",
   "metadata": {},
   "outputs": [
    {
     "name": "stdout",
     "output_type": "stream",
     "text": [
      "0\n",
      "12\n"
     ]
    },
    {
     "data": {
      "text/plain": [
       "array([ 0,  0, 12,  0,  0,  0,  0,  0], dtype=int8)"
      ]
     },
     "execution_count": 36,
     "metadata": {},
     "output_type": "execute_result"
    }
   ],
   "source": [
    "import numpy as np\n",
    "\n",
    "class Memory:    \n",
    "    def __init__(self, size):\n",
    "        self.data = np.zeros(size, dtype='int8')\n",
    "        \n",
    "    def write(self, addr, data):\n",
    "        self.data[addr] = data\n",
    "        \n",
    "    def read(self, addr):\n",
    "        return self.data[addr]\n",
    "    \n",
    "m = Memory(8)\n",
    "print(m.read(2))\n",
    "m.write(2, 12)\n",
    "print(m.read(2))\n",
    "m.data"
   ]
  },
  {
   "cell_type": "code",
   "execution_count": 20,
   "id": "5147a64c-df0f-49f5-b92c-024d4af6339a",
   "metadata": {},
   "outputs": [],
   "source": [
    "m = Memory(8)"
   ]
  },
  {
   "cell_type": "code",
   "execution_count": 32,
   "id": "95740e00-98d1-4e74-88d9-1c0ad1c320db",
   "metadata": {},
   "outputs": [
    {
     "data": {
      "text/plain": [
       "array([12,  0,  0,  0,  0,  0,  0,  0], dtype=int8)"
      ]
     },
     "execution_count": 32,
     "metadata": {},
     "output_type": "execute_result"
    }
   ],
   "source": [
    "m.data"
   ]
  },
  {
   "cell_type": "code",
   "execution_count": 39,
   "id": "de73f2d4-1bf7-4930-8258-6416381b2ce5",
   "metadata": {},
   "outputs": [
    {
     "data": {
      "text/plain": [
       "99"
      ]
     },
     "execution_count": 39,
     "metadata": {},
     "output_type": "execute_result"
    }
   ],
   "source": [
    "def et(x, y): \n",
    "    return x and y\n",
    "\n",
    "et(1, 99)"
   ]
  },
  {
   "cell_type": "markdown",
   "id": "3e932663-8b02-4341-8cc8-b415e9815164",
   "metadata": {},
   "source": [
    "## Vitesse de transfer\n"
   ]
  },
  {
   "cell_type": "code",
   "execution_count": 48,
   "id": "c76057f6-69a9-49ce-af41-065152a40bf1",
   "metadata": {},
   "outputs": [
    {
     "name": "stdout",
     "output_type": "stream",
     "text": [
      "time to transfer: 41 minutes\n"
     ]
    }
   ],
   "source": [
    "# 1 To\n",
    "capacity = 1e12  # 1 To\n",
    "speed = 400e6 # 400 Mo/s\n",
    "\n",
    "time = capacity / speed\n",
    "print('time to transfer:', int(time/60), 'minutes')"
   ]
  },
  {
   "cell_type": "code",
   "execution_count": null,
   "id": "79c05671-4e8f-47b2-8da4-39ae43b6f584",
   "metadata": {},
   "outputs": [],
   "source": []
  }
 ],
 "metadata": {
  "kernelspec": {
   "display_name": "Python 3",
   "language": "python",
   "name": "python3"
  },
  "language_info": {
   "codemirror_mode": {
    "name": "ipython",
    "version": 3
   },
   "file_extension": ".py",
   "mimetype": "text/x-python",
   "name": "python",
   "nbconvert_exporter": "python",
   "pygments_lexer": "ipython3",
   "version": "3.7.9"
  }
 },
 "nbformat": 4,
 "nbformat_minor": 5
}
