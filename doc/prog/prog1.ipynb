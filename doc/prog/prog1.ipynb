{
 "cells": [
  {
   "cell_type": "markdown",
   "id": "advised-pasta",
   "metadata": {},
   "source": [
    "# Programmation "
   ]
  },
  {
   "cell_type": "markdown",
   "id": "bibliographic-arbitration",
   "metadata": {},
   "source": [
    "$$ ax^2 + bx + c \\qquad (a \\in \\mathbb{R}_0 \\textrm{ et } b, c \\in \\mathbb{R}).  $$"
   ]
  },
  {
   "cell_type": "markdown",
   "id": "capital-shelter",
   "metadata": {},
   "source": [
    "$$ \\Delta = b^2 - 4ac $$"
   ]
  },
  {
   "cell_type": "code",
   "execution_count": 1,
   "id": "vietnamese-serum",
   "metadata": {},
   "outputs": [],
   "source": [
    "def algo(a, b, c):\n",
    "    d = b**2 - 4*a*c\n",
    "    if d < 0:\n",
    "        return None\n",
    "    elif d == 0:\n",
    "        x = -b / (2*a)\n",
    "        return x\n",
    "    else:\n",
    "        x1 = (-b + d**0.5) / (2*a)\n",
    "        x2 = (-b - d**0.5) / (2*a)\n",
    "        return (x1, x2)\n",
    "    "
   ]
  },
  {
   "cell_type": "code",
   "execution_count": 3,
   "id": "automatic-suffering",
   "metadata": {},
   "outputs": [
    {
     "name": "stdout",
     "output_type": "stream",
     "text": [
      "None\n"
     ]
    }
   ],
   "source": [
    "print(algo(1, 2, 3))"
   ]
  },
  {
   "cell_type": "code",
   "execution_count": 4,
   "id": "applicable-supervisor",
   "metadata": {},
   "outputs": [
    {
     "name": "stdout",
     "output_type": "stream",
     "text": [
      "(1.0, -3.0)\n"
     ]
    }
   ],
   "source": [
    "print(algo(1, 2, -3))"
   ]
  },
  {
   "cell_type": "markdown",
   "id": "chinese-radical",
   "metadata": {},
   "source": [
    "## Representation"
   ]
  },
  {
   "cell_type": "code",
   "execution_count": 11,
   "id": "taken-guitar",
   "metadata": {},
   "outputs": [
    {
     "data": {
      "text/plain": [
       "'a4709d3f'"
      ]
     },
     "execution_count": 11,
     "metadata": {},
     "output_type": "execute_result"
    }
   ],
   "source": [
    "import struct\n",
    "struct.pack(\"f\", 1.23).hex()"
   ]
  },
  {
   "cell_type": "code",
   "execution_count": 16,
   "id": "standing-handle",
   "metadata": {},
   "outputs": [
    {
     "data": {
      "text/plain": [
       "'02000000'"
      ]
     },
     "execution_count": 16,
     "metadata": {},
     "output_type": "execute_result"
    }
   ],
   "source": [
    "import struct\n",
    "struct.pack(\"i\", 2).hex()"
   ]
  },
  {
   "cell_type": "code",
   "execution_count": 17,
   "id": "rural-calcium",
   "metadata": {},
   "outputs": [
    {
     "data": {
      "text/plain": [
       "'23010000'"
      ]
     },
     "execution_count": 17,
     "metadata": {},
     "output_type": "execute_result"
    }
   ],
   "source": [
    "import struct\n",
    "struct.pack(\"i\", 0x123).hex()"
   ]
  },
  {
   "cell_type": "code",
   "execution_count": 18,
   "id": "bigger-louis",
   "metadata": {},
   "outputs": [
    {
     "data": {
      "text/plain": [
       "b'#\\x01\\x00\\x00'"
      ]
     },
     "execution_count": 18,
     "metadata": {},
     "output_type": "execute_result"
    }
   ],
   "source": [
    "import struct\n",
    "struct.pack(\"i\", 0x123)"
   ]
  },
  {
   "cell_type": "code",
   "execution_count": 26,
   "id": "automated-player",
   "metadata": {},
   "outputs": [
    {
     "name": "stdout",
     "output_type": "stream",
     "text": [
      "3f = 00111111\n",
      "9d = 10011101\n",
      "70 = 01110000\n",
      "a4 = 10100100\n"
     ]
    }
   ],
   "source": [
    "for byte in struct.pack(\"!f\", 1.23):\n",
    "    print(f'{byte:2x} = {byte:08b}')\n",
    "    "
   ]
  },
  {
   "cell_type": "code",
   "execution_count": 27,
   "id": "exterior-destruction",
   "metadata": {},
   "outputs": [
    {
     "name": "stdout",
     "output_type": "stream",
     "text": [
      "00111111100111010111000010100100"
     ]
    }
   ],
   "source": [
    "for byte in struct.pack(\"!f\", 1.23):\n",
    "    print(f'{byte:08b}', end='')"
   ]
  },
  {
   "cell_type": "code",
   "execution_count": null,
   "id": "informational-franklin",
   "metadata": {},
   "outputs": [],
   "source": []
  }
 ],
 "metadata": {
  "kernelspec": {
   "display_name": "Python 3",
   "language": "python",
   "name": "python3"
  },
  "language_info": {
   "codemirror_mode": {
    "name": "ipython",
    "version": 3
   },
   "file_extension": ".py",
   "mimetype": "text/x-python",
   "name": "python",
   "nbconvert_exporter": "python",
   "pygments_lexer": "ipython3",
   "version": "3.7.9"
  }
 },
 "nbformat": 4,
 "nbformat_minor": 5
}
