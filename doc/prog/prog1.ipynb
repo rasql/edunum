{
 "cells": [
  {
   "cell_type": "markdown",
   "id": "american-exception",
   "metadata": {},
   "source": [
    "# Programmation "
   ]
  },
  {
   "cell_type": "markdown",
   "id": "taken-ranking",
   "metadata": {},
   "source": [
    "$$ ax^2 + bx + c \\qquad (a \\in \\mathbb{R}_0 \\textrm{ et } b, c \\in \\mathbb{R}).  $$"
   ]
  },
  {
   "cell_type": "markdown",
   "id": "bizarre-kruger",
   "metadata": {},
   "source": [
    "$$ \\Delta = b^2 - 4ac $$"
   ]
  },
  {
   "cell_type": "code",
   "execution_count": 1,
   "id": "legitimate-needle",
   "metadata": {},
   "outputs": [],
   "source": [
    "def algo(a, b, c):\n",
    "    d = b**2 - 4*a*c\n",
    "    if d < 0:\n",
    "        return None\n",
    "    elif d == 0:\n",
    "        x = -b / (2*a)\n",
    "        return x\n",
    "    else:\n",
    "        x1 = (-b + d**0.5) / (2*a)\n",
    "        x2 = (-b - d**0.5) / (2*a)\n",
    "        return (x1, x2)\n",
    "    "
   ]
  },
  {
   "cell_type": "code",
   "execution_count": 3,
   "id": "facial-professional",
   "metadata": {},
   "outputs": [
    {
     "name": "stdout",
     "output_type": "stream",
     "text": [
      "None\n"
     ]
    }
   ],
   "source": [
    "print(algo(1, 2, 3))"
   ]
  },
  {
   "cell_type": "code",
   "execution_count": 4,
   "id": "aggressive-plumbing",
   "metadata": {},
   "outputs": [
    {
     "name": "stdout",
     "output_type": "stream",
     "text": [
      "(1.0, -3.0)\n"
     ]
    }
   ],
   "source": [
    "print(algo(1, 2, -3))"
   ]
  },
  {
   "cell_type": "markdown",
   "id": "after-psychology",
   "metadata": {},
   "source": [
    "## Representation"
   ]
  },
  {
   "cell_type": "code",
   "execution_count": 11,
   "id": "lucky-insight",
   "metadata": {},
   "outputs": [
    {
     "data": {
      "text/plain": [
       "'a4709d3f'"
      ]
     },
     "execution_count": 11,
     "metadata": {},
     "output_type": "execute_result"
    }
   ],
   "source": [
    "import struct\n",
    "struct.pack(\"f\", 1.23).hex()"
   ]
  },
  {
   "cell_type": "code",
   "execution_count": 16,
   "id": "prostate-cliff",
   "metadata": {},
   "outputs": [
    {
     "data": {
      "text/plain": [
       "'02000000'"
      ]
     },
     "execution_count": 16,
     "metadata": {},
     "output_type": "execute_result"
    }
   ],
   "source": [
    "import struct\n",
    "struct.pack(\"i\", 2).hex()"
   ]
  },
  {
   "cell_type": "code",
   "execution_count": 17,
   "id": "endless-talent",
   "metadata": {},
   "outputs": [
    {
     "data": {
      "text/plain": [
       "'23010000'"
      ]
     },
     "execution_count": 17,
     "metadata": {},
     "output_type": "execute_result"
    }
   ],
   "source": [
    "import struct\n",
    "struct.pack(\"i\", 0x123).hex()"
   ]
  },
  {
   "cell_type": "code",
   "execution_count": 18,
   "id": "unlikely-pressure",
   "metadata": {},
   "outputs": [
    {
     "data": {
      "text/plain": [
       "b'#\\x01\\x00\\x00'"
      ]
     },
     "execution_count": 18,
     "metadata": {},
     "output_type": "execute_result"
    }
   ],
   "source": [
    "import struct\n",
    "struct.pack(\"i\", 0x123)"
   ]
  },
  {
   "cell_type": "code",
   "execution_count": 26,
   "id": "extra-hampton",
   "metadata": {},
   "outputs": [
    {
     "name": "stdout",
     "output_type": "stream",
     "text": [
      "3f = 00111111\n",
      "9d = 10011101\n",
      "70 = 01110000\n",
      "a4 = 10100100\n"
     ]
    }
   ],
   "source": [
    "for byte in struct.pack(\"!f\", 1.23):\n",
    "    print(f'{byte:2x} = {byte:08b}')\n",
    "    "
   ]
  },
  {
   "cell_type": "code",
   "execution_count": 27,
   "id": "indie-twenty",
   "metadata": {},
   "outputs": [
    {
     "name": "stdout",
     "output_type": "stream",
     "text": [
      "00111111100111010111000010100100"
     ]
    }
   ],
   "source": [
    "for byte in struct.pack(\"!f\", 1.23):\n",
    "    print(f'{byte:08b}', end='')"
   ]
  },
  {
   "cell_type": "markdown",
   "id": "educated-wales",
   "metadata": {},
   "source": [
    "## Ecrire dans un fichier\n",
    "\n",
    "La fonction 'open()' ouvre un fichier dans 4 modes différents:\n",
    "\n",
    "- `r` (read) lire\n",
    "- `a` (append) ajouter\n",
    "- `w` (write) écrire\n",
    "- `x` (create) créer"
   ]
  },
  {
   "cell_type": "code",
   "execution_count": 18,
   "id": "satisfied-patient",
   "metadata": {},
   "outputs": [],
   "source": [
    "file = open('data.txt', 'w')\n",
    "file.write('hello')\n",
    "file.close()"
   ]
  },
  {
   "cell_type": "code",
   "execution_count": 28,
   "id": "interracial-stone",
   "metadata": {},
   "outputs": [
    {
     "name": "stdout",
     "output_type": "stream",
     "text": [
      "hellohellohello\n",
      "hello\n",
      "\n"
     ]
    }
   ],
   "source": [
    "file = open('data.txt', 'r')\n",
    "s = file.read()\n",
    "print(s)\n",
    "file.close()"
   ]
  },
  {
   "cell_type": "code",
   "execution_count": 26,
   "id": "bored-yacht",
   "metadata": {},
   "outputs": [],
   "source": [
    "file = open('data.txt', 'a')\n",
    "file.write('hello\\n')\n",
    "file.close()"
   ]
  },
  {
   "cell_type": "code",
   "execution_count": 8,
   "id": "grave-mouth",
   "metadata": {},
   "outputs": [
    {
     "name": "stdout",
     "output_type": "stream",
     "text": [
      "total 24\n",
      "-rw-r--r--  1 raphael  staff     5  8 mar 22:37 data.txt\n",
      "-rw-r--r--  1 raphael  staff  4588  8 mar 22:35 prog1.ipynb\n"
     ]
    }
   ],
   "source": [
    "ll"
   ]
  },
  {
   "cell_type": "code",
   "execution_count": 9,
   "id": "welsh-separation",
   "metadata": {},
   "outputs": [
    {
     "ename": "AttributeError",
     "evalue": "'_io.TextIOWrapper' object has no attribute 'open'",
     "output_type": "error",
     "traceback": [
      "\u001b[0;31m---------------------------------------------------------------------------\u001b[0m",
      "\u001b[0;31mAttributeError\u001b[0m                            Traceback (most recent call last)",
      "\u001b[0;32m<ipython-input-9-3c231115e54e>\u001b[0m in \u001b[0;36m<module>\u001b[0;34m\u001b[0m\n\u001b[0;32m----> 1\u001b[0;31m \u001b[0mfile\u001b[0m\u001b[0;34m.\u001b[0m\u001b[0mopen\u001b[0m\u001b[0;34m(\u001b[0m\u001b[0mdata\u001b[0m\u001b[0;34m.\u001b[0m\u001b[0mtxt\u001b[0m\u001b[0;34m)\u001b[0m\u001b[0;34m\u001b[0m\u001b[0;34m\u001b[0m\u001b[0m\n\u001b[0m",
      "\u001b[0;31mAttributeError\u001b[0m: '_io.TextIOWrapper' object has no attribute 'open'"
     ]
    }
   ],
   "source": [
    "file.open(data.txt)"
   ]
  },
  {
   "cell_type": "code",
   "execution_count": 12,
   "id": "functional-explanation",
   "metadata": {},
   "outputs": [],
   "source": [
    "file = open('chat.txt', 'w')\n",
    "file.write('hello')\n",
    "file.close()"
   ]
  },
  {
   "cell_type": "code",
   "execution_count": 14,
   "id": "stone-license",
   "metadata": {},
   "outputs": [
    {
     "name": "stdout",
     "output_type": "stream",
     "text": [
      "-rw-r--r--  1 raphael  staff  5  8 mar 22:39 chat.txt\n"
     ]
    }
   ],
   "source": [
    "ll chat*"
   ]
  },
  {
   "cell_type": "code",
   "execution_count": 16,
   "id": "united-century",
   "metadata": {},
   "outputs": [
    {
     "ename": "UnsupportedOperation",
     "evalue": "not readable",
     "output_type": "error",
     "traceback": [
      "\u001b[0;31m---------------------------------------------------------------------------\u001b[0m",
      "\u001b[0;31mUnsupportedOperation\u001b[0m                      Traceback (most recent call last)",
      "\u001b[0;32m<ipython-input-16-892c467592cc>\u001b[0m in \u001b[0;36m<module>\u001b[0;34m\u001b[0m\n\u001b[1;32m      1\u001b[0m \u001b[0mfile\u001b[0m \u001b[0;34m=\u001b[0m \u001b[0mopen\u001b[0m\u001b[0;34m(\u001b[0m\u001b[0;34m'chat.txt'\u001b[0m\u001b[0;34m,\u001b[0m \u001b[0;34m'a'\u001b[0m\u001b[0;34m)\u001b[0m\u001b[0;34m\u001b[0m\u001b[0;34m\u001b[0m\u001b[0m\n\u001b[0;32m----> 2\u001b[0;31m \u001b[0ms\u001b[0m \u001b[0;34m=\u001b[0m \u001b[0mfile\u001b[0m\u001b[0;34m.\u001b[0m\u001b[0mread\u001b[0m\u001b[0;34m(\u001b[0m\u001b[0;34m)\u001b[0m\u001b[0;34m\u001b[0m\u001b[0;34m\u001b[0m\u001b[0m\n\u001b[0m\u001b[1;32m      3\u001b[0m \u001b[0mprint\u001b[0m\u001b[0;34m(\u001b[0m\u001b[0ms\u001b[0m\u001b[0;34m)\u001b[0m\u001b[0;34m\u001b[0m\u001b[0;34m\u001b[0m\u001b[0m\n\u001b[1;32m      4\u001b[0m \u001b[0mresponse\u001b[0m \u001b[0;34m=\u001b[0m \u001b[0minput\u001b[0m\u001b[0;34m(\u001b[0m\u001b[0;34m'you: '\u001b[0m\u001b[0;34m)\u001b[0m\u001b[0;34m\u001b[0m\u001b[0;34m\u001b[0m\u001b[0m\n\u001b[1;32m      5\u001b[0m \u001b[0mfile\u001b[0m\u001b[0;34m.\u001b[0m\u001b[0mwrite\u001b[0m\u001b[0;34m(\u001b[0m\u001b[0mresponse\u001b[0m\u001b[0;34m)\u001b[0m\u001b[0;34m\u001b[0m\u001b[0;34m\u001b[0m\u001b[0m\n",
      "\u001b[0;31mUnsupportedOperation\u001b[0m: not readable"
     ]
    }
   ],
   "source": [
    "file = open('chat.txt', 'a')\n",
    "s = file.read()\n",
    "print(s)\n",
    "response = input('you: ')\n",
    "file.write(response)\n",
    "file.close()"
   ]
  },
  {
   "cell_type": "markdown",
   "id": "aerial-worth",
   "metadata": {},
   "source": [
    "## Quiz"
   ]
  },
  {
   "cell_type": "code",
   "execution_count": 45,
   "id": "addressed-winning",
   "metadata": {},
   "outputs": [
    {
     "data": {
      "text/plain": [
       "['computer', 'mouse', 'keyboard', 'screen', 'printer', 'cable', 'button']"
      ]
     },
     "execution_count": 45,
     "metadata": {},
     "output_type": "execute_result"
    }
   ],
   "source": [
    "dict_en_fr = {'computer':'ordinateur', \n",
    "            'mouse':'souris',\n",
    "            'keyboard':'clavier',\n",
    "            'screen':'écran',\n",
    "            'printer':'imprimante',\n",
    "            'cable':'cable',\n",
    "            'button':'bouton'}\n",
    "list(dict_en_fr.keys())"
   ]
  },
  {
   "cell_type": "code",
   "execution_count": 47,
   "id": "patient-mounting",
   "metadata": {},
   "outputs": [
    {
     "name": "stdout",
     "output_type": "stream",
     "text": [
      "original ['computer', 'mouse', 'keyboard', 'screen', 'printer', 'cable', 'button']\n",
      "shuffled ['mouse', 'button', 'printer', 'keyboard', 'computer', 'cable', 'screen']\n"
     ]
    }
   ],
   "source": [
    "from random import shuffle\n",
    "\n",
    "mots = list(dict_en_fr.keys())\n",
    "print('original', mots)\n",
    "\n",
    "shuffle(mots)\n",
    "print('shuffled', mots)"
   ]
  },
  {
   "cell_type": "code",
   "execution_count": 49,
   "id": "raising-fluid",
   "metadata": {},
   "outputs": [
    {
     "name": "stdin",
     "output_type": "stream",
     "text": [
      "mouse:  sours\n"
     ]
    },
    {
     "name": "stdout",
     "output_type": "stream",
     "text": [
      "faux! le mot correct est souris\n"
     ]
    },
    {
     "name": "stdin",
     "output_type": "stream",
     "text": [
      "button:  button\n"
     ]
    },
    {
     "name": "stdout",
     "output_type": "stream",
     "text": [
      "faux! le mot correct est bouton\n"
     ]
    },
    {
     "name": "stdin",
     "output_type": "stream",
     "text": [
      "printer:  imprimante\n"
     ]
    },
    {
     "name": "stdout",
     "output_type": "stream",
     "text": [
      "correct\n"
     ]
    },
    {
     "name": "stdin",
     "output_type": "stream",
     "text": [
      "keyboard:  clavier\n"
     ]
    },
    {
     "name": "stdout",
     "output_type": "stream",
     "text": [
      "correct\n"
     ]
    },
    {
     "name": "stdin",
     "output_type": "stream",
     "text": [
      "computer:  ordinateur\n"
     ]
    },
    {
     "name": "stdout",
     "output_type": "stream",
     "text": [
      "correct\n"
     ]
    },
    {
     "name": "stdin",
     "output_type": "stream",
     "text": [
      "cable:  cable\n"
     ]
    },
    {
     "name": "stdout",
     "output_type": "stream",
     "text": [
      "correct\n"
     ]
    },
    {
     "name": "stdin",
     "output_type": "stream",
     "text": [
      "screen:  écran\n"
     ]
    },
    {
     "name": "stdout",
     "output_type": "stream",
     "text": [
      "correct\n"
     ]
    }
   ],
   "source": [
    "for mot in mots:\n",
    "    reponse = input(mot+': ')\n",
    "    correct = dict_en_fr[mot]\n",
    "    if reponse == correct:\n",
    "        print('correct')\n",
    "    else:\n",
    "        print('faux! le mot correct est', words[mot])"
   ]
  },
  {
   "cell_type": "code",
   "execution_count": null,
   "id": "representative-dimension",
   "metadata": {},
   "outputs": [],
   "source": []
  },
  {
   "cell_type": "code",
   "execution_count": 60,
   "id": "communist-doctrine",
   "metadata": {},
   "outputs": [
    {
     "name": "stdout",
     "output_type": "stream",
     "text": [
      "quiz: anglais en français\n",
      "testez-vous avec 3 mots\n",
      "------------------------------\n"
     ]
    },
    {
     "name": "stdin",
     "output_type": "stream",
     "text": [
      "screen:  écran\n"
     ]
    },
    {
     "name": "stdout",
     "output_type": "stream",
     "text": [
      "correct! score = 1\n"
     ]
    },
    {
     "name": "stdin",
     "output_type": "stream",
     "text": [
      "cable:  cable\n"
     ]
    },
    {
     "name": "stdout",
     "output_type": "stream",
     "text": [
      "correct! score = 2\n"
     ]
    },
    {
     "name": "stdin",
     "output_type": "stream",
     "text": [
      "computer:  ordi\n"
     ]
    },
    {
     "name": "stdout",
     "output_type": "stream",
     "text": [
      "faux! le mot correct est ordinateur\n",
      "------------------------------\n",
      "score final = 2 sur 3\n"
     ]
    }
   ],
   "source": [
    "from random import shuffle\n",
    "\n",
    "shuffle(mots)\n",
    "score = 0\n",
    "n = 3\n",
    "\n",
    "print('quiz: anglais en français')\n",
    "print('testez-vous avec', n, 'mots')\n",
    "print('-' * 30)\n",
    "\n",
    "for mot in mots[:n]:\n",
    "    reponse = input(mot + ': ')\n",
    "    correct = dict_en_fr[mot]\n",
    "    if reponse == correct:\n",
    "        score = score + 1\n",
    "        print('correct! score =', score)\n",
    "    else:\n",
    "        print('faux! le mot correct est', correct)\n",
    "\n",
    "print('-' * 30)\n",
    "print('score final =', score, 'sur', n)"
   ]
  },
  {
   "cell_type": "code",
   "execution_count": null,
   "id": "bacterial-safety",
   "metadata": {},
   "outputs": [],
   "source": []
  },
  {
   "cell_type": "code",
   "execution_count": null,
   "id": "guided-enzyme",
   "metadata": {},
   "outputs": [],
   "source": []
  }
 ],
 "metadata": {
  "kernelspec": {
   "display_name": "Python 3",
   "language": "python",
   "name": "python3"
  },
  "language_info": {
   "codemirror_mode": {
    "name": "ipython",
    "version": 3
   },
   "file_extension": ".py",
   "mimetype": "text/x-python",
   "name": "python",
   "nbconvert_exporter": "python",
   "pygments_lexer": "ipython3",
   "version": "3.7.9"
  }
 },
 "nbformat": 4,
 "nbformat_minor": 5
}
