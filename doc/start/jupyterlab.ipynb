{
 "cells": [
  {
   "cell_type": "markdown",
   "id": "forty-blame",
   "metadata": {},
   "source": [
    "# JupyterLab\n",
    "\n",
    "JupyterLab est un environnement pour développer **code et documentation** dans un navigateur web.\n",
    "\n",
    "![](img/jupyterlab.png)\n",
    "\n",
    "Dans l'image ci-dessus vous pouvez voir\n",
    "- un **notebook** avec des formules mathématiques\n",
    "- une **image** interactive\n",
    "- du **code** Python "
   ]
  },
  {
   "cell_type": "markdown",
   "id": "separate-burton",
   "metadata": {},
   "source": [
    "## Pourquoi \"Jupyter\"?\n",
    "\n",
    "Le nom **Ju-pyt-R** fait référence aux trois langages de programmation\n",
    "- Julia\n",
    "- Python\n",
    "- R\n",
    "\n",
    "<img src='img/jupyter_logo.png' width='100'>\n",
    "\n",
    "Le logo Juypter représente les lunes de la planète Jupiter qui sont:\n",
    "- Io\n",
    "- Europe\n",
    "- Ganymède\n",
    "- Callisto\n",
    "\n",
    "Ces quatre satellites de Jupiter ont été découverts en 1610 par **Galilée**, fondateur d'une pensée scientifique basé sur l'observation.\n",
    "\n",
    "Il a proposé un **modèle héliocentriste** (=soleil au centre) avec des mouvements satellitaires des planètes autour du soleil et des lunes autour des planètes."
   ]
  },
  {
   "cell_type": "markdown",
   "id": "spread-invention",
   "metadata": {},
   "source": [
    "## Créer un notebook\n",
    "\n",
    "- Choisissez **File > New > Notebook**\n",
    "- Choisissez un noyau (kernel): **Python 3**\n",
    "\n",
    "Alternativement:\n",
    "\n",
    "- Choississez **New Launcher** (ou cliquez sur + dans le navigateur)\n",
    "- Choisissez dans le Launcher: **Notebook Python 3**\n",
    "\n",
    "![nb](img/start_nb.png)"
   ]
  },
  {
   "cell_type": "markdown",
   "id": "graduate-programming",
   "metadata": {},
   "source": [
    "## Une cellule vide\n",
    "\n",
    "Au début vous avez juste une cellule vide.\n",
    "\n",
    "![](img/cell1.png)\n",
    "\n",
    "Vous notez:\n",
    "\n",
    "- une barre de sélection bleue\n",
    "- des crochets encore vides"
   ]
  },
  {
   "cell_type": "markdown",
   "id": "offshore-works",
   "metadata": {},
   "source": [
    "## Évaluler une cellule\n",
    "\n",
    "Écrivez une expression Python dans la cellule, et appuyez simultanément sur les touches **maj + retour** pour exécuter l'expression.\n",
    "\n",
    "Alternativement vous pouvez cliquer sur le bouton ▶︎ dans le menu.\n",
    "\n",
    "![](img/cell2.png)\n",
    "\n",
    "Vous notez que:\n",
    "\n",
    "- le numéro de l'exécution apparait dans les crochets (1)\n",
    "- le résultat de l'expression est affiché après la cellule code\n",
    "- une nouvelle cellule vide est ajoutée"
   ]
  },
  {
   "cell_type": "markdown",
   "id": "recognized-sydney",
   "metadata": {},
   "source": [
    "## Évaluer de nouveau\n",
    "\n",
    "Vous pouvez ajouter une autre expression et évaluer de nouveau la cellule.\n",
    "\n",
    "![](img/cell3.png) \n",
    "\n",
    "Vous notez que:\n",
    "- le numéro de l'exécution a été incrémenté (2)\n",
    "- une nouvelle cellule vide est ajoutée\n",
    "\n",
    "### Exercice\n",
    "\n",
    "Ajouter 4-5 cellules avec des expressions Python (soustractions, multiplications, divisions)"
   ]
  },
  {
   "cell_type": "markdown",
   "id": "organizational-incentive",
   "metadata": {},
   "source": [
    "## Mode edit/command\n",
    "\n",
    "Une cellule est en mode **edit** s'il y a un curseur d'insertion dans la cellule.\n",
    "\n",
    "![](img/cell5.png)\n",
    "\n",
    "Vous basculez vers le mode **command** en\n",
    "\n",
    "- cliquant en dehors de la cellule\n",
    "- en appuyant sur la touche **escape**\n",
    "\n",
    "![](img/cell6.png)\n",
    "\n",
    " \n",
    "Vous notez que:\n",
    "- la cellule est grisée\n",
    "- le curseur a disparu "
   ]
  },
  {
   "cell_type": "markdown",
   "id": "coral-fifty",
   "metadata": {},
   "source": [
    "## Ajouter des cellules\n",
    "\n",
    "Vous pouvez ajouter des cellules \n",
    "- avec le bouton (+) du menu, ou\n",
    "- avec les raccourcis **A** et **B** \n",
    "\n",
    "Par rapport à la cellule active (barre bleue) vous pouvez ajouter une nouvelle cellule\n",
    "\n",
    "- **A** en dessus (above)\n",
    "- **B** en dessous (below)\n",
    "\n",
    "**Attention:** il faut être dans le **mode command** pour utiliser ces raccourcis.\n",
    "\n",
    "![](img/cell4.png) "
   ]
  },
  {
   "cell_type": "markdown",
   "id": "champion-bidder",
   "metadata": {},
   "source": [
    "## Couper, copier, coller\n",
    "\n",
    "En mode **command** vous pouvez couper, copier et coller des cellules avec les raccourcis:\n",
    "    \n",
    "- **X** coupe la cellule\n",
    "- **C** copie la cellule\n",
    "- **V** colle la cellule\n",
    "\n",
    "Par exemple la cellule `'hello'` a été coupée avec la touche **X**\n",
    "\n",
    "![](img/cell7.png)\n",
    "\n",
    "et ensuite collée à la fin de la cellule `2` avec la touche **V**\n",
    "\n",
    "![](img/cell8.png)\n",
    "\n",
    "**Attention:** La touche **cmd** n'est pas nécessaire en mode *command*."
   ]
  },
  {
   "cell_type": "markdown",
   "id": "rubber-transfer",
   "metadata": {},
   "source": [
    "## Déplacer une cellule\n",
    "\n",
    "Vous pouvez cliquer à droite de la barre bleu pour déplacer une cellule.\n",
    "La ligne bleu vous indique la nouvelle position de la cellule.\n",
    "\n",
    "![](img/lab_move.png) "
   ]
  },
  {
   "cell_type": "markdown",
   "id": "packed-imagination",
   "metadata": {},
   "source": [
    "## Naviguer avec les touches\n",
    "Avec les touches de flèche **haut/bas** (▲ et ▼) vous pouvez naviguer parmi les cellules.  \n"
   ]
  },
  {
   "cell_type": "markdown",
   "id": "imposed-timer",
   "metadata": {},
   "source": [
    "## Sélection multiple\n",
    "\n",
    "Avec les touches de flèche **haut/bas** (▲ et ▼) vous pouvez naviguer parmi les cellules.  \n",
    "En appuyant simultanément sur la touche **maj** et **haut/bas**, vous pouvez sélectionner des cellules multiples.\n",
    "\n",
    "![](img/cell9.png) \n",
    "\n",
    "La sélection multiple est utile pour couper, copier et coller multiples cellules."
   ]
  },
  {
   "cell_type": "markdown",
   "id": "passing-boating",
   "metadata": {},
   "source": [
    "## Évaluer multiples lignes\n",
    "\n",
    "Quand une cellule est exécutée, toutes les expressions sont évaluées, mais seulement le dernier résultat est affiché.\n",
    "\n",
    "![](img/cell10.png) \n",
    "\n",
    "Vous pouvez afficher toutes les valeurs en utilisant la fonction `print()`."
   ]
  },
  {
   "cell_type": "code",
   "execution_count": 3,
   "id": "given-boulder",
   "metadata": {},
   "outputs": [
    {
     "name": "stdout",
     "output_type": "stream",
     "text": [
      "35\n",
      "782\n",
      "0.5217391304347826\n"
     ]
    }
   ],
   "source": [
    "print(12 + 23)\n",
    "print(23 * 34)\n",
    "print(12 / 23)"
   ]
  },
  {
   "cell_type": "markdown",
   "id": "optimum-disney",
   "metadata": {},
   "source": [
    "## Navigateur de fichiers\n",
    "\n",
    "À gauche vous pouvez ouvrir un onglet de navigation.\n",
    "Ce navigateur permet de \n",
    "- naviguer dans votre système\n",
    "- ouvrir des dossiers et notebooks\n",
    "- créer des dossiers et notebooks\n",
    "- renommer des dossiers et notebooks\n",
    "- supprimer des dossiers et notebooks\n",
    "\n",
    "![](jupyterlab_nav.png)"
   ]
  },
  {
   "cell_type": "markdown",
   "id": "unnecessary-matthew",
   "metadata": {},
   "source": [
    "## Renommer un notebook\n",
    "\n",
    "Cliquer avec le bouton droit dans le navigateur des fichiers vous permet d'accéder à un menu contextuel qui vous permet de renommer votre notebook.\n",
    "\n",
    "![](jupyterlab_menu.png)\n"
   ]
  },
  {
   "cell_type": "markdown",
   "id": "dedicated-fundamental",
   "metadata": {},
   "source": [
    "## Résumé\n",
    "\n",
    "* JupyterLab est un **editeur web** pour programmer en Python.\n",
    "* Il permet de combiner **code et documentation** dans un seul document.\n",
    "* Ses documents s'apellent **Jupyter notebook**.\n",
    "* Un Jupyter notebook est **divisé en cellules**.\n",
    "* Un **serveur JupyterLab** est lancé à partir d'un terminal avec la commande `jupyter lab`.\n",
    "\n",
    "Les raccourcis:\n",
    "* `A` ajouter une cellule en dessus (above)\n",
    "* `B` ajouter une cellule en dessous (below)\n",
    "* `C` copier une cellule\n",
    "* `X` couper une cellule\n",
    "* `V` coller une cellule"
   ]
  },
  {
   "cell_type": "markdown",
   "id": "scheduled-touch",
   "metadata": {},
   "source": [
    "## Exercice\n",
    "\n",
    "- créez un dossier *leçon 1*\n",
    "- renommez le document *Untitled.ipynb* en *Intro JuypterLab.ipynb*\n",
    "- déplacez-le dans le dossier *leçon 1*"
   ]
  }
 ],
 "metadata": {
  "kernelspec": {
   "display_name": "Python 3",
   "language": "python",
   "name": "python3"
  },
  "language_info": {
   "codemirror_mode": {
    "name": "ipython",
    "version": 3
   },
   "file_extension": ".py",
   "mimetype": "text/x-python",
   "name": "python",
   "nbconvert_exporter": "python",
   "pygments_lexer": "ipython3",
   "version": "3.7.9"
  }
 },
 "nbformat": 4,
 "nbformat_minor": 5
}
