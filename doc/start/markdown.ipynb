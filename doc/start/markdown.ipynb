{
 "cells": [
  {
   "cell_type": "markdown",
   "id": "lightweight-pension",
   "metadata": {},
   "source": [
    "# Markdown\n",
    "\n",
    "Markdown est un **langage de balisage** léger pour formater un document, facile à lire, et facile à écrire.\n",
    "\n",
    "![](markdown.png)"
   ]
  },
  {
   "cell_type": "markdown",
   "id": "optical-resort",
   "metadata": {},
   "source": [
    "## Deux types de cellules\n",
    "\n",
    "Dans un notebook Jupyter il y a deux types de cellules:\n",
    "\n",
    "- code (Python)\n",
    "- texte (Markdown)\n",
    "\n",
    "Pour basculer entre code et texte utilisez le menu **Code/Markdown** dans la barre des menus.\n",
    "\n",
    "![](img/jupyter_menu.png)\n",
    "\n",
    "Vous pouvez également utiliser les raccourcis\n",
    "- **M** pour Markdown\n",
    "- **Y** pour code\n",
    "\n",
    "**Attention:** il faut être en mode *command* pour que les raccourcis fonctionnent. "
   ]
  },
  {
   "cell_type": "markdown",
   "id": "sonic-artist",
   "metadata": {},
   "source": [
    "## Langage de balisage\n",
    "\n",
    "En informatique, un langage de balisage permet d'enrichir l'information textuelle. L'inclusion de balises permet de changer l'apparence du document.\n",
    "\n",
    "Un langage de balisage est appelé **markup language** en anglais.  \n",
    "Le texte contient des **balises** spéciales (=markup) pour formatter le texte."
   ]
  },
  {
   "cell_type": "markdown",
   "id": "opening-prerequisite",
   "metadata": {},
   "source": [
    "### HTML\n",
    "Le plus célèbre des langages à balises est **HTML**. C'est le langage dans lequel les pages internet sont écrites. D'ailleurs le **ML** dans HTML est pour **Hyper-Text Markup Langage**\n",
    "\n",
    "Voici un exemple de code HTML utilisant la balise `<img>`\n",
    "\n",
    "    <img src='https://upload.wikimedia.org/wikipedia/commons/thumb/4/48/Markdown-mark.svg/200px-Markdown-mark.svg.png'>\n",
    "    \n",
    "qui insère cette image dont l'originale se trouve sur Wikipédia.\n",
    "\n",
    "<img src='https://upload.wikimedia.org/wikipedia/commons/thumb/4/48/Markdown-mark.svg/200px-Markdown-mark.svg.png'>\n",
    "\n",
    "et un autre exemple utilisant la balise `<a>`\n",
    "\n",
    "    <a href='https://fr.wikipedia.org/wiki/Hypertext_Markup_Language'>HTML sur Wikipédia</>\n",
    "\n",
    "qui produit cet hyperlien\n",
    "\n",
    " <a href='https://fr.wikipedia.org/wiki/Hypertext_Markup_Language'>HTML sur Wikipédia</a>\n",
    "    "
   ]
  },
  {
   "cell_type": "markdown",
   "id": "present-wrapping",
   "metadata": {},
   "source": [
    "### XML\n",
    "C'est l'abréviation de **eXtendend Markup Langage**. Ce langage est utilisé par exemple pour le nouveau format des fichiers Microsoft Office:\n",
    "\n",
    "- Word (.docx)\n",
    "- Excel (.xlsx)\n",
    "- PowerPoint (.pptx)\n",
    "\n",
    "Ou le **X** dans l'extension est pour **Open XML**"
   ]
  },
  {
   "cell_type": "markdown",
   "id": "agricultural-headquarters",
   "metadata": {},
   "source": [
    "### LaTeX\n",
    "C'est un langage à balises pour représenter des formules mathématiques. Ce langage est très apprécié par les mathématiciens et scientifiques. Votre support de cours et vos exercices de maths ont certainement été écrits avec LaTeX.\n",
    "\n",
    "Voici un exemple de code en LateX\n",
    "\n",
    "    $$ c = \\sqrt[2]{a^2 + b^2} $$\n",
    "    \n",
    "qui produit\n",
    "\n",
    "$$ c = \\sqrt{a^2 + b^2} $$"
   ]
  },
  {
   "cell_type": "markdown",
   "id": "passing-length",
   "metadata": {},
   "source": [
    "### Markdown\n",
    "\n",
    "Le mot **Markdown** est un jeu de mots de **Markup**.  \n",
    "Le mot **down** (bas, inférieur) se veut pour désigner une version *simplifiée* d'un langage Markup.\n",
    "\n",
    "Souvent un ou deux symboles suffisent déjà pour la mise en format."
   ]
  },
  {
   "cell_type": "markdown",
   "id": "suitable-button",
   "metadata": {},
   "source": [
    "## Titres\n",
    "\n",
    "Vous pouvez créer des titres avec la balise hashtag `#` (**alt+3** sur Mac).\n",
    "\n",
    "    # Titre 1\n",
    "    ## Titre 2 \n",
    "    ### Titre 3\n",
    " \n",
    "ce qui produit ceci\n",
    "    \n",
    "![](img/md1.png)"
   ]
  },
  {
   "cell_type": "markdown",
   "id": "rotary-olympus",
   "metadata": {},
   "source": [
    "## Styles\n",
    "\n",
    "Les balises \n",
    "\n",
    "* astérisque simple (`*`)\n",
    "* astérisque double (`**`)\n",
    "* apostrophe arrière (`` ` `` )\n",
    "\n",
    "entourent un ou plusieurs mots pour créer les styles\n",
    "\n",
    "    *italique*, **gras** et `code`\n",
    "    \n",
    "en produisant ce résultat\n",
    "\n",
    "*italique*, **gras** et `code`"
   ]
  },
  {
   "cell_type": "markdown",
   "id": "adequate-modeling",
   "metadata": {},
   "source": [
    "## Listes\n",
    "\n",
    "Le code Markdown\n",
    "\n",
    "    - item\n",
    "    - item\n",
    "    \n",
    "produit une liste à puces\n",
    "\n",
    "- item\n",
    "- item\n",
    "\n",
    "Le code Markdown\n",
    "\n",
    "    1. item\n",
    "    1. item\n",
    "    \n",
    "produit une liste numérotée\n",
    "\n",
    "1. item\n",
    "1. item"
   ]
  },
  {
   "cell_type": "markdown",
   "id": "enormous-prerequisite",
   "metadata": {},
   "source": [
    "## Insérer un hyperlien\n",
    "\n",
    "Pour insérer un hyperlien utilisez le code\n",
    "\n",
    "    [Lien vers le site Python](https://www.python.org)\n",
    "\n",
    "ce qui produit\n",
    "\n",
    "[Lien vers le site Python](https://www.python.org)\n",
    "    "
   ]
  },
  {
   "cell_type": "markdown",
   "id": "pleasant-egypt",
   "metadata": {},
   "source": [
    "## Insérer une image\n",
    "\n",
    "Pour insérer une image utilisez le code\n",
    "\n",
    "    ![](img/html5_logo.png)\n",
    "    \n",
    " qui produit ceci\n",
    "\n",
    "![logo](img/html5_logo.png)\n",
    "\n",
    "Le chemin vers l'image peut être \n",
    "- un lien local (une image dans le même dossier que votre notebook)\n",
    "- une URL (une adresse complète sur internet)"
   ]
  },
  {
   "cell_type": "markdown",
   "id": "subtle-burke",
   "metadata": {},
   "source": [
    "## Insérer un GIF animé\n",
    "\n",
    "Sur le site [GIPHY](https://giphy.com) vous trouvez une vaste quantité d’images animées.\n",
    "\n",
    "Pour insérer un hyperlien utilisez le code\n",
    "\n",
    "    ![](url)\n",
    "\n",
    "Pour insérer les crochets `[]` utilisez alt+5/6\n",
    "\n",
    "Par exemple\n",
    "\n",
    "    ![](https://media.giphy.com/media/VekcnHOwOI5So/giphy-downsized.gif)\n",
    "\n",
    "ce qui produit\n",
    "\n",
    "![](https://media.giphy.com/media/VekcnHOwOI5So/giphy-downsized.gif)"
   ]
  },
  {
   "cell_type": "code",
   "execution_count": null,
   "id": "based-mystery",
   "metadata": {},
   "outputs": [],
   "source": []
  }
 ],
 "metadata": {
  "kernelspec": {
   "display_name": "Python 3",
   "language": "python",
   "name": "python3"
  },
  "language_info": {
   "codemirror_mode": {
    "name": "ipython",
    "version": 3
   },
   "file_extension": ".py",
   "mimetype": "text/x-python",
   "name": "python",
   "nbconvert_exporter": "python",
   "pygments_lexer": "ipython3",
   "version": "3.7.9"
  }
 },
 "nbformat": 4,
 "nbformat_minor": 5
}
