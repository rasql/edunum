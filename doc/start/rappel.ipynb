{
 "cells": [
  {
   "cell_type": "markdown",
   "id": "norwegian-labor",
   "metadata": {},
   "source": [
    "# Rappel\n",
    "Ce chapitre résume les concepts comme:\n",
    "- les raccourcis Jupyter Lab\n",
    "- les balises Markdown\n",
    "- les mot-clés Python"
   ]
  },
  {
   "cell_type": "markdown",
   "id": "exempt-september",
   "metadata": {},
   "source": [
    "## Lancer Jupyter Lab\n",
    "\n",
    "- Dans Thonny, le menu **Outils > Ouvrir la console du système…**\n",
    "- Dans la console, la commande `cd` (+retour)  \n",
    "- Ensuite, la commande `jupyter lab` (+ retour)"
   ]
  },
  {
   "cell_type": "markdown",
   "id": "arctic-criterion",
   "metadata": {},
   "source": [
    "## Caractères spéciaux\n",
    "\n",
    "- hashtag `#` - alt+3\n",
    "- crochets `[]` - alt+5/6\n",
    "- accolades `{}` - alt+8/9\n",
    "- chevrons `<>`\n",
    "\n",
    "Les barres\n",
    "- barre oblique `/` maj+7\n",
    "- barre verticale `|` alt+7\n",
    "- barre oblique inversée `\\` alt+maj+7"
   ]
  },
  {
   "cell_type": "markdown",
   "id": "secure-controversy",
   "metadata": {},
   "source": [
    "## Insérer des emoji\n",
    "\n",
    "Raccourci: `ctrl+cmd+espace`\n",
    "\n",
    "![](emoji.png)"
   ]
  },
  {
   "cell_type": "markdown",
   "id": "liberal-federation",
   "metadata": {},
   "source": [
    "## Raccourcis Jupyter Lab\n",
    "Insérer une cellule\n",
    "\n",
    "- `A` en-dessus (Above)\n",
    "- `B` en-dessous (Below)\n",
    "\n",
    "Editer des cellules\n",
    "- `C` copier\n",
    "- `X` couper\n",
    "- `V` coller\n",
    "\n",
    "Choisir le style de cellule\n",
    "- `M` Markdown\n",
    "- `Y` Code\n",
    "- `R` Raw"
   ]
  },
  {
   "cell_type": "markdown",
   "id": "visible-officer",
   "metadata": {},
   "source": [
    "## Balises Markdown\n",
    "\n",
    "Styles\n",
    "- `**` pour **gras**\n",
    "- `*` pour *italique*\n",
    "- `` pour `code`\n",
    "\n",
    "Listes\n",
    "- `*` pour puces\n",
    "- `1.` pour numérotation\n",
    "\n",
    "Image et hyperlien\n",
    "- `![](image)`\n",
    "- `[texte](url)`"
   ]
  },
  {
   "cell_type": "markdown",
   "id": "major-child",
   "metadata": {},
   "source": [
    "## Instructions Python\n",
    "Cette section résume les instructions les plus importantes.  \n",
    "Toutes les instructions sont fonctionnels."
   ]
  },
  {
   "cell_type": "markdown",
   "id": "juvenile-exposure",
   "metadata": {},
   "source": [
    "### Affectation\n",
    "\n",
    "Une affectation a la forme\n",
    "\n",
    "    var = valeur\n",
    "    var = expression\n",
    "    \n",
    "Par exemple"
   ]
  },
  {
   "cell_type": "code",
   "execution_count": 17,
   "id": "streaming-dividend",
   "metadata": {},
   "outputs": [],
   "source": [
    "a = 12\n",
    "b = a + 5"
   ]
  },
  {
   "cell_type": "markdown",
   "id": "liquid-interpretation",
   "metadata": {},
   "source": [
    "La variable `compteur` est incrémentée de 1."
   ]
  },
  {
   "cell_type": "code",
   "execution_count": 28,
   "id": "interesting-affiliation",
   "metadata": {},
   "outputs": [],
   "source": [
    "compteur = 10\n",
    "compteur = compteur + 1"
   ]
  },
  {
   "cell_type": "markdown",
   "id": "proud-pride",
   "metadata": {},
   "source": [
    "Ceci peut être écrit plus compact avec une **affectation augmentée**."
   ]
  },
  {
   "cell_type": "code",
   "execution_count": 29,
   "id": "tribal-sailing",
   "metadata": {},
   "outputs": [
    {
     "name": "stdout",
     "output_type": "stream",
     "text": [
      "12\n"
     ]
    }
   ],
   "source": [
    "compteur += 1\n",
    "print(compteur)"
   ]
  },
  {
   "cell_type": "markdown",
   "id": "random-prison",
   "metadata": {},
   "source": [
    "### Boucle `for`\n",
    "\n",
    "La variable `i` itère sur une **plage**."
   ]
  },
  {
   "cell_type": "code",
   "execution_count": 5,
   "id": "viral-resolution",
   "metadata": {},
   "outputs": [
    {
     "name": "stdout",
     "output_type": "stream",
     "text": [
      "0\n",
      "1\n",
      "2\n"
     ]
    }
   ],
   "source": [
    "for i in range(3):\n",
    "    print(i)"
   ]
  },
  {
   "cell_type": "markdown",
   "id": "acoustic-speed",
   "metadata": {},
   "source": [
    "La variable `x` itère sur une **liste**."
   ]
  },
  {
   "cell_type": "code",
   "execution_count": 7,
   "id": "loaded-bunch",
   "metadata": {},
   "outputs": [
    {
     "name": "stdout",
     "output_type": "stream",
     "text": [
      "egg\n",
      "ham\n",
      "spam\n"
     ]
    }
   ],
   "source": [
    "for x in ['egg', 'ham', 'spam']:\n",
    "    print(x)"
   ]
  },
  {
   "cell_type": "markdown",
   "id": "operating-provision",
   "metadata": {},
   "source": [
    "La variable `c` itère sur une **chaîne** de caractères."
   ]
  },
  {
   "cell_type": "code",
   "execution_count": 9,
   "id": "possible-edinburgh",
   "metadata": {},
   "outputs": [
    {
     "name": "stdout",
     "output_type": "stream",
     "text": [
      "h\n",
      "a\n",
      "m\n"
     ]
    }
   ],
   "source": [
    "for c in 'ham':\n",
    "    print(c)"
   ]
  },
  {
   "cell_type": "markdown",
   "id": "rotary-illustration",
   "metadata": {},
   "source": [
    "### Boucle `while`\n",
    "La boucle `while` itère tandis qu'une condition est vrai"
   ]
  },
  {
   "cell_type": "code",
   "execution_count": 11,
   "id": "portuguese-coordinator",
   "metadata": {},
   "outputs": [
    {
     "name": "stdout",
     "output_type": "stream",
     "text": [
      "3\n",
      "2\n",
      "1\n"
     ]
    }
   ],
   "source": [
    "n = 3\n",
    "while n > 0:\n",
    "    print(n)\n",
    "    n = n-1"
   ]
  },
  {
   "cell_type": "markdown",
   "id": "unlike-trade",
   "metadata": {},
   "source": [
    "### Instruction conditionnelle\n",
    "\n",
    "Une instruction conditionnel fait un **choix entre plusieurs options**, basé sur un test."
   ]
  },
  {
   "cell_type": "code",
   "execution_count": 12,
   "id": "exact-tract",
   "metadata": {},
   "outputs": [
    {
     "name": "stdout",
     "output_type": "stream",
     "text": [
      "négatif\n"
     ]
    }
   ],
   "source": [
    "n = -2\n",
    "\n",
    "if n > 0:\n",
    "    print('positif')\n",
    "elif n < 0:\n",
    "    print('négatif')\n",
    "else:\n",
    "    print('zero')"
   ]
  },
  {
   "cell_type": "markdown",
   "id": "occupied-anatomy",
   "metadata": {},
   "source": [
    "### Fonction\n",
    "\n",
    "**Définition** d'une fonction avec deux arguments et valeur de retour."
   ]
  },
  {
   "cell_type": "code",
   "execution_count": 2,
   "id": "latest-underwear",
   "metadata": {},
   "outputs": [],
   "source": [
    "def f(a, b):\n",
    "    c = a + b\n",
    "    return c"
   ]
  },
  {
   "cell_type": "markdown",
   "id": "covered-desire",
   "metadata": {},
   "source": [
    "**Appel** d'une fonction avec deux arguments et valeur de retour."
   ]
  },
  {
   "cell_type": "code",
   "execution_count": 3,
   "id": "everyday-raising",
   "metadata": {},
   "outputs": [
    {
     "data": {
      "text/plain": [
       "3"
      ]
     },
     "execution_count": 3,
     "metadata": {},
     "output_type": "execute_result"
    }
   ],
   "source": [
    "f(1, 2)"
   ]
  }
 ],
 "metadata": {
  "kernelspec": {
   "display_name": "Python 3",
   "language": "python",
   "name": "python3"
  },
  "language_info": {
   "codemirror_mode": {
    "name": "ipython",
    "version": 3
   },
   "file_extension": ".py",
   "mimetype": "text/x-python",
   "name": "python",
   "nbconvert_exporter": "python",
   "pygments_lexer": "ipython3",
   "version": "3.7.9"
  }
 },
 "nbformat": 4,
 "nbformat_minor": 5
}
