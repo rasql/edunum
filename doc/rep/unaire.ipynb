{
 "cells": [
  {
   "cell_type": "markdown",
   "metadata": {},
   "source": [
    "# Système unaire\n",
    "Un système **unaire** représente les entiers naturels avec un seul symbole.  \n",
    "\n",
    "![](img/unaire.png)\n",
    "\n",
    "C'est le système utilisé par le prisonnier dans sa cellule, ou Robinson sur son île, pour compter les jours.  \n",
    "Les Allemands l'appellent *Bierdeckelnotation*, et l'utilisent pour compter les bières au bistro.\n",
    "\n",
    "Dans l'antiquité on comptait les soldats de la façon suivante. \n",
    "Chaque soldat prenait un caillou et le mettait sur un tas.\n",
    "Le tas contenait alors l'équivalent en caillou du nombre de soldats.\n",
    "\n",
    "Le mot **calcul** vient d'ailleurs de mot *calculus*, signifiant *petit caillou* en latin."
   ]
  },
  {
   "cell_type": "markdown",
   "metadata": {},
   "source": [
    "## Représenter un nombre\n",
    "\n",
    "Nous pouvons choisir n'importe quel symbole pour représenter un nombre. Par exemple le symbole 🍎:\n",
    "\n",
    "- 3 peut être représenté comme 🍎🍎🍎    \n",
    "- 5 comme 🍎🍎🍎🍎🍎.\n",
    "- L'absence de symboles représente le nombre zéro.\n",
    "\n",
    "Voici donc la représentation des nombres 0, 1, et 3."
   ]
  },
  {
   "cell_type": "code",
   "execution_count": 29,
   "metadata": {},
   "outputs": [],
   "source": [
    "a = ''\n",
    "b = '🍎'\n",
    "c = '🍎🍎🍎'"
   ]
  },
  {
   "cell_type": "markdown",
   "metadata": {},
   "source": [
    "## Comparaison\n",
    "\n",
    "En Python, les opérateurs de comparaison numériques (`>`, `>=`, `<`, ...) sont aussi valides pour la comparaison de nombres sous forme unaire.\n",
    "\n",
    "C'est dû au fait que Python permet de comparer des chaines de caractères. Le résultat de la comparaison est basé sur l'ordre alphabétique et correspond à l'ordre utilisé dans un dictionnaire. Un mot court commençant avec les mêmes lettres apparait avant le mot plus long."
   ]
  },
  {
   "cell_type": "code",
   "execution_count": 1,
   "metadata": {},
   "outputs": [
    {
     "data": {
      "text/plain": [
       "True"
      ]
     },
     "execution_count": 1,
     "metadata": {},
     "output_type": "execute_result"
    }
   ],
   "source": [
    "'🍎🍎' > '🍎'"
   ]
  },
  {
   "cell_type": "markdown",
   "metadata": {},
   "source": [
    "Et encore un exemple d'égalité (`==`)"
   ]
  },
  {
   "cell_type": "code",
   "execution_count": 7,
   "metadata": {},
   "outputs": [
    {
     "data": {
      "text/plain": [
       "False"
      ]
     },
     "execution_count": 7,
     "metadata": {},
     "output_type": "execute_result"
    }
   ],
   "source": [
    "'🍎🍎🍎' == '🍎'"
   ]
  },
  {
   "cell_type": "markdown",
   "metadata": {},
   "source": [
    "et l'inégalité (`!=`)"
   ]
  },
  {
   "cell_type": "code",
   "execution_count": 5,
   "metadata": {},
   "outputs": [
    {
     "data": {
      "text/plain": [
       "True"
      ]
     },
     "execution_count": 5,
     "metadata": {},
     "output_type": "execute_result"
    }
   ],
   "source": [
    "'🍎' != '🍎🍎'"
   ]
  },
  {
   "cell_type": "markdown",
   "metadata": {},
   "source": [
    "## Conversion\n",
    "\n",
    "Pour faire la conversion entre les deux systèmes, nous définissons les fonctions:\n",
    "\n",
    "- `unaire(d)` pour transformer un décimal `d` en unaire\n",
    "- `decimal(u)` pour transformer un unaire `u` en décimal"
   ]
  },
  {
   "cell_type": "markdown",
   "metadata": {},
   "source": [
    "Nous utilisons l'opérateur de répétition `*` pour créer la séquence unaire."
   ]
  },
  {
   "cell_type": "code",
   "execution_count": 8,
   "metadata": {},
   "outputs": [],
   "source": [
    "def unaire(d):\n",
    "    return '🍎' * d"
   ]
  },
  {
   "cell_type": "markdown",
   "metadata": {},
   "source": [
    "Voici donc la représentation unaire de 5:"
   ]
  },
  {
   "cell_type": "code",
   "execution_count": 9,
   "metadata": {},
   "outputs": [
    {
     "data": {
      "text/plain": [
       "'🍎🍎🍎🍎🍎'"
      ]
     },
     "execution_count": 9,
     "metadata": {},
     "output_type": "execute_result"
    }
   ],
   "source": [
    "unaire(5)"
   ]
  },
  {
   "cell_type": "markdown",
   "metadata": {},
   "source": [
    "Pour l'autre sens nous utilisons la fonction `len()` pour trouver la représentation décimale."
   ]
  },
  {
   "cell_type": "code",
   "execution_count": 10,
   "metadata": {},
   "outputs": [],
   "source": [
    "def decimal(u):\n",
    "    return len(u)"
   ]
  },
  {
   "cell_type": "markdown",
   "metadata": {},
   "source": [
    "Voici donc la représentation décimale de `🍎🍎🍎`:\n"
   ]
  },
  {
   "cell_type": "code",
   "execution_count": 11,
   "metadata": {},
   "outputs": [
    {
     "data": {
      "text/plain": [
       "3"
      ]
     },
     "execution_count": 11,
     "metadata": {},
     "output_type": "execute_result"
    }
   ],
   "source": [
    "decimal('🍎🍎🍎')"
   ]
  },
  {
   "cell_type": "markdown",
   "metadata": {},
   "source": [
    "## Incrémentation\n",
    "Un des algorithmes élémentaires est celui qui donne le **successeur à un nombre**. On parle aussi d'incrémentation et nous pouvons la définir comme"
   ]
  },
  {
   "cell_type": "code",
   "execution_count": 12,
   "metadata": {},
   "outputs": [],
   "source": [
    "def inc(u):\n",
    "    return u + '🍎'"
   ]
  },
  {
   "cell_type": "markdown",
   "metadata": {},
   "source": [
    "Donc le successeur de 2 est 3."
   ]
  },
  {
   "cell_type": "code",
   "execution_count": 13,
   "metadata": {},
   "outputs": [
    {
     "data": {
      "text/plain": [
       "'🍎🍎🍎'"
      ]
     },
     "execution_count": 13,
     "metadata": {},
     "output_type": "execute_result"
    }
   ],
   "source": [
    "inc('🍎🍎')"
   ]
  },
  {
   "cell_type": "markdown",
   "metadata": {},
   "source": [
    "## Décrémentation\n",
    "La **décrémentation** est effectuée par la suppression du dernier symbole et trouve le prédécesseur d'un nombre."
   ]
  },
  {
   "cell_type": "code",
   "execution_count": 15,
   "metadata": {},
   "outputs": [],
   "source": [
    "def dec(u):\n",
    "    return u[:-1]"
   ]
  },
  {
   "cell_type": "markdown",
   "metadata": {},
   "source": [
    "Notre algorithme calcule correctement le prédécesseur de 3 qui est 2."
   ]
  },
  {
   "cell_type": "code",
   "execution_count": 16,
   "metadata": {},
   "outputs": [
    {
     "data": {
      "text/plain": [
       "'🍎🍎'"
      ]
     },
     "execution_count": 16,
     "metadata": {},
     "output_type": "execute_result"
    }
   ],
   "source": [
    "dec('🍎🍎🍎')"
   ]
  },
  {
   "cell_type": "markdown",
   "metadata": {},
   "source": [
    "## Compter"
   ]
  },
  {
   "cell_type": "markdown",
   "metadata": {},
   "source": [
    "Nous pouvons maintenant définir un algorithme qui compte.  \n",
    "Ci-dessous nous mettons la variable `u` à zéro et incrémentons 5 fois."
   ]
  },
  {
   "cell_type": "code",
   "execution_count": 31,
   "metadata": {},
   "outputs": [
    {
     "name": "stdout",
     "output_type": "stream",
     "text": [
      "🍎\n",
      "🍎🍎\n",
      "🍎🍎🍎\n",
      "🍎🍎🍎🍎\n",
      "🍎🍎🍎🍎🍎\n"
     ]
    }
   ],
   "source": [
    "u = ''\n",
    "while u != '🍎🍎🍎🍎🍎':\n",
    "    u = inc(u)\n",
    "    print(u)"
   ]
  },
  {
   "cell_type": "markdown",
   "metadata": {},
   "source": [
    "Cet algorithme utilise uniquement les éléments\n",
    "\n",
    "- affectation `=`\n",
    "- la fonction `inc()`\n",
    "- la boucle `while`"
   ]
  },
  {
   "cell_type": "markdown",
   "metadata": {},
   "source": [
    "## Addition\n",
    "L'addition se traduit par la concaténation de deux séquences qui représentent un nombre. Ici l'opérateur `+` est l'opérateur de concaténation de deux chaînes."
   ]
  },
  {
   "cell_type": "code",
   "execution_count": 18,
   "metadata": {},
   "outputs": [],
   "source": [
    "def add(a, b):\n",
    "    return a + b"
   ]
  },
  {
   "cell_type": "markdown",
   "metadata": {},
   "source": [
    "L'addition de 2 et 3 et donne le résultat 5."
   ]
  },
  {
   "cell_type": "code",
   "execution_count": 19,
   "metadata": {},
   "outputs": [
    {
     "data": {
      "text/plain": [
       "'🍎🍎🍎🍎🍎'"
      ]
     },
     "execution_count": 19,
     "metadata": {},
     "output_type": "execute_result"
    }
   ],
   "source": [
    "add('🍎🍎', '🍎🍎🍎')"
   ]
  },
  {
   "cell_type": "markdown",
   "metadata": {},
   "source": [
    "## Soustraction\n",
    "La soustraction se traduit par la suppression d'un nombre de caractères correspondant au deuxième nombre. \n",
    "\n",
    "En Python nous utilison l'opérateur de tranche `[m:n]`\n",
    " pour enlever un certain nombre de symboles."
   ]
  },
  {
   "cell_type": "code",
   "execution_count": 20,
   "metadata": {},
   "outputs": [],
   "source": [
    "def sub(a, b):\n",
    "    return a[:-len(b)]"
   ]
  },
  {
   "cell_type": "code",
   "execution_count": 21,
   "metadata": {},
   "outputs": [
    {
     "data": {
      "text/plain": [
       "'🍎🍎🍎'"
      ]
     },
     "execution_count": 21,
     "metadata": {},
     "output_type": "execute_result"
    }
   ],
   "source": [
    "sub('🍎🍎🍎🍎🍎', '🍎🍎')"
   ]
  },
  {
   "cell_type": "markdown",
   "metadata": {},
   "source": [
    "Notre système unaire ne peut pas représenter des nombres négatifs. Or la soustraction pourrait donner des résultats négatifs. \n",
    "Que fait notre fonction `sub` si le résultat donnerait un nombre négatif?\n",
    "Un message d'erreur serait une possibilité, mais en occurrence la fonction retourne tout simplement 0."
   ]
  },
  {
   "cell_type": "code",
   "execution_count": 22,
   "metadata": {},
   "outputs": [
    {
     "data": {
      "text/plain": [
       "''"
      ]
     },
     "execution_count": 22,
     "metadata": {},
     "output_type": "execute_result"
    }
   ],
   "source": [
    "sub('🍎🍎', '🍎🍎🍎🍎🍎')"
   ]
  },
  {
   "cell_type": "markdown",
   "metadata": {},
   "source": [
    "## Multiplication\n",
    "La multiplication de deux entiers naturels s'effectue par substitution de chaque symbole de la séquence du premier par une copie de la séquence du deuxième."
   ]
  },
  {
   "cell_type": "code",
   "execution_count": 23,
   "metadata": {},
   "outputs": [],
   "source": [
    "def mul(a, b):\n",
    "    return b * len(a)"
   ]
  },
  {
   "cell_type": "markdown",
   "metadata": {},
   "source": [
    "La multiplication de 2 et 3 donne correctement 6 comme résultat."
   ]
  },
  {
   "cell_type": "code",
   "execution_count": 24,
   "metadata": {},
   "outputs": [
    {
     "data": {
      "text/plain": [
       "'🍎🍎🍎🍎🍎🍎'"
      ]
     },
     "execution_count": 24,
     "metadata": {},
     "output_type": "execute_result"
    }
   ],
   "source": [
    "mul('🍎🍎', '🍎🍎🍎')"
   ]
  },
  {
   "cell_type": "markdown",
   "metadata": {},
   "source": [
    "## Division\n",
    "La division se traduit par la soustraction successive de `b` de `a`. \n",
    "Le nombre de soustractions `q` est le `quotient`. Ce qui reste de `a`\n",
    " est le **reste** de la division.\n",
    "\n",
    "La fonction retourne **quotient** et **reste**"
   ]
  },
  {
   "cell_type": "code",
   "execution_count": 25,
   "metadata": {},
   "outputs": [],
   "source": [
    "def div(a, b):\n",
    "    q = ''\n",
    "    while a > b:\n",
    "        a = sub(a, b)\n",
    "        q = inc(q)\n",
    "    return q, a"
   ]
  },
  {
   "cell_type": "markdown",
   "metadata": {},
   "source": [
    "Donc 7 divisé par 2 donne 3 (🍎🍎🍎) comme quotient et 1 (🍎) comme reste."
   ]
  },
  {
   "cell_type": "code",
   "execution_count": 32,
   "metadata": {},
   "outputs": [
    {
     "data": {
      "text/plain": [
       "('🍎🍎🍎', '🍎')"
      ]
     },
     "execution_count": 32,
     "metadata": {},
     "output_type": "execute_result"
    }
   ],
   "source": [
    "div('🍎🍎🍎🍎🍎🍎🍎', '🍎🍎')"
   ]
  },
  {
   "cell_type": "markdown",
   "metadata": {},
   "source": [
    "## Table de multiplication\n",
    "\n",
    "Nous sommes maintenant capable de définir un algorithme qui affiche le livret de 3 affiché pour 1 à 7."
   ]
  },
  {
   "cell_type": "code",
   "execution_count": 28,
   "metadata": {},
   "outputs": [
    {
     "name": "stdout",
     "output_type": "stream",
     "text": [
      "🍎🍎🍎\n",
      "🍎🍎🍎🍎🍎🍎\n",
      "🍎🍎🍎🍎🍎🍎🍎🍎🍎\n",
      "🍎🍎🍎🍎🍎🍎🍎🍎🍎🍎🍎🍎\n",
      "🍎🍎🍎🍎🍎🍎🍎🍎🍎🍎🍎🍎🍎🍎🍎\n",
      "🍎🍎🍎🍎🍎🍎🍎🍎🍎🍎🍎🍎🍎🍎🍎🍎🍎🍎\n",
      "🍎🍎🍎🍎🍎🍎🍎🍎🍎🍎🍎🍎🍎🍎🍎🍎🍎🍎🍎🍎🍎\n"
     ]
    }
   ],
   "source": [
    "u = ''\n",
    "while u < '🍎🍎🍎🍎🍎🍎🍎':\n",
    "    u = inc(u)\n",
    "    a = mul(u, '🍎🍎🍎')\n",
    "    print(a)"
   ]
  },
  {
   "cell_type": "code",
   "execution_count": null,
   "metadata": {},
   "outputs": [],
   "source": []
  }
 ],
 "metadata": {
  "kernelspec": {
   "display_name": "Python 3",
   "language": "python",
   "name": "python3"
  },
  "language_info": {
   "codemirror_mode": {
    "name": "ipython",
    "version": 3
   },
   "file_extension": ".py",
   "mimetype": "text/x-python",
   "name": "python",
   "nbconvert_exporter": "python",
   "pygments_lexer": "ipython3",
   "version": "3.7.9"
  }
 },
 "nbformat": 4,
 "nbformat_minor": 4
}
