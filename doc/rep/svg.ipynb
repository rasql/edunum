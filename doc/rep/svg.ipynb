{
 "cells": [
  {
   "cell_type": "markdown",
   "id": "consistent-walker",
   "metadata": {},
   "source": [
    "# Graphique vectoriel\n",
    "\n",
    "Le **Scalable Vector Graphics** (graphique vectoriel adaptable) permet de décrire des graphiques vectoriels.\n",
    "\n",
    "Un graphique vectoriel décrit des objets (lignes, cercles, rectangles, polygones) de par leur paramètres et non pas par des pixels. \n",
    "\n",
    "A partir de la description paramétrique, les pixels sont calculé à chaque fois. Ceci permet une **résolution maximum** pour chaque échelle d'agrandissement.\n",
    "\n",
    "Les avantages:\n",
    "- une image SVG peut être édité avec un éditeur de text\n",
    "- pas de perte de qualité en agrandissant\n",
    "- standard ouvert"
   ]
  },
  {
   "cell_type": "markdown",
   "id": "floating-counter",
   "metadata": {},
   "source": [
    "## Cercle\n",
    "\n",
    "La balise `<svg>` indique le début de code SVG. \n",
    "Il est terminé par la balise `<\\svg>`\n",
    "\n",
    "- `r` désigne le rayon\n",
    "- `cx` et `cy` sont les coordonnées du centre. Par défaut à (0, 0)\n",
    "- `fill` couleur de remplissage\n",
    "\n",
    "Le contour est défini par\n",
    "- `stroke` couleur du contour\n",
    "- `stroke-width` épaisseur du contour"
   ]
  },
  {
   "cell_type": "code",
   "execution_count": 40,
   "id": "simplified-outside",
   "metadata": {},
   "outputs": [
    {
     "data": {
      "text/html": [
       "<svg>\n",
       "<circle r='100' stroke='green' stroke-width='4' fill='yellow' />\n",
       "<circle cx='150' cy='50' r='40' stroke='green' \n",
       "    stroke-width='4' fill='yellow' />\n",
       "<svg>\n"
      ],
      "text/plain": [
       "<IPython.core.display.HTML object>"
      ]
     },
     "metadata": {},
     "output_type": "display_data"
    }
   ],
   "source": [
    "%%html\n",
    "<svg>\n",
    "<circle r='100' stroke='green' stroke-width='4' fill='yellow' />\n",
    "<circle cx='150' cy='50' r='40' stroke='green' \n",
    "    stroke-width='4' fill='yellow' />\n",
    "<svg>"
   ]
  },
  {
   "cell_type": "markdown",
   "id": "corporate-generation",
   "metadata": {},
   "source": [
    "## Rectangle\n",
    "\n",
    "La balise `<rect>` définit un rectangle.\n",
    "\n",
    "- `width` largeur\n",
    "- `height` hauteur\n",
    "- `x` et `y` position"
   ]
  },
  {
   "cell_type": "code",
   "execution_count": 41,
   "id": "minimal-implement",
   "metadata": {},
   "outputs": [
    {
     "data": {
      "text/html": [
       "<svg>\n",
       "<rect width='100' height='80' x='0' y='70' fill='green' />\n",
       "<rect width='100' height='80' x='120' y='20' fill='red'\n",
       "    stroke-width='8' stroke='blue' />\n"
      ],
      "text/plain": [
       "<IPython.core.display.HTML object>"
      ]
     },
     "metadata": {},
     "output_type": "display_data"
    }
   ],
   "source": [
    "%%html\n",
    "<svg>\n",
    "<rect width='100' height='80' x='0' y='70' fill='green' />\n",
    "<rect width='100' height='80' x='120' y='20' fill='red'\n",
    "    stroke-width='8' stroke='blue' />"
   ]
  },
  {
   "cell_type": "markdown",
   "id": "signal-ebony",
   "metadata": {},
   "source": [
    "## Ellipse\n",
    "\n",
    "La balise <ellipse> définit une ellipse.\n",
    "\n",
    "- `rx` et `ry` désigne les deux rayons\n",
    "- `cx` et `cy` sont les coordonnées du centre. Par défaut à (0, 0)\n",
    "- `fill` couleur de remplissage"
   ]
  },
  {
   "cell_type": "code",
   "execution_count": 39,
   "id": "armed-terrain",
   "metadata": {},
   "outputs": [
    {
     "data": {
      "text/html": [
       "<svg>\n",
       "<ellipse cx='150' cy='60' rx='100' ry='50' stroke='purple' \n",
       "    stroke-width='6' fill='yellow' />\n",
       "<svg>\n"
      ],
      "text/plain": [
       "<IPython.core.display.HTML object>"
      ]
     },
     "metadata": {},
     "output_type": "display_data"
    }
   ],
   "source": [
    "%%html\n",
    "<svg>\n",
    "<ellipse cx='150' cy='60' rx='100' ry='50' stroke='purple' \n",
    "    stroke-width='6' fill='yellow' />\n",
    "<svg>"
   ]
  },
  {
   "cell_type": "markdown",
   "id": "fundamental-stephen",
   "metadata": {},
   "source": [
    "## Ligne\n",
    "\n",
    "La balise `<line>` définit une ligne.\n",
    "\n",
    "- `x1` et `y1` désigne le point de départ\n",
    "- `x2` et `y2` désigne le point d'arrivée"
   ]
  },
  {
   "cell_type": "code",
   "execution_count": 64,
   "id": "popular-break",
   "metadata": {},
   "outputs": [
    {
     "data": {
      "text/html": [
       "<svg>\n",
       "<line x1='30' y1='50' x2='300' y2='50' stroke='purple' stroke-width='6' />\n",
       "<line x1='100' y1='100' stroke='red' stroke-width='4' />\n",
       "<line x1='300' y2='100' stroke='green' />\n"
      ],
      "text/plain": [
       "<IPython.core.display.HTML object>"
      ]
     },
     "metadata": {},
     "output_type": "display_data"
    }
   ],
   "source": [
    "%%html\n",
    "<svg>\n",
    "<line x1='30' y1='50' x2='300' y2='50' stroke='purple' stroke-width='6' />\n",
    "<line x1='100' y1='100' stroke='red' stroke-width='4' />\n",
    "<line x1='300' y2='100' stroke='green' />"
   ]
  },
  {
   "cell_type": "markdown",
   "id": "sought-yugoslavia",
   "metadata": {},
   "source": [
    "## Polygone\n",
    "\n",
    "La balise `<polygon>` définit un polygone.\n",
    "\n",
    "- `points` désigne une liste de points `x1,y1 x2,y2`"
   ]
  },
  {
   "cell_type": "code",
   "execution_count": 78,
   "id": "dense-latino",
   "metadata": {},
   "outputs": [
    {
     "data": {
      "text/html": [
       "<svg>\n",
       "<polygon points='100,30 290,30 200,100' fill='pink' \n",
       "    stroke='purple' stroke-width='7' />\n"
      ],
      "text/plain": [
       "<IPython.core.display.HTML object>"
      ]
     },
     "metadata": {},
     "output_type": "display_data"
    }
   ],
   "source": [
    "%%html\n",
    "<svg>\n",
    "<polygon points='100,30 290,30 200,100' fill='pink' \n",
    "    stroke='purple' stroke-width='7' />\n"
   ]
  },
  {
   "cell_type": "markdown",
   "id": "accessible-champion",
   "metadata": {},
   "source": [
    "Cette balise peut également dessiner une étoile. "
   ]
  },
  {
   "cell_type": "code",
   "execution_count": 79,
   "id": "dramatic-header",
   "metadata": {},
   "outputs": [
    {
     "data": {
      "text/html": [
       "<svg height='200'>\n",
       " <polygon points='100,10 40,198 190,78 10,78 160,198'\n",
       "  style=\"fill:lime;stroke:purple;stroke-width:5;fill-rule:nonzero;\" />\n"
      ],
      "text/plain": [
       "<IPython.core.display.HTML object>"
      ]
     },
     "metadata": {},
     "output_type": "display_data"
    }
   ],
   "source": [
    "%%html\n",
    "<svg height='200'>\n",
    " <polygon points='100,10 40,198 190,78 10,78 160,198'\n",
    "  style=\"fill:lime;stroke:purple;stroke-width:5;fill-rule:nonzero;\" />"
   ]
  },
  {
   "cell_type": "markdown",
   "id": "unexpected-candle",
   "metadata": {},
   "source": [
    "Le paramètre `fill-rule:evenodd` crée une étoile creuse."
   ]
  },
  {
   "cell_type": "code",
   "execution_count": 80,
   "id": "proprietary-luxury",
   "metadata": {},
   "outputs": [
    {
     "data": {
      "text/html": [
       "<svg height='200'>\n",
       " <polygon points='100,10 40,198 190,78 10,78 160,198'\n",
       "  style=\"fill:lime;stroke:purple;stroke-width:5;fill-rule:evenodd;\" />\n"
      ],
      "text/plain": [
       "<IPython.core.display.HTML object>"
      ]
     },
     "metadata": {},
     "output_type": "display_data"
    }
   ],
   "source": [
    "%%html\n",
    "<svg height='200'>\n",
    " <polygon points='100,10 40,198 190,78 10,78 160,198'\n",
    "  style=\"fill:lime;stroke:purple;stroke-width:5;fill-rule:evenodd;\" />"
   ]
  },
  {
   "cell_type": "markdown",
   "id": "dramatic-dodge",
   "metadata": {},
   "source": [
    "## Texte\n",
    "\n",
    "La balise <text> définit un texte."
   ]
  },
  {
   "cell_type": "code",
   "execution_count": 87,
   "id": "acquired-affiliation",
   "metadata": {},
   "outputs": [
    {
     "data": {
      "text/html": [
       "<svg>\n",
       "<text x='80' y='40' fill='blue'>Un texte</text>\n",
       "<text x='20' y='120' fill='red' font-size='50'>I love SVG!</text>\n"
      ],
      "text/plain": [
       "<IPython.core.display.HTML object>"
      ]
     },
     "metadata": {},
     "output_type": "display_data"
    }
   ],
   "source": [
    "%%html\n",
    "<svg>\n",
    "<text x='80' y='40' fill='blue'>Un texte</text>\n",
    "<text x='20' y='120' fill='red' font-size='50'>I love SVG!</text>"
   ]
  },
  {
   "cell_type": "markdown",
   "id": "funky-retrieval",
   "metadata": {},
   "source": [
    "## Gradient linéaire\n",
    "\n",
    "La balise `<linearGradient>` permet de définir un gradient linéaire."
   ]
  },
  {
   "cell_type": "code",
   "execution_count": 90,
   "id": "armed-avenue",
   "metadata": {},
   "outputs": [
    {
     "data": {
      "text/html": [
       "<svg>\n",
       "<defs>\n",
       "    <linearGradient id=\"grad1\" x1=\"0%\" y1=\"0%\" x2=\"100%\" y2=\"0%\">\n",
       "      <stop offset=\"0%\" style=\"stop-color:rgb(255,255,0);stop-opacity:1\" />\n",
       "      <stop offset=\"100%\" style=\"stop-color:rgb(255,0,0);stop-opacity:1\" />\n",
       "    </linearGradient>\n",
       "</defs>\n",
       "<ellipse cx=\"200\" cy=\"70\" rx=\"85\" ry=\"55\" fill=\"url(#grad1)\" />\n"
      ],
      "text/plain": [
       "<IPython.core.display.HTML object>"
      ]
     },
     "metadata": {},
     "output_type": "display_data"
    }
   ],
   "source": [
    "%%html\n",
    "<svg>\n",
    "<defs>\n",
    "    <linearGradient id=\"grad1\" x1=\"0%\" y1=\"0%\" x2=\"100%\" y2=\"0%\">\n",
    "      <stop offset=\"0%\" style=\"stop-color:rgb(255,255,0);stop-opacity:1\" />\n",
    "      <stop offset=\"100%\" style=\"stop-color:rgb(255,0,0);stop-opacity:1\" />\n",
    "    </linearGradient>\n",
    "</defs>\n",
    "<ellipse cx=\"200\" cy=\"70\" rx=\"85\" ry=\"55\" fill=\"url(#grad1)\" />"
   ]
  },
  {
   "cell_type": "code",
   "execution_count": null,
   "id": "extensive-quarter",
   "metadata": {},
   "outputs": [],
   "source": []
  }
 ],
 "metadata": {
  "kernelspec": {
   "display_name": "Python 3",
   "language": "python",
   "name": "python3"
  },
  "language_info": {
   "codemirror_mode": {
    "name": "ipython",
    "version": 3
   },
   "file_extension": ".py",
   "mimetype": "text/x-python",
   "name": "python",
   "nbconvert_exporter": "python",
   "pygments_lexer": "ipython3",
   "version": "3.7.9"
  }
 },
 "nbformat": 4,
 "nbformat_minor": 5
}
