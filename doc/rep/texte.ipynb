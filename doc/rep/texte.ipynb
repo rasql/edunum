{
 "cells": [
  {
   "cell_type": "markdown",
   "id": "third-statement",
   "metadata": {},
   "source": [
    "# Texte"
   ]
  },
  {
   "cell_type": "markdown",
   "id": "illegal-magazine",
   "metadata": {},
   "source": [
    "## Représentation des caractères\n",
    "\n",
    "Les caractères sont représenté par des nombres. La fonction `ord` donne le nombre associé à un caractère. Le nombre qui correspond à la lettre **A** majuscule est 65."
   ]
  },
  {
   "cell_type": "code",
   "execution_count": 29,
   "id": "enclosed-society",
   "metadata": {},
   "outputs": [
    {
     "data": {
      "text/plain": [
       "65"
      ]
     },
     "execution_count": 29,
     "metadata": {},
     "output_type": "execute_result"
    }
   ],
   "source": [
    "ord('A')"
   ]
  },
  {
   "cell_type": "markdown",
   "id": "honest-fisher",
   "metadata": {},
   "source": [
    "La fonction inverse est `chr` et nous pouvons vérifier que la lettre correspondant au code suivante (66) est la lettre **B**."
   ]
  },
  {
   "cell_type": "code",
   "execution_count": 30,
   "id": "alert-blind",
   "metadata": {},
   "outputs": [
    {
     "data": {
      "text/plain": [
       "'B'"
      ]
     },
     "execution_count": 30,
     "metadata": {},
     "output_type": "execute_result"
    }
   ],
   "source": [
    "chr(66)"
   ]
  },
  {
   "cell_type": "markdown",
   "id": "intended-arrow",
   "metadata": {},
   "source": [
    "Voici les caractères usuels, qui vont de \n",
    "- 32 (espace)\n",
    "- 48-57 (chiffres)\n",
    "- 65-90 (lettres majuscules)\n",
    "- 97-122 (lettres minuscules)"
   ]
  },
  {
   "cell_type": "code",
   "execution_count": 31,
   "id": "unique-eating",
   "metadata": {},
   "outputs": [
    {
     "name": "stdout",
     "output_type": "stream",
     "text": [
      "32  \t48 0\t64 @\t80 P\t96 `\t112 p\t\n",
      "33 !\t49 1\t65 A\t81 Q\t97 a\t113 q\t\n",
      "34 \"\t50 2\t66 B\t82 R\t98 b\t114 r\t\n",
      "35 #\t51 3\t67 C\t83 S\t99 c\t115 s\t\n",
      "36 $\t52 4\t68 D\t84 T\t100 d\t116 t\t\n",
      "37 %\t53 5\t69 E\t85 U\t101 e\t117 u\t\n",
      "38 &\t54 6\t70 F\t86 V\t102 f\t118 v\t\n",
      "39 '\t55 7\t71 G\t87 W\t103 g\t119 w\t\n",
      "40 (\t56 8\t72 H\t88 X\t104 h\t120 x\t\n",
      "41 )\t57 9\t73 I\t89 Y\t105 i\t121 y\t\n",
      "42 *\t58 :\t74 J\t90 Z\t106 j\t122 z\t\n",
      "43 +\t59 ;\t75 K\t91 [\t107 k\t123 {\t\n",
      "44 ,\t60 <\t76 L\t92 \\\t108 l\t124 |\t\n",
      "45 -\t61 =\t77 M\t93 ]\t109 m\t125 }\t\n",
      "46 .\t62 >\t78 N\t94 ^\t110 n\t126 ~\t\n",
      "47 /\t63 ?\t79 O\t95 _\t111 o\t127 \t\n"
     ]
    }
   ],
   "source": [
    "for y in range(16):\n",
    "    for x in range(2, 8):\n",
    "        i = 16*x + y\n",
    "        print(i, chr(i), end='\\t')\n",
    "    print()"
   ]
  },
  {
   "cell_type": "markdown",
   "id": "sound-findings",
   "metadata": {},
   "source": [
    "## Emoji"
   ]
  },
  {
   "cell_type": "code",
   "execution_count": 32,
   "id": "scenic-smooth",
   "metadata": {},
   "outputs": [
    {
     "data": {
      "text/plain": [
       "128512"
      ]
     },
     "execution_count": 32,
     "metadata": {},
     "output_type": "execute_result"
    }
   ],
   "source": [
    "ord('😀')"
   ]
  },
  {
   "cell_type": "markdown",
   "id": "protective-classification",
   "metadata": {},
   "source": [
    "Nous pouvons imprimer les émojis suivants"
   ]
  },
  {
   "cell_type": "code",
   "execution_count": 33,
   "id": "treated-principal",
   "metadata": {},
   "outputs": [
    {
     "name": "stdout",
     "output_type": "stream",
     "text": [
      "😀😁😂😃😄😅😆😇😈😉😊😋😌😍😎😏😐😑😒😓"
     ]
    }
   ],
   "source": [
    "for i in range(20):\n",
    "    print(chr(128512 + i), end='')"
   ]
  },
  {
   "cell_type": "code",
   "execution_count": null,
   "id": "capital-above",
   "metadata": {},
   "outputs": [],
   "source": []
  },
  {
   "cell_type": "code",
   "execution_count": null,
   "id": "characteristic-radical",
   "metadata": {},
   "outputs": [],
   "source": []
  }
 ],
 "metadata": {
  "kernelspec": {
   "display_name": "Python 3",
   "language": "python",
   "name": "python3"
  },
  "language_info": {
   "codemirror_mode": {
    "name": "ipython",
    "version": 3
   },
   "file_extension": ".py",
   "mimetype": "text/x-python",
   "name": "python",
   "nbconvert_exporter": "python",
   "pygments_lexer": "ipython3",
   "version": "3.7.9"
  }
 },
 "nbformat": 4,
 "nbformat_minor": 5
}
