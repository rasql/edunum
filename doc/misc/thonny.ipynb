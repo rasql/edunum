{
 "cells": [
  {
   "cell_type": "markdown",
   "id": "stupid-sarah",
   "metadata": {},
   "source": [
    "# Thonny\n",
    "\n",
    "Thonny est un environnement de développment pour Python. \n",
    "Il comporte un éditeur de script et une console. \n",
    "Il installe un environnement virtuel pour Python et permet d'y installer facilement des modules supplémentaires."
   ]
  },
  {
   "cell_type": "markdown",
   "id": "modified-lyric",
   "metadata": {},
   "source": [
    "## Installation\n",
    "\n",
    "Il peut être téléchargé depuis [thonny.org](https://thonny.org)"
   ]
  },
  {
   "cell_type": "markdown",
   "id": "mounted-scholarship",
   "metadata": {},
   "source": [
    "## Installer des modules\n",
    "\n",
    "Pour installer des modules supplémentaires \n",
    "\n",
    "- choisissez le menu **Outils > Gérer les paquets...**\n",
    "- cherchez le module (par exemple jupyterlab)\n",
    "- cliquez sur le bouton **Rechercher sur PyPi**\n",
    "- cliquez sur le bouton **Installer**"
   ]
  },
  {
   "cell_type": "markdown",
   "id": "collected-fleece",
   "metadata": {},
   "source": [
    "## Lancer Jupyter Lab\n",
    "\n",
    "- installez le module jupyterlab\n",
    "- choisissez le menu **Outils > Ouvrir la console du système…**\n",
    "- lancez la commande `jupyter lab`"
   ]
  },
  {
   "cell_type": "markdown",
   "id": "swiss-appearance",
   "metadata": {},
   "source": [
    "### Ouvrir un notebook\n",
    "\n",
    "- cliquez sur l'icône dossier tout à gauche\n",
    "- sélectionnez votre fichier `.ipynb`\n",
    "- ouvrez-le\n",
    "- choisissez menu **Edit > Clear All Output**\n",
    "\n",
    "![](img/jupyter.png)"
   ]
  },
  {
   "cell_type": "markdown",
   "id": "champion-disability",
   "metadata": {},
   "source": [
    "### Le boutons\n",
    "\n",
    "![](img/jupyter_buttons.png)\n",
    "\n",
    "- ajouter une cellule en dessous (B = Below)\n",
    "- couper la cellule (X)\n",
    "- copier la cellule (C)\n",
    "- coller la cellule (V)\n",
    "- exécuter la cellule (maj + retour)"
   ]
  },
  {
   "cell_type": "markdown",
   "id": "mechanical-academy",
   "metadata": {},
   "source": [
    "### Les touches sur Mac\n",
    "\n",
    "- hashtag `#` (alt+3)\n",
    "- crochets `[]` (alt+5/6)\n",
    "- accolades `{}` (alt+8/9)\n",
    "- parenthèses `()` (maj+8/9)\n",
    "\n",
    "La barre\n",
    "- oblique `/` (maj+7)\n",
    "- verticale `|` (alt+7)\n",
    "- oblique inversée `\\` (alt+maj+7)\n"
   ]
  },
  {
   "cell_type": "markdown",
   "id": "secret-performance",
   "metadata": {},
   "source": [
    "### Télécharger un Jupyter notebook\n",
    "\n",
    "Pour télécharger un Jupyter notebook depuis ce site\n",
    "- placez la souris sur le 4e bouton\n",
    "- descendez vers .ipynb\n",
    "- téléchargez le notebook\n",
    "\n",
    "![](img/jb_buttons.png)"
   ]
  },
  {
   "cell_type": "markdown",
   "id": "permanent-scratch",
   "metadata": {},
   "source": [
    "## Modules utiles\n",
    "\n",
    "- jupyterlab\n",
    "- jupyter-book\n",
    "- ghp-import\n",
    "- matplotlib\n",
    "- pygame"
   ]
  },
  {
   "cell_type": "markdown",
   "id": "combined-alliance",
   "metadata": {},
   "source": [
    "## Mis à jour de pip\n",
    "\n",
    "    pip install --upgrade pip"
   ]
  },
  {
   "cell_type": "markdown",
   "id": "exposed-latitude",
   "metadata": {},
   "source": [
    "## Matplotlib\n",
    "\n",
    "- installez le module **matplotlib**\n",
    "\n",
    "Exemple de programme:\n",
    "\n",
    "```python\n",
    "import matplotlib.pyplot as plt\n",
    "import numpy as np\n",
    "\n",
    "t = np.linspace(0, 4*np.pi, 100)\n",
    "plt.plot(t, np.sin(t), label='sin(t)')\n",
    "plt.plot(t, np.cos(t), label='cos(t)')\n",
    "plt.legend()\n",
    "plt.grid()\n",
    "\n",
    "plt.show()\n",
    "```\n",
    "\n",
    "![plot](plot.png)"
   ]
  },
  {
   "cell_type": "code",
   "execution_count": null,
   "id": "recovered-validation",
   "metadata": {},
   "outputs": [],
   "source": []
  }
 ],
 "metadata": {
  "kernelspec": {
   "display_name": "Python 3",
   "language": "python",
   "name": "python3"
  },
  "language_info": {
   "codemirror_mode": {
    "name": "ipython",
    "version": 3
   },
   "file_extension": ".py",
   "mimetype": "text/x-python",
   "name": "python",
   "nbconvert_exporter": "python",
   "pygments_lexer": "ipython3",
   "version": "3.7.9"
  }
 },
 "nbformat": 4,
 "nbformat_minor": 5
}
