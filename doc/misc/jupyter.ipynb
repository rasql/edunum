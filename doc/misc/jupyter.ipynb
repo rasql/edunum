{
 "cells": [
  {
   "cell_type": "markdown",
   "metadata": {},
   "source": [
    "# Jupyter\n",
    "\n",
    "Ce document peut être édité dans \n",
    "- VS code\n",
    "- Jupyter Lab\n",
    "\n",
    "## Styles\n",
    "\n",
    "Les styles *italic*  **bold** et `code` peuvent être appliqués dans un text."
   ]
  },
  {
   "cell_type": "markdown",
   "metadata": {},
   "source": [
    "## Listes\n",
    "Les listes peuvent avoir plusieurs niveaux.\n",
    "\n",
    "### Listes à puces\n",
    "\n",
    "- item\n",
    "  - item\n",
    "     - item\n",
    "     - item\n",
    "\n",
    "### Listes numérotés\n",
    "\n",
    "1. item\n",
    "  1. item\n",
    "    1. item\n",
    "    1. item\n",
    "  1. item\n",
    "    1. item\n",
    "\n",
    "### Listes mélangées\n",
    "\n",
    "1. item\n",
    "  - item\n",
    "    1. item\n",
    "      - item"
   ]
  },
  {
   "cell_type": "markdown",
   "metadata": {},
   "source": [
    "## Blockquote\n",
    "\n",
    "Toutes les lignes sont précédées par `>`.\n",
    "\n",
    "> ### blockquote\n",
    "> text\n",
    "> - *italic* \n",
    "> - **bold** \n",
    "> - `code`"
   ]
  },
  {
   "cell_type": "markdown",
   "metadata": {},
   "source": [
    "## Texte littéral\n",
    "\n",
    "Toutes les lignes sont indentées.\n",
    "    \n",
    "    # text littéral\n",
    "    x = 'hello'\n",
    "    print(x)"
   ]
  },
  {
   "cell_type": "markdown",
   "metadata": {},
   "source": [
    "## Commandes magiques\n",
    "Les commandes magiques permettent d'appeler certaines commandes UNIX"
   ]
  },
  {
   "cell_type": "code",
   "execution_count": 2,
   "metadata": {},
   "outputs": [
    {
     "data": {
      "text/plain": [
       "'/Users/raphael/GitHub/edunum/doc/misc'"
      ]
     },
     "execution_count": 2,
     "metadata": {},
     "output_type": "execute_result"
    }
   ],
   "source": [
    "pwd"
   ]
  },
  {
   "cell_type": "code",
   "execution_count": 1,
   "metadata": {},
   "outputs": [
    {
     "name": "stdout",
     "output_type": "stream",
     "text": [
      "demo.txt       hello.py       jupyter.ipynb  markdown.md\n"
     ]
    }
   ],
   "source": [
    "%ls"
   ]
  },
  {
   "cell_type": "code",
   "execution_count": 15,
   "metadata": {},
   "outputs": [
    {
     "name": "stdout",
     "output_type": "stream",
     "text": [
      "total 56\n",
      "-rw-r--r--  1 raphael  staff     10 Jan 13 09:07 demo.txt\n",
      "-rw-r--r--  1 raphael  staff     29 Jan 10 08:09 hello.py\n",
      "-rw-r--r--@ 1 raphael  staff  15030 Jan 13 09:07 jupyter.ipynb\n",
      "-rw-r--r--  1 raphael  staff    867 Jan 13 08:39 markdown.md\n"
     ]
    }
   ],
   "source": [
    "ll"
   ]
  },
  {
   "cell_type": "code",
   "execution_count": 3,
   "metadata": {},
   "outputs": [
    {
     "name": "stdin",
     "output_type": "stream",
     "text": [
      "File `hello.py` exists. Overwrite (y/[N])?   y\n"
     ]
    },
    {
     "name": "stdout",
     "output_type": "stream",
     "text": [
      "'' was not found in history, as a file, url, nor in the user namespace.\n",
      "hello\n",
      "world\n"
     ]
    }
   ],
   "source": [
    "%save hello.py\n",
    "print('hello')\n",
    "print('world')"
   ]
  },
  {
   "cell_type": "markdown",
   "metadata": {},
   "source": [
    "## Images et liens\n",
    "    ![logo](../logo.png)\n",
    "![logo](../img/logo.png)"
   ]
  },
  {
   "cell_type": "markdown",
   "metadata": {},
   "source": [
    "## Hyper-liens\n",
    "    [notebook](https://jupyter-notebook.readthedocs.io)\n",
    "[notebook](https://jupyter-notebook.readthedocs.io)"
   ]
  },
  {
   "cell_type": "markdown",
   "metadata": {},
   "source": [
    "## Formules mathématiques\n",
    "\n",
    "Des expression en LaTeX peuvent être inséré dans le texte.\n",
    "- index `$a_2$` $a_2$\n",
    "- exposant `$a^2$` $a^2$\n",
    "\n",
    "Les accolades permettent le groupement de sous-expressions.\n",
    "- groupement `$a^{1+2}$` $a^{1+2}$\n",
    "- fraction `$\\frac{2}{x+1}$` $\\frac{2}{x+1}$\n",
    "\n",
    "Une formule LaTeX entourée par `$$` apparait plus grandes et centrée sur la page (*display mode*).\n",
    "\n",
    "`$$\\sum_{i=0}^n {n} = 0 + 1 + 2 + ... + n$$`\n",
    "\n",
    "$$\\sum_{i=0}^n {n} = 0 + 1 + 2 + ... + n$$\n",
    "\n"
   ]
  },
  {
   "cell_type": "markdown",
   "metadata": {},
   "source": [
    "## Exemple de code\n",
    "\n",
    "En Python\n",
    "\n",
    "```python\n",
    "print \"Hello World\"\n",
    "```\n",
    "\n",
    "En C\n",
    "\n",
    "```c\n",
    "for (i=0; i++, i<3)\n",
    "{\n",
    "    print(i)\n",
    "}\n",
    "```"
   ]
  },
  {
   "cell_type": "markdown",
   "metadata": {},
   "source": [
    "## Tableau\n",
    "\n",
    "Un tableau est centré avec des bandes alternés.\n",
    "\n",
    "| x     | not x |\n",
    "|-------|-------|\n",
    "| False | True  |\n",
    "| True  | False |"
   ]
  },
  {
   "cell_type": "markdown",
   "metadata": {},
   "source": [
    "## Charger un fichier\n",
    "\n",
    "Exécuter la commande `%load hello.py` ajoute le fichier dans la cellule et met la commande en commentaire."
   ]
  },
  {
   "cell_type": "code",
   "execution_count": 4,
   "metadata": {},
   "outputs": [],
   "source": [
    "# %load hello.py\n",
    "print('hello')\n",
    "print('world')"
   ]
  },
  {
   "cell_type": "markdown",
   "metadata": {},
   "source": [
    "Exécuter un fichier externe."
   ]
  },
  {
   "cell_type": "code",
   "execution_count": 5,
   "metadata": {},
   "outputs": [
    {
     "name": "stdout",
     "output_type": "stream",
     "text": [
      "hello\n",
      "world\n"
     ]
    }
   ],
   "source": [
    "%run hello.py"
   ]
  },
  {
   "cell_type": "markdown",
   "metadata": {},
   "source": [
    "## Code HTML"
   ]
  },
  {
   "cell_type": "code",
   "execution_count": 9,
   "metadata": {},
   "outputs": [
    {
     "data": {
      "text/html": [
       "<h1>Titre</h1>\n",
       "Text <b>bold</b> <i>italics</i> \n"
      ],
      "text/plain": [
       "<IPython.core.display.HTML object>"
      ]
     },
     "metadata": {},
     "output_type": "display_data"
    }
   ],
   "source": [
    "%%html\n",
    "<h1>Titre</h1>\n",
    "Text <b>bold</b> <i>italics</i> "
   ]
  },
  {
   "cell_type": "markdown",
   "metadata": {},
   "source": [
    "## File manipulation"
   ]
  },
  {
   "cell_type": "code",
   "execution_count": 16,
   "metadata": {},
   "outputs": [
    {
     "name": "stdout",
     "output_type": "stream",
     "text": [
      "Overwriting demo.txt\n"
     ]
    }
   ],
   "source": [
    "%%file demo.txt\n",
    "some text"
   ]
  },
  {
   "cell_type": "markdown",
   "metadata": {},
   "source": [
    "Checking if the file exists."
   ]
  },
  {
   "cell_type": "code",
   "execution_count": 20,
   "metadata": {},
   "outputs": [
    {
     "name": "stdout",
     "output_type": "stream",
     "text": [
      "demo.txt       hello.py       jupyter.ipynb  markdown.md\n"
     ]
    }
   ],
   "source": [
    "ls"
   ]
  },
  {
   "cell_type": "markdown",
   "metadata": {},
   "source": [
    "Append more text to the existing file."
   ]
  },
  {
   "cell_type": "code",
   "execution_count": 21,
   "metadata": {},
   "outputs": [
    {
     "name": "stdout",
     "output_type": "stream",
     "text": [
      "Appending to demo.txt\n"
     ]
    }
   ],
   "source": [
    "%%file -a demo.txt\n",
    "append text"
   ]
  },
  {
   "cell_type": "markdown",
   "metadata": {},
   "source": [
    "Display the new contents of the file."
   ]
  },
  {
   "cell_type": "code",
   "execution_count": 22,
   "metadata": {},
   "outputs": [
    {
     "name": "stdout",
     "output_type": "stream",
     "text": [
      "some text\n",
      "append text\n"
     ]
    }
   ],
   "source": [
    "cat demo.txt"
   ]
  },
  {
   "cell_type": "markdown",
   "metadata": {},
   "source": [
    "## Widgets\n",
    "\n",
    "Les widgets n'apparaissent pas dans ce Jupyter notebook, mais ils apparaissent dans le document HTML.\n",
    "Par contre le document HTML est statique et n'a pas de serveur Python."
   ]
  },
  {
   "cell_type": "code",
   "execution_count": 1,
   "metadata": {},
   "outputs": [],
   "source": [
    "from ipywidgets import interact, interactive, fixed, interact_manual\n",
    "import ipywidgets as widgets"
   ]
  },
  {
   "cell_type": "code",
   "execution_count": 2,
   "metadata": {},
   "outputs": [
    {
     "data": {
      "application/vnd.jupyter.widget-view+json": {
       "model_id": "23cf92b4b4994736b9e04abad26fc540",
       "version_major": 2,
       "version_minor": 0
      },
      "text/plain": [
       "IntSlider(value=0)"
      ]
     },
     "metadata": {},
     "output_type": "display_data"
    }
   ],
   "source": [
    "widgets.IntSlider()"
   ]
  },
  {
   "cell_type": "code",
   "execution_count": 3,
   "metadata": {},
   "outputs": [],
   "source": [
    "def f(x):\n",
    "    return x"
   ]
  },
  {
   "cell_type": "code",
   "execution_count": 4,
   "metadata": {},
   "outputs": [
    {
     "data": {
      "application/vnd.jupyter.widget-view+json": {
       "model_id": "27d82834f0b146d1bb963de6deacf918",
       "version_major": 2,
       "version_minor": 0
      },
      "text/plain": [
       "interactive(children=(IntSlider(value=10, description='x', max=30, min=-10), Output()), _dom_classes=('widget-…"
      ]
     },
     "metadata": {},
     "output_type": "display_data"
    }
   ],
   "source": [
    "interact(f, x=10);"
   ]
  },
  {
   "cell_type": "markdown",
   "metadata": {},
   "source": [
    "## Tags\n",
    "\n",
    "These tags can be added to the Jupyter notebook cell\n",
    "\n",
    "- fill-width\n",
    "- output-scroll\n",
    "- margin\n",
    "- hide-input\n",
    "- hide-output\n",
    "- hide-cell\n",
    "- remove-input\n",
    "- remove-output\n",
    "- remove-cell\n",
    "\n",
    "Le résultat n'est pas visible dans le Jupyter notebook, seulement dans la page HTML."
   ]
  },
  {
   "cell_type": "markdown",
   "metadata": {},
   "source": [
    "## Hide input\n",
    "To hide the input add this to the Cell Metadata:\n",
    "\n",
    "    {\n",
    "        \"tags\": [\n",
    "            \"hide-input\"\n",
    "        ]\n",
    "    }\n",
    "    \n",
    "Dans Jupyter Lab il faut\n",
    "- choisir l'onglet **Settings**\n",
    "- ouvrir **Advanced tools**\n",
    "- éditer **Cell Metadata**\n",
    "\n",
    "![](hide-input-tag.png)\n",
    "    \n",
    "Pour afficher cliquer sur **Click to show (+)**"
   ]
  },
  {
   "cell_type": "code",
   "execution_count": 27,
   "metadata": {
    "tags": [
     "hide-input"
    ]
   },
   "outputs": [
    {
     "name": "stdout",
     "output_type": "stream",
     "text": [
      "0\n",
      "1\n",
      "2\n"
     ]
    }
   ],
   "source": [
    "for i in range(3):\n",
    "    print(i)"
   ]
  },
  {
   "cell_type": "markdown",
   "metadata": {},
   "source": [
    "## Hide output\n",
    "To hide the output add this to the Cell Metadata:\n",
    "\n",
    "    {\n",
    "        \"tags\": [\n",
    "            \"hide-output\"\n",
    "        ]\n",
    "    }"
   ]
  },
  {
   "cell_type": "code",
   "execution_count": 27,
   "metadata": {
    "tags": [
     "hide-output"
    ]
   },
   "outputs": [
    {
     "name": "stdout",
     "output_type": "stream",
     "text": [
      "0\n",
      "1\n",
      "2\n"
     ]
    }
   ],
   "source": [
    "for i in range(3):\n",
    "    print(i)"
   ]
  },
  {
   "cell_type": "code",
   "execution_count": null,
   "metadata": {},
   "outputs": [],
   "source": []
  },
  {
   "cell_type": "markdown",
   "metadata": {},
   "source": [
    "## Hide cell\n",
    "To hide the cell add this to the Cell Metadata:\n",
    "\n",
    "    {\n",
    "        \"tags\": [\n",
    "            \"hide-cell\"\n",
    "        ]\n",
    "    }"
   ]
  },
  {
   "cell_type": "code",
   "execution_count": 27,
   "metadata": {
    "tags": [
     "hide-cell"
    ]
   },
   "outputs": [
    {
     "name": "stdout",
     "output_type": "stream",
     "text": [
      "0\n",
      "1\n",
      "2\n"
     ]
    }
   ],
   "source": [
    "for i in range(3):\n",
    "    print(i)"
   ]
  }
 ],
 "metadata": {
  "kernelspec": {
   "display_name": "Python 3",
   "language": "python",
   "name": "python3"
  },
  "language_info": {
   "codemirror_mode": {
    "name": "ipython",
    "version": 3
   },
   "file_extension": ".py",
   "mimetype": "text/x-python",
   "name": "python",
   "nbconvert_exporter": "python",
   "pygments_lexer": "ipython3",
   "version": "3.7.9"
  }
 },
 "nbformat": 4,
 "nbformat_minor": 4
}
