{
 "cells": [
  {
   "cell_type": "markdown",
   "id": "encouraging-brisbane",
   "metadata": {},
   "source": [
    "# GitHub\n",
    "\n",
    "GitHub est un service web d'hébérgement de code. Il utilise le **logiciel de gestion de version** Git. Depuis 2018 GitHub fait partie de Microsoft.\n",
    "\n",
    "Le programme **GitHub Desktop** est une interface graphique pour git. Il permet de facilement créer une copie local."
   ]
  },
  {
   "cell_type": "markdown",
   "id": "herbal-treasurer",
   "metadata": {},
   "source": [
    "## Créer votre copie (Fork)\n",
    "\n",
    "Vous pouvez créer une copie du répositoire en cliquant sur le bouton **Fork**\n",
    "\n",
    "![](gh_fork.png)\n",
    "\n",
    "Ceci crée une copie exacte de tout le code vers votre compte GitHub. Vous pouvez ensuite créer une copie local sur votre ordinateur. \n",
    "Utilisez JupyterLab, pour modifier les fichiers et ajouter vos propres resources."
   ]
  },
  {
   "cell_type": "markdown",
   "id": "variable-eclipse",
   "metadata": {},
   "source": [
    "## Synchronyser avec l'origin\n",
    "\n",
    "Vous pouvez synchroniser votre copie avec l'orignial (=upstream) \n",
    "\n",
    "- choisissez **Branch > Merge into current branch...**\n",
    "- sélectionnez **upstrame/main**\n",
    "- cliquez sur **Merge upstream/main into main**.\n",
    "\n",
    "![](gh_upstream.png)"
   ]
  },
  {
   "cell_type": "code",
   "execution_count": null,
   "id": "driven-press",
   "metadata": {},
   "outputs": [],
   "source": []
  }
 ],
 "metadata": {
  "kernelspec": {
   "display_name": "Python 3",
   "language": "python",
   "name": "python3"
  },
  "language_info": {
   "codemirror_mode": {
    "name": "ipython",
    "version": 3
   },
   "file_extension": ".py",
   "mimetype": "text/x-python",
   "name": "python",
   "nbconvert_exporter": "python",
   "pygments_lexer": "ipython3",
   "version": "3.7.9"
  }
 },
 "nbformat": 4,
 "nbformat_minor": 5
}
