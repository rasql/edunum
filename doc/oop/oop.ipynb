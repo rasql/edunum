{
 "cells": [
  {
   "cell_type": "markdown",
   "id": "accomplished-effect",
   "metadata": {},
   "source": [
    "# Programmation orientée objet"
   ]
  },
  {
   "cell_type": "code",
   "execution_count": 1,
   "id": "otherwise-kitchen",
   "metadata": {},
   "outputs": [],
   "source": [
    "class Walker:\n",
    "    x = 0\n",
    "    y = 0"
   ]
  },
  {
   "cell_type": "code",
   "execution_count": 2,
   "id": "right-politics",
   "metadata": {},
   "outputs": [],
   "source": [
    "a = Walker()"
   ]
  },
  {
   "cell_type": "code",
   "execution_count": 3,
   "id": "vietnamese-philip",
   "metadata": {},
   "outputs": [
    {
     "data": {
      "text/plain": [
       "0"
      ]
     },
     "execution_count": 3,
     "metadata": {},
     "output_type": "execute_result"
    }
   ],
   "source": [
    "a.x"
   ]
  },
  {
   "cell_type": "code",
   "execution_count": 4,
   "id": "centered-norwegian",
   "metadata": {},
   "outputs": [],
   "source": [
    "a.x = 10"
   ]
  },
  {
   "cell_type": "code",
   "execution_count": 5,
   "id": "rough-fiction",
   "metadata": {},
   "outputs": [
    {
     "data": {
      "text/plain": [
       "0"
      ]
     },
     "execution_count": 5,
     "metadata": {},
     "output_type": "execute_result"
    }
   ],
   "source": [
    "b = Walker()\n",
    "b.x"
   ]
  },
  {
   "cell_type": "code",
   "execution_count": 6,
   "id": "interim-geometry",
   "metadata": {},
   "outputs": [
    {
     "data": {
      "text/plain": [
       "(10, 0)"
      ]
     },
     "execution_count": 6,
     "metadata": {},
     "output_type": "execute_result"
    }
   ],
   "source": [
    "a.x, b.x"
   ]
  },
  {
   "cell_type": "code",
   "execution_count": 10,
   "id": "valid-vatican",
   "metadata": {},
   "outputs": [
    {
     "data": {
      "text/plain": [
       "(0, -1)"
      ]
     },
     "execution_count": 10,
     "metadata": {},
     "output_type": "execute_result"
    }
   ],
   "source": [
    "import random\n",
    "\n",
    "r = random.random()\n",
    "x = 0\n",
    "y = 0\n",
    "\n",
    "if r < 0.4:\n",
    "    x += 1\n",
    "elif r < 0.6:\n",
    "    x -= 1\n",
    "elif r < 0.8:\n",
    "    y += 1\n",
    "else:\n",
    "    y -= 1\n",
    "    \n",
    "x, y"
   ]
  },
  {
   "cell_type": "markdown",
   "id": "cathedral-folks",
   "metadata": {},
   "source": [
    "# Bokeh"
   ]
  },
  {
   "cell_type": "code",
   "execution_count": 16,
   "id": "distinguished-custody",
   "metadata": {},
   "outputs": [
    {
     "data": {
      "text/html": [
       "\n",
       "    <div class=\"bk-root\">\n",
       "        <a href=\"https://bokeh.org\" target=\"_blank\" class=\"bk-logo bk-logo-small bk-logo-notebook\"></a>\n",
       "        <span id=\"1003\">Loading BokehJS ...</span>\n",
       "    </div>"
      ]
     },
     "metadata": {},
     "output_type": "display_data"
    },
    {
     "data": {
      "application/javascript": [
       "\n",
       "(function(root) {\n",
       "  function now() {\n",
       "    return new Date();\n",
       "  }\n",
       "\n",
       "  var force = true;\n",
       "\n",
       "  if (typeof root._bokeh_onload_callbacks === \"undefined\" || force === true) {\n",
       "    root._bokeh_onload_callbacks = [];\n",
       "    root._bokeh_is_loading = undefined;\n",
       "  }\n",
       "\n",
       "  var JS_MIME_TYPE = 'application/javascript';\n",
       "  var HTML_MIME_TYPE = 'text/html';\n",
       "  var EXEC_MIME_TYPE = 'application/vnd.bokehjs_exec.v0+json';\n",
       "  var CLASS_NAME = 'output_bokeh rendered_html';\n",
       "\n",
       "  /**\n",
       "   * Render data to the DOM node\n",
       "   */\n",
       "  function render(props, node) {\n",
       "    var script = document.createElement(\"script\");\n",
       "    node.appendChild(script);\n",
       "  }\n",
       "\n",
       "  /**\n",
       "   * Handle when an output is cleared or removed\n",
       "   */\n",
       "  function handleClearOutput(event, handle) {\n",
       "    var cell = handle.cell;\n",
       "\n",
       "    var id = cell.output_area._bokeh_element_id;\n",
       "    var server_id = cell.output_area._bokeh_server_id;\n",
       "    // Clean up Bokeh references\n",
       "    if (id != null && id in Bokeh.index) {\n",
       "      Bokeh.index[id].model.document.clear();\n",
       "      delete Bokeh.index[id];\n",
       "    }\n",
       "\n",
       "    if (server_id !== undefined) {\n",
       "      // Clean up Bokeh references\n",
       "      var cmd = \"from bokeh.io.state import curstate; print(curstate().uuid_to_server['\" + server_id + \"'].get_sessions()[0].document.roots[0]._id)\";\n",
       "      cell.notebook.kernel.execute(cmd, {\n",
       "        iopub: {\n",
       "          output: function(msg) {\n",
       "            var id = msg.content.text.trim();\n",
       "            if (id in Bokeh.index) {\n",
       "              Bokeh.index[id].model.document.clear();\n",
       "              delete Bokeh.index[id];\n",
       "            }\n",
       "          }\n",
       "        }\n",
       "      });\n",
       "      // Destroy server and session\n",
       "      var cmd = \"import bokeh.io.notebook as ion; ion.destroy_server('\" + server_id + \"')\";\n",
       "      cell.notebook.kernel.execute(cmd);\n",
       "    }\n",
       "  }\n",
       "\n",
       "  /**\n",
       "   * Handle when a new output is added\n",
       "   */\n",
       "  function handleAddOutput(event, handle) {\n",
       "    var output_area = handle.output_area;\n",
       "    var output = handle.output;\n",
       "\n",
       "    // limit handleAddOutput to display_data with EXEC_MIME_TYPE content only\n",
       "    if ((output.output_type != \"display_data\") || (!Object.prototype.hasOwnProperty.call(output.data, EXEC_MIME_TYPE))) {\n",
       "      return\n",
       "    }\n",
       "\n",
       "    var toinsert = output_area.element.find(\".\" + CLASS_NAME.split(' ')[0]);\n",
       "\n",
       "    if (output.metadata[EXEC_MIME_TYPE][\"id\"] !== undefined) {\n",
       "      toinsert[toinsert.length - 1].firstChild.textContent = output.data[JS_MIME_TYPE];\n",
       "      // store reference to embed id on output_area\n",
       "      output_area._bokeh_element_id = output.metadata[EXEC_MIME_TYPE][\"id\"];\n",
       "    }\n",
       "    if (output.metadata[EXEC_MIME_TYPE][\"server_id\"] !== undefined) {\n",
       "      var bk_div = document.createElement(\"div\");\n",
       "      bk_div.innerHTML = output.data[HTML_MIME_TYPE];\n",
       "      var script_attrs = bk_div.children[0].attributes;\n",
       "      for (var i = 0; i < script_attrs.length; i++) {\n",
       "        toinsert[toinsert.length - 1].firstChild.setAttribute(script_attrs[i].name, script_attrs[i].value);\n",
       "        toinsert[toinsert.length - 1].firstChild.textContent = bk_div.children[0].textContent\n",
       "      }\n",
       "      // store reference to server id on output_area\n",
       "      output_area._bokeh_server_id = output.metadata[EXEC_MIME_TYPE][\"server_id\"];\n",
       "    }\n",
       "  }\n",
       "\n",
       "  function register_renderer(events, OutputArea) {\n",
       "\n",
       "    function append_mime(data, metadata, element) {\n",
       "      // create a DOM node to render to\n",
       "      var toinsert = this.create_output_subarea(\n",
       "        metadata,\n",
       "        CLASS_NAME,\n",
       "        EXEC_MIME_TYPE\n",
       "      );\n",
       "      this.keyboard_manager.register_events(toinsert);\n",
       "      // Render to node\n",
       "      var props = {data: data, metadata: metadata[EXEC_MIME_TYPE]};\n",
       "      render(props, toinsert[toinsert.length - 1]);\n",
       "      element.append(toinsert);\n",
       "      return toinsert\n",
       "    }\n",
       "\n",
       "    /* Handle when an output is cleared or removed */\n",
       "    events.on('clear_output.CodeCell', handleClearOutput);\n",
       "    events.on('delete.Cell', handleClearOutput);\n",
       "\n",
       "    /* Handle when a new output is added */\n",
       "    events.on('output_added.OutputArea', handleAddOutput);\n",
       "\n",
       "    /**\n",
       "     * Register the mime type and append_mime function with output_area\n",
       "     */\n",
       "    OutputArea.prototype.register_mime_type(EXEC_MIME_TYPE, append_mime, {\n",
       "      /* Is output safe? */\n",
       "      safe: true,\n",
       "      /* Index of renderer in `output_area.display_order` */\n",
       "      index: 0\n",
       "    });\n",
       "  }\n",
       "\n",
       "  // register the mime type if in Jupyter Notebook environment and previously unregistered\n",
       "  if (root.Jupyter !== undefined) {\n",
       "    var events = require('base/js/events');\n",
       "    var OutputArea = require('notebook/js/outputarea').OutputArea;\n",
       "\n",
       "    if (OutputArea.prototype.mime_types().indexOf(EXEC_MIME_TYPE) == -1) {\n",
       "      register_renderer(events, OutputArea);\n",
       "    }\n",
       "  }\n",
       "\n",
       "  \n",
       "  if (typeof (root._bokeh_timeout) === \"undefined\" || force === true) {\n",
       "    root._bokeh_timeout = Date.now() + 5000;\n",
       "    root._bokeh_failed_load = false;\n",
       "  }\n",
       "\n",
       "  var NB_LOAD_WARNING = {'data': {'text/html':\n",
       "     \"<div style='background-color: #fdd'>\\n\"+\n",
       "     \"<p>\\n\"+\n",
       "     \"BokehJS does not appear to have successfully loaded. If loading BokehJS from CDN, this \\n\"+\n",
       "     \"may be due to a slow or bad network connection. Possible fixes:\\n\"+\n",
       "     \"</p>\\n\"+\n",
       "     \"<ul>\\n\"+\n",
       "     \"<li>re-rerun `output_notebook()` to attempt to load from CDN again, or</li>\\n\"+\n",
       "     \"<li>use INLINE resources instead, as so:</li>\\n\"+\n",
       "     \"</ul>\\n\"+\n",
       "     \"<code>\\n\"+\n",
       "     \"from bokeh.resources import INLINE\\n\"+\n",
       "     \"output_notebook(resources=INLINE)\\n\"+\n",
       "     \"</code>\\n\"+\n",
       "     \"</div>\"}};\n",
       "\n",
       "  function display_loaded() {\n",
       "    var el = document.getElementById(\"1003\");\n",
       "    if (el != null) {\n",
       "      el.textContent = \"BokehJS is loading...\";\n",
       "    }\n",
       "    if (root.Bokeh !== undefined) {\n",
       "      if (el != null) {\n",
       "        el.textContent = \"BokehJS \" + root.Bokeh.version + \" successfully loaded.\";\n",
       "      }\n",
       "    } else if (Date.now() < root._bokeh_timeout) {\n",
       "      setTimeout(display_loaded, 100)\n",
       "    }\n",
       "  }\n",
       "\n",
       "\n",
       "  function run_callbacks() {\n",
       "    try {\n",
       "      root._bokeh_onload_callbacks.forEach(function(callback) {\n",
       "        if (callback != null)\n",
       "          callback();\n",
       "      });\n",
       "    } finally {\n",
       "      delete root._bokeh_onload_callbacks\n",
       "    }\n",
       "    console.debug(\"Bokeh: all callbacks have finished\");\n",
       "  }\n",
       "\n",
       "  function load_libs(css_urls, js_urls, callback) {\n",
       "    if (css_urls == null) css_urls = [];\n",
       "    if (js_urls == null) js_urls = [];\n",
       "\n",
       "    root._bokeh_onload_callbacks.push(callback);\n",
       "    if (root._bokeh_is_loading > 0) {\n",
       "      console.debug(\"Bokeh: BokehJS is being loaded, scheduling callback at\", now());\n",
       "      return null;\n",
       "    }\n",
       "    if (js_urls == null || js_urls.length === 0) {\n",
       "      run_callbacks();\n",
       "      return null;\n",
       "    }\n",
       "    console.debug(\"Bokeh: BokehJS not loaded, scheduling load and callback at\", now());\n",
       "    root._bokeh_is_loading = css_urls.length + js_urls.length;\n",
       "\n",
       "    function on_load() {\n",
       "      root._bokeh_is_loading--;\n",
       "      if (root._bokeh_is_loading === 0) {\n",
       "        console.debug(\"Bokeh: all BokehJS libraries/stylesheets loaded\");\n",
       "        run_callbacks()\n",
       "      }\n",
       "    }\n",
       "\n",
       "    function on_error(url) {\n",
       "      console.error(\"failed to load \" + url);\n",
       "    }\n",
       "\n",
       "    for (let i = 0; i < css_urls.length; i++) {\n",
       "      const url = css_urls[i];\n",
       "      const element = document.createElement(\"link\");\n",
       "      element.onload = on_load;\n",
       "      element.onerror = on_error.bind(null, url);\n",
       "      element.rel = \"stylesheet\";\n",
       "      element.type = \"text/css\";\n",
       "      element.href = url;\n",
       "      console.debug(\"Bokeh: injecting link tag for BokehJS stylesheet: \", url);\n",
       "      document.body.appendChild(element);\n",
       "    }\n",
       "\n",
       "    const hashes = {\"https://cdn.bokeh.org/bokeh/release/bokeh-2.3.0.min.js\": \"HjagQp6T0/7bxYTAXbLotF1MLAGWmhkY5siA1Gc/pcEgvgRPtMsRn0gQtMwGKiw1\", \"https://cdn.bokeh.org/bokeh/release/bokeh-widgets-2.3.0.min.js\": \"ZEPPTjL+mdyqgIq+/pl9KTwzji8Kow2NnI3zWY8+sFinWP/SYJ80BnfeJsa45iYj\", \"https://cdn.bokeh.org/bokeh/release/bokeh-tables-2.3.0.min.js\": \"exLqv2ACDRIaV7ZK1iL8aGzGYQvKVuT3U2CT7FsQREBxRah6JrkVCoFy0koY1YqV\"};\n",
       "\n",
       "    for (let i = 0; i < js_urls.length; i++) {\n",
       "      const url = js_urls[i];\n",
       "      const element = document.createElement('script');\n",
       "      element.onload = on_load;\n",
       "      element.onerror = on_error.bind(null, url);\n",
       "      element.async = false;\n",
       "      element.src = url;\n",
       "      if (url in hashes) {\n",
       "        element.crossOrigin = \"anonymous\";\n",
       "        element.integrity = \"sha384-\" + hashes[url];\n",
       "      }\n",
       "      console.debug(\"Bokeh: injecting script tag for BokehJS library: \", url);\n",
       "      document.head.appendChild(element);\n",
       "    }\n",
       "  };\n",
       "\n",
       "  function inject_raw_css(css) {\n",
       "    const element = document.createElement(\"style\");\n",
       "    element.appendChild(document.createTextNode(css));\n",
       "    document.body.appendChild(element);\n",
       "  }\n",
       "\n",
       "  \n",
       "  var js_urls = [\"https://cdn.bokeh.org/bokeh/release/bokeh-2.3.0.min.js\", \"https://cdn.bokeh.org/bokeh/release/bokeh-widgets-2.3.0.min.js\", \"https://cdn.bokeh.org/bokeh/release/bokeh-tables-2.3.0.min.js\"];\n",
       "  var css_urls = [];\n",
       "  \n",
       "\n",
       "  var inline_js = [\n",
       "    function(Bokeh) {\n",
       "      Bokeh.set_log_level(\"info\");\n",
       "    },\n",
       "    function(Bokeh) {\n",
       "    \n",
       "    \n",
       "    }\n",
       "  ];\n",
       "\n",
       "  function run_inline_js() {\n",
       "    \n",
       "    if (root.Bokeh !== undefined || force === true) {\n",
       "      \n",
       "    for (var i = 0; i < inline_js.length; i++) {\n",
       "      inline_js[i].call(root, root.Bokeh);\n",
       "    }\n",
       "    if (force === true) {\n",
       "        display_loaded();\n",
       "      }} else if (Date.now() < root._bokeh_timeout) {\n",
       "      setTimeout(run_inline_js, 100);\n",
       "    } else if (!root._bokeh_failed_load) {\n",
       "      console.log(\"Bokeh: BokehJS failed to load within specified timeout.\");\n",
       "      root._bokeh_failed_load = true;\n",
       "    } else if (force !== true) {\n",
       "      var cell = $(document.getElementById(\"1003\")).parents('.cell').data().cell;\n",
       "      cell.output_area.append_execute_result(NB_LOAD_WARNING)\n",
       "    }\n",
       "\n",
       "  }\n",
       "\n",
       "  if (root._bokeh_is_loading === 0) {\n",
       "    console.debug(\"Bokeh: BokehJS loaded, going straight to plotting\");\n",
       "    run_inline_js();\n",
       "  } else {\n",
       "    load_libs(css_urls, js_urls, function() {\n",
       "      console.debug(\"Bokeh: BokehJS plotting callback run at\", now());\n",
       "      run_inline_js();\n",
       "    });\n",
       "  }\n",
       "}(window));"
      ],
      "application/vnd.bokehjs_load.v0+json": "\n(function(root) {\n  function now() {\n    return new Date();\n  }\n\n  var force = true;\n\n  if (typeof root._bokeh_onload_callbacks === \"undefined\" || force === true) {\n    root._bokeh_onload_callbacks = [];\n    root._bokeh_is_loading = undefined;\n  }\n\n  \n\n  \n  if (typeof (root._bokeh_timeout) === \"undefined\" || force === true) {\n    root._bokeh_timeout = Date.now() + 5000;\n    root._bokeh_failed_load = false;\n  }\n\n  var NB_LOAD_WARNING = {'data': {'text/html':\n     \"<div style='background-color: #fdd'>\\n\"+\n     \"<p>\\n\"+\n     \"BokehJS does not appear to have successfully loaded. If loading BokehJS from CDN, this \\n\"+\n     \"may be due to a slow or bad network connection. Possible fixes:\\n\"+\n     \"</p>\\n\"+\n     \"<ul>\\n\"+\n     \"<li>re-rerun `output_notebook()` to attempt to load from CDN again, or</li>\\n\"+\n     \"<li>use INLINE resources instead, as so:</li>\\n\"+\n     \"</ul>\\n\"+\n     \"<code>\\n\"+\n     \"from bokeh.resources import INLINE\\n\"+\n     \"output_notebook(resources=INLINE)\\n\"+\n     \"</code>\\n\"+\n     \"</div>\"}};\n\n  function display_loaded() {\n    var el = document.getElementById(\"1003\");\n    if (el != null) {\n      el.textContent = \"BokehJS is loading...\";\n    }\n    if (root.Bokeh !== undefined) {\n      if (el != null) {\n        el.textContent = \"BokehJS \" + root.Bokeh.version + \" successfully loaded.\";\n      }\n    } else if (Date.now() < root._bokeh_timeout) {\n      setTimeout(display_loaded, 100)\n    }\n  }\n\n\n  function run_callbacks() {\n    try {\n      root._bokeh_onload_callbacks.forEach(function(callback) {\n        if (callback != null)\n          callback();\n      });\n    } finally {\n      delete root._bokeh_onload_callbacks\n    }\n    console.debug(\"Bokeh: all callbacks have finished\");\n  }\n\n  function load_libs(css_urls, js_urls, callback) {\n    if (css_urls == null) css_urls = [];\n    if (js_urls == null) js_urls = [];\n\n    root._bokeh_onload_callbacks.push(callback);\n    if (root._bokeh_is_loading > 0) {\n      console.debug(\"Bokeh: BokehJS is being loaded, scheduling callback at\", now());\n      return null;\n    }\n    if (js_urls == null || js_urls.length === 0) {\n      run_callbacks();\n      return null;\n    }\n    console.debug(\"Bokeh: BokehJS not loaded, scheduling load and callback at\", now());\n    root._bokeh_is_loading = css_urls.length + js_urls.length;\n\n    function on_load() {\n      root._bokeh_is_loading--;\n      if (root._bokeh_is_loading === 0) {\n        console.debug(\"Bokeh: all BokehJS libraries/stylesheets loaded\");\n        run_callbacks()\n      }\n    }\n\n    function on_error(url) {\n      console.error(\"failed to load \" + url);\n    }\n\n    for (let i = 0; i < css_urls.length; i++) {\n      const url = css_urls[i];\n      const element = document.createElement(\"link\");\n      element.onload = on_load;\n      element.onerror = on_error.bind(null, url);\n      element.rel = \"stylesheet\";\n      element.type = \"text/css\";\n      element.href = url;\n      console.debug(\"Bokeh: injecting link tag for BokehJS stylesheet: \", url);\n      document.body.appendChild(element);\n    }\n\n    const hashes = {\"https://cdn.bokeh.org/bokeh/release/bokeh-2.3.0.min.js\": \"HjagQp6T0/7bxYTAXbLotF1MLAGWmhkY5siA1Gc/pcEgvgRPtMsRn0gQtMwGKiw1\", \"https://cdn.bokeh.org/bokeh/release/bokeh-widgets-2.3.0.min.js\": \"ZEPPTjL+mdyqgIq+/pl9KTwzji8Kow2NnI3zWY8+sFinWP/SYJ80BnfeJsa45iYj\", \"https://cdn.bokeh.org/bokeh/release/bokeh-tables-2.3.0.min.js\": \"exLqv2ACDRIaV7ZK1iL8aGzGYQvKVuT3U2CT7FsQREBxRah6JrkVCoFy0koY1YqV\"};\n\n    for (let i = 0; i < js_urls.length; i++) {\n      const url = js_urls[i];\n      const element = document.createElement('script');\n      element.onload = on_load;\n      element.onerror = on_error.bind(null, url);\n      element.async = false;\n      element.src = url;\n      if (url in hashes) {\n        element.crossOrigin = \"anonymous\";\n        element.integrity = \"sha384-\" + hashes[url];\n      }\n      console.debug(\"Bokeh: injecting script tag for BokehJS library: \", url);\n      document.head.appendChild(element);\n    }\n  };\n\n  function inject_raw_css(css) {\n    const element = document.createElement(\"style\");\n    element.appendChild(document.createTextNode(css));\n    document.body.appendChild(element);\n  }\n\n  \n  var js_urls = [\"https://cdn.bokeh.org/bokeh/release/bokeh-2.3.0.min.js\", \"https://cdn.bokeh.org/bokeh/release/bokeh-widgets-2.3.0.min.js\", \"https://cdn.bokeh.org/bokeh/release/bokeh-tables-2.3.0.min.js\"];\n  var css_urls = [];\n  \n\n  var inline_js = [\n    function(Bokeh) {\n      Bokeh.set_log_level(\"info\");\n    },\n    function(Bokeh) {\n    \n    \n    }\n  ];\n\n  function run_inline_js() {\n    \n    if (root.Bokeh !== undefined || force === true) {\n      \n    for (var i = 0; i < inline_js.length; i++) {\n      inline_js[i].call(root, root.Bokeh);\n    }\n    if (force === true) {\n        display_loaded();\n      }} else if (Date.now() < root._bokeh_timeout) {\n      setTimeout(run_inline_js, 100);\n    } else if (!root._bokeh_failed_load) {\n      console.log(\"Bokeh: BokehJS failed to load within specified timeout.\");\n      root._bokeh_failed_load = true;\n    } else if (force !== true) {\n      var cell = $(document.getElementById(\"1003\")).parents('.cell').data().cell;\n      cell.output_area.append_execute_result(NB_LOAD_WARNING)\n    }\n\n  }\n\n  if (root._bokeh_is_loading === 0) {\n    console.debug(\"Bokeh: BokehJS loaded, going straight to plotting\");\n    run_inline_js();\n  } else {\n    load_libs(css_urls, js_urls, function() {\n      console.debug(\"Bokeh: BokehJS plotting callback run at\", now());\n      run_inline_js();\n    });\n  }\n}(window));"
     },
     "metadata": {},
     "output_type": "display_data"
    }
   ],
   "source": [
    "from bokeh.io import output_notebook, show\n",
    "from bokeh.plotting import figure\n",
    "output_notebook()"
   ]
  },
  {
   "cell_type": "code",
   "execution_count": 13,
   "id": "romance-torture",
   "metadata": {},
   "outputs": [],
   "source": [
    "n = 100\n",
    "x = []\n",
    "y = []\n",
    "for i in range(n):\n",
    "    x.append(random.random())\n",
    "    y.append(random.random())"
   ]
  },
  {
   "cell_type": "code",
   "execution_count": 28,
   "id": "vocational-intellectual",
   "metadata": {},
   "outputs": [
    {
     "data": {
      "text/html": [
       "\n",
       "\n",
       "\n",
       "\n",
       "\n",
       "\n",
       "  <div class=\"bk-root\" id=\"a8a699db-18a0-4aa4-80f2-e2a61efc2624\" data-root-id=\"2165\"></div>\n"
      ]
     },
     "metadata": {},
     "output_type": "display_data"
    },
    {
     "data": {
      "application/javascript": [
       "(function(root) {\n",
       "  function embed_document(root) {\n",
       "    \n",
       "  var docs_json = {\"9e7583ec-906d-4e9e-aa89-c122035cff64\":{\"defs\":[{\"extends\":null,\"module\":null,\"name\":\"DataModel\",\"overrides\":[],\"properties\":[]}],\"roots\":{\"references\":[{\"attributes\":{\"below\":[{\"id\":\"2174\"}],\"center\":[{\"id\":\"2177\"},{\"id\":\"2181\"}],\"height\":250,\"left\":[{\"id\":\"2178\"}],\"renderers\":[{\"id\":\"2199\"}],\"title\":{\"id\":\"2289\"},\"toolbar\":{\"id\":\"2189\"},\"width\":300,\"x_range\":{\"id\":\"2166\"},\"x_scale\":{\"id\":\"2170\"},\"y_range\":{\"id\":\"2168\"},\"y_scale\":{\"id\":\"2172\"}},\"id\":\"2165\",\"subtype\":\"Figure\",\"type\":\"Plot\"},{\"attributes\":{},\"id\":\"2183\",\"type\":\"WheelZoomTool\"},{\"attributes\":{\"fill_alpha\":{\"value\":0.1},\"fill_color\":{\"value\":\"orange\"},\"line_alpha\":{\"value\":0.1},\"line_color\":{\"value\":\"orange\"},\"size\":{\"value\":10},\"x\":{\"field\":\"x\"},\"y\":{\"field\":\"y\"}},\"id\":\"2198\",\"type\":\"Circle\"},{\"attributes\":{},\"id\":\"2295\",\"type\":\"AllLabels\"},{\"attributes\":{\"bottom_units\":\"screen\",\"fill_alpha\":0.5,\"fill_color\":\"lightgrey\",\"left_units\":\"screen\",\"level\":\"overlay\",\"line_alpha\":1.0,\"line_color\":\"black\",\"line_dash\":[4,4],\"line_width\":2,\"right_units\":\"screen\",\"syncable\":false,\"top_units\":\"screen\"},\"id\":\"2188\",\"type\":\"BoxAnnotation\"},{\"attributes\":{},\"id\":\"2166\",\"type\":\"DataRange1d\"},{\"attributes\":{},\"id\":\"2182\",\"type\":\"PanTool\"},{\"attributes\":{},\"id\":\"2291\",\"type\":\"BasicTickFormatter\"},{\"attributes\":{\"data_source\":{\"id\":\"2196\"},\"glyph\":{\"id\":\"2197\"},\"hover_glyph\":null,\"muted_glyph\":null,\"nonselection_glyph\":{\"id\":\"2198\"},\"view\":{\"id\":\"2200\"}},\"id\":\"2199\",\"type\":\"GlyphRenderer\"},{\"attributes\":{},\"id\":\"2170\",\"type\":\"LinearScale\"},{\"attributes\":{},\"id\":\"2298\",\"type\":\"UnionRenderers\"},{\"attributes\":{},\"id\":\"2168\",\"type\":\"DataRange1d\"},{\"attributes\":{},\"id\":\"2172\",\"type\":\"LinearScale\"},{\"attributes\":{},\"id\":\"2297\",\"type\":\"Selection\"},{\"attributes\":{},\"id\":\"2289\",\"type\":\"Title\"},{\"attributes\":{\"fill_color\":{\"value\":\"orange\"},\"line_color\":{\"value\":\"orange\"},\"size\":{\"value\":10},\"x\":{\"field\":\"x\"},\"y\":{\"field\":\"y\"}},\"id\":\"2197\",\"type\":\"Circle\"},{\"attributes\":{\"active_multi\":null,\"tools\":[{\"id\":\"2182\"},{\"id\":\"2183\"},{\"id\":\"2184\"},{\"id\":\"2185\"},{\"id\":\"2186\"},{\"id\":\"2187\"}]},\"id\":\"2189\",\"type\":\"Toolbar\"},{\"attributes\":{},\"id\":\"2292\",\"type\":\"AllLabels\"},{\"attributes\":{},\"id\":\"2186\",\"type\":\"ResetTool\"},{\"attributes\":{\"formatter\":{\"id\":\"2291\"},\"major_label_policy\":{\"id\":\"2292\"},\"ticker\":{\"id\":\"2175\"}},\"id\":\"2174\",\"type\":\"LinearAxis\"},{\"attributes\":{},\"id\":\"2187\",\"type\":\"HelpTool\"},{\"attributes\":{},\"id\":\"2179\",\"type\":\"BasicTicker\"},{\"attributes\":{},\"id\":\"2175\",\"type\":\"BasicTicker\"},{\"attributes\":{\"axis\":{\"id\":\"2174\"},\"ticker\":null},\"id\":\"2177\",\"type\":\"Grid\"},{\"attributes\":{\"axis\":{\"id\":\"2178\"},\"dimension\":1,\"ticker\":null},\"id\":\"2181\",\"type\":\"Grid\"},{\"attributes\":{\"data\":{\"x\":[0.7832565024055969,0.7115201181925255,0.14505906033789184,0.7277727346852546,0.8438795223907217,0.8532271432638663,0.16812295825893409,0.5491080700927768,0.698196055832392,0.806423762129749,0.779575318749971,0.6862093544722817,0.9585486225193849,0.4958923631165495,0.9583184931534896,0.5385928109822966,0.9240737197804406,0.08211627087150508,0.8222418618379618,0.8821673682044157,0.8780625303605957,0.887642971785834,0.9895282372313152,0.315900272785933,0.5820964740496419,0.8438890692147206,0.4402992688636649,0.4253695072948054,0.4099352044748086,0.47557389387667903,0.3892833660074535,0.8336620929138872,0.15065383406931498,0.9215545951946155,0.5369683238045272,0.9825275752806027,0.35268223808983235,0.5370273712007998,0.06037313325847793,0.563662719676662,0.8401945145874133,0.7493733892660971,0.8582693251821937,0.47009954117112673,0.005772363755722321,0.19240664333073332,0.49177702092415665,0.3920725854762229,0.19923704298169176,0.5658580653337256,0.5839181008082593,0.3384994969807834,0.5056160218725503,0.5157475911206757,0.20831047680622983,0.14706022900435833,0.7148154109780367,0.5249050585330014,0.3273121075424723,0.42746964052615477,0.9901672745381371,0.6581900794778981,0.5106389915099147,0.8020440924941861,0.5783336782684129,0.8532325879340149,0.9117839139181528,0.7302245512054489,0.6410001203767058,0.9445584685037052,0.20214656157697963,0.6640394108837488,0.9079813721275097,0.6244931164968712,0.7786867535929232,0.7141305691278416,0.9037541282408458,0.3736493150931952,0.11057876147036516,0.2847850616464028,0.3177980348043933,0.6662963905270136,0.828748529102121,0.9633929443314088,0.5912185055417701,0.7807771686522156,0.2978973269415742,0.10112901862106838,0.05845798854648332,0.4958103328268969,0.8636976375412667,0.5974508938505033,0.009752587411997027,0.9976416915190893,0.22293593303237857,0.9786132439158187,0.29604930463779,0.9038792593865616,0.09075395470354819,0.5520375677769133],\"y\":[0.7823228430716097,0.7311246559759962,0.3410450655623888,0.23282553623224878,0.040267735679287986,0.18017724759856213,0.5936720386263268,0.9611738502900188,0.16634125333601457,0.01623021027600058,0.0014961775748604245,0.6226211688406686,0.9763508766905867,0.480134101444017,0.670863250188921,0.977024068089151,0.012754676477808036,0.7569560587488964,0.2252674508140966,0.12559559578595092,0.03535491481392383,0.3416121601773928,0.23082750241124605,0.06103555959802376,0.5007676463602406,0.8394477739394556,0.045708740919511937,0.6791596444309304,0.6433165732891752,0.6295948219274777,0.19593096045688763,0.6318617556219678,0.9963719339323648,0.8638024920443012,0.20869068896414078,0.4351871333067423,0.6293182711702417,0.10323392723686953,0.8756996241607888,0.6893418760751825,0.4233446701924436,0.6161445451999796,0.7783824958072728,0.6540592760851088,0.5342670090021627,0.295976884700046,0.3157650495811888,0.3484736323517319,0.663326038608862,0.39915825878818056,0.9560276607175884,0.8294296426507407,0.7307893668211902,0.7586335080643872,0.3242199632172219,0.9491968959291482,0.9803555622481971,0.5193743288045864,0.18217650772661964,0.41295656479405873,0.760678373051189,0.5890045919454825,0.9255026434561447,0.30824758635756666,0.03137700021318024,0.9204125521736448,0.7320134000512583,0.17434723303009247,0.8401485678457387,0.46476126875342316,0.12581136674978688,0.9902805335443372,0.00586783835931215,0.5184689842704152,0.39495803229908766,0.45490449652437126,0.8508422158496242,0.37387732653345296,0.39051391113032996,0.06797569033410344,0.009080002379026064,0.21839819830399254,0.5291205538575625,0.7571105240304499,0.015046489372521621,0.13813009373488916,0.008510346543573633,0.47152901626487465,0.8823797882595328,0.5618377614223404,0.4140796831768623,0.8153720102106201,0.07622631875038244,0.27071622146428576,0.49637469754056407,0.5690699460725387,0.9903451162203663,0.969982544423026,0.5367701772256882,0.07576440815577534]},\"selected\":{\"id\":\"2297\"},\"selection_policy\":{\"id\":\"2298\"}},\"id\":\"2196\",\"type\":\"ColumnDataSource\"},{\"attributes\":{\"formatter\":{\"id\":\"2294\"},\"major_label_policy\":{\"id\":\"2295\"},\"ticker\":{\"id\":\"2179\"}},\"id\":\"2178\",\"type\":\"LinearAxis\"},{\"attributes\":{\"overlay\":{\"id\":\"2188\"}},\"id\":\"2184\",\"type\":\"BoxZoomTool\"},{\"attributes\":{\"source\":{\"id\":\"2196\"}},\"id\":\"2200\",\"type\":\"CDSView\"},{\"attributes\":{},\"id\":\"2294\",\"type\":\"BasicTickFormatter\"},{\"attributes\":{},\"id\":\"2185\",\"type\":\"SaveTool\"}],\"root_ids\":[\"2165\"]},\"title\":\"Bokeh Application\",\"version\":\"2.3.0\"}};\n",
       "  var render_items = [{\"docid\":\"9e7583ec-906d-4e9e-aa89-c122035cff64\",\"root_ids\":[\"2165\"],\"roots\":{\"2165\":\"a8a699db-18a0-4aa4-80f2-e2a61efc2624\"}}];\n",
       "  root.Bokeh.embed.embed_items_notebook(docs_json, render_items);\n",
       "\n",
       "  }\n",
       "  if (root.Bokeh !== undefined) {\n",
       "    embed_document(root);\n",
       "  } else {\n",
       "    var attempts = 0;\n",
       "    var timer = setInterval(function(root) {\n",
       "      if (root.Bokeh !== undefined) {\n",
       "        clearInterval(timer);\n",
       "        embed_document(root);\n",
       "      } else {\n",
       "        attempts++;\n",
       "        if (attempts > 100) {\n",
       "          clearInterval(timer);\n",
       "          console.log(\"Bokeh: ERROR: Unable to run BokehJS code because BokehJS library is missing\");\n",
       "        }\n",
       "      }\n",
       "    }, 10, root)\n",
       "  }\n",
       "})(window);"
      ],
      "application/vnd.bokehjs_exec.v0+json": ""
     },
     "metadata": {
      "application/vnd.bokehjs_exec.v0+json": {
       "id": "2165"
      }
     },
     "output_type": "display_data"
    }
   ],
   "source": [
    "p = figure(plot_width=300, plot_height=250)\n",
    "p.circle(x, y, size=10, color='orange')\n",
    "show(p)"
   ]
  },
  {
   "cell_type": "markdown",
   "id": "about-engagement",
   "metadata": {},
   "source": [
    "## Montecarlo"
   ]
  },
  {
   "cell_type": "code",
   "execution_count": 29,
   "id": "expressed-andrews",
   "metadata": {},
   "outputs": [],
   "source": [
    "import numpy as np"
   ]
  },
  {
   "cell_type": "markdown",
   "id": "brief-dominant",
   "metadata": {},
   "source": [
    "## Uniform distribution"
   ]
  },
  {
   "cell_type": "code",
   "execution_count": 47,
   "id": "laden-robin",
   "metadata": {},
   "outputs": [
    {
     "data": {
      "text/html": [
       "\n",
       "\n",
       "\n",
       "\n",
       "\n",
       "\n",
       "  <div class=\"bk-root\" id=\"b482542f-6e0b-47a3-b3e0-45efd6f4f841\" data-root-id=\"6593\"></div>\n"
      ]
     },
     "metadata": {},
     "output_type": "display_data"
    },
    {
     "data": {
      "application/javascript": [
       "(function(root) {\n",
       "  function embed_document(root) {\n",
       "    \n",
       "  var docs_json = {\"9b24dd5a-36f5-4ced-b997-3a190bf4820e\":{\"defs\":[{\"extends\":null,\"module\":null,\"name\":\"DataModel\",\"overrides\":[],\"properties\":[]}],\"roots\":{\"references\":[{\"attributes\":{\"below\":[{\"id\":\"6602\"}],\"center\":[{\"id\":\"6605\"},{\"id\":\"6609\"}],\"height\":250,\"left\":[{\"id\":\"6606\"}],\"renderers\":[{\"id\":\"6627\"}],\"title\":{\"id\":\"6900\"},\"toolbar\":{\"id\":\"6617\"},\"x_range\":{\"id\":\"6594\"},\"x_scale\":{\"id\":\"6598\"},\"y_range\":{\"id\":\"6596\"},\"y_scale\":{\"id\":\"6600\"}},\"id\":\"6593\",\"subtype\":\"Figure\",\"type\":\"Plot\"},{\"attributes\":{},\"id\":\"6908\",\"type\":\"Selection\"},{\"attributes\":{},\"id\":\"6613\",\"type\":\"SaveTool\"},{\"attributes\":{},\"id\":\"6905\",\"type\":\"BasicTickFormatter\"},{\"attributes\":{},\"id\":\"6614\",\"type\":\"ResetTool\"},{\"attributes\":{},\"id\":\"6615\",\"type\":\"HelpTool\"},{\"attributes\":{\"data\":{\"x\":[0,1,2,3,4,5,6,7,8,9,10,11,12,13,14,15,16,17,18,19,20,21,22,23,24,25,26,27,28,29,30,31,32,33,34,35,36,37,38,39,40,41,42,43,44,45,46,47,48,49,50,51,52,53,54,55,56,57,58,59,60,61,62,63,64,65,66,67,68,69,70,71,72,73,74,75,76,77,78,79,80,81,82,83,84,85,86,87,88,89,90,91,92,93,94,95,96,97,98,99,100,101,102,103,104,105,106,107,108,109,110,111,112,113,114,115,116,117,118,119,120,121,122,123,124,125,126,127,128,129,130,131,132,133,134,135,136,137,138,139,140,141,142,143,144,145,146,147,148,149,150,151,152,153,154,155,156,157,158,159,160,161,162,163,164,165,166,167,168,169,170,171,172,173,174,175,176,177,178,179,180,181,182,183,184,185,186,187,188,189,190,191,192,193,194,195,196,197,198,199,200,201,202,203,204,205,206,207,208,209,210,211,212,213,214,215,216,217,218,219,220,221,222,223,224,225,226,227,228,229,230,231,232,233,234,235,236,237,238,239,240,241,242,243,244,245,246,247,248,249,250,251,252,253,254,255,256,257,258,259,260,261,262,263,264,265,266,267,268,269,270,271,272,273,274,275,276,277,278,279,280,281,282,283,284,285,286,287,288,289,290,291,292,293,294,295,296,297,298,299,300,301,302,303,304,305,306,307,308,309,310,311,312,313,314,315,316,317,318,319,320,321,322,323,324,325,326,327,328,329,330,331,332,333,334,335,336,337,338,339,340,341,342,343,344,345,346,347,348,349,350,351,352,353,354,355,356,357,358,359,360,361,362,363,364,365,366,367,368,369,370,371,372,373,374,375,376,377,378,379,380,381,382,383,384,385,386,387,388,389,390,391,392,393,394,395,396,397,398,399,400,401,402,403,404,405,406,407,408,409,410,411,412,413,414,415,416,417,418,419,420,421,422,423,424,425,426,427,428,429,430,431,432,433,434,435,436,437,438,439,440,441,442,443,444,445,446,447,448,449,450,451,452,453,454,455,456,457,458,459,460,461,462,463,464,465,466,467,468,469,470,471,472,473,474,475,476,477,478,479,480,481,482,483,484,485,486,487,488,489,490,491,492,493,494,495,496,497,498,499,500,501,502,503,504,505,506,507,508,509,510,511,512,513,514,515,516,517,518,519,520,521,522,523,524,525,526,527,528,529,530,531,532,533,534,535,536,537,538,539,540,541,542,543,544,545,546,547,548,549,550,551,552,553,554,555,556,557,558,559,560,561,562,563,564,565,566,567,568,569,570,571,572,573,574,575,576,577,578,579,580,581,582,583,584,585,586,587,588,589,590,591,592,593,594,595,596,597,598,599,600,601,602,603,604,605,606,607,608,609,610,611,612,613,614,615,616,617,618,619,620,621,622,623,624,625,626,627,628,629,630,631,632,633,634,635,636,637,638,639,640,641,642,643,644,645,646,647,648,649,650,651,652,653,654,655,656,657,658,659,660,661,662,663,664,665,666,667,668,669,670,671,672,673,674,675,676,677,678,679,680,681,682,683,684,685,686,687,688,689,690,691,692,693,694,695,696,697,698,699,700,701,702,703,704,705,706,707,708,709,710,711,712,713,714,715,716,717,718,719,720,721,722,723,724,725,726,727,728,729,730,731,732,733,734,735,736,737,738,739,740,741,742,743,744,745,746,747,748,749,750,751,752,753,754,755,756,757,758,759,760,761,762,763,764,765,766,767,768,769,770,771,772,773,774,775,776,777,778,779,780,781,782,783,784,785,786,787,788,789,790,791,792,793,794,795,796,797,798,799,800,801,802,803,804,805,806,807,808,809,810,811,812,813,814,815,816,817,818,819,820,821,822,823,824,825,826,827,828,829,830,831,832,833,834,835,836,837,838,839,840,841,842,843,844,845,846,847,848,849,850,851,852,853,854,855,856,857,858,859,860,861,862,863,864,865,866,867,868,869,870,871,872,873,874,875,876,877,878,879,880,881,882,883,884,885,886,887,888,889,890,891,892,893,894,895,896,897,898,899,900,901,902,903,904,905,906,907,908,909,910,911,912,913,914,915,916,917,918,919,920,921,922,923,924,925,926,927,928,929,930,931,932,933,934,935,936,937,938,939,940,941,942,943,944,945,946,947,948,949,950,951,952,953,954,955,956,957,958,959,960,961,962,963,964,965,966,967,968,969,970,971,972,973,974,975,976,977,978,979,980,981,982,983,984,985,986,987,988,989,990,991,992,993,994,995,996,997,998,999],\"y\":{\"__ndarray__\":\"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\",\"dtype\":\"float64\",\"order\":\"little\",\"shape\":[1000]}},\"selected\":{\"id\":\"6908\"},\"selection_policy\":{\"id\":\"6909\"}},\"id\":\"6624\",\"type\":\"ColumnDataSource\"},{\"attributes\":{},\"id\":\"6611\",\"type\":\"WheelZoomTool\"},{\"attributes\":{},\"id\":\"6906\",\"type\":\"AllLabels\"},{\"attributes\":{\"overlay\":{\"id\":\"6616\"}},\"id\":\"6612\",\"type\":\"BoxZoomTool\"},{\"attributes\":{\"source\":{\"id\":\"6624\"}},\"id\":\"6628\",\"type\":\"CDSView\"},{\"attributes\":{},\"id\":\"6902\",\"type\":\"BasicTickFormatter\"},{\"attributes\":{},\"id\":\"6594\",\"type\":\"DataRange1d\"},{\"attributes\":{},\"id\":\"6598\",\"type\":\"LinearScale\"},{\"attributes\":{\"active_multi\":null,\"tools\":[{\"id\":\"6610\"},{\"id\":\"6611\"},{\"id\":\"6612\"},{\"id\":\"6613\"},{\"id\":\"6614\"},{\"id\":\"6615\"}]},\"id\":\"6617\",\"type\":\"Toolbar\"},{\"attributes\":{\"fill_color\":{\"value\":\"red\"},\"line_color\":{\"value\":\"red\"},\"x\":{\"field\":\"x\"},\"y\":{\"field\":\"y\"}},\"id\":\"6625\",\"type\":\"Circle\"},{\"attributes\":{\"axis\":{\"id\":\"6602\"},\"ticker\":null},\"id\":\"6605\",\"type\":\"Grid\"},{\"attributes\":{},\"id\":\"6610\",\"type\":\"PanTool\"},{\"attributes\":{},\"id\":\"6900\",\"type\":\"Title\"},{\"attributes\":{},\"id\":\"6600\",\"type\":\"LinearScale\"},{\"attributes\":{},\"id\":\"6596\",\"type\":\"DataRange1d\"},{\"attributes\":{\"axis\":{\"id\":\"6606\"},\"dimension\":1,\"ticker\":null},\"id\":\"6609\",\"type\":\"Grid\"},{\"attributes\":{},\"id\":\"6603\",\"type\":\"BasicTicker\"},{\"attributes\":{\"bottom_units\":\"screen\",\"fill_alpha\":0.5,\"fill_color\":\"lightgrey\",\"left_units\":\"screen\",\"level\":\"overlay\",\"line_alpha\":1.0,\"line_color\":\"black\",\"line_dash\":[4,4],\"line_width\":2,\"right_units\":\"screen\",\"syncable\":false,\"top_units\":\"screen\"},\"id\":\"6616\",\"type\":\"BoxAnnotation\"},{\"attributes\":{\"formatter\":{\"id\":\"6902\"},\"major_label_policy\":{\"id\":\"6903\"},\"ticker\":{\"id\":\"6603\"}},\"id\":\"6602\",\"type\":\"LinearAxis\"},{\"attributes\":{},\"id\":\"6607\",\"type\":\"BasicTicker\"},{\"attributes\":{},\"id\":\"6903\",\"type\":\"AllLabels\"},{\"attributes\":{},\"id\":\"6909\",\"type\":\"UnionRenderers\"},{\"attributes\":{\"formatter\":{\"id\":\"6905\"},\"major_label_policy\":{\"id\":\"6906\"},\"ticker\":{\"id\":\"6607\"}},\"id\":\"6606\",\"type\":\"LinearAxis\"},{\"attributes\":{\"fill_alpha\":{\"value\":0.1},\"fill_color\":{\"value\":\"red\"},\"line_alpha\":{\"value\":0.1},\"line_color\":{\"value\":\"red\"},\"x\":{\"field\":\"x\"},\"y\":{\"field\":\"y\"}},\"id\":\"6626\",\"type\":\"Circle\"},{\"attributes\":{\"data_source\":{\"id\":\"6624\"},\"glyph\":{\"id\":\"6625\"},\"hover_glyph\":null,\"muted_glyph\":null,\"nonselection_glyph\":{\"id\":\"6626\"},\"view\":{\"id\":\"6628\"}},\"id\":\"6627\",\"type\":\"GlyphRenderer\"}],\"root_ids\":[\"6593\"]},\"title\":\"Bokeh Application\",\"version\":\"2.3.0\"}};\n",
       "  var render_items = [{\"docid\":\"9b24dd5a-36f5-4ced-b997-3a190bf4820e\",\"root_ids\":[\"6593\"],\"roots\":{\"6593\":\"b482542f-6e0b-47a3-b3e0-45efd6f4f841\"}}];\n",
       "  root.Bokeh.embed.embed_items_notebook(docs_json, render_items);\n",
       "\n",
       "  }\n",
       "  if (root.Bokeh !== undefined) {\n",
       "    embed_document(root);\n",
       "  } else {\n",
       "    var attempts = 0;\n",
       "    var timer = setInterval(function(root) {\n",
       "      if (root.Bokeh !== undefined) {\n",
       "        clearInterval(timer);\n",
       "        embed_document(root);\n",
       "      } else {\n",
       "        attempts++;\n",
       "        if (attempts > 100) {\n",
       "          clearInterval(timer);\n",
       "          console.log(\"Bokeh: ERROR: Unable to run BokehJS code because BokehJS library is missing\");\n",
       "        }\n",
       "      }\n",
       "    }, 10, root)\n",
       "  }\n",
       "})(window);"
      ],
      "application/vnd.bokehjs_exec.v0+json": ""
     },
     "metadata": {
      "application/vnd.bokehjs_exec.v0+json": {
       "id": "6593"
      }
     },
     "output_type": "display_data"
    }
   ],
   "source": [
    "n = 1000\n",
    "x = np.arange(n)\n",
    "y = np.random.rand(n)\n",
    "p = figure(plot_height=250)\n",
    "p.circle(x, y, color='red')\n",
    "show(p)"
   ]
  },
  {
   "cell_type": "markdown",
   "id": "agreed-chase",
   "metadata": {},
   "source": [
    "## Normal distribution"
   ]
  },
  {
   "cell_type": "code",
   "execution_count": 49,
   "id": "animal-optimization",
   "metadata": {},
   "outputs": [
    {
     "data": {
      "text/html": [
       "\n",
       "\n",
       "\n",
       "\n",
       "\n",
       "\n",
       "  <div class=\"bk-root\" id=\"9755a2dc-2527-4988-9165-0cd90180acc7\" data-root-id=\"7350\"></div>\n"
      ]
     },
     "metadata": {},
     "output_type": "display_data"
    },
    {
     "data": {
      "application/javascript": [
       "(function(root) {\n",
       "  function embed_document(root) {\n",
       "    \n",
       "  var docs_json = {\"42db09c0-0d49-4799-a82b-f76de3224056\":{\"defs\":[{\"extends\":null,\"module\":null,\"name\":\"DataModel\",\"overrides\":[],\"properties\":[]}],\"roots\":{\"references\":[{\"attributes\":{\"below\":[{\"id\":\"7359\"}],\"center\":[{\"id\":\"7362\"},{\"id\":\"7366\"}],\"height\":250,\"left\":[{\"id\":\"7363\"}],\"renderers\":[{\"id\":\"7384\"}],\"title\":{\"id\":\"7679\"},\"toolbar\":{\"id\":\"7374\"},\"x_range\":{\"id\":\"7351\"},\"x_scale\":{\"id\":\"7355\"},\"y_range\":{\"id\":\"7353\"},\"y_scale\":{\"id\":\"7357\"}},\"id\":\"7350\",\"subtype\":\"Figure\",\"type\":\"Plot\"},{\"attributes\":{\"formatter\":{\"id\":\"7681\"},\"major_label_policy\":{\"id\":\"7682\"},\"ticker\":{\"id\":\"7360\"}},\"id\":\"7359\",\"type\":\"LinearAxis\"},{\"attributes\":{},\"id\":\"7351\",\"type\":\"DataRange1d\"},{\"attributes\":{},\"id\":\"7368\",\"type\":\"WheelZoomTool\"},{\"attributes\":{\"axis\":{\"id\":\"7359\"},\"ticker\":null},\"id\":\"7362\",\"type\":\"Grid\"},{\"attributes\":{},\"id\":\"7681\",\"type\":\"BasicTickFormatter\"},{\"attributes\":{},\"id\":\"7684\",\"type\":\"BasicTickFormatter\"},{\"attributes\":{\"overlay\":{\"id\":\"7373\"}},\"id\":\"7369\",\"type\":\"BoxZoomTool\"},{\"attributes\":{\"axis\":{\"id\":\"7363\"},\"dimension\":1,\"ticker\":null},\"id\":\"7366\",\"type\":\"Grid\"},{\"attributes\":{\"source\":{\"id\":\"7381\"}},\"id\":\"7385\",\"type\":\"CDSView\"},{\"attributes\":{\"data_source\":{\"id\":\"7381\"},\"glyph\":{\"id\":\"7382\"},\"hover_glyph\":null,\"muted_glyph\":null,\"nonselection_glyph\":{\"id\":\"7383\"},\"view\":{\"id\":\"7385\"}},\"id\":\"7384\",\"type\":\"GlyphRenderer\"},{\"attributes\":{},\"id\":\"7370\",\"type\":\"SaveTool\"},{\"attributes\":{},\"id\":\"7364\",\"type\":\"BasicTicker\"},{\"attributes\":{},\"id\":\"7679\",\"type\":\"Title\"},{\"attributes\":{\"formatter\":{\"id\":\"7684\"},\"major_label_policy\":{\"id\":\"7685\"},\"ticker\":{\"id\":\"7364\"}},\"id\":\"7363\",\"type\":\"LinearAxis\"},{\"attributes\":{},\"id\":\"7371\",\"type\":\"ResetTool\"},{\"attributes\":{},\"id\":\"7360\",\"type\":\"BasicTicker\"},{\"attributes\":{},\"id\":\"7688\",\"type\":\"UnionRenderers\"},{\"attributes\":{},\"id\":\"7357\",\"type\":\"LinearScale\"},{\"attributes\":{},\"id\":\"7367\",\"type\":\"PanTool\"},{\"attributes\":{},\"id\":\"7372\",\"type\":\"HelpTool\"},{\"attributes\":{},\"id\":\"7353\",\"type\":\"DataRange1d\"},{\"attributes\":{\"fill_color\":{\"value\":\"red\"},\"line_color\":{\"value\":\"red\"},\"x\":{\"field\":\"x\"},\"y\":{\"field\":\"y\"}},\"id\":\"7382\",\"type\":\"Circle\"},{\"attributes\":{},\"id\":\"7687\",\"type\":\"Selection\"},{\"attributes\":{},\"id\":\"7682\",\"type\":\"AllLabels\"},{\"attributes\":{\"active_multi\":null,\"tools\":[{\"id\":\"7367\"},{\"id\":\"7368\"},{\"id\":\"7369\"},{\"id\":\"7370\"},{\"id\":\"7371\"},{\"id\":\"7372\"}]},\"id\":\"7374\",\"type\":\"Toolbar\"},{\"attributes\":{},\"id\":\"7355\",\"type\":\"LinearScale\"},{\"attributes\":{},\"id\":\"7685\",\"type\":\"AllLabels\"},{\"attributes\":{\"fill_alpha\":{\"value\":0.1},\"fill_color\":{\"value\":\"red\"},\"line_alpha\":{\"value\":0.1},\"line_color\":{\"value\":\"red\"},\"x\":{\"field\":\"x\"},\"y\":{\"field\":\"y\"}},\"id\":\"7383\",\"type\":\"Circle\"},{\"attributes\":{\"data\":{\"x\":[0,1,2,3,4,5,6,7,8,9,10,11,12,13,14,15,16,17,18,19,20,21,22,23,24,25,26,27,28,29,30,31,32,33,34,35,36,37,38,39,40,41,42,43,44,45,46,47,48,49,50,51,52,53,54,55,56,57,58,59,60,61,62,63,64,65,66,67,68,69,70,71,72,73,74,75,76,77,78,79,80,81,82,83,84,85,86,87,88,89,90,91,92,93,94,95,96,97,98,99,100,101,102,103,104,105,106,107,108,109,110,111,112,113,114,115,116,117,118,119,120,121,122,123,124,125,126,127,128,129,130,131,132,133,134,135,136,137,138,139,140,141,142,143,144,145,146,147,148,149,150,151,152,153,154,155,156,157,158,159,160,161,162,163,164,165,166,167,168,169,170,171,172,173,174,175,176,177,178,179,180,181,182,183,184,185,186,187,188,189,190,191,192,193,194,195,196,197,198,199,200,201,202,203,204,205,206,207,208,209,210,211,212,213,214,215,216,217,218,219,220,221,222,223,224,225,226,227,228,229,230,231,232,233,234,235,236,237,238,239,240,241,242,243,244,245,246,247,248,249,250,251,252,253,254,255,256,257,258,259,260,261,262,263,264,265,266,267,268,269,270,271,272,273,274,275,276,277,278,279,280,281,282,283,284,285,286,287,288,289,290,291,292,293,294,295,296,297,298,299,300,301,302,303,304,305,306,307,308,309,310,311,312,313,314,315,316,317,318,319,320,321,322,323,324,325,326,327,328,329,330,331,332,333,334,335,336,337,338,339,340,341,342,343,344,345,346,347,348,349,350,351,352,353,354,355,356,357,358,359,360,361,362,363,364,365,366,367,368,369,370,371,372,373,374,375,376,377,378,379,380,381,382,383,384,385,386,387,388,389,390,391,392,393,394,395,396,397,398,399,400,401,402,403,404,405,406,407,408,409,410,411,412,413,414,415,416,417,418,419,420,421,422,423,424,425,426,427,428,429,430,431,432,433,434,435,436,437,438,439,440,441,442,443,444,445,446,447,448,449,450,451,452,453,454,455,456,457,458,459,460,461,462,463,464,465,466,467,468,469,470,471,472,473,474,475,476,477,478,479,480,481,482,483,484,485,486,487,488,489,490,491,492,493,494,495,496,497,498,499,500,501,502,503,504,505,506,507,508,509,510,511,512,513,514,515,516,517,518,519,520,521,522,523,524,525,526,527,528,529,530,531,532,533,534,535,536,537,538,539,540,541,542,543,544,545,546,547,548,549,550,551,552,553,554,555,556,557,558,559,560,561,562,563,564,565,566,567,568,569,570,571,572,573,574,575,576,577,578,579,580,581,582,583,584,585,586,587,588,589,590,591,592,593,594,595,596,597,598,599,600,601,602,603,604,605,606,607,608,609,610,611,612,613,614,615,616,617,618,619,620,621,622,623,624,625,626,627,628,629,630,631,632,633,634,635,636,637,638,639,640,641,642,643,644,645,646,647,648,649,650,651,652,653,654,655,656,657,658,659,660,661,662,663,664,665,666,667,668,669,670,671,672,673,674,675,676,677,678,679,680,681,682,683,684,685,686,687,688,689,690,691,692,693,694,695,696,697,698,699,700,701,702,703,704,705,706,707,708,709,710,711,712,713,714,715,716,717,718,719,720,721,722,723,724,725,726,727,728,729,730,731,732,733,734,735,736,737,738,739,740,741,742,743,744,745,746,747,748,749,750,751,752,753,754,755,756,757,758,759,760,761,762,763,764,765,766,767,768,769,770,771,772,773,774,775,776,777,778,779,780,781,782,783,784,785,786,787,788,789,790,791,792,793,794,795,796,797,798,799,800,801,802,803,804,805,806,807,808,809,810,811,812,813,814,815,816,817,818,819,820,821,822,823,824,825,826,827,828,829,830,831,832,833,834,835,836,837,838,839,840,841,842,843,844,845,846,847,848,849,850,851,852,853,854,855,856,857,858,859,860,861,862,863,864,865,866,867,868,869,870,871,872,873,874,875,876,877,878,879,880,881,882,883,884,885,886,887,888,889,890,891,892,893,894,895,896,897,898,899,900,901,902,903,904,905,906,907,908,909,910,911,912,913,914,915,916,917,918,919,920,921,922,923,924,925,926,927,928,929,930,931,932,933,934,935,936,937,938,939,940,941,942,943,944,945,946,947,948,949,950,951,952,953,954,955,956,957,958,959,960,961,962,963,964,965,966,967,968,969,970,971,972,973,974,975,976,977,978,979,980,981,982,983,984,985,986,987,988,989,990,991,992,993,994,995,996,997,998,999],\"y\":{\"__ndarray__\":\"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\",\"dtype\":\"float64\",\"order\":\"little\",\"shape\":[1000]}},\"selected\":{\"id\":\"7687\"},\"selection_policy\":{\"id\":\"7688\"}},\"id\":\"7381\",\"type\":\"ColumnDataSource\"},{\"attributes\":{\"bottom_units\":\"screen\",\"fill_alpha\":0.5,\"fill_color\":\"lightgrey\",\"left_units\":\"screen\",\"level\":\"overlay\",\"line_alpha\":1.0,\"line_color\":\"black\",\"line_dash\":[4,4],\"line_width\":2,\"right_units\":\"screen\",\"syncable\":false,\"top_units\":\"screen\"},\"id\":\"7373\",\"type\":\"BoxAnnotation\"}],\"root_ids\":[\"7350\"]},\"title\":\"Bokeh Application\",\"version\":\"2.3.0\"}};\n",
       "  var render_items = [{\"docid\":\"42db09c0-0d49-4799-a82b-f76de3224056\",\"root_ids\":[\"7350\"],\"roots\":{\"7350\":\"9755a2dc-2527-4988-9165-0cd90180acc7\"}}];\n",
       "  root.Bokeh.embed.embed_items_notebook(docs_json, render_items);\n",
       "\n",
       "  }\n",
       "  if (root.Bokeh !== undefined) {\n",
       "    embed_document(root);\n",
       "  } else {\n",
       "    var attempts = 0;\n",
       "    var timer = setInterval(function(root) {\n",
       "      if (root.Bokeh !== undefined) {\n",
       "        clearInterval(timer);\n",
       "        embed_document(root);\n",
       "      } else {\n",
       "        attempts++;\n",
       "        if (attempts > 100) {\n",
       "          clearInterval(timer);\n",
       "          console.log(\"Bokeh: ERROR: Unable to run BokehJS code because BokehJS library is missing\");\n",
       "        }\n",
       "      }\n",
       "    }, 10, root)\n",
       "  }\n",
       "})(window);"
      ],
      "application/vnd.bokehjs_exec.v0+json": ""
     },
     "metadata": {
      "application/vnd.bokehjs_exec.v0+json": {
       "id": "7350"
      }
     },
     "output_type": "display_data"
    }
   ],
   "source": [
    "n = 1000\n",
    "x = np.arange(n)\n",
    "y = np.random.randn(n)\n",
    "p = figure(plot_height=250)\n",
    "p.circle(x, y, color='red')\n",
    "show(p)"
   ]
  },
  {
   "cell_type": "markdown",
   "id": "precious-injury",
   "metadata": {},
   "source": [
    "## Random walk"
   ]
  },
  {
   "cell_type": "code",
   "execution_count": 61,
   "id": "suffering-payment",
   "metadata": {},
   "outputs": [
    {
     "data": {
      "text/html": [
       "\n",
       "\n",
       "\n",
       "\n",
       "\n",
       "\n",
       "  <div class=\"bk-root\" id=\"f1cf750d-5c41-44f5-ae4f-aeceb09dcfb5\" data-root-id=\"10979\"></div>\n"
      ]
     },
     "metadata": {},
     "output_type": "display_data"
    },
    {
     "data": {
      "application/javascript": [
       "(function(root) {\n",
       "  function embed_document(root) {\n",
       "    \n",
       "  var docs_json = {\"7acf6dbc-621c-4cc4-b553-3a1fad27f268\":{\"defs\":[{\"extends\":null,\"module\":null,\"name\":\"DataModel\",\"overrides\":[],\"properties\":[]}],\"roots\":{\"references\":[{\"attributes\":{\"below\":[{\"id\":\"10988\"}],\"center\":[{\"id\":\"10991\"},{\"id\":\"10995\"}],\"height\":250,\"left\":[{\"id\":\"10992\"}],\"renderers\":[{\"id\":\"11013\"},{\"id\":\"11018\"}],\"title\":{\"id\":\"11415\"},\"toolbar\":{\"id\":\"11003\"},\"x_range\":{\"id\":\"10980\"},\"x_scale\":{\"id\":\"10984\"},\"y_range\":{\"id\":\"10982\"},\"y_scale\":{\"id\":\"10986\"}},\"id\":\"10979\",\"subtype\":\"Figure\",\"type\":\"Plot\"},{\"attributes\":{\"data\":{\"x\":[0,1,2,3,4,5,6,7,8,9,10,11,12,13,14,15,16,17,18,19,20,21,22,23,24,25,26,27,28,29,30,31,32,33,34,35,36,37,38,39,40,41,42,43,44,45,46,47,48,49,50,51,52,53,54,55,56,57,58,59,60,61,62,63,64,65,66,67,68,69,70,71,72,73,74,75,76,77,78,79,80,81,82,83,84,85,86,87,88,89,90,91,92,93,94,95,96,97,98,99,100,101,102,103,104,105,106,107,108,109,110,111,112,113,114,115,116,117,118,119,120,121,122,123,124,125,126,127,128,129,130,131,132,133,134,135,136,137,138,139,140,141,142,143,144,145,146,147,148,149,150,151,152,153,154,155,156,157,158,159,160,161,162,163,164,165,166,167,168,169,170,171,172,173,174,175,176,177,178,179,180,181,182,183,184,185,186,187,188,189,190,191,192,193,194,195,196,197,198,199,200,201,202,203,204,205,206,207,208,209,210,211,212,213,214,215,216,217,218,219,220,221,222,223,224,225,226,227,228,229,230,231,232,233,234,235,236,237,238,239,240,241,242,243,244,245,246,247,248,249,250,251,252,253,254,255,256,257,258,259,260,261,262,263,264,265,266,267,268,269,270,271,272,273,274,275,276,277,278,279,280,281,282,283,284,285,286,287,288,289,290,291,292,293,294,295,296,297,298,299,300,301,302,303,304,305,306,307,308,309,310,311,312,313,314,315,316,317,318,319,320,321,322,323,324,325,326,327,328,329,330,331,332,333,334,335,336,337,338,339,340,341,342,343,344,345,346,347,348,349,350,351,352,353,354,355,356,357,358,359,360,361,362,363,364,365,366,367,368,369,370,371,372,373,374,375,376,377,378,379,380,381,382,383,384,385,386,387,388,389,390,391,392,393,394,395,396,397,398,399,400,401,402,403,404,405,406,407,408,409,410,411,412,413,414,415,416,417,418,419,420,421,422,423,424,425,426,427,428,429,430,431,432,433,434,435,436,437,438,439,440,441,442,443,444,445,446,447,448,449,450,451,452,453,454,455,456,457,458,459,460,461,462,463,464,465,466,467,468,469,470,471,472,473,474,475,476,477,478,479,480,481,482,483,484,485,486,487,488,489,490,491,492,493,494,495,496,497,498,499,500,501,502,503,504,505,506,507,508,509,510,511,512,513,514,515,516,517,518,519,520,521,522,523,524,525,526,527,528,529,530,531,532,533,534,535,536,537,538,539,540,541,542,543,544,545,546,547,548,549,550,551,552,553,554,555,556,557,558,559,560,561,562,563,564,565,566,567,568,569,570,571,572,573,574,575,576,577,578,579,580,581,582,583,584,585,586,587,588,589,590,591,592,593,594,595,596,597,598,599,600,601,602,603,604,605,606,607,608,609,610,611,612,613,614,615,616,617,618,619,620,621,622,623,624,625,626,627,628,629,630,631,632,633,634,635,636,637,638,639,640,641,642,643,644,645,646,647,648,649,650,651,652,653,654,655,656,657,658,659,660,661,662,663,664,665,666,667,668,669,670,671,672,673,674,675,676,677,678,679,680,681,682,683,684,685,686,687,688,689,690,691,692,693,694,695,696,697,698,699,700,701,702,703,704,705,706,707,708,709,710,711,712,713,714,715,716,717,718,719,720,721,722,723,724,725,726,727,728,729,730,731,732,733,734,735,736,737,738,739,740,741,742,743,744,745,746,747,748,749,750,751,752,753,754,755,756,757,758,759,760,761,762,763,764,765,766,767,768,769,770,771,772,773,774,775,776,777,778,779,780,781,782,783,784,785,786,787,788,789,790,791,792,793,794,795,796,797,798,799,800,801,802,803,804,805,806,807,808,809,810,811,812,813,814,815,816,817,818,819,820,821,822,823,824,825,826,827,828,829,830,831,832,833,834,835,836,837,838,839,840,841,842,843,844,845,846,847,848,849,850,851,852,853,854,855,856,857,858,859,860,861,862,863,864,865,866,867,868,869,870,871,872,873,874,875,876,877,878,879,880,881,882,883,884,885,886,887,888,889,890,891,892,893,894,895,896,897,898,899,900,901,902,903,904,905,906,907,908,909,910,911,912,913,914,915,916,917,918,919,920,921,922,923,924,925,926,927,928,929,930,931,932,933,934,935,936,937,938,939,940,941,942,943,944,945,946,947,948,949,950,951,952,953,954,955,956,957,958,959,960,961,962,963,964,965,966,967,968,969,970,971,972,973,974,975,976,977,978,979,980,981,982,983,984,985,986,987,988,989,990,991,992,993,994,995,996,997,998,999],\"y\":[0,1,0,1,0,1,0,0,1,-1,1,-1,1,-1,-1,0,-1,-1,-1,1,1,0,0,1,-1,1,-1,1,1,1,1,-1,0,0,0,-1,0,0,-1,1,1,-1,0,-1,-1,-1,1,-1,0,-1,0,-1,0,-1,-1,-1,0,-1,-1,1,1,0,1,0,1,1,-1,1,-1,1,1,-1,0,0,0,0,0,-1,0,0,-1,0,-1,0,1,-1,1,0,1,1,1,-1,1,1,-1,0,-1,-1,-1,-1,1,1,-1,0,-1,-1,0,0,-1,1,1,-1,0,-1,0,0,0,-1,0,1,1,1,1,-1,1,0,1,1,1,-1,1,-1,1,-1,-1,-1,0,-1,-1,1,1,1,0,1,0,1,0,0,-1,-1,1,0,0,-1,1,1,1,0,0,1,0,-1,0,-1,0,0,0,0,1,-1,0,1,1,-1,0,-1,-1,1,1,1,-1,0,0,0,1,1,-1,1,1,-1,1,1,-1,-1,0,0,0,0,-1,1,-1,0,0,-1,0,0,0,-1,-1,-1,1,1,-1,0,1,0,1,-1,1,-1,1,0,0,1,-1,-1,1,1,1,-1,-1,1,0,1,0,-1,-1,1,0,-1,1,0,-1,1,-1,-1,1,1,-1,-1,0,-1,0,0,1,0,1,0,-1,0,0,0,1,1,-1,1,1,-1,1,-1,1,0,1,0,-1,0,1,-1,0,-1,1,1,0,0,0,1,0,-1,1,1,1,-1,1,-1,0,1,0,-1,-1,0,-1,-1,-1,0,1,-1,0,-1,0,0,0,0,0,-1,-1,1,-1,0,-1,1,0,1,0,-1,0,0,-1,-1,1,1,-1,1,0,0,0,0,0,0,0,-1,0,0,1,1,-1,1,1,1,0,-1,-1,0,-1,-1,0,-1,-1,-1,1,0,-1,1,-1,-1,1,0,-1,1,0,-1,0,1,-1,1,-1,0,-1,0,-1,0,1,1,1,-1,-1,1,-1,0,1,0,1,-1,0,0,0,0,-1,0,-1,-1,0,-1,-1,1,0,1,1,0,-1,-1,1,0,-1,0,0,0,-1,-1,-1,-1,1,0,0,1,1,0,0,-1,-1,-1,1,1,1,1,0,0,-1,1,-1,0,1,1,1,0,-1,1,-1,0,0,0,0,-1,0,1,-1,1,-1,1,1,-1,-1,0,0,0,1,-1,1,-1,0,1,1,0,-1,1,1,1,1,0,-1,-1,1,0,0,0,-1,1,1,0,1,1,0,-1,-1,0,1,1,0,-1,-1,1,1,1,0,0,0,0,-1,1,1,0,0,0,1,0,1,-1,1,0,-1,0,0,1,0,-1,-1,0,0,-1,-1,0,-1,-1,1,1,0,-1,-1,-1,0,0,1,0,1,-1,0,1,-1,1,1,1,0,0,1,0,1,1,0,-1,0,-1,0,-1,-1,-1,-1,0,1,-1,0,0,0,0,0,0,0,-1,0,0,0,-1,-1,1,-1,-1,-1,0,-1,0,-1,1,0,1,-1,-1,0,0,0,1,0,-1,-1,-1,1,1,0,1,0,0,-1,-1,0,1,0,-1,-1,-1,0,0,1,0,1,0,-1,0,1,1,0,-1,1,1,-1,-1,0,1,-1,-1,0,-1,0,1,0,0,1,-1,-1,-1,-1,-1,0,1,0,0,-1,1,1,-1,1,-1,1,1,-1,1,0,0,1,1,1,1,0,-1,1,0,-1,-1,1,0,1,-1,0,-1,0,-1,-1,-1,0,-1,1,-1,-1,1,-1,-1,0,-1,1,-1,0,0,1,1,0,-1,-1,0,-1,0,1,1,1,0,0,0,-1,0,-1,1,0,-1,0,0,-1,1,0,1,0,-1,1,-1,1,1,1,1,0,-1,0,0,-1,0,-1,0,0,1,1,1,0,0,0,1,1,-1,1,-1,0,-1,1,-1,1,1,0,0,1,1,0,-1,0,0,-1,-1,1,1,1,1,-1,1,1,0,-1,-1,0,-1,-1,0,1,1,0,-1,0,0,0,-1,-1,0,1,1,-1,0,0,1,0,1,1,-1,0,-1,1,0,0,1,-1,1,0,-1,1,-1,-1,0,-1,-1,-1,-1,-1,1,-1,0,1,1,0,0,1,-1,0,0,1,-1,1,0,1,-1,-1,1,-1,1,-1,0,-1,1,-1,0,0,0,-1,-1,0,-1,0,0,-1,1,0,1,-1,-1,-1,1,-1,1,-1,0,0,0,-1,0,0,0,1,1,1,0,0,-1,-1,1,0,1,1,0,0,1,1,0,-1,-1,-1,0,-1,0,1,1,0,-1,-1,1,-1,1,0,-1,0,0,0,0,0,1,0,-1,0,-1,-1,-1,0,1,1,1,-1,1,0,-1,1,-1,-1,-1,0,0,-1,0,1,0,-1,0,0,0,1,0,1,-1,0,1,-1,-1,0,-1,0,0,-1,1,-1,0,1,-1,-1,-1,-1,-1,1,0,-1,-1,-1,1,0,1,1,-1,-1,1,0,0,-1,0,0,0,0,0,0,-1,-1,-1,-1,0,-1,-1,-1,0,1,-1,1,0,0,-1,0,0]},\"selected\":{\"id\":\"11425\"},\"selection_policy\":{\"id\":\"11426\"}},\"id\":\"11015\",\"type\":\"ColumnDataSource\"},{\"attributes\":{\"data\":{\"x\":[0,1,2,3,4,5,6,7,8,9,10,11,12,13,14,15,16,17,18,19,20,21,22,23,24,25,26,27,28,29,30,31,32,33,34,35,36,37,38,39,40,41,42,43,44,45,46,47,48,49,50,51,52,53,54,55,56,57,58,59,60,61,62,63,64,65,66,67,68,69,70,71,72,73,74,75,76,77,78,79,80,81,82,83,84,85,86,87,88,89,90,91,92,93,94,95,96,97,98,99,100,101,102,103,104,105,106,107,108,109,110,111,112,113,114,115,116,117,118,119,120,121,122,123,124,125,126,127,128,129,130,131,132,133,134,135,136,137,138,139,140,141,142,143,144,145,146,147,148,149,150,151,152,153,154,155,156,157,158,159,160,161,162,163,164,165,166,167,168,169,170,171,172,173,174,175,176,177,178,179,180,181,182,183,184,185,186,187,188,189,190,191,192,193,194,195,196,197,198,199,200,201,202,203,204,205,206,207,208,209,210,211,212,213,214,215,216,217,218,219,220,221,222,223,224,225,226,227,228,229,230,231,232,233,234,235,236,237,238,239,240,241,242,243,244,245,246,247,248,249,250,251,252,253,254,255,256,257,258,259,260,261,262,263,264,265,266,267,268,269,270,271,272,273,274,275,276,277,278,279,280,281,282,283,284,285,286,287,288,289,290,291,292,293,294,295,296,297,298,299,300,301,302,303,304,305,306,307,308,309,310,311,312,313,314,315,316,317,318,319,320,321,322,323,324,325,326,327,328,329,330,331,332,333,334,335,336,337,338,339,340,341,342,343,344,345,346,347,348,349,350,351,352,353,354,355,356,357,358,359,360,361,362,363,364,365,366,367,368,369,370,371,372,373,374,375,376,377,378,379,380,381,382,383,384,385,386,387,388,389,390,391,392,393,394,395,396,397,398,399,400,401,402,403,404,405,406,407,408,409,410,411,412,413,414,415,416,417,418,419,420,421,422,423,424,425,426,427,428,429,430,431,432,433,434,435,436,437,438,439,440,441,442,443,444,445,446,447,448,449,450,451,452,453,454,455,456,457,458,459,460,461,462,463,464,465,466,467,468,469,470,471,472,473,474,475,476,477,478,479,480,481,482,483,484,485,486,487,488,489,490,491,492,493,494,495,496,497,498,499,500,501,502,503,504,505,506,507,508,509,510,511,512,513,514,515,516,517,518,519,520,521,522,523,524,525,526,527,528,529,530,531,532,533,534,535,536,537,538,539,540,541,542,543,544,545,546,547,548,549,550,551,552,553,554,555,556,557,558,559,560,561,562,563,564,565,566,567,568,569,570,571,572,573,574,575,576,577,578,579,580,581,582,583,584,585,586,587,588,589,590,591,592,593,594,595,596,597,598,599,600,601,602,603,604,605,606,607,608,609,610,611,612,613,614,615,616,617,618,619,620,621,622,623,624,625,626,627,628,629,630,631,632,633,634,635,636,637,638,639,640,641,642,643,644,645,646,647,648,649,650,651,652,653,654,655,656,657,658,659,660,661,662,663,664,665,666,667,668,669,670,671,672,673,674,675,676,677,678,679,680,681,682,683,684,685,686,687,688,689,690,691,692,693,694,695,696,697,698,699,700,701,702,703,704,705,706,707,708,709,710,711,712,713,714,715,716,717,718,719,720,721,722,723,724,725,726,727,728,729,730,731,732,733,734,735,736,737,738,739,740,741,742,743,744,745,746,747,748,749,750,751,752,753,754,755,756,757,758,759,760,761,762,763,764,765,766,767,768,769,770,771,772,773,774,775,776,777,778,779,780,781,782,783,784,785,786,787,788,789,790,791,792,793,794,795,796,797,798,799,800,801,802,803,804,805,806,807,808,809,810,811,812,813,814,815,816,817,818,819,820,821,822,823,824,825,826,827,828,829,830,831,832,833,834,835,836,837,838,839,840,841,842,843,844,845,846,847,848,849,850,851,852,853,854,855,856,857,858,859,860,861,862,863,864,865,866,867,868,869,870,871,872,873,874,875,876,877,878,879,880,881,882,883,884,885,886,887,888,889,890,891,892,893,894,895,896,897,898,899,900,901,902,903,904,905,906,907,908,909,910,911,912,913,914,915,916,917,918,919,920,921,922,923,924,925,926,927,928,929,930,931,932,933,934,935,936,937,938,939,940,941,942,943,944,945,946,947,948,949,950,951,952,953,954,955,956,957,958,959,960,961,962,963,964,965,966,967,968,969,970,971,972,973,974,975,976,977,978,979,980,981,982,983,984,985,986,987,988,989,990,991,992,993,994,995,996,997,998,999],\"y\":[0,1,1,2,2,3,3,3,4,3,4,3,4,3,2,2,1,0,-1,0,1,1,1,2,1,2,1,2,3,4,5,4,4,4,4,3,3,3,2,3,4,3,3,2,1,0,1,0,0,-1,-1,-2,-2,-3,-4,-5,-5,-6,-7,-6,-5,-5,-4,-4,-3,-2,-3,-2,-3,-2,-1,-2,-2,-2,-2,-2,-2,-3,-3,-3,-4,-4,-5,-5,-4,-5,-4,-4,-3,-2,-1,-2,-1,0,-1,-1,-2,-3,-4,-5,-4,-3,-4,-4,-5,-6,-6,-6,-7,-6,-5,-6,-6,-7,-7,-7,-7,-8,-8,-7,-6,-5,-4,-5,-4,-4,-3,-2,-1,-2,-1,-2,-1,-2,-3,-4,-4,-5,-6,-5,-4,-3,-3,-2,-2,-1,-1,-1,-2,-3,-2,-2,-2,-3,-2,-1,0,0,0,1,1,0,0,-1,-1,-1,-1,-1,0,-1,-1,0,1,0,0,-1,-2,-1,0,1,0,0,0,0,1,2,1,2,3,2,3,4,3,2,2,2,2,2,1,2,1,1,1,0,0,0,0,-1,-2,-3,-2,-1,-2,-2,-1,-1,0,-1,0,-1,0,0,0,1,0,-1,0,1,2,1,0,1,1,2,2,1,0,1,1,0,1,1,0,1,0,-1,0,1,0,-1,-1,-2,-2,-2,-1,-1,0,0,-1,-1,-1,-1,0,1,0,1,2,1,2,1,2,2,3,3,2,2,3,2,2,1,2,3,3,3,3,4,4,3,4,5,6,5,6,5,5,6,6,5,4,4,3,2,1,1,2,1,1,0,0,0,0,0,0,-1,-2,-1,-2,-2,-3,-2,-2,-1,-1,-2,-2,-2,-3,-4,-3,-2,-3,-2,-2,-2,-2,-2,-2,-2,-2,-3,-3,-3,-2,-1,-2,-1,0,1,1,0,-1,-1,-2,-3,-3,-4,-5,-6,-5,-5,-6,-5,-6,-7,-6,-6,-7,-6,-6,-7,-7,-6,-7,-6,-7,-7,-8,-8,-9,-9,-8,-7,-6,-7,-8,-7,-8,-8,-7,-7,-6,-7,-7,-7,-7,-7,-8,-8,-9,-10,-10,-11,-12,-11,-11,-10,-9,-9,-10,-11,-10,-10,-11,-11,-11,-11,-12,-13,-14,-15,-14,-14,-14,-13,-12,-12,-12,-13,-14,-15,-14,-13,-12,-11,-11,-11,-12,-11,-12,-12,-11,-10,-9,-9,-10,-9,-10,-10,-10,-10,-10,-11,-11,-10,-11,-10,-11,-10,-9,-10,-11,-11,-11,-11,-10,-11,-10,-11,-11,-10,-9,-9,-10,-9,-8,-7,-6,-6,-7,-8,-7,-7,-7,-7,-8,-7,-6,-6,-5,-4,-4,-5,-6,-6,-5,-4,-4,-5,-6,-5,-4,-3,-3,-3,-3,-3,-4,-3,-2,-2,-2,-2,-1,-1,0,-1,0,0,-1,-1,-1,0,0,-1,-2,-2,-2,-3,-4,-4,-5,-6,-5,-4,-4,-5,-6,-7,-7,-7,-6,-6,-5,-6,-6,-5,-6,-5,-4,-3,-3,-3,-2,-2,-1,0,0,-1,-1,-2,-2,-3,-4,-5,-6,-6,-5,-6,-6,-6,-6,-6,-6,-6,-6,-7,-7,-7,-7,-8,-9,-8,-9,-10,-11,-11,-12,-12,-13,-12,-12,-11,-12,-13,-13,-13,-13,-12,-12,-13,-14,-15,-14,-13,-13,-12,-12,-12,-13,-14,-14,-13,-13,-14,-15,-16,-16,-16,-15,-15,-14,-14,-15,-15,-14,-13,-13,-14,-13,-12,-13,-14,-14,-13,-14,-15,-15,-16,-16,-15,-15,-15,-14,-15,-16,-17,-18,-19,-19,-18,-18,-18,-19,-18,-17,-18,-17,-18,-17,-16,-17,-16,-16,-16,-15,-14,-13,-12,-12,-13,-12,-12,-13,-14,-13,-13,-12,-13,-13,-14,-14,-15,-16,-17,-17,-18,-17,-18,-19,-18,-19,-20,-20,-21,-20,-21,-21,-21,-20,-19,-19,-20,-21,-21,-22,-22,-21,-20,-19,-19,-19,-19,-20,-20,-21,-20,-20,-21,-21,-21,-22,-21,-21,-20,-20,-21,-20,-21,-20,-19,-18,-17,-17,-18,-18,-18,-19,-19,-20,-20,-20,-19,-18,-17,-17,-17,-17,-16,-15,-16,-15,-16,-16,-17,-16,-17,-16,-15,-15,-15,-14,-13,-13,-14,-14,-14,-15,-16,-15,-14,-13,-12,-13,-12,-11,-11,-12,-13,-13,-14,-15,-15,-14,-13,-13,-14,-14,-14,-14,-15,-16,-16,-15,-14,-15,-15,-15,-14,-14,-13,-12,-13,-13,-14,-13,-13,-13,-12,-13,-12,-12,-13,-12,-13,-14,-14,-15,-16,-17,-18,-19,-18,-19,-19,-18,-17,-17,-17,-16,-17,-17,-17,-16,-17,-16,-16,-15,-16,-17,-16,-17,-16,-17,-17,-18,-17,-18,-18,-18,-18,-19,-20,-20,-21,-21,-21,-22,-21,-21,-20,-21,-22,-23,-22,-23,-22,-23,-23,-23,-23,-24,-24,-24,-24,-23,-22,-21,-21,-21,-22,-23,-22,-22,-21,-20,-20,-20,-19,-18,-18,-19,-20,-21,-21,-22,-22,-21,-20,-20,-21,-22,-21,-22,-21,-21,-22,-22,-22,-22,-22,-22,-21,-21,-22,-22,-23,-24,-25,-25,-24,-23,-22,-23,-22,-22,-23,-22,-23,-24,-25,-25,-25,-26,-26,-25,-25,-26,-26,-26,-26,-25,-25,-24,-25,-25,-24,-25,-26,-26,-27,-27,-27,-28,-27,-28,-28,-27,-28,-29,-30,-31,-32,-31,-31,-32,-33,-34,-33,-33,-32,-31,-32,-33,-32,-32,-32,-33,-33,-33,-33,-33,-33,-33,-34,-35,-36,-37,-37,-38,-39,-40,-40,-39,-40,-39,-39,-39,-40,-40,-40]},\"selected\":{\"id\":\"11423\"},\"selection_policy\":{\"id\":\"11424\"}},\"id\":\"11010\",\"type\":\"ColumnDataSource\"},{\"attributes\":{\"line_color\":\"#1f77b4\",\"x\":{\"field\":\"x\"},\"y\":{\"field\":\"y\"}},\"id\":\"11011\",\"type\":\"Line\"},{\"attributes\":{\"line_alpha\":0.1,\"line_color\":\"red\",\"x\":{\"field\":\"x\"},\"y\":{\"field\":\"y\"}},\"id\":\"11017\",\"type\":\"Line\"},{\"attributes\":{},\"id\":\"11421\",\"type\":\"AllLabels\"},{\"attributes\":{},\"id\":\"11424\",\"type\":\"UnionRenderers\"},{\"attributes\":{\"line_color\":\"red\",\"x\":{\"field\":\"x\"},\"y\":{\"field\":\"y\"}},\"id\":\"11016\",\"type\":\"Line\"},{\"attributes\":{\"bottom_units\":\"screen\",\"fill_alpha\":0.5,\"fill_color\":\"lightgrey\",\"left_units\":\"screen\",\"level\":\"overlay\",\"line_alpha\":1.0,\"line_color\":\"black\",\"line_dash\":[4,4],\"line_width\":2,\"right_units\":\"screen\",\"syncable\":false,\"top_units\":\"screen\"},\"id\":\"11002\",\"type\":\"BoxAnnotation\"},{\"attributes\":{},\"id\":\"11417\",\"type\":\"BasicTickFormatter\"},{\"attributes\":{},\"id\":\"11425\",\"type\":\"Selection\"},{\"attributes\":{},\"id\":\"11415\",\"type\":\"Title\"},{\"attributes\":{},\"id\":\"10996\",\"type\":\"PanTool\"},{\"attributes\":{\"source\":{\"id\":\"11015\"}},\"id\":\"11019\",\"type\":\"CDSView\"},{\"attributes\":{},\"id\":\"10997\",\"type\":\"WheelZoomTool\"},{\"attributes\":{},\"id\":\"11418\",\"type\":\"AllLabels\"},{\"attributes\":{},\"id\":\"11426\",\"type\":\"UnionRenderers\"},{\"attributes\":{},\"id\":\"10980\",\"type\":\"DataRange1d\"},{\"attributes\":{},\"id\":\"11420\",\"type\":\"BasicTickFormatter\"},{\"attributes\":{\"overlay\":{\"id\":\"11002\"}},\"id\":\"10998\",\"type\":\"BoxZoomTool\"},{\"attributes\":{\"data_source\":{\"id\":\"11010\"},\"glyph\":{\"id\":\"11011\"},\"hover_glyph\":null,\"muted_glyph\":null,\"nonselection_glyph\":{\"id\":\"11012\"},\"view\":{\"id\":\"11014\"}},\"id\":\"11013\",\"type\":\"GlyphRenderer\"},{\"attributes\":{},\"id\":\"10999\",\"type\":\"SaveTool\"},{\"attributes\":{},\"id\":\"10982\",\"type\":\"DataRange1d\"},{\"attributes\":{},\"id\":\"11000\",\"type\":\"ResetTool\"},{\"attributes\":{},\"id\":\"10984\",\"type\":\"LinearScale\"},{\"attributes\":{\"line_alpha\":0.1,\"line_color\":\"#1f77b4\",\"x\":{\"field\":\"x\"},\"y\":{\"field\":\"y\"}},\"id\":\"11012\",\"type\":\"Line\"},{\"attributes\":{},\"id\":\"11001\",\"type\":\"HelpTool\"},{\"attributes\":{\"source\":{\"id\":\"11010\"}},\"id\":\"11014\",\"type\":\"CDSView\"},{\"attributes\":{},\"id\":\"10986\",\"type\":\"LinearScale\"},{\"attributes\":{\"data_source\":{\"id\":\"11015\"},\"glyph\":{\"id\":\"11016\"},\"hover_glyph\":null,\"muted_glyph\":null,\"nonselection_glyph\":{\"id\":\"11017\"},\"view\":{\"id\":\"11019\"}},\"id\":\"11018\",\"type\":\"GlyphRenderer\"},{\"attributes\":{\"formatter\":{\"id\":\"11417\"},\"major_label_policy\":{\"id\":\"11418\"},\"ticker\":{\"id\":\"10989\"}},\"id\":\"10988\",\"type\":\"LinearAxis\"},{\"attributes\":{},\"id\":\"10993\",\"type\":\"BasicTicker\"},{\"attributes\":{},\"id\":\"11423\",\"type\":\"Selection\"},{\"attributes\":{},\"id\":\"10989\",\"type\":\"BasicTicker\"},{\"attributes\":{\"active_multi\":null,\"tools\":[{\"id\":\"10996\"},{\"id\":\"10997\"},{\"id\":\"10998\"},{\"id\":\"10999\"},{\"id\":\"11000\"},{\"id\":\"11001\"}]},\"id\":\"11003\",\"type\":\"Toolbar\"},{\"attributes\":{\"axis\":{\"id\":\"10988\"},\"ticker\":null},\"id\":\"10991\",\"type\":\"Grid\"},{\"attributes\":{\"axis\":{\"id\":\"10992\"},\"dimension\":1,\"ticker\":null},\"id\":\"10995\",\"type\":\"Grid\"},{\"attributes\":{\"formatter\":{\"id\":\"11420\"},\"major_label_policy\":{\"id\":\"11421\"},\"ticker\":{\"id\":\"10993\"}},\"id\":\"10992\",\"type\":\"LinearAxis\"}],\"root_ids\":[\"10979\"]},\"title\":\"Bokeh Application\",\"version\":\"2.3.0\"}};\n",
       "  var render_items = [{\"docid\":\"7acf6dbc-621c-4cc4-b553-3a1fad27f268\",\"root_ids\":[\"10979\"],\"roots\":{\"10979\":\"f1cf750d-5c41-44f5-ae4f-aeceb09dcfb5\"}}];\n",
       "  root.Bokeh.embed.embed_items_notebook(docs_json, render_items);\n",
       "\n",
       "  }\n",
       "  if (root.Bokeh !== undefined) {\n",
       "    embed_document(root);\n",
       "  } else {\n",
       "    var attempts = 0;\n",
       "    var timer = setInterval(function(root) {\n",
       "      if (root.Bokeh !== undefined) {\n",
       "        clearInterval(timer);\n",
       "        embed_document(root);\n",
       "      } else {\n",
       "        attempts++;\n",
       "        if (attempts > 100) {\n",
       "          clearInterval(timer);\n",
       "          console.log(\"Bokeh: ERROR: Unable to run BokehJS code because BokehJS library is missing\");\n",
       "        }\n",
       "      }\n",
       "    }, 10, root)\n",
       "  }\n",
       "})(window);"
      ],
      "application/vnd.bokehjs_exec.v0+json": ""
     },
     "metadata": {
      "application/vnd.bokehjs_exec.v0+json": {
       "id": "10979"
      }
     },
     "output_type": "display_data"
    }
   ],
   "source": [
    "n = 1000\n",
    "x = np.arange(n)\n",
    "y = np.random.randint(-1, 2, size=n)\n",
    "p = figure(plot_height=250)\n",
    "p.line(x, np.cumsum(y))\n",
    "p.line(x, y, color='red')\n",
    "show(p)"
   ]
  },
  {
   "cell_type": "markdown",
   "id": "fleet-breath",
   "metadata": {},
   "source": [
    "## Random dotsize"
   ]
  },
  {
   "cell_type": "code",
   "execution_count": 64,
   "id": "moving-seattle",
   "metadata": {},
   "outputs": [
    {
     "data": {
      "text/html": [
       "\n",
       "\n",
       "\n",
       "\n",
       "\n",
       "\n",
       "  <div class=\"bk-root\" id=\"0cbfc0ac-fbed-4384-b531-d68e6fb6fe5d\" data-root-id=\"12543\"></div>\n"
      ]
     },
     "metadata": {},
     "output_type": "display_data"
    },
    {
     "data": {
      "application/javascript": [
       "(function(root) {\n",
       "  function embed_document(root) {\n",
       "    \n",
       "  var docs_json = {\"7070a3e2-b27d-4cf3-9e25-5cc3b118f8f7\":{\"defs\":[{\"extends\":null,\"module\":null,\"name\":\"DataModel\",\"overrides\":[],\"properties\":[]}],\"roots\":{\"references\":[{\"attributes\":{\"below\":[{\"id\":\"12552\"}],\"center\":[{\"id\":\"12555\"},{\"id\":\"12559\"}],\"height\":250,\"left\":[{\"id\":\"12556\"}],\"renderers\":[{\"id\":\"12577\"}],\"title\":{\"id\":\"13011\"},\"toolbar\":{\"id\":\"12567\"},\"x_range\":{\"id\":\"12544\"},\"x_scale\":{\"id\":\"12548\"},\"y_range\":{\"id\":\"12546\"},\"y_scale\":{\"id\":\"12550\"}},\"id\":\"12543\",\"subtype\":\"Figure\",\"type\":\"Plot\"},{\"attributes\":{},\"id\":\"13013\",\"type\":\"BasicTickFormatter\"},{\"attributes\":{\"active_multi\":null,\"tools\":[{\"id\":\"12560\"},{\"id\":\"12561\"},{\"id\":\"12562\"},{\"id\":\"12563\"},{\"id\":\"12564\"},{\"id\":\"12565\"}]},\"id\":\"12567\",\"type\":\"Toolbar\"},{\"attributes\":{\"data\":{\"size\":{\"__ndarray__\":\"M95kbWOYIkC8xLGFDpozQFoqNpmQshtAIChnLTNZ3j8ePE7dT3AcQMAtNy5Muu4/4VabrTKpJUCcN6vKLFQCQC2+ri/mnSpAmQitmcYlM0BsPl7BBdksQDvWrp60KyxALf3zkn35JEAoxeXAV6YaQHxIDouYhSRAOglTMe2ZMkAyKUNUQHUwQLDPnqgQ48w/5o6iGs+/LED7P5o48XIvQN5nHOBxtihAM+ioH9zAMUD2tI6b7bIvQBmN/pLRThFAkllEyu6eL0CrOj9w0KchQF6EIz1qSylAvl2N+xThG0Bsy/svX9ExQOYRrPo5Efs/JcymA5SxMUDI9MB1YQ0nQOo7WON7ByRArQsPV74/BUBwQNxi9IsCQCp1svpfFPw/+vl6IIUEMEDT/SY79v8CQBAdMxtV5SZAYEUdrDAYMECgBaXsVoQrQDgK8ifwfus/cwCrGheGGkClJVgkLisuQOEY6spsGjBACOJeBn1d0j/BmD9HskMaQPramqwIyShAYRVkNqn5FEBg2I1+KIUXQJC3v1a3NB1A5TatqgqYMkAkRfBIW2YiQLPAnVgihSZAZrm3tnyHI0CUHpBmLTgOQKRu+kHbeSxA6TrjgR39KUBTVv9Y+O4yQKsNahLQtTJA3ymeMoXTHUBOShNm+FojQNwhl4R+4w9AJyle+9ECA0AYEQSF398yQKpm66RHwTJAeJSsojxpIUCjK1t+1SAWQNR5cCodoxNAigeuwg0JBEDMF5Gri0QwQKpl7cXuGhVAnDuH5YdBMUAFqWkwL2EkQKT1iBxfJwxAcXyiZH3iLkCRBOOQycYxQOxSKYMJcCtAukSYDPgqFEDVmsv/wwwsQGc/et7CGzJAUguu6wI28T+KvECYKlAyQBShDKP9sShAkV1VKpH6BEBKrJw6bPAbQFIWETRgmiFAd1aqeVABF0B2pC5mZvAZQOxBL01TaBVAgBAeJADZM0CIGUEkDxPzPzSbI5i6sC9ArrH/LptdCUBCVRvA6fMQQIZT2TFIGBdAEmjZGE5PFEA0Z3bQgYYsQNRjtbhI5TJArPYMYPw5G0A=\",\"dtype\":\"float64\",\"order\":\"little\",\"shape\":[100]},\"x\":{\"__ndarray__\":\"U1bWeFsqAEAZrEzaiWr1v9IyPTVPaZs/gdqiVBUZ1D9/PViVZXr9P1ZAdbasFOK/hrBNRHItwr9ARDEoZgPmP4M0rZYel/U/iXj/jOSppz/hYzeXXTrgvxGnH77nN9I/y2lpiZPR9T+cHwO9B5Pev8KJUVXQfrQ/q0kcTK/MvT/2IInbyyXzv/PKUspqbYg/pEmbVnZc8D+3R50bJET+v92faCq0+vi/6Qt2riQ27b+tPTZ3/0HbPwC90f6qnLk/dUIYoKJLyj+E7IevLjLdP/i0ToRfQfS/zAmdipI/AEC+vKPFGgLiv71g4lysHuo/GHrRFJuA578bK9mBZPnPv6+bwSZTXeK/Qwkee7K87z/QY12kR4WsP2U8+5LQPvi/FFtvQBa87r9IK+P2+tjQvxZhDkTThgFAMMp8qw617r9Q2KzBDuHoP2jAQTexbL8/OqkQgG3J0j/6JLysNZPxPwGIVC9fX9I/P90DUAbY4r/0lDLwkJPyP9GzkD85ud6/nDvAolpNyL+Ex9SILNjyv/gQMYdEafu/q0soP6VD6T8sc4gdZmECQLHF6TLrefI/tiuA1x1c9j+H5Yxn65nVvzfG+R+5Meq/b+SauELJ6z+449zSQjgEQCd+4w7fHPU/FxGA/zlk+T+68ztisLzuv/xrR6TOX8c/ID7QCxdf4b8kYRe1bc/Jv9cR5hW18PW/bMA+Y8kCw788UYp64gjVv/7nLKu8jeY/6Q5XBWvuyT932ppeYRPyv4Iu3U8P0eo/npExP9oS8j/xXG18OTvTv4eNEjSPP/g/9lt0G95mzz8Tr2J4QSQCwH7Dw6ol6rQ/CuQWniiZuL8iSchtV6SyP7okva2Afdm/WYAo2bP+8r/29tjRtzrgv5FJVepV97g/W6O+hJL55j+sP1EOEnniP+zw4rSjLoE/pmJ7yxMH87/iUpo0Rgf6P4BWiXVmC74/ceQpHegSvL8mX/LrmvDTP7S1aO8cJuu/Ljk5n3hYyD9Or0PPPSjSv/V86drDmPC/UYC/VNJm4D/9j08NG2TCP8Maz1+WJfY/t4PoSqUmwL8=\",\"dtype\":\"float64\",\"order\":\"little\",\"shape\":[100]},\"y\":{\"__ndarray__\":\"UTsx666nzT/8f2O7KqQAQJjGnGx/4/u/Ypx29Q52+z99yCSf1T3jP+vSQoCvd9W/wXq/APwS8z83zs/D4KXBPz3OQAZNEPE/ez2rDYAv9L9L33i5N8HuP/nRGZHb4Oq/8v0GH6F38r+JMbXlJL7wv4cBjM8Q0fi/TsQ+OCLj8T9ZuepDiS6zP0nTHpjWn8o/GN3HIntl8D/7udF6liDKP9GPjI5sv9G/ePNQ/lIw3D/eX1rB4Xjrv1+DUAguM9u/C8oR+fIU+78cTAFXbhX6v5AyKSkP+ci/+StrMyunyr+6funZH+npP36q2FsD4fU/gvE3bA584L+mAxu3WpqmvxHP00zeYvS/Fnhhuf8E9b9FCZaAzNzmP9Rf/KeWxsi/0yL9R3DUxT+OnpfongTqv/as+6roDvG/O2zl88t14b8ZsPvmYjTSP+aCwg3L5+u/AsJNWUt27D91O+2hJc/wP2Di87WqP9g/3SoT7riosz8PWVgYGhjJv/oWScf0mrW/ZABMDukH9L/ddEQWAEvgP6sx593uRPK/WsZoZuOT0b9+DwqLATnxv8KIgxJNSADA/HSPEWE4AUCIs8WROz39v8+f4h7zQMa/ktiKlJM59r/DhSqZPHrMv8phj4Qbn9o/0vhjTzny/j83rASNo33wvyysOClPLty/byztuZTA1z+Keuw4DTb/P5ptcSdlWN0/f4XmMYfg27/XLJrL5s/tv7ICAPjplLG/gvWYjDGfyr8tk2w36aHov6wbcQ3dIAbA9NJGzSpBAkCWcSNM3k27P6fCJ7oLq+0/Q9FE09YHBMC8JZnLr42yP7HFv/Hb+NQ/auIVat8H/D8BApp9RE/Rv0QMcqZuAty/mZkqUWmP0D9DkASmRJf3v9ECzxwb0NC/xzgtLZm/9T9+j1GoQXbbP/1eFXU/DIo/c++OrARx17+wR++mcb7Xv917ICKCgMu/Hffawk24AMDHY9iKjpvnv/PSKHlDTt6/MSVrLNvY7L+5XTuk557mv0NZbbN+79M/afn18eIJ778kHoHjdpnavx/pYVeze9Q/jFYoQwn40r8=\",\"dtype\":\"float64\",\"order\":\"little\",\"shape\":[100]}},\"selected\":{\"id\":\"13019\"},\"selection_policy\":{\"id\":\"13020\"}},\"id\":\"12574\",\"type\":\"ColumnDataSource\"},{\"attributes\":{\"fill_color\":{\"value\":\"red\"},\"line_color\":{\"value\":\"red\"},\"size\":{\"field\":\"size\"},\"x\":{\"field\":\"x\"},\"y\":{\"field\":\"y\"}},\"id\":\"12575\",\"type\":\"Circle\"},{\"attributes\":{\"data_source\":{\"id\":\"12574\"},\"glyph\":{\"id\":\"12575\"},\"hover_glyph\":null,\"muted_glyph\":null,\"nonselection_glyph\":{\"id\":\"12576\"},\"view\":{\"id\":\"12578\"}},\"id\":\"12577\",\"type\":\"GlyphRenderer\"},{\"attributes\":{\"bottom_units\":\"screen\",\"fill_alpha\":0.5,\"fill_color\":\"lightgrey\",\"left_units\":\"screen\",\"level\":\"overlay\",\"line_alpha\":1.0,\"line_color\":\"black\",\"line_dash\":[4,4],\"line_width\":2,\"right_units\":\"screen\",\"syncable\":false,\"top_units\":\"screen\"},\"id\":\"12566\",\"type\":\"BoxAnnotation\"},{\"attributes\":{},\"id\":\"12560\",\"type\":\"PanTool\"},{\"attributes\":{},\"id\":\"12544\",\"type\":\"DataRange1d\"},{\"attributes\":{},\"id\":\"12561\",\"type\":\"WheelZoomTool\"},{\"attributes\":{\"overlay\":{\"id\":\"12566\"}},\"id\":\"12562\",\"type\":\"BoxZoomTool\"},{\"attributes\":{},\"id\":\"12563\",\"type\":\"SaveTool\"},{\"attributes\":{},\"id\":\"12546\",\"type\":\"DataRange1d\"},{\"attributes\":{},\"id\":\"12564\",\"type\":\"ResetTool\"},{\"attributes\":{},\"id\":\"12548\",\"type\":\"LinearScale\"},{\"attributes\":{\"fill_alpha\":{\"value\":0.1},\"fill_color\":{\"value\":\"red\"},\"line_alpha\":{\"value\":0.1},\"line_color\":{\"value\":\"red\"},\"size\":{\"field\":\"size\"},\"x\":{\"field\":\"x\"},\"y\":{\"field\":\"y\"}},\"id\":\"12576\",\"type\":\"Circle\"},{\"attributes\":{},\"id\":\"12565\",\"type\":\"HelpTool\"},{\"attributes\":{},\"id\":\"12550\",\"type\":\"LinearScale\"},{\"attributes\":{},\"id\":\"13020\",\"type\":\"UnionRenderers\"},{\"attributes\":{\"formatter\":{\"id\":\"13013\"},\"major_label_policy\":{\"id\":\"13014\"},\"ticker\":{\"id\":\"12553\"}},\"id\":\"12552\",\"type\":\"LinearAxis\"},{\"attributes\":{},\"id\":\"13016\",\"type\":\"BasicTickFormatter\"},{\"attributes\":{},\"id\":\"12557\",\"type\":\"BasicTicker\"},{\"attributes\":{},\"id\":\"12553\",\"type\":\"BasicTicker\"},{\"attributes\":{},\"id\":\"13014\",\"type\":\"AllLabels\"},{\"attributes\":{\"axis\":{\"id\":\"12552\"},\"ticker\":null},\"id\":\"12555\",\"type\":\"Grid\"},{\"attributes\":{},\"id\":\"13017\",\"type\":\"AllLabels\"},{\"attributes\":{\"axis\":{\"id\":\"12556\"},\"dimension\":1,\"ticker\":null},\"id\":\"12559\",\"type\":\"Grid\"},{\"attributes\":{},\"id\":\"13019\",\"type\":\"Selection\"},{\"attributes\":{\"formatter\":{\"id\":\"13016\"},\"major_label_policy\":{\"id\":\"13017\"},\"ticker\":{\"id\":\"12557\"}},\"id\":\"12556\",\"type\":\"LinearAxis\"},{\"attributes\":{},\"id\":\"13011\",\"type\":\"Title\"},{\"attributes\":{\"source\":{\"id\":\"12574\"}},\"id\":\"12578\",\"type\":\"CDSView\"}],\"root_ids\":[\"12543\"]},\"title\":\"Bokeh Application\",\"version\":\"2.3.0\"}};\n",
       "  var render_items = [{\"docid\":\"7070a3e2-b27d-4cf3-9e25-5cc3b118f8f7\",\"root_ids\":[\"12543\"],\"roots\":{\"12543\":\"0cbfc0ac-fbed-4384-b531-d68e6fb6fe5d\"}}];\n",
       "  root.Bokeh.embed.embed_items_notebook(docs_json, render_items);\n",
       "\n",
       "  }\n",
       "  if (root.Bokeh !== undefined) {\n",
       "    embed_document(root);\n",
       "  } else {\n",
       "    var attempts = 0;\n",
       "    var timer = setInterval(function(root) {\n",
       "      if (root.Bokeh !== undefined) {\n",
       "        clearInterval(timer);\n",
       "        embed_document(root);\n",
       "      } else {\n",
       "        attempts++;\n",
       "        if (attempts > 100) {\n",
       "          clearInterval(timer);\n",
       "          console.log(\"Bokeh: ERROR: Unable to run BokehJS code because BokehJS library is missing\");\n",
       "        }\n",
       "      }\n",
       "    }, 10, root)\n",
       "  }\n",
       "})(window);"
      ],
      "application/vnd.bokehjs_exec.v0+json": ""
     },
     "metadata": {
      "application/vnd.bokehjs_exec.v0+json": {
       "id": "12543"
      }
     },
     "output_type": "display_data"
    }
   ],
   "source": [
    "n = 100\n",
    "x = np.random.randn(n)\n",
    "y = np.random.randn(n)\n",
    "s = np.random.rand(n)\n",
    "p = figure(plot_height=250)\n",
    "p.circle(x, y, color='red', size=s*20)\n",
    "show(p)"
   ]
  },
  {
   "cell_type": "markdown",
   "id": "comparable-simple",
   "metadata": {},
   "source": [
    "## Perlin noise"
   ]
  },
  {
   "cell_type": "code",
   "execution_count": 76,
   "id": "objective-things",
   "metadata": {},
   "outputs": [
    {
     "data": {
      "image/png": "[encoded data removed]",
      "text/plain": [
       "<Figure size 432x288 with 1 Axes>"
      ]
     },
     "metadata": {
      "needs_background": "light"
     },
     "output_type": "display_data"
    }
   ],
   "source": [
    "import matplotlib.pyplot as plt\n",
    "\n",
    "def perlin(x,y,seed=0):\n",
    "    # permutation table\n",
    "    np.random.seed(seed)\n",
    "    p = np.arange(256,dtype=int)\n",
    "    np.random.shuffle(p)\n",
    "    p = np.stack([p,p]).flatten()\n",
    "    # coordinates of the top-left\n",
    "    xi = x.astype(int)\n",
    "    yi = y.astype(int)\n",
    "    # internal coordinates\n",
    "    xf = x - xi\n",
    "    yf = y - yi\n",
    "    # fade factors\n",
    "    u = fade(xf)\n",
    "    v = fade(yf)\n",
    "    # noise components\n",
    "    n00 = gradient(p[p[xi]+yi],xf,yf)\n",
    "    n01 = gradient(p[p[xi]+yi+1],xf,yf-1)\n",
    "    n11 = gradient(p[p[xi+1]+yi+1],xf-1,yf-1)\n",
    "    n10 = gradient(p[p[xi+1]+yi],xf-1,yf)\n",
    "    # combine noises\n",
    "    x1 = lerp(n00,n10,u)\n",
    "    x2 = lerp(n01,n11,u) # FIX1: I was using n10 instead of n01\n",
    "    return lerp(x1,x2,v) # FIX2: I also had to reverse x1 and x2 here\n",
    "\n",
    "def lerp(a,b,x):\n",
    "    \"linear interpolation\"\n",
    "    return a + x * (b-a)\n",
    "\n",
    "def fade(t):\n",
    "    \"6t^5 - 15t^4 + 10t^3\"\n",
    "    return 6 * t**5 - 15 * t**4 + 10 * t**3\n",
    "\n",
    "def gradient(h,x,y):\n",
    "    \"grad converts h to the right gradient vector and return the dot product with (x,y)\"\n",
    "    vectors = np.array([[0,1],[0,-1],[1,0],[-1,0]])\n",
    "    g = vectors[h%4]\n",
    "    return g[:,:,0] * x + g[:,:,1] * y\n",
    "\n",
    "lin = np.linspace(0,5,100,endpoint=False)\n",
    "x,y = np.meshgrid(lin,lin) # FIX3: I thought I had to invert x and y here but it was a mistake\n",
    "\n",
    "plt.imshow(perlin(x,y,seed=4),origin='upper', cmap='terrain');"
   ]
  },
  {
   "cell_type": "code",
   "execution_count": null,
   "id": "ideal-demand",
   "metadata": {},
   "outputs": [],
   "source": []
  }
 ],
 "metadata": {
  "kernelspec": {
   "display_name": "Python 3",
   "language": "python",
   "name": "python3"
  },
  "language_info": {
   "codemirror_mode": {
    "name": "ipython",
    "version": 3
   },
   "file_extension": ".py",
   "mimetype": "text/x-python",
   "name": "python",
   "nbconvert_exporter": "python",
   "pygments_lexer": "ipython3",
   "version": "3.7.9"
  }
 },
 "nbformat": 4,
 "nbformat_minor": 5
}
