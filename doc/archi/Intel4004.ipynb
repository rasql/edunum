{
 "cells": [
  {
   "cell_type": "markdown",
   "id": "instrumental-swing",
   "metadata": {},
   "source": [
    "# Intel 4004\n",
    "\n",
    "Le **4004** est le premier microprocesseur réalisé sur un seul est unique circuit intégré.\n",
    "\n",
    "Produit en 1971, il \n",
    "- comptait 2300 transistors\n",
    "- avait une architecture 4 bits\n",
    "- coutait 200 dollars\n",
    "\n",
    "![](https://upload.wikimedia.org/wikipedia/commons/thumb/5/55/Intel_C4004.jpg/800px-Intel_C4004.jpg)\n",
    "\n",
    "Le 4004 est suivi l'année suivante par le premier microprocesseur 8 bits, le 8008"
   ]
  },
  {
   "cell_type": "markdown",
   "id": "clean-industry",
   "metadata": {},
   "source": [
    "## Architecture\n",
    "\n",
    "Le circuit intégré\n",
    "\n",
    "- mesurait 3.8 x 2.8 mm\n",
    "- contenait 2300 transistors\n",
    "- était alimenté en -15 V\n",
    "\n",
    "Le 4004 possède \n",
    "\n",
    "- une unité artithmétique et logique (ALU)\n",
    "- 16 registres 4-bits\n",
    "\n",
    "![](https://upload.wikimedia.org/wikipedia/commons/thumb/8/87/4004_arch.svg/793px-4004_arch.svg.png)"
   ]
  },
  {
   "cell_type": "markdown",
   "id": "deluxe-adaptation",
   "metadata": {},
   "source": [
    "## Brochage\n",
    "\n",
    "Le 4004 était dans un boitier DIP avec 16 broches:\n",
    "\n",
    "- 2 lignes d'alimentation (Vdd et Vss)\n",
    "- 2 lignes d'horloge (Clk 1 et 2)\n",
    "- 4 lignes de données\n",
    "- 4 linges de contrôle de mémoire\n",
    "\n",
    "![](https://upload.wikimedia.org/wikipedia/commons/thumb/7/72/4004_dil.svg/492px-4004_dil.svg.png)"
   ]
  },
  {
   "cell_type": "markdown",
   "id": "little-remains",
   "metadata": {},
   "source": [
    "## Unité arithmétique et logique\n",
    "\n",
    "L'ALU permet les opérations\n",
    "- incrémentation\n",
    "- décrémentation\n",
    "- addition\n",
    "- soustraction\n",
    "- décalage\n",
    "\n",
    "Le programme est constitué de mots de 8 bits (octet) et doit être stocké dans une mémoire ROM séparé.\n",
    "\n",
    "L'adressage est sur 12 bits et permet d'addresser 4096 octets\n",
    "\n",
    "A cause du nombre limité des broches, le bus des données et le bus d'adresse ne sont pas sépéarés mais multiplexé sur un unique bus externe de 4 bits."
   ]
  },
  {
   "cell_type": "markdown",
   "id": "stainless-angel",
   "metadata": {},
   "source": [
    "## Famille de composantes\n",
    "\n",
    "Le 4004 est fourne avec une famille de composants commercialisé sous le nom **MCS-4**:\n",
    "\n",
    "- 4001: mémoire morte (ROM) de 256 octets\n",
    "- 4001: mémoire vive (RAM) de 80 mots de 4 bits\n",
    "- 4003: sortie registre à décalage (shift) de 10 bits (pour scanner les clavier)\n",
    "- 4004: microprocesseur"
   ]
  },
  {
   "cell_type": "code",
   "execution_count": null,
   "id": "radical-citizen",
   "metadata": {},
   "outputs": [],
   "source": []
  },
  {
   "cell_type": "markdown",
   "id": "boolean-toronto",
   "metadata": {},
   "source": [
    "## Mémoire\n"
   ]
  },
  {
   "cell_type": "code",
   "execution_count": 68,
   "id": "republican-saudi",
   "metadata": {},
   "outputs": [],
   "source": [
    "import numpy as np\n",
    "\n",
    "class Memory:\n",
    "    def __init__(self, size):\n",
    "        self.size = size\n",
    "        self.mem = np.zeros(size, dtype='int8')\n",
    "        \n",
    "    def write(self, address, value):\n",
    "        self.mem[address] = value\n",
    "        \n",
    "    def read(self, address):\n",
    "        return self.mem[address]\n",
    "    \n",
    "    def show(self):\n",
    "        for i in range(self.size//16):\n",
    "            for j in range(16):\n",
    "                print(f'{self.mem[16*i + j]:02x}', end=' ')\n",
    "            print()"
   ]
  },
  {
   "cell_type": "code",
   "execution_count": 70,
   "id": "nearby-gossip",
   "metadata": {},
   "outputs": [
    {
     "name": "stdout",
     "output_type": "stream",
     "text": [
      "00 00 00 00 00 00 00 00 00 00 00 00 00 00 00 00 \n",
      "00 00 00 00 00 00 00 00 00 00 00 00 00 00 00 00 \n",
      "00 00 00 00 00 00 00 00 00 00 00 00 00 00 00 00 \n",
      "00 00 00 00 00 00 00 00 00 00 00 00 00 00 00 00 \n"
     ]
    }
   ],
   "source": [
    "m1 = Memory(64)\n",
    "m1.show()"
   ]
  },
  {
   "cell_type": "code",
   "execution_count": 74,
   "id": "numerical-kentucky",
   "metadata": {},
   "outputs": [
    {
     "name": "stdout",
     "output_type": "stream",
     "text": [
      "21 00 00 00 00 00 00 00 00 00 63 00 00 00 00 00 \n",
      "1b 00 00 00 00 00 00 00 00 00 00 00 00 00 00 00 \n",
      "00 00 00 00 00 00 00 00 00 00 00 00 00 00 00 00 \n",
      "00 00 00 00 00 00 00 00 00 00 00 00 00 00 00 00 \n"
     ]
    }
   ],
   "source": [
    "m1.write(0, 33)\n",
    "m1.write(10, 99)\n",
    "m1.write(16, 0x1b)\n",
    "m1.show()"
   ]
  },
  {
   "cell_type": "markdown",
   "id": "basic-zimbabwe",
   "metadata": {},
   "source": [
    "## CPU\n",
    "\n",
    "Le CPU execute les instructions"
   ]
  },
  {
   "cell_type": "code",
   "execution_count": 28,
   "id": "returning-speech",
   "metadata": {},
   "outputs": [],
   "source": [
    "instructions = {\n",
    "    'CLB':0xF0,\n",
    "    'CLC':0xF1,\n",
    "    'IAC':0xF2,\n",
    "    'CMC':0xF3,\n",
    "    'RAL':0xF4,\n",
    "    'RAR':0xF5,\n",
    "}"
   ]
  },
  {
   "cell_type": "code",
   "execution_count": 44,
   "id": "silver-knowing",
   "metadata": {},
   "outputs": [],
   "source": [
    "class CPU:\n",
    "    def __init__(self):\n",
    "        self.reg = np.array(16, dtype='int8')\n",
    "        self.acc = 0\n",
    "        self.pc = 0\n",
    "        self.inst = 0\n",
    "        self.stack = np.array(3, dtype='int8')\n",
    "        \n",
    "    def __str__(self):\n",
    "        return 'Intel 4004 microprocessor'\n",
    "    \n",
    "    def state(self):\n",
    "        print('acc =', self.acc)\n",
    "        print('pc  =', self.pc)\n",
    "        \n",
    "cpu = CPU()"
   ]
  },
  {
   "cell_type": "code",
   "execution_count": 45,
   "id": "decimal-setting",
   "metadata": {},
   "outputs": [
    {
     "name": "stdout",
     "output_type": "stream",
     "text": [
      "Intel 4004 microprocessor\n",
      "acc = 0\n",
      "pc  = 0\n"
     ]
    }
   ],
   "source": [
    "print(cpu)\n",
    "cpu.state()"
   ]
  },
  {
   "cell_type": "code",
   "execution_count": 53,
   "id": "solar-afternoon",
   "metadata": {},
   "outputs": [
    {
     "data": {
      "text/plain": [
       "7"
      ]
     },
     "execution_count": 53,
     "metadata": {},
     "output_type": "execute_result"
    }
   ],
   "source": [
    "class ALU:\n",
    "    def __init__(self):\n",
    "        self.inst = None\n",
    "        self.a = 0\n",
    "        self.b = 0\n",
    "        self.c = 0\n",
    "        \n",
    "    def execute(self, inst):\n",
    "        if inst == 0:\n",
    "            self.c = self.a + self.b\n",
    "        elif inst == 1:\n",
    "            self.c = self.a - self.b\n",
    "\n",
    "alu = ALU()\n",
    "alu.a = 3\n",
    "alu.b = 4\n",
    "alu.execute(0)\n",
    "alu.c"
   ]
  },
  {
   "cell_type": "code",
   "execution_count": 75,
   "id": "pediatric-essex",
   "metadata": {},
   "outputs": [
    {
     "ename": "SyntaxError",
     "evalue": "invalid syntax (<ipython-input-75-6f447a279751>, line 9)",
     "output_type": "error",
     "traceback": [
      "\u001b[0;36m  File \u001b[0;32m\"<ipython-input-75-6f447a279751>\"\u001b[0;36m, line \u001b[0;32m9\u001b[0m\n\u001b[0;31m    self.inst =\u001b[0m\n\u001b[0m                ^\u001b[0m\n\u001b[0;31mSyntaxError\u001b[0m\u001b[0;31m:\u001b[0m invalid syntax\n"
     ]
    }
   ],
   "source": [
    "class CPU:\n",
    "    def __init__(self):\n",
    "        self.pc = 0\n",
    "        self.reg = np.zeros(8, dtype=np.int8)\n",
    "        self.inst = 0\n",
    "        self.mem = np.zeros(64, dtype='int8')\n",
    "\n",
    "    def step(self):\n",
    "        self.inst = self.mem[self.pc]"
   ]
  },
  {
   "cell_type": "code",
   "execution_count": 50,
   "id": "sustainable-father",
   "metadata": {},
   "outputs": [],
   "source": [
    "cpu = CPU()"
   ]
  },
  {
   "cell_type": "code",
   "execution_count": 65,
   "id": "regulated-thesaurus",
   "metadata": {},
   "outputs": [
    {
     "name": "stdin",
     "output_type": "stream",
     "text": [
      "pc r0-r3                        \n",
      "pc r0-r3                        \n",
      "pc r0-r3                        s\n"
     ]
    }
   ],
   "source": [
    "state = 'pc r0-r3                       '\n",
    "x = input(state)\n",
    "while not x:\n",
    "    x = input(state)"
   ]
  },
  {
   "cell_type": "code",
   "execution_count": 79,
   "id": "prospective-winter",
   "metadata": {},
   "outputs": [
    {
     "ename": "SyntaxError",
     "evalue": "invalid syntax (<ipython-input-79-68495954067b>, line 13)",
     "output_type": "error",
     "traceback": [
      "\u001b[0;36m  File \u001b[0;32m\"<ipython-input-79-68495954067b>\"\u001b[0;36m, line \u001b[0;32m13\u001b[0m\n\u001b[0;31m    JMPZ, -4\u001b[0m\n\u001b[0m       ^\u001b[0m\n\u001b[0;31mSyntaxError\u001b[0m\u001b[0;31m:\u001b[0m invalid syntax\n"
     ]
    }
   ],
   "source": [
    "LDI = 0xA0\n",
    "ADD = 0xB0\n",
    "MOV = 0x10\n",
    "JMPZ = 0x1\n",
    "\n",
    "A = 0\n",
    "B = 1\n",
    "C = 2\n",
    "D = 3\n",
    "\n",
    "program = [\n",
    "    LDI, A, 12,\n",
    "    LDI, B, 3,\n",
    "    ADD, A, B,\n",
    "    MOV, A, B\n",
    "    JMPZ, -4\n",
    "    END\n",
    "]"
   ]
  },
  {
   "cell_type": "code",
   "execution_count": 77,
   "id": "temporal-action",
   "metadata": {},
   "outputs": [
    {
     "data": {
      "text/plain": [
       "[160, 0, 12, 176, 0, 1]"
      ]
     },
     "execution_count": 77,
     "metadata": {},
     "output_type": "execute_result"
    }
   ],
   "source": [
    "program"
   ]
  },
  {
   "cell_type": "markdown",
   "id": "brief-australia",
   "metadata": {},
   "source": [
    "## Jeu d'instructions\n",
    "\n",
    "    LDA mem\n",
    "    STA mem\n",
    "    ADD mem\n",
    "    SUB mem"
   ]
  },
  {
   "cell_type": "code",
   "execution_count": null,
   "id": "julian-identifier",
   "metadata": {},
   "outputs": [],
   "source": []
  }
 ],
 "metadata": {
  "kernelspec": {
   "display_name": "Python 3",
   "language": "python",
   "name": "python3"
  },
  "language_info": {
   "codemirror_mode": {
    "name": "ipython",
    "version": 3
   },
   "file_extension": ".py",
   "mimetype": "text/x-python",
   "name": "python",
   "nbconvert_exporter": "python",
   "pygments_lexer": "ipython3",
   "version": "3.7.9"
  }
 },
 "nbformat": 4,
 "nbformat_minor": 5
}
