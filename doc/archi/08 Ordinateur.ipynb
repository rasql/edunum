{
 "cells": [
  {
   "cell_type": "markdown",
   "metadata": {},
   "source": [
    "# Chapitre 8 – Comment fonction un ordinateur"
   ]
  },
  {
   "cell_type": "code",
   "execution_count": 2,
   "metadata": {},
   "outputs": [],
   "source": [
    "import numpy as np"
   ]
  },
  {
   "cell_type": "markdown",
   "metadata": {},
   "source": [
    "Le processeur possède 4 registre qui servent de stockage intermédiare pour les calcul et les comparaisons."
   ]
  },
  {
   "cell_type": "code",
   "execution_count": 73,
   "metadata": {},
   "outputs": [],
   "source": [
    "r = [0]*4"
   ]
  },
  {
   "cell_type": "markdown",
   "metadata": {},
   "source": [
    "Voici l'algorithme pour calculer la somme des n premiers nombres naturels. \n",
    "$$ f(n) = \\sum_{i=0}^n n$$\n",
    "Le programme en Python utiliser les 4 registres pour effectuer le calcul."
   ]
  },
  {
   "cell_type": "code",
   "execution_count": 75,
   "metadata": {},
   "outputs": [
    {
     "name": "stdout",
     "output_type": "stream",
     "text": [
      "[0, 6, 0, 7]\n",
      "[0, 5, 0, 13]\n",
      "[0, 4, 0, 18]\n",
      "[0, 3, 0, 22]\n",
      "[0, 2, 0, 25]\n",
      "[0, 1, 0, 27]\n",
      "[0, 0, 0, 28]\n",
      "[0, 0, 28, 28]\n"
     ]
    }
   ],
   "source": [
    "r = [0]*4\n",
    "r[1] = 7\n",
    "r[3] = 0\n",
    "while r[1] > 0:\n",
    "    r[3] = r[3] + r[1]\n",
    "    r[1] = r[1] - 1\n",
    "    print(r)\n",
    "r[2] = r[3]\n",
    "print(r)"
   ]
  },
  {
   "cell_type": "markdown",
   "metadata": {},
   "source": [
    "Dans notre définition du langage assembleur nous allons utiliser seulement 16 instructions, que nous pouvons donc encoder avec 4 bits. Voici les 6 premiers opérations du jeu d'instructions (**Instruction set**). "
   ]
  },
  {
   "cell_type": "code",
   "execution_count": 48,
   "metadata": {},
   "outputs": [],
   "source": [
    "ADD = 0b0001\n",
    "SUB = 0b0010\n",
    "LDI = 0b0011\n",
    "JMP = 0b1000\n",
    "JMZ = 0b1001\n",
    "MOV = 0b0100"
   ]
  },
  {
   "cell_type": "markdown",
   "metadata": {},
   "source": [
    "On pourrait y ajouter les instructions:\n",
    "* AND – opérateur logique **et**\n",
    "* OR – opérateur logique **ou**\n",
    "* XOR – opérateur logique **ou exclusive**\n",
    "* NEG – opérateur de négation des bits"
   ]
  },
  {
   "cell_type": "markdown",
   "metadata": {},
   "source": [
    "Definition du programme en **language assembleur**"
   ]
  },
  {
   "cell_type": "code",
   "execution_count": 69,
   "metadata": {},
   "outputs": [],
   "source": [
    "p = [\n",
    "    [LDI, 1, 5], \n",
    "    [LDI, 3, 0],\n",
    "    [LDI, 0, -1],    \n",
    "    [JMZ, 1, 7],\n",
    "    [ADD, 3, 3, 1],\n",
    "    [ADD, 1, 1, 0],\n",
    "    [JMP, 2],\n",
    "    [MOV, 2, 3]\n",
    "]"
   ]
  },
  {
   "cell_type": "markdown",
   "metadata": {},
   "source": [
    "Définition du programme en **tuples décimales**"
   ]
  },
  {
   "cell_type": "code",
   "execution_count": 70,
   "metadata": {},
   "outputs": [
    {
     "data": {
      "text/plain": [
       "[[3, 1, 5],\n",
       " [3, 3, 0],\n",
       " [3, 0, -1],\n",
       " [9, 1, 7],\n",
       " [1, 3, 3, 1],\n",
       " [1, 1, 1, 0],\n",
       " [8, 2],\n",
       " [4, 2, 3]]"
      ]
     },
     "execution_count": 70,
     "metadata": {},
     "output_type": "execute_result"
    }
   ],
   "source": [
    "p"
   ]
  },
  {
   "cell_type": "markdown",
   "metadata": {},
   "source": [
    "Transformation en **machine language** en 16 bits"
   ]
  },
  {
   "cell_type": "code",
   "execution_count": 93,
   "metadata": {},
   "outputs": [],
   "source": [
    "def compile(p):\n",
    "    for line in p:\n",
    "        line += [0]*2\n",
    "        for item in line[:4]:\n",
    "            print('{:04b}'.format(item%16), end='')\n",
    "        print()"
   ]
  },
  {
   "cell_type": "markdown",
   "metadata": {},
   "source": [
    "Donc pour notre processeur l'algorithme se presente sous forme de séquence de codes binaires sous 16 bits. On l'appelle **code machine**."
   ]
  },
  {
   "cell_type": "code",
   "execution_count": 94,
   "metadata": {},
   "outputs": [
    {
     "name": "stdout",
     "output_type": "stream",
     "text": [
      "0011000101010000\n",
      "0011001100000000\n",
      "0011000011110000\n",
      "1001000101110000\n",
      "0001001100110001\n",
      "0001000100010000\n",
      "1000001000000000\n",
      "0100001000110000\n"
     ]
    }
   ],
   "source": [
    "compile(p)"
   ]
  },
  {
   "cell_type": "markdown",
   "metadata": {},
   "source": [
    "Pour executer ce code, nous allons simuler un processeur (CPU) pour décoder 6 instructions, accéder à 4 registres `r`. Le programme réside dans la mémoire programme `p`, et un pointer de programme `pc` pointe à l'instruction actuelle à executer."
   ]
  },
  {
   "cell_type": "code",
   "execution_count": 79,
   "metadata": {},
   "outputs": [],
   "source": [
    "def cpu(p):\n",
    "    r = [0]*5\n",
    "    pc = 0\n",
    "    while pc < len(p):\n",
    "        [op, dst, r1, r2] = (p[pc]+[0]*2)[:4]\n",
    "        pc +=1\n",
    "        if op == ADD:\n",
    "            r[dst] = r[r1] + r[r2]\n",
    "        elif op == SUB:\n",
    "            r[dst] = r[r1] - r[r2]\n",
    "        elif op == LDI:\n",
    "            r[dst] = r1\n",
    "        elif op == JMP:\n",
    "            pc = dst\n",
    "        elif op == JMZ:\n",
    "            if r[dst] == 0:\n",
    "                pc = r1\n",
    "        elif op == MOV:\n",
    "            r[dst] = r[r1]\n",
    "        print(pc, r)"
   ]
  },
  {
   "cell_type": "code",
   "execution_count": 78,
   "metadata": {},
   "outputs": [
    {
     "name": "stdout",
     "output_type": "stream",
     "text": [
      "1 [0, 5, 0, 0]\n",
      "2 [0, 5, 0, 0]\n",
      "3 [-1, 5, 0, 0]\n",
      "4 [-1, 5, 0, 0]\n",
      "5 [-1, 5, 0, 5]\n",
      "6 [-1, 4, 0, 5]\n",
      "2 [-1, 4, 0, 5]\n",
      "3 [-1, 4, 0, 5]\n",
      "4 [-1, 4, 0, 5]\n",
      "5 [-1, 4, 0, 9]\n",
      "6 [-1, 3, 0, 9]\n",
      "2 [-1, 3, 0, 9]\n",
      "3 [-1, 3, 0, 9]\n",
      "4 [-1, 3, 0, 9]\n",
      "5 [-1, 3, 0, 12]\n",
      "6 [-1, 2, 0, 12]\n",
      "2 [-1, 2, 0, 12]\n",
      "3 [-1, 2, 0, 12]\n",
      "4 [-1, 2, 0, 12]\n",
      "5 [-1, 2, 0, 14]\n",
      "6 [-1, 1, 0, 14]\n",
      "2 [-1, 1, 0, 14]\n",
      "3 [-1, 1, 0, 14]\n",
      "4 [-1, 1, 0, 14]\n",
      "5 [-1, 1, 0, 15]\n",
      "6 [-1, 0, 0, 15]\n",
      "2 [-1, 0, 0, 15]\n",
      "3 [-1, 0, 0, 15]\n",
      "7 [-1, 0, 0, 15]\n",
      "8 [-1, 0, 15, 15]\n"
     ]
    }
   ],
   "source": [
    "cpu(p)"
   ]
  },
  {
   "cell_type": "markdown",
   "metadata": {},
   "source": [
    "Voici un autre algorithme pour calculer des carrés."
   ]
  },
  {
   "cell_type": "code",
   "execution_count": 90,
   "metadata": {},
   "outputs": [],
   "source": [
    "square = [\n",
    "    [LDI, 0, 5], \n",
    "    [LDI, 1, 2],\n",
    "    [LDI, 2, 1],\n",
    "    [LDI, 3, 1],\n",
    "    [LDI, 4, 0],    \n",
    "    [JMZ, 0, 10],\n",
    "    [ADD, 4, 4, 3],\n",
    "    [SUB, 0, 0, 2],\n",
    "    [ADD, 3, 3, 1],\n",
    "    [JMP, 5],\n",
    "    [MOV, 0, 4]\n",
    "]"
   ]
  },
  {
   "cell_type": "code",
   "execution_count": 91,
   "metadata": {},
   "outputs": [
    {
     "name": "stdout",
     "output_type": "stream",
     "text": [
      "1 [5, 0, 0, 0, 0]\n",
      "2 [5, 2, 0, 0, 0]\n",
      "3 [5, 2, 1, 0, 0]\n",
      "4 [5, 2, 1, 1, 0]\n",
      "5 [5, 2, 1, 1, 0]\n",
      "6 [5, 2, 1, 1, 0]\n",
      "7 [5, 2, 1, 1, 1]\n",
      "8 [4, 2, 1, 1, 1]\n",
      "9 [4, 2, 1, 3, 1]\n",
      "5 [4, 2, 1, 3, 1]\n",
      "6 [4, 2, 1, 3, 1]\n",
      "7 [4, 2, 1, 3, 4]\n",
      "8 [3, 2, 1, 3, 4]\n",
      "9 [3, 2, 1, 5, 4]\n",
      "5 [3, 2, 1, 5, 4]\n",
      "6 [3, 2, 1, 5, 4]\n",
      "7 [3, 2, 1, 5, 9]\n",
      "8 [2, 2, 1, 5, 9]\n",
      "9 [2, 2, 1, 7, 9]\n",
      "5 [2, 2, 1, 7, 9]\n",
      "6 [2, 2, 1, 7, 9]\n",
      "7 [2, 2, 1, 7, 16]\n",
      "8 [1, 2, 1, 7, 16]\n",
      "9 [1, 2, 1, 9, 16]\n",
      "5 [1, 2, 1, 9, 16]\n",
      "6 [1, 2, 1, 9, 16]\n",
      "7 [1, 2, 1, 9, 25]\n",
      "8 [0, 2, 1, 9, 25]\n",
      "9 [0, 2, 1, 11, 25]\n",
      "5 [0, 2, 1, 11, 25]\n",
      "10 [0, 2, 1, 11, 25]\n",
      "11 [25, 2, 1, 11, 25]\n"
     ]
    }
   ],
   "source": [
    "cpu(square)"
   ]
  },
  {
   "cell_type": "code",
   "execution_count": null,
   "metadata": {},
   "outputs": [],
   "source": []
  }
 ],
 "metadata": {
  "kernelspec": {
   "display_name": "Python 3",
   "language": "python",
   "name": "python3"
  },
  "language_info": {
   "codemirror_mode": {
    "name": "ipython",
    "version": 3
   },
   "file_extension": ".py",
   "mimetype": "text/x-python",
   "name": "python",
   "nbconvert_exporter": "python",
   "pygments_lexer": "ipython3",
   "version": "3.7.9"
  }
 },
 "nbformat": 4,
 "nbformat_minor": 4
}
