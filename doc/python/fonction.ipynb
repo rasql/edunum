{
 "cells": [
  {
   "cell_type": "markdown",
   "metadata": {},
   "source": [
    "# Fonctions\n",
    "\n",
    "En programmation, une fonction est une suite d'instructions nommées.\n",
    "Ceci permet d'éviter de devoir réécrire des longues suites d'instructions et les appeler juste en invoquant le nom de la fonction.\n",
    "\n",
    "Nous pouvons ainsi définir la fonction `saluer()`"
   ]
  },
  {
   "cell_type": "code",
   "execution_count": 4,
   "metadata": {},
   "outputs": [],
   "source": [
    "def saluer():\n",
    "    print('Bonjour')\n",
    "    print('Comment vas-tu?')\n",
    "    print('...')"
   ]
  },
  {
   "cell_type": "markdown",
   "metadata": {},
   "source": [
    "Une fois définie, la fonction peut être appelée, autant de fois qu'on veut."
   ]
  },
  {
   "cell_type": "code",
   "execution_count": 5,
   "metadata": {},
   "outputs": [
    {
     "name": "stdout",
     "output_type": "stream",
     "text": [
      "Bonjour\n",
      "Comment vas-tu?\n",
      "...\n",
      "Bonjour\n",
      "Comment vas-tu?\n",
      "...\n"
     ]
    }
   ],
   "source": [
    "saluer()\n",
    "saluer()"
   ]
  },
  {
   "cell_type": "markdown",
   "metadata": {},
   "source": [
    "**Exercice**  \n",
    "Créez une nouvelle fonction similaire en anglais avec le nom `greet()`."
   ]
  },
  {
   "cell_type": "markdown",
   "metadata": {},
   "source": [
    "## Fonctions natives\n",
    "\n",
    "Python propose toute une série de fonctions natives et déjà prédéfinies. \n",
    "\n",
    "La fonction `print()` affiche une valeur."
   ]
  },
  {
   "cell_type": "code",
   "execution_count": 24,
   "metadata": {},
   "outputs": [
    {
     "name": "stdout",
     "output_type": "stream",
     "text": [
      "hello\n"
     ]
    }
   ],
   "source": [
    "print('hello')"
   ]
  },
  {
   "cell_type": "markdown",
   "metadata": {},
   "source": [
    "La fonction `len()` retourne la longueur d'une chaine ou liste."
   ]
  },
  {
   "cell_type": "code",
   "execution_count": 25,
   "metadata": {},
   "outputs": [
    {
     "data": {
      "text/plain": [
       "5"
      ]
     },
     "execution_count": 25,
     "metadata": {},
     "output_type": "execute_result"
    }
   ],
   "source": [
    "len('hello')"
   ]
  },
  {
   "cell_type": "markdown",
   "metadata": {},
   "source": [
    "La fonction `type()` retourne le type d'un objet."
   ]
  },
  {
   "cell_type": "code",
   "execution_count": 26,
   "metadata": {},
   "outputs": [
    {
     "data": {
      "text/plain": [
       "str"
      ]
     },
     "execution_count": 26,
     "metadata": {},
     "output_type": "execute_result"
    }
   ],
   "source": [
    "type('hello')"
   ]
  },
  {
   "cell_type": "markdown",
   "metadata": {},
   "source": [
    "**Exercice**  \n",
    "Trouvez une autre fonction native dans la documentation [Python](https://docs.python.org/fr/3/library/functions.html)."
   ]
  },
  {
   "cell_type": "markdown",
   "metadata": {},
   "source": [
    "## Fonction avec argument\n",
    "\n",
    "Une fonction peut avoir un argument. C'est une variable qui lui est passée par les parenthèses"
   ]
  },
  {
   "cell_type": "code",
   "execution_count": 12,
   "metadata": {},
   "outputs": [],
   "source": [
    "def saluer2(nom):\n",
    "    print('Bonjour', nom)\n",
    "    print('Comment vas-tu', nom)\n",
    "    print('...')"
   ]
  },
  {
   "cell_type": "markdown",
   "metadata": {},
   "source": [
    "Par la suite nous pouvons appeler cette fonction avec un argument."
   ]
  },
  {
   "cell_type": "code",
   "execution_count": 13,
   "metadata": {},
   "outputs": [
    {
     "name": "stdout",
     "output_type": "stream",
     "text": [
      "Bonjour Guido\n",
      "Comment vas-tu Guido\n",
      "...\n",
      "Bonjour Grace\n",
      "Comment vas-tu Grace\n",
      "...\n"
     ]
    }
   ],
   "source": [
    "saluer2('Guido')\n",
    "saluer2('Grace')"
   ]
  },
  {
   "cell_type": "code",
   "execution_count": 18,
   "metadata": {},
   "outputs": [
    {
     "name": "stdout",
     "output_type": "stream",
     "text": [
      "Bonjour Grace\n",
      "Comment vas-tu? Grace\n"
     ]
    }
   ],
   "source": [
    "saluer('Grace')"
   ]
  },
  {
   "cell_type": "markdown",
   "metadata": {},
   "source": [
    "**Exercice**  \n",
    "Appelez la fonction avec votre propre nom."
   ]
  },
  {
   "cell_type": "markdown",
   "metadata": {},
   "source": [
    "## Transformer un script en fonction\n",
    "\n",
    "Voici 4 lignes de codes qui affichent la phrase `bonjour Ada` trois fois."
   ]
  },
  {
   "cell_type": "code",
   "execution_count": 15,
   "metadata": {},
   "outputs": [
    {
     "name": "stdout",
     "output_type": "stream",
     "text": [
      "bonjour Ada\n",
      "bonjour Ada\n",
      "bonjour Ada\n"
     ]
    }
   ],
   "source": [
    "nom = 'Ada'\n",
    "n = 3\n",
    "for i in range(n):\n",
    "    print('bonjour', nom)"
   ]
  },
  {
   "cell_type": "markdown",
   "metadata": {},
   "source": [
    "**Exercice**  \n",
    "Transformez ce script en fonction avec deux arguments `bonjour(nom, n)`.\n",
    "Ensuite appelez-la avec des arguments appropriés."
   ]
  },
  {
   "cell_type": "markdown",
   "metadata": {},
   "source": [
    "## La fonction minimale\n",
    "\n",
    "La fonction minimale est"
   ]
  },
  {
   "cell_type": "code",
   "execution_count": 31,
   "metadata": {},
   "outputs": [],
   "source": [
    "def f():\n",
    "    return"
   ]
  },
  {
   "cell_type": "markdown",
   "metadata": {},
   "source": [
    "Elle consiste en\n",
    "- un mot-clé `def`\n",
    "- un nom de fonction `f` (une ou plusieurs lettres)\n",
    "- des parenthèses `()` avec des arguments optionnels\n",
    "- un deux-points `:` \n",
    "- un mot-clé `return`\n",
    "\n",
    "Nous pouvons appeler (exécuter) cette fonction. Elle ne fait rien."
   ]
  },
  {
   "cell_type": "code",
   "execution_count": 32,
   "metadata": {},
   "outputs": [],
   "source": [
    "f()"
   ]
  },
  {
   "cell_type": "markdown",
   "metadata": {},
   "source": [
    "**Exercice**  \n",
    "Affichez le resultat de cette fonction avec `print()`."
   ]
  },
  {
   "cell_type": "markdown",
   "metadata": {},
   "source": [
    "## Retour d'une valeur\n",
    "\n",
    "Une fonction peut retourner une valeur comme résultat avec le mot-clé `return`.\n",
    "\n",
    "Par exemple"
   ]
  },
  {
   "cell_type": "code",
   "execution_count": 33,
   "metadata": {},
   "outputs": [],
   "source": [
    "def additionne(a, b):\n",
    "    c = a + b\n",
    "    return c"
   ]
  },
  {
   "cell_type": "markdown",
   "metadata": {},
   "source": [
    "Nous pouvons la tester."
   ]
  },
  {
   "cell_type": "code",
   "execution_count": 34,
   "metadata": {},
   "outputs": [
    {
     "data": {
      "text/plain": [
       "7"
      ]
     },
     "execution_count": 34,
     "metadata": {},
     "output_type": "execute_result"
    }
   ],
   "source": [
    "additionne(3, 4)"
   ]
  },
  {
   "cell_type": "markdown",
   "metadata": {},
   "source": [
    "**Exercice**  \n",
    "Définissez une fonction qui multiplie deux nombres et appelez-la."
   ]
  },
  {
   "cell_type": "markdown",
   "metadata": {},
   "source": [
    "## Fonction de conversion\n",
    "\n",
    "Le **degré Fahrenheit** est une unité de mesure de la température.  \n",
    "L'échelle de Fahrenheit est utilisée baucoup aux Etats-Unis.\n",
    "\n",
    "$$ T(°F) = \\frac{9}{5}T(°C) + 32 $$\n",
    "\n",
    "**Exercice**  \n",
    "Définissez deux fonctions\n",
    "- `F_en_C()` qui transforme Fahrenheit en Celsius\n",
    "- `C_en_F()` qui transforme Celsius en Fahrenheit\n",
    "\n",
    "et appelez-les."
   ]
  },
  {
   "cell_type": "code",
   "execution_count": null,
   "metadata": {},
   "outputs": [],
   "source": []
  }
 ],
 "metadata": {
  "kernelspec": {
   "display_name": "Python 3",
   "language": "python",
   "name": "python3"
  },
  "language_info": {
   "codemirror_mode": {
    "name": "ipython",
    "version": 3
   },
   "file_extension": ".py",
   "mimetype": "text/x-python",
   "name": "python",
   "nbconvert_exporter": "python",
   "pygments_lexer": "ipython3",
   "version": "3.7.9"
  }
 },
 "nbformat": 4,
 "nbformat_minor": 4
}
