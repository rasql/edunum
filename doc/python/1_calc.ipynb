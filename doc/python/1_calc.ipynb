{
 "cells": [
  {
   "cell_type": "markdown",
   "metadata": {},
   "source": [
    "# Calcul numérique\n",
    "\n",
    "Python permet de faire des **calculs** complexes.\n",
    "\n",
    "![](https://media.giphy.com/media/UvOaWabxo1enu/giphy.gif)"
   ]
  },
  {
   "cell_type": "markdown",
   "metadata": {},
   "source": [
    "## Utilisation de la console\n",
    "\n",
    "Toutes ces opérations simples, vous pouvez les faire dans la **console** de votre éditeur Thonny.\n",
    "\n",
    "- tapez une expression après l'invite `>>>`\n",
    "- appuyez sur la touche **Retour** pour exécuter l'expression\n",
    "- vous ne pouvez plus modifier une expression déjà exécutée\n",
    "- vous devez ajouter une nouvelle expression et l'exécuter de nouveau\n",
    "\n",
    "![](img/thonny_calc.png)"
   ]
  },
  {
   "cell_type": "markdown",
   "metadata": {},
   "source": [
    "## Opérations de base\n",
    "\n",
    "Vous pouvez additionner deux nombres avec l'opérateur `+`."
   ]
  },
  {
   "cell_type": "code",
   "execution_count": 1,
   "metadata": {},
   "outputs": [
    {
     "data": {
      "text/plain": [
       "357"
      ]
     },
     "execution_count": 1,
     "metadata": {},
     "output_type": "execute_result"
    }
   ],
   "source": [
    "123 + 234"
   ]
  },
  {
   "cell_type": "markdown",
   "metadata": {},
   "source": [
    "Vous pouvez soustraire deux nombres avec l'opérateur `-`."
   ]
  },
  {
   "cell_type": "code",
   "execution_count": 2,
   "metadata": {},
   "outputs": [
    {
     "data": {
      "text/plain": [
       "-111"
      ]
     },
     "execution_count": 2,
     "metadata": {},
     "output_type": "execute_result"
    }
   ],
   "source": [
    "123 - 234"
   ]
  },
  {
   "cell_type": "markdown",
   "metadata": {},
   "source": [
    "Vous pouvez multiplier deux nombres avec l'opérateur `*`."
   ]
  },
  {
   "cell_type": "code",
   "execution_count": 3,
   "metadata": {},
   "outputs": [
    {
     "data": {
      "text/plain": [
       "28782"
      ]
     },
     "execution_count": 3,
     "metadata": {},
     "output_type": "execute_result"
    }
   ],
   "source": [
    "123 * 234"
   ]
  },
  {
   "cell_type": "markdown",
   "metadata": {},
   "source": [
    "Vous pouvez diviser deux nombres avec l'opérateur `/`."
   ]
  },
  {
   "cell_type": "code",
   "execution_count": 4,
   "metadata": {},
   "outputs": [
    {
     "data": {
      "text/plain": [
       "0.5256410256410257"
      ]
     },
     "execution_count": 4,
     "metadata": {},
     "output_type": "execute_result"
    }
   ],
   "source": [
    "123 / 234"
   ]
  },
  {
   "cell_type": "markdown",
   "metadata": {},
   "source": []
  },
  {
   "cell_type": "markdown",
   "metadata": {},
   "source": [
    "## Division entière et reste\n",
    "L'opérateur `//` est pour la division entière."
   ]
  },
  {
   "cell_type": "code",
   "execution_count": 6,
   "metadata": {},
   "outputs": [
    {
     "data": {
      "text/plain": [
       "3"
      ]
     },
     "execution_count": 6,
     "metadata": {},
     "output_type": "execute_result"
    }
   ],
   "source": [
    "10 // 3"
   ]
  },
  {
   "cell_type": "markdown",
   "metadata": {},
   "source": [
    "C'est la partie entière de la division à virgule flottante."
   ]
  },
  {
   "cell_type": "code",
   "execution_count": 7,
   "metadata": {},
   "outputs": [
    {
     "data": {
      "text/plain": [
       "3.3333333333333335"
      ]
     },
     "execution_count": 7,
     "metadata": {},
     "output_type": "execute_result"
    }
   ],
   "source": [
    "10 / 3"
   ]
  },
  {
   "cell_type": "markdown",
   "metadata": {},
   "source": [
    "L'opérateur modulo `%` donne le reste de la division entière.  \n",
    "Par exemple 10 divisé par 3 donne 3, avec un reste de 1."
   ]
  },
  {
   "cell_type": "code",
   "execution_count": 8,
   "metadata": {},
   "outputs": [
    {
     "data": {
      "text/plain": [
       "1"
      ]
     },
     "execution_count": 8,
     "metadata": {},
     "output_type": "execute_result"
    }
   ],
   "source": [
    "10 % 3"
   ]
  },
  {
   "cell_type": "markdown",
   "metadata": {},
   "source": [
    "Nous pouvons faire le calcul inverse: 3 fois 3 donne 9 plus 1 donne 10."
   ]
  },
  {
   "cell_type": "code",
   "execution_count": 9,
   "metadata": {},
   "outputs": [
    {
     "data": {
      "text/plain": [
       "10"
      ]
     },
     "execution_count": 9,
     "metadata": {},
     "output_type": "execute_result"
    }
   ],
   "source": [
    "3 * 3 + 1"
   ]
  },
  {
   "cell_type": "markdown",
   "metadata": {},
   "source": [
    "L'opérateur modulo est souvent utilisé pour voir si un nombre est impair. Si le reste de la division modulo donne 1, le nombre est impaire, s'il donne 0 le nombre est pair."
   ]
  },
  {
   "cell_type": "code",
   "execution_count": 10,
   "metadata": {},
   "outputs": [
    {
     "data": {
      "text/plain": [
       "1"
      ]
     },
     "execution_count": 10,
     "metadata": {},
     "output_type": "execute_result"
    }
   ],
   "source": [
    "123 % 2"
   ]
  },
  {
   "cell_type": "markdown",
   "metadata": {},
   "source": [
    "## Puissance\n",
    "L'opérateur de puissance est `**`."
   ]
  },
  {
   "cell_type": "code",
   "execution_count": 11,
   "metadata": {},
   "outputs": [
    {
     "data": {
      "text/plain": [
       "25"
      ]
     },
     "execution_count": 11,
     "metadata": {},
     "output_type": "execute_result"
    }
   ],
   "source": [
    "5 ** 2"
   ]
  },
  {
   "cell_type": "markdown",
   "metadata": {},
   "source": [
    "Dans un octet nous avons 2 à la puissance 8 valeurs différentes."
   ]
  },
  {
   "cell_type": "code",
   "execution_count": 12,
   "metadata": {},
   "outputs": [
    {
     "data": {
      "text/plain": [
       "256"
      ]
     },
     "execution_count": 12,
     "metadata": {},
     "output_type": "execute_result"
    }
   ],
   "source": [
    "2 ** 8"
   ]
  },
  {
   "cell_type": "markdown",
   "metadata": {},
   "source": [
    "En Python le calcul en entier n'est pas limité dans sa précision.  \n",
    "Une opération avec des entiers peut donner un nombre avec beaucoup de chiffres."
   ]
  },
  {
   "cell_type": "code",
   "execution_count": 13,
   "metadata": {},
   "outputs": [
    {
     "data": {
      "text/plain": [
       "369729637649726772657187905628805440595668764281741102430259972423552570455277523421410650010128232727940978889548326540119429996769494359451621570193644014418071060667659301384999779999159200499899"
      ]
     },
     "execution_count": 13,
     "metadata": {},
     "output_type": "execute_result"
    }
   ],
   "source": [
    "99 ** 99"
   ]
  },
  {
   "cell_type": "markdown",
   "metadata": {},
   "source": [
    "Par contre, la précision avec des nombres à virgule flottante est limitée à 16 chiffres.  \n",
    "Voici le même calcul fait cette fois avec des nombres à virgule flottante."
   ]
  },
  {
   "cell_type": "code",
   "execution_count": 3,
   "metadata": {},
   "outputs": [
    {
     "data": {
      "text/plain": [
       "3.697296376497268e+197"
      ]
     },
     "execution_count": 3,
     "metadata": {},
     "output_type": "execute_result"
    }
   ],
   "source": [
    "99. ** 99."
   ]
  },
  {
   "cell_type": "markdown",
   "metadata": {},
   "source": [
    "Pour calculer la racine, vous pouvez utiliser la relation\n",
    "\n",
    "$$ \\sqrt{a} = a^{0.5} $$\n",
    "\n",
    "La racine de 2 est"
   ]
  },
  {
   "cell_type": "code",
   "execution_count": 14,
   "metadata": {},
   "outputs": [
    {
     "data": {
      "text/plain": [
       "1.4142135623730951"
      ]
     },
     "execution_count": 14,
     "metadata": {},
     "output_type": "execute_result"
    }
   ],
   "source": [
    "2 ** 0.5"
   ]
  },
  {
   "cell_type": "markdown",
   "metadata": {},
   "source": [
    "## Parenthèses\n",
    "\n",
    "L'ordre de priorité des opérations est\n",
    "- puissance\n",
    "- multiplication et division\n",
    "- addition et soustraction\n",
    "\n",
    "Dans l'exemple ci-dessous nous calculons \n",
    "- d'abord la puissance (27) \n",
    "- ensuite la multiplication (54)\n",
    "- et finalement l'addition (55)."
   ]
  },
  {
   "cell_type": "code",
   "execution_count": 26,
   "metadata": {},
   "outputs": [
    {
     "data": {
      "text/plain": [
       "55"
      ]
     },
     "execution_count": 26,
     "metadata": {},
     "output_type": "execute_result"
    }
   ],
   "source": [
    "1 + 2 * 3 ** 3"
   ]
  },
  {
   "cell_type": "markdown",
   "metadata": {},
   "source": [
    "Les **parenthèses** nous permettent de changer cet ordre.\n",
    "\n",
    "Dans l'exemple ci-dessous, nous calculons \n",
    "- d'abord la multiplication (6)\n",
    "- ensuite la puissance (216)\n",
    "- et finalement l'addition (217)."
   ]
  },
  {
   "cell_type": "code",
   "execution_count": 24,
   "metadata": {},
   "outputs": [
    {
     "data": {
      "text/plain": [
       "217"
      ]
     },
     "execution_count": 24,
     "metadata": {},
     "output_type": "execute_result"
    }
   ],
   "source": [
    "1 + (2 * 3) ** 3"
   ]
  },
  {
   "cell_type": "markdown",
   "metadata": {},
   "source": [
    "Dans exemple suivant nous calculons \n",
    "- d'abord l'addition (3)\n",
    "- ensuite la puissance (27)\n",
    "- et finalement la multiplication (81)."
   ]
  },
  {
   "cell_type": "code",
   "execution_count": 28,
   "metadata": {},
   "outputs": [
    {
     "data": {
      "text/plain": [
       "81"
      ]
     },
     "execution_count": 28,
     "metadata": {},
     "output_type": "execute_result"
    }
   ],
   "source": [
    "(1 + 2)* 3 ** 3"
   ]
  },
  {
   "cell_type": "markdown",
   "metadata": {},
   "source": [
    "## Variables\n",
    "\n",
    "Une variable est une place en mémoire pour stocker une valeur.\n",
    "\n",
    "En Python une variable est créée avec une opération d'**affectation**. \n",
    "Elle a la forme\n",
    "\n",
    "```python\n",
    "variable = valeur\n",
    "```\n",
    "\n",
    "Ou plus générale\n",
    "\n",
    "    variable = expression\n",
    "    \n",
    "L'expression est évaluée, et sa valeur est affectée à la variable.  \n",
    "Par exemple 2 + 3 donne 5. La variable **a** obtient la valeur 5."
   ]
  },
  {
   "cell_type": "code",
   "execution_count": 16,
   "metadata": {},
   "outputs": [],
   "source": [
    "a = 2 + 3"
   ]
  },
  {
   "cell_type": "markdown",
   "metadata": {},
   "source": [
    "Nous pouvons afficher la valeur de la variable **a**."
   ]
  },
  {
   "cell_type": "code",
   "execution_count": 17,
   "metadata": {},
   "outputs": [
    {
     "data": {
      "text/plain": [
       "5"
      ]
     },
     "execution_count": 17,
     "metadata": {},
     "output_type": "execute_result"
    }
   ],
   "source": [
    "a"
   ]
  },
  {
   "cell_type": "markdown",
   "metadata": {},
   "source": [
    "Par la suite, la variable peut être utilisée dans des expressions, tel que"
   ]
  },
  {
   "cell_type": "code",
   "execution_count": 18,
   "metadata": {},
   "outputs": [
    {
     "data": {
      "text/plain": [
       "10"
      ]
     },
     "execution_count": 18,
     "metadata": {},
     "output_type": "execute_result"
    }
   ],
   "source": [
    "a * 2"
   ]
  },
  {
   "cell_type": "markdown",
   "metadata": {},
   "source": [
    "Une variable peut être réaffectée avec une nouvelle valeur"
   ]
  },
  {
   "cell_type": "code",
   "execution_count": 5,
   "metadata": {},
   "outputs": [
    {
     "data": {
      "text/plain": [
       "34"
      ]
     },
     "execution_count": 5,
     "metadata": {},
     "output_type": "execute_result"
    }
   ],
   "source": [
    "a = 17\n",
    "a * 2"
   ]
  },
  {
   "cell_type": "markdown",
   "metadata": {},
   "source": [
    "## Nom d'une variable\n",
    "\n",
    "Le nom d'une variable est sensible à la casse (minuscules/majuscules).  \n",
    "Donc `a` et `A` sont deux variables différentes. "
   ]
  },
  {
   "cell_type": "code",
   "execution_count": 21,
   "metadata": {},
   "outputs": [],
   "source": [
    "A = 33"
   ]
  },
  {
   "cell_type": "markdown",
   "metadata": {},
   "source": [
    "Les deux variables ont des valeurs différentes."
   ]
  },
  {
   "cell_type": "code",
   "execution_count": 22,
   "metadata": {},
   "outputs": [
    {
     "data": {
      "text/plain": [
       "(17, 33)"
      ]
     },
     "execution_count": 22,
     "metadata": {},
     "output_type": "execute_result"
    }
   ],
   "source": [
    "a, A"
   ]
  },
  {
   "cell_type": "markdown",
   "metadata": {},
   "source": [
    "Le nom d'une variable (ou d'une fonction) est composé\n",
    "\n",
    "- de lettres (majuscule ou minuscule)\n",
    "- du tiret bas `_`\n",
    "- de chiffres (sauf pour le premier caractère)\n",
    "\n",
    "Sont interdit\n",
    "- les mots-clés (`if`, `else`, ...)\n",
    "- tout autre caractère spécial (`* + % & $ - / ?`)\n",
    "\n",
    "Correct: `a2`, `_a`, `speed`, `pos_x`, `POS_X`\n",
    "\n",
    "Incorrect:\n",
    "- `2var` (commence avec un chiffre)\n",
    "- `if` (correspond à un mot-clé)\n",
    "- `var$2` (contient un caractère spécial)"
   ]
  },
  {
   "cell_type": "markdown",
   "metadata": {},
   "source": [
    "## La fonction print()\n",
    "\n",
    "La fonction `print()` permet d'afficher\n",
    "\n",
    "- une valeur (nombre ou texte)\n",
    "- une variable\n",
    "- des objets multiples, séparés par une virgule `,`"
   ]
  },
  {
   "cell_type": "code",
   "execution_count": 6,
   "metadata": {},
   "outputs": [
    {
     "name": "stdout",
     "output_type": "stream",
     "text": [
      "123\n",
      "hello\n",
      "17\n",
      "a = 17 cm\n"
     ]
    }
   ],
   "source": [
    "print(123)        # nombre\n",
    "print('hello')    # texte\n",
    "print(a)          # variable\n",
    "print('a =', a, 'cm')   # texte, variable, texte"
   ]
  },
  {
   "cell_type": "markdown",
   "metadata": {},
   "source": [
    "## Exemple de calcul pour un rectangle\n",
    "\n",
    "À partir de la longueur **a** et largeur **b** d'un rectangle nous pouvons calculer: \n",
    "\n",
    "- la surface\n",
    "- le périmètre"
   ]
  },
  {
   "cell_type": "code",
   "execution_count": 26,
   "metadata": {},
   "outputs": [
    {
     "name": "stdout",
     "output_type": "stream",
     "text": [
      "surface = 20\n",
      "périmètre = 18\n"
     ]
    }
   ],
   "source": [
    "a = 4\n",
    "b = 5\n",
    "\n",
    "print('surface =', a * b)\n",
    "print('périmètre =', 2 * a + 2 * b)"
   ]
  },
  {
   "cell_type": "markdown",
   "metadata": {},
   "source": [
    "Utilisez la formule de Pythagore pour calculer la diagonale.\n",
    "\n",
    "$$ c = \\sqrt{a^2 + b^2} $$\n",
    "\n",
    "Pour calculer la racine, utilisez la relation\n",
    "\n",
    "$$ \\sqrt{a} = a^{0.5} $$"
   ]
  },
  {
   "cell_type": "code",
   "execution_count": 16,
   "metadata": {},
   "outputs": [
    {
     "name": "stdout",
     "output_type": "stream",
     "text": [
      "diagonale = 6.4031242374328485\n"
     ]
    }
   ],
   "source": [
    "print('diagonale =', (a**2 + b**2) ** 0.5)"
   ]
  },
  {
   "cell_type": "markdown",
   "metadata": {},
   "source": [
    "Maintenant modifiez **a** et **b** et refaites les calculs."
   ]
  },
  {
   "cell_type": "markdown",
   "metadata": {},
   "source": [
    "## Exemple de calcul pour un cercle\n",
    "À partir du rayon **r**, calculez la circonférence et la surface d'un cercle.\n",
    "\n",
    "Rappel: \n",
    "\n",
    "$$ circ. = 2 \\pi r $$\n",
    "\n",
    "$$ surface = \\pi r^2 $$\n"
   ]
  },
  {
   "cell_type": "code",
   "execution_count": 17,
   "metadata": {},
   "outputs": [
    {
     "name": "stdout",
     "output_type": "stream",
     "text": [
      "circonférence = 21.987000000000002\n",
      "surface = 38.47725\n"
     ]
    }
   ],
   "source": [
    "r = 3.5\n",
    "pi = 3.141\n",
    "\n",
    "print('circonférence =', pi * 2 * r)\n",
    "print('surface =', pi * r ** 2)"
   ]
  },
  {
   "cell_type": "markdown",
   "metadata": {},
   "source": [
    "Maintenant, modifiez le rayon **r** et refaites les calculs."
   ]
  },
  {
   "cell_type": "code",
   "execution_count": null,
   "metadata": {},
   "outputs": [],
   "source": []
  }
 ],
 "metadata": {
  "kernelspec": {
   "display_name": "Python 3",
   "language": "python",
   "name": "python3"
  },
  "language_info": {
   "codemirror_mode": {
    "name": "ipython",
    "version": 3
   },
   "file_extension": ".py",
   "mimetype": "text/x-python",
   "name": "python",
   "nbconvert_exporter": "python",
   "pygments_lexer": "ipython3",
   "version": "3.7.9"
  }
 },
 "nbformat": 4,
 "nbformat_minor": 4
}
