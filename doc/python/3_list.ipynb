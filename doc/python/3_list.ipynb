{
 "cells": [
  {
   "cell_type": "markdown",
   "id": "realistic-studio",
   "metadata": {},
   "source": [
    "# Listes\n",
    "\n",
    "Une liste est un **ensemble** d'éléments\n",
    "\n",
    "![list](img/list.jpg) \n",
    "\n",
    "Les éléments d'une liste sont:\n",
    "- ordonnés\n",
    "- séparés par une virgule `,`\n",
    "- délimités par des crochets `[]`"
   ]
  },
  {
   "cell_type": "markdown",
   "id": "chemical-poison",
   "metadata": {},
   "source": [
    "Voici une liste avec 3 éléments:"
   ]
  },
  {
   "cell_type": "code",
   "execution_count": 4,
   "id": "legitimate-depth",
   "metadata": {},
   "outputs": [
    {
     "data": {
      "text/plain": [
       "[2, 3, 5]"
      ]
     },
     "execution_count": 4,
     "metadata": {},
     "output_type": "execute_result"
    }
   ],
   "source": [
    "[2, 3, 5]"
   ]
  },
  {
   "cell_type": "markdown",
   "id": "tough-punishment",
   "metadata": {},
   "source": [
    "Une liste est ordonnée.  \n",
    "Deux listes avec les mêmes éléments, mais un ordre différent sont différentes."
   ]
  },
  {
   "cell_type": "code",
   "execution_count": 5,
   "id": "adult-single",
   "metadata": {},
   "outputs": [
    {
     "data": {
      "text/plain": [
       "False"
      ]
     },
     "execution_count": 5,
     "metadata": {},
     "output_type": "execute_result"
    }
   ],
   "source": [
    "[1, 2] == [2, 1]"
   ]
  },
  {
   "cell_type": "markdown",
   "id": "dutch-consultancy",
   "metadata": {},
   "source": [
    "## Nouveaux concepts\n",
    "\n",
    "Dans ce chapitre vous allez découvrir les concepts de\n",
    "\n",
    "- création de liste: `a = [1, 2, 3]`\n",
    "- indexage d'un élément: `a[0]`\n",
    "\n",
    "Les opérateurs de\n",
    "- concaténation `+`\n",
    "- répétition `*`\n",
    "\n",
    "Les fonctions:\n",
    "- `len()` pour retourner la longueur de la liste\n",
    "- `list()` pour transformer une séquence en liste\n",
    "- `range()` pour produire une plage d'entiers"
   ]
  },
  {
   "cell_type": "markdown",
   "id": "boxed-transportation",
   "metadata": {},
   "source": [
    "## Exemples de listes\n",
    "Voici une liste avec des nombres."
   ]
  },
  {
   "cell_type": "code",
   "execution_count": 6,
   "id": "under-recipe",
   "metadata": {},
   "outputs": [
    {
     "data": {
      "text/plain": [
       "[2, 3, 5, 7, 11, 13]"
      ]
     },
     "execution_count": 6,
     "metadata": {},
     "output_type": "execute_result"
    }
   ],
   "source": [
    "primes = [2, 3, 5, 7, 11, 13]\n",
    "primes"
   ]
  },
  {
   "cell_type": "markdown",
   "id": "iraqi-pavilion",
   "metadata": {},
   "source": [
    "Voici une liste avec des chaines de caractères."
   ]
  },
  {
   "cell_type": "code",
   "execution_count": 7,
   "id": "surprised-celebration",
   "metadata": {},
   "outputs": [
    {
     "data": {
      "text/plain": [
       "['pomme', 'banane', 'poire', 'orange']"
      ]
     },
     "execution_count": 7,
     "metadata": {},
     "output_type": "execute_result"
    }
   ],
   "source": [
    "fruits = ['pomme', 'banane', 'poire', 'orange']\n",
    "fruits"
   ]
  },
  {
   "cell_type": "markdown",
   "id": "missing-observer",
   "metadata": {},
   "source": [
    "Une liste peut contenir un mélange d'objets de types différents."
   ]
  },
  {
   "cell_type": "code",
   "execution_count": 8,
   "id": "muslim-screening",
   "metadata": {},
   "outputs": [
    {
     "data": {
      "text/plain": [
       "[123, 'hello', True, False]"
      ]
     },
     "execution_count": 8,
     "metadata": {},
     "output_type": "execute_result"
    }
   ],
   "source": [
    "mix = [123, 'hello', True, False]\n",
    "mix"
   ]
  },
  {
   "cell_type": "markdown",
   "id": "bacterial-classification",
   "metadata": {},
   "source": [
    "Une liste peut même contenir une deuxième liste."
   ]
  },
  {
   "cell_type": "code",
   "execution_count": 9,
   "id": "critical-colony",
   "metadata": {},
   "outputs": [
    {
     "data": {
      "text/plain": [
       "[2, 3, [0, 1]]"
      ]
     },
     "execution_count": 9,
     "metadata": {},
     "output_type": "execute_result"
    }
   ],
   "source": [
    "[2, 3, [0, 1]]"
   ]
  },
  {
   "cell_type": "markdown",
   "id": "secondary-pierce",
   "metadata": {},
   "source": [
    "Sur un Mac vous pouvez choisir et insérer des *émojis* en faisant ceci\n",
    " - Choisir ** > Préférences Système... > Clavier** \n",
    " - Cocher **Afficher les visualisateurs de claver et d'émoji dans la barre de menu**\n"
   ]
  },
  {
   "cell_type": "code",
   "execution_count": 10,
   "id": "professional-investigator",
   "metadata": {},
   "outputs": [
    {
     "data": {
      "text/plain": [
       "['🐶', '🐱', '🐭']"
      ]
     },
     "execution_count": 10,
     "metadata": {},
     "output_type": "execute_result"
    }
   ],
   "source": [
    "animaux = ['🐶', '🐱', '🐭']\n",
    "animaux"
   ]
  },
  {
   "cell_type": "markdown",
   "id": "grand-fountain",
   "metadata": {},
   "source": [
    "Et voici une liste vide."
   ]
  },
  {
   "cell_type": "code",
   "execution_count": 8,
   "id": "renewable-swiss",
   "metadata": {},
   "outputs": [
    {
     "data": {
      "text/plain": [
       "[]"
      ]
     },
     "execution_count": 8,
     "metadata": {},
     "output_type": "execute_result"
    }
   ],
   "source": [
    "[]"
   ]
  },
  {
   "cell_type": "markdown",
   "id": "mature-webmaster",
   "metadata": {},
   "source": [
    "## Opérateur de concaténation\n",
    "\n",
    "L'opérateur `+` permet de concaténer des listes."
   ]
  },
  {
   "cell_type": "code",
   "execution_count": 11,
   "id": "coastal-label",
   "metadata": {},
   "outputs": [
    {
     "data": {
      "text/plain": [
       "[2, 3, 5, 7, 11, 13, 'pomme', 'banane', 'poire', 'orange']"
      ]
     },
     "execution_count": 11,
     "metadata": {},
     "output_type": "execute_result"
    }
   ],
   "source": [
    "primes + fruits"
   ]
  },
  {
   "cell_type": "code",
   "execution_count": 12,
   "id": "registered-intersection",
   "metadata": {},
   "outputs": [
    {
     "data": {
      "text/plain": [
       "['pomme', 'banane', 'poire', 'orange', '🐶', '🐱', '🐭']"
      ]
     },
     "execution_count": 12,
     "metadata": {},
     "output_type": "execute_result"
    }
   ],
   "source": [
    "d = fruits + animaux\n",
    "d"
   ]
  },
  {
   "cell_type": "markdown",
   "id": "discrete-dodge",
   "metadata": {},
   "source": [
    "## Opérateur de répétition\n",
    "\n",
    "L'opérateur `*` permet de concaténer des listes.  \n",
    "Nous pouvons facilement créer des listes d'objets identiques."
   ]
  },
  {
   "cell_type": "code",
   "execution_count": 13,
   "id": "continent-arctic",
   "metadata": {},
   "outputs": [
    {
     "data": {
      "text/plain": [
       "[1, 1, 1, 1, 1, 1, 1, 1, 1, 1, 1, 1, 1]"
      ]
     },
     "execution_count": 13,
     "metadata": {},
     "output_type": "execute_result"
    }
   ],
   "source": [
    "uns = [1] * 13\n",
    "uns"
   ]
  },
  {
   "cell_type": "markdown",
   "id": "modular-render",
   "metadata": {},
   "source": [
    "Voici la liste **animaux** répétée deux fois."
   ]
  },
  {
   "cell_type": "code",
   "execution_count": 23,
   "id": "unnecessary-serve",
   "metadata": {},
   "outputs": [
    {
     "data": {
      "text/plain": [
       "['🐶', '🐱', '🐭', '🐶', '🐱', '🐭']"
      ]
     },
     "execution_count": 23,
     "metadata": {},
     "output_type": "execute_result"
    }
   ],
   "source": [
    "animaux * 2"
   ]
  },
  {
   "cell_type": "markdown",
   "id": "nonprofit-stone",
   "metadata": {},
   "source": [
    "## Index\n",
    "\n",
    "Un index entre crochets permet d'accéder à un élément d'une liste.  \n",
    "Les indexes commencent à 0. Le premier élément a donc l'index 0."
   ]
  },
  {
   "cell_type": "code",
   "execution_count": 13,
   "id": "relevant-marina",
   "metadata": {},
   "outputs": [
    {
     "data": {
      "text/plain": [
       "'pomme'"
      ]
     },
     "execution_count": 13,
     "metadata": {},
     "output_type": "execute_result"
    }
   ],
   "source": [
    "fruits[0]"
   ]
  },
  {
   "cell_type": "markdown",
   "id": "approved-airplane",
   "metadata": {},
   "source": [
    "Le deuxième élément d'une liste a l'index 1."
   ]
  },
  {
   "cell_type": "code",
   "execution_count": 14,
   "id": "accepting-summer",
   "metadata": {},
   "outputs": [
    {
     "data": {
      "text/plain": [
       "'banane'"
      ]
     },
     "execution_count": 14,
     "metadata": {},
     "output_type": "execute_result"
    }
   ],
   "source": [
    "fruits[1]"
   ]
  },
  {
   "cell_type": "markdown",
   "id": "found-memorabilia",
   "metadata": {},
   "source": [
    "Un index négatif permet d'adresser les éléments d'une liste depuis sa fin."
   ]
  },
  {
   "cell_type": "code",
   "execution_count": 15,
   "id": "metropolitan-success",
   "metadata": {},
   "outputs": [
    {
     "data": {
      "text/plain": [
       "'orange'"
      ]
     },
     "execution_count": 15,
     "metadata": {},
     "output_type": "execute_result"
    }
   ],
   "source": [
    "fruits[-1]"
   ]
  },
  {
   "cell_type": "markdown",
   "id": "confused-bishop",
   "metadata": {},
   "source": [
    "Voici l'avant-dernier fruit."
   ]
  },
  {
   "cell_type": "code",
   "execution_count": 16,
   "id": "objective-republic",
   "metadata": {},
   "outputs": [
    {
     "data": {
      "text/plain": [
       "'poire'"
      ]
     },
     "execution_count": 16,
     "metadata": {},
     "output_type": "execute_result"
    }
   ],
   "source": [
    "fruits[-2]"
   ]
  },
  {
   "cell_type": "markdown",
   "id": "typical-paintball",
   "metadata": {},
   "source": [
    "## Affectation d'un élément\n",
    "\n",
    "L'affectation suivante change le deuxième élément en *ananas*."
   ]
  },
  {
   "cell_type": "code",
   "execution_count": 17,
   "id": "packed-karen",
   "metadata": {},
   "outputs": [
    {
     "data": {
      "text/plain": [
       "['pomme', 'ananas', 'poire', 'orange']"
      ]
     },
     "execution_count": 17,
     "metadata": {},
     "output_type": "execute_result"
    }
   ],
   "source": [
    "fruits[1] = 'ananas'\n",
    "fruits"
   ]
  },
  {
   "cell_type": "markdown",
   "id": "designing-damages",
   "metadata": {},
   "source": [
    "L'affectation suivante transforme le dernier élément en *cerise*."
   ]
  },
  {
   "cell_type": "code",
   "execution_count": 18,
   "id": "blessed-doctrine",
   "metadata": {},
   "outputs": [
    {
     "data": {
      "text/plain": [
       "['pomme', 'ananas', 'poire', 'cerise']"
      ]
     },
     "execution_count": 18,
     "metadata": {},
     "output_type": "execute_result"
    }
   ],
   "source": [
    "fruits[-1] = 'cerise'\n",
    "fruits"
   ]
  },
  {
   "cell_type": "markdown",
   "id": "clear-elimination",
   "metadata": {},
   "source": [
    "## Plages numériques\n",
    "\n",
    "La fonction `range()` crée une plage d'entiers. Nous allons la revoir avec les boucles `for`. \n",
    "Pour afficher les éléments de la plage, nous entourons `range()` par la fonction `list()`\n",
    "\n",
    "La fonction `range(n)` produit une plage de 0 à n-1.  \n",
    "Voici la plage des nombres de 0 à 9."
   ]
  },
  {
   "cell_type": "code",
   "execution_count": 24,
   "id": "amended-phoenix",
   "metadata": {},
   "outputs": [
    {
     "data": {
      "text/plain": [
       "[0, 1, 2, 3, 4, 5, 6, 7, 8, 9]"
      ]
     },
     "execution_count": 24,
     "metadata": {},
     "output_type": "execute_result"
    }
   ],
   "source": [
    "list(range(10))"
   ]
  },
  {
   "cell_type": "markdown",
   "id": "published-reviewer",
   "metadata": {},
   "source": [
    "La fonction `range(m, n)` produit une plage de **m** à **n-1**.  \n",
    "Voici la plage des nombres de 10 à 19."
   ]
  },
  {
   "cell_type": "code",
   "execution_count": 20,
   "id": "international-integer",
   "metadata": {},
   "outputs": [
    {
     "data": {
      "text/plain": [
       "[10, 11, 12, 13, 14, 15, 16, 17, 18, 19]"
      ]
     },
     "execution_count": 20,
     "metadata": {},
     "output_type": "execute_result"
    }
   ],
   "source": [
    "list(range(10, 20))"
   ]
  },
  {
   "cell_type": "markdown",
   "id": "banner-maker",
   "metadata": {},
   "source": [
    "Un troisième argument peut être utilisé pour indiquer l'incrément.  \n",
    "Voici la plage des nombres pairs de 10 à 18."
   ]
  },
  {
   "cell_type": "code",
   "execution_count": 21,
   "id": "extraordinary-davis",
   "metadata": {},
   "outputs": [
    {
     "data": {
      "text/plain": [
       "[10, 12, 14, 16, 18]"
      ]
     },
     "execution_count": 21,
     "metadata": {},
     "output_type": "execute_result"
    }
   ],
   "source": [
    "list(range(10, 20, 2))"
   ]
  },
  {
   "cell_type": "markdown",
   "id": "alleged-waters",
   "metadata": {},
   "source": [
    "Une plage peut être inversée avec un incrément négatif.  \n",
    "Voici la plage des entiers de 30 à 21."
   ]
  },
  {
   "cell_type": "code",
   "execution_count": 22,
   "id": "military-grocery",
   "metadata": {},
   "outputs": [
    {
     "data": {
      "text/plain": [
       "[30, 29, 28, 27, 26, 25, 24, 23, 22, 21]"
      ]
     },
     "execution_count": 22,
     "metadata": {},
     "output_type": "execute_result"
    }
   ],
   "source": [
    "list(range(30, 20, -1))"
   ]
  },
  {
   "cell_type": "markdown",
   "id": "mineral-croatia",
   "metadata": {},
   "source": [
    "## Longueur\n",
    "\n",
    "La fonction `len` retourne la longeur d'une liste."
   ]
  },
  {
   "cell_type": "code",
   "execution_count": 25,
   "id": "blank-writing",
   "metadata": {},
   "outputs": [
    {
     "data": {
      "text/plain": [
       "4"
      ]
     },
     "execution_count": 25,
     "metadata": {},
     "output_type": "execute_result"
    }
   ],
   "source": [
    "len(fruits)"
   ]
  },
  {
   "cell_type": "markdown",
   "id": "linear-aquatic",
   "metadata": {},
   "source": [
    "La longeur de la liste vide est 0."
   ]
  },
  {
   "cell_type": "code",
   "execution_count": 24,
   "id": "marked-cartoon",
   "metadata": {},
   "outputs": [
    {
     "data": {
      "text/plain": [
       "0"
      ]
     },
     "execution_count": 24,
     "metadata": {},
     "output_type": "execute_result"
    }
   ],
   "source": [
    "len([])"
   ]
  },
  {
   "cell_type": "markdown",
   "id": "structural-hammer",
   "metadata": {},
   "source": [
    "## Transformer en liste\n",
    "\n",
    "La fonction `list` transforme une séquence en liste."
   ]
  },
  {
   "cell_type": "code",
   "execution_count": 26,
   "id": "confused-process",
   "metadata": {},
   "outputs": [
    {
     "data": {
      "text/plain": [
       "['a', 'b', 'c', 'd', 'e', 'f', 'g', 'h', 'i', 'j']"
      ]
     },
     "execution_count": 26,
     "metadata": {},
     "output_type": "execute_result"
    }
   ],
   "source": [
    "list('abcdefghij')"
   ]
  },
  {
   "cell_type": "markdown",
   "id": "unavailable-shopper",
   "metadata": {},
   "source": [
    "La méthode `split()` permet de découper une phrases en mots et créer une liste.\n",
    "\n",
    "**Attention:**  \n",
    "`split()` une **méthode** qui est attachée à une chaine avec la notation dotée."
   ]
  },
  {
   "cell_type": "code",
   "execution_count": 31,
   "id": "derived-force",
   "metadata": {},
   "outputs": [
    {
     "data": {
      "text/plain": [
       "['les', 'mots', 'sont', 'séparés', 'par', 'des', 'espaces']"
      ]
     },
     "execution_count": 31,
     "metadata": {},
     "output_type": "execute_result"
    }
   ],
   "source": [
    "'les mots sont séparés par des espaces'.split()"
   ]
  },
  {
   "cell_type": "markdown",
   "id": "vocal-luther",
   "metadata": {},
   "source": [
    "Nous pouvons également transformer une chaine avec des émojis en liste."
   ]
  },
  {
   "cell_type": "code",
   "execution_count": 28,
   "id": "mineral-treasurer",
   "metadata": {},
   "outputs": [
    {
     "data": {
      "text/plain": [
       "['🍏', '🍎', '🍐', '🍊', '🍋', '🍌']"
      ]
     },
     "execution_count": 28,
     "metadata": {},
     "output_type": "execute_result"
    }
   ],
   "source": [
    "list('🍏🍎🍐🍊🍋🍌')"
   ]
  },
  {
   "cell_type": "code",
   "execution_count": null,
   "id": "surgical-amino",
   "metadata": {},
   "outputs": [],
   "source": []
  }
 ],
 "metadata": {
  "kernelspec": {
   "display_name": "Python 3",
   "language": "python",
   "name": "python3"
  },
  "language_info": {
   "codemirror_mode": {
    "name": "ipython",
    "version": 3
   },
   "file_extension": ".py",
   "mimetype": "text/x-python",
   "name": "python",
   "nbconvert_exporter": "python",
   "pygments_lexer": "ipython3",
   "version": "3.7.9"
  }
 },
 "nbformat": 4,
 "nbformat_minor": 5
}
