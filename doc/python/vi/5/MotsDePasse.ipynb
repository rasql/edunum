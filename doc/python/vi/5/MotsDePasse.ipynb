{
 "cells": [
  {
   "cell_type": "markdown",
   "id": "official-destruction",
   "metadata": {},
   "source": [
    "# Les mots de passe\n",
    "\n",
    "Internet est un monde **ouvert** où tout est accessible. Il est donc très important de protéger ses données **sensibles** (tout ce qui touche à votre vie privée). \n",
    "\n",
    "![](https://upload.wikimedia.org/wikipedia/commons/thumb/a/a6/Anonymous_emblem.svg/480px-Anonymous_emblem.svg.png)"
   ]
  },
  {
   "cell_type": "markdown",
   "id": "given-credits",
   "metadata": {},
   "source": [
    "## Objectif\n",
    "\n",
    "Comprendre l'importance d'un bon mot de passe"
   ]
  },
  {
   "cell_type": "markdown",
   "id": "informative-gilbert",
   "metadata": {},
   "source": [
    "## Pourquoi ?\n",
    "\n",
    "- le nom d'utilisateur peut être public\n",
    "- le mot de passe **DOIT** être secret. Il sert à protéger nos données privées dans les réseaux sociaux, sur notre téléphone portable, etc.. "
   ]
  },
  {
   "cell_type": "markdown",
   "id": "encouraging-snapshot",
   "metadata": {},
   "source": [
    "## Un bon mot de passe\n",
    "\n",
    "Il doit être difficile à trouver pour un être humain, mais surtout pour un ordinateur. L'[EPFL](https://wiki.epfl.ch/secure-it/questcequunbonmotdepasse) donne quatre caractéristiques pour un **bon mot de passe** :\n",
    "\n",
    "1. il n'est **pas basé sur un mot courant** (nom, prénom, etc..)\n",
    "1. il doit être **long**\n",
    "1. il ne doit pas contenir des **répétitions**\n",
    "1. il doit contenir des caractères **variés** (lettres, accents, chiffres, caractères spéciaux)\n",
    "\n",
    "Malheureusement, beaucoup de personnes ont encore des mots de passe trop simple"
   ]
  },
  {
   "cell_type": "markdown",
   "id": "recent-trouble",
   "metadata": {},
   "source": [
    "## Exercice\n",
    "\n",
    "A votre avis, quel est le mot de passe le plus utilisé dans le monde francophone ?"
   ]
  },
  {
   "cell_type": "markdown",
   "id": "retained-princeton",
   "metadata": {},
   "source": [
    "## Qualité d'un mot de passe\n",
    "\n",
    "Le fichier ```dossier-a-cracker/passwords.txt``` contient les **20'000 mots de passes** les plus utilisés sur l'Internet francophone. Nous allons l'utiliser pour vérifier la qualité d'un mot de passe."
   ]
  },
  {
   "cell_type": "markdown",
   "id": "derived-hungary",
   "metadata": {},
   "source": [
    "Déplaçons nous dans le dossier `dossier-a-cracker`:"
   ]
  },
  {
   "cell_type": "code",
   "execution_count": 1,
   "id": "grand-nature",
   "metadata": {},
   "outputs": [
    {
     "name": "stdout",
     "output_type": "stream",
     "text": [
      "/home/vkeller/edunum/doc/python/vi/5/dossier-a-cracker\n"
     ]
    }
   ],
   "source": [
    "cd dossier-a-cracker"
   ]
  },
  {
   "cell_type": "markdown",
   "id": "collectible-oxygen",
   "metadata": {},
   "source": [
    "L'instruction Python suivante permet de stocker dans la **liste** ```passwords``` les 20'000 mots de passes du fichier ```passwords.txt```"
   ]
  },
  {
   "cell_type": "code",
   "execution_count": 2,
   "id": "coordinated-garbage",
   "metadata": {},
   "outputs": [],
   "source": [
    "passwords = [line.rstrip() for line in open('passwords.txt', \"r\")]"
   ]
  },
  {
   "cell_type": "markdown",
   "id": "driven-curve",
   "metadata": {},
   "source": [
    "## Accéder aux élément d'une liste\n",
    "L'opérateur de tranche `[m:n]` permet d'accéder à des sous ensembles\n",
    "\n",
    "- `[m:n]` de m jusqu'à (n-1)\n",
    "- `[:n]` du début jusqu'à (n-1)\n",
    "- `[m:]` de m jusqu'à la fin\n",
    "\n",
    "Un index negatif compte depuis la fin"
   ]
  },
  {
   "cell_type": "markdown",
   "id": "persistent-immunology",
   "metadata": {},
   "source": [
    "## Exercice\n",
    "\n",
    "A l'aide des opérateurs de tranche, répondez aux questions\n",
    "\n",
    "1. Affichez les cinq premiers mots de passe de la liste ```passwords```\n",
    "1. Affichez le 1000ème mot de passe de la liste ```passwords```\n",
    "1. Affichez les mots de passes entre 10'000 et 10'005 de la liste ```passwords```\n",
    "1. Affichez l'avant dernier mot de passe de la liste ```passwords```"
   ]
  },
  {
   "cell_type": "markdown",
   "id": "listed-transparency",
   "metadata": {},
   "source": [
    "## Vérifier si un mot de passe est dans la liste\n",
    "\n",
    "L'opérateur `in` permet de verifier si un mot est dans une liste.\n",
    "\n",
    "Est-ce que le mot de passe `'iloveyou'` est dans la liste ```passwords```?"
   ]
  },
  {
   "cell_type": "code",
   "execution_count": 3,
   "id": "gross-psychiatry",
   "metadata": {},
   "outputs": [
    {
     "data": {
      "text/plain": [
       "True"
      ]
     },
     "execution_count": 3,
     "metadata": {},
     "output_type": "execute_result"
    }
   ],
   "source": [
    "'iloveyou' in passwords"
   ]
  },
  {
   "cell_type": "markdown",
   "id": "assured-essex",
   "metadata": {},
   "source": [
    "Est-ce que le mode de passe `'tiamo'` est dans la liste `passwords`"
   ]
  },
  {
   "cell_type": "code",
   "execution_count": 4,
   "id": "joined-lexington",
   "metadata": {},
   "outputs": [
    {
     "data": {
      "text/plain": [
       "False"
      ]
     },
     "execution_count": 4,
     "metadata": {},
     "output_type": "execute_result"
    }
   ],
   "source": [
    "'tiamo' in passwords"
   ]
  },
  {
   "cell_type": "markdown",
   "id": "noted-league",
   "metadata": {},
   "source": [
    "## Exercice\n",
    "\n",
    "1. Vérifiez que le mot de passe ```cristiano7``` est dans la liste ```passwords```\n",
    "1. Et le mot de passe ```cristiano8``` ?"
   ]
  },
  {
   "cell_type": "markdown",
   "id": "foster-virus",
   "metadata": {},
   "source": [
    "## Tester plusieurs mots de passes\n",
    "\n",
    "Avec une boucle, on peut tester n'importe quel mot de passe contre la liste ```passwords```.\n",
    "\n",
    "Testez vos mots de passe !\n",
    "\n",
    "(pour quitter, appuyez sur ENTREE"
   ]
  },
  {
   "cell_type": "code",
   "execution_count": 6,
   "id": "coastal-corrections",
   "metadata": {},
   "outputs": [
    {
     "name": "stdin",
     "output_type": "stream",
     "text": [
      "Entrez un mot de passe Vincent\n"
     ]
    },
    {
     "name": "stdout",
     "output_type": "stream",
     "text": [
      "True\n"
     ]
    },
    {
     "name": "stdin",
     "output_type": "stream",
     "text": [
      "Entrez un mot de passe: raphael\n"
     ]
    },
    {
     "name": "stdout",
     "output_type": "stream",
     "text": [
      "True\n"
     ]
    },
    {
     "name": "stdin",
     "output_type": "stream",
     "text": [
      "Entrez un mot de passe: Raphael\n"
     ]
    },
    {
     "name": "stdout",
     "output_type": "stream",
     "text": [
      "False\n"
     ]
    },
    {
     "name": "stdin",
     "output_type": "stream",
     "text": [
      "Entrez un mot de passe: \n"
     ]
    }
   ],
   "source": [
    "mot = input('Entrez un mot de passe')\n",
    "while len(mot) > 0:\n",
    "    print(mot in passwords)\n",
    "    mot = input('Entrez un mot de passe:')"
   ]
  },
  {
   "cell_type": "markdown",
   "id": "bizarre-luther",
   "metadata": {},
   "source": [
    "## Archive (ZIP) protégé par un mot de passe\n",
    "\n",
    "Le fichier ```confidentiel/mails_FBI.zip``` a été protégé contre l'extraction par un mot de passe. Si vous tentez d'extraire l'archive, vous devez fournir un mot de passe.\n",
    "\n",
    "Ces 4 lignes vont tester le mot de passe ```'jetaime'``` sur l'archive. Cela va créer une erreur de type :\n",
    "\n",
    "```\n",
    "RuntimeError: Bad password for file 'original/mails_FBI.txt'\n",
    "```"
   ]
  },
  {
   "cell_type": "code",
   "execution_count": null,
   "id": "scenic-butterfly",
   "metadata": {},
   "outputs": [],
   "source": [
    "from zipfile import ZipFile\n",
    "with ZipFile('confidentiel/mails_FBI.zip') as file:\n",
    "   mdp = 'jetaime' \n",
    "   file.extractall(pwd = bytes(mdp, 'utf-8'))"
   ]
  },
  {
   "cell_type": "markdown",
   "id": "domestic-applicant",
   "metadata": {},
   "source": [
    "## Attaque en force brute\n",
    "\n",
    "A partir de maintenant, on dispose de tous les outils pour attaquer en force brute l'archive ```'mails_FBI.zip'```. L'algorithme sera le suivant :\n",
    "\n",
    "1. pour tous les mots de passes ```mdp``` de la liste ```passwords``` FAIRE\n",
    "    1. Tester si le mot de passe est correct\n",
    "    1. SI le mot de passe est correct ALORS\n",
    "        1. le mot de passe a été trouvé. SORTIR\n",
    "    1. SINON\n",
    "        1. aller au mot de passe suivant\n",
    "\n",
    "La fonction ```check_ret(mdp,archive)``` va tester un mot de passe ```mdp``` sur l'archive protégée ```archive``` et retourner la valeur ```0``` si le mot de passe est le bon"
   ]
  },
  {
   "cell_type": "code",
   "execution_count": 7,
   "id": "stylish-civilian",
   "metadata": {},
   "outputs": [],
   "source": [
    "import subprocess\n",
    "def check_ret(mdp,archive):\n",
    "    rc = -1\n",
    "    p1 = subprocess.Popen(['unzip', '-t','-q', '-P', mdp,archive])\n",
    "    p1.wait()\n",
    "    rc = p1.returncode\n",
    "    p1.kill()\n",
    "    return rc"
   ]
  },
  {
   "cell_type": "markdown",
   "id": "advised-coach",
   "metadata": {},
   "source": [
    "Il est maintenant possible de tester tous les mots de passe de la liste sur une archive protégée par un mot de passe. Le fichier se trouve au chemin ```confidentiel/mails_FBI.zip```"
   ]
  },
  {
   "cell_type": "code",
   "execution_count": null,
   "id": "global-calculation",
   "metadata": {},
   "outputs": [],
   "source": [
    "for mdp in passwords:\n",
    "    ret = check_ret(mdp,'confidentiel/mails_FBI.zip')\n",
    "    if ret == 0:\n",
    "        print('Le mot de passe est :',mdp)\n",
    "        break"
   ]
  },
  {
   "cell_type": "markdown",
   "id": "flying-profile",
   "metadata": {},
   "source": [
    "## Exercice\n",
    "\n",
    "A l'aide de la fonction vue plus haut, extrayez l'archive avec le mot de passe que vous avez trouvé. Dans le finder, déplacez-vous dans le dossier `Téléchargement/dossier-a-cracker/confidentiel` et double-cliquez sur l'archive `mails_FBI.zip`\n",
    "\n",
    "On peut aussi extraire l'archive avec une fonction Python. \n",
    "\n",
    "Remplacez la valeur de la variable `mdp = ''` par le mot de passe que vous venez de trouver. \n",
    "\n",
    "```python\n",
    "from zipfile import ZipFile\n",
    "with ZipFile('dossier-a-cracker/confidentiel/mails_FBI.zip') as file:\n",
    "   mdp = '' \n",
    "   file.extractall(pwd = bytes(mdp, 'utf-8'))\n",
    "```\n"
   ]
  },
  {
   "cell_type": "markdown",
   "id": "governmental-malaysia",
   "metadata": {},
   "source": [
    "## Jeu (si vous avez du temps)\n",
    "\n",
    "Dans le monde du hacking, il y a un jeu qui est souvent utilisé par les entreprises pour tester leur infrastructure. Ce jeu de guerre cybernétique, appelé [catch the flag](https://fr.wikipedia.org/wiki/Test_d%27intrusion) (capture du drapeau) dans lequel deux équipes s'affrontent: l'une pour protéger le drapeau, l'autre pour le capturer. \n",
    "\n",
    "Un autre fichier archive ZIP a été caché dans le dossier ```dossier-a-cracker``` et protégé par un mot de passe.\n",
    "\n",
    "**Exercice** Retrouvez le fichier avec les commandes ```ls``` et ```cd``` et utilisez les fonctions décrites plus haut pour le décrypter"
   ]
  },
  {
   "cell_type": "markdown",
   "id": "external-nicaragua",
   "metadata": {},
   "source": [
    "## Mon adresse mail est-elle en danger ?\n",
    "\n",
    "Nous avons utilisé la **force brute** pour tester **un seul mot de passe** contre une liste définie. Les crackers du monde entier utilisent des dictionnaires bien plus grands contre des adresses mails, des comptes, etc.. que vous avez laissé ça et là au gré de vos interactions avec Internet. \n",
    "\n",
    "Ces listes sont ensuite vendues et utilisées à mauvais escient. \n",
    "\n",
    "Il existe un site web qui vérifie si votre adresse mail a été piratée : [Ai-je été piraté ?](https://haveibeenpwned.com)"
   ]
  },
  {
   "cell_type": "markdown",
   "id": "lyric-juvenile",
   "metadata": {},
   "source": [
    "## Exercice \n",
    "\n",
    "Testez vos adresses mails pour voir si elles ont été vendues. Si elles le sont : changez votre mot de passe"
   ]
  },
  {
   "cell_type": "code",
   "execution_count": null,
   "id": "suspected-player",
   "metadata": {},
   "outputs": [],
   "source": []
  }
 ],
 "metadata": {
  "kernelspec": {
   "display_name": "Python 3",
   "language": "python",
   "name": "python3"
  },
  "language_info": {
   "codemirror_mode": {
    "name": "ipython",
    "version": 3
   },
   "file_extension": ".py",
   "mimetype": "text/x-python",
   "name": "python",
   "nbconvert_exporter": "python",
   "pygments_lexer": "ipython3",
   "version": "3.9.1"
  }
 },
 "nbformat": 4,
 "nbformat_minor": 5
}
