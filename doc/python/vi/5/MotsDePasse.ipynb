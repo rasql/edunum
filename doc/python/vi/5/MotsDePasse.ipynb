{
 "cells": [
  {
   "cell_type": "markdown",
   "id": "needed-pocket",
   "metadata": {},
   "source": [
    "# Les mots de passe\n",
    "\n",
    "Internet est un monde **ouvert** où tout est accessible. Il est donc très important de protéger ses données **sensibles** (tout ce qui touche à votre vie privée). \n",
    "\n",
    "![](https://upload.wikimedia.org/wikipedia/commons/thumb/a/a6/Anonymous_emblem.svg/480px-Anonymous_emblem.svg.png)\n",
    "\n",
    "Le mouvement hacktiviste **Anonymous**, se manifeste notamment sur Internet, agit de manière anonyme, généralement pour défendre la liberté d'expression."
   ]
  },
  {
   "cell_type": "markdown",
   "id": "periodic-astrology",
   "metadata": {},
   "source": [
    "## Objectif\n",
    "\n",
    "Comprendre l'importance d'un bon mot de passe.  \n",
    "Il sert à protéger nos données privées dans les réseaux sociaux, sur notre téléphone portable, etc.\n",
    "\n",
    "Pourquoi ?\n",
    "\n",
    "- le nom d'utilisateur peut être public\n",
    "- le mot de passe **DOIT** être secret."
   ]
  },
  {
   "cell_type": "markdown",
   "id": "periodic-dollar",
   "metadata": {},
   "source": [
    "## Un bon mot de passe\n",
    "\n",
    "Il doit être difficile à trouver pour un être humain, mais surtout pour un ordinateur. L'[EPFL](https://wiki.epfl.ch/secure-it/questcequunbonmotdepasse) donne quatre caractéristiques pour un **bon mot de passe** doit :\n",
    "\n",
    "1. **éviter les mots courants** (nom, prénom, etc..)\n",
    "1. **être long**\n",
    "1. **éviter des répétitions**\n",
    "1. contenir des caractères **variés** (lettres, accents, chiffres, caractères spéciaux)\n",
    "\n",
    "Malheureusement, beaucoup de personnes ont encore des mots de passe trop simple"
   ]
  },
  {
   "cell_type": "markdown",
   "id": "perceived-campaign",
   "metadata": {},
   "source": [
    "## Longueur de mot\n",
    "\n",
    "Avec la fonction `len()` nous pouvons tester la longuer d'un mot de passe."
   ]
  },
  {
   "cell_type": "code",
   "execution_count": 70,
   "id": "adjustable-gross",
   "metadata": {},
   "outputs": [
    {
     "name": "stdin",
     "output_type": "stream",
     "text": [
      "Créez un mot de passe:  tina\n"
     ]
    },
    {
     "name": "stdout",
     "output_type": "stream",
     "text": [
      "Nombre minimum de caractères: 6\n"
     ]
    },
    {
     "name": "stdin",
     "output_type": "stream",
     "text": [
      "Créez un autre mot de passe:  tina1234\n"
     ]
    },
    {
     "name": "stdout",
     "output_type": "stream",
     "text": [
      "OK: tina1234\n"
     ]
    }
   ],
   "source": [
    "mdp = input('Créez un mot de passe: ')\n",
    "n = 6\n",
    "while len(mdp) < n:\n",
    "    print('Nombre minimum de caractères:', n)\n",
    "    mdp = input('Créez un autre mot de passe: ')\n",
    "print('OK:', mdp)"
   ]
  },
  {
   "cell_type": "markdown",
   "id": "soviet-purpose",
   "metadata": {},
   "source": [
    "**Exercice**  \n",
    "Augmentez la longueur à 10 et refaites un teste."
   ]
  },
  {
   "cell_type": "markdown",
   "id": "indian-ethnic",
   "metadata": {},
   "source": [
    "## Caractères spéciaux\n",
    "\n",
    "Pour tester si un mot de passe contient un caractère spéciale, nous définissons une chaîne qui contient toutes les caractères spéciales possibles. "
   ]
  },
  {
   "cell_type": "code",
   "execution_count": 24,
   "id": "earlier-second",
   "metadata": {},
   "outputs": [],
   "source": [
    "special = '+\"*ç%&/()=?,.-;:_$'"
   ]
  },
  {
   "cell_type": "markdown",
   "id": "mechanical-direction",
   "metadata": {},
   "source": [
    "L'opérateur `in` permet de tester si un caractère est parmis les caractères spéciaux."
   ]
  },
  {
   "cell_type": "code",
   "execution_count": 22,
   "id": "metropolitan-parker",
   "metadata": {},
   "outputs": [
    {
     "data": {
      "text/plain": [
       "True"
      ]
     },
     "execution_count": 22,
     "metadata": {},
     "output_type": "execute_result"
    }
   ],
   "source": [
    "'$' in special"
   ]
  },
  {
   "cell_type": "markdown",
   "id": "prescribed-murder",
   "metadata": {},
   "source": [
    "Pour tester si un mot contient des caractères spéciaux, nous devons tester chaque lettre dans une boucle."
   ]
  },
  {
   "cell_type": "code",
   "execution_count": 26,
   "id": "rapid-corps",
   "metadata": {},
   "outputs": [
    {
     "name": "stdout",
     "output_type": "stream",
     "text": [
      "e False\n",
      "l False\n",
      "$ True\n",
      "a False\n"
     ]
    }
   ],
   "source": [
    "for c in 'el$a':\n",
    "    print(c, c in special)"
   ]
  },
  {
   "cell_type": "markdown",
   "id": "warming-recovery",
   "metadata": {},
   "source": [
    "Une autre méthode est d'utiliser l'intersection des deux ensembles."
   ]
  },
  {
   "cell_type": "code",
   "execution_count": 34,
   "id": "premium-exposure",
   "metadata": {},
   "outputs": [
    {
     "data": {
      "text/plain": [
       "{'$', '+', '.'}"
      ]
     },
     "execution_count": 34,
     "metadata": {},
     "output_type": "execute_result"
    }
   ],
   "source": [
    "mdp = 'el$a.car+ier'\n",
    "set(mdp).intersection(special)"
   ]
  },
  {
   "cell_type": "markdown",
   "id": "armed-teens",
   "metadata": {},
   "source": [
    "Dans la boucle suivante, nous vérifions si le mot de passe contient au minimum un caractère spécial."
   ]
  },
  {
   "cell_type": "code",
   "execution_count": 55,
   "id": "lonely-transmission",
   "metadata": {},
   "outputs": [
    {
     "name": "stdin",
     "output_type": "stream",
     "text": [
      "Créez un mot de passe:  tina\n"
     ]
    },
    {
     "name": "stdout",
     "output_type": "stream",
     "text": [
      "Ne contient pas de caractère spécial\n"
     ]
    },
    {
     "name": "stdin",
     "output_type": "stream",
     "text": [
      "Créez un autre mot de passe:  tina$+\n"
     ]
    },
    {
     "name": "stdout",
     "output_type": "stream",
     "text": [
      "OK: tina$+\n"
     ]
    }
   ],
   "source": [
    "mdp = input('Créez un mot de passe: ')\n",
    "special = '+\"*ç%&/()=?,.-;:_$'\n",
    "\n",
    "while len(set(mdp).intersection(special)) == 0:\n",
    "    print('Ne contient pas de caractère spécial')\n",
    "    mdp = input('Créez un autre mot de passe: ')\n",
    "print('OK:', mdp)"
   ]
  },
  {
   "cell_type": "markdown",
   "id": "cheap-pocket",
   "metadata": {},
   "source": [
    "**Exercice**  \n",
    "Ajoutez les accolades `[]`, les crochets `{}` et les chevrons `<>` aux caractères spéciaux et refaites un teste."
   ]
  },
  {
   "cell_type": "markdown",
   "id": "instant-ethnic",
   "metadata": {},
   "source": [
    "## Charger une liste\n",
    "\n",
    "Le fichier `passwords.txt` contient les **20'000 mots de passes** les plus utilisés sur l'Internet francophone. Nous allons l'utiliser pour vérifier la qualité d'un mot de passe."
   ]
  },
  {
   "cell_type": "markdown",
   "id": "interracial-overall",
   "metadata": {},
   "source": [
    "Déplaçons nous dans le dossier `dossier-a-cracker`:"
   ]
  },
  {
   "cell_type": "code",
   "execution_count": null,
   "id": "revolutionary-forum",
   "metadata": {},
   "outputs": [],
   "source": [
    "cd dossier-a-cracker"
   ]
  },
  {
   "cell_type": "markdown",
   "id": "touched-comparison",
   "metadata": {},
   "source": [
    "L'instruction Python suivante permet de stocker dans la **liste** ```passwords``` les 20'000 mots de passes du fichier ```passwords.txt```"
   ]
  },
  {
   "cell_type": "code",
   "execution_count": 58,
   "id": "patent-cattle",
   "metadata": {},
   "outputs": [],
   "source": [
    "passwords = [line.rstrip() for line in open('passwords.txt', \"r\")]"
   ]
  },
  {
   "cell_type": "markdown",
   "id": "divided-graphics",
   "metadata": {},
   "source": [
    "**Exercice**  \n",
    "Avec la fonction `type` derminez le type de la variable **passwords** et avec la fonction `len` sa longueur."
   ]
  },
  {
   "cell_type": "markdown",
   "id": "formal-birth",
   "metadata": {},
   "source": [
    "## Accéder aux éléments d'une liste\n",
    "L'opérateur de tranche `[m:n]` permet d'accéder à des sous ensembles\n",
    "\n",
    "- `[m:n]` de m jusqu'à (n-1)\n",
    "- `[:n]` du début jusqu'à (n-1)\n",
    "- `[m:]` de m jusqu'à la fin\n",
    "\n",
    "Un **index negatif** compte depuis la fin"
   ]
  },
  {
   "cell_type": "markdown",
   "id": "understood-mileage",
   "metadata": {},
   "source": [
    "**Exercice**\n",
    "\n",
    "Avec les opérateurs de tranche affichez\n",
    "\n",
    "- les 5 premiers mots de passe\n",
    "- le 1000ème mot de passe\n",
    "- les mots de passes entre 10'000 et 10'005\n",
    "- l'avant-dernier mot de passe"
   ]
  },
  {
   "cell_type": "markdown",
   "id": "surrounded-revolution",
   "metadata": {},
   "source": [
    "## Vérifier si un mot est dans la liste\n",
    "\n",
    "L'opérateur `in` permet de verifier si un mot est dans une liste.\n",
    "\n",
    "Est-ce que le mot de passe `'iloveyou'` est dans la liste ```passwords```?"
   ]
  },
  {
   "cell_type": "code",
   "execution_count": 3,
   "id": "understanding-mexican",
   "metadata": {},
   "outputs": [
    {
     "data": {
      "text/plain": [
       "True"
      ]
     },
     "execution_count": 3,
     "metadata": {},
     "output_type": "execute_result"
    }
   ],
   "source": [
    "'iloveyou' in passwords"
   ]
  },
  {
   "cell_type": "markdown",
   "id": "greenhouse-branch",
   "metadata": {},
   "source": [
    "Est-ce que le mode de passe `'tiamo'` est dans la liste `passwords`"
   ]
  },
  {
   "cell_type": "code",
   "execution_count": 4,
   "id": "acceptable-singapore",
   "metadata": {},
   "outputs": [
    {
     "data": {
      "text/plain": [
       "False"
      ]
     },
     "execution_count": 4,
     "metadata": {},
     "output_type": "execute_result"
    }
   ],
   "source": [
    "'tiamo' in passwords"
   ]
  },
  {
   "cell_type": "markdown",
   "id": "entire-azerbaijan",
   "metadata": {},
   "source": [
    "**Exercice**\n",
    "\n",
    "- Vérifiez que le mot de passe `cristiano7` est dans la liste.\n",
    "- Et le mot de passe `cristiano8` ?"
   ]
  },
  {
   "cell_type": "markdown",
   "id": "secondary-exception",
   "metadata": {},
   "source": [
    "## Tester plusieurs mots de passes\n",
    "\n",
    "Avec une boucle, on peut tester n'importe quel mot de passe contre la liste ```passwords```.\n",
    "\n",
    "Testez vos mots de passe!  \n",
    "Pour quitter la boucle, appuyez tout simplement sur **Retour**"
   ]
  },
  {
   "cell_type": "code",
   "execution_count": 6,
   "id": "motivated-australia",
   "metadata": {},
   "outputs": [
    {
     "name": "stdin",
     "output_type": "stream",
     "text": [
      "Entrez un mot de passe Vincent\n"
     ]
    },
    {
     "name": "stdout",
     "output_type": "stream",
     "text": [
      "True\n"
     ]
    },
    {
     "name": "stdin",
     "output_type": "stream",
     "text": [
      "Entrez un mot de passe: raphael\n"
     ]
    },
    {
     "name": "stdout",
     "output_type": "stream",
     "text": [
      "True\n"
     ]
    },
    {
     "name": "stdin",
     "output_type": "stream",
     "text": [
      "Entrez un mot de passe: Raphael\n"
     ]
    },
    {
     "name": "stdout",
     "output_type": "stream",
     "text": [
      "False\n"
     ]
    },
    {
     "name": "stdin",
     "output_type": "stream",
     "text": [
      "Entrez un mot de passe: \n"
     ]
    }
   ],
   "source": [
    "mot = input('Entrez un mot de passe')\n",
    "while len(mot) > 0:\n",
    "    print(mot in passwords)\n",
    "    mot = input('Entrez un mot de passe:')"
   ]
  },
  {
   "cell_type": "markdown",
   "id": "suffering-newspaper",
   "metadata": {},
   "source": [
    "## ZIP protégé\n",
    "\n",
    "Le fichier `confidentiel/mails_FBI.zip` a été protégé par un mot de passe. Si vous tentez d'extraire l'archive, vous devez fournir un mot de passe.\n",
    "\n",
    "Ces 4 lignes vont tester le mot de passe `'jetaime'` sur l'archive. Cela va créer une erreur de type :\n",
    "\n",
    "```\n",
    "RuntimeError: Bad password for file 'original/mails_FBI.txt'\n",
    "```"
   ]
  },
  {
   "cell_type": "code",
   "execution_count": null,
   "id": "chinese-referral",
   "metadata": {},
   "outputs": [],
   "source": [
    "from zipfile import ZipFile\n",
    "with ZipFile('confidentiel/mails_FBI.zip') as file:\n",
    "   mdp = 'jetaime'\n",
    "    \n",
    "   file.extractall(pwd = bytes(mdp, 'utf-8'))"
   ]
  },
  {
   "cell_type": "markdown",
   "id": "wooden-shower",
   "metadata": {},
   "source": [
    "## Attaquer en force brute\n",
    "\n",
    "A partir de maintenant, on dispose de tous les outils pour attaquer en force brute l'archive ```'mails_FBI.zip'```. L'algorithme sera le suivant :\n",
    "\n",
    "1. pour tous les mots de passes ```mdp``` de la liste ```passwords``` FAIRE\n",
    "    1. Tester si le mot de passe est correct\n",
    "    1. SI le mot de passe est correct ALORS\n",
    "        1. le mot de passe a été trouvé. SORTIR\n",
    "    1. SINON\n",
    "        1. aller au mot de passe suivant\n",
    "\n",
    "La fonction ```check_ret(mdp, archive)``` va tester un mot de passe ```mdp``` sur l'archive protégée ```archive``` et retourner la valeur ```0``` si le mot de passe est le bon"
   ]
  },
  {
   "cell_type": "code",
   "execution_count": 63,
   "id": "infectious-steal",
   "metadata": {},
   "outputs": [],
   "source": [
    "import subprocess\n",
    "def check_ret(mdp, archive):\n",
    "    rc = -1\n",
    "    p1 = subprocess.Popen(['unzip', '-t','-q', '-P', mdp,archive])\n",
    "    p1.wait()\n",
    "    rc = p1.returncode\n",
    "    p1.kill()\n",
    "    return rc"
   ]
  },
  {
   "cell_type": "markdown",
   "id": "downtown-ideal",
   "metadata": {},
   "source": [
    "Il est maintenant possible de tester tous les mots de passe de la liste sur une archive protégée par un mot de passe. Le fichier se trouve au chemin ```confidentiel/mails_FBI.zip```"
   ]
  },
  {
   "cell_type": "code",
   "execution_count": null,
   "id": "considered-fifty",
   "metadata": {},
   "outputs": [],
   "source": [
    "for mdp in passwords:\n",
    "    ret = check_ret(mdp,'confidentiel/mails_FBI.zip')\n",
    "    if ret == 0:\n",
    "        print('Le mot de passe est :',mdp)\n",
    "        break"
   ]
  },
  {
   "cell_type": "markdown",
   "id": "freelance-douglas",
   "metadata": {},
   "source": [
    "## Craquer le fichier\n",
    "\n",
    "A l'aide de la fonction vue plus haut, extrayez l'archive avec le mot de passe que vous avez trouvé. Dans le Finder, déplacez-vous dans le dossier `/dossier-a-cracker/confidentiel` et double-cliquez sur l'archive `mails_FBI.zip`\n",
    "\n",
    "On peut aussi extraire l'archive avec une fonction Python. \n",
    "\n",
    "Remplacez la valeur de la variable `mdp = 'x'` par le mot de passe que vous venez de trouver. "
   ]
  },
  {
   "cell_type": "code",
   "execution_count": null,
   "id": "serial-customs",
   "metadata": {},
   "outputs": [],
   "source": [
    "from zipfile import ZipFile\n",
    "with ZipFile('confidentiel/mails_FBI.zip') as file:\n",
    "   mdp = 'x' \n",
    "   file.extractall(pwd = bytes(mdp, 'utf-8'))"
   ]
  },
  {
   "cell_type": "markdown",
   "id": "controlled-country",
   "metadata": {},
   "source": [
    "## Catch the flag\n",
    "\n",
    "Dans le monde du hacking, il y a un jeu qui est souvent utilisé par les entreprises pour tester leur infrastructure. Ce jeu de guerre cybernétique, appelé [catch the flag](https://fr.wikipedia.org/wiki/Test_d%27intrusion) (capture du drapeau) dans lequel deux équipes s'affrontent: l'une pour protéger le drapeau, l'autre pour le capturer. \n",
    "\n",
    "Un autre fichier archive ZIP a été caché dans le dossier ```dossier-a-cracker``` et protégé par un mot de passe.\n",
    "\n",
    "**Exercice**  \n",
    "Retrouvez le fichier avec les commandes ```ls``` et ```cd``` et utilisez les fonctions décrites plus haut pour le décrypter"
   ]
  },
  {
   "cell_type": "markdown",
   "id": "honest-raising",
   "metadata": {},
   "source": [
    "## Ai-je été priaté ?\n",
    "\n",
    "Nous avons utilisé la **force brute** pour tester **un seul mot de passe** contre une liste définie. Les crackers du monde entier utilisent des dictionnaires bien plus grands contre des adresses mails, des comptes, etc.. que vous avez laissé ça et là au gré de vos interactions avec Internet. Ces listes sont ensuite vendues et utilisées à mauvais escient. \n",
    "\n",
    "Il existe un site web qui vérifie si votre adresse mail a été piratée : [Ai-je été piraté ?](https://haveibeenpwned.com)\n",
    "\n",
    "**Exercice**  \n",
    "Testez vos adresses mails pour voir si elles ont été piratés.  \n",
    "Si elles le sont, changez votre mot de passe."
   ]
  },
  {
   "cell_type": "code",
   "execution_count": null,
   "id": "known-sentence",
   "metadata": {},
   "outputs": [],
   "source": []
  }
 ],
 "metadata": {
  "kernelspec": {
   "display_name": "Python 3",
   "language": "python",
   "name": "python3"
  },
  "language_info": {
   "codemirror_mode": {
    "name": "ipython",
    "version": 3
   },
   "file_extension": ".py",
   "mimetype": "text/x-python",
   "name": "python",
   "nbconvert_exporter": "python",
   "pygments_lexer": "ipython3",
   "version": "3.7.9"
  }
 },
 "nbformat": 4,
 "nbformat_minor": 5
}
