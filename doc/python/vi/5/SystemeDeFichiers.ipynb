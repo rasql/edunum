{
 "cells": [
  {
   "cell_type": "markdown",
   "id": "frozen-payment",
   "metadata": {},
   "source": [
    "# Le système de fichiers\n",
    "\n",
    "On appelle **système de fichier** l'organisation hierarchique des fichiers au sein d'un **système d'exploitation**.\n",
    "\n",
    "![](https://upload.wikimedia.org/wikipedia/commons/thumb/0/09/Baobab_and_elephant%2C_Tanzania.jpg/640px-Baobab_and_elephant%2C_Tanzania.jpg)"
   ]
  },
  {
   "cell_type": "markdown",
   "id": "oriental-preservation",
   "metadata": {},
   "source": [
    "## Objectifs\n",
    "\n",
    "- Comprendre le système de fichiers UNIX (MacOS X)\n",
    "- Se déplacer dans un système de fichiers\n",
    "- Créer et supprimer des dossiers"
   ]
  },
  {
   "cell_type": "markdown",
   "id": "appropriate-posting",
   "metadata": {},
   "source": [
    "## Fichier informatique\n",
    "\n",
    "Un fichier informatique est un ensemble de données numériques réunies sous un même nom, enregistrées sur un support de stockage permanent. On peut distinguer différents types de fichies tel que:\n",
    "\n",
    "- programmes\n",
    "- textes\n",
    "- images"
   ]
  },
  {
   "cell_type": "markdown",
   "id": "experienced-penny",
   "metadata": {},
   "source": [
    "## Dossiers\n",
    "\n",
    "Dans un ordinateur on a vite des milliers de fichiers. Nous utilisons des dossiers pour les organiser.\n",
    "Un **dossier** est un contenant de fichiers et de sous-dossiers."
   ]
  },
  {
   "cell_type": "markdown",
   "id": "alternate-blink",
   "metadata": {},
   "source": [
    "## Structure en arbre\n",
    "\n",
    "Les ordinateurs organisent les dossiers et fichiers sous forme d'**arbre**, où\n",
    "\n",
    "- un dossier est un **noeud**\n",
    "- un fichier est une **feuille**\n",
    "\n",
    "On appelle cette structure une **arborescence**.  \n",
    "La **racine** de cet arbre est désigné par le symbole `/`.\n",
    "\n",
    "![](https://pixees.fr/informatiquelycee/n_site/img/nsi_prem_base_linux_2.png)\n",
    "\n",
    "Vous pouvez retrouver cette arborescence dans l'**interface graphique** de votre système d'exploitation.  \n",
    "Voici une fenêtre du **gestionnaire des fichiers**.\n",
    "\n",
    "![](https://osxdaily.com/wp-content/uploads/2010/02/mac-os-x-finder-column-view.JPG)\n",
    "\n",
    "Chaque colonne représente un niveau dans la structure hiérarchique du système des fichiers."
   ]
  },
  {
   "cell_type": "markdown",
   "id": "thermal-surprise",
   "metadata": {},
   "source": [
    "## Se déplacer\n",
    "La commande `pwd` (print working directory) affiche le chemin du répertoire où nous nous trouvons."
   ]
  },
  {
   "cell_type": "code",
   "execution_count": 23,
   "id": "novel-sheep",
   "metadata": {},
   "outputs": [
    {
     "data": {
      "text/plain": [
       "'/Users/ho/Downloads/dossier-a-cracker'"
      ]
     },
     "execution_count": 23,
     "metadata": {},
     "output_type": "execute_result"
    }
   ],
   "source": [
    "pwd"
   ]
  },
  {
   "cell_type": "markdown",
   "id": "twenty-croatia",
   "metadata": {},
   "source": [
    "La commande `cd` (change directory) change de répertoire. Si vous l'utilisez sans argument vous changez vers votre dossier personnel (home)."
   ]
  },
  {
   "cell_type": "code",
   "execution_count": 2,
   "id": "theoretical-orbit",
   "metadata": {},
   "outputs": [
    {
     "name": "stdout",
     "output_type": "stream",
     "text": [
      "/Users/ho\n"
     ]
    }
   ],
   "source": [
    "cd"
   ]
  },
  {
   "cell_type": "markdown",
   "id": "alleged-request",
   "metadata": {},
   "source": [
    "La commande `cd dossier` permet de se déplacer vers un autre dossier."
   ]
  },
  {
   "cell_type": "code",
   "execution_count": 4,
   "id": "bottom-letters",
   "metadata": {},
   "outputs": [
    {
     "name": "stdout",
     "output_type": "stream",
     "text": [
      "/Users/ho/Downloads\n"
     ]
    }
   ],
   "source": [
    "cd Downloads"
   ]
  },
  {
   "cell_type": "markdown",
   "id": "pregnant-stewart",
   "metadata": {},
   "source": [
    "Et on peut encore aller vers un sous-dossier."
   ]
  },
  {
   "cell_type": "code",
   "execution_count": 6,
   "id": "loaded-blanket",
   "metadata": {},
   "outputs": [
    {
     "name": "stdout",
     "output_type": "stream",
     "text": [
      "/Users/ho/Downloads/dossier-a-cracker\n"
     ]
    }
   ],
   "source": [
    "cd dossier-a-cracker"
   ]
  },
  {
   "cell_type": "markdown",
   "id": "subjective-sullivan",
   "metadata": {},
   "source": [
    "La commande `ls` (list) affiche le contenu du dossier actuel. Sur certains systèmes les dossiers sont affichés dans une autre couleur."
   ]
  },
  {
   "cell_type": "code",
   "execution_count": 26,
   "id": "finite-negative",
   "metadata": {},
   "outputs": [
    {
     "name": "stdout",
     "output_type": "stream",
     "text": [
      "README.txt     \u001b[34mconfidentiel\u001b[m\u001b[m/  passwords.txt\n"
     ]
    }
   ],
   "source": [
    "ls"
   ]
  },
  {
   "cell_type": "markdown",
   "id": "imposed-above",
   "metadata": {},
   "source": [
    "La commande `ls dossier` affiche le contenu du dossier indiqué."
   ]
  },
  {
   "cell_type": "code",
   "execution_count": 8,
   "id": "careful-place",
   "metadata": {},
   "outputs": [
    {
     "name": "stdout",
     "output_type": "stream",
     "text": [
      "\u001b[34mbusiness\u001b[m\u001b[m/      mails_FBI.txt  mails_FBI.zip  \u001b[34moriginal\u001b[m\u001b[m/\n"
     ]
    }
   ],
   "source": [
    "ls confidentiel"
   ]
  },
  {
   "cell_type": "markdown",
   "id": "known-heater",
   "metadata": {},
   "source": [
    "**Exercice**   \n",
    "Utilisez `ls` pour afficher le contenue de `business`."
   ]
  },
  {
   "cell_type": "markdown",
   "id": "regulation-perth",
   "metadata": {},
   "source": [
    "## Créer des dossier\n",
    "La commande `mkdir` (make directory) créé un nouveau dossier."
   ]
  },
  {
   "cell_type": "code",
   "execution_count": 9,
   "id": "extraordinary-photographer",
   "metadata": {},
   "outputs": [],
   "source": [
    "mkdir informatique"
   ]
  },
  {
   "cell_type": "markdown",
   "id": "sapphire-worse",
   "metadata": {},
   "source": [
    "on peut à nouveau afficher le contenu du dossier avec la commande `ls`. Le dossier `informatique` a été créé"
   ]
  },
  {
   "cell_type": "code",
   "execution_count": 12,
   "id": "fancy-chess",
   "metadata": {},
   "outputs": [
    {
     "name": "stdout",
     "output_type": "stream",
     "text": [
      "\u001b[0m\u001b[01;34mbusiness\u001b[0m/  \u001b[01;34minformatique\u001b[0m/  \u001b[01;31mmails_FBI.zip\u001b[0m  \u001b[01;34moriginal\u001b[0m/\n"
     ]
    }
   ],
   "source": [
    "ls"
   ]
  },
  {
   "cell_type": "markdown",
   "id": "spare-southwest",
   "metadata": {},
   "source": [
    "`rmdir` : (*remove directory*) supprime un dossier"
   ]
  },
  {
   "cell_type": "code",
   "execution_count": 13,
   "id": "motivated-habitat",
   "metadata": {},
   "outputs": [],
   "source": [
    "rmdir informatique"
   ]
  },
  {
   "cell_type": "markdown",
   "id": "acceptable-riding",
   "metadata": {},
   "source": [
    "on peut à nouveau afficher le contenu du dossier avec la commande `ls`. Le dossier `informatique` a été supprimé"
   ]
  },
  {
   "cell_type": "code",
   "execution_count": 14,
   "id": "macro-elevation",
   "metadata": {},
   "outputs": [
    {
     "name": "stdout",
     "output_type": "stream",
     "text": [
      "\u001b[0m\u001b[01;34mbusiness\u001b[0m/  \u001b[01;31mmails_FBI.zip\u001b[0m  \u001b[01;34moriginal\u001b[0m/\n"
     ]
    }
   ],
   "source": [
    "ls"
   ]
  },
  {
   "cell_type": "markdown",
   "id": "functioning-accommodation",
   "metadata": {},
   "source": [
    "## Dossiers spéciaux\n",
    "\n",
    "Des symboles spéciaux sont utilisées pour designer des dossiers spéciaux:\n",
    "\n",
    "- `/` racine (root)\n",
    "- `.` dossier actuel\n",
    "- `..` dossier parent\n",
    "- `~` (alt+n) dossier personnel (home)\n",
    "\n",
    "Avec `ls /` vous pouvez afficher le contenue de la racine du système des fichiers:"
   ]
  },
  {
   "cell_type": "code",
   "execution_count": 9,
   "id": "horizontal-electron",
   "metadata": {},
   "outputs": [
    {
     "name": "stdout",
     "output_type": "stream",
     "text": [
      "\u001b[34mApplications\u001b[m\u001b[m/              \u001b[35metc\u001b[m\u001b[m@\n",
      "\u001b[34mLibrary\u001b[m\u001b[m/                   \u001b[34mhome\u001b[m\u001b[m/\n",
      "\u001b[34mNetwork\u001b[m\u001b[m/                   installer.failurerequests\n",
      "\u001b[34mSystem\u001b[m\u001b[m/                    \u001b[34mnet\u001b[m\u001b[m/\n",
      "\u001b[34mUsers\u001b[m\u001b[m/                     \u001b[34mopt\u001b[m\u001b[m/\n",
      "\u001b[34mVolumes\u001b[m\u001b[m/                   \u001b[34mprivate\u001b[m\u001b[m/\n",
      "\u001b[34manaconda3\u001b[m\u001b[m/                 \u001b[34msbin\u001b[m\u001b[m/\n",
      "\u001b[34mbin\u001b[m\u001b[m/                       \u001b[35mtmp\u001b[m\u001b[m@\n",
      "\u001b[34mcores\u001b[m\u001b[m/                     \u001b[34musr\u001b[m\u001b[m/\n",
      "\u001b[34mdev\u001b[m\u001b[m/                       \u001b[35mvar\u001b[m\u001b[m@\n"
     ]
    }
   ],
   "source": [
    "ls /"
   ]
  },
  {
   "cell_type": "markdown",
   "id": "communist-prophet",
   "metadata": {},
   "source": [
    "Avec `ls /bin` vous pouvez afficher le dossier bin (=b0inary) qui contient le code pour les commande UNIX. Vous y trouvez les commandes `pwd` et `ls`."
   ]
  },
  {
   "cell_type": "code",
   "execution_count": 11,
   "id": "olympic-institute",
   "metadata": {},
   "outputs": [
    {
     "name": "stdout",
     "output_type": "stream",
     "text": [
      "\u001b[31m[\u001b[m\u001b[m*          \u001b[31mdate\u001b[m\u001b[m*       \u001b[31mexpr\u001b[m\u001b[m*       \u001b[31mln\u001b[m\u001b[m*         \u001b[31mpwd\u001b[m\u001b[m*        \u001b[31msync\u001b[m\u001b[m*\n",
      "\u001b[31mbash\u001b[m\u001b[m*       \u001b[31mdd\u001b[m\u001b[m*         \u001b[31mhostname\u001b[m\u001b[m*   \u001b[31mls\u001b[m\u001b[m*         \u001b[31mrm\u001b[m\u001b[m*         \u001b[31mtcsh\u001b[m\u001b[m*\n",
      "\u001b[31mcat\u001b[m\u001b[m*        \u001b[31mdf\u001b[m\u001b[m*         \u001b[31mkill\u001b[m\u001b[m*       \u001b[31mmkdir\u001b[m\u001b[m*      \u001b[31mrmdir\u001b[m\u001b[m*      \u001b[31mtest\u001b[m\u001b[m*\n",
      "\u001b[31mchmod\u001b[m\u001b[m*      \u001b[31mdomainname\u001b[m\u001b[m* \u001b[31mksh\u001b[m\u001b[m*        \u001b[31mmv\u001b[m\u001b[m*         \u001b[31msh\u001b[m\u001b[m*         \u001b[31munlink\u001b[m\u001b[m*\n",
      "\u001b[31mcp\u001b[m\u001b[m*         \u001b[31mecho\u001b[m\u001b[m*       \u001b[31mlaunchctl\u001b[m\u001b[m*  \u001b[31mpax\u001b[m\u001b[m*        \u001b[31msleep\u001b[m\u001b[m*      \u001b[31mwait4path\u001b[m\u001b[m*\n",
      "\u001b[31mcsh\u001b[m\u001b[m*        \u001b[31med\u001b[m\u001b[m*         \u001b[31mlink\u001b[m\u001b[m*       \u001b[30m\u001b[41mps\u001b[m\u001b[m*         \u001b[31mstty\u001b[m\u001b[m*       \u001b[31mzsh\u001b[m\u001b[m*\n"
     ]
    }
   ],
   "source": [
    "ls /bin"
   ]
  },
  {
   "cell_type": "markdown",
   "id": "blocked-battlefield",
   "metadata": {},
   "source": [
    "Le symbole `.` desinge le dossier actuel."
   ]
  },
  {
   "cell_type": "code",
   "execution_count": 14,
   "id": "convertible-single",
   "metadata": {},
   "outputs": [
    {
     "name": "stdout",
     "output_type": "stream",
     "text": [
      "README.txt     \u001b[34mconfidentiel\u001b[m\u001b[m/  passwords.txt\n"
     ]
    }
   ],
   "source": [
    "ls ."
   ]
  },
  {
   "cell_type": "markdown",
   "id": "medical-cambodia",
   "metadata": {},
   "source": [
    "Le symbole `..` désigne le dossier parent."
   ]
  },
  {
   "cell_type": "code",
   "execution_count": 16,
   "id": "promotional-officer",
   "metadata": {},
   "outputs": [
    {
     "name": "stdout",
     "output_type": "stream",
     "text": [
      "\u001b[34mdossier-a-cracker\u001b[m\u001b[m/ \u001b[34mimages\u001b[m\u001b[m/\n"
     ]
    }
   ],
   "source": [
    "ls .."
   ]
  },
  {
   "cell_type": "markdown",
   "id": "international-canon",
   "metadata": {},
   "source": [
    "Avec la commande `cd ..` on peut retourner au dossier parent"
   ]
  },
  {
   "cell_type": "code",
   "execution_count": 17,
   "id": "flying-translator",
   "metadata": {},
   "outputs": [
    {
     "name": "stdout",
     "output_type": "stream",
     "text": [
      "/Users/ho/Downloads\n"
     ]
    }
   ],
   "source": [
    "cd .."
   ]
  },
  {
   "cell_type": "code",
   "execution_count": 18,
   "id": "yellow-suite",
   "metadata": {},
   "outputs": [
    {
     "name": "stdout",
     "output_type": "stream",
     "text": [
      "README.txt  \u001b[0m\u001b[01;34mconfidentiel\u001b[0m/  passwords.txt\n"
     ]
    }
   ],
   "source": [
    "ls"
   ]
  },
  {
   "cell_type": "markdown",
   "id": "registered-portuguese",
   "metadata": {},
   "source": [
    "Le symbole `~` (alt+n) désigne le dossier personnel (home directory). Vous pouvez l'utiliser en combinaison pour des commandes:\n",
    "- `ls ~` lister le contenu du dossier personnel\n",
    "- `cd ~` aller vers le dossier personnel"
   ]
  },
  {
   "cell_type": "markdown",
   "id": "certain-italy",
   "metadata": {},
   "source": [
    "## Afficher le contenu d'un fichier\n",
    "\n",
    "La commande ```cat``` suivie du nom d'un fichier affiche son contenu. On va \n",
    "- aller dans le dossier `dossier-à-cracker`\n",
    "- lister son contenu\n",
    "- afficher le contenu du fichier ```README.txt```"
   ]
  },
  {
   "cell_type": "code",
   "execution_count": 19,
   "id": "heard-advocacy",
   "metadata": {},
   "outputs": [
    {
     "data": {
      "text/plain": [
       "'/Users/ho/Downloads'"
      ]
     },
     "execution_count": 19,
     "metadata": {},
     "output_type": "execute_result"
    }
   ],
   "source": [
    "pwd"
   ]
  },
  {
   "cell_type": "code",
   "execution_count": 20,
   "id": "handed-contributor",
   "metadata": {},
   "outputs": [
    {
     "name": "stdout",
     "output_type": "stream",
     "text": [
      "/Users/ho/Downloads/dossier-a-cracker\n"
     ]
    }
   ],
   "source": [
    "cd dossier-a-cracker"
   ]
  },
  {
   "cell_type": "code",
   "execution_count": 21,
   "id": "related-trustee",
   "metadata": {},
   "outputs": [
    {
     "name": "stdout",
     "output_type": "stream",
     "text": [
      "README.txt     \u001b[34mconfidentiel\u001b[m\u001b[m/  passwords.txt\n"
     ]
    }
   ],
   "source": [
    "ls"
   ]
  },
  {
   "cell_type": "code",
   "execution_count": 22,
   "id": "everyday-plasma",
   "metadata": {},
   "outputs": [
    {
     "name": "stdout",
     "output_type": "stream",
     "text": [
      "Dans cet exercice, nous allons utiliser une technique de hacker pour retrouver un mot de passe inconnu\n"
     ]
    }
   ],
   "source": [
    "cat README.txt"
   ]
  },
  {
   "cell_type": "markdown",
   "id": "monetary-newspaper",
   "metadata": {},
   "source": [
    "## Exercice 1\n",
    "\n",
    "Pour cet exercice, n'utilisez pas l'interface graphique de votre ordinateur, mais seulement les commandes `cd`, `ls`, `cat`.\n",
    "\n",
    "Un fichier appelé `ctf.txt` se trouve dans le dossier `dossier-a-cracker/confidentiel/business/Avril`. Quel est son contenu ?"
   ]
  },
  {
   "cell_type": "markdown",
   "id": "auburn-georgia",
   "metadata": {},
   "source": [
    "## Exercice 2\n",
    "\n",
    "Utilisez les commandes `cd`, `ls`, `cat`, `pwd` pour cet exercice\n",
    "\n",
    "Créez un dossier `math` dans le répertoire dossier-a-cracker/confidentiel."
   ]
  }
 ],
 "metadata": {
  "kernelspec": {
   "display_name": "Python 3",
   "language": "python",
   "name": "python3"
  },
  "language_info": {
   "codemirror_mode": {
    "name": "ipython",
    "version": 3
   },
   "file_extension": ".py",
   "mimetype": "text/x-python",
   "name": "python",
   "nbconvert_exporter": "python",
   "pygments_lexer": "ipython3",
   "version": "3.7.9"
  }
 },
 "nbformat": 4,
 "nbformat_minor": 5
}
