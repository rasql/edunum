{
 "cells": [
  {
   "cell_type": "markdown",
   "id": "colonial-fleece",
   "metadata": {},
   "source": [
    "# Le système de fichiers UNIX\n",
    "\n",
    "![](https://upload.wikimedia.org/wikipedia/commons/thumb/0/09/Baobab_and_elephant%2C_Tanzania.jpg/640px-Baobab_and_elephant%2C_Tanzania.jpg)"
   ]
  },
  {
   "cell_type": "markdown",
   "id": "honest-extraction",
   "metadata": {},
   "source": [
    "## Objectif\n",
    "\n",
    "1. Comprendre le système de fichiers UNIX (MacOS X)"
   ]
  },
  {
   "cell_type": "markdown",
   "id": "parallel-starter",
   "metadata": {},
   "source": [
    "## Bien ranger pour mieux retrouver\n",
    "\n",
    "Votre ordinateur stocke des données localement. Sur un ordinateur Mac, chaque donnée est un fichier. Chaque fichier peut se trouver dans un dossier qui lui même peut se trouver dans un autre dossier. C'est une structure en arbre ou une **arborescence** où la racine est représentée par le signe ```/```:\n",
    "\n",
    "![](https://pixees.fr/informatiquelycee/n_site/img/nsi_prem_base_linux_2.png)\n",
    "\n",
    "Vous pouvez retrouver cette arborescence sous forme graphique dans le finder:\n",
    "\n",
    "![](https://osxdaily.com/wp-content/uploads/2010/02/mac-os-x-finder-column-view.JPG)\n",
    "\n",
    "où chaque colonne représente un niveau dans la structure représentée par un nouveau dossier."
   ]
  },
  {
   "cell_type": "markdown",
   "id": "featured-hawaii",
   "metadata": {},
   "source": [
    "## Se déplacer dans l'arborescence\n",
    "`pwd` (*print working directory*) : affiche le chemin du répertoire où nous nous trouvons "
   ]
  },
  {
   "cell_type": "code",
   "execution_count": 4,
   "id": "supported-consistency",
   "metadata": {},
   "outputs": [
    {
     "data": {
      "text/plain": [
       "'/home/vkeller/edunum/doc/python/vi/5/dossier-a-cracker'"
      ]
     },
     "execution_count": 4,
     "metadata": {},
     "output_type": "execute_result"
    }
   ],
   "source": [
    "pwd"
   ]
  },
  {
   "cell_type": "markdown",
   "id": "excess-armor",
   "metadata": {},
   "source": [
    "`cd` (*change directory*) : change de répertoire"
   ]
  },
  {
   "cell_type": "code",
   "execution_count": 5,
   "id": "early-debut",
   "metadata": {},
   "outputs": [
    {
     "name": "stdout",
     "output_type": "stream",
     "text": [
      "/home/vkeller/edunum/doc/python/vi/5/dossier-a-cracker/confidentiel\n"
     ]
    }
   ],
   "source": [
    "cd confidentiel"
   ]
  },
  {
   "cell_type": "markdown",
   "id": "genetic-chemistry",
   "metadata": {},
   "source": [
    "`ls` (*list*) : affiche le contenu du répertoire. Un dossier apparaît en <span style=\"color:blue\">bleu</span>, un fichier en noir et une archive en <span style=\"color:red\">rouge</span>"
   ]
  },
  {
   "cell_type": "code",
   "execution_count": 7,
   "id": "binary-expert",
   "metadata": {},
   "outputs": [
    {
     "name": "stdout",
     "output_type": "stream",
     "text": [
      "\u001b[0m\u001b[01;34mbusiness\u001b[0m/  \u001b[01;31mmails_FBI.zip\u001b[0m  \u001b[01;34moriginal\u001b[0m/\n"
     ]
    }
   ],
   "source": [
    "ls"
   ]
  },
  {
   "cell_type": "markdown",
   "id": "given-attendance",
   "metadata": {},
   "source": [
    "## Créer et supprimer des dossier\n",
    "`mkdir` : (*make directory*) créé un nouveau dossier"
   ]
  },
  {
   "cell_type": "code",
   "execution_count": 9,
   "id": "toxic-beads",
   "metadata": {},
   "outputs": [],
   "source": [
    "mkdir informatique"
   ]
  },
  {
   "cell_type": "markdown",
   "id": "protected-embassy",
   "metadata": {},
   "source": [
    "on peut à nouveau afficher le contenu du dossier avec la commande `ls`. Le dossier `informatique` a été créé"
   ]
  },
  {
   "cell_type": "code",
   "execution_count": 12,
   "id": "utility-belief",
   "metadata": {},
   "outputs": [
    {
     "name": "stdout",
     "output_type": "stream",
     "text": [
      "\u001b[0m\u001b[01;34mbusiness\u001b[0m/  \u001b[01;34minformatique\u001b[0m/  \u001b[01;31mmails_FBI.zip\u001b[0m  \u001b[01;34moriginal\u001b[0m/\n"
     ]
    }
   ],
   "source": [
    "ls"
   ]
  },
  {
   "cell_type": "markdown",
   "id": "sunset-terry",
   "metadata": {},
   "source": [
    "`rmdir` : (*remove directory*) supprime un dossier"
   ]
  },
  {
   "cell_type": "code",
   "execution_count": 13,
   "id": "antique-hamilton",
   "metadata": {},
   "outputs": [],
   "source": [
    "rmdir informatique"
   ]
  },
  {
   "cell_type": "markdown",
   "id": "quiet-mining",
   "metadata": {},
   "source": [
    "on peut à nouveau afficher le contenu du dossier avec la commande `ls`. Le dossier `informatique` a été supprimé"
   ]
  },
  {
   "cell_type": "code",
   "execution_count": 14,
   "id": "extensive-scholar",
   "metadata": {},
   "outputs": [
    {
     "name": "stdout",
     "output_type": "stream",
     "text": [
      "\u001b[0m\u001b[01;34mbusiness\u001b[0m/  \u001b[01;31mmails_FBI.zip\u001b[0m  \u001b[01;34moriginal\u001b[0m/\n"
     ]
    }
   ],
   "source": [
    "ls"
   ]
  },
  {
   "cell_type": "markdown",
   "id": "painful-cooperation",
   "metadata": {},
   "source": [
    "## Dossiers spéciaux\n",
    "`/` root (racine)\n",
    "\n",
    "Afficher la racine de l'ordinateur :"
   ]
  },
  {
   "cell_type": "code",
   "execution_count": 7,
   "id": "architectural-simpson",
   "metadata": {},
   "outputs": [
    {
     "name": "stdout",
     "output_type": "stream",
     "text": [
      "\u001b[34mApplications\u001b[m\u001b[m/              \u001b[35metc\u001b[m\u001b[m@\n",
      "\u001b[34mLibrary\u001b[m\u001b[m/                   \u001b[34mhome\u001b[m\u001b[m/\n",
      "\u001b[34mNetwork\u001b[m\u001b[m/                   installer.failurerequests\n",
      "\u001b[34mSystem\u001b[m\u001b[m/                    \u001b[34mnet\u001b[m\u001b[m/\n",
      "\u001b[34mUsers\u001b[m\u001b[m/                     \u001b[34mopt\u001b[m\u001b[m/\n",
      "\u001b[34mVolumes\u001b[m\u001b[m/                   \u001b[34mprivate\u001b[m\u001b[m/\n",
      "\u001b[34manaconda3\u001b[m\u001b[m/                 \u001b[34msbin\u001b[m\u001b[m/\n",
      "\u001b[34mbin\u001b[m\u001b[m/                       \u001b[35mtmp\u001b[m\u001b[m@\n",
      "\u001b[34mcores\u001b[m\u001b[m/                     \u001b[34musr\u001b[m\u001b[m/\n",
      "\u001b[34mdev\u001b[m\u001b[m/                       \u001b[35mvar\u001b[m\u001b[m@\n"
     ]
    }
   ],
   "source": [
    "ls /"
   ]
  },
  {
   "cell_type": "markdown",
   "id": "communist-annex",
   "metadata": {},
   "source": [
    "`.` dossier actuel"
   ]
  },
  {
   "cell_type": "code",
   "execution_count": 15,
   "id": "given-collection",
   "metadata": {},
   "outputs": [
    {
     "name": "stdout",
     "output_type": "stream",
     "text": [
      "\u001b[0m\u001b[01;34mbusiness\u001b[0m/  \u001b[01;31mmails_FBI.zip\u001b[0m  \u001b[01;34moriginal\u001b[0m/\n"
     ]
    }
   ],
   "source": [
    "ls ."
   ]
  },
  {
   "cell_type": "markdown",
   "id": "illegal-checklist",
   "metadata": {},
   "source": [
    "`..` dossier parent\n"
   ]
  },
  {
   "cell_type": "code",
   "execution_count": 16,
   "id": "representative-homework",
   "metadata": {},
   "outputs": [
    {
     "name": "stdout",
     "output_type": "stream",
     "text": [
      "README.txt  \u001b[0m\u001b[01;34mconfidentiel\u001b[0m/  passwords.txt\n"
     ]
    }
   ],
   "source": [
    "ls .."
   ]
  },
  {
   "cell_type": "markdown",
   "id": "adjusted-musical",
   "metadata": {},
   "source": [
    "Avec la commande `cd ..` on peut retourner au dossier parent"
   ]
  },
  {
   "cell_type": "code",
   "execution_count": 17,
   "id": "variable-gibson",
   "metadata": {},
   "outputs": [
    {
     "name": "stdout",
     "output_type": "stream",
     "text": [
      "/home/vkeller/edunum/doc/python/vi/5/dossier-a-cracker\n"
     ]
    }
   ],
   "source": [
    "cd .."
   ]
  },
  {
   "cell_type": "code",
   "execution_count": 18,
   "id": "fantastic-membership",
   "metadata": {},
   "outputs": [
    {
     "name": "stdout",
     "output_type": "stream",
     "text": [
      "README.txt  \u001b[0m\u001b[01;34mconfidentiel\u001b[0m/  passwords.txt\n"
     ]
    }
   ],
   "source": [
    "ls"
   ]
  },
  {
   "cell_type": "markdown",
   "id": "invalid-receiver",
   "metadata": {},
   "source": [
    "`~` home (alt+n) : c'est le dossier personnel."
   ]
  },
  {
   "cell_type": "markdown",
   "id": "practical-civilization",
   "metadata": {},
   "source": [
    "## Afficher le contenu d'un fichier\n",
    "\n",
    "La commande ```cat``` suivie du nom d'un fichier affiche son contenu. Pour afficher le contenu du fichier ```README.txt```, la commande est ```cat README.txt``` :"
   ]
  },
  {
   "cell_type": "code",
   "execution_count": 20,
   "id": "blessed-domain",
   "metadata": {},
   "outputs": [
    {
     "name": "stdout",
     "output_type": "stream",
     "text": [
      "Dans cet exercice, nous allons utiliser une technique de hacker pour retrouver un mot de passe inconnu\n"
     ]
    }
   ],
   "source": [
    "cat README.txt"
   ]
  },
  {
   "cell_type": "markdown",
   "id": "marine-journal",
   "metadata": {},
   "source": [
    "## Exercice 1\n",
    "\n",
    "Utilisez les commandes `cd`, `ls`, `cat` pour cet exercice\n",
    "\n",
    "Un fichier appelé `ctf.txt` se trouve dans le dossier `dossier-a-cracker/confidentiel/business/Avril`. Quel est son contenu ?"
   ]
  },
  {
   "cell_type": "markdown",
   "id": "classical-saturday",
   "metadata": {},
   "source": [
    "## Exercice 2\n",
    "\n",
    "Utilisez les commandes `cd`, `ls`, `cat`, `pwd` pour cet exercice\n",
    "\n",
    "Créez un dossier `math` dans le répertoire dossier-a-cracker/confidentiel."
   ]
  }
 ],
 "metadata": {
  "kernelspec": {
   "display_name": "Python 3",
   "language": "python",
   "name": "python3"
  },
  "language_info": {
   "codemirror_mode": {
    "name": "ipython",
    "version": 3
   },
   "file_extension": ".py",
   "mimetype": "text/x-python",
   "name": "python",
   "nbconvert_exporter": "python",
   "pygments_lexer": "ipython3",
   "version": "3.9.1"
  }
 },
 "nbformat": 4,
 "nbformat_minor": 5
}
