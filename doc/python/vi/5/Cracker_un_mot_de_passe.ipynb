{
 "cells": [
  {
   "cell_type": "markdown",
   "id": "capital-craps",
   "metadata": {},
   "source": [
    "# Protection des données\n",
    "\n",
    "Internet est un monde **ouvert** où tout est accessible. Il est donc très important de protéger ses données **sensibles** (tout ce qui touche à votre vie privée). \n",
    "\n",
    "![](https://upload.wikimedia.org/wikipedia/commons/thumb/a/a6/Anonymous_emblem.svg/480px-Anonymous_emblem.svg.png)\n",
    "\n",
    "## Objectifs\n",
    "\n",
    "1. Comprendre le système de fichiers\n",
    "1. Connaître quelques commandes UNIX\n",
    "1. Comprendre l'importance d'un bon mot de passe"
   ]
  },
  {
   "cell_type": "markdown",
   "id": "surprised-swift",
   "metadata": {},
   "source": [
    "## Télécharger un dossier\n",
    "\n",
    "* Depuis moodle, téléchargez le dossier ```dossier-a-hacker.zip```\n",
    "* Depuis le dossier ```Téléchargements``` tirez le dossier ```dossier-a-hacker``` dans l'explorateur de fichiers de jupyter-lab"
   ]
  },
  {
   "cell_type": "markdown",
   "id": "looking-hypothesis",
   "metadata": {},
   "source": [
    "## Ben ranger pour mieux retrouver\n",
    "\n",
    "Votre ordinateur stocke des données localement. Sur un ordinateur Mac, chaque donnée est un fichier. Chaque fichier peut se trouver dans un dossier qui lui même peut se trouver dans un autre dossier. C'est une structure en arbre ou une **arborescence** où la racine est représentée par le signe ```/```:\n",
    "\n",
    "![](https://pixees.fr/informatiquelycee/n_site/img/nsi_prem_base_linux_2.png)\n",
    "\n",
    "Vous pouvez retrouver cette arborescence sous forme graphique dans le finder:\n",
    "\n",
    "![](https://osxdaily.com/wp-content/uploads/2010/02/mac-os-x-finder-column-view.JPG)\n",
    "\n",
    "où chaque colonne représente un niveau dans la structure représentée par un nouveau dossier.\n",
    "\n",
    "### Chemin vers un fichier\n",
    "\n",
    "Chaque fichier possède donc un chemin depuis la racine. Par exemple le fichier ```README.txt``` qui se trouve dans le répertoire ```dossier-a-cracker``` possède le chemin ```/home/L12345/dossier-a-cracker/README.txt``` (le second dossier ```L12345``` sera différent pour vous : c'est votre identifiant à la place)\n",
    "\n",
    "Ce chemin se retrouve dans propriétés du fichier (clic droit : ```Get info```) (FIXME : écrire la version française !!)"
   ]
  },
  {
   "cell_type": "markdown",
   "id": "orange-baseball",
   "metadata": {},
   "source": [
    "**Exercice** : Cliquez avec le bouton droite sur le fichier ```README.txt``` et retrouvez le chemin de ce fichier"
   ]
  },
  {
   "cell_type": "markdown",
   "id": "reliable-soundtrack",
   "metadata": {},
   "source": [
    "## Devenons des Anonymous\n",
    "\n",
    "Avant l'invention de la souris, toutes les interactions avec l'ordinateur se faisaient avec des **lignes de commandes**. Aujourd'hui encore, les professionnels utilisent ces lignes de commandes parce qu'elle permettent de gagner du temps (on garde ses mains sur le clavier, pas sur la souris)."
   ]
  },
  {
   "cell_type": "markdown",
   "id": "normal-recipe",
   "metadata": {},
   "source": [
    "### Ouverture d'un terminal\n",
    "\n",
    "Dans Jupyter Lab, ouvrez un nouveau terminal : Fichier -> Nouveau -> Terminal. Cela va ouvrir un nouvel onglet \"Terminal\" dans lequel vous pouvez écrire des commandes à l'ordinateur\n",
    "\n",
    "![](https://user-images.githubusercontent.com/4312421/28751772-9855637c-7510-11e7-900e-552b39a498f7.PNG)\n",
    "\n",
    "FIXME: Prendre un screenshot au gymnase"
   ]
  },
  {
   "cell_type": "markdown",
   "id": "normal-estonia",
   "metadata": {},
   "source": [
    "### Commandes dans le terminal \n",
    "\n",
    "Plusieurs commandes sont importantes à connaître :\n",
    "\n",
    "| Commande  | paramètre |  Résultat  | exemple | \n",
    "|---|---|---|---|\n",
    "| ```pwd```  | | affiche le chemin du répertoire où nous nous trouvons  | ```pwd``` |\n",
    "| ```cd```  | nom du répertoire | change de répertoire |```cd dossier-a-cracker``` va aller dans le répertoire ```dossier-a-cracker``` |\n",
    "| ```cat```  | un nom de fichier | Affiche le contenu d'un fichier (attention : seulement les fichiers de type texte) | ```cat README.txt``` va afficher le contenu du fichier ```README.txt``` |\n",
    "| ```ls```  | | affiche les  fichiers et dossiers du répertoire où nous nous trouvons | ```ls``` |\n",
    "\n"
   ]
  },
  {
   "cell_type": "markdown",
   "id": "checked-installation",
   "metadata": {},
   "source": [
    "**Exercice** En utilisant les commandes ```ls```, ```cd``` et ```cat```, affichez le contenu du fichier ```README.txt```"
   ]
  },
  {
   "cell_type": "markdown",
   "id": "seventh-durham",
   "metadata": {},
   "source": [
    "## Mot de passe\n",
    "\n",
    "Il sert à protéger ses données privées dans les réseaux sociaux, sur son téléphone portable, etc.. \n",
    "\n",
    "Il doit être difficile à trouver pour un être humain, mais surtout pour un ordinateur. L'[EPFL](https://wiki.epfl.ch/secure-it/questcequunbonmotdepasse) donne quatre caractéristiques pour un **bon mot de passe** :\n",
    "\n",
    "1. il n'est **pas basé sur un mot courant** (nom, prénom, etc..)\n",
    "1. il doit être **long**\n",
    "1. il ne doit pas contenir des **répétitions**\n",
    "1. il doit contenir des caractères **variés** (lettres, accents, chiffres, caractères spéciaux)\n",
    "\n",
    "Malheureusement, beaucoup de personnes ont encore des mots de passe trop simple"
   ]
  },
  {
   "cell_type": "markdown",
   "id": "dimensional-gospel",
   "metadata": {},
   "source": [
    "**Exercice** Recherchez sur Internet quel est le mot de passe le plus utilisé pour les utilisateurs francophones"
   ]
  },
  {
   "cell_type": "markdown",
   "id": "southeast-combining",
   "metadata": {},
   "source": [
    "### Qualité d'un mot de passe\n",
    "\n",
    "Le fichier ```dossier-a-cracker/passwords.txt``` contient les **20'000 mots de passes** les plus utilisés sur l'Internet francophone. Nous allons l'utiliser pour vérifier la qualité d'un mot de passe.\n",
    "\n",
    "L'instruction Python suivante permettent de stocker dans la liste ```passwords``` les 20'000 mots de passes du fichier ```dossier-a-cracker/passwords.txt```"
   ]
  },
  {
   "cell_type": "code",
   "execution_count": 20,
   "id": "engaged-opportunity",
   "metadata": {},
   "outputs": [],
   "source": [
    "passwords = [line.rstrip() for line in open('dossier-a-cracker/passwords.txt', \"r\")]"
   ]
  },
  {
   "cell_type": "markdown",
   "id": "tropical-gregory",
   "metadata": {},
   "source": [
    "On peut ensuite accéder au mot de passe le plus utilisé (en position 0 dans la liste)"
   ]
  },
  {
   "cell_type": "code",
   "execution_count": 37,
   "id": "polar-metallic",
   "metadata": {},
   "outputs": [
    {
     "name": "stdout",
     "output_type": "stream",
     "text": [
      "123456\n"
     ]
    }
   ],
   "source": [
    "print(passwords[0])"
   ]
  },
  {
   "cell_type": "markdown",
   "id": "frank-independence",
   "metadata": {},
   "source": [
    "**Exercice** Affichez le 1000ème mot de passe le plus utilisé"
   ]
  },
  {
   "cell_type": "code",
   "execution_count": null,
   "id": "proved-enterprise",
   "metadata": {},
   "outputs": [],
   "source": []
  },
  {
   "cell_type": "markdown",
   "id": "golden-birthday",
   "metadata": {},
   "source": [
    "Il est ensuite possible de comparer si un mot de passe existe dans cette liste. Nous définissons une fonction ```mdp_Existe(mdp)``` qui prend en paramètre le mot de passe à tester contre toute la liste connue.\n",
    "\n",
    "Testez avec ```iloveyou```, ```cristiano7``` ou ```licorne2```"
   ]
  },
  {
   "cell_type": "code",
   "execution_count": 39,
   "id": "treated-tract",
   "metadata": {},
   "outputs": [
    {
     "name": "stdout",
     "output_type": "stream",
     "text": [
      "Le mot de passe iloveyou existe dans la liste\n",
      "Le mot de passe cristiano7 existe dans la liste\n",
      "Le mot de passe licorne2 n'existe PAS dans la liste\n"
     ]
    }
   ],
   "source": [
    "def mdp_existe(mdp):\n",
    "    existe = False\n",
    "    for mot_de_passe in passwords:\n",
    "        if mdp == mot_de_passe:\n",
    "            existe = True\n",
    "    if existe:\n",
    "        print('Le mot de passe',mdp,'existe dans la liste')\n",
    "    else:\n",
    "        print('Le mot de passe',mdp,'n\\'existe PAS dans la liste')\n",
    "\n",
    "mdp1 = 'iloveyou'\n",
    "mdp_existe(mdp1)\n",
    "mdp2 = 'cristiano7'\n",
    "mdp_existe(mdp2)\n",
    "mdp3 = 'licorne2'\n",
    "mdp_existe(mdp3)"
   ]
  },
  {
   "cell_type": "markdown",
   "id": "sitting-import",
   "metadata": {},
   "source": [
    "**Exercice** depuis le Terminal, utilisez une commande UNIX pour afficher tout le contenu du fichier ```dossier-a-cracker/passwords.txt```. Testez ensuite avec l'avant-dernier mot de passe de la liste"
   ]
  },
  {
   "cell_type": "code",
   "execution_count": null,
   "id": "handed-trade",
   "metadata": {},
   "outputs": [],
   "source": []
  },
  {
   "cell_type": "markdown",
   "id": "convertible-variable",
   "metadata": {},
   "source": [
    "**Exercice** : Pensez à un mot de passe et testez-le contre la liste de 20000:"
   ]
  },
  {
   "cell_type": "code",
   "execution_count": 36,
   "id": "great-batman",
   "metadata": {},
   "outputs": [
    {
     "name": "stdin",
     "output_type": "stream",
     "text": [
      "Entrez un mot de passe: 12345\n"
     ]
    },
    {
     "name": "stdout",
     "output_type": "stream",
     "text": [
      "Le mot de passe 12345 existe dans la liste\n"
     ]
    }
   ],
   "source": [
    "mdp = input('Entrez un mot de passe:')\n",
    "mdp_existe(mdp)"
   ]
  },
  {
   "cell_type": "markdown",
   "id": "medium-passage",
   "metadata": {},
   "source": [
    "### Majuscules-Minuscules\n",
    "\n",
    "Parfois ajouter une majuscule peut donner l'impression qu'un mot de passe est sûr. Le mot de passe ```coucou``` se trouve dans la liste:\n"
   ]
  },
  {
   "cell_type": "code",
   "execution_count": 40,
   "id": "serious-sister",
   "metadata": {},
   "outputs": [
    {
     "name": "stdout",
     "output_type": "stream",
     "text": [
      "Le mot de passe coucou existe dans la liste\n"
     ]
    }
   ],
   "source": [
    "mdp = 'coucou'\n",
    "mdp_existe(mdp)"
   ]
  },
  {
   "cell_type": "markdown",
   "id": "local-person",
   "metadata": {},
   "source": [
    "Mais le mot de passe ```CouCou``` n'y est pas :"
   ]
  },
  {
   "cell_type": "code",
   "execution_count": 41,
   "id": "compliant-perception",
   "metadata": {},
   "outputs": [
    {
     "name": "stdout",
     "output_type": "stream",
     "text": [
      "Le mot de passe CouCou n'existe PAS dans la liste\n"
     ]
    }
   ],
   "source": [
    "mdp = 'CouCou'\n",
    "mdp_existe(mdp)"
   ]
  },
  {
   "cell_type": "markdown",
   "id": "novel-volunteer",
   "metadata": {},
   "source": [
    "Il est alors possible de vérifier toutes les combinaisons en modifiant la fonction ```mdp_existe()``` :"
   ]
  },
  {
   "cell_type": "code",
   "execution_count": 42,
   "id": "caring-tucson",
   "metadata": {},
   "outputs": [],
   "source": [
    "def mdp_existe_maj_min(mdp):\n",
    "    existe = False\n",
    "    for mot_de_passe in passwords:\n",
    "        if mdp == mot_de_passe:\n",
    "            existe = True\n",
    "    if existe:\n",
    "        print('Le mot de passe',mdp,'existe dans la liste')\n",
    "    else:\n",
    "        print('Le mot de passe',mdp,'n\\'existe PAS dans la liste')"
   ]
  },
  {
   "cell_type": "markdown",
   "id": "international-bikini",
   "metadata": {},
   "source": [
    "## Mon adresse mail est-elle en danger ?\n",
    "\n",
    "Nous avons utilisé la **force brute** pour tester **un seul mot de passe** contre une liste définie. Les crackers du monde entier utilisent des dictionnaires bien plus grands contre des adresses mails, des comptes, etc.. que vous avez laissé ça et là au gré de vos interactions avec Internet. \n",
    "\n",
    "Ces listes sont ensuite vendues et utilisées à mauvais escient. \n",
    "\n",
    "Il existe un site web qui vérifie si votre adresse mail a été piratée : [Ai-je été piraté ?](https://haveibeenpwned.com)"
   ]
  },
  {
   "cell_type": "code",
   "execution_count": null,
   "id": "flying-relief",
   "metadata": {},
   "outputs": [],
   "source": []
  }
 ],
 "metadata": {
  "kernelspec": {
   "display_name": "Python 3",
   "language": "python",
   "name": "python3"
  },
  "language_info": {
   "codemirror_mode": {
    "name": "ipython",
    "version": 3
   },
   "file_extension": ".py",
   "mimetype": "text/x-python",
   "name": "python",
   "nbconvert_exporter": "python",
   "pygments_lexer": "ipython3",
   "version": "3.9.1"
  }
 },
 "nbformat": 4,
 "nbformat_minor": 5
}
