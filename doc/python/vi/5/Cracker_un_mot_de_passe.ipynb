{
 "cells": [
  {
   "cell_type": "markdown",
   "id": "resistant-microwave",
   "metadata": {},
   "source": [
    "# Protection des données\n",
    "\n",
    "Internet est un monde **ouvert** où tout est accessible. Il est donc très important de protéger ses données **sensibles** (tout ce qui touche à votre vie privée). \n",
    "\n",
    "![](https://upload.wikimedia.org/wikipedia/commons/thumb/a/a6/Anonymous_emblem.svg/480px-Anonymous_emblem.svg.png)\n",
    "\n",
    "## Objectifs\n",
    "\n",
    "1. Comprendre le système de fichiers UNIX (MacOS X)\n",
    "1. Comprendre l'importance d'un bon mot de passe"
   ]
  },
  {
   "cell_type": "markdown",
   "id": "invisible-protection",
   "metadata": {},
   "source": [
    "# (2) Les mots de passe\n",
    "\n",
    "Il sert à protéger ses données privées dans les réseaux sociaux, sur son téléphone portable, etc.. \n",
    "\n",
    "## Pourquoi ?\n",
    "\n",
    "- le nom d'utilisateur peut être public\n",
    "- le mot de passe **DOIT** être secret\n",
    "\n",
    "## Un bon mot de passe\n",
    "\n",
    "Il doit être difficile à trouver pour un être humain, mais surtout pour un ordinateur. L'[EPFL](https://wiki.epfl.ch/secure-it/questcequunbonmotdepasse) donne quatre caractéristiques pour un **bon mot de passe** :\n",
    "\n",
    "1. il n'est **pas basé sur un mot courant** (nom, prénom, etc..)\n",
    "1. il doit être **long**\n",
    "1. il ne doit pas contenir des **répétitions**\n",
    "1. il doit contenir des caractères **variés** (lettres, accents, chiffres, caractères spéciaux)\n",
    "\n",
    "Malheureusement, beaucoup de personnes ont encore des mots de passe trop simple"
   ]
  },
  {
   "cell_type": "markdown",
   "id": "lovely-kentucky",
   "metadata": {},
   "source": [
    "## Exercice\n",
    "\n",
    "Recherchez sur Internet quel est le mot de passe le plus utilisé pour les utilisateurs francophones"
   ]
  },
  {
   "cell_type": "markdown",
   "id": "heard-freedom",
   "metadata": {},
   "source": [
    "## Qualité d'un mot de passe\n",
    "\n",
    "Le fichier ```dossier-a-cracker/passwords.txt``` contient les **20'000 mots de passes** les plus utilisés sur l'Internet francophone. Nous allons l'utiliser pour vérifier la qualité d'un mot de passe.\n",
    "\n",
    "L'instruction Python suivante permettent de stocker dans la **liste** ```passwords``` les 20'000 mots de passes du fichier ```dossier-a-cracker/passwords.txt```"
   ]
  },
  {
   "cell_type": "code",
   "execution_count": 3,
   "id": "arranged-helen",
   "metadata": {},
   "outputs": [],
   "source": [
    "passwords = [line.rstrip() for line in open('dossier-a-cracker/passwords.txt', \"r\")]"
   ]
  },
  {
   "cell_type": "markdown",
   "id": "neutral-accident",
   "metadata": {},
   "source": [
    "## Accéder aux élément d'une liste\n",
    "L'opérateur de tranche `[m:n]` permet d'accéder à des sous ensembles\n",
    "\n",
    "- `[m:n]` de m jusqu'à (n-1)\n",
    "- `[:n]` du début jusqu'à (n-1)\n",
    "- `[m:]` de m jusqu'à la fin\n",
    "\n",
    "Un index negatif compte depuis la fin"
   ]
  },
  {
   "cell_type": "markdown",
   "id": "extra-childhood",
   "metadata": {},
   "source": [
    "## Exercice\n",
    "\n",
    "A l'aide des opérateurs de tranche, répondez aux questions"
   ]
  },
  {
   "cell_type": "markdown",
   "id": "welsh-organic",
   "metadata": {},
   "source": [
    "Affichez les cinq premiers mots de passe de la liste ```passwords```"
   ]
  },
  {
   "cell_type": "code",
   "execution_count": 4,
   "id": "norman-fashion",
   "metadata": {},
   "outputs": [
    {
     "data": {
      "text/plain": [
       "['123456', '123456789', 'azerty', '1234561', 'qwerty']"
      ]
     },
     "execution_count": 4,
     "metadata": {},
     "output_type": "execute_result"
    }
   ],
   "source": [
    "passwords[:5]"
   ]
  },
  {
   "cell_type": "markdown",
   "id": "graphic-harris",
   "metadata": {},
   "source": [
    "Affichez le 1000ème mot de passe de la liste ```passwords```"
   ]
  },
  {
   "cell_type": "code",
   "execution_count": null,
   "id": "associate-linux",
   "metadata": {},
   "outputs": [],
   "source": []
  },
  {
   "cell_type": "markdown",
   "id": "passing-girlfriend",
   "metadata": {},
   "source": [
    "Affichez les mots de passes entre 10'000 et 10'005 de la liste ```passwords```"
   ]
  },
  {
   "cell_type": "code",
   "execution_count": null,
   "id": "experimental-score",
   "metadata": {},
   "outputs": [],
   "source": []
  },
  {
   "cell_type": "markdown",
   "id": "facial-scratch",
   "metadata": {},
   "source": [
    "Affichez l'avant dernier mot de passe de la liste ```passwords```"
   ]
  },
  {
   "cell_type": "code",
   "execution_count": null,
   "id": "expected-cornwall",
   "metadata": {},
   "outputs": [],
   "source": []
  },
  {
   "cell_type": "markdown",
   "id": "atlantic-making",
   "metadata": {},
   "source": [
    "## Vérifier si un mot est dans la liste\n",
    "\n",
    "L'opérateur `in` permet de verifier si un mot est dans une liste.\n",
    "\n",
    "Est-ce que le mot de passe `'iloveyou'` est dans la liste ```passwords```?"
   ]
  },
  {
   "cell_type": "code",
   "execution_count": 3,
   "id": "global-breath",
   "metadata": {},
   "outputs": [
    {
     "data": {
      "text/plain": [
       "True"
      ]
     },
     "execution_count": 3,
     "metadata": {},
     "output_type": "execute_result"
    }
   ],
   "source": [
    "'iloveyou' in passwords"
   ]
  },
  {
   "cell_type": "code",
   "execution_count": 1,
   "id": "extreme-basement",
   "metadata": {},
   "outputs": [
    {
     "ename": "SyntaxError",
     "evalue": "invalid syntax (<ipython-input-1-a72ac8f1739f>, line 1)",
     "output_type": "error",
     "traceback": [
      "\u001b[0;36m  File \u001b[0;32m\"<ipython-input-1-a72ac8f1739f>\"\u001b[0;36m, line \u001b[0;32m1\u001b[0m\n\u001b[0;31m    FIXME exemple False\u001b[0m\n\u001b[0m                ^\u001b[0m\n\u001b[0;31mSyntaxError\u001b[0m\u001b[0;31m:\u001b[0m invalid syntax\n"
     ]
    }
   ],
   "source": [
    "FIXME exemple False"
   ]
  },
  {
   "cell_type": "markdown",
   "id": "palestinian-chamber",
   "metadata": {},
   "source": [
    "## Exercice\n",
    "\n",
    "Vérifiez que le mot de passe ```cristiano7``` est dans la liste ```passwords```"
   ]
  },
  {
   "cell_type": "code",
   "execution_count": null,
   "id": "improved-welsh",
   "metadata": {},
   "outputs": [],
   "source": []
  },
  {
   "cell_type": "markdown",
   "id": "thrown-exhaust",
   "metadata": {},
   "source": [
    "Et le mot de passe ```Cristiano7``` ?"
   ]
  },
  {
   "cell_type": "code",
   "execution_count": null,
   "id": "neutral-silence",
   "metadata": {},
   "outputs": [],
   "source": []
  },
  {
   "cell_type": "markdown",
   "id": "swiss-federal",
   "metadata": {},
   "source": [
    "## Majuscule et minuscule\n",
    "\n",
    "Le mot de passe ```cristiano7``` se trouve dans la liste ```passwords``` mais ```Cristiano7``` n'y est pas. \n",
    "\n",
    "Est-ce que rajouter une simple majuscule fait de mon mot de passe un bon mot de passe ?\n",
    "\n",
    "Python permet de mettre toutes les lettres en minuscules:"
   ]
  },
  {
   "cell_type": "code",
   "execution_count": null,
   "id": "mental-pioneer",
   "metadata": {},
   "outputs": [],
   "source": [
    "'Cristiano7'.lower()"
   ]
  },
  {
   "cell_type": "markdown",
   "id": "federal-detector",
   "metadata": {},
   "source": [
    "et en majuscules:"
   ]
  },
  {
   "cell_type": "code",
   "execution_count": null,
   "id": "authentic-journey",
   "metadata": {},
   "outputs": [],
   "source": [
    "'Cristiano7'.upper()"
   ]
  },
  {
   "cell_type": "markdown",
   "id": "earlier-springer",
   "metadata": {},
   "source": [
    "## Tester un mot de passe \n",
    "\n",
    "1. Avec l'opérateur ```in```, on peut vérifier qu'un élément existe dans une liste\n",
    "1. Avec les fonctions ```lower()``` et ```upper()``` on peut mettre une chaîne de caractères en majuscules et en minuscules\n",
    "\n",
    "il ne reste plus qu'à tester un mot de passe **inconnu** sur l'ensemble de la liste :\n",
    "\n",
    "L'algorithme est le suivant :\n",
    "\n",
    "FIXME\n",
    "- ```mdp_test``` <- entrée de l'utilisateur\n",
    "- pour tous les mots de passe ```mdp``` de la liste ```passwords``` :\n",
    "    - mettre ```mdp``` en minuscules\n",
    "    - mettre ```mdp_test``` en minuscules\n",
    "    - SI ```mdp_test``` égal à ```mdp``` ALORS le mot de passe existe\n",
    "    - SINON le mot de passe n'existe pas"
   ]
  },
  {
   "cell_type": "code",
   "execution_count": null,
   "id": "painted-agriculture",
   "metadata": {},
   "outputs": [],
   "source": [
    "def mdp_existe_maj_min(mdp):\n",
    "    if mdp.lower() in passwords:\n",
    "        print(mdp,'existe dans la liste sous la forme', mdp.lower())\n",
    "    else:\n",
    "        print(mdp,'n\\'existe PAS dans la liste')        "
   ]
  },
  {
   "cell_type": "code",
   "execution_count": null,
   "id": "female-parliament",
   "metadata": {},
   "outputs": [],
   "source": [
    "mdp_existe_maj_min('CrIsTiAno7')"
   ]
  },
  {
   "cell_type": "code",
   "execution_count": 5,
   "id": "neutral-setting",
   "metadata": {},
   "outputs": [
    {
     "data": {
      "text/plain": [
       "False"
      ]
     },
     "execution_count": 5,
     "metadata": {},
     "output_type": "execute_result"
    }
   ],
   "source": [
    "'CrIsTiAno7'.lower in passwords"
   ]
  },
  {
   "cell_type": "markdown",
   "id": "prepared-aaron",
   "metadata": {},
   "source": [
    "## Exercice\n",
    "\n",
    "Testez avec cette fonction si les mots de passe suivants existent dans la liste ```passwords```:\n",
    "\n",
    "- ```'coucou2'```\n",
    "- ```'coucou23'```"
   ]
  },
  {
   "cell_type": "code",
   "execution_count": null,
   "id": "graduate-transport",
   "metadata": {},
   "outputs": [],
   "source": []
  },
  {
   "cell_type": "code",
   "execution_count": null,
   "id": "solved-validation",
   "metadata": {},
   "outputs": [],
   "source": []
  },
  {
   "cell_type": "markdown",
   "id": "personal-witness",
   "metadata": {},
   "source": [
    "Avec une boucle, on peut tester n'importe quel mot de passe contre la liste ```passwords```.\n",
    "\n",
    "Testez vos mots de passe !\n",
    "\n",
    "(pour quitter, appuyez sur ENTREE"
   ]
  },
  {
   "cell_type": "code",
   "execution_count": 6,
   "id": "guided-humanity",
   "metadata": {},
   "outputs": [
    {
     "name": "stdin",
     "output_type": "stream",
     "text": [
      "Entrez un mot de passe vincent\n"
     ]
    },
    {
     "name": "stdout",
     "output_type": "stream",
     "text": [
      "True\n"
     ]
    },
    {
     "name": "stdin",
     "output_type": "stream",
     "text": [
      "Entrez un mot de passe: raphael\n"
     ]
    },
    {
     "name": "stdout",
     "output_type": "stream",
     "text": [
      "True\n"
     ]
    },
    {
     "name": "stdin",
     "output_type": "stream",
     "text": [
      "Entrez un mot de passe: raphael66\n"
     ]
    },
    {
     "name": "stdout",
     "output_type": "stream",
     "text": [
      "False\n"
     ]
    },
    {
     "name": "stdin",
     "output_type": "stream",
     "text": [
      "Entrez un mot de passe: Raphael\n"
     ]
    },
    {
     "name": "stdout",
     "output_type": "stream",
     "text": [
      "False\n"
     ]
    },
    {
     "name": "stdin",
     "output_type": "stream",
     "text": [
      "Entrez un mot de passe: \n"
     ]
    }
   ],
   "source": [
    "mot = input('Entrez un mot de passe')\n",
    "while len(mot) > 0:\n",
    "    print(mot in passwords)\n",
    "    mot = input('Entrez un mot de passe:')"
   ]
  },
  {
   "cell_type": "markdown",
   "id": "norman-speed",
   "metadata": {},
   "source": [
    "## Archive (ZIP) protégé par un mot de passe\n",
    "\n",
    "Le fichier ```confidentiel/mails_FBI.zip``` a été protégé contre l'extraction par un mot de passe. Si vous tentez d'extraire l'archive, vous devez fournir un mot de passe.\n",
    "\n",
    "Ces 4 lignes vont tester le mot de passe ```'jetaime'``` sur l'archive. Cela va créer une erreur de type :\n",
    "\n",
    "```\n",
    "RuntimeError: Bad password for file 'original/mails_FBI.txt'\n",
    "```"
   ]
  },
  {
   "cell_type": "code",
   "execution_count": null,
   "id": "willing-sessions",
   "metadata": {},
   "outputs": [],
   "source": [
    "from zipfile import ZipFile\n",
    "with ZipFile('confidentiel/mails_FBI.zip') as file:\n",
    "   mdp = 'jetaime' \n",
    "   file.extractall(pwd = bytes(mdp, 'utf-8'))"
   ]
  },
  {
   "cell_type": "markdown",
   "id": "suitable-cheese",
   "metadata": {},
   "source": [
    "## Attaque en force brute\n",
    "\n",
    "A partir de maintenant, on dispose de tous les outils pour attaquer en force brute l'archive ```'mails_FBI.zip'```. L'algorithme sera le suivant :\n",
    "\n",
    "1. pour tous les mots de passes ```mdp``` de la liste ```passwords``` FAIRE\n",
    "    1. Tester si le mot de passe est correct\n",
    "    1. SI le mot de passe est correct ALORS\n",
    "        1. le mot de passe a été trouvé. SORTIR\n",
    "    1. SINON\n",
    "        1. aller au mot de passe suivant\n",
    "\n",
    "La fonction ```check_ret(mdp,archive)``` va tester un mot de passe ```mdp``` sur l'archive protégée ```archive``` et retourner la valeur ```0``` si le mot de passe est le bon"
   ]
  },
  {
   "cell_type": "code",
   "execution_count": null,
   "id": "fantastic-patch",
   "metadata": {},
   "outputs": [],
   "source": [
    "import subprocess\n",
    "def check_ret(mdp,archive):\n",
    "    rc = -1\n",
    "    p1 = subprocess.Popen(['unzip', '-t','-q', '-P', mdp,archive])\n",
    "    p1.wait()\n",
    "    rc = p1.returncode\n",
    "    p1.kill()\n",
    "    return rc"
   ]
  },
  {
   "cell_type": "markdown",
   "id": "expected-virgin",
   "metadata": {},
   "source": [
    "Il est maintenant possible de tester tous les mots de passe de la liste sur une archive protégée par un mot de passe. Le fichier se trouve au chemin ```dossier-a-cracker/confidentiel/mails_FBI.zip```"
   ]
  },
  {
   "cell_type": "code",
   "execution_count": null,
   "id": "interracial-swimming",
   "metadata": {},
   "outputs": [],
   "source": [
    "for mdp in passwords:\n",
    "    ret = check_ret(mdp,'dossier-a-cracker/confidentiel/mails_FBI.zip')\n",
    "    if ret == 0:\n",
    "        print('Le mot de passe est :',mdp)\n",
    "        break"
   ]
  },
  {
   "cell_type": "markdown",
   "id": "smoking-europe",
   "metadata": {},
   "source": [
    "## Exercice\n",
    "\n",
    "A l'aide de la fonction vue plus haut, extrayez l'archive avec le mot de passe que vous avez trouvé\n",
    "\n",
    "```python\n",
    "from zipfile import ZipFile\n",
    "with ZipFile('dossier-a-cracker/confidentiel/mails_FBI.zip') as file:\n",
    "   mdp = '' \n",
    "   file.extractall(pwd = bytes(mdp, 'utf-8'))\n",
    "```\n"
   ]
  },
  {
   "cell_type": "code",
   "execution_count": null,
   "id": "supposed-sleep",
   "metadata": {},
   "outputs": [],
   "source": []
  },
  {
   "cell_type": "markdown",
   "id": "trying-ranch",
   "metadata": {},
   "source": [
    "## Jeu (si vous avez du temps)\n",
    "\n",
    "Dans le monde du hacking, il y a un jeu qui est souvent utilisé par les entreprises pour tester leur infrastructure. Ce jeu de guerre cybernétique, appelé [catch the flag](https://fr.wikipedia.org/wiki/Test_d%27intrusion) (capture du drapeau) dans lequel deux équipes s'affrontent: l'une pour protéger le drapeau, l'autre pour le capturer. \n",
    "\n",
    "Un autre fichier archive ZIP a été caché dans le dossier ```dossier-a-cracker``` et protégé par un mot de passe.\n",
    "\n",
    "**Exercice** Retrouvez le fichier avec les commandes ```ls``` et ```cd``` et utilisez les fonctions décrites plus haut pour le décrypter"
   ]
  },
  {
   "cell_type": "markdown",
   "id": "thousand-cholesterol",
   "metadata": {},
   "source": [
    "## Mon adresse mail est-elle en danger ?\n",
    "\n",
    "Nous avons utilisé la **force brute** pour tester **un seul mot de passe** contre une liste définie. Les crackers du monde entier utilisent des dictionnaires bien plus grands contre des adresses mails, des comptes, etc.. que vous avez laissé ça et là au gré de vos interactions avec Internet. \n",
    "\n",
    "Ces listes sont ensuite vendues et utilisées à mauvais escient. \n",
    "\n",
    "Il existe un site web qui vérifie si votre adresse mail a été piratée : [Ai-je été piraté ?](https://haveibeenpwned.com)"
   ]
  },
  {
   "cell_type": "markdown",
   "id": "handy-christmas",
   "metadata": {},
   "source": [
    "**Exercice** Testez vos adresses mails pour voir si elles ont été vendues. Si elles le sont : changez votre mot de passe"
   ]
  },
  {
   "cell_type": "code",
   "execution_count": null,
   "id": "valuable-disaster",
   "metadata": {},
   "outputs": [],
   "source": []
  }
 ],
 "metadata": {
  "kernelspec": {
   "display_name": "Python 3",
   "language": "python",
   "name": "python3"
  },
  "language_info": {
   "codemirror_mode": {
    "name": "ipython",
    "version": 3
   },
   "file_extension": ".py",
   "mimetype": "text/x-python",
   "name": "python",
   "nbconvert_exporter": "python",
   "pygments_lexer": "ipython3",
   "version": "3.9.1"
  }
 },
 "nbformat": 4,
 "nbformat_minor": 5
}
