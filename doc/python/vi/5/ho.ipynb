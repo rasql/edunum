{
 "cells": [
  {
   "cell_type": "markdown",
   "id": "orange-danger",
   "metadata": {},
   "source": [
    "# Suggestions\n",
    "\n",
    "Couper en 2 leçons\n",
    "- Les systèmes de fichiers\n",
    "- Les mots de passe\n",
    "\n",
    "Utiliser la **Voie Pythonique** (Pythonic way)"
   ]
  },
  {
   "cell_type": "code",
   "execution_count": 1,
   "id": "imperial-gravity",
   "metadata": {},
   "outputs": [
    {
     "name": "stdout",
     "output_type": "stream",
     "text": [
      "The Zen of Python, by Tim Peters\n",
      "\n",
      "Beautiful is better than ugly.\n",
      "Explicit is better than implicit.\n",
      "Simple is better than complex.\n",
      "Complex is better than complicated.\n",
      "Flat is better than nested.\n",
      "Sparse is better than dense.\n",
      "Readability counts.\n",
      "Special cases aren't special enough to break the rules.\n",
      "Although practicality beats purity.\n",
      "Errors should never pass silently.\n",
      "Unless explicitly silenced.\n",
      "In the face of ambiguity, refuse the temptation to guess.\n",
      "There should be one-- and preferably only one --obvious way to do it.\n",
      "Although that way may not be obvious at first unless you're Dutch.\n",
      "Now is better than never.\n",
      "Although never is often better than *right* now.\n",
      "If the implementation is hard to explain, it's a bad idea.\n",
      "If the implementation is easy to explain, it may be a good idea.\n",
      "Namespaces are one honking great idea -- let's do more of those!\n"
     ]
    }
   ],
   "source": [
    "import this"
   ]
  },
  {
   "cell_type": "markdown",
   "id": "experienced-cleaners",
   "metadata": {},
   "source": [
    "## Les systèmes de fichiers\n",
    "\n",
    "Se déplacer et afficher\n",
    "- `pwd`\n",
    "- `cd`\n",
    "- `ls`\n",
    "\n",
    "Créer, supprimer, déplacer des dossier\n",
    "- `mkdir`\n",
    "- `rmdir`\n",
    "- `mv`\n",
    "\n",
    "Dossiers spéciales\n",
    "- `/` root\n",
    "- `~` home (alt+n)\n",
    "- `.` actuel\n",
    "- `..` parent\n",
    "\n",
    "Chemin \n",
    "- absolu\n",
    "- relatif"
   ]
  },
  {
   "cell_type": "markdown",
   "id": "quality-string",
   "metadata": {},
   "source": [
    "## Se déplacer\n",
    "\n",
    "Ou suis-je?"
   ]
  },
  {
   "cell_type": "code",
   "execution_count": 1,
   "id": "measured-shopping",
   "metadata": {},
   "outputs": [
    {
     "data": {
      "text/plain": [
       "'/Users/ho/Documents/GitHub/edunum/doc/python/vi/5'"
      ]
     },
     "execution_count": 1,
     "metadata": {},
     "output_type": "execute_result"
    }
   ],
   "source": [
    "pwd"
   ]
  },
  {
   "cell_type": "code",
   "execution_count": 2,
   "id": "every-evolution",
   "metadata": {},
   "outputs": [
    {
     "name": "stdout",
     "output_type": "stream",
     "text": [
      "/Users/ho\n"
     ]
    }
   ],
   "source": [
    "cd"
   ]
  },
  {
   "cell_type": "code",
   "execution_count": 3,
   "id": "interim-links",
   "metadata": {},
   "outputs": [
    {
     "name": "stdout",
     "output_type": "stream",
     "text": [
      "/Users/ho/Documents/GitHub/edunum/doc/python/vi/5\n"
     ]
    }
   ],
   "source": [
    "cd ~/Documents/GitHub/edunum/doc/python/vi/5"
   ]
  },
  {
   "cell_type": "code",
   "execution_count": 4,
   "id": "tamil-cheese",
   "metadata": {},
   "outputs": [
    {
     "name": "stdout",
     "output_type": "stream",
     "text": [
      "Cracker_un_mot_de_passe.ipynb  dossier-a-cracker.zip\n",
      "catch-the-flag.ipynb           ho.ipynb\n",
      "\u001b[34mdossier-a-cracker\u001b[m\u001b[m/\n"
     ]
    }
   ],
   "source": [
    "ls"
   ]
  },
  {
   "cell_type": "code",
   "execution_count": 5,
   "id": "essential-advancement",
   "metadata": {},
   "outputs": [
    {
     "name": "stdout",
     "output_type": "stream",
     "text": [
      "/Users/ho/Documents/GitHub/edunum/doc/python/vi/5/dossier-a-cracker\n"
     ]
    }
   ],
   "source": [
    "cd dossier-a-cracker"
   ]
  },
  {
   "cell_type": "code",
   "execution_count": 6,
   "id": "aggressive-class",
   "metadata": {},
   "outputs": [
    {
     "name": "stdout",
     "output_type": "stream",
     "text": [
      "README.txt     \u001b[34mconfidentiel\u001b[m\u001b[m/  passwords.txt\n"
     ]
    }
   ],
   "source": [
    "ls"
   ]
  },
  {
   "cell_type": "code",
   "execution_count": 7,
   "id": "broad-retreat",
   "metadata": {},
   "outputs": [
    {
     "name": "stdout",
     "output_type": "stream",
     "text": [
      "Dans cet exercice, nous allons utiliser une technique de hacker pour retrouver un mot de passe inconnu\n"
     ]
    }
   ],
   "source": [
    "cat README.txt"
   ]
  },
  {
   "cell_type": "code",
   "execution_count": 8,
   "id": "exposed-dragon",
   "metadata": {},
   "outputs": [
    {
     "data": {
      "text/plain": [
       "'/Users/ho/Documents/GitHub/edunum/doc/python/vi/5/dossier-a-cracker'"
      ]
     },
     "execution_count": 8,
     "metadata": {},
     "output_type": "execute_result"
    }
   ],
   "source": [
    "pwd"
   ]
  },
  {
   "cell_type": "code",
   "execution_count": 9,
   "id": "hired-hardwood",
   "metadata": {},
   "outputs": [
    {
     "name": "stdout",
     "output_type": "stream",
     "text": [
      "/Users/ho\n"
     ]
    }
   ],
   "source": [
    "cd"
   ]
  },
  {
   "cell_type": "code",
   "execution_count": 10,
   "id": "crazy-brain",
   "metadata": {},
   "outputs": [
    {
     "data": {
      "text/plain": [
       "'/Users/ho'"
      ]
     },
     "execution_count": 10,
     "metadata": {},
     "output_type": "execute_result"
    }
   ],
   "source": [
    "pwd"
   ]
  },
  {
   "cell_type": "code",
   "execution_count": 11,
   "id": "beginning-marketplace",
   "metadata": {},
   "outputs": [
    {
     "name": "stdout",
     "output_type": "stream",
     "text": [
      "/Users/ho/Documents/GitHub/edunum/doc/python/vi/5/dossier-a-cracker\n"
     ]
    }
   ],
   "source": [
    "cd Documents/GitHub/edunum/doc/python/vi/5/dossier-a-cracker"
   ]
  },
  {
   "cell_type": "code",
   "execution_count": 12,
   "id": "compatible-freeze",
   "metadata": {},
   "outputs": [
    {
     "name": "stdout",
     "output_type": "stream",
     "text": [
      "README.txt     \u001b[34mconfidentiel\u001b[m\u001b[m/  passwords.txt\n"
     ]
    }
   ],
   "source": [
    "ls"
   ]
  },
  {
   "cell_type": "markdown",
   "id": "legendary-structure",
   "metadata": {},
   "source": [
    "# Les mots de passe\n",
    "\n",
    "Pourquoi\n",
    "- nom d'utilisateur (publique)\n",
    "- mot de passe (secret)\n",
    "\n",
    "## Lire un fichier dans une liste"
   ]
  },
  {
   "cell_type": "code",
   "execution_count": 5,
   "id": "living-grocery",
   "metadata": {},
   "outputs": [
    {
     "name": "stdout",
     "output_type": "stream",
     "text": [
      "/home/vkeller/edunum/doc/python/vi/5/dossier-a-cracker\n"
     ]
    }
   ],
   "source": [
    "cd dossier-a-cracker"
   ]
  },
  {
   "cell_type": "code",
   "execution_count": 6,
   "id": "designed-warning",
   "metadata": {},
   "outputs": [],
   "source": [
    "passwords = [line.rstrip() for line in open('passwords.txt')]"
   ]
  },
  {
   "cell_type": "code",
   "execution_count": 7,
   "id": "certain-producer",
   "metadata": {},
   "outputs": [
    {
     "data": {
      "text/plain": [
       "list"
      ]
     },
     "execution_count": 7,
     "metadata": {},
     "output_type": "execute_result"
    }
   ],
   "source": [
    "type(passwords)"
   ]
  },
  {
   "cell_type": "code",
   "execution_count": 8,
   "id": "tribal-arbitration",
   "metadata": {},
   "outputs": [
    {
     "data": {
      "text/plain": [
       "20000"
      ]
     },
     "execution_count": 8,
     "metadata": {},
     "output_type": "execute_result"
    }
   ],
   "source": [
    "len(passwords)"
   ]
  },
  {
   "cell_type": "code",
   "execution_count": 16,
   "id": "intellectual-twist",
   "metadata": {},
   "outputs": [
    {
     "data": {
      "text/plain": [
       "'/Users/ho/Documents/GitHub/edunum/doc/python/vi/5/dossier-a-cracker'"
      ]
     },
     "execution_count": 16,
     "metadata": {},
     "output_type": "execute_result"
    }
   ],
   "source": [
    "pwd"
   ]
  },
  {
   "cell_type": "markdown",
   "id": "israeli-monroe",
   "metadata": {},
   "source": [
    "## Accéder aux élément d'une liste\n",
    "L'opérateur de tranche `[m:n]` permet d'accéder à des sous ensembles\n",
    "\n",
    "- `[m:n]` de m jusqu'à (n-1)\n",
    "- `[:n]` du début jusqu'à (n-1)\n",
    "- `[m:]` de m jusqu'à la fin\n",
    "\n",
    "Un index negatif compte depuis la fin"
   ]
  },
  {
   "cell_type": "code",
   "execution_count": 40,
   "id": "verified-garlic",
   "metadata": {},
   "outputs": [
    {
     "data": {
      "text/plain": [
       "['123456', '123456789', 'azerty', '1234561', 'qwerty']"
      ]
     },
     "execution_count": 40,
     "metadata": {},
     "output_type": "execute_result"
    }
   ],
   "source": [
    "passwords[:5]"
   ]
  },
  {
   "cell_type": "code",
   "execution_count": 32,
   "id": "concerned-grade",
   "metadata": {},
   "outputs": [
    {
     "data": {
      "text/plain": [
       "'esther'"
      ]
     },
     "execution_count": 32,
     "metadata": {},
     "output_type": "execute_result"
    }
   ],
   "source": [
    "passwords[1000]"
   ]
  },
  {
   "cell_type": "code",
   "execution_count": 39,
   "id": "minute-second",
   "metadata": {},
   "outputs": [
    {
     "data": {
      "text/plain": [
       "['brazza', 'bonjour12', 'blueberry1', 'blood1', 'bio']"
      ]
     },
     "execution_count": 39,
     "metadata": {},
     "output_type": "execute_result"
    }
   ],
   "source": [
    "passwords[-5:]"
   ]
  },
  {
   "cell_type": "code",
   "execution_count": 36,
   "id": "placed-rabbit",
   "metadata": {},
   "outputs": [
    {
     "data": {
      "text/plain": [
       "'bio'"
      ]
     },
     "execution_count": 36,
     "metadata": {},
     "output_type": "execute_result"
    }
   ],
   "source": [
    "passwords[-1]"
   ]
  },
  {
   "cell_type": "markdown",
   "id": "changing-tradition",
   "metadata": {},
   "source": [
    "## Vérifier si un mot est dans la liste\n",
    "\n",
    "Utiliser toujours la **Voie Pythonique**.\n",
    "\n",
    "L'opérateur `in` permet de verifier si un mot est dans une liste."
   ]
  },
  {
   "cell_type": "code",
   "execution_count": 33,
   "id": "enclosed-hollow",
   "metadata": {},
   "outputs": [
    {
     "data": {
      "text/plain": [
       "True"
      ]
     },
     "execution_count": 33,
     "metadata": {},
     "output_type": "execute_result"
    }
   ],
   "source": [
    "'iloveyou' in passwords"
   ]
  },
  {
   "cell_type": "code",
   "execution_count": 59,
   "id": "tight-anderson",
   "metadata": {},
   "outputs": [
    {
     "data": {
      "text/plain": [
       "True"
      ]
     },
     "execution_count": 59,
     "metadata": {},
     "output_type": "execute_result"
    }
   ],
   "source": [
    "'cristiano7' in passwords"
   ]
  },
  {
   "cell_type": "code",
   "execution_count": 35,
   "id": "private-uniform",
   "metadata": {},
   "outputs": [
    {
     "data": {
      "text/plain": [
       "False"
      ]
     },
     "execution_count": 35,
     "metadata": {},
     "output_type": "execute_result"
    }
   ],
   "source": [
    "'licorne2' in passwords"
   ]
  },
  {
   "cell_type": "code",
   "execution_count": 37,
   "id": "widespread-poetry",
   "metadata": {},
   "outputs": [
    {
     "name": "stdin",
     "output_type": "stream",
     "text": [
      "Entrez un mot de passe bio\n"
     ]
    },
    {
     "name": "stdout",
     "output_type": "stream",
     "text": [
      "True\n"
     ]
    },
    {
     "name": "stdin",
     "output_type": "stream",
     "text": [
      "Entrez un mot de passe: 123\n"
     ]
    },
    {
     "name": "stdout",
     "output_type": "stream",
     "text": [
      "True\n"
     ]
    },
    {
     "name": "stdin",
     "output_type": "stream",
     "text": [
      "Entrez un mot de passe: 1234\n"
     ]
    },
    {
     "name": "stdout",
     "output_type": "stream",
     "text": [
      "True\n"
     ]
    },
    {
     "name": "stdin",
     "output_type": "stream",
     "text": [
      "Entrez un mot de passe: raphael\n"
     ]
    },
    {
     "name": "stdout",
     "output_type": "stream",
     "text": [
      "True\n"
     ]
    },
    {
     "name": "stdin",
     "output_type": "stream",
     "text": [
      "Entrez un mot de passe: raph12\n"
     ]
    },
    {
     "name": "stdout",
     "output_type": "stream",
     "text": [
      "False\n"
     ]
    },
    {
     "name": "stdin",
     "output_type": "stream",
     "text": [
      "Entrez un mot de passe: hector\n"
     ]
    },
    {
     "name": "stdout",
     "output_type": "stream",
     "text": [
      "True\n"
     ]
    },
    {
     "name": "stdin",
     "output_type": "stream",
     "text": [
      "Entrez un mot de passe: elsa\n"
     ]
    },
    {
     "name": "stdout",
     "output_type": "stream",
     "text": [
      "True\n"
     ]
    },
    {
     "name": "stdin",
     "output_type": "stream",
     "text": [
      "Entrez un mot de passe: elephant\n"
     ]
    },
    {
     "name": "stdout",
     "output_type": "stream",
     "text": [
      "True\n"
     ]
    },
    {
     "name": "stdin",
     "output_type": "stream",
     "text": [
      "Entrez un mot de passe: arbre\n"
     ]
    },
    {
     "name": "stdout",
     "output_type": "stream",
     "text": [
      "False\n"
     ]
    },
    {
     "name": "stdin",
     "output_type": "stream",
     "text": [
      "Entrez un mot de passe: password\n"
     ]
    },
    {
     "name": "stdout",
     "output_type": "stream",
     "text": [
      "True\n"
     ]
    },
    {
     "name": "stdin",
     "output_type": "stream",
     "text": [
      "Entrez un mot de passe: motdepasse\n"
     ]
    },
    {
     "name": "stdout",
     "output_type": "stream",
     "text": [
      "True\n"
     ]
    },
    {
     "name": "stdin",
     "output_type": "stream",
     "text": [
      "Entrez un mot de passe: \n"
     ]
    }
   ],
   "source": [
    "mot = input('Entrez un mot de passe')\n",
    "while len(mot) > 0:\n",
    "    print(mot in passwords)\n",
    "    mot = input('Entrez un mot de passe:')"
   ]
  },
  {
   "cell_type": "code",
   "execution_count": 60,
   "id": "owned-fetish",
   "metadata": {},
   "outputs": [
    {
     "data": {
      "text/plain": [
       "True"
      ]
     },
     "execution_count": 60,
     "metadata": {},
     "output_type": "execute_result"
    }
   ],
   "source": [
    "'coucou2' in passwords"
   ]
  },
  {
   "cell_type": "markdown",
   "id": "numeric-nightmare",
   "metadata": {},
   "source": [
    "## Majuscule-minuscule\n",
    "\n",
    "Montrer des exemple avec upper/lower"
   ]
  },
  {
   "cell_type": "code",
   "execution_count": 55,
   "id": "waiting-asian",
   "metadata": {},
   "outputs": [
    {
     "data": {
      "text/plain": [
       "'motdepasse'"
      ]
     },
     "execution_count": 55,
     "metadata": {},
     "output_type": "execute_result"
    }
   ],
   "source": [
    "'MotDePasse'.lower()"
   ]
  },
  {
   "cell_type": "code",
   "execution_count": 48,
   "id": "cardiovascular-surrey",
   "metadata": {},
   "outputs": [
    {
     "data": {
      "text/plain": [
       "'MOTDEPASSE'"
      ]
     },
     "execution_count": 48,
     "metadata": {},
     "output_type": "execute_result"
    }
   ],
   "source": [
    "'MotDePasse'.upper()"
   ]
  },
  {
   "cell_type": "code",
   "execution_count": 52,
   "id": "weird-andrew",
   "metadata": {},
   "outputs": [],
   "source": [
    "def mdp_existe_maj_min(mdp):\n",
    "    \n",
    "    if mdp.lower() in passwords:\n",
    "        print(mdp,'existe dans la liste sous la forme', mdp.lower())\n",
    "    else:\n",
    "        print(mdp,'n\\'existe PAS dans la liste')"
   ]
  },
  {
   "cell_type": "code",
   "execution_count": 53,
   "id": "advised-wholesale",
   "metadata": {},
   "outputs": [
    {
     "name": "stdout",
     "output_type": "stream",
     "text": [
      "CouCou2 existe dans la liste sous la forme coucou2\n"
     ]
    }
   ],
   "source": [
    "mdp_existe_maj_min('CouCou2')"
   ]
  },
  {
   "cell_type": "code",
   "execution_count": 54,
   "id": "closing-comment",
   "metadata": {},
   "outputs": [
    {
     "name": "stdout",
     "output_type": "stream",
     "text": [
      "CouCou23 n'existe PAS dans la liste\n"
     ]
    }
   ],
   "source": [
    "mdp_existe_maj_min('CouCou23')"
   ]
  },
  {
   "cell_type": "markdown",
   "id": "running-occasion",
   "metadata": {},
   "source": [
    "## Zip\n",
    "montrer comment proteguer un fichier"
   ]
  },
  {
   "cell_type": "code",
   "execution_count": 61,
   "id": "mounted-compact",
   "metadata": {},
   "outputs": [
    {
     "name": "stdout",
     "output_type": "stream",
     "text": [
      "coucou\n",
      "cou\n",
      "couscous\n",
      "scoubidou\n",
      "courage\n",
      "counter\n",
      "coumba\n",
      "coucou1\n",
      "country\n",
      "cousin\n",
      "couille\n",
      "concours\n",
      "COUCOU\n",
      "coulibaly\n",
      "couleur\n",
      "cougar\n",
      "courgette\n",
      "courrier\n",
      "couture\n",
      "coupet\n",
      "couple\n",
      "moscou\n",
      "macouille\n",
      "yacouba\n",
      "couette\n",
      "coucou123\n",
      "surcouf\n",
      "courtney\n",
      "couvreur\n",
      "vancouver\n",
      "scoubi\n",
      "cousine\n",
      "secourisme\n",
      "counter1\n",
      "coucoune\n",
      "secours\n",
      "course\n",
      "couilles\n",
      "account1\n",
      "couverture\n",
      "coucou12\n",
      "account\n",
      "baracouda\n",
      "coucoucou\n",
      "courbevoie\n",
      "ricounet\n",
      "coucou!\n",
      "courage1\n",
      "counterstrike\n",
      "coucou2\n",
      "coucou10\n",
      "couscous1\n",
      "mescouilles\n",
      "couponSC10\n",
      "scouby\n",
      "jacouille\n",
      "coucoucmoi\n",
      "coucou01\n",
      "ricou\n",
      "couillon\n"
     ]
    }
   ],
   "source": [
    "!cat passwords.txt | grep -i 'cou'"
   ]
  },
  {
   "cell_type": "code",
   "execution_count": 65,
   "id": "nuclear-peter",
   "metadata": {},
   "outputs": [],
   "source": [
    "!touch secret.txt\n",
    "!echo \"mon secret\" > secret.txt"
   ]
  },
  {
   "cell_type": "code",
   "execution_count": 66,
   "id": "silver-preview",
   "metadata": {},
   "outputs": [
    {
     "name": "stdout",
     "output_type": "stream",
     "text": [
      "README.txt    \u001b[34mconfidentiel\u001b[m\u001b[m  passwords.txt secret.txt\n"
     ]
    }
   ],
   "source": [
    "!ls"
   ]
  },
  {
   "cell_type": "code",
   "execution_count": 67,
   "id": "surprised-fashion",
   "metadata": {},
   "outputs": [
    {
     "name": "stdout",
     "output_type": "stream",
     "text": [
      "mon secret\n"
     ]
    }
   ],
   "source": [
    "cat secret.txt"
   ]
  },
  {
   "cell_type": "markdown",
   "id": "controlled-attempt",
   "metadata": {},
   "source": [
    "## Compresser un fichier\n",
    "\n",
    "La commande `zip` permet de compresser un ou plusieurs fichiers dans une archive."
   ]
  },
  {
   "cell_type": "code",
   "execution_count": 85,
   "id": "canadian-wrong",
   "metadata": {},
   "outputs": [
    {
     "name": "stdout",
     "output_type": "stream",
     "text": [
      "updating: passwords.txt (deflated 50%)\n"
     ]
    }
   ],
   "source": [
    "!zip passwords.zip passwords.txt"
   ]
  },
  {
   "cell_type": "code",
   "execution_count": 86,
   "id": "facial-wrestling",
   "metadata": {},
   "outputs": [
    {
     "name": "stdout",
     "output_type": "stream",
     "text": [
      "total 488\n",
      "-rw-r--r--  1 ho  BUGNON\\Utilisateurs du domaine     103 25 mar 09:35 README.txt\n",
      "drwxr-xr-x  4 ho  BUGNON\\Utilisateurs du domaine     136 25 mar 09:35 \u001b[34mconfidentiel\u001b[m\u001b[m/\n",
      "-rw-r--r--  1 ho  BUGNON\\Utilisateurs du domaine  154946 18 fév 07:51 passwords.txt\n",
      "-rw-r--r--  1 ho  BUGNON\\Utilisateurs du domaine   78175 25 mar 11:48 passwords.zip\n",
      "-rw-r--r--  1 ho  BUGNON\\Utilisateurs du domaine      11 25 mar 11:31 secret.txt\n",
      "-rw-r--r--  1 ho  BUGNON\\Utilisateurs du domaine     209 25 mar 11:34 secret.zip\n"
     ]
    }
   ],
   "source": [
    "ll"
   ]
  },
  {
   "cell_type": "markdown",
   "id": "integral-filename",
   "metadata": {},
   "source": [
    "## Attaque par force brute"
   ]
  },
  {
   "cell_type": "code",
   "execution_count": 73,
   "id": "quarterly-injury",
   "metadata": {},
   "outputs": [],
   "source": [
    "import subprocess\n",
    "def check_ret(mdp,archive):\n",
    "    rc = -1\n",
    "    p1 = subprocess.Popen(['unzip', '-t','-q', '-P', mdp,archive])\n",
    "    p1.wait()\n",
    "    rc = p1.returncode\n",
    "    p1.kill()\n",
    "    return rc"
   ]
  },
  {
   "cell_type": "code",
   "execution_count": null,
   "id": "vietnamese-survey",
   "metadata": {},
   "outputs": [],
   "source": [
    "i = 1\n",
    "print('Password Cracker')\n",
    "print('Start Brute Force Attack')\n",
    "for mdp in passwords:\n",
    "    ret = check_ret(mdp,'confidentiel/mails_FBI.zip')\n",
    "    if (i%500 == 0):\n",
    "        print(i, 'target', mdp)\n",
    "    i += 1    \n",
    "    if ret == 0:\n",
    "        print('Le mot de passe est :',mdp)\n",
    "        break"
   ]
  },
  {
   "cell_type": "code",
   "execution_count": 90,
   "id": "supreme-possible",
   "metadata": {},
   "outputs": [
    {
     "name": "stdout",
     "output_type": "stream",
     "text": [
      "README.txt     passwords.txt  secret.txt\n",
      "\u001b[34mconfidentiel\u001b[m\u001b[m/  passwords.zip  secret.zip\n"
     ]
    }
   ],
   "source": [
    "ls"
   ]
  },
  {
   "cell_type": "code",
   "execution_count": 78,
   "id": "young-phoenix",
   "metadata": {},
   "outputs": [
    {
     "name": "stdout",
     "output_type": "stream",
     "text": [
      "\u001b[34mbusiness\u001b[m\u001b[m/      mails_FBI.zip\n"
     ]
    }
   ],
   "source": [
    "ls confidentiel"
   ]
  }
 ],
 "metadata": {
  "kernelspec": {
   "display_name": "Python 3",
   "language": "python",
   "name": "python3"
  },
  "language_info": {
   "codemirror_mode": {
    "name": "ipython",
    "version": 3
   },
   "file_extension": ".py",
   "mimetype": "text/x-python",
   "name": "python",
   "nbconvert_exporter": "python",
   "pygments_lexer": "ipython3",
   "version": "3.9.1"
  }
 },
 "nbformat": 4,
 "nbformat_minor": 5
}
