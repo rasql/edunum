{
 "cells": [
  {
   "cell_type": "markdown",
   "id": "swedish-robin",
   "metadata": {},
   "source": [
    "# Suggestions\n",
    "\n",
    "Couper en 2 leçons\n",
    "- Les systèmes de fichiers\n",
    "- Les mots de passe\n",
    "\n",
    "Utiliser la **Voie Pythonique** (Pythonic way)"
   ]
  },
  {
   "cell_type": "code",
   "execution_count": 1,
   "id": "center-singapore",
   "metadata": {},
   "outputs": [
    {
     "name": "stdout",
     "output_type": "stream",
     "text": [
      "The Zen of Python, by Tim Peters\n",
      "\n",
      "Beautiful is better than ugly.\n",
      "Explicit is better than implicit.\n",
      "Simple is better than complex.\n",
      "Complex is better than complicated.\n",
      "Flat is better than nested.\n",
      "Sparse is better than dense.\n",
      "Readability counts.\n",
      "Special cases aren't special enough to break the rules.\n",
      "Although practicality beats purity.\n",
      "Errors should never pass silently.\n",
      "Unless explicitly silenced.\n",
      "In the face of ambiguity, refuse the temptation to guess.\n",
      "There should be one-- and preferably only one --obvious way to do it.\n",
      "Although that way may not be obvious at first unless you're Dutch.\n",
      "Now is better than never.\n",
      "Although never is often better than *right* now.\n",
      "If the implementation is hard to explain, it's a bad idea.\n",
      "If the implementation is easy to explain, it may be a good idea.\n",
      "Namespaces are one honking great idea -- let's do more of those!\n"
     ]
    }
   ],
   "source": [
    "import this"
   ]
  },
  {
   "cell_type": "markdown",
   "id": "prerequisite-short",
   "metadata": {},
   "source": [
    "## Les systèmes de fichiers\n",
    "\n",
    "Se déplacer et afficher\n",
    "- `pwd`\n",
    "- `cd`\n",
    "- `ls`\n",
    "\n",
    "Créer, supprimer, déplacer des dossier\n",
    "- `mkdir`\n",
    "- `rmdir`\n",
    "- `mv`\n",
    "\n",
    "Dossiers spéciales\n",
    "- `/` root\n",
    "- `~` home (alt+n)\n",
    "- `.` actuel\n",
    "- `..` parent\n",
    "\n",
    "Chemin \n",
    "- absolu\n",
    "- relatif"
   ]
  },
  {
   "cell_type": "markdown",
   "id": "smart-catholic",
   "metadata": {},
   "source": [
    "Vous pouvez lister (`ls`) ce qui se trouve dans votre dossier racine (`/`)"
   ]
  },
  {
   "cell_type": "code",
   "execution_count": 13,
   "id": "three-participation",
   "metadata": {},
   "outputs": [
    {
     "name": "stdout",
     "output_type": "stream",
     "text": [
      "\u001b[34mApplications\u001b[m\u001b[m/              \u001b[35metc\u001b[m\u001b[m@\n",
      "\u001b[34mLibrary\u001b[m\u001b[m/                   \u001b[34mhome\u001b[m\u001b[m/\n",
      "\u001b[34mNetwork\u001b[m\u001b[m/                   installer.failurerequests\n",
      "\u001b[34mSystem\u001b[m\u001b[m/                    \u001b[34mnet\u001b[m\u001b[m/\n",
      "\u001b[34mUsers\u001b[m\u001b[m/                     \u001b[34mopt\u001b[m\u001b[m/\n",
      "\u001b[34mVolumes\u001b[m\u001b[m/                   \u001b[34mprivate\u001b[m\u001b[m/\n",
      "\u001b[34manaconda3\u001b[m\u001b[m/                 \u001b[34msbin\u001b[m\u001b[m/\n",
      "\u001b[34mbin\u001b[m\u001b[m/                       \u001b[35mtmp\u001b[m\u001b[m@\n",
      "\u001b[34mcores\u001b[m\u001b[m/                     \u001b[34musr\u001b[m\u001b[m/\n",
      "\u001b[34mdev\u001b[m\u001b[m/                       \u001b[35mvar\u001b[m\u001b[m@\n"
     ]
    }
   ],
   "source": [
    "ls /"
   ]
  },
  {
   "cell_type": "markdown",
   "id": "jewish-threshold",
   "metadata": {},
   "source": [
    "Vous pouvez afficher (`ls`) ce qui se trouve dans votre dossier actuel (`.`)"
   ]
  },
  {
   "cell_type": "code",
   "execution_count": 2,
   "id": "ordinary-genius",
   "metadata": {},
   "outputs": [
    {
     "name": "stdout",
     "output_type": "stream",
     "text": [
      "Cracker_un_mot_de_passe.ipynb      \u001b[34mdossier-a-cracker\u001b[m\u001b[m/\n",
      "Cracker_un_mot_de_passe_old.ipynb  dossier-a-cracker.zip\n",
      "catch-the-flag.ipynb               ho.ipynb\n"
     ]
    }
   ],
   "source": [
    "ls ."
   ]
  },
  {
   "cell_type": "markdown",
   "id": "casual-sauce",
   "metadata": {},
   "source": [
    "Vous pouvez afficher (`ls`) ce qui se trouve dans votre dossier d'utilisateur (`.`)"
   ]
  },
  {
   "cell_type": "code",
   "execution_count": 3,
   "id": "characteristic-satin",
   "metadata": {},
   "outputs": [
    {
     "name": "stdout",
     "output_type": "stream",
     "text": [
      "\u001b[34mApplications\u001b[m\u001b[m/ \u001b[34mDownloads\u001b[m\u001b[m/    \u001b[35mLocal\u001b[m\u001b[m@        \u001b[34mPictures\u001b[m\u001b[m/\n",
      "\u001b[34mDesktop\u001b[m\u001b[m/      \u001b[35mHo_Reseau\u001b[m\u001b[m@    \u001b[34mMovies\u001b[m\u001b[m/       \u001b[34mPublic\u001b[m\u001b[m/\n",
      "\u001b[34mDocuments\u001b[m\u001b[m/    \u001b[34mLibrary\u001b[m\u001b[m/      \u001b[34mMusic\u001b[m\u001b[m/\n"
     ]
    }
   ],
   "source": [
    "ls ~"
   ]
  },
  {
   "cell_type": "code",
   "execution_count": 14,
   "id": "hidden-preliminary",
   "metadata": {},
   "outputs": [
    {
     "name": "stdout",
     "output_type": "stream",
     "text": [
      "\u001b[34mb2\u001b[m\u001b[m/   \u001b[34mgb\u001b[m\u001b[m/   \u001b[34mho\u001b[m\u001b[m/   \u001b[34mht\u001b[m\u001b[m/   \u001b[34msv\u001b[m\u001b[m/   \u001b[34mth\u001b[m\u001b[m/   \u001b[34mva\u001b[m\u001b[m/   \u001b[34mvike\u001b[m\u001b[m/\n"
     ]
    }
   ],
   "source": [
    "ls ~/.."
   ]
  },
  {
   "cell_type": "markdown",
   "id": "hundred-darkness",
   "metadata": {},
   "source": [
    "## Se déplacer\n",
    "\n",
    "Ou suis-je?"
   ]
  },
  {
   "cell_type": "code",
   "execution_count": 1,
   "id": "beginning-england",
   "metadata": {},
   "outputs": [
    {
     "data": {
      "text/plain": [
       "'/Users/ho/Documents/GitHub/edunum/doc/python/vi/5'"
      ]
     },
     "execution_count": 1,
     "metadata": {},
     "output_type": "execute_result"
    }
   ],
   "source": [
    "pwd"
   ]
  },
  {
   "cell_type": "code",
   "execution_count": 2,
   "id": "political-earth",
   "metadata": {},
   "outputs": [
    {
     "name": "stdout",
     "output_type": "stream",
     "text": [
      "/Users/ho\n"
     ]
    }
   ],
   "source": [
    "cd"
   ]
  },
  {
   "cell_type": "code",
   "execution_count": 3,
   "id": "continent-meditation",
   "metadata": {},
   "outputs": [
    {
     "name": "stdout",
     "output_type": "stream",
     "text": [
      "/Users/ho/Documents/GitHub/edunum/doc/python/vi/5\n"
     ]
    }
   ],
   "source": [
    "cd ~/Documents/GitHub/edunum/doc/python/vi/5"
   ]
  },
  {
   "cell_type": "code",
   "execution_count": 4,
   "id": "brilliant-credit",
   "metadata": {},
   "outputs": [
    {
     "name": "stdout",
     "output_type": "stream",
     "text": [
      "Cracker_un_mot_de_passe.ipynb  dossier-a-cracker.zip\n",
      "catch-the-flag.ipynb           ho.ipynb\n",
      "\u001b[34mdossier-a-cracker\u001b[m\u001b[m/\n"
     ]
    }
   ],
   "source": [
    "ls"
   ]
  },
  {
   "cell_type": "code",
   "execution_count": 5,
   "id": "comparable-august",
   "metadata": {},
   "outputs": [
    {
     "name": "stdout",
     "output_type": "stream",
     "text": [
      "/Users/ho/Documents/GitHub/edunum/doc/python/vi/5/dossier-a-cracker\n"
     ]
    }
   ],
   "source": [
    "cd dossier-a-cracker"
   ]
  },
  {
   "cell_type": "code",
   "execution_count": 6,
   "id": "departmental-terry",
   "metadata": {},
   "outputs": [
    {
     "name": "stdout",
     "output_type": "stream",
     "text": [
      "README.txt     \u001b[34mconfidentiel\u001b[m\u001b[m/  passwords.txt\n"
     ]
    }
   ],
   "source": [
    "ls"
   ]
  },
  {
   "cell_type": "code",
   "execution_count": 7,
   "id": "herbal-surgery",
   "metadata": {},
   "outputs": [
    {
     "name": "stdout",
     "output_type": "stream",
     "text": [
      "Dans cet exercice, nous allons utiliser une technique de hacker pour retrouver un mot de passe inconnu\n"
     ]
    }
   ],
   "source": [
    "cat README.txt"
   ]
  },
  {
   "cell_type": "code",
   "execution_count": 8,
   "id": "extensive-quarterly",
   "metadata": {},
   "outputs": [
    {
     "data": {
      "text/plain": [
       "'/Users/ho/Documents/GitHub/edunum/doc/python/vi/5/dossier-a-cracker'"
      ]
     },
     "execution_count": 8,
     "metadata": {},
     "output_type": "execute_result"
    }
   ],
   "source": [
    "pwd"
   ]
  },
  {
   "cell_type": "code",
   "execution_count": 9,
   "id": "monetary-toddler",
   "metadata": {},
   "outputs": [
    {
     "name": "stdout",
     "output_type": "stream",
     "text": [
      "/Users/ho\n"
     ]
    }
   ],
   "source": [
    "cd"
   ]
  },
  {
   "cell_type": "code",
   "execution_count": 10,
   "id": "valued-delicious",
   "metadata": {},
   "outputs": [
    {
     "data": {
      "text/plain": [
       "'/Users/ho'"
      ]
     },
     "execution_count": 10,
     "metadata": {},
     "output_type": "execute_result"
    }
   ],
   "source": [
    "pwd"
   ]
  },
  {
   "cell_type": "code",
   "execution_count": 11,
   "id": "floating-battle",
   "metadata": {},
   "outputs": [
    {
     "name": "stdout",
     "output_type": "stream",
     "text": [
      "/Users/ho/Documents/GitHub/edunum/doc/python/vi/5/dossier-a-cracker\n"
     ]
    }
   ],
   "source": [
    "cd Documents/GitHub/edunum/doc/python/vi/5/dossier-a-cracker"
   ]
  },
  {
   "cell_type": "code",
   "execution_count": 12,
   "id": "characteristic-record",
   "metadata": {},
   "outputs": [
    {
     "name": "stdout",
     "output_type": "stream",
     "text": [
      "README.txt     \u001b[34mconfidentiel\u001b[m\u001b[m/  passwords.txt\n"
     ]
    }
   ],
   "source": [
    "ls"
   ]
  },
  {
   "cell_type": "markdown",
   "id": "boring-occasions",
   "metadata": {},
   "source": [
    "# Les mots de passe\n",
    "\n",
    "Pourquoi\n",
    "- nom d'utilisateur (publique)\n",
    "- mot de passe (secret)\n",
    "\n",
    "## Lire un fichier dans une liste"
   ]
  },
  {
   "cell_type": "code",
   "execution_count": 5,
   "id": "sexual-bulletin",
   "metadata": {},
   "outputs": [
    {
     "name": "stdout",
     "output_type": "stream",
     "text": [
      "/home/vkeller/edunum/doc/python/vi/5/dossier-a-cracker\n"
     ]
    }
   ],
   "source": [
    "cd dossier-a-cracker"
   ]
  },
  {
   "cell_type": "code",
   "execution_count": 6,
   "id": "virgin-zambia",
   "metadata": {},
   "outputs": [],
   "source": [
    "passwords = [line.rstrip() for line in open('passwords.txt')]"
   ]
  },
  {
   "cell_type": "code",
   "execution_count": 7,
   "id": "distant-supervisor",
   "metadata": {},
   "outputs": [
    {
     "data": {
      "text/plain": [
       "list"
      ]
     },
     "execution_count": 7,
     "metadata": {},
     "output_type": "execute_result"
    }
   ],
   "source": [
    "type(passwords)"
   ]
  },
  {
   "cell_type": "code",
   "execution_count": 8,
   "id": "fantastic-clause",
   "metadata": {},
   "outputs": [
    {
     "data": {
      "text/plain": [
       "20000"
      ]
     },
     "execution_count": 8,
     "metadata": {},
     "output_type": "execute_result"
    }
   ],
   "source": [
    "len(passwords)"
   ]
  },
  {
   "cell_type": "code",
   "execution_count": 16,
   "id": "dynamic-major",
   "metadata": {},
   "outputs": [
    {
     "data": {
      "text/plain": [
       "'/Users/ho/Documents/GitHub/edunum/doc/python/vi/5/dossier-a-cracker'"
      ]
     },
     "execution_count": 16,
     "metadata": {},
     "output_type": "execute_result"
    }
   ],
   "source": [
    "pwd"
   ]
  },
  {
   "cell_type": "markdown",
   "id": "external-sodium",
   "metadata": {},
   "source": [
    "## Accéder aux élément d'une liste\n",
    "L'opérateur de tranche `[m:n]` permet d'accéder à des sous ensembles\n",
    "\n",
    "- `[m:n]` de m jusqu'à (n-1)\n",
    "- `[:n]` du début jusqu'à (n-1)\n",
    "- `[m:]` de m jusqu'à la fin\n",
    "\n",
    "Un index negatif compte depuis la fin"
   ]
  },
  {
   "cell_type": "code",
   "execution_count": 40,
   "id": "front-shark",
   "metadata": {},
   "outputs": [
    {
     "data": {
      "text/plain": [
       "['123456', '123456789', 'azerty', '1234561', 'qwerty']"
      ]
     },
     "execution_count": 40,
     "metadata": {},
     "output_type": "execute_result"
    }
   ],
   "source": [
    "passwords[:5]"
   ]
  },
  {
   "cell_type": "code",
   "execution_count": 32,
   "id": "refined-trick",
   "metadata": {},
   "outputs": [
    {
     "data": {
      "text/plain": [
       "'esther'"
      ]
     },
     "execution_count": 32,
     "metadata": {},
     "output_type": "execute_result"
    }
   ],
   "source": [
    "passwords[1000]"
   ]
  },
  {
   "cell_type": "code",
   "execution_count": 39,
   "id": "premier-championship",
   "metadata": {},
   "outputs": [
    {
     "data": {
      "text/plain": [
       "['brazza', 'bonjour12', 'blueberry1', 'blood1', 'bio']"
      ]
     },
     "execution_count": 39,
     "metadata": {},
     "output_type": "execute_result"
    }
   ],
   "source": [
    "passwords[-5:]"
   ]
  },
  {
   "cell_type": "code",
   "execution_count": 36,
   "id": "featured-chick",
   "metadata": {},
   "outputs": [
    {
     "data": {
      "text/plain": [
       "'bio'"
      ]
     },
     "execution_count": 36,
     "metadata": {},
     "output_type": "execute_result"
    }
   ],
   "source": [
    "passwords[-1]"
   ]
  },
  {
   "cell_type": "markdown",
   "id": "smaller-board",
   "metadata": {},
   "source": [
    "## Vérifier si un mot est dans la liste\n",
    "\n",
    "Utiliser toujours la **Voie Pythonique**.\n",
    "\n",
    "L'opérateur `in` permet de verifier si un mot est dans une liste."
   ]
  },
  {
   "cell_type": "code",
   "execution_count": 33,
   "id": "vital-assist",
   "metadata": {},
   "outputs": [
    {
     "data": {
      "text/plain": [
       "True"
      ]
     },
     "execution_count": 33,
     "metadata": {},
     "output_type": "execute_result"
    }
   ],
   "source": [
    "'iloveyou' in passwords"
   ]
  },
  {
   "cell_type": "code",
   "execution_count": 59,
   "id": "inappropriate-tonight",
   "metadata": {},
   "outputs": [
    {
     "data": {
      "text/plain": [
       "True"
      ]
     },
     "execution_count": 59,
     "metadata": {},
     "output_type": "execute_result"
    }
   ],
   "source": [
    "'cristiano7' in passwords"
   ]
  },
  {
   "cell_type": "code",
   "execution_count": 35,
   "id": "painful-perspective",
   "metadata": {},
   "outputs": [
    {
     "data": {
      "text/plain": [
       "False"
      ]
     },
     "execution_count": 35,
     "metadata": {},
     "output_type": "execute_result"
    }
   ],
   "source": [
    "'licorne2' in passwords"
   ]
  },
  {
   "cell_type": "code",
   "execution_count": 37,
   "id": "previous-africa",
   "metadata": {},
   "outputs": [
    {
     "name": "stdin",
     "output_type": "stream",
     "text": [
      "Entrez un mot de passe bio\n"
     ]
    },
    {
     "name": "stdout",
     "output_type": "stream",
     "text": [
      "True\n"
     ]
    },
    {
     "name": "stdin",
     "output_type": "stream",
     "text": [
      "Entrez un mot de passe: 123\n"
     ]
    },
    {
     "name": "stdout",
     "output_type": "stream",
     "text": [
      "True\n"
     ]
    },
    {
     "name": "stdin",
     "output_type": "stream",
     "text": [
      "Entrez un mot de passe: 1234\n"
     ]
    },
    {
     "name": "stdout",
     "output_type": "stream",
     "text": [
      "True\n"
     ]
    },
    {
     "name": "stdin",
     "output_type": "stream",
     "text": [
      "Entrez un mot de passe: raphael\n"
     ]
    },
    {
     "name": "stdout",
     "output_type": "stream",
     "text": [
      "True\n"
     ]
    },
    {
     "name": "stdin",
     "output_type": "stream",
     "text": [
      "Entrez un mot de passe: raph12\n"
     ]
    },
    {
     "name": "stdout",
     "output_type": "stream",
     "text": [
      "False\n"
     ]
    },
    {
     "name": "stdin",
     "output_type": "stream",
     "text": [
      "Entrez un mot de passe: hector\n"
     ]
    },
    {
     "name": "stdout",
     "output_type": "stream",
     "text": [
      "True\n"
     ]
    },
    {
     "name": "stdin",
     "output_type": "stream",
     "text": [
      "Entrez un mot de passe: elsa\n"
     ]
    },
    {
     "name": "stdout",
     "output_type": "stream",
     "text": [
      "True\n"
     ]
    },
    {
     "name": "stdin",
     "output_type": "stream",
     "text": [
      "Entrez un mot de passe: elephant\n"
     ]
    },
    {
     "name": "stdout",
     "output_type": "stream",
     "text": [
      "True\n"
     ]
    },
    {
     "name": "stdin",
     "output_type": "stream",
     "text": [
      "Entrez un mot de passe: arbre\n"
     ]
    },
    {
     "name": "stdout",
     "output_type": "stream",
     "text": [
      "False\n"
     ]
    },
    {
     "name": "stdin",
     "output_type": "stream",
     "text": [
      "Entrez un mot de passe: password\n"
     ]
    },
    {
     "name": "stdout",
     "output_type": "stream",
     "text": [
      "True\n"
     ]
    },
    {
     "name": "stdin",
     "output_type": "stream",
     "text": [
      "Entrez un mot de passe: motdepasse\n"
     ]
    },
    {
     "name": "stdout",
     "output_type": "stream",
     "text": [
      "True\n"
     ]
    },
    {
     "name": "stdin",
     "output_type": "stream",
     "text": [
      "Entrez un mot de passe: \n"
     ]
    }
   ],
   "source": [
    "mot = input('Entrez un mot de passe')\n",
    "while len(mot) > 0:\n",
    "    print(mot in passwords)\n",
    "    mot = input('Entrez un mot de passe:')"
   ]
  },
  {
   "cell_type": "code",
   "execution_count": 60,
   "id": "fluid-judge",
   "metadata": {},
   "outputs": [
    {
     "data": {
      "text/plain": [
       "True"
      ]
     },
     "execution_count": 60,
     "metadata": {},
     "output_type": "execute_result"
    }
   ],
   "source": [
    "'coucou2' in passwords"
   ]
  },
  {
   "cell_type": "markdown",
   "id": "sexual-checkout",
   "metadata": {},
   "source": [
    "## Majuscule-minuscule\n",
    "\n",
    "Montrer des exemple avec upper/lower"
   ]
  },
  {
   "cell_type": "code",
   "execution_count": 55,
   "id": "private-recipe",
   "metadata": {},
   "outputs": [
    {
     "data": {
      "text/plain": [
       "'motdepasse'"
      ]
     },
     "execution_count": 55,
     "metadata": {},
     "output_type": "execute_result"
    }
   ],
   "source": [
    "'MotDePasse'.lower()"
   ]
  },
  {
   "cell_type": "code",
   "execution_count": 48,
   "id": "separated-rogers",
   "metadata": {},
   "outputs": [
    {
     "data": {
      "text/plain": [
       "'MOTDEPASSE'"
      ]
     },
     "execution_count": 48,
     "metadata": {},
     "output_type": "execute_result"
    }
   ],
   "source": [
    "'MotDePasse'.upper()"
   ]
  },
  {
   "cell_type": "code",
   "execution_count": 52,
   "id": "incomplete-constant",
   "metadata": {},
   "outputs": [],
   "source": [
    "def mdp_existe_maj_min(mdp):\n",
    "    \n",
    "    if mdp.lower() in passwords:\n",
    "        print(mdp,'existe dans la liste sous la forme', mdp.lower())\n",
    "    else:\n",
    "        print(mdp,'n\\'existe PAS dans la liste')"
   ]
  },
  {
   "cell_type": "code",
   "execution_count": 53,
   "id": "realistic-track",
   "metadata": {},
   "outputs": [
    {
     "name": "stdout",
     "output_type": "stream",
     "text": [
      "CouCou2 existe dans la liste sous la forme coucou2\n"
     ]
    }
   ],
   "source": [
    "mdp_existe_maj_min('CouCou2')"
   ]
  },
  {
   "cell_type": "code",
   "execution_count": 54,
   "id": "australian-economics",
   "metadata": {},
   "outputs": [
    {
     "name": "stdout",
     "output_type": "stream",
     "text": [
      "CouCou23 n'existe PAS dans la liste\n"
     ]
    }
   ],
   "source": [
    "mdp_existe_maj_min('CouCou23')"
   ]
  },
  {
   "cell_type": "markdown",
   "id": "strategic-nightmare",
   "metadata": {},
   "source": [
    "## Zip\n",
    "montrer comment proteguer un fichier"
   ]
  },
  {
   "cell_type": "code",
   "execution_count": 61,
   "id": "chubby-nigeria",
   "metadata": {},
   "outputs": [
    {
     "name": "stdout",
     "output_type": "stream",
     "text": [
      "coucou\n",
      "cou\n",
      "couscous\n",
      "scoubidou\n",
      "courage\n",
      "counter\n",
      "coumba\n",
      "coucou1\n",
      "country\n",
      "cousin\n",
      "couille\n",
      "concours\n",
      "COUCOU\n",
      "coulibaly\n",
      "couleur\n",
      "cougar\n",
      "courgette\n",
      "courrier\n",
      "couture\n",
      "coupet\n",
      "couple\n",
      "moscou\n",
      "macouille\n",
      "yacouba\n",
      "couette\n",
      "coucou123\n",
      "surcouf\n",
      "courtney\n",
      "couvreur\n",
      "vancouver\n",
      "scoubi\n",
      "cousine\n",
      "secourisme\n",
      "counter1\n",
      "coucoune\n",
      "secours\n",
      "course\n",
      "couilles\n",
      "account1\n",
      "couverture\n",
      "coucou12\n",
      "account\n",
      "baracouda\n",
      "coucoucou\n",
      "courbevoie\n",
      "ricounet\n",
      "coucou!\n",
      "courage1\n",
      "counterstrike\n",
      "coucou2\n",
      "coucou10\n",
      "couscous1\n",
      "mescouilles\n",
      "couponSC10\n",
      "scouby\n",
      "jacouille\n",
      "coucoucmoi\n",
      "coucou01\n",
      "ricou\n",
      "couillon\n"
     ]
    }
   ],
   "source": [
    "!cat passwords.txt | grep -i 'cou'"
   ]
  },
  {
   "cell_type": "code",
   "execution_count": 65,
   "id": "filled-uzbekistan",
   "metadata": {},
   "outputs": [],
   "source": [
    "!touch secret.txt\n",
    "!echo \"mon secret\" > secret.txt"
   ]
  },
  {
   "cell_type": "code",
   "execution_count": 66,
   "id": "graphic-cholesterol",
   "metadata": {},
   "outputs": [
    {
     "name": "stdout",
     "output_type": "stream",
     "text": [
      "README.txt    \u001b[34mconfidentiel\u001b[m\u001b[m  passwords.txt secret.txt\n"
     ]
    }
   ],
   "source": [
    "!ls"
   ]
  },
  {
   "cell_type": "code",
   "execution_count": 67,
   "id": "attached-animal",
   "metadata": {},
   "outputs": [
    {
     "name": "stdout",
     "output_type": "stream",
     "text": [
      "mon secret\n"
     ]
    }
   ],
   "source": [
    "cat secret.txt"
   ]
  },
  {
   "cell_type": "markdown",
   "id": "willing-worth",
   "metadata": {},
   "source": [
    "## Compresser un fichier\n",
    "\n",
    "La commande `zip` permet de compresser un ou plusieurs fichiers dans une archive."
   ]
  },
  {
   "cell_type": "code",
   "execution_count": 85,
   "id": "hired-activation",
   "metadata": {},
   "outputs": [
    {
     "name": "stdout",
     "output_type": "stream",
     "text": [
      "updating: passwords.txt (deflated 50%)\n"
     ]
    }
   ],
   "source": [
    "!zip passwords.zip passwords.txt"
   ]
  },
  {
   "cell_type": "code",
   "execution_count": 86,
   "id": "successful-engagement",
   "metadata": {},
   "outputs": [
    {
     "name": "stdout",
     "output_type": "stream",
     "text": [
      "total 488\n",
      "-rw-r--r--  1 ho  BUGNON\\Utilisateurs du domaine     103 25 mar 09:35 README.txt\n",
      "drwxr-xr-x  4 ho  BUGNON\\Utilisateurs du domaine     136 25 mar 09:35 \u001b[34mconfidentiel\u001b[m\u001b[m/\n",
      "-rw-r--r--  1 ho  BUGNON\\Utilisateurs du domaine  154946 18 fév 07:51 passwords.txt\n",
      "-rw-r--r--  1 ho  BUGNON\\Utilisateurs du domaine   78175 25 mar 11:48 passwords.zip\n",
      "-rw-r--r--  1 ho  BUGNON\\Utilisateurs du domaine      11 25 mar 11:31 secret.txt\n",
      "-rw-r--r--  1 ho  BUGNON\\Utilisateurs du domaine     209 25 mar 11:34 secret.zip\n"
     ]
    }
   ],
   "source": [
    "ll"
   ]
  },
  {
   "cell_type": "markdown",
   "id": "inner-wilderness",
   "metadata": {},
   "source": [
    "## Attaque par force brute"
   ]
  },
  {
   "cell_type": "code",
   "execution_count": 73,
   "id": "dated-surge",
   "metadata": {},
   "outputs": [],
   "source": [
    "import subprocess\n",
    "def check_ret(mdp,archive):\n",
    "    rc = -1\n",
    "    p1 = subprocess.Popen(['unzip', '-t','-q', '-P', mdp,archive])\n",
    "    p1.wait()\n",
    "    rc = p1.returncode\n",
    "    p1.kill()\n",
    "    return rc"
   ]
  },
  {
   "cell_type": "code",
   "execution_count": null,
   "id": "creative-sailing",
   "metadata": {},
   "outputs": [],
   "source": [
    "i = 1\n",
    "print('Password Cracker')\n",
    "print('Start Brute Force Attack')\n",
    "for mdp in passwords:\n",
    "    ret = check_ret(mdp,'confidentiel/mails_FBI.zip')\n",
    "    if (i%500 == 0):\n",
    "        print(i, 'target', mdp)\n",
    "    i += 1    \n",
    "    if ret == 0:\n",
    "        print('Le mot de passe est :',mdp)\n",
    "        break"
   ]
  },
  {
   "cell_type": "code",
   "execution_count": 90,
   "id": "swedish-colonial",
   "metadata": {},
   "outputs": [
    {
     "name": "stdout",
     "output_type": "stream",
     "text": [
      "README.txt     passwords.txt  secret.txt\n",
      "\u001b[34mconfidentiel\u001b[m\u001b[m/  passwords.zip  secret.zip\n"
     ]
    }
   ],
   "source": [
    "ls"
   ]
  },
  {
   "cell_type": "code",
   "execution_count": 78,
   "id": "eligible-television",
   "metadata": {},
   "outputs": [
    {
     "name": "stdout",
     "output_type": "stream",
     "text": [
      "\u001b[34mbusiness\u001b[m\u001b[m/      mails_FBI.zip\n"
     ]
    }
   ],
   "source": [
    "ls confidentiel"
   ]
  }
 ],
 "metadata": {
  "kernelspec": {
   "display_name": "Python 3",
   "language": "python",
   "name": "python3"
  },
  "language_info": {
   "codemirror_mode": {
    "name": "ipython",
    "version": 3
   },
   "file_extension": ".py",
   "mimetype": "text/x-python",
   "name": "python",
   "nbconvert_exporter": "python",
   "pygments_lexer": "ipython3",
   "version": "3.9.1"
  }
 },
 "nbformat": 4,
 "nbformat_minor": 5
}
