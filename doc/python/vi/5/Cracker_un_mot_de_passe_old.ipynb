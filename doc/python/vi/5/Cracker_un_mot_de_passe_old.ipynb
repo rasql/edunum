{
 "cells": [
  {
   "cell_type": "markdown",
   "id": "sound-president",
   "metadata": {},
   "source": [
    "# Protection des données\n",
    "\n",
    "Internet est un monde **ouvert** où tout est accessible. Il est donc très important de protéger ses données **sensibles** (tout ce qui touche à votre vie privée). \n",
    "\n",
    "![](https://upload.wikimedia.org/wikipedia/commons/thumb/a/a6/Anonymous_emblem.svg/480px-Anonymous_emblem.svg.png)\n",
    "\n",
    "## Objectifs\n",
    "\n",
    "1. Comprendre le système de fichiers UNIX (MacOS X)\n",
    "1. Comprendre l'importance d'un bon mot de passe"
   ]
  },
  {
   "cell_type": "markdown",
   "id": "lasting-bidder",
   "metadata": {},
   "source": [
    "## Télécharger un fichier\n",
    "\n",
    "* Depuis moodle, téléchargez le dossier ```dossier-a-hacker.zip```\n",
    "* Depuis le dossier ```Téléchargements``` tirez le dossier ```dossier-a-hacker``` dans l'explorateur de fichiers de jupyter-lab"
   ]
  },
  {
   "cell_type": "markdown",
   "id": "ranging-affiliation",
   "metadata": {},
   "source": [
    "# (1) Le système de fichiers\n",
    "\n",
    "## Bien ranger pour mieux retrouver\n",
    "\n",
    "Votre ordinateur stocke des données localement. Sur un ordinateur Mac, chaque donnée est un fichier. Chaque fichier peut se trouver dans un dossier qui lui même peut se trouver dans un autre dossier. C'est une structure en arbre ou une **arborescence** où la racine est représentée par le signe ```/```:\n",
    "\n",
    "![](https://pixees.fr/informatiquelycee/n_site/img/nsi_prem_base_linux_2.png)\n",
    "\n",
    "Vous pouvez retrouver cette arborescence sous forme graphique dans le finder:\n",
    "\n",
    "![](https://osxdaily.com/wp-content/uploads/2010/02/mac-os-x-finder-column-view.JPG)\n",
    "\n",
    "où chaque colonne représente un niveau dans la structure représentée par un nouveau dossier.\n",
    "\n",
    "## Se déplacer et afficher\n",
    "- `pwd` : (*print working directory*) affiche le chemin du répertoire où nous nous trouvons \n",
    "- `cd`: (*change directory*) change de répertoire\n",
    "- `ls` : (*list*) affiche le contenu du répertoire où nous nous trouvons\n",
    "\n",
    "## Créer, supprimer, déplacer des dossier\n",
    "- `mkdir` : (*make directory*) créé un nouveau dossier\n",
    "- `rmdir` : (*remove directory*) supprime un dossier\n",
    "- `mv` : (*move*) déplace un dossier\n",
    "\n",
    "## Dossiers spéciaux\n",
    "- `/` root (racine)\n",
    "- `~` home (alt+n)\n",
    "- `.` actuel\n",
    "- `..` parent\n",
    "\n",
    "## Chemin \n",
    "\n",
    "Chaque fichier possède donc un chemin **absolu** depuis la racine. Par exemple le fichier ```README.txt``` qui se trouve dans le répertoire ```dossier-a-cracker``` possède le chemin ```/home/L12345/dossier-a-cracker/README.txt``` (le second dossier ```L12345``` sera différent pour vous : c'est votre identifiant à la place)\n",
    "\n",
    "Ce chemin se retrouve dans propriétés du fichier (clic droit : ```Get info```) (FIXME : écrire la version française !!)\n",
    "\n",
    "Mais il a aussi un chemin **relatif** en utilisant les dossiers spéciaux `.` (actuel) et `..` (parent). Si nous nous trouvons dans le dossier ```/home/L12345```, alors le fichier ```README.txt``` possède le chemin relatif ```./dossier-a-cracker/README.txt```\n",
    "\n",
    "## Rappel des commandes\n",
    "\n",
    "Plusieurs commandes sont importantes à connaître :\n",
    "\n",
    "| Commande  | paramètre |  Résultat  | exemple | \n",
    "|---|---|---|---|\n",
    "| ```pwd```  | | affiche le chemin du répertoire où nous nous trouvons  | ```pwd``` |\n",
    "| ```cd```  | nom du répertoire | change de répertoire |```cd dossier-a-cracker``` va aller dans le répertoire ```dossier-a-cracker``` |\n",
    "| | | | ```cd .. ``` va aller dans le répertoire parent|\n",
    "| ```ls```  | | affiche le contenu du répertoire où nous nous trouvons | ```ls``` |\n",
    "| ```mkdir```  | | créé un nouveau dossier | ```mkdir nouveau_dossier``` |\n",
    "| ```rmdir```  | | supprime un dossier | ```rmdir nouveau_dossier``` |\n",
    "| ```mv```  | | déplace un dossier | ```mv nouveau_dossier ..``` |\n",
    "| ```cat```  | un nom de fichier | Affiche le contenu d'un fichier (attention : seulement les fichiers de type texte) | ```cat README.txt``` va afficher le contenu du fichier ```README.txt``` |\n"
   ]
  },
  {
   "cell_type": "markdown",
   "id": "frank-divide",
   "metadata": {},
   "source": [
    "## Exercices\n",
    "\n",
    "Utilisez les commandes UNIX pour répondre aux questions\n",
    "\n",
    "## Se déplacer\n",
    "\n",
    "Ou suis-je?"
   ]
  },
  {
   "cell_type": "code",
   "execution_count": 1,
   "id": "bearing-japan",
   "metadata": {},
   "outputs": [
    {
     "data": {
      "text/plain": [
       "'/home/vkeller/edunum/doc/python/vi/5'"
      ]
     },
     "execution_count": 1,
     "metadata": {},
     "output_type": "execute_result"
    }
   ],
   "source": [
    "pwd"
   ]
  },
  {
   "cell_type": "markdown",
   "id": "thick-particle",
   "metadata": {},
   "source": [
    "Allez dans à la racine de l'arborescence"
   ]
  },
  {
   "cell_type": "code",
   "execution_count": 2,
   "id": "marine-married",
   "metadata": {},
   "outputs": [
    {
     "name": "stdout",
     "output_type": "stream",
     "text": [
      "/\n"
     ]
    }
   ],
   "source": [
    "cd /"
   ]
  },
  {
   "cell_type": "markdown",
   "id": "alpine-pharmacology",
   "metadata": {},
   "source": [
    "Vérifiez que vous êtes à la racine (réponse attendue : ```'/'```)"
   ]
  },
  {
   "cell_type": "code",
   "execution_count": 4,
   "id": "faced-brush",
   "metadata": {},
   "outputs": [
    {
     "data": {
      "text/plain": [
       "'/'"
      ]
     },
     "execution_count": 4,
     "metadata": {},
     "output_type": "execute_result"
    }
   ],
   "source": [
    "pwd"
   ]
  },
  {
   "cell_type": "markdown",
   "id": "starting-pierre",
   "metadata": {},
   "source": [
    "Listez les dossiers du répertoire racine"
   ]
  },
  {
   "cell_type": "code",
   "execution_count": 5,
   "id": "refined-mistress",
   "metadata": {},
   "outputs": [
    {
     "name": "stdout",
     "output_type": "stream",
     "text": [
      "\u001b[0m\u001b[01;34mbin\u001b[0m/   \u001b[01;36minitrd.img\u001b[0m@      \u001b[01;34mmedia\u001b[0m/  \u001b[01;34mrun\u001b[0m/        \u001b[01;34msys\u001b[0m/        \u001b[01;36mvmlinuz\u001b[0m@\n",
      "\u001b[01;34mboot\u001b[0m/  \u001b[01;36minitrd.img.old\u001b[0m@  \u001b[01;34mmnt\u001b[0m/    \u001b[01;34msbin\u001b[0m/       \u001b[01;34mtimeshift\u001b[0m/  \u001b[01;36mvmlinuz.old\u001b[0m@\n",
      "\u001b[01;34mdev\u001b[0m/   \u001b[01;34mlib\u001b[0m/             \u001b[01;34mopt\u001b[0m/    \u001b[01;36msoftware\u001b[0m@   \u001b[30;42mtmp\u001b[0m/\n",
      "\u001b[01;34metc\u001b[0m/   \u001b[01;34mlib64\u001b[0m/           \u001b[01;34mproc\u001b[0m/   \u001b[01;34msoftwarel\u001b[0m/  \u001b[01;34musr\u001b[0m/\n",
      "\u001b[01;34mhome\u001b[0m/  \u001b[01;34mlost+found\u001b[0m/      \u001b[01;34mroot\u001b[0m/   \u001b[01;34msrv\u001b[0m/        \u001b[01;34mvar\u001b[0m/\n"
     ]
    }
   ],
   "source": [
    "ls"
   ]
  },
  {
   "cell_type": "markdown",
   "id": "informed-dallas",
   "metadata": {},
   "source": [
    "Retournez dans votre home"
   ]
  },
  {
   "cell_type": "code",
   "execution_count": 6,
   "id": "ruled-cheat",
   "metadata": {},
   "outputs": [
    {
     "name": "stdout",
     "output_type": "stream",
     "text": [
      "/home/vkeller\n"
     ]
    }
   ],
   "source": [
    "cd ~"
   ]
  },
  {
   "cell_type": "markdown",
   "id": "sunset-power",
   "metadata": {},
   "source": [
    "Créez un nouveau dossier appelé ```nouveau_dossier```"
   ]
  },
  {
   "cell_type": "code",
   "execution_count": 7,
   "id": "refined-economics",
   "metadata": {},
   "outputs": [],
   "source": [
    "mkdir nouveau_dossier"
   ]
  },
  {
   "cell_type": "markdown",
   "id": "solar-horse",
   "metadata": {},
   "source": [
    "listez les dossiers et vérifiez qu'il a été créé"
   ]
  },
  {
   "cell_type": "code",
   "execution_count": 8,
   "id": "cosmetic-conducting",
   "metadata": {},
   "outputs": [
    {
     "name": "stdout",
     "output_type": "stream",
     "text": [
      "2 couturie??res et re??troactifs.docx\n",
      "200515_CP_Processus_Ecole_COVID19_VF.pdf\n",
      "200610_04_05_Covid-19_Bulletin_rens85.pdf\n",
      "2020.11.26.20239368v1.full.pdf\n",
      "20200510 Motion aide a?? la presse_v3.doc\n",
      "2020_initiative_consti_proportionnelle_executifs-1.pdf\n",
      "24Heures-Autoroutes-03.02.2020.pdf\n",
      "24Heures-Interview-04.05.2020.pdf\n",
      "24Heures-Ravenel-13.01.2020.pdf\n",
      "8duj25us.iso\n",
      "\u001b[0m\u001b[01;35mAD.jpg\u001b[0m\n",
      "\u001b[01;34mALBUM-CHANTAL\u001b[0m/\n",
      "\u001b[01;34mALBUM-CHANTAL-Couverture\u001b[0m/\n",
      "\u001b[01;34mANDROID-STUDIO\u001b[0m/\n",
      "\u001b[01;34mAdobe\u001b[0m/\n",
      "\u001b[01;34mAlexandra\u001b[0m/\n",
      "\u001b[01;34mAlfio\u001b[0m/\n",
      "\u001b[01;34mAndroid\u001b[0m/\n",
      "\u001b[01;34mAndroidStudioProjects\u001b[0m/\n",
      "\u001b[01;34mArchives\u001b[0m/\n",
      "\u001b[01;34mAudiobooks\u001b[0m/\n",
      "BENVENTISTE-MEMOIRE-DE-L-EAU.pdf\n",
      "\u001b[01;34mBITCOIN\u001b[0m/\n",
      "\u001b[01;34mBROTHER\u001b[0m/\n",
      "\u001b[01;34mBackup-Samsung\u001b[0m/\n",
      "\u001b[01;34mBellatrix\u001b[0m/\n",
      "\u001b[01;34mBenchmarks\u001b[0m/\n",
      "\u001b[01;34mBiblioth??que calibre\u001b[0m/\n",
      "\u001b[01;34mBorel\u001b[0m/\n",
      "Bulletin de paie_202001.pdf\n",
      "\u001b[01;34mBureau\u001b[0m/\n",
      "\u001b[01;34mCADMOS\u001b[0m/\n",
      "\u001b[01;34mCAFFE\u001b[0m/\n",
      "\u001b[01;34mCC\u001b[0m/\n",
      "\u001b[01;34mCC-Preavis19\u001b[0m/\n",
      "\u001b[01;34mCC18.03.2021\u001b[0m/\n",
      "\u001b[01;34mCCD\u001b[0m/\n",
      "\u001b[01;34mCECILIA\u001b[0m/\n",
      "\u001b[01;34mCERN\u001b[0m/\n",
      "\u001b[01;34mCEWE\u001b[0m/\n",
      "\u001b[01;34mCHANTAL\u001b[0m/\n",
      "\u001b[01;34mCHEPIGA\u001b[0m/\n",
      "\u001b[01;34mCHVote\u001b[0m/\n",
      "\u001b[01;34mCISCO\u001b[0m/\n",
      "\u001b[01;34mCP2K\u001b[0m/\n",
      "\u001b[01;34mCROQCINELLE\u001b[0m/\n",
      "\u001b[01;34mCSE\u001b[0m/\n",
      "\u001b[01;34mCV\u001b[0m/\n",
      "\u001b[01;35mCapture du 2020-04-05 17-07-52.png\u001b[0m\n",
      "\u001b[01;34mCartesPostales\u001b[0m/\n",
      "\u001b[01;34mCartonRouge\u001b[0m/\n",
      "\u001b[00;36mChantage.mp3\u001b[0m\n",
      "\u001b[01;34mCoeurDeVille\u001b[0m/\n",
      "\u001b[01;35mConsignes et recommandations.png\u001b[0m\n",
      "Converged.out\n",
      "\u001b[01;34mCoordinatorCSE\u001b[0m/\n",
      "\u001b[01;35mCouleur-Domaterra-TD105F-vert-deau.jpg\u001b[0m\n",
      "\u001b[01;34mCoursFortran\u001b[0m/\n",
      "\u001b[01;34mCrevette\u001b[0m/\n",
      "\u001b[01;34mCuxac\u001b[0m/\n",
      "\u001b[01;34mDEISA\u001b[0m/\n",
      "\u001b[01;34mDUAL_PHYSICS\u001b[0m/\n",
      "Demande d'autorisation de filmer pour les stagiaires.pdf\n",
      "\u001b[01;34mDocuments\u001b[0m/\n",
      "\u001b[01;34mDropbox\u001b[0m/\n",
      "\u001b[01;34mECLIPSE-DOWNLOAD\u001b[0m/\n",
      "\u001b[01;34mECLIPSE-HERSCH-MPI\u001b[0m/\n",
      "\u001b[01;34mEDUROAM\u001b[0m/\n",
      "EMPD-210.pdf\n",
      "\u001b[01;34mEPFL-CertificatSalaire\u001b[0m/\n",
      "\u001b[01;32mEPFL.pcf\u001b[0m*\n",
      "\u001b[01;34mEVOTING-LaPoste\u001b[0m/\n",
      "\u001b[01;34mElectionsRenens\u001b[0m/\n",
      "\u001b[01;34mEnregistrements\u001b[0m/\n",
      "\u001b[01;34mEratosthene\u001b[0m/\n",
      "\u001b[01;34mEthiersteinman\u001b[0m/\n",
      "\u001b[01;34mEulalia\u001b[0m/\n",
      "Exam-PHSY743.pdf\n",
      "\u001b[01;34mFEM\u001b[0m/\n",
      "\u001b[01;34mFEM1D\u001b[0m/\n",
      "\u001b[01;34mFEM1D-Matlab\u001b[0m/\n",
      "\u001b[01;34mFFTW\u001b[0m/\n",
      "FR-Marta.txt\n",
      "\u001b[01;34mFREEFEM\u001b[0m/\n",
      "\u001b[01;34mFS\u001b[0m/\n",
      "Failed.out\n",
      "\u001b[01;34mFeteDesVoisins\u001b[0m/\n",
      "\u001b[01;34mFilms\u001b[0m/\n",
      "\u001b[01;34mFlash\u001b[0m/\n",
      "\u001b[01;34mFlashInformatique\u001b[0m/\n",
      "\u001b[01;34mFutureGenerationProcessorsMons\u001b[0m/\n",
      "\u001b[01;34mFutureGenerationProcessorsMons2\u001b[0m/\n",
      "\u001b[01;34mGADGET-2\u001b[0m/\n",
      "\u001b[01;34mGALAXY\u001b[0m/\n",
      "\u001b[01;34mGASPI\u001b[0m/\n",
      "\u001b[01;34mGBS\u001b[0m/\n",
      "\u001b[01;34mGIT-EPFL\u001b[0m/\n",
      "GPU computing 1(1).pdf\n",
      "\u001b[01;34mGYROKINETICS\u001b[0m/\n",
      "\u001b[01;34mGallet\u001b[0m/\n",
      "\u001b[01;34mGeekbench-5.0.4-Linux\u001b[0m/\n",
      "\u001b[01;31mGeekbench-5.0.4-Linux.tar.gz\u001b[0m\n",
      "\u001b[01;34mGilles-Software\u001b[0m/\n",
      "\u001b[01;34mGoekce\u001b[0m/\n",
      "\u001b[01;34mGross\u001b[0m/\n",
      "\u001b[01;34mGwenol\u001b[0m/\n",
      "\u001b[01;34mHEP\u001b[0m/\n",
      "\u001b[01;34mHEP-cigares\u001b[0m/\n",
      "\u001b[01;34mHP\u001b[0m/\n",
      "\u001b[01;34mHPC500\u001b[0m/\n",
      "\u001b[01;34mHPCCH\u001b[0m/\n",
      "\u001b[01;34mHPCGAM\u001b[0m/\n",
      "\u001b[01;31mHPCGAM.tar.gz\u001b[0m\n",
      "\u001b[01;34mHeatEquation\u001b[0m/\n",
      "\u001b[01;34mHersch\u001b[0m/\n",
      "\u001b[01;34mHersch2012\u001b[0m/\n",
      "\u001b[01;34mIANOS\u001b[0m/\n",
      "\u001b[01;34mINTEL-AI-WORKSHOP\u001b[0m/\n",
      "\u001b[01;34mINTEL-DOWNLOADS\u001b[0m/\n",
      "\u001b[01;34mISC13\u001b[0m/\n",
      "\u001b[01;34mISS-TestBed\u001b[0m/\n",
      "\u001b[01;34mImages\u001b[0m/\n",
      "Informations g??n??rales sur les ??l??ves.numbers\n",
      "Informations g??n??rales sur les ??l??ves.xls\n",
      "Informations importantes s??ances Salle Pl??ni??re_v1.pdf\n",
      "\u001b[01;34mIntel-Workshop\u001b[0m/\n",
      "\u001b[01;34mIntelProprio\u001b[0m/\n",
      "InterventionsPOP.odt\n",
      "InterventionsPOP.pdf\n",
      "\u001b[01;34mKNL\u001b[0m/\n",
      "\u001b[01;34mKaplan\u001b[0m/\n",
      "\u001b[01;34mKaplan-parallel\u001b[0m/\n",
      "Keller_21223_signe.pdf\n",
      "\u001b[01;34mKilian\u001b[0m/\n",
      "\u001b[01;34mLACROSSE-WS3650\u001b[0m/\n",
      "\u001b[01;34mLHC\u001b[0m/\n",
      "\u001b[01;34mLIFE\u001b[0m/\n",
      "\u001b[01;34mLIVRE-PHOTOS\u001b[0m/\n",
      "\u001b[01;34mLJMD\u001b[0m/\n",
      "\u001b[01;34mLMH\u001b[0m/\n",
      "\u001b[01;34mLausanne-Signal\u001b[0m/\n",
      "\u001b[01;34mLeysin\u001b[0m/\n",
      "\u001b[01;34mLiberang\u001b[0m/\n",
      "\u001b[01;34mLibreoffice-templates\u001b[0m/\n",
      "\u001b[01;34mLife\u001b[0m/\n",
      "Liste des objets et des commissions ?? nommer N?? 8 - 03.12.20-1.doc\n",
      "Liste des objets et des commissions ?? organiser N?? 14 - 01.04.21.doc\n",
      "Liste_comm_nommees_N??8_03.12.20.pdf\n",
      "\u001b[01;34mMAGDA\u001b[0m/\n",
      "\u001b[01;34mMATLAB\u001b[0m/\n",
      "\u001b[01;34mMIMICAv5\u001b[0m/\n",
      "\u001b[01;34mMITgcm\u001b[0m/\n",
      "\u001b[01;34mMPI\u001b[0m/\n",
      "\u001b[01;34mMSINT-Enregistrement\u001b[0m/\n",
      "\u001b[01;35mMagda Croqucinelle 2020-04-14 at 20.59.50.mp4\u001b[0m\n",
      "\u001b[01;34mMatlab\u001b[0m/\n",
      "\u001b[01;34mMed\u001b[0m/\n",
      "\u001b[01;34mMerdier\u001b[0m/\n",
      "\u001b[01;34mMigros\u001b[0m/\n",
      "\u001b[01;34mMod??les\u001b[0m/\n",
      "\u001b[01;34mMons\u001b[0m/\n",
      "\u001b[01;34mMons-08-10-2012\u001b[0m/\n",
      "\u001b[01;34mMum\u001b[0m/\n",
      "\u001b[01;34mMusique\u001b[0m/\n",
      "\u001b[01;34mNASA\u001b[0m/\n",
      "\u001b[01;34mNATAF\u001b[0m/\n",
      "\u001b[01;34mNBody\u001b[0m/\n",
      "\u001b[01;34mNStCR\u001b[0m/\n",
      "\u001b[01;34mNVIDIA\u001b[0m/\n",
      "\u001b[01;34mNVIDIA_CUDA-10.1_Samples\u001b[0m/\n",
      "\u001b[01;34mNVIDIA_CUDA-10.2_Samples\u001b[0m/\n",
      "Names&ProjectTitles_17Dec_HorairesPassage.xls\n",
      "\u001b[01;34mNuitDesMus??es\u001b[0m/\n",
      "\u001b[01;34mOCTOPUS\u001b[0m/\n",
      "\u001b[01;34mOld-PDF\u001b[0m/\n",
      "\u001b[01;34mOneDrive\u001b[0m/\n",
      "\u001b[01;34mOpenFOAM\u001b[0m/\n",
      "\u001b[01;34mOpenMP\u001b[0m/\n",
      "\u001b[01;34mPAPI\u001b[0m/\n",
      "\u001b[01;34mPARALLEL-PROFILING\u001b[0m/\n",
      "\u001b[01;34mPCPT-2016\u001b[0m/\n",
      "\u001b[01;34mPDF\u001b[0m/\n",
      "PDF de la candidature Keller.pdf\n",
      "\u001b[01;34mPDM\u001b[0m/\n",
      "\u001b[01;34mPENELOPE\u001b[0m/\n",
      "\u001b[01;34mPERFMON\u001b[0m/\n",
      "\u001b[01;34mPETSC\u001b[0m/\n",
      "PIIS0140673620311806.pdf\n",
      "\u001b[01;34mPLANNER\u001b[0m/\n",
      "\u001b[01;34mPLUMED\u001b[0m/\n",
      "\u001b[01;34mPMB\u001b[0m/\n",
      "\u001b[01;34mPOPC++\u001b[0m/\n",
      "\u001b[01;34mPOWERDEVS\u001b[0m/\n",
      "\u001b[01;34mPRAFO\u001b[0m/\n",
      "\u001b[01;34mPROJECTS-PHPC-2020\u001b[0m/\n",
      "PS-02.2020.pdf\n",
      "\u001b[01;34mPaolaMalsot\u001b[0m/\n",
      "\u001b[01;34mPapier-Vince-Vicky\u001b[0m/\n",
      "Parallel and high-performance computing 2020 Students list.ods\n",
      "\u001b[01;34mPasquarello\u001b[0m/\n",
      "\u001b[01;34mPinardEtiquettes\u001b[0m/\n",
      "\u001b[01;34mPixum\u001b[0m/\n",
      "\u001b[01;34mPlaceMarche2\u001b[0m/\n",
      "\u001b[01;34mPleiades\u001b[0m/\n",
      "\u001b[01;34mPodcasts\u001b[0m/\n",
      "PostFinance - E-finance - Paiements.pdf\n",
      "\u001b[01;34mPublic\u001b[0m/\n",
      "\u001b[01;34mR\u001b[0m/\n",
      "R-CE Texte adopt?? par CE.docx.pdf\n",
      "\u001b[01;34mRStudio\u001b[0m/\n",
      "\u001b[01;35mRailway_network_Brazil.svg\u001b[0m\n",
      "\u001b[01;34mRalf\u001b[0m/\n",
      "RapportVerificateursComptes2017_v3.doc\n",
      "RapportVerificateursComptes2018.doc\n",
      "Release.key\n",
      "Rentr??e 2020 MAGDA.docx\n",
      "\u001b[01;35mRevue-du-GCVD-2019.mp4\u001b[0m\n",
      "\u001b[01;34mSCITAS\u001b[0m/\n",
      "\u001b[01;34mSIE\u001b[0m/\n",
      "SIHF-Calendar NL Regular Season Lausanne HC Lausanne HC (2018).ics\n",
      "\u001b[01;34mSIMONE-LECTURE\u001b[0m/\n",
      "\u001b[01;34mSLURM\u001b[0m/\n",
      "\u001b[01;34mSOURCES\u001b[0m/\n",
      "\u001b[01;34mSPH\u001b[0m/\n",
      "\u001b[01;34mSalins\u001b[0m/\n",
      "\u001b[01;34mSamRecipe\u001b[0m/\n",
      "\u001b[01;34mSamiGoekce\u001b[0m/\n",
      "\u001b[01;34mSaxer\u001b[0m/\n",
      "\u001b[01;34mSeanceEcoute\u001b[0m/\n",
      "\u001b[01;34mSignature\u001b[0m/\n",
      "\u001b[01;34mSweetHome3D\u001b[0m/\n",
      "\u001b[01;34mTAU\u001b[0m/\n",
      "\u001b[01;34mTERATEC13-talk\u001b[0m/\n",
      "\u001b[01;34mTERPSICHORE\u001b[0m/\n",
      "\u001b[01;34mTOR\u001b[0m/\n",
      "\u001b[01;34mTORRENT-DOWNLOADS\u001b[0m/\n",
      "\u001b[01;34mTP-Gratuits\u001b[0m/\n",
      "\u001b[01;34mTSVV\u001b[0m/\n",
      "\u001b[01;34mTensorFlow\u001b[0m/\n",
      "\u001b[01;34mTests\u001b[0m/\n",
      "\u001b[01;34mTrains\u001b[0m/\n",
      "\u001b[01;34mT??l??chargements\u001b[0m/\n",
      "\u001b[01;34mUK\u001b[0m/\n",
      "\u001b[01;34mUNIL\u001b[0m/\n",
      "Untitled.ipynb\n",
      "Untitled1.ipynb\n",
      "\u001b[01;34mUrsula\u001b[0m/\n",
      "\u001b[01;34mV4L-DVB\u001b[0m/\n",
      "\u001b[01;34mVIRTUALBOX\u001b[0m/\n",
      "\u001b[01;34mVUESCAN\u001b[0m/\n",
      "\u001b[01;34mVaudTax2010\u001b[0m/\n",
      "\u001b[01;34mVaudTax2011\u001b[0m/\n",
      "\u001b[01;34mVaudTax2012\u001b[0m/\n",
      "\u001b[01;34mVaudTax2013\u001b[0m/\n",
      "\u001b[01;34mVaudTax2014\u001b[0m/\n",
      "\u001b[01;34mVaudTax2015\u001b[0m/\n",
      "\u001b[01;34mVaudTax2016\u001b[0m/\n",
      "\u001b[01;34mVaudTax2017\u001b[0m/\n",
      "\u001b[01;34mVaudTax2018\u001b[0m/\n",
      "\u001b[01;34mVaudTax2019\u001b[0m/\n",
      "\u001b[01;34mVaudTax2020\u001b[0m/\n",
      "\u001b[01;34mVaudTax_2015-1.2.1-production\u001b[0m/\n",
      "\u001b[01;34mVaudTax_2016-1.0.1-production\u001b[0m/\n",
      "\u001b[01;34mVaudTax_2017-1.2.2-production\u001b[0m/\n",
      "\u001b[01;34mVaudTax_2018-1.0.1-production\u001b[0m/\n",
      "\u001b[01;34mVaudTax_2019-1.1.1-production-64bit\u001b[0m/\n",
      "\u001b[01;31mVaudTax_2019.tar.gz\u001b[0m\n",
      "\u001b[01;34mVaudTax_2020-1.0.1-production-64bit\u001b[0m/\n",
      "\u001b[01;31mVaudTax_2020.tar.gz\u001b[0m\n",
      "\u001b[01;34mVaudtax\u001b[0m/\n",
      "\u001b[01;34mVicky\u001b[0m/\n",
      "\u001b[01;34mVid??os\u001b[0m/\n",
      "Vierge.docx\n",
      "Vierge.pages\n",
      "\u001b[01;35mVincent Keller.jpg\u001b[0m\n",
      "\u001b[01;34mVirtualBox VMs\u001b[0m/\n",
      "\u001b[01;36mVirtualBoxVMs\u001b[0m@\n",
      "\u001b[01;34mWPA-EPFL\u001b[0m/\n",
      "\u001b[01;34mWebcam_Pictures\u001b[0m/\n",
      "\u001b[01;35mWhatsApp Video 2020-03-27 at 20.51.13.mp4\u001b[0m\n",
      "\u001b[01;34mXMR\u001b[0m/\n",
      "\u001b[01;35mXlh8DywTR16gOUvqnF7C_P1060367V2.jpg\u001b[0m\n",
      "\u001b[01;34mZetta\u001b[0m/\n",
      "\u001b[01;31mZotero-5.0.96_linux-x86_64.tar.bz2\u001b[0m\n",
      "\u001b[01;34mZotero_linux-x86_64\u001b[0m/\n",
      "\u001b[01;34macquaria\u001b[0m/\n",
      "\u001b[01;34maircrack\u001b[0m/\n",
      "allkeys.asc\n",
      "\u001b[01;35massemblage.png\u001b[0m\n",
      "astolfi ch1.pdf\n",
      "astolfi_chapitre1_redresse.pdf\n",
      "b.txt\n",
      "ballade-des-dames.pdf\n",
      "basic.ics\n",
      "\u001b[01;34mbicgstab\u001b[0m/\n",
      "blabla.txt\n",
      "\u001b[01;35mchateaux-de-valere-et-tourbillon.jpg\u001b[0m\n",
      "\u001b[01;34mcode_bug\u001b[0m/\n",
      "commissions.txt\n",
      "\u001b[01;34mconjugateGradientUM\u001b[0m/\n",
      "corrections-website.txt\n",
      "cours.Master1.diff.finie.pdf\n",
      "\u001b[01;35mcovid-GCVD.mp4\u001b[0m\n",
      "\u001b[01;34mcrypto\u001b[0m/\n",
      "dame-du-temps-jadis.odt\n",
      "dame-du-temps-jadis.pdf\n",
      "dasilva.txt\n",
      "device4.c\n",
      "\u001b[01;31mdiscord-0.0.13.deb\u001b[0m\n",
      "\u001b[01;31mdrop.tar.gz\u001b[0m\n",
      "\u001b[01;34mdvbern-tax\u001b[0m/\n",
      "\u001b[01;34mdwhelper\u001b[0m/\n",
      "\u001b[01;34meLohnausweisSSK\u001b[0m/\n",
      "\u001b[01;34meclipse-mars\u001b[0m/\n",
      "\u001b[01;34meclipse-workspace\u001b[0m/\n",
      "\u001b[01;34medunum\u001b[0m/\n",
      "\u001b[01;34medunum-vince\u001b[0m/\n",
      "error.txt\n",
      "errormsg.out\n",
      "\u001b[01;31mexam_project_shw2d.zip\u001b[0m\n",
      "\u001b[01;34mfontconfig\u001b[0m/\n",
      "fu5BmNBsSWOyk0f13e4v_Lorem.docx\n",
      "gafam.odt\n",
      "gafam.pdf\n",
      "gare-au-gorille.txt\n",
      "\u001b[01;35mgcvd.jpeg\u001b[0m\n",
      "\u001b[01;35mgcvd2.jpeg\u001b[0m\n",
      "\u001b[01;35mgcvd21.jpeg\u001b[0m\n",
      "\u001b[01;35mgcvd23.jpeg\u001b[0m\n",
      "\u001b[01;34mgit-eclipse\u001b[0m/\n",
      "\u001b[01;34mhacking-romain-v2_files\u001b[0m/\n",
      "\u001b[01;35mhepl-miro.jpg\u001b[0m\n",
      "\u001b[01;34mhpcgam\u001b[0m/\n",
      "\u001b[01;34mimg\u001b[0m/\n",
      "\u001b[01;31mimg.zip\u001b[0m\n",
      "\u001b[01;35minitiative_TU.jpg\u001b[0m\n",
      "\u001b[01;34mintel\u001b[0m/\n",
      "inter.txt\n",
      "jeu_ppc.ipynb\n",
      "\u001b[01;34mlibmpimon\u001b[0m/\n",
      "mail-le-resto-txt\n",
      "\u001b[01;34mmatrix-market-suite\u001b[0m/\n",
      "\u001b[01;35mmdlgb.jpg\u001b[0m\n",
      "\u001b[01;35mmichoud.jpg\u001b[0m\n",
      "\u001b[01;34mmotion-files\u001b[0m/\n",
      "\u001b[01;34mmoyensDOinfVD\u001b[0m/\n",
      "\u001b[01;34mmpimon-module\u001b[0m/\n",
      "\u001b[01;34mmu_code\u001b[0m/\n",
      "\u001b[01;34mnouveau_dossier\u001b[0m/\n",
      "\u001b[01;34mnvvp_workspace\u001b[0m/\n",
      "\u001b[01;35moffice.jpg\u001b[0m\n",
      "\u001b[01;34monedrive-src\u001b[0m/\n",
      "\u001b[01;34mownCloud\u001b[0m/\n",
      "pahud.txt\n",
      "\u001b[01;34mpaie\u001b[0m/\n",
      "\u001b[01;34mpingpong\u001b[0m/\n",
      "\u001b[01;35mpop-logo.jpg\u001b[0m\n",
      "\u001b[01;35mposte.jpg\u001b[0m\n",
      "prises_de_position.txt\n",
      "pubring.gpg\n",
      "\u001b[01;34mpython\u001b[0m/\n",
      "\u001b[01;31mrechnung.zip\u001b[0m\n",
      "resultat.txt\n",
      "\u001b[01;31mscangearmp-source-1.30-1.tar.gz\u001b[0m\n",
      "\u001b[01;34mscitas-code-mpi\u001b[0m/\n",
      "\u001b[01;34mscitas-hpcusers\u001b[0m/\n",
      "\u001b[01;34mskype-src\u001b[0m/\n",
      "\u001b[01;34msoftware\u001b[0m/\n",
      "sortie.pdf\n",
      "\u001b[01;34mspack\u001b[0m/\n",
      "standalone.xul\n",
      "\u001b[01;34mtech-report\u001b[0m/\n",
      "\u001b[01;34mtemporary\u001b[0m/\n",
      "test.dat\n",
      "\u001b[01;34mtests\u001b[0m/\n",
      "\u001b[01;34mtests-bugnon\u001b[0m/\n",
      "thawte_Primary_Root_CA.pem\n",
      "\u001b[01;35mthumbnail.jpg\u001b[0m\n",
      "tp.docx\n",
      "tsr1.vlc\n",
      "\u001b[01;35munnamed.png\u001b[0m\n",
      "\u001b[01;34musr\u001b[0m/\n",
      "\u001b[01;35mvache_herens.jpg\u001b[0m\n",
      "\u001b[01;35mvaud-cybersecurite-gimp.xcf\u001b[0m\n",
      "\u001b[01;34mvicky\u001b[0m/\n",
      "\u001b[01;35mvideo.mp4\u001b[0m\n",
      "video.mp4.idx2\n",
      "\u001b[01;34mworkspace\u001b[0m/\n"
     ]
    }
   ],
   "source": [
    "ls"
   ]
  },
  {
   "cell_type": "markdown",
   "id": "signal-preserve",
   "metadata": {},
   "source": [
    "Supprimez le dossier ```nouveau_dossier```"
   ]
  },
  {
   "cell_type": "code",
   "execution_count": 10,
   "id": "retained-anaheim",
   "metadata": {},
   "outputs": [],
   "source": [
    "rmdir nouveau_dossier"
   ]
  },
  {
   "cell_type": "markdown",
   "id": "understood-lesson",
   "metadata": {},
   "source": [
    "Déplacez vous dans le dossier ```dossier-a-cracker```"
   ]
  },
  {
   "cell_type": "code",
   "execution_count": null,
   "id": "living-notice",
   "metadata": {},
   "outputs": [],
   "source": []
  },
  {
   "cell_type": "markdown",
   "id": "imposed-phrase",
   "metadata": {},
   "source": [
    "Affichez le contenu du fichier README.txt"
   ]
  },
  {
   "cell_type": "code",
   "execution_count": null,
   "id": "adopted-aside",
   "metadata": {},
   "outputs": [],
   "source": []
  },
  {
   "cell_type": "markdown",
   "id": "opposed-jungle",
   "metadata": {},
   "source": [
    "## Devenons des Anonymous\n",
    "\n",
    "Avant l'invention de la souris, toutes les interactions avec l'ordinateur se faisaient avec des **lignes de commandes**. Aujourd'hui encore, les professionnels utilisent ces lignes de commandes parce qu'elle permettent de gagner du temps (on garde ses mains sur le clavier, pas sur la souris)."
   ]
  },
  {
   "cell_type": "markdown",
   "id": "undefined-jesus",
   "metadata": {},
   "source": [
    "### Ouverture d'un terminal\n",
    "\n",
    "Dans Jupyter Lab, ouvrez un nouveau terminal : Fichier -> Nouveau -> Terminal. Cela va ouvrir un nouvel onglet \"Terminal\" dans lequel vous pouvez écrire des commandes à l'ordinateur\n",
    "\n",
    "![](https://user-images.githubusercontent.com/4312421/28751772-9855637c-7510-11e7-900e-552b39a498f7.PNG)\n",
    "\n",
    "FIXME: Prendre un screenshot au gymnase"
   ]
  },
  {
   "cell_type": "markdown",
   "id": "acting-acrobat",
   "metadata": {},
   "source": [
    "### Commandes dans le terminal \n",
    "\n",
    "Plusieurs commandes sont importantes à connaître :\n",
    "\n",
    "| Commande  | paramètre |  Résultat  | exemple | \n",
    "|---|---|---|---|\n",
    "| ```pwd```  | | affiche le chemin du répertoire où nous nous trouvons  | ```pwd``` |\n",
    "| ```cd```  | nom du répertoire | change de répertoire |```cd dossier-a-cracker``` va aller dans le répertoire ```dossier-a-cracker``` |\n",
    "| | | | ```cd .. ``` va aller dans le répertoire parent|\n",
    "| ```cat```  | un nom de fichier | Affiche le contenu d'un fichier (attention : seulement les fichiers de type texte) | ```cat README.txt``` va afficher le contenu du fichier ```README.txt``` |\n",
    "| ```ls```  | | affiche les  fichiers et dossiers du répertoire où nous nous trouvons | ```ls``` |\n",
    "\n"
   ]
  },
  {
   "cell_type": "markdown",
   "id": "junior-skiing",
   "metadata": {},
   "source": [
    "**Exercice** En utilisant les commandes ```ls```, ```cd``` et ```cat```, affichez le contenu du fichier ```README.txt```"
   ]
  },
  {
   "cell_type": "markdown",
   "id": "caring-details",
   "metadata": {},
   "source": [
    "# (2) Les mots de passe\n",
    "\n",
    "Il sert à protéger ses données privées dans les réseaux sociaux, sur son téléphone portable, etc.. \n",
    "\n",
    "Il doit être difficile à trouver pour un être humain, mais surtout pour un ordinateur. L'[EPFL](https://wiki.epfl.ch/secure-it/questcequunbonmotdepasse) donne quatre caractéristiques pour un **bon mot de passe** :\n",
    "\n",
    "1. il n'est **pas basé sur un mot courant** (nom, prénom, etc..)\n",
    "1. il doit être **long**\n",
    "1. il ne doit pas contenir des **répétitions**\n",
    "1. il doit contenir des caractères **variés** (lettres, accents, chiffres, caractères spéciaux)\n",
    "\n",
    "Malheureusement, beaucoup de personnes ont encore des mots de passe trop simple"
   ]
  },
  {
   "cell_type": "markdown",
   "id": "accompanied-singapore",
   "metadata": {},
   "source": [
    "**Exercice** Recherchez sur Internet quel est le mot de passe le plus utilisé pour les utilisateurs francophones"
   ]
  },
  {
   "cell_type": "markdown",
   "id": "average-relative",
   "metadata": {},
   "source": [
    "### Qualité d'un mot de passe\n",
    "\n",
    "Le fichier ```dossier-a-cracker/passwords.txt``` contient les **20'000 mots de passes** les plus utilisés sur l'Internet francophone. Nous allons l'utiliser pour vérifier la qualité d'un mot de passe.\n",
    "\n",
    "L'instruction Python suivante permettent de stocker dans la liste ```passwords``` les 20'000 mots de passes du fichier ```dossier-a-cracker/passwords.txt```"
   ]
  },
  {
   "cell_type": "code",
   "execution_count": null,
   "id": "architectural-merchandise",
   "metadata": {},
   "outputs": [],
   "source": [
    "passwords = [line.rstrip() for line in open('dossier-a-cracker/passwords.txt', \"r\")]"
   ]
  },
  {
   "cell_type": "markdown",
   "id": "immediate-cigarette",
   "metadata": {},
   "source": [
    "On peut ensuite accéder au mot de passe le plus utilisé (en position 0 dans la liste)"
   ]
  },
  {
   "cell_type": "code",
   "execution_count": null,
   "id": "alleged-luxury",
   "metadata": {},
   "outputs": [],
   "source": [
    "print(passwords[0])"
   ]
  },
  {
   "cell_type": "markdown",
   "id": "perceived-serve",
   "metadata": {},
   "source": [
    "**Exercice** Affichez le 1000ème mot de passe le plus utilisé"
   ]
  },
  {
   "cell_type": "code",
   "execution_count": null,
   "id": "stylish-royal",
   "metadata": {},
   "outputs": [],
   "source": []
  },
  {
   "cell_type": "markdown",
   "id": "furnished-yugoslavia",
   "metadata": {},
   "source": [
    "Il est ensuite possible de comparer si un mot de passe existe dans cette liste. Nous définissons une fonction ```mdp_Existe(mdp)``` qui prend en paramètre le mot de passe à tester contre toute la liste connue.\n",
    "\n",
    "Testez avec ```iloveyou```, ```cristiano7``` ou ```licorne2```"
   ]
  },
  {
   "cell_type": "code",
   "execution_count": null,
   "id": "determined-operation",
   "metadata": {},
   "outputs": [],
   "source": [
    "def mdp_existe(mdp):\n",
    "    existe = False\n",
    "    for mot_de_passe in passwords:\n",
    "        if mdp == mot_de_passe:\n",
    "            existe = True\n",
    "    if existe:\n",
    "        print('Le mot de passe',mdp,'existe dans la liste')\n",
    "    else:\n",
    "        print('Le mot de passe',mdp,'n\\'existe PAS dans la liste')\n",
    "\n",
    "mdp1 = 'iloveyou'\n",
    "mdp_existe(mdp1)\n",
    "mdp2 = 'cristiano7'\n",
    "mdp_existe(mdp2)\n",
    "mdp3 = 'licorne2'\n",
    "mdp_existe(mdp3)"
   ]
  },
  {
   "cell_type": "markdown",
   "id": "closed-dealing",
   "metadata": {},
   "source": [
    "**Exercice** depuis le Terminal, utilisez une commande UNIX pour afficher tout le contenu du fichier ```dossier-a-cracker/passwords.txt```. Testez ensuite avec l'avant-dernier mot de passe de la liste"
   ]
  },
  {
   "cell_type": "code",
   "execution_count": null,
   "id": "hawaiian-rental",
   "metadata": {},
   "outputs": [],
   "source": []
  },
  {
   "cell_type": "markdown",
   "id": "criminal-sharp",
   "metadata": {},
   "source": [
    "**Exercice** : Pensez à un mot de passe et testez-le contre la liste de 20000:"
   ]
  },
  {
   "cell_type": "code",
   "execution_count": null,
   "id": "technical-persian",
   "metadata": {},
   "outputs": [],
   "source": [
    "mdp = input('Entrez un mot de passe:')\n",
    "mdp_existe(mdp)"
   ]
  },
  {
   "cell_type": "markdown",
   "id": "monthly-rhythm",
   "metadata": {},
   "source": [
    "### Majuscules-Minuscules\n",
    "\n",
    "Parfois ajouter une majuscule peut donner l'impression qu'un mot de passe est plus sûr. Le mot de passe ```coucou2``` se trouve dans la liste:\n"
   ]
  },
  {
   "cell_type": "code",
   "execution_count": null,
   "id": "cultural-complex",
   "metadata": {},
   "outputs": [],
   "source": [
    "mdp = 'coucou2'\n",
    "mdp_existe(mdp)"
   ]
  },
  {
   "cell_type": "markdown",
   "id": "hollow-porcelain",
   "metadata": {},
   "source": [
    "Mais le mot de passe ```CouCou``` n'y est pas :"
   ]
  },
  {
   "cell_type": "code",
   "execution_count": null,
   "id": "recognized-colleague",
   "metadata": {},
   "outputs": [],
   "source": [
    "mdp = 'CouCou2'\n",
    "mdp_existe(mdp)"
   ]
  },
  {
   "cell_type": "markdown",
   "id": "correct-ghost",
   "metadata": {},
   "source": [
    "Il est alors possible de vérifier toutes les combinaisons en modifiant la fonction ```mdp_existe()```  en metttant d'abord toutes les lettre en minuscules, puis en les comparant avec la fonction ```lower()``` :"
   ]
  },
  {
   "cell_type": "code",
   "execution_count": null,
   "id": "applied-company",
   "metadata": {},
   "outputs": [],
   "source": [
    "def mdp_existe_maj_min(mdp):\n",
    "    existe = False\n",
    "    mot = ''\n",
    "    for mot_de_passe in passwords:\n",
    "        if mdp.lower() == mot_de_passe.lower():\n",
    "            existe = True\n",
    "            mot = mot_de_passe\n",
    "    if existe:\n",
    "        print('Le mot de passe',mdp,'existe dans la liste sous la forme',mot)\n",
    "    else:\n",
    "        print('Le mot de passe',mdp,'n\\'existe PAS dans la liste')"
   ]
  },
  {
   "cell_type": "markdown",
   "id": "finnish-airline",
   "metadata": {},
   "source": [
    "On l'appelle ensuite sur la chaîne qui mélange majuscules et minuscules"
   ]
  },
  {
   "cell_type": "code",
   "execution_count": null,
   "id": "dependent-opera",
   "metadata": {},
   "outputs": [],
   "source": [
    "mdp = 'CouCou2'\n",
    "mdp_existe_maj_min(mdp)"
   ]
  },
  {
   "cell_type": "markdown",
   "id": "harmful-annotation",
   "metadata": {},
   "source": [
    "### Attaque par force brute\n",
    "\n",
    "Le fichier ```dossier-a-cracker/confidentiel/mails_FBI.zip``` a été protégé contre l'extraction par un mot de passe. Si vous tentez d'extraire l'archive, vous devez fournir un mot de passe :\n",
    "\n",
    "```console\n",
    "vkeller@barolo:~$ cd dossier-a-cracker/confidentiel/\n",
    "vkeller@barolo:~/dossier-a-cracker/confidentiel$ unzip mails_FBI.zip \n",
    "Archive:  mails_FBI.zip\n",
    "[mails_FBI.zip] original/mails_FBI.txt password: \n",
    "   skipping: original/mails_FBI.txt  incorrect password\n",
    "vkeller@barolo:~/edunum/doc/python/vi/5/dossier-a-cracker/confidentiel$\n",
    "```\n",
    "\n",
    "La fonction ```check_ret(mdp,archive)``` va tester un mot de passe ```mdp``` sur l'archive protégée ```archive```"
   ]
  },
  {
   "cell_type": "code",
   "execution_count": null,
   "id": "functioning-lottery",
   "metadata": {},
   "outputs": [],
   "source": [
    "import subprocess\n",
    "def check_ret(mdp,archive):\n",
    "    rc = -1\n",
    "    p1 = subprocess.Popen(['unzip', '-t','-q', '-P', mdp,archive])\n",
    "    p1.wait()\n",
    "    rc = p1.returncode\n",
    "    p1.kill()\n",
    "    return rc"
   ]
  },
  {
   "cell_type": "markdown",
   "id": "imported-mason",
   "metadata": {},
   "source": [
    "Il est maintenant possible de tester tous les mots de passe de la liste sur une archive protégée par un mot de passe. Le fichier se trouve au chemin ```dossier-a-cracker/confidentiel/mails_FBI.zip```\n",
    "\n",
    "**Attention** cette opération est longue, on doit comparer toute la liste !"
   ]
  },
  {
   "cell_type": "code",
   "execution_count": null,
   "id": "buried-lucas",
   "metadata": {},
   "outputs": [],
   "source": [
    "for mdp in passwords:\n",
    "#    print('retour pour',mdp,':',check_ret(mdp))\n",
    "    ret = check_ret(mdp,'dossier-a-cracker/confidentiel/mails_FBI.zip')\n",
    "    if ret == 0:\n",
    "        print('Le mot de passe est :',mdp)"
   ]
  },
  {
   "cell_type": "markdown",
   "id": "white-track",
   "metadata": {},
   "source": [
    "**Exercice** Depuis le Terminal, allez au répertoire ```dossier-a-cracker/confidentiel``` et extrayez l'archive avec le mot de passe trouvé"
   ]
  },
  {
   "cell_type": "markdown",
   "id": "located-estimate",
   "metadata": {},
   "source": [
    "## Jeu (si vous avez du temps)\n",
    "\n",
    "Dans le monde du hacking, il y a un jeu qui est souvent utilisé par les entreprises pour tester leur infrastructure. Ce jeu de guerre cybernétique, appelé [catch the flag](https://fr.wikipedia.org/wiki/Test_d%27intrusion) (capture du drapeau) dans lequel deux équipes s'affrontent: l'une pour protéger le drapeau, l'autre pour le capturer. \n",
    "\n",
    "Un autre fichier archive ZIP a été caché dans le dossier ```dossier-a-cracker``` et protégé par un mot de passe.\n",
    "\n",
    "**Exercice** Retrouvez le fichier avec les commandes ```ls``` et ```cd``` et utilisez les fonctions décrites plus haut pour le décrypter"
   ]
  },
  {
   "cell_type": "markdown",
   "id": "assumed-damages",
   "metadata": {},
   "source": [
    "## Mon adresse mail est-elle en danger ?\n",
    "\n",
    "Nous avons utilisé la **force brute** pour tester **un seul mot de passe** contre une liste définie. Les crackers du monde entier utilisent des dictionnaires bien plus grands contre des adresses mails, des comptes, etc.. que vous avez laissé ça et là au gré de vos interactions avec Internet. \n",
    "\n",
    "Ces listes sont ensuite vendues et utilisées à mauvais escient. \n",
    "\n",
    "Il existe un site web qui vérifie si votre adresse mail a été piratée : [Ai-je été piraté ?](https://haveibeenpwned.com)"
   ]
  },
  {
   "cell_type": "markdown",
   "id": "infectious-question",
   "metadata": {},
   "source": [
    "**Exercice** Testez vos adresses mails pour voir si elles ont été vendues. Si elles le sont : changez votre mot de passe"
   ]
  },
  {
   "cell_type": "code",
   "execution_count": null,
   "id": "quiet-warrior",
   "metadata": {},
   "outputs": [],
   "source": []
  }
 ],
 "metadata": {
  "kernelspec": {
   "display_name": "Python 3",
   "language": "python",
   "name": "python3"
  },
  "language_info": {
   "codemirror_mode": {
    "name": "ipython",
    "version": 3
   },
   "file_extension": ".py",
   "mimetype": "text/x-python",
   "name": "python",
   "nbconvert_exporter": "python",
   "pygments_lexer": "ipython3",
   "version": "3.9.1"
  }
 },
 "nbformat": 4,
 "nbformat_minor": 5
}
