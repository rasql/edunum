{
 "cells": [
  {
   "cell_type": "markdown",
   "id": "color-quarter",
   "metadata": {},
   "source": [
    "# Pirater un système informatique"
   ]
  },
  {
   "cell_type": "markdown",
   "id": "black-speaking",
   "metadata": {},
   "source": [
    "## Objectifs\n",
    "\n",
    "- comprendre l'arborescence des fichiers\n",
    "- quelques commandes UNIX simples\n",
    "- lire et écrire un fichier"
   ]
  },
  {
   "cell_type": "markdown",
   "id": "advanced-swaziland",
   "metadata": {},
   "source": [
    "### Bien ranger pour mieux retrouver\n",
    "\n",
    "Sur un ordinateur, "
   ]
  },
  {
   "cell_type": "code",
   "execution_count": null,
   "id": "otherwise-hayes",
   "metadata": {},
   "outputs": [],
   "source": []
  },
  {
   "cell_type": "code",
   "execution_count": 1,
   "id": "responsible-guatemala",
   "metadata": {},
   "outputs": [
    {
     "name": "stdout",
     "output_type": "stream",
     "text": [
      "123456\n",
      "123456789\n",
      "azerty\n",
      "1234561\n",
      "qwerty\n",
      "marseille\n",
      "000000\n",
      "1234567891\n",
      "doudou\n",
      "12345\n"
     ]
    }
   ],
   "source": [
    "file = open('dossier-a-cracker/passwords.txt', \"r\")\n",
    "lines = file.readlines()\n",
    "file.close()\n",
    "# Afficher les 10 premières lignes\n",
    "for i in range(10):\n",
    "    print(lines[i].strip())"
   ]
  },
  {
   "cell_type": "code",
   "execution_count": 7,
   "id": "hindu-luxury",
   "metadata": {},
   "outputs": [
    {
     "name": "stdout",
     "output_type": "stream",
     "text": [
      "/home/vkeller/edunum/doc/python/vi/5\n"
     ]
    }
   ],
   "source": [
    "!pwd"
   ]
  },
  {
   "cell_type": "code",
   "execution_count": 10,
   "id": "amended-chess",
   "metadata": {},
   "outputs": [
    {
     "name": "stdout",
     "output_type": "stream",
     "text": [
      "catch-the-flag.ipynb\n",
      "\n",
      "dossier-a-cracker:\n",
      "confidentiel  passwords  passwords.txt\n",
      "\n",
      "dossier-a-cracker/confidentiel:\n",
      "mails_FBI.zip  original\n",
      "\n",
      "dossier-a-cracker/confidentiel/original:\n",
      "mails_FBI.txt\n",
      "\n",
      "dossier-a-cracker/passwords:\n"
     ]
    }
   ],
   "source": [
    "!ls * -R"
   ]
  },
  {
   "cell_type": "code",
   "execution_count": 12,
   "id": "cloudy-design",
   "metadata": {},
   "outputs": [
    {
     "name": "stdout",
     "output_type": "stream",
     "text": [
      "123456789\n",
      "\n"
     ]
    }
   ],
   "source": [
    "print(lines[1])"
   ]
  },
  {
   "cell_type": "code",
   "execution_count": 13,
   "id": "surgical-python",
   "metadata": {},
   "outputs": [
    {
     "data": {
      "text/plain": [
       "20000"
      ]
     },
     "execution_count": 13,
     "metadata": {},
     "output_type": "execute_result"
    }
   ],
   "source": [
    "len(lines)"
   ]
  },
  {
   "cell_type": "code",
   "execution_count": 17,
   "id": "statistical-plymouth",
   "metadata": {},
   "outputs": [
    {
     "name": "stdout",
     "output_type": "stream",
     "text": [
      "0\n"
     ]
    }
   ],
   "source": [
    "!unzip -q -P lines[0] dossier-a-cracker/confidentiel/mails_FBI.zip\n",
    "!echo $?"
   ]
  },
  {
   "cell_type": "code",
   "execution_count": null,
   "id": "genetic-antibody",
   "metadata": {},
   "outputs": [],
   "source": []
  }
 ],
 "metadata": {
  "kernelspec": {
   "display_name": "Python 3",
   "language": "python",
   "name": "python3"
  },
  "language_info": {
   "codemirror_mode": {
    "name": "ipython",
    "version": 3
   },
   "file_extension": ".py",
   "mimetype": "text/x-python",
   "name": "python",
   "nbconvert_exporter": "python",
   "pygments_lexer": "ipython3",
   "version": "3.9.1"
  }
 },
 "nbformat": 4,
 "nbformat_minor": 5
}
