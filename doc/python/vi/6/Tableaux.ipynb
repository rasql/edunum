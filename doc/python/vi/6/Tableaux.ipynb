{
 "cells": [
  {
   "cell_type": "markdown",
   "id": "metallic-switzerland",
   "metadata": {},
   "source": [
    "# Tableaux\n",
    "\n",
    "Un tableau est une structure de donnée linéaire \n",
    "\n",
    "![](img/cff-general.jpg)"
   ]
  },
  {
   "cell_type": "markdown",
   "id": "behavioral-pendant",
   "metadata": {},
   "source": [
    "## Un horaire de train\n",
    "\n",
    "Un horaire CFF est un tableau. Chaque ligne de ce tableau représente un train. Chaque train a les caractéristiques suivantes :\n",
    "\n",
    "* type\n",
    "* heure de départ\n",
    "* gares de destination\n",
    "* voie\n",
    "* éventuelles remarques (retard, suppression). Peut-être vide \n",
    "\n",
    "Le nombre de lignes de ce tableau correspond à une plage de l'horaire journalier complet. Tous les trains de la journée ne peuvent pas tous être affichés en même temps.\n",
    "\n",
    "Un informatique, on parle d'un **tableau 2D** ou tableau à deux dimensions. Chaque **colonne** représente les caractéristiques d'un train (type, heure de départ, destination, etc..) et chaque ligne représente un train."
   ]
  },
  {
   "cell_type": "markdown",
   "id": "dietary-least",
   "metadata": {},
   "source": [
    "### Création d'un tableau 2D\n",
    "\n",
    "En Python, il n'existe pas de structure de donnée de type tableau. On le construit avec des listes. Un tableau 2D est **une liste de liste**\n",
    "\n",
    "Une liste est un ensemble d'objets. En Python une liste\n",
    "\n",
    "- est délimitée par des crochets `[]`\n",
    "- ses éléments sont séparés par des virgules `,`\n",
    "\n",
    "On créé d'abord chaque ligne en déclarant une liste. \n",
    "\n",
    "Chaque liste possède autant d'élément qu'il y a de caractéristiques séparées par une virgule `,`"
   ]
  },
  {
   "cell_type": "code",
   "execution_count": 1,
   "id": "failing-polls",
   "metadata": {},
   "outputs": [],
   "source": [
    "train1 = ['S22', '8h47', 'Vufflens-la-Ville', 1]"
   ]
  },
  {
   "cell_type": "code",
   "execution_count": 2,
   "id": "arabic-shadow",
   "metadata": {},
   "outputs": [],
   "source": [
    "train2 = ['S2', '8h51', 'Aigle', 4]"
   ]
  },
  {
   "cell_type": "code",
   "execution_count": 3,
   "id": "golden-exemption",
   "metadata": {},
   "outputs": [],
   "source": [
    "train3 =  ['S4', '8h55', 'Palézieux', 3]"
   ]
  },
  {
   "cell_type": "markdown",
   "id": "protecting-elizabeth",
   "metadata": {},
   "source": [
    "L'horaire devient une liste de listes. Chaque élément de la liste est une liste:"
   ]
  },
  {
   "cell_type": "code",
   "execution_count": 5,
   "id": "declared-short",
   "metadata": {},
   "outputs": [
    {
     "data": {
      "text/plain": [
       "[['S22', '8h47', 'Vufflens-la-Ville', 1],\n",
       " ['S2', '8h51', 'Aigle', 4],\n",
       " ['S4', '8h55', 'Palézieux', 3]]"
      ]
     },
     "execution_count": 5,
     "metadata": {},
     "output_type": "execute_result"
    }
   ],
   "source": [
    "horaire = [train1, train2, train3]\n",
    "horaire"
   ]
  },
  {
   "cell_type": "markdown",
   "id": "superior-mississippi",
   "metadata": {},
   "source": [
    "### Accès aux éléments\n",
    "\n",
    "On peut accéder un élément du tableau par son **indice** : son numéro dans la liste entre crochet `[]`. Le premier est `[0]`, le second `[1]` et ainsi de suite\n",
    "\n",
    "La deuxième ligne du tableau 2D `horaire` est `horaire[1]`. Cette ligne est une liste"
   ]
  },
  {
   "cell_type": "code",
   "execution_count": 6,
   "id": "distinguished-trader",
   "metadata": {},
   "outputs": [
    {
     "data": {
      "text/plain": [
       "['S2', '8h51', 'Aigle', 4]"
      ]
     },
     "execution_count": 6,
     "metadata": {},
     "output_type": "execute_result"
    }
   ],
   "source": [
    "horaire[1]"
   ]
  },
  {
   "cell_type": "markdown",
   "id": "commercial-world",
   "metadata": {},
   "source": [
    "On accède de même aux éléments de la ligne `horaire[1]`\n",
    "\n",
    "L'élément `horaire[1][2]` correspond au troisième élément de la liste `horaire[1]`, donc la destination"
   ]
  },
  {
   "cell_type": "code",
   "execution_count": 7,
   "id": "proof-investment",
   "metadata": {},
   "outputs": [
    {
     "data": {
      "text/plain": [
       "'Aigle'"
      ]
     },
     "execution_count": 7,
     "metadata": {},
     "output_type": "execute_result"
    }
   ],
   "source": [
    "horaire[1][2]"
   ]
  },
  {
   "cell_type": "markdown",
   "id": "miniature-arnold",
   "metadata": {},
   "source": [
    "On peut accéder à une plage d'éléments. La plage entre le premier et le deuxième élément s'écrit `horaire[0:2]`"
   ]
  },
  {
   "cell_type": "code",
   "execution_count": 10,
   "id": "eight-coral",
   "metadata": {},
   "outputs": [
    {
     "data": {
      "text/plain": [
       "[['S22', '8h47', 'Vufflens-la-Ville', 1], ['S2', '8h51', 'Aigle', 4]]"
      ]
     },
     "execution_count": 10,
     "metadata": {},
     "output_type": "execute_result"
    }
   ],
   "source": [
    "horaire[0:2]"
   ]
  },
  {
   "cell_type": "markdown",
   "id": "recovered-prairie",
   "metadata": {},
   "source": [
    "Avec une boucle `for` nous pouvons itérer sur la liste et afficher les trains ligne par ligne."
   ]
  },
  {
   "cell_type": "code",
   "execution_count": 9,
   "id": "cosmetic-browse",
   "metadata": {},
   "outputs": [
    {
     "name": "stdout",
     "output_type": "stream",
     "text": [
      "['S22', '8h47', 'Vufflens-la-Ville', 1]\n",
      "['S2', '8h51', 'Aigle', 4]\n"
     ]
    }
   ],
   "source": [
    "for train in horaire[0:2]:\n",
    "    print(train)"
   ]
  },
  {
   "cell_type": "markdown",
   "id": "nutritional-heath",
   "metadata": {},
   "source": [
    "### Longueur d'un tableau\n",
    "\n",
    "La fonction `len(list)` retourne la longueur d'une liste"
   ]
  },
  {
   "cell_type": "code",
   "execution_count": 8,
   "id": "stretch-consent",
   "metadata": {},
   "outputs": [
    {
     "data": {
      "text/plain": [
       "3"
      ]
     },
     "execution_count": 8,
     "metadata": {},
     "output_type": "execute_result"
    }
   ],
   "source": [
    "len(horaire)"
   ]
  },
  {
   "cell_type": "markdown",
   "id": "looking-child",
   "metadata": {},
   "source": [
    "La longueur de l'une ligne du tableau 2D est retourné avec l'index:"
   ]
  },
  {
   "cell_type": "code",
   "execution_count": 9,
   "id": "ideal-cattle",
   "metadata": {},
   "outputs": [
    {
     "data": {
      "text/plain": [
       "4"
      ]
     },
     "execution_count": 9,
     "metadata": {},
     "output_type": "execute_result"
    }
   ],
   "source": [
    "len(horaire[1])"
   ]
  },
  {
   "cell_type": "markdown",
   "id": "great-rocket",
   "metadata": {},
   "source": [
    "### Ajouter un élément\n",
    "\n",
    "On peut ajouter une nouvelle ligne à la fin avec la fonction `list.append()` :"
   ]
  },
  {
   "cell_type": "code",
   "execution_count": 13,
   "id": "mature-moment",
   "metadata": {},
   "outputs": [
    {
     "data": {
      "text/plain": [
       "[['S22', '8h47', 'Vufflens-la-Ville', 1],\n",
       " ['S2', '8h51', 'Aigle', 4],\n",
       " ['S4', '8h55', 'Palézieux', 3],\n",
       " ['RE', '8h58', 'Annemasse', 2],\n",
       " ['RE', '8h58', 'Annemasse', 2]]"
      ]
     },
     "execution_count": 13,
     "metadata": {},
     "output_type": "execute_result"
    }
   ],
   "source": [
    "train4 =  ['RE', '8h58', 'Annemasse', 2]\n",
    "horaire.append(train4)\n",
    "horaire"
   ]
  },
  {
   "cell_type": "markdown",
   "id": "mexican-power",
   "metadata": {},
   "source": [
    "On peut ajouter une nouvelle ligne à la position `i` avec la fonction `list.insert(i,element)`"
   ]
  },
  {
   "cell_type": "code",
   "execution_count": 14,
   "id": "computational-significance",
   "metadata": {},
   "outputs": [
    {
     "data": {
      "text/plain": [
       "[['S22', '8h47', 'Vufflens-la-Ville', 1],\n",
       " ['S2', '8h51', 'Aigle', 4],\n",
       " ['S4', '8h55', 'Palézieux', 3],\n",
       " ['S1', '8h57', 'Lausanne', 4],\n",
       " ['RE', '8h58', 'Annemasse', 2],\n",
       " ['RE', '8h58', 'Annemasse', 2]]"
      ]
     },
     "execution_count": 14,
     "metadata": {},
     "output_type": "execute_result"
    }
   ],
   "source": [
    "train5 =  ['S1', '8h57', 'Lausanne', 4]\n",
    "horaire.insert(3, train5)\n",
    "horaire"
   ]
  },
  {
   "cell_type": "markdown",
   "id": "practical-interview",
   "metadata": {},
   "source": [
    "### Enlever des éléments\n",
    "\n",
    "On peut enlever des éléments avec les méthodes suivantes : \n",
    "\n",
    "* `list.remove(x)` si l'élément `x` existe\n",
    "* `list.pop()` le dernier élément\n",
    "* `list.clear()` tous les éléments\n",
    "\n",
    "On enlève l'élément `train4` :"
   ]
  },
  {
   "cell_type": "code",
   "execution_count": 15,
   "id": "beautiful-israeli",
   "metadata": {},
   "outputs": [
    {
     "data": {
      "text/plain": [
       "[['S22', '8h47', 'Vufflens-la-Ville', 1],\n",
       " ['S2', '8h51', 'Aigle', 4],\n",
       " ['S4', '8h55', 'Palézieux', 3],\n",
       " ['S1', '8h57', 'Lausanne', 4],\n",
       " ['RE', '8h58', 'Annemasse', 2]]"
      ]
     },
     "execution_count": 15,
     "metadata": {},
     "output_type": "execute_result"
    }
   ],
   "source": [
    "horaire.remove(train4)\n",
    "horaire"
   ]
  },
  {
   "cell_type": "markdown",
   "id": "sitting-sociology",
   "metadata": {},
   "source": [
    "On peut enlever le dernier élément avec la méthode `list.pop()`"
   ]
  },
  {
   "cell_type": "code",
   "execution_count": 16,
   "id": "serial-spectrum",
   "metadata": {},
   "outputs": [
    {
     "data": {
      "text/plain": [
       "[['S22', '8h47', 'Vufflens-la-Ville', 1],\n",
       " ['S2', '8h51', 'Aigle', 4],\n",
       " ['S4', '8h55', 'Palézieux', 3],\n",
       " ['S1', '8h57', 'Lausanne', 4]]"
      ]
     },
     "execution_count": 16,
     "metadata": {},
     "output_type": "execute_result"
    }
   ],
   "source": [
    "horaire.pop()\n",
    "horaire"
   ]
  },
  {
   "cell_type": "markdown",
   "id": "weird-individual",
   "metadata": {},
   "source": [
    "On efface tous les éléments avec la méthode `list.clear()`. La variable `horaire` est maintenant une liste vide."
   ]
  },
  {
   "cell_type": "code",
   "execution_count": 18,
   "id": "coral-beijing",
   "metadata": {},
   "outputs": [
    {
     "data": {
      "text/plain": [
       "[]"
      ]
     },
     "execution_count": 18,
     "metadata": {},
     "output_type": "execute_result"
    }
   ],
   "source": [
    "horaire.clear()\n",
    "horaire"
   ]
  },
  {
   "cell_type": "code",
   "execution_count": 19,
   "id": "loaded-frank",
   "metadata": {},
   "outputs": [
    {
     "data": {
      "text/plain": [
       "[['S22', '8h47', 'Vufflens-la-Ville', 1],\n",
       " ['S2', '8h51', 'Aigle', 4],\n",
       " ['S4', '8h55', 'Palézieux', 3],\n",
       " ['S1', '8h57', 'Lausanne', 4],\n",
       " ['RE', '8h58', 'Annemasse', 2]]"
      ]
     },
     "execution_count": 19,
     "metadata": {},
     "output_type": "execute_result"
    }
   ],
   "source": [
    "horaire = [train1, train2, train3, train5, train4]\n",
    "horaire"
   ]
  },
  {
   "cell_type": "markdown",
   "id": "protected-boundary",
   "metadata": {},
   "source": [
    "**Exercice**\n",
    "\n",
    "1. Ajoutez à l'horaire le régional S1 pour Bussigny qui part à 9h01 sur voie 1\n",
    "1. Il est 8h50, le régional S22 pour Bussigny et Vufflens-la-Ville est parti. Supprimez-le de l'horaire\n",
    "1. Un dérangement sur la ligne de contact entre Vevey et Lausanne provoque un retard de 20 minutes. Ajoutez cette information pour le RE de 8h58 pour Annemasse\n",
    "1. Pour l'affichage de quai, sélectionnez tous les trains qui partiront de voie 4"
   ]
  }
 ],
 "metadata": {
  "kernelspec": {
   "display_name": "Python 3",
   "language": "python",
   "name": "python3"
  },
  "language_info": {
   "codemirror_mode": {
    "name": "ipython",
    "version": 3
   },
   "file_extension": ".py",
   "mimetype": "text/x-python",
   "name": "python",
   "nbconvert_exporter": "python",
   "pygments_lexer": "ipython3",
   "version": "3.7.7"
  }
 },
 "nbformat": 4,
 "nbformat_minor": 5
}
