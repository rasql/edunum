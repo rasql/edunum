{
 "cells": [
  {
   "cell_type": "markdown",
   "id": "complex-divide",
   "metadata": {},
   "source": [
    "# Tableaux\n",
    "\n",
    "Un tableau est une structure de donnée linéaire\n",
    "\n",
    "![](img/cff-general.jpg)"
   ]
  },
  {
   "cell_type": "markdown",
   "id": "detailed-delay",
   "metadata": {},
   "source": [
    "## Exemple introductif\n",
    "\n",
    "Un horaire CFF est un tableau. Chaque ligne de ce tableau représente un train. Chaque train a les caractéristiques suivantes :\n",
    "\n",
    "* type\n",
    "* heure de départ\n",
    "* gares de destination\n",
    "* voie\n",
    "* éventuelles remarques (retard, suppression). Peut-être vide \n",
    "\n",
    "Le nombre de lignes de ce tableau correspond à une plage de l'horaire journalier complet. Tous les trains de la journée ne peuvent pas tous être affichés en même temps.\n",
    "\n",
    "Un informatique, on parle d'un **tableau 2D** ou tableau à deux dimensions. Chaque **colonne** représente les caractéristiques d'un train (type, heure de départ, destination, etc..) et chaque ligne représente un train."
   ]
  },
  {
   "cell_type": "markdown",
   "id": "artistic-swimming",
   "metadata": {},
   "source": [
    "### Création d'un tableau 2D\n",
    "\n",
    "En Python, il n'existe pas de structure de donnée de type tableau. On le construit avec des listes. Un tableau 2D est **une liste de liste**\n",
    "\n",
    "Une liste est un ensemble d'objets. En Python une liste\n",
    "\n",
    "- est délimitée par des crochets `[]`\n",
    "- ses éléments sont séparés par des virgules `,`\n",
    "\n",
    "On créé d'abord chaque ligne en déclarant une liste. \n",
    "\n",
    "Chaque liste possède autant d'élément qu'il y a de caractéristiques séparées par une virgule `,`"
   ]
  },
  {
   "cell_type": "code",
   "execution_count": 1,
   "id": "cleared-linux",
   "metadata": {},
   "outputs": [],
   "source": [
    "train1 = ['S22','8h47','Bussigny, Vufflens-la-Ville',1]"
   ]
  },
  {
   "cell_type": "code",
   "execution_count": 2,
   "id": "natural-scratch",
   "metadata": {},
   "outputs": [],
   "source": [
    "train2 = ['S2','8h51','Prilly-M, Lausanne, Pully, Aigle',4]"
   ]
  },
  {
   "cell_type": "code",
   "execution_count": 3,
   "id": "adjustable-money",
   "metadata": {},
   "outputs": [],
   "source": [
    "train3 =  ['S4','8h55','Lausanne, Pully-Nord, Palézieux',3]"
   ]
  },
  {
   "cell_type": "markdown",
   "id": "annual-arnold",
   "metadata": {},
   "source": [
    "L'horaire devient une liste de listes. Chaque élément de la liste est une liste:"
   ]
  },
  {
   "cell_type": "code",
   "execution_count": 4,
   "id": "distinct-synthetic",
   "metadata": {},
   "outputs": [
    {
     "name": "stdout",
     "output_type": "stream",
     "text": [
      "['S22', '8h47', 'Bussigny, Vufflens-la-Ville', 1]\n",
      "['S2', '8h51', 'Prilly-M, Lausanne, Pully, Aigle', 4]\n",
      "['S4', '8h55', 'Lausanne, Pully-Nord, Palézieux', 3]\n"
     ]
    }
   ],
   "source": [
    "horaire = [train1,train2,train3]\n",
    "print(*horaire, sep='\\n')"
   ]
  },
  {
   "cell_type": "markdown",
   "id": "architectural-airport",
   "metadata": {},
   "source": [
    "### Accès aux éléments\n",
    "\n",
    "On peut accéder un élément du tableau par son **indice** : son numéro dans la liste entre crochet `[]`. Le premier est `[0]`, le second `[1]` et ainsi de suite\n",
    "\n",
    "La deuxième ligne du tableau 2D `horaire` est `horaire[1]`. Cette ligne est une liste"
   ]
  },
  {
   "cell_type": "code",
   "execution_count": 5,
   "id": "billion-parade",
   "metadata": {},
   "outputs": [
    {
     "name": "stdout",
     "output_type": "stream",
     "text": [
      "['S2', '8h51', 'Prilly-M, Lausanne, Pully, Aigle', 4]\n"
     ]
    }
   ],
   "source": [
    "print(horaire[1])"
   ]
  },
  {
   "cell_type": "markdown",
   "id": "strange-address",
   "metadata": {},
   "source": [
    "On accède de même aux éléments de la ligne `horaire[1]`\n",
    "\n",
    "L'élément `horaire[1][2]` correspond au troisième élément de la liste `horaire[1]`, donc la destination"
   ]
  },
  {
   "cell_type": "code",
   "execution_count": 6,
   "id": "flying-little",
   "metadata": {},
   "outputs": [
    {
     "name": "stdout",
     "output_type": "stream",
     "text": [
      "Prilly-M, Lausanne, Pully, Aigle\n"
     ]
    }
   ],
   "source": [
    "print(horaire[1][2])"
   ]
  },
  {
   "cell_type": "markdown",
   "id": "fleet-garden",
   "metadata": {},
   "source": [
    "On peut accéder à une plage d'éléments. La plage entre le premier et le deuxième élément s'écrit `horaire[0:2]`"
   ]
  },
  {
   "cell_type": "code",
   "execution_count": 7,
   "id": "environmental-mustang",
   "metadata": {},
   "outputs": [
    {
     "name": "stdout",
     "output_type": "stream",
     "text": [
      "['S22', '8h47', 'Bussigny, Vufflens-la-Ville', 1]\n",
      "['S2', '8h51', 'Prilly-M, Lausanne, Pully, Aigle', 4]\n"
     ]
    }
   ],
   "source": [
    "print(*horaire[0:2], sep='\\n')"
   ]
  },
  {
   "cell_type": "markdown",
   "id": "transparent-messenger",
   "metadata": {},
   "source": [
    "### Longueur d'un tableau\n",
    "\n",
    "La fonction `len(list)` retourne la longueur d'une liste"
   ]
  },
  {
   "cell_type": "code",
   "execution_count": 8,
   "id": "dedicated-lithuania",
   "metadata": {},
   "outputs": [
    {
     "data": {
      "text/plain": [
       "3"
      ]
     },
     "execution_count": 8,
     "metadata": {},
     "output_type": "execute_result"
    }
   ],
   "source": [
    "len(horaire)"
   ]
  },
  {
   "cell_type": "markdown",
   "id": "collected-parameter",
   "metadata": {},
   "source": [
    "La longueur de l'une ligne du tableau 2D est retourné avec l'index:"
   ]
  },
  {
   "cell_type": "code",
   "execution_count": 9,
   "id": "daily-norwegian",
   "metadata": {},
   "outputs": [
    {
     "data": {
      "text/plain": [
       "4"
      ]
     },
     "execution_count": 9,
     "metadata": {},
     "output_type": "execute_result"
    }
   ],
   "source": [
    "len(horaire[1])"
   ]
  },
  {
   "cell_type": "markdown",
   "id": "spoken-spine",
   "metadata": {},
   "source": [
    "### Ajouter un élément\n",
    "\n",
    "On peut ajouter une nouvelle ligne à la fin avec la fonction `list.append()` :"
   ]
  },
  {
   "cell_type": "code",
   "execution_count": 10,
   "id": "premier-webmaster",
   "metadata": {},
   "outputs": [
    {
     "name": "stdout",
     "output_type": "stream",
     "text": [
      "['S22', '8h47', 'Bussigny, Vufflens-la-Ville', 1]\n",
      "['S2', '8h51', 'Prilly-M, Lausanne, Pully, Aigle', 4]\n",
      "['S4', '8h55', 'Lausanne, Pully-Nord, Palézieux', 3]\n",
      "['RE', '8h58', 'Morges, Genève, Annemasse', 2]\n"
     ]
    }
   ],
   "source": [
    "train4 =  ['RE','8h58','Morges, Genève, Annemasse',2]\n",
    "horaire.append(train4)\n",
    "print(*horaire, sep='\\n')"
   ]
  },
  {
   "cell_type": "markdown",
   "id": "charitable-bandwidth",
   "metadata": {},
   "source": [
    "On peut ajouter une nouvelle ligne à la position `i` avec la fonction `list.insert(i,element)`"
   ]
  },
  {
   "cell_type": "code",
   "execution_count": 11,
   "id": "authorized-athens",
   "metadata": {},
   "outputs": [
    {
     "name": "stdout",
     "output_type": "stream",
     "text": [
      "['S22', '8h47', 'Bussigny, Vufflens-la-Ville', 1]\n",
      "['S2', '8h51', 'Prilly-M, Lausanne, Pully, Aigle', 4]\n",
      "['S4', '8h55', 'Lausanne, Pully-Nord, Palézieux', 3]\n",
      "['S1', '8h57', 'Prilly-M, Lausanne', 4]\n",
      "['RE', '8h58', 'Morges, Genève, Annemasse', 2]\n"
     ]
    }
   ],
   "source": [
    "train5 =  ['S1','8h57','Prilly-M, Lausanne',4]\n",
    "horaire.insert(3,train5)\n",
    "print(*horaire, sep='\\n')"
   ]
  },
  {
   "cell_type": "markdown",
   "id": "stuffed-shipping",
   "metadata": {},
   "source": [
    "### Enlever des éléments\n",
    "\n",
    "On peut enlever des éléments avec les méthodes suivantes : \n",
    "\n",
    "*`list.remove(x)` si l'élément `x` existe\n",
    "*`list.pop()` le dernier élément\n",
    "*`list.clear()` tous les éléments\n",
    "\n",
    "On enlève l'élément `train4` :"
   ]
  },
  {
   "cell_type": "code",
   "execution_count": 12,
   "id": "champion-density",
   "metadata": {},
   "outputs": [
    {
     "name": "stdout",
     "output_type": "stream",
     "text": [
      "['S22', '8h47', 'Bussigny, Vufflens-la-Ville', 1]\n",
      "['S2', '8h51', 'Prilly-M, Lausanne, Pully, Aigle', 4]\n",
      "['S4', '8h55', 'Lausanne, Pully-Nord, Palézieux', 3]\n",
      "['S1', '8h57', 'Prilly-M, Lausanne', 4]\n"
     ]
    }
   ],
   "source": [
    "horaire.remove(train4)\n",
    "print(*horaire, sep='\\n')"
   ]
  },
  {
   "cell_type": "markdown",
   "id": "floral-generic",
   "metadata": {},
   "source": [
    "On peut enlever le dernier élément avec la méthode `list.pop()`"
   ]
  },
  {
   "cell_type": "code",
   "execution_count": 13,
   "id": "fuzzy-classification",
   "metadata": {},
   "outputs": [
    {
     "name": "stdout",
     "output_type": "stream",
     "text": [
      "['S22', '8h47', 'Bussigny, Vufflens-la-Ville', 1]\n",
      "['S2', '8h51', 'Prilly-M, Lausanne, Pully, Aigle', 4]\n",
      "['S4', '8h55', 'Lausanne, Pully-Nord, Palézieux', 3]\n"
     ]
    }
   ],
   "source": [
    "horaire.pop()\n",
    "print(*horaire, sep='\\n')"
   ]
  },
  {
   "cell_type": "markdown",
   "id": "listed-wrapping",
   "metadata": {},
   "source": [
    "On efface tous les éléments avec la méthode `list.clear()`"
   ]
  },
  {
   "cell_type": "code",
   "execution_count": 14,
   "id": "lesbian-thumbnail",
   "metadata": {},
   "outputs": [
    {
     "name": "stdout",
     "output_type": "stream",
     "text": [
      "\n"
     ]
    }
   ],
   "source": [
    "horaire.clear()\n",
    "print(*horaire,sep = '\\n')"
   ]
  },
  {
   "cell_type": "code",
   "execution_count": 15,
   "id": "patient-works",
   "metadata": {},
   "outputs": [
    {
     "name": "stdout",
     "output_type": "stream",
     "text": [
      "['S22', '8h47', 'Bussigny, Vufflens-la-Ville', 1]\n",
      "['S2', '8h51', 'Prilly-M, Lausanne, Pully, Aigle', 4]\n",
      "['S4', '8h55', 'Lausanne, Pully-Nord, Palézieux', 3]\n",
      "['S1', '8h57', 'Prilly-M, Lausanne', 4]\n",
      "['RE', '8h58', 'Morges, Genève, Annemasse', 2]\n"
     ]
    }
   ],
   "source": [
    "horaire = [train1,train2,train3,train5,train4]\n",
    "print(*horaire, sep='\\n')"
   ]
  },
  {
   "cell_type": "markdown",
   "id": "frank-layout",
   "metadata": {},
   "source": [
    "**Exercice**\n",
    "\n",
    "1. Ajoutez à l'horaire le régional S1 pour Bussigny qui part à 9h01 sur voie 1\n",
    "1. Il est 8h50, le régional S22 pour Bussigny et Vufflens-la-Ville est parti. Supprimez-le de l'horaire\n",
    "1. Un dérangement sur la ligne de contact entre Vevey et Lausanne provoque un retard de 20 minutes. Ajoutez cette information pour le RE de 8h58 pour Annemasse\n",
    "1. Pour l'affichage de quai, sélectionnez tous les trains qui partiront de voie 4"
   ]
  },
  {
   "cell_type": "code",
   "execution_count": null,
   "id": "velvet-spirituality",
   "metadata": {},
   "outputs": [],
   "source": []
  }
 ],
 "metadata": {
  "kernelspec": {
   "display_name": "Python 3",
   "language": "python",
   "name": "python3"
  },
  "language_info": {
   "codemirror_mode": {
    "name": "ipython",
    "version": 3
   },
   "file_extension": ".py",
   "mimetype": "text/x-python",
   "name": "python",
   "nbconvert_exporter": "python",
   "pygments_lexer": "ipython3",
   "version": "3.9.1"
  }
 },
 "nbformat": 4,
 "nbformat_minor": 5
}
