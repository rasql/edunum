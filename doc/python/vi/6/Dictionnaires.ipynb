{
 "cells": [
  {
   "cell_type": "markdown",
   "id": "corresponding-delaware",
   "metadata": {},
   "source": [
    "# Dictionnaires\n",
    "\n",
    "Un dictionnaire est un type interne de Python qui ressemble à une liste, mais plus puissant. Dans une liste les indices sont des entiers. Dans un dictionnaire les indices peuvent être de n'importe quel type immuable (entier, nombre, texte, tuple, ...).\n",
    "\n",
    "![](dict.jpg)\n",
    "\n",
    "La fonction `dict` crée un dictionnaire vide. On pourrait aussi le créer avec une paire d'accolades `{}`. "
   ]
  },
  {
   "cell_type": "code",
   "execution_count": 2,
   "id": "narrative-virginia",
   "metadata": {},
   "outputs": [
    {
     "data": {
      "text/plain": [
       "{}"
      ]
     },
     "execution_count": 2,
     "metadata": {},
     "output_type": "execute_result"
    }
   ],
   "source": [
    "d = dict()\n",
    "d"
   ]
  },
  {
   "cell_type": "markdown",
   "id": "sustained-explanation",
   "metadata": {},
   "source": [
    "## Mémoire associative\n",
    "\n",
    "Un dictionnaire associe une **clé** à une **valeur**. Cette structure est aussi appelé \n",
    "\n",
    "- mémoire associtive\n",
    "- table de hachage\n",
    "\n",
    "Ce type de données est standard dans les languages récentes (JavaScript, Python, Ruby) mais absent les langages plus anciens (C, Fortran)."
   ]
  },
  {
   "cell_type": "markdown",
   "id": "polyphonic-poultry",
   "metadata": {},
   "source": [
    "Pour ajouter un élément à un dictionnaire, nous utilisons une expression de la forme `d[clé] = valeur`. Comme pour un 'vrai' dictionnaire qui associe des mots de deux langues, nous pouvons définir ceci."
   ]
  },
  {
   "cell_type": "code",
   "execution_count": 3,
   "id": "plain-slovak",
   "metadata": {},
   "outputs": [
    {
     "data": {
      "text/plain": [
       "{'un': 'one', 'deux': 'two'}"
      ]
     },
     "execution_count": 3,
     "metadata": {},
     "output_type": "execute_result"
    }
   ],
   "source": [
    "d['un'] = 'one'\n",
    "d['deux'] = 'two'\n",
    "d"
   ]
  },
  {
   "cell_type": "markdown",
   "id": "freelance-improvement",
   "metadata": {},
   "source": [
    "Un dictionnaire est représenté par ceci:\n",
    "\n",
    "- il est délimité par des accolades (`{}`)\n",
    "- ses éléments sont séparés par des virgules (`,`)\n",
    "- les paires **clé:valeur** sont séparé par un deux-point (`:`)\n",
    "\n",
    "Pour accéder à une valueur, nous utilisons un index entre crochets (`[]`) comme dans une liste."
   ]
  },
  {
   "cell_type": "code",
   "execution_count": 4,
   "id": "hydraulic-chorus",
   "metadata": {},
   "outputs": [
    {
     "data": {
      "text/plain": [
       "'two'"
      ]
     },
     "execution_count": 4,
     "metadata": {},
     "output_type": "execute_result"
    }
   ],
   "source": [
    "d['deux']"
   ]
  },
  {
   "cell_type": "markdown",
   "id": "educational-suggestion",
   "metadata": {},
   "source": [
    "Des nouveaux éléments peuvent être ajouté dans n'importer quel ordre."
   ]
  },
  {
   "cell_type": "code",
   "execution_count": 5,
   "id": "synthetic-silence",
   "metadata": {},
   "outputs": [
    {
     "data": {
      "text/plain": [
       "{'un': 'one', 'deux': 'two', 'dix': 'ten'}"
      ]
     },
     "execution_count": 5,
     "metadata": {},
     "output_type": "execute_result"
    }
   ],
   "source": [
    "d['dix'] = 'ten'\n",
    "d"
   ]
  },
  {
   "cell_type": "markdown",
   "id": "material-intention",
   "metadata": {},
   "source": [
    "Avec la fonction `len` nous trouvons la taille du dictionnaire."
   ]
  },
  {
   "cell_type": "code",
   "execution_count": 6,
   "id": "worthy-bangkok",
   "metadata": {},
   "outputs": [
    {
     "data": {
      "text/plain": [
       "3"
      ]
     },
     "execution_count": 6,
     "metadata": {},
     "output_type": "execute_result"
    }
   ],
   "source": [
    "len(d)"
   ]
  },
  {
   "cell_type": "markdown",
   "id": "double-distinction",
   "metadata": {},
   "source": [
    "Le mot-clé `in` permet de tester si un élément fait partie du dictionnaire."
   ]
  },
  {
   "cell_type": "code",
   "execution_count": 7,
   "id": "signal-structure",
   "metadata": {},
   "outputs": [
    {
     "data": {
      "text/plain": [
       "True"
      ]
     },
     "execution_count": 7,
     "metadata": {},
     "output_type": "execute_result"
    }
   ],
   "source": [
    "'deux' in d"
   ]
  },
  {
   "cell_type": "markdown",
   "id": "alpine-bibliography",
   "metadata": {},
   "source": [
    "Attention, le test est fait avec les clés, et non pas avec les valeurs."
   ]
  },
  {
   "cell_type": "code",
   "execution_count": 8,
   "id": "acute-banking",
   "metadata": {},
   "outputs": [
    {
     "data": {
      "text/plain": [
       "False"
      ]
     },
     "execution_count": 8,
     "metadata": {},
     "output_type": "execute_result"
    }
   ],
   "source": [
    "'two' in d"
   ]
  },
  {
   "cell_type": "markdown",
   "id": "spoken-louisiana",
   "metadata": {},
   "source": [
    "## Compter (histogramme)"
   ]
  },
  {
   "cell_type": "markdown",
   "id": "improving-triangle",
   "metadata": {},
   "source": [
    "Un dictionnaire est une structure idéale pour compter les éléments appartenant à différentes catégories. Par exemple si nous voulons compter l'apparence de chaque lettre dans un texte nous pouvons utiliser un dictionnaire."
   ]
  },
  {
   "cell_type": "code",
   "execution_count": 9,
   "id": "tender-mount",
   "metadata": {},
   "outputs": [
    {
     "data": {
      "text/plain": [
       "{'d': 1, 'i': 3, 'c': 1, 't': 1, 'o': 1, 'n': 2, 'a': 1, 'r': 1, 'e': 1}"
      ]
     },
     "execution_count": 9,
     "metadata": {},
     "output_type": "execute_result"
    }
   ],
   "source": [
    "phrase = 'dictionnaire'\n",
    "d = {}\n",
    "for c in phrase:\n",
    "    if c in d:\n",
    "        d[c] += 1\n",
    "    else:\n",
    "        d[c] = 1\n",
    "d"
   ]
  },
  {
   "cell_type": "markdown",
   "id": "crucial-noise",
   "metadata": {},
   "source": [
    "On appelle cette structure aussi un **histogramme**. Il nous montre que \n",
    "- la lettre **d** apparait une fois, \n",
    "- la lettre **i** apparait trois fois."
   ]
  },
  {
   "cell_type": "markdown",
   "id": "declared-spyware",
   "metadata": {},
   "source": [
    "La fonction `get` permet d'obtenir une valeur par défaut, si la clé n'existe pas encore dans le dictionnaire. Par exemple la lettre **b** n'est pas une clé du dictionnaire. La fonction retourne alors sa valeur par défaut qui est 0."
   ]
  },
  {
   "cell_type": "code",
   "execution_count": 10,
   "id": "provincial-texture",
   "metadata": {},
   "outputs": [
    {
     "data": {
      "text/plain": [
       "0"
      ]
     },
     "execution_count": 10,
     "metadata": {},
     "output_type": "execute_result"
    }
   ],
   "source": [
    "d.get('b', 0)"
   ]
  },
  {
   "cell_type": "markdown",
   "id": "stuffed-system",
   "metadata": {},
   "source": [
    "Ceci nous permet de raccourcir le programme du histogramme encore plus."
   ]
  },
  {
   "cell_type": "code",
   "execution_count": 11,
   "id": "plain-gates",
   "metadata": {},
   "outputs": [
    {
     "data": {
      "text/plain": [
       "{'d': 1, 'i': 3, 'c': 1, 't': 1, 'o': 1, 'n': 2, 'a': 1, 'r': 1, 'e': 1}"
      ]
     },
     "execution_count": 11,
     "metadata": {},
     "output_type": "execute_result"
    }
   ],
   "source": [
    "d = {}\n",
    "for c in phrase:\n",
    "    d[c] = d.get(c, 0) + 1\n",
    "d"
   ]
  },
  {
   "cell_type": "markdown",
   "id": "external-covering",
   "metadata": {},
   "source": [
    "## Itération sur les clés\n",
    "Nous pouvons itérer sur les clés d'un dictionnaire."
   ]
  },
  {
   "cell_type": "code",
   "execution_count": 12,
   "id": "floating-oakland",
   "metadata": {},
   "outputs": [
    {
     "name": "stdout",
     "output_type": "stream",
     "text": [
      "d 1\n",
      "i 3\n",
      "c 1\n",
      "t 1\n",
      "o 1\n",
      "n 2\n",
      "a 1\n",
      "r 1\n",
      "e 1\n"
     ]
    }
   ],
   "source": [
    "for c in d:\n",
    "    print(c, d[c])"
   ]
  },
  {
   "cell_type": "markdown",
   "id": "loving-steal",
   "metadata": {},
   "source": [
    "Transformer un dictionnaire en liste nous retourne une liste de ses clés."
   ]
  },
  {
   "cell_type": "code",
   "execution_count": 13,
   "id": "disabled-stevens",
   "metadata": {},
   "outputs": [
    {
     "data": {
      "text/plain": [
       "['d', 'i', 'c', 't', 'o', 'n', 'a', 'r', 'e']"
      ]
     },
     "execution_count": 13,
     "metadata": {},
     "output_type": "execute_result"
    }
   ],
   "source": [
    "list(d)"
   ]
  },
  {
   "cell_type": "markdown",
   "id": "duplicate-foster",
   "metadata": {},
   "source": [
    "La fonction `sorted` nous retourne une liste de ses clés, triée."
   ]
  },
  {
   "cell_type": "code",
   "execution_count": 14,
   "id": "changed-patient",
   "metadata": {},
   "outputs": [
    {
     "data": {
      "text/plain": [
       "['a', 'c', 'd', 'e', 'i', 'n', 'o', 'r', 't']"
      ]
     },
     "execution_count": 14,
     "metadata": {},
     "output_type": "execute_result"
    }
   ],
   "source": [
    "sorted(d)"
   ]
  },
  {
   "cell_type": "markdown",
   "id": "suited-velvet",
   "metadata": {},
   "source": [
    "## List et ensemble des valeurs\n",
    "\n",
    "La méthode `values` retourne toutes les valeurs."
   ]
  },
  {
   "cell_type": "code",
   "execution_count": 15,
   "id": "interested-serbia",
   "metadata": {},
   "outputs": [
    {
     "data": {
      "text/plain": [
       "dict_values([1, 3, 1, 1, 1, 2, 1, 1, 1])"
      ]
     },
     "execution_count": 15,
     "metadata": {},
     "output_type": "execute_result"
    }
   ],
   "source": [
    "d.values()"
   ]
  },
  {
   "cell_type": "markdown",
   "id": "opposed-business",
   "metadata": {},
   "source": [
    "Nous pouvons les transformer en liste ordinaire."
   ]
  },
  {
   "cell_type": "code",
   "execution_count": 16,
   "id": "reduced-calibration",
   "metadata": {},
   "outputs": [
    {
     "data": {
      "text/plain": [
       "[1, 3, 1, 1, 1, 2, 1, 1, 1]"
      ]
     },
     "execution_count": 16,
     "metadata": {},
     "output_type": "execute_result"
    }
   ],
   "source": [
    "list(d.values())"
   ]
  },
  {
   "cell_type": "markdown",
   "id": "biblical-processing",
   "metadata": {},
   "source": [
    "Nous pouvons également la transformer en **ensemble** et éliminer les doublons."
   ]
  },
  {
   "cell_type": "code",
   "execution_count": 17,
   "id": "urban-favor",
   "metadata": {},
   "outputs": [
    {
     "data": {
      "text/plain": [
       "{1, 2, 3}"
      ]
     },
     "execution_count": 17,
     "metadata": {},
     "output_type": "execute_result"
    }
   ],
   "source": [
    "set(d.values())"
   ]
  },
  {
   "cell_type": "markdown",
   "id": "legitimate-richards",
   "metadata": {},
   "source": [
    "## Inverser un dictionnaire\n",
    "\n",
    "Toutes les clés d'un dictionnaire sont unique. Par contre, il est tout à fait possible d'avoir multiples valeurs qui sont identiques. Si nous inversons un dictionnaire, une valeur peut correspondre à multiple clés, que nous pouvons représenter comme liste. "
   ]
  },
  {
   "cell_type": "code",
   "execution_count": 18,
   "id": "insured-delivery",
   "metadata": {},
   "outputs": [
    {
     "data": {
      "text/plain": [
       "{1: ['d', 'c', 't', 'o', 'a', 'r', 'e'], 3: ['i'], 2: ['n']}"
      ]
     },
     "execution_count": 18,
     "metadata": {},
     "output_type": "execute_result"
    }
   ],
   "source": [
    "inverse = {}\n",
    "for c in d:\n",
    "    val = d[c]\n",
    "    if val in inverse:\n",
    "        inverse[val].append(c)\n",
    "    else:\n",
    "        inverse[val] = [c]\n",
    "inverse"
   ]
  },
  {
   "cell_type": "code",
   "execution_count": 19,
   "id": "material-inspector",
   "metadata": {},
   "outputs": [],
   "source": [
    "train1 = ['S22','8h47','Bussigny, Vufflens-la-Ville',1]"
   ]
  },
  {
   "cell_type": "code",
   "execution_count": 20,
   "id": "devoted-forestry",
   "metadata": {},
   "outputs": [],
   "source": [
    "train2 = ['S2','8h51','Prilly-M, Lausanne, Pully, Aigle',4]"
   ]
  },
  {
   "cell_type": "code",
   "execution_count": 21,
   "id": "modified-million",
   "metadata": {},
   "outputs": [],
   "source": [
    "train3 =  ['S4','8h55','Lausanne, Pully-Nord, Palézieux',3]"
   ]
  },
  {
   "cell_type": "code",
   "execution_count": 22,
   "id": "demonstrated-bracelet",
   "metadata": {},
   "outputs": [
    {
     "name": "stdout",
     "output_type": "stream",
     "text": [
      "['S22', '8h47', 'Bussigny, Vufflens-la-Ville', 1]\n",
      "['S2', '8h51', 'Prilly-M, Lausanne, Pully, Aigle', 4]\n",
      "['S4', '8h55', 'Lausanne, Pully-Nord, Palézieux', 3]\n"
     ]
    }
   ],
   "source": [
    "horaire = [train1,train2,train3]\n",
    "print(*horaire, sep='\\n')"
   ]
  },
  {
   "cell_type": "code",
   "execution_count": 48,
   "id": "extra-attack",
   "metadata": {},
   "outputs": [],
   "source": [
    "horaire_dict = {}\n",
    "for l2 in horaire:\n",
    "    horaire_dict[horaire.index(l2)] = l2"
   ]
  },
  {
   "cell_type": "code",
   "execution_count": 49,
   "id": "differential-poland",
   "metadata": {},
   "outputs": [
    {
     "data": {
      "text/plain": [
       "{0: ['S22', '8h47', 'Bussigny, Vufflens-la-Ville', 1],\n",
       " 1: ['S2', '8h51', 'Prilly-M, Lausanne, Pully, Aigle', 4],\n",
       " 2: ['S4', '8h55', 'Lausanne, Pully-Nord, Palézieux', 3]}"
      ]
     },
     "execution_count": 49,
     "metadata": {},
     "output_type": "execute_result"
    }
   ],
   "source": [
    "horaire_dict"
   ]
  },
  {
   "cell_type": "code",
   "execution_count": 37,
   "id": "differential-dominican",
   "metadata": {},
   "outputs": [
    {
     "ename": "KeyError",
     "evalue": "''",
     "output_type": "error",
     "traceback": [
      "\u001b[0;31m---------------------------------------------------------------------------\u001b[0m",
      "\u001b[0;31mKeyError\u001b[0m                                  Traceback (most recent call last)",
      "\u001b[0;32m<ipython-input-37-f9b797740fa8>\u001b[0m in \u001b[0;36m<module>\u001b[0;34m\u001b[0m\n\u001b[0;32m----> 1\u001b[0;31m \u001b[0mhoraire_dict\u001b[0m\u001b[0;34m[\u001b[0m\u001b[0;34m''\u001b[0m\u001b[0;34m]\u001b[0m\u001b[0;34m[\u001b[0m\u001b[0;36m3\u001b[0m\u001b[0;34m]\u001b[0m\u001b[0;34m\u001b[0m\u001b[0;34m\u001b[0m\u001b[0m\n\u001b[0m",
      "\u001b[0;31mKeyError\u001b[0m: ''"
     ]
    }
   ],
   "source": [
    "horaire_dict[''][3]"
   ]
  },
  {
   "cell_type": "code",
   "execution_count": null,
   "id": "surprising-thesaurus",
   "metadata": {},
   "outputs": [],
   "source": []
  },
  {
   "cell_type": "code",
   "execution_count": null,
   "id": "norwegian-reward",
   "metadata": {},
   "outputs": [],
   "source": []
  }
 ],
 "metadata": {
  "kernelspec": {
   "display_name": "Python 3",
   "language": "python",
   "name": "python3"
  },
  "language_info": {
   "codemirror_mode": {
    "name": "ipython",
    "version": 3
   },
   "file_extension": ".py",
   "mimetype": "text/x-python",
   "name": "python",
   "nbconvert_exporter": "python",
   "pygments_lexer": "ipython3",
   "version": "3.9.1"
  }
 },
 "nbformat": 4,
 "nbformat_minor": 5
}
