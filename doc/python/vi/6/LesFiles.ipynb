{
 "cells": [
  {
   "cell_type": "markdown",
   "id": "exact-danish",
   "metadata": {},
   "source": [
    "# Piles et files\n",
    "\n",
    "Les **piles et les files** sont des structures de données proches des listes. Elles permettent de gérer l'arrivé et le départ de ses éléments.\n",
    "\n",
    "![](img/poste.jpeg)\n",
    "\n",
    "Voici une file d'attente de la Poste, avec un panneau qui affiche la gestion de la liste d'attente."
   ]
  },
  {
   "cell_type": "markdown",
   "id": "julian-disclosure",
   "metadata": {},
   "source": [
    "### Pile\n",
    "\n",
    "Dans une pile d'assiettes, il est possible d'accéder uniquement à la dernière ajoutée: celle qui se trouve au sommet. Dans une pile, il n'est donc possible d'effectuer que les opérations suivantes :\n",
    "\n",
    "* créer une nouvelle pile vide\n",
    "* empiler un nouvel élément\n",
    "* récupérer un élément au sommet de la pile\n",
    "\n",
    "Dans une pile, **le dernier élément ajouté est le premier que l'on peut enlever**"
   ]
  },
  {
   "cell_type": "markdown",
   "id": "curious-flush",
   "metadata": {},
   "source": [
    "### File\n",
    "\n",
    "Lorsque vous allez au guichet postal, vous recevez un numéro. Lorsqu'un guichet se libère, c'est le numéro le plus petit qui est servi. S'il y a 10 numéros avant vous, vous devrez attendre que ces 10 personnes soient servies avant vous.\n",
    "\n",
    "Les opérations d'une file sont :\n",
    "\n",
    "* créer une nouvelle file vide\n",
    "* ajouter un nouvel élément à la file\n",
    "* supprimer un élément de la file\n",
    "\n",
    "Dans une file, **le premier élément ajouté est le dernier que l'on peut enlever**"
   ]
  },
  {
   "cell_type": "markdown",
   "id": "opposed-camping",
   "metadata": {},
   "source": [
    "## La pile\n",
    "\n",
    "La **pile** est un structure de données qui permet de gérer un ensemble d'éléments et leur arrivés et départs dans le temps. \n",
    "\n",
    "Dans une pile le dernier élément arrivé est le premier à partir. Cette structure s'appele **stack** en anglais ou **LIFO** (*Last In First Out* en anglais)\n",
    "\n",
    "On ajoute un élément avec la fonction `append()` et on le supprime avec la fonction `pop()`. Simulons une pile avec des livres que nous avons sur notre bureau.\n",
    "\n",
    "Commençons avec une pile vide."
   ]
  },
  {
   "cell_type": "code",
   "execution_count": 47,
   "id": "strong-tamil",
   "metadata": {},
   "outputs": [],
   "source": [
    "pile = []"
   ]
  },
  {
   "cell_type": "markdown",
   "id": "favorite-ridge",
   "metadata": {},
   "source": [
    "Nous allons maintenant ajouter 3 livres sur la pile, en utilisant la fonction `append`."
   ]
  },
  {
   "cell_type": "code",
   "execution_count": 48,
   "id": "elegant-church",
   "metadata": {},
   "outputs": [],
   "source": [
    "pile.append('Zola')\n",
    "pile.append('Balzac')\n",
    "pile.append('Hugo')"
   ]
  },
  {
   "cell_type": "markdown",
   "id": "departmental-logan",
   "metadata": {},
   "source": [
    "Voici la pile actuelle"
   ]
  },
  {
   "cell_type": "code",
   "execution_count": 49,
   "id": "elegant-thompson",
   "metadata": {},
   "outputs": [
    {
     "data": {
      "text/plain": [
       "['Zola', 'Balzac', 'Hugo']"
      ]
     },
     "execution_count": 49,
     "metadata": {},
     "output_type": "execute_result"
    }
   ],
   "source": [
    "pile"
   ]
  },
  {
   "cell_type": "markdown",
   "id": "eastern-delicious",
   "metadata": {},
   "source": [
    "Dans une pile, le seul livre qui peut être enlevé est le le dernier ajouté. Nous utilisons la fonction `pop` pour enlever un livre."
   ]
  },
  {
   "cell_type": "code",
   "execution_count": 50,
   "id": "automatic-result",
   "metadata": {},
   "outputs": [
    {
     "data": {
      "text/plain": [
       "'Hugo'"
      ]
     },
     "execution_count": 50,
     "metadata": {},
     "output_type": "execute_result"
    }
   ],
   "source": [
    "pile.pop()"
   ]
  },
  {
   "cell_type": "markdown",
   "id": "dress-remark",
   "metadata": {},
   "source": [
    "Mettons 3 autres livres sur la pile."
   ]
  },
  {
   "cell_type": "code",
   "execution_count": 51,
   "id": "robust-basket",
   "metadata": {},
   "outputs": [],
   "source": [
    "pile.append('Frisch')\n",
    "pile.append('Murakami')\n",
    "pile.append('Higgins')"
   ]
  },
  {
   "cell_type": "markdown",
   "id": "processed-jackson",
   "metadata": {},
   "source": [
    "Enlevons-en un."
   ]
  },
  {
   "cell_type": "code",
   "execution_count": 52,
   "id": "continuing-pipeline",
   "metadata": {},
   "outputs": [
    {
     "data": {
      "text/plain": [
       "'Higgins'"
      ]
     },
     "execution_count": 52,
     "metadata": {},
     "output_type": "execute_result"
    }
   ],
   "source": [
    "pile.pop()"
   ]
  },
  {
   "cell_type": "markdown",
   "id": "weighted-subsection",
   "metadata": {},
   "source": [
    "Combien de livres restent sur la pile ?"
   ]
  },
  {
   "cell_type": "code",
   "execution_count": 53,
   "id": "demonstrated-interim",
   "metadata": {},
   "outputs": [
    {
     "data": {
      "text/plain": [
       "4"
      ]
     },
     "execution_count": 53,
     "metadata": {},
     "output_type": "execute_result"
    }
   ],
   "source": [
    "len(pile)"
   ]
  },
  {
   "cell_type": "markdown",
   "id": "boring-honolulu",
   "metadata": {},
   "source": [
    "Lesquels?"
   ]
  },
  {
   "cell_type": "code",
   "execution_count": 54,
   "id": "appropriate-postage",
   "metadata": {},
   "outputs": [
    {
     "data": {
      "text/plain": [
       "['Zola', 'Balzac', 'Frisch', 'Murakami']"
      ]
     },
     "execution_count": 54,
     "metadata": {},
     "output_type": "execute_result"
    }
   ],
   "source": [
    "pile"
   ]
  },
  {
   "cell_type": "markdown",
   "id": "textile-cradle",
   "metadata": {},
   "source": [
    "**Exercice**  \n",
    "Enlevez d'abord un livre et ajoutez ensuite deux nouveaux livres à vous."
   ]
  },
  {
   "cell_type": "markdown",
   "id": "fitting-parks",
   "metadata": {},
   "source": [
    "## Affichons la pile\n",
    "Essayons d'afficher la pile des livres."
   ]
  },
  {
   "cell_type": "code",
   "execution_count": 87,
   "id": "hydraulic-worship",
   "metadata": {},
   "outputs": [
    {
     "name": "stdout",
     "output_type": "stream",
     "text": [
      "Zola\n",
      "Balzac\n",
      "Frisch\n",
      "Murakami\n"
     ]
    }
   ],
   "source": [
    "for livre in pile:\n",
    "    print(livre)"
   ]
  },
  {
   "cell_type": "markdown",
   "id": "unnecessary-grocery",
   "metadata": {},
   "source": [
    "Le problème avec cette façon d'imprimer c'est que la pile n'est pas dans le bon ordre. Nous pouvons utiliser l'opérateur de tranche `[::-1]` pour inverser l'ordre d'une liste."
   ]
  },
  {
   "cell_type": "code",
   "execution_count": 88,
   "id": "elder-force",
   "metadata": {},
   "outputs": [
    {
     "name": "stdout",
     "output_type": "stream",
     "text": [
      "Murakami\n",
      "Frisch\n",
      "Balzac\n",
      "Zola\n"
     ]
    }
   ],
   "source": [
    "for livre in pile[::-1]:\n",
    "    print(livre)"
   ]
  },
  {
   "cell_type": "markdown",
   "id": "dental-aggregate",
   "metadata": {},
   "source": [
    "**Exercice**   \n",
    "Enlevez un livre de la pile avec `pop` et affichez la pile qui reste."
   ]
  },
  {
   "cell_type": "markdown",
   "id": "super-binary",
   "metadata": {},
   "source": [
    "## La file d'attente\n",
    "\n",
    "La file d'attente est une structure de données qui permet de gérer les arrivés et départs. \n",
    "\n",
    "Dans une file d'attente le premier élément arrivé est le premier à partir. C'est pour cette raison qu'en anglais une file d'attente est connu sous le nom **FIFO** (First In First Out).\n",
    "\n",
    "Simulons une file d'attente à la caféteria. Nous commençons avec une file vide."
   ]
  },
  {
   "cell_type": "code",
   "execution_count": 91,
   "id": "located-disposition",
   "metadata": {},
   "outputs": [],
   "source": [
    "file = []"
   ]
  },
  {
   "cell_type": "markdown",
   "id": "automotive-sleep",
   "metadata": {},
   "source": [
    "C'est midi et les personnes commençent à arriver.  \n",
    "La fonction `append` permet de les ajouter à la liste `file`."
   ]
  },
  {
   "cell_type": "code",
   "execution_count": 92,
   "id": "universal-works",
   "metadata": {},
   "outputs": [],
   "source": [
    "file.append('Anna')\n",
    "file.append('Tom')\n",
    "file.append('Léa')"
   ]
  },
  {
   "cell_type": "markdown",
   "id": "medium-algorithm",
   "metadata": {},
   "source": [
    "Nous avons maintenant les perssonnes suivantes dans la file d'attente."
   ]
  },
  {
   "cell_type": "code",
   "execution_count": 93,
   "id": "falling-horror",
   "metadata": {},
   "outputs": [
    {
     "data": {
      "text/plain": [
       "['Anna', 'Tom', 'Léa']"
      ]
     },
     "execution_count": 93,
     "metadata": {},
     "output_type": "execute_result"
    }
   ],
   "source": [
    "file"
   ]
  },
  {
   "cell_type": "markdown",
   "id": "pretty-credit",
   "metadata": {},
   "source": [
    "La première personne à être servi, est enlevé de la liste avec la fonction `pop(0)`"
   ]
  },
  {
   "cell_type": "code",
   "execution_count": 94,
   "id": "later-opportunity",
   "metadata": {},
   "outputs": [
    {
     "data": {
      "text/plain": [
       "'Anna'"
      ]
     },
     "execution_count": 94,
     "metadata": {},
     "output_type": "execute_result"
    }
   ],
   "source": [
    "file.pop(0)"
   ]
  },
  {
   "cell_type": "markdown",
   "id": "hawaiian-congress",
   "metadata": {},
   "source": [
    "La file est devenu plus petite."
   ]
  },
  {
   "cell_type": "code",
   "execution_count": 95,
   "id": "illegal-going",
   "metadata": {},
   "outputs": [
    {
     "data": {
      "text/plain": [
       "['Tom', 'Léa']"
      ]
     },
     "execution_count": 95,
     "metadata": {},
     "output_type": "execute_result"
    }
   ],
   "source": [
    "file"
   ]
  },
  {
   "cell_type": "markdown",
   "id": "alive-sleeping",
   "metadata": {},
   "source": [
    "Des nouvelles personnes arrivent."
   ]
  },
  {
   "cell_type": "code",
   "execution_count": 96,
   "id": "subsequent-punishment",
   "metadata": {},
   "outputs": [],
   "source": [
    "file.append('Jim')\n",
    "file.append('Noa')\n",
    "file.append('Elsa')"
   ]
  },
  {
   "cell_type": "markdown",
   "id": "attractive-scanner",
   "metadata": {},
   "source": [
    "Une nouvelle personne est servie."
   ]
  },
  {
   "cell_type": "code",
   "execution_count": 97,
   "id": "perfect-pride",
   "metadata": {},
   "outputs": [
    {
     "data": {
      "text/plain": [
       "'Tom'"
      ]
     },
     "execution_count": 97,
     "metadata": {},
     "output_type": "execute_result"
    }
   ],
   "source": [
    "file.pop(0)"
   ]
  },
  {
   "cell_type": "markdown",
   "id": "stainless-gambling",
   "metadata": {},
   "source": [
    "Combient de personne sont en attente ?"
   ]
  },
  {
   "cell_type": "code",
   "execution_count": 98,
   "id": "intelligent-winner",
   "metadata": {},
   "outputs": [
    {
     "data": {
      "text/plain": [
       "4"
      ]
     },
     "execution_count": 98,
     "metadata": {},
     "output_type": "execute_result"
    }
   ],
   "source": [
    "len(file)"
   ]
  },
  {
   "cell_type": "markdown",
   "id": "continent-partnership",
   "metadata": {},
   "source": [
    "Qui est dans la file d'attente"
   ]
  },
  {
   "cell_type": "code",
   "execution_count": 99,
   "id": "aggressive-czech",
   "metadata": {},
   "outputs": [
    {
     "data": {
      "text/plain": [
       "['Léa', 'Jim', 'Noa', 'Elsa']"
      ]
     },
     "execution_count": 99,
     "metadata": {},
     "output_type": "execute_result"
    }
   ],
   "source": [
    "file"
   ]
  },
  {
   "cell_type": "markdown",
   "id": "tropical-vegetation",
   "metadata": {},
   "source": [
    "**Exercice**   \n",
    "Utilisez la fonction `pop` pour enlever les personnes dans le bon ordre."
   ]
  },
  {
   "cell_type": "markdown",
   "id": "universal-client",
   "metadata": {},
   "source": [
    "## A la poste\n",
    "\n",
    "Nous sommes à la Poste de Renens et il est 14h. Trois guichets sont ouverts et deux personnes attendent dans la file. La machine à tickets indique que le prochain ticket délivré sera le 544. Les guichets sont décrits comme un dictionnaire, et la file d'attente comme une file:"
   ]
  },
  {
   "cell_type": "code",
   "execution_count": 109,
   "id": "equipped-illness",
   "metadata": {},
   "outputs": [],
   "source": [
    "file = [542, 543]"
   ]
  },
  {
   "cell_type": "markdown",
   "id": "stuck-music",
   "metadata": {},
   "source": [
    "Le prochain numéro sera donc"
   ]
  },
  {
   "cell_type": "code",
   "execution_count": 110,
   "id": "systematic-religious",
   "metadata": {},
   "outputs": [
    {
     "data": {
      "text/plain": [
       "544"
      ]
     },
     "execution_count": 110,
     "metadata": {},
     "output_type": "execute_result"
    }
   ],
   "source": [
    "file[-1] + 1"
   ]
  },
  {
   "cell_type": "markdown",
   "id": "protective-shower",
   "metadata": {},
   "source": [
    "Si une personne entre, elle prend son numéro et elle s'insérer dans la liste d'attente."
   ]
  },
  {
   "cell_type": "code",
   "execution_count": 111,
   "id": "successful-green",
   "metadata": {},
   "outputs": [],
   "source": [
    "suivant = file[-1] + 1\n",
    "file.append(suivant)"
   ]
  },
  {
   "cell_type": "markdown",
   "id": "backed-liberia",
   "metadata": {},
   "source": [
    "La file d'attente comprend maintenant:"
   ]
  },
  {
   "cell_type": "code",
   "execution_count": 112,
   "id": "bottom-interaction",
   "metadata": {},
   "outputs": [
    {
     "data": {
      "text/plain": [
       "[542, 543, 544]"
      ]
     },
     "execution_count": 112,
     "metadata": {},
     "output_type": "execute_result"
    }
   ],
   "source": [
    "file"
   ]
  },
  {
   "cell_type": "markdown",
   "id": "coastal-subject",
   "metadata": {},
   "source": [
    "Ensuite deux personnes entrent."
   ]
  },
  {
   "cell_type": "code",
   "execution_count": 113,
   "id": "conscious-bowling",
   "metadata": {},
   "outputs": [
    {
     "data": {
      "text/plain": [
       "[542, 543, 544, 545, 546]"
      ]
     },
     "execution_count": 113,
     "metadata": {},
     "output_type": "execute_result"
    }
   ],
   "source": [
    "file.append(file[-1] + 1)\n",
    "file.append(file[-1] + 1)\n",
    "file"
   ]
  },
  {
   "cell_type": "markdown",
   "id": "handy-teaching",
   "metadata": {},
   "source": [
    "## Le guichet\n",
    "\n",
    "Il a trois guichez A, B, et C, qui vont se libérer de façon alétoire.  \n",
    "Nous importons la  le module `random` et utilisons la fonction `choice` pour choisir un des trois guichets de façon aléatoire."
   ]
  },
  {
   "cell_type": "code",
   "execution_count": 114,
   "id": "communist-meaning",
   "metadata": {},
   "outputs": [
    {
     "data": {
      "text/plain": [
       "'A'"
      ]
     },
     "execution_count": 114,
     "metadata": {},
     "output_type": "execute_result"
    }
   ],
   "source": [
    "import random\n",
    "random.choice('ABC')"
   ]
  },
  {
   "cell_type": "markdown",
   "id": "reflected-palestinian",
   "metadata": {},
   "source": [
    "Le prochain guicez qui se libère"
   ]
  },
  {
   "cell_type": "code",
   "execution_count": 115,
   "id": "ambient-gibraltar",
   "metadata": {},
   "outputs": [
    {
     "data": {
      "text/plain": [
       "'C'"
      ]
     },
     "execution_count": 115,
     "metadata": {},
     "output_type": "execute_result"
    }
   ],
   "source": [
    "random.choice('ABC')"
   ]
  },
  {
   "cell_type": "markdown",
   "id": "polar-remedy",
   "metadata": {},
   "source": [
    "C'est la personne entrée en premier qui peut se diriger vers le guicet qui se libère"
   ]
  },
  {
   "cell_type": "code",
   "execution_count": 116,
   "id": "grand-qualification",
   "metadata": {},
   "outputs": [
    {
     "name": "stdout",
     "output_type": "stream",
     "text": [
      "542 A\n"
     ]
    }
   ],
   "source": [
    "suivant = file.pop(0)\n",
    "guichet = random.choice('ABC')\n",
    "print(suivant, guichet)"
   ]
  },
  {
   "cell_type": "markdown",
   "id": "parallel-flooring",
   "metadata": {},
   "source": [
    "## FIXME\n",
    "\n",
    "Si une personne est au guichet, la valeur est `True`, sinon `False`\n",
    "\n",
    "1. Une femme entre dans la poste, elle va chercher son ticket. \n",
    "1. Le guichet 1 et le guichet 3 se libèrent. Deux personnes de la file les occupent ensuite\n",
    "1. Une femme suivie d'un homme pressé entrent dans la poste et vont chercher leurs ticket.\n",
    "1. Le guichet 2 se libère\n",
    "1. L'homme pressé quitte la poste, il en a marre d'attendre\n",
    "\n",
    "Traduisez en Python les étapes en utilisant les fonctions suivantes :\n",
    "\n",
    "* `file.append(file[-1]+1)` pour ajouter une personne dans la file\n",
    "* `file.pop(0)` pour enlever une personne de la file\n",
    "* `guichets['guichet 1'] = False` pour enlever une personne du guichet 1\n",
    "* `guichets['guichet 1'] = True` pour ajouter une personne dans la file"
   ]
  },
  {
   "cell_type": "markdown",
   "id": "unexpected-provision",
   "metadata": {},
   "source": [
    "Après les étapes, quel est l'état des guichets ? Quels sont les numéros des tickets dans la file ? Quel est le prochain numéro délivré par la machine à tickets ?\n",
    "\n",
    "* `guichets` pour afficher l'état des guichets\n",
    "* `print(file)` pour afficher l'état de la file\n"
   ]
  },
  {
   "cell_type": "code",
   "execution_count": null,
   "id": "fifteen-reading",
   "metadata": {},
   "outputs": [],
   "source": []
  }
 ],
 "metadata": {
  "kernelspec": {
   "display_name": "Python 3",
   "language": "python",
   "name": "python3"
  },
  "language_info": {
   "codemirror_mode": {
    "name": "ipython",
    "version": 3
   },
   "file_extension": ".py",
   "mimetype": "text/x-python",
   "name": "python",
   "nbconvert_exporter": "python",
   "pygments_lexer": "ipython3",
   "version": "3.7.9"
  }
 },
 "nbformat": 4,
 "nbformat_minor": 5
}
