{
 "cells": [
  {
   "cell_type": "markdown",
   "id": "brazilian-painting",
   "metadata": {},
   "source": [
    "# Piles et files\n",
    "\n",
    "Les piles et les files sont des structures de données proches des listes, mais sans toutes les caractéristiques des listes. Elles permettent de mettre en oeuvre certains problèmes et algorithmes simplement\n",
    "\n",
    "![](img/poste.jpeg)\n"
   ]
  },
  {
   "cell_type": "markdown",
   "id": "portable-pontiac",
   "metadata": {},
   "source": [
    "## Une file d'attente\n",
    "Pour comprendre les caractéristiques d'une pile et d'une file, nous donnons ici deux exemples de la vie de tous les jours"
   ]
  },
  {
   "cell_type": "markdown",
   "id": "opening-depression",
   "metadata": {},
   "source": [
    "### Pile\n",
    "\n",
    "Dans une pile d'assiettes, il est possible d'accéder uniquement à la dernière ajoutée: celle qui se trouve au sommet. Dans une pile, il n'est donc possible d'effectuer que les opérations suivantes :\n",
    "\n",
    "* créer une nouvelle pile vide\n",
    "* empiler un nouvel élément\n",
    "* récupérer un élément au sommet de la pile\n",
    "\n",
    "Dans une pile, **le dernier élément ajouté est le premier que l'on peut enlever**"
   ]
  },
  {
   "cell_type": "markdown",
   "id": "stuck-denver",
   "metadata": {},
   "source": [
    "### File\n",
    "\n",
    "Lorsque vous allez au guichet postal, vous recevez un numéro. Lorsqu'un guichet se libère, c'est le numéro le plus petit qui est servi. S'il y a 10 numéros avant vous, vous devrez attendre que ces 10 personnes soient servies avant vous.\n",
    "\n",
    "Les opérations d'une file sont :\n",
    "\n",
    "* créer une nouvelle file vide\n",
    "* ajouter un nouvel élément à la file\n",
    "* supprimer un élément de la file\n",
    "\n",
    "Dans une file, **le premier élément ajouté est le dernier que l'on peut enlever**"
   ]
  },
  {
   "cell_type": "markdown",
   "id": "medium-majority",
   "metadata": {},
   "source": [
    "## La pile (LIFO)\n",
    "\n",
    "La **pile** est un structure de données qui permet de gérer un ensemble d'éléments et leur arrivés et départs dans le temps. Dans une pile le dernier élément arrivé est le premier à partir.\n",
    "\n",
    "Cette structure s'appele **stack** en anglais ou **LIFO** (*Last In First Out* en anglais)\n",
    "\n",
    "On ajoute un élément avec la fonction `append()` et on le supprime avec la fonction `pop()`"
   ]
  },
  {
   "cell_type": "code",
   "execution_count": 26,
   "id": "addressed-evidence",
   "metadata": {},
   "outputs": [
    {
     "data": {
      "text/plain": [
       "[3, 1, 4, 1]"
      ]
     },
     "execution_count": 26,
     "metadata": {},
     "output_type": "execute_result"
    }
   ],
   "source": [
    "pile = [3, 1]\n",
    "pile.append(4)\n",
    "pile.append(1)\n",
    "pile"
   ]
  },
  {
   "cell_type": "code",
   "execution_count": 27,
   "id": "basic-groove",
   "metadata": {},
   "outputs": [
    {
     "data": {
      "text/plain": [
       "1"
      ]
     },
     "execution_count": 27,
     "metadata": {},
     "output_type": "execute_result"
    }
   ],
   "source": [
    "pile.pop()"
   ]
  },
  {
   "cell_type": "code",
   "execution_count": 28,
   "id": "focal-gathering",
   "metadata": {},
   "outputs": [
    {
     "data": {
      "text/plain": [
       "[3, 1, 4]"
      ]
     },
     "execution_count": 28,
     "metadata": {},
     "output_type": "execute_result"
    }
   ],
   "source": [
    "pile"
   ]
  },
  {
   "cell_type": "markdown",
   "id": "sustainable-allowance",
   "metadata": {},
   "source": [
    "## Le tampon (FIFO)\n",
    "\n",
    "La **tampon** (ou le file d'attente) est un structure de données qui permet de gérer des éléments et leur arrivés et départs. Dans une file d'attente le premier élément arrivé est le premier à partir.\n",
    "\n",
    "Cette structure s'appele **buffer** en anglais ou **FIFO** (*First In First Out* en anglais)"
   ]
  },
  {
   "cell_type": "code",
   "execution_count": 1,
   "id": "altered-royalty",
   "metadata": {},
   "outputs": [
    {
     "data": {
      "text/plain": [
       "['h', 'a', 'm']"
      ]
     },
     "execution_count": 1,
     "metadata": {},
     "output_type": "execute_result"
    }
   ],
   "source": [
    "tampon = ['h', 'a']\n",
    "tampon.append('m')\n",
    "tampon"
   ]
  },
  {
   "cell_type": "code",
   "execution_count": 2,
   "id": "wired-variety",
   "metadata": {},
   "outputs": [
    {
     "data": {
      "text/plain": [
       "'h'"
      ]
     },
     "execution_count": 2,
     "metadata": {},
     "output_type": "execute_result"
    }
   ],
   "source": [
    "tampon.pop(0)"
   ]
  },
  {
   "cell_type": "code",
   "execution_count": 3,
   "id": "little-height",
   "metadata": {},
   "outputs": [
    {
     "data": {
      "text/plain": [
       "['a', 'm']"
      ]
     },
     "execution_count": 3,
     "metadata": {},
     "output_type": "execute_result"
    }
   ],
   "source": [
    "tampon"
   ]
  },
  {
   "cell_type": "markdown",
   "id": "completed-independence",
   "metadata": {},
   "source": [
    "L'accès au premier élément se fait avec la notation `[-1]`:"
   ]
  },
  {
   "cell_type": "code",
   "execution_count": 4,
   "id": "personal-implement",
   "metadata": {},
   "outputs": [
    {
     "data": {
      "text/plain": [
       "'m'"
      ]
     },
     "execution_count": 4,
     "metadata": {},
     "output_type": "execute_result"
    }
   ],
   "source": [
    "tampon[-1]"
   ]
  },
  {
   "cell_type": "markdown",
   "id": "aggressive-humanity",
   "metadata": {},
   "source": [
    "**Exercice**\n",
    "\n",
    "Nous sommes à la Poste de Renens et il est 14h. Trois guichets sont ouverts et deux personnes attendent dans la file. La machine à tickets indique que le prochain ticket délivré sera le 79. Les guichets sont décrits comme un dictionnaire, et la file d'attente comme une file:\n",
    "\n",
    "```python\n",
    "file = [77, 78]\n",
    "guichets = {'guichet 1':True, 'guichet 2':True, 'guichet 3':True}\n",
    "\n",
    "```\n",
    "Si une personne est au guichet, la valeur est `True`, sinon `False`\n",
    "\n",
    "1. Une femme entre dans la poste, elle va chercher son ticket. \n",
    "1. Le guichet 1 et le guichet 3 se libèrent. Deux personnes de la file les occupent ensuite\n",
    "1. Une femme suivie d'un homme pressé entrent dans la poste et vont chercher leurs ticket.\n",
    "1. Le guichet 2 se libère\n",
    "1. L'homme pressé quitte la poste, il en a marre d'attendre\n",
    "\n",
    "Traduisez en Python les étapes en utilisant les fonctions suivantes :\n",
    "\n",
    "* `file.append(file[-1]+1)` pour ajouter une personne dans la file\n",
    "* `file.pop(0)` pour enlever une personne de la file\n",
    "* `guichets['guichet 1'] = False` pour enlever une personne du guichet 1\n",
    "* `guichets['guichet 1'] = True` pour ajouter une personne dans la file"
   ]
  },
  {
   "cell_type": "code",
   "execution_count": 5,
   "id": "conscious-arkansas",
   "metadata": {},
   "outputs": [
    {
     "data": {
      "text/plain": [
       "[77, 78]"
      ]
     },
     "execution_count": 5,
     "metadata": {},
     "output_type": "execute_result"
    }
   ],
   "source": [
    "file = [77, 78]\n",
    "file"
   ]
  },
  {
   "cell_type": "code",
   "execution_count": 6,
   "id": "facial-chapter",
   "metadata": {},
   "outputs": [
    {
     "data": {
      "text/plain": [
       "{'guichet 1': True, 'guichet 2': True, 'guichet 3': True}"
      ]
     },
     "execution_count": 6,
     "metadata": {},
     "output_type": "execute_result"
    }
   ],
   "source": [
    "guichets = {'guichet 1':True, 'guichet 2':True, 'guichet 3':True}\n",
    "guichets"
   ]
  },
  {
   "cell_type": "markdown",
   "id": "sound-cover",
   "metadata": {},
   "source": [
    "Après les étapes, quel est l'état des guichets ? Quels sont les numéros des tickets dans la file ? Quel est le prochain numéro délivré par la machine à tickets ?\n",
    "\n",
    "* `guichets` pour afficher l'état des guichets\n",
    "* `print(file)` pour afficher l'état de la file\n"
   ]
  },
  {
   "cell_type": "code",
   "execution_count": 7,
   "id": "royal-seating",
   "metadata": {},
   "outputs": [
    {
     "data": {
      "text/plain": [
       "{'guichet 1': True, 'guichet 2': True, 'guichet 3': True}"
      ]
     },
     "execution_count": 7,
     "metadata": {},
     "output_type": "execute_result"
    }
   ],
   "source": [
    "guichets"
   ]
  },
  {
   "cell_type": "code",
   "execution_count": null,
   "id": "negative-vanilla",
   "metadata": {},
   "outputs": [],
   "source": []
  }
 ],
 "metadata": {
  "kernelspec": {
   "display_name": "Python 3",
   "language": "python",
   "name": "python3"
  },
  "language_info": {
   "codemirror_mode": {
    "name": "ipython",
    "version": 3
   },
   "file_extension": ".py",
   "mimetype": "text/x-python",
   "name": "python",
   "nbconvert_exporter": "python",
   "pygments_lexer": "ipython3",
   "version": "3.7.7"
  }
 },
 "nbformat": 4,
 "nbformat_minor": 5
}
