{
 "cells": [
  {
   "cell_type": "markdown",
   "id": "obvious-grill",
   "metadata": {},
   "source": [
    "# Piles et files\n",
    "\n",
    "Les **piles et les files** sont des structures de données proches des listes. Elles permettent de gérer l'arrivé et le départ de ses éléments.\n",
    "\n",
    "![](img/poste.jpeg)\n",
    "\n",
    "Voici une file d'attente de la Poste, avec un panneau qui affiche la gestion de la liste d'attente."
   ]
  },
  {
   "cell_type": "markdown",
   "id": "empirical-liberty",
   "metadata": {},
   "source": [
    "### Pile\n",
    "\n",
    "Dans une pile d'assiettes, il est possible d'accéder uniquement à la dernière ajoutée: celle qui se trouve au sommet. \n",
    "\n",
    "Dans une pile, il n'est donc possible d'effectuer que les opérations suivantes :\n",
    "\n",
    "* créer une nouvelle pile vide\n",
    "* empiler un nouvel élément\n",
    "* récupérer un élément au sommet de la pile\n",
    "\n",
    "Dans une pile, **le dernier élément ajouté est le premier que l'on peut enlever**"
   ]
  },
  {
   "cell_type": "markdown",
   "id": "amateur-stations",
   "metadata": {},
   "source": [
    "### File\n",
    "\n",
    "Lorsque vous allez au guichet postal, vous recevez un numéro. Lorsqu'un guichet se libère, c'est le numéro le plus petit qui est servi. S'il y a 10 numéros avant vous, vous devrez attendre que ces 10 personnes soient servies avant vous.\n",
    "\n",
    "Les opérations d'une file sont :\n",
    "\n",
    "* créer une nouvelle file vide\n",
    "* ajouter un nouvel élément à la file\n",
    "* supprimer un élément de la file\n",
    "\n",
    "Dans une file, **le premier élément ajouté est le dernier que l'on peut enlever**"
   ]
  },
  {
   "cell_type": "markdown",
   "id": "headed-celebrity",
   "metadata": {},
   "source": [
    "## La pile\n",
    "\n",
    "La **pile** est une structure de données qui permet de gérer un ensemble d'éléments et leurs arrivées et départs dans le temps. \n",
    "\n",
    "Dans une pile le dernier élément arrivé est le premier à sortir. Cette structure s'appelle **LIFO** (*Last In First Out* en anglais)\n",
    "\n",
    "On ajoute un élément avec la fonction `append()` et on le supprime avec la fonction `pop()`. Simulons une pile avec des livres que nous avons sur notre bureau.\n",
    "\n",
    "Commençons avec une pile vide."
   ]
  },
  {
   "cell_type": "code",
   "execution_count": 1,
   "id": "baking-pittsburgh",
   "metadata": {},
   "outputs": [],
   "source": [
    "pile = []"
   ]
  },
  {
   "cell_type": "markdown",
   "id": "delayed-galaxy",
   "metadata": {},
   "source": [
    "Nous allons maintenant ajouter 3 livres sur la pile, en utilisant la fonction `append()`."
   ]
  },
  {
   "cell_type": "code",
   "execution_count": 2,
   "id": "concerned-dressing",
   "metadata": {},
   "outputs": [],
   "source": [
    "pile.append('Zola')\n",
    "pile.append('Balzac')\n",
    "pile.append('Hugo')"
   ]
  },
  {
   "cell_type": "markdown",
   "id": "ignored-minute",
   "metadata": {},
   "source": [
    "Voici la pile actuelle"
   ]
  },
  {
   "cell_type": "code",
   "execution_count": 3,
   "id": "massive-aging",
   "metadata": {},
   "outputs": [
    {
     "data": {
      "text/plain": [
       "['Zola', 'Balzac', 'Hugo']"
      ]
     },
     "execution_count": 3,
     "metadata": {},
     "output_type": "execute_result"
    }
   ],
   "source": [
    "pile"
   ]
  },
  {
   "cell_type": "markdown",
   "id": "southeast-training",
   "metadata": {},
   "source": [
    "Dans une pile, le seul livre qui peut être enlevé est le dernier ajouté. Nous utilisons la fonction `pop()` pour enlever un livre."
   ]
  },
  {
   "cell_type": "code",
   "execution_count": 4,
   "id": "nominated-guest",
   "metadata": {},
   "outputs": [
    {
     "data": {
      "text/plain": [
       "'Hugo'"
      ]
     },
     "execution_count": 4,
     "metadata": {},
     "output_type": "execute_result"
    }
   ],
   "source": [
    "pile.pop()"
   ]
  },
  {
   "cell_type": "markdown",
   "id": "induced-share",
   "metadata": {},
   "source": [
    "Mettons 3 autres livres sur la pile."
   ]
  },
  {
   "cell_type": "code",
   "execution_count": 5,
   "id": "silver-python",
   "metadata": {},
   "outputs": [],
   "source": [
    "pile.append('Frisch')\n",
    "pile.append('Murakami')\n",
    "pile.append('Higgins')"
   ]
  },
  {
   "cell_type": "markdown",
   "id": "recreational-transaction",
   "metadata": {},
   "source": [
    "Enlevons-en un."
   ]
  },
  {
   "cell_type": "code",
   "execution_count": 6,
   "id": "italian-cover",
   "metadata": {},
   "outputs": [
    {
     "data": {
      "text/plain": [
       "'Higgins'"
      ]
     },
     "execution_count": 6,
     "metadata": {},
     "output_type": "execute_result"
    }
   ],
   "source": [
    "pile.pop()"
   ]
  },
  {
   "cell_type": "markdown",
   "id": "christian-switzerland",
   "metadata": {},
   "source": [
    "Combien de livres restent sur la pile ?"
   ]
  },
  {
   "cell_type": "code",
   "execution_count": 7,
   "id": "round-killer",
   "metadata": {},
   "outputs": [
    {
     "data": {
      "text/plain": [
       "4"
      ]
     },
     "execution_count": 7,
     "metadata": {},
     "output_type": "execute_result"
    }
   ],
   "source": [
    "len(pile)"
   ]
  },
  {
   "cell_type": "markdown",
   "id": "secondary-ratio",
   "metadata": {},
   "source": [
    "Lesquels?"
   ]
  },
  {
   "cell_type": "code",
   "execution_count": 8,
   "id": "baking-israel",
   "metadata": {},
   "outputs": [
    {
     "data": {
      "text/plain": [
       "['Zola', 'Balzac', 'Frisch', 'Murakami']"
      ]
     },
     "execution_count": 8,
     "metadata": {},
     "output_type": "execute_result"
    }
   ],
   "source": [
    "pile"
   ]
  },
  {
   "cell_type": "markdown",
   "id": "deluxe-employee",
   "metadata": {},
   "source": [
    "**Exercice**  \n",
    "Enlevez d'abord un livre et ajoutez ensuite deux nouveaux livres à vous."
   ]
  },
  {
   "cell_type": "markdown",
   "id": "laughing-thomas",
   "metadata": {},
   "source": [
    "## Affichons la pile\n",
    "Essayons d'afficher la pile des livres."
   ]
  },
  {
   "cell_type": "code",
   "execution_count": 9,
   "id": "comparative-bedroom",
   "metadata": {},
   "outputs": [
    {
     "name": "stdout",
     "output_type": "stream",
     "text": [
      "Zola\n",
      "Balzac\n",
      "Frisch\n",
      "Murakami\n"
     ]
    }
   ],
   "source": [
    "for livre in pile:\n",
    "    print(livre)"
   ]
  },
  {
   "cell_type": "markdown",
   "id": "beginning-haven",
   "metadata": {},
   "source": [
    "Le problème avec cette façon d'imprimer c'est que la pile n'est pas dans le bon ordre. Nous pouvons utiliser l'opérateur de tranche `[::-1]` pour inverser l'ordre d'une liste."
   ]
  },
  {
   "cell_type": "code",
   "execution_count": 10,
   "id": "local-patent",
   "metadata": {},
   "outputs": [
    {
     "name": "stdout",
     "output_type": "stream",
     "text": [
      "Murakami\n",
      "Frisch\n",
      "Balzac\n",
      "Zola\n"
     ]
    }
   ],
   "source": [
    "for livre in pile[::-1]:\n",
    "    print(livre)"
   ]
  },
  {
   "cell_type": "markdown",
   "id": "agricultural-commitment",
   "metadata": {},
   "source": [
    "**Exercice**   \n",
    "Enlevez un livre de la pile avec `pop` et affichez la pile qui reste avec l'opérateur de tranche `[::-1]`."
   ]
  },
  {
   "cell_type": "markdown",
   "id": "excited-owner",
   "metadata": {},
   "source": [
    "## La file d'attente\n",
    "\n",
    "La file d'attente est une structure de données qui permet de gérer les arrivées et les départs. \n",
    "\n",
    "Dans une file d'attente le premier élément arrivé est le premier à sortir. C'est pour cette raison qu'en anglais une file d'attente est connu sous le nom **FIFO** (First In First Out).\n",
    "\n",
    "Simulons une file d'attente à la caféteria. Nous commençons avec une file vide."
   ]
  },
  {
   "cell_type": "code",
   "execution_count": 11,
   "id": "anonymous-wagner",
   "metadata": {},
   "outputs": [],
   "source": [
    "file = []"
   ]
  },
  {
   "cell_type": "markdown",
   "id": "passive-chance",
   "metadata": {},
   "source": [
    "C'est midi et les personnes commençent à arriver.  \n",
    "\n",
    "La fonction `append()` permet de les ajouter à la liste `file`."
   ]
  },
  {
   "cell_type": "code",
   "execution_count": 12,
   "id": "weekly-driving",
   "metadata": {},
   "outputs": [],
   "source": [
    "file.append('Anna')\n",
    "file.append('Tom')\n",
    "file.append('Léa')"
   ]
  },
  {
   "cell_type": "markdown",
   "id": "blessed-health",
   "metadata": {},
   "source": [
    "Nous avons maintenant les personnes suivantes dans la file d'attente."
   ]
  },
  {
   "cell_type": "code",
   "execution_count": 13,
   "id": "liable-reality",
   "metadata": {},
   "outputs": [
    {
     "data": {
      "text/plain": [
       "['Anna', 'Tom', 'Léa']"
      ]
     },
     "execution_count": 13,
     "metadata": {},
     "output_type": "execute_result"
    }
   ],
   "source": [
    "file"
   ]
  },
  {
   "cell_type": "markdown",
   "id": "accepting-immune",
   "metadata": {},
   "source": [
    "La première personne à être servie, est enlevée de la liste avec la fonction `pop(0)`"
   ]
  },
  {
   "cell_type": "code",
   "execution_count": 14,
   "id": "supported-object",
   "metadata": {},
   "outputs": [
    {
     "data": {
      "text/plain": [
       "'Anna'"
      ]
     },
     "execution_count": 14,
     "metadata": {},
     "output_type": "execute_result"
    }
   ],
   "source": [
    "file.pop(0)"
   ]
  },
  {
   "cell_type": "markdown",
   "id": "underlying-annual",
   "metadata": {},
   "source": [
    "La file est devenu plus petite."
   ]
  },
  {
   "cell_type": "code",
   "execution_count": 15,
   "id": "legitimate-launch",
   "metadata": {},
   "outputs": [
    {
     "data": {
      "text/plain": [
       "['Tom', 'Léa']"
      ]
     },
     "execution_count": 15,
     "metadata": {},
     "output_type": "execute_result"
    }
   ],
   "source": [
    "file"
   ]
  },
  {
   "cell_type": "markdown",
   "id": "pleasant-nation",
   "metadata": {},
   "source": [
    "Des nouvelles personnes arrivent."
   ]
  },
  {
   "cell_type": "code",
   "execution_count": 16,
   "id": "listed-amplifier",
   "metadata": {},
   "outputs": [],
   "source": [
    "file.append('Jim')\n",
    "file.append('Noa')\n",
    "file.append('Elsa')"
   ]
  },
  {
   "cell_type": "markdown",
   "id": "homeless-absorption",
   "metadata": {},
   "source": [
    "Une nouvelle personne est servie."
   ]
  },
  {
   "cell_type": "code",
   "execution_count": 17,
   "id": "sustainable-gibraltar",
   "metadata": {},
   "outputs": [
    {
     "data": {
      "text/plain": [
       "'Tom'"
      ]
     },
     "execution_count": 17,
     "metadata": {},
     "output_type": "execute_result"
    }
   ],
   "source": [
    "file.pop(0)"
   ]
  },
  {
   "cell_type": "markdown",
   "id": "twelve-inspection",
   "metadata": {},
   "source": [
    "Combient de personne sont en attente ?"
   ]
  },
  {
   "cell_type": "code",
   "execution_count": 18,
   "id": "floral-gibraltar",
   "metadata": {},
   "outputs": [
    {
     "data": {
      "text/plain": [
       "4"
      ]
     },
     "execution_count": 18,
     "metadata": {},
     "output_type": "execute_result"
    }
   ],
   "source": [
    "len(file)"
   ]
  },
  {
   "cell_type": "markdown",
   "id": "canadian-massachusetts",
   "metadata": {},
   "source": [
    "Qui est dans la file d'attente"
   ]
  },
  {
   "cell_type": "code",
   "execution_count": 19,
   "id": "billion-wrong",
   "metadata": {},
   "outputs": [
    {
     "data": {
      "text/plain": [
       "['Léa', 'Jim', 'Noa', 'Elsa']"
      ]
     },
     "execution_count": 19,
     "metadata": {},
     "output_type": "execute_result"
    }
   ],
   "source": [
    "file"
   ]
  },
  {
   "cell_type": "markdown",
   "id": "square-newfoundland",
   "metadata": {},
   "source": [
    "**Exercice**   \n",
    "Utilisez la fonction `pop()` pour enlever les personnes dans le bon ordre."
   ]
  },
  {
   "cell_type": "markdown",
   "id": "random-queen",
   "metadata": {},
   "source": [
    "## A la poste\n",
    "\n",
    "Nous sommes à la Poste de Renens et il est 14h. Trois guichets sont ouverts et deux personnes attendent dans la file. La machine à tickets indique que le prochain ticket délivré sera le 544."
   ]
  },
  {
   "cell_type": "code",
   "execution_count": 20,
   "id": "egyptian-aruba",
   "metadata": {},
   "outputs": [],
   "source": [
    "file = [542, 543]"
   ]
  },
  {
   "cell_type": "markdown",
   "id": "advised-darkness",
   "metadata": {},
   "source": [
    "L'indice du dernier numéro (`543`) est `[-1]`. En ajoutant `1` à la valeur contenue dans `file[-1]`, on trouve `544`\n",
    "\n",
    "Le prochain numéro sera donc"
   ]
  },
  {
   "cell_type": "code",
   "execution_count": 21,
   "id": "printable-exercise",
   "metadata": {},
   "outputs": [
    {
     "data": {
      "text/plain": [
       "544"
      ]
     },
     "execution_count": 21,
     "metadata": {},
     "output_type": "execute_result"
    }
   ],
   "source": [
    "file[-1] + 1"
   ]
  },
  {
   "cell_type": "markdown",
   "id": "little-wright",
   "metadata": {},
   "source": [
    "Si une personne entre, elle prend son numéro et elle s'insére dans la liste d'attente."
   ]
  },
  {
   "cell_type": "code",
   "execution_count": 22,
   "id": "defined-exhibit",
   "metadata": {},
   "outputs": [],
   "source": [
    "suivant = file[-1] + 1\n",
    "file.append(suivant)"
   ]
  },
  {
   "cell_type": "markdown",
   "id": "billion-advice",
   "metadata": {},
   "source": [
    "La file d'attente comprend maintenant:"
   ]
  },
  {
   "cell_type": "code",
   "execution_count": 23,
   "id": "increasing-nebraska",
   "metadata": {},
   "outputs": [
    {
     "data": {
      "text/plain": [
       "[542, 543, 544]"
      ]
     },
     "execution_count": 23,
     "metadata": {},
     "output_type": "execute_result"
    }
   ],
   "source": [
    "file"
   ]
  },
  {
   "cell_type": "markdown",
   "id": "floppy-salvation",
   "metadata": {},
   "source": [
    "Ensuite deux personnes entrent."
   ]
  },
  {
   "cell_type": "code",
   "execution_count": 24,
   "id": "spiritual-boating",
   "metadata": {},
   "outputs": [
    {
     "data": {
      "text/plain": [
       "[542, 543, 544, 545, 546]"
      ]
     },
     "execution_count": 24,
     "metadata": {},
     "output_type": "execute_result"
    }
   ],
   "source": [
    "file.append(file[-1] + 1)\n",
    "file.append(file[-1] + 1)\n",
    "file"
   ]
  },
  {
   "cell_type": "markdown",
   "id": "orange-disaster",
   "metadata": {},
   "source": [
    "## Le guichet\n",
    "\n",
    "Il y a trois guichets A, B, et C, qui vont se libérer de façon alétoire.\n",
    "\n",
    "Nous importons le module `random` et utilisons la fonction `choice()` pour choisir un des trois guichets de façon aléatoire."
   ]
  },
  {
   "cell_type": "code",
   "execution_count": 25,
   "id": "conceptual-wellington",
   "metadata": {},
   "outputs": [
    {
     "data": {
      "text/plain": [
       "'B'"
      ]
     },
     "execution_count": 25,
     "metadata": {},
     "output_type": "execute_result"
    }
   ],
   "source": [
    "import random\n",
    "random.choice('ABC')"
   ]
  },
  {
   "cell_type": "markdown",
   "id": "electrical-laser",
   "metadata": {},
   "source": [
    "Le prochain guichet qui se libère"
   ]
  },
  {
   "cell_type": "code",
   "execution_count": 26,
   "id": "super-manitoba",
   "metadata": {},
   "outputs": [
    {
     "data": {
      "text/plain": [
       "'C'"
      ]
     },
     "execution_count": 26,
     "metadata": {},
     "output_type": "execute_result"
    }
   ],
   "source": [
    "random.choice('ABC')"
   ]
  },
  {
   "cell_type": "markdown",
   "id": "voluntary-greenhouse",
   "metadata": {},
   "source": [
    "C'est la personne entrée en premier qui peut se diriger vers le guichet qui se libère"
   ]
  },
  {
   "cell_type": "code",
   "execution_count": 27,
   "id": "champion-homeless",
   "metadata": {},
   "outputs": [
    {
     "name": "stdout",
     "output_type": "stream",
     "text": [
      "542 A\n"
     ]
    }
   ],
   "source": [
    "suivant = file.pop(0)\n",
    "guichet = random.choice('ABC')\n",
    "print(suivant, guichet)"
   ]
  },
  {
   "cell_type": "markdown",
   "id": "broadband-saver",
   "metadata": {},
   "source": [
    "## Exer\n",
    "\n",
    "Si une personne est au guichet, la valeur est `True`, sinon `False`\n",
    "\n",
    "1. Une femme entre dans la poste, elle va chercher son ticket. \n",
    "1. Le guichet 1 et le guichet 3 se libèrent. Deux personnes de la file les occupent ensuite\n",
    "1. Une femme suivie d'un homme pressé entrent dans la poste et vont chercher leurs ticket.\n",
    "1. Le guichet 2 se libère\n",
    "1. L'homme pressé quitte la poste, il en a marre d'attendre\n",
    "\n",
    "Traduisez en Python les étapes en utilisant les fonctions suivantes :\n",
    "\n",
    "* `file.append(file[-1]+1)` pour ajouter une personne dans la file\n",
    "* `file.pop(0)` pour enlever une personne de la file\n",
    "* `guichets['guichet 1'] = False` pour enlever une personne du guichet 1\n",
    "* `guichets['guichet 1'] = True` pour ajouter une personne dans la file"
   ]
  },
  {
   "cell_type": "markdown",
   "id": "bored-modification",
   "metadata": {},
   "source": [
    "Après les étapes, quel est l'état des guichets ? Quels sont les numéros des tickets dans la file ? Quel est le prochain numéro délivré par la machine à tickets ?\n",
    "\n",
    "* `guichets` pour afficher l'état des guichets\n",
    "* `print(file)` pour afficher l'état de la file\n"
   ]
  },
  {
   "cell_type": "code",
   "execution_count": null,
   "id": "scenic-south",
   "metadata": {},
   "outputs": [],
   "source": []
  }
 ],
 "metadata": {
  "kernelspec": {
   "display_name": "Python 3",
   "language": "python",
   "name": "python3"
  },
  "language_info": {
   "codemirror_mode": {
    "name": "ipython",
    "version": 3
   },
   "file_extension": ".py",
   "mimetype": "text/x-python",
   "name": "python",
   "nbconvert_exporter": "python",
   "pygments_lexer": "ipython3",
   "version": "3.9.1"
  }
 },
 "nbformat": 4,
 "nbformat_minor": 5
}
