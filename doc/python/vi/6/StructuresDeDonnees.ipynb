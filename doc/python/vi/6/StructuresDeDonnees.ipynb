{
 "cells": [
  {
   "cell_type": "markdown",
   "id": "immune-hamburg",
   "metadata": {},
   "source": [
    "# Structures de données\n",
    "\n",
    "Les structures de données permettent d'organiser, de traiter, d'extraire et de stocker des données\n",
    "\n",
    "![Structures de données](https://res.cloudinary.com/practicaldev/image/fetch/s--H0AdlIEN--/c_imagga_scale,f_auto,fl_progressive,h_420,q_auto,w_1000/https://thepracticaldev.s3.amazonaws.com/i/srnvrd7vfeeq5qpxnabq.png \"Logo Title Text 1\")\n"
   ]
  },
  {
   "cell_type": "markdown",
   "id": "ordered-astronomy",
   "metadata": {},
   "source": [
    "Dane ce chapitre, nous allons apprendre à connaître différents types de structures de données :\n",
    "\n",
    "1. linéaires\n",
    "    * tableaux\n",
    "    * dictionnaires\n",
    "    * piles, files et queues\n",
    "    * listes\n",
    "1. non-linéaires\n",
    "    * arbres\n",
    "    * graphes\n",
    "\n",
    "Chaque type permet d'améliorer la construction de problèmes numériques différents."
   ]
  },
  {
   "cell_type": "code",
   "execution_count": null,
   "id": "incorporate-bahrain",
   "metadata": {},
   "outputs": [],
   "source": []
  }
 ],
 "metadata": {
  "kernelspec": {
   "display_name": "Python 3",
   "language": "python",
   "name": "python3"
  },
  "language_info": {
   "codemirror_mode": {
    "name": "ipython",
    "version": 3
   },
   "file_extension": ".py",
   "mimetype": "text/x-python",
   "name": "python",
   "nbconvert_exporter": "python",
   "pygments_lexer": "ipython3",
   "version": "3.9.1"
  }
 },
 "nbformat": 4,
 "nbformat_minor": 5
}
