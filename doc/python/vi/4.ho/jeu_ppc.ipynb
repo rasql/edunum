{
 "cells": [
  {
   "cell_type": "markdown",
   "id": "interpreted-companion",
   "metadata": {},
   "source": [
    "# Jeu : pierre-papier-ciseaux\n",
    "\n",
    "Le jeu **pierre-papier-ciseaux** (feuille-caillou-ciseaux) se joue avec les mains.  \n",
    "![](https://media.giphy.com/media/3ohzdGnD5vAud1NCZW/giphy.gif)"
   ]
  },
  {
   "cell_type": "markdown",
   "id": "funded-edmonton",
   "metadata": {},
   "source": [
    "## Description\n",
    "\n",
    "Les deux joueurs choisissent simultanément l'un des trois coups possibles:\n",
    "\n",
    "![](ppc.png)\n",
    "\n",
    "- pierre bat ciseaux\n",
    "- papier bat pierre\n",
    "- ciseaux bat papier\n",
    "\n",
    "Ce jeu est aussi connu sous le nom de **chifoumi**.  \n",
    "Vous trouvez plus d'info sur [Wikipédia](https://fr.wikipedia.org/wiki/Pierre-papier-ciseaux)."
   ]
  },
  {
   "cell_type": "markdown",
   "id": "coordinate-press",
   "metadata": {},
   "source": [
    "## Exemple online\n",
    "\n",
    "Allez sur le site [chifoumi.io](https://chifoumi.io) pour avoir une idée du jeu.  \n",
    "Vous (you) allez jouer contre l'ordinateur (bot). \n",
    "\n",
    "![](ppc_chifoumi.png)\n"
   ]
  },
  {
   "cell_type": "markdown",
   "id": "packed-craft",
   "metadata": {},
   "source": [
    "## Votre projet\n",
    "\n",
    "C'est un exemple de jeu vidéo où un humain joue contre l'ordinateur :\n",
    "\n",
    "- vous continuez jusqu'à une condition de fin\n",
    "- vous vérifiez si le choix est permis\n",
    "- vous affichez les coups\n",
    "- vous décidez qui gagne\n",
    "- vous tenez compte du score tout au long de la partie\n",
    "\n",
    "Ce jeu est simple, mais il vous permet de comprendre le fonctionnement d'un jeu vidéo."
   ]
  },
  {
   "cell_type": "markdown",
   "id": "mediterranean-stationery",
   "metadata": {},
   "source": [
    "## Représentation des coups\n",
    "\n",
    "A chaque tour il y a 3 coups possibles.\n",
    "Il a différentes manières de représenter ces 3 options.\n",
    "Une façon est d'utiliser des chaînes de caractères."
   ]
  },
  {
   "cell_type": "code",
   "execution_count": null,
   "id": "prostate-brass",
   "metadata": {},
   "outputs": [],
   "source": [
    "coups = ['pierre', 'papier', 'ciseaux']"
   ]
  },
  {
   "cell_type": "markdown",
   "id": "narrow-frank",
   "metadata": {},
   "source": [
    "Une autre façon plus efficace est d'utiliser juste des entiers (0, 1, 2).  \n",
    "En commençant par 0, nous pouvons utiliser ces entiers comme indeice pour une liste avec les noms des coups.\n",
    "\n",
    "- 0 = pierre\n",
    "- 1 = papier\n",
    "- 2 = ciseaux"
   ]
  },
  {
   "cell_type": "code",
   "execution_count": null,
   "id": "circular-consideration",
   "metadata": {},
   "outputs": [],
   "source": [
    "coups = [0, 1, 2]"
   ]
  },
  {
   "cell_type": "markdown",
   "id": "elect-customer",
   "metadata": {},
   "source": [
    "Bien sur, vous pouvez aussi utiliser des émoji pour rendre l'apparence plus cool."
   ]
  },
  {
   "cell_type": "code",
   "execution_count": null,
   "id": "positive-headquarters",
   "metadata": {},
   "outputs": [],
   "source": [
    "coups = [ '💎', '📜', '✂️']"
   ]
  },
  {
   "cell_type": "markdown",
   "id": "greek-natural",
   "metadata": {},
   "source": [
    "## Input-output\n",
    "\n",
    "Pour ce jeu, vous utilisez la fonction `input()` pour demander le choix de l'utilisateur. Vous utilisez la fonction `print()` pour communiquer avec lui.\n",
    "\n",
    "Le principe de base est:"
   ]
  },
  {
   "cell_type": "code",
   "execution_count": null,
   "id": "further-dimension",
   "metadata": {},
   "outputs": [],
   "source": [
    "x = input('votre choix: ')\n",
    "print('vous avez choisi', x)"
   ]
  },
  {
   "cell_type": "markdown",
   "id": "productive-surgeon",
   "metadata": {},
   "source": [
    "## Boucle de jeu\n",
    "\n",
    "Pour jouer à ce jeu, vous utilisez la boucle `while` pour répéter les échanges.\n",
    "Une condition de fin sera nécessaire.\n",
    "Une manière fréquemment utilisée pour terminer un jeu est d'appuyer tout simplement sur la touche **retour**.\n",
    "Dans ce cas `input()` retourne une chaine vide.\n",
    "   \n",
    "    x = ''\n",
    "    \n",
    "La chaine vide est interprétée comme valeur booléenne `False`.  \n",
    "Essayez différentes valeurs."
   ]
  },
  {
   "cell_type": "code",
   "execution_count": null,
   "id": "affecting-password",
   "metadata": {},
   "outputs": [],
   "source": [
    "bool('')"
   ]
  },
  {
   "cell_type": "code",
   "execution_count": null,
   "id": "lyric-terry",
   "metadata": {},
   "outputs": [],
   "source": [
    "bool('pierre')"
   ]
  },
  {
   "cell_type": "markdown",
   "id": "fabulous-louisville",
   "metadata": {},
   "source": [
    "Donc voici une boucle de jeu. Elle continue jusqu'à ce que vous appuyer sur **retour** tout seul."
   ]
  },
  {
   "cell_type": "code",
   "execution_count": null,
   "id": "assigned-yield",
   "metadata": {},
   "outputs": [],
   "source": [
    "x = input('votre choix:')\n",
    "while x: \n",
    "    x = input('votre choix:')\n",
    "    \n",
    "print('game over')"
   ]
  },
  {
   "cell_type": "markdown",
   "id": "meaningful-following",
   "metadata": {},
   "source": [
    "## Vérification\n",
    "\n",
    "Un jeu vérifie si les entrées sont permises. Établissons d'abord une liste des coups qui sont permis."
   ]
  },
  {
   "cell_type": "code",
   "execution_count": null,
   "id": "enabling-evolution",
   "metadata": {},
   "outputs": [],
   "source": [
    "coups = ['pierre', 'papier', 'ciseaux']"
   ]
  },
  {
   "cell_type": "markdown",
   "id": "inappropriate-differential",
   "metadata": {},
   "source": [
    "L'opérateur `in` permet de questionner si un élément fait partie d'une liste. Par exemple."
   ]
  },
  {
   "cell_type": "code",
   "execution_count": null,
   "id": "reflected-first",
   "metadata": {},
   "outputs": [],
   "source": [
    "'papier' in coups"
   ]
  },
  {
   "cell_type": "code",
   "execution_count": null,
   "id": "arranged-manor",
   "metadata": {},
   "outputs": [],
   "source": [
    "'ciso' in coups"
   ]
  },
  {
   "cell_type": "markdown",
   "id": "heard-idaho",
   "metadata": {},
   "source": [
    "Nous pouvons maintentant ajouter la vérification."
   ]
  },
  {
   "cell_type": "code",
   "execution_count": null,
   "id": "blank-brunei",
   "metadata": {},
   "outputs": [],
   "source": [
    "coups = ['pierre', 'papier', 'ciseaux']\n",
    "print('choissisez entre:', *coups)\n",
    "\n",
    "x = input('votre choix:')\n",
    "while x :\n",
    "    if x in coups:\n",
    "        print('ok')\n",
    "    else:\n",
    "        print(x, \"n'est pas dans\", coups)\n",
    "    x = input('votre choix')\n",
    "    \n",
    "print('game over')"
   ]
  },
  {
   "cell_type": "markdown",
   "id": "rolled-audit",
   "metadata": {},
   "source": [
    "## Choisir avec des raccourcis\n",
    "\n",
    "Pour jouer plus facilement, il est préférable d'entrer un seul caractère, plutôt que de taper un mot entier.\n",
    "\n",
    "**Attention** : ici, la liste des coups sont les caractères `'1'`, `'2'` et `'3'` et non les entiers `1`, `2` et `3`"
   ]
  },
  {
   "cell_type": "code",
   "execution_count": null,
   "id": "precise-daisy",
   "metadata": {},
   "outputs": [],
   "source": [
    "coups = ['1', '2', '3']\n",
    "print('choissisez entre:', *coups)\n",
    "\n",
    "x = input('votre choix:')\n",
    "while x :\n",
    "    if x in coups:\n",
    "        print('ok')\n",
    "    else:\n",
    "        print(x, \"n'est pas dans\", *coups)\n",
    "    x = input('votre choix:')\n",
    "    \n",
    "print('GAME OVER')"
   ]
  },
  {
   "cell_type": "markdown",
   "id": "strategic-musical",
   "metadata": {},
   "source": [
    "On aurait aussi pu choisir les lettres:\n",
    "\n",
    "- `f` = feuille\n",
    "- `p` = pierre\n",
    "- `c` = ciseaux"
   ]
  },
  {
   "cell_type": "code",
   "execution_count": null,
   "id": "victorian-protest",
   "metadata": {},
   "outputs": [],
   "source": [
    "coups = ['f', 'p', 'c']\n",
    "'p' in coups"
   ]
  },
  {
   "cell_type": "markdown",
   "id": "frozen-burns",
   "metadata": {},
   "source": [
    "## Transformer le choix\n",
    "\n",
    "Dans le jeu, il est avantageux de transformer les indices (0, 1, 2) en mots.\n",
    "\n",
    "**Attention** le retour de la fonction `input()` est un caractère qu'il faut transformer en entier avec la fonction `int()`. Dans ce code, la ligne `x = int(x)` transforme le caractère en entier : si `x = '1'` alors `x = int(x)` va avoir comme résultat `x = 1`"
   ]
  },
  {
   "cell_type": "code",
   "execution_count": null,
   "id": "criminal-ethiopia",
   "metadata": {},
   "outputs": [],
   "source": [
    "coups = ['pierre', 'papier', 'ciseaux']\n",
    "emoji = ['💎', '📜', '✂️']\n",
    "print('0=pierre, 1=papier, 2=ciseaux')\n",
    "\n",
    "x = input('votre choix:')\n",
    "while x :\n",
    "    x = int(x)\n",
    "    print(emoji[x], coups[x])\n",
    "    x = input('votre choix:')\n",
    "\n",
    "print('G A M E   O V E R')"
   ]
  },
  {
   "cell_type": "markdown",
   "id": "attended-jewelry",
   "metadata": {},
   "source": [
    "## Choix aléatoire\n",
    "\n",
    "Le module `random` permet de choisir des éléments aléatoires."
   ]
  },
  {
   "cell_type": "code",
   "execution_count": null,
   "id": "abandoned-grass",
   "metadata": {},
   "outputs": [],
   "source": [
    "import random"
   ]
  },
  {
   "cell_type": "markdown",
   "id": "understood-window",
   "metadata": {},
   "source": [
    "La fonction `random.randint(0, 2)` retourne un entier aléatoire dans l'intervalle [0, 2]."
   ]
  },
  {
   "cell_type": "code",
   "execution_count": null,
   "id": "aggregate-minimum",
   "metadata": {},
   "outputs": [],
   "source": [
    "import random\n",
    "coups = ['💎', '📜', '✂️']\n",
    "for i in range(5):\n",
    "    x = random.randint(0, 2)\n",
    "    print(x, '=', coups[x])"
   ]
  },
  {
   "cell_type": "code",
   "execution_count": null,
   "id": "invisible-tunnel",
   "metadata": {},
   "outputs": [],
   "source": [
    "coups = ['pierre', 'papier', 'ciseaux']\n",
    "\n",
    "for i in range(5):\n",
    "    x = random.choice(coups)\n",
    "    print(x)"
   ]
  },
  {
   "cell_type": "markdown",
   "id": "warming-edinburgh",
   "metadata": {},
   "source": [
    "## Jouer contre l'ordinateur\n",
    "\n",
    "Dans ce jeu vous (you) allez jouer contre l'ordinateur (bot).\n",
    "L'ordinateur choisit une des 3 possibilités de façon aléatoire."
   ]
  },
  {
   "cell_type": "code",
   "execution_count": null,
   "id": "stunning-worry",
   "metadata": {},
   "outputs": [],
   "source": [
    "coups = ['pierre', 'papier', 'ciseaux']\n",
    "print('0=pierre, 1=papier, 2=ciseaux')\n",
    "\n",
    "x = input('votre choix:')\n",
    "while x :\n",
    "    you = int(x)\n",
    "    bot = random.randint(0, 2)\n",
    "    print(coups[you], 'contre' ,coups[bot])\n",
    "    x = input('votre choix:')\n",
    "\n",
    "print('game over')"
   ]
  },
  {
   "cell_type": "markdown",
   "id": "lesser-virgin",
   "metadata": {},
   "source": [
    "## Qui gagne ?\n",
    "\n",
    "Si les deux coups sont les mêmes, c'est un match nul et c'est facile à détecter."
   ]
  },
  {
   "cell_type": "code",
   "execution_count": null,
   "id": "suffering-intersection",
   "metadata": {},
   "outputs": [],
   "source": [
    "x = 0\n",
    "bot = 0\n",
    "if x == bot: \n",
    "    print('match nul')"
   ]
  },
  {
   "cell_type": "markdown",
   "id": "ahead-brother",
   "metadata": {},
   "source": [
    "Si les deux coups sont différents, c'est plus compliqué\n",
    "\n",
    "- pierre (0) est plus fort que ciseaux (2)\n",
    "- papier (1) est plus fort que pierre (0)\n",
    "- ciseaux (2) est plus fort que papier (1)\n",
    "\n",
    "Testez avec différents combinaisons"
   ]
  },
  {
   "cell_type": "code",
   "execution_count": null,
   "id": "unavailable-classification",
   "metadata": {},
   "outputs": [],
   "source": [
    "you = 1\n",
    "bot = 0\n",
    "if you == bot :\n",
    "    print('match nul')\n",
    "elif you == 0 and bot == 2:\n",
    "    print('humain gagne')\n",
    "elif you == 1 and bot == 0:\n",
    "    print('humain gagne')\n",
    "elif you == 2 and bot == 1:\n",
    "    print('humain gagne')\n",
    "else:\n",
    "    print('ordi gagne')"
   ]
  },
  {
   "cell_type": "markdown",
   "id": "official-rendering",
   "metadata": {},
   "source": [
    "## Garder un score\n",
    "\n",
    "Utilisez des variables pour garder un score. Au début il faut les initialiser."
   ]
  },
  {
   "cell_type": "code",
   "execution_count": null,
   "id": "hispanic-tender",
   "metadata": {},
   "outputs": [],
   "source": [
    "humain = 0\n",
    "ordi = 0"
   ]
  },
  {
   "cell_type": "markdown",
   "id": "enhanced-representation",
   "metadata": {},
   "source": [
    "Pendant le jeu vous allez incrémenter le score si l'un ou l'autre gagne."
   ]
  },
  {
   "cell_type": "code",
   "execution_count": null,
   "id": "selected-commodity",
   "metadata": {},
   "outputs": [],
   "source": [
    "humain = humain + 1\n",
    "ordi = ordi + 1\n",
    "humain = humain + 1"
   ]
  },
  {
   "cell_type": "code",
   "execution_count": null,
   "id": "turned-community",
   "metadata": {},
   "outputs": [],
   "source": [
    "print('score =', humain, ':', ordi)"
   ]
  },
  {
   "cell_type": "markdown",
   "id": "viral-catch",
   "metadata": {},
   "source": [
    "## Projet\n",
    "\n",
    "Combinez tous les éléments pour créer un jeu vidéo où\n",
    "\n",
    "* vous jouez contre l'ordinateur\n",
    "* vous continuez jusqu'à une condition de fin\n",
    "* vous vérifiez si le choix est permis\n",
    "* vous affichez les coups\n",
    "* vous tenez compte du score\n",
    "* vous décidez qui gagne\n"
   ]
  },
  {
   "cell_type": "code",
   "execution_count": null,
   "id": "plain-neighbor",
   "metadata": {},
   "outputs": [],
   "source": [
    "import random\n",
    "\n",
    "emoji = ['💎', '📜', '✂️']\n",
    "coups = ['0', '1', '2']\n",
    "humain = 0\n",
    "ordi = 0\n",
    "\n",
    "print('0=pierre ',emoji[0], ' 1=papier ',emoji[1],', 2=ciseaux ',emoji[2])\n",
    "x = input('votre choix:')\n",
    "\n",
    "while x :\n",
    "    you = int(x)\n",
    "    if x in coups:\n",
    "        bot = random.randint(0, 2)\n",
    "        print('(vous)',emoji[you], 'contre' ,emoji[bot],'(ordi)')\n",
    "        if you == bot :\n",
    "            print('match nul')\n",
    "        elif you == 0 and bot == 2:\n",
    "            print('humain gagne')\n",
    "            humain = humain + 1\n",
    "        elif you == 1 and bot == 0:\n",
    "            print('humain gagne')\n",
    "            humain = humain + 1\n",
    "        elif you == 2 and bot == 1:\n",
    "            print('humain gagne')\n",
    "            humain = humain + 1\n",
    "        else:\n",
    "            print('ordi gagne')\n",
    "            ordi = ordi + 1    \n",
    "    else:\n",
    "        print('Choisissez entre 0,1,2')\n",
    "    x = input('votre choix:')\n",
    "\n",
    "print('game over')\n",
    "print('Score final : humain ',humain,' ordi : ',ordi)\n",
    "if humain  == ordi:\n",
    "    print('match nul')\n",
    "elif humain > ordi:\n",
    "    print('vous avez gagné')\n",
    "else:\n",
    "    print('l\\'ordi a gagné')"
   ]
  }
 ],
 "metadata": {
  "kernelspec": {
   "display_name": "Python 3",
   "language": "python",
   "name": "python3"
  },
  "language_info": {
   "codemirror_mode": {
    "name": "ipython",
    "version": 3
   },
   "file_extension": ".py",
   "mimetype": "text/x-python",
   "name": "python",
   "nbconvert_exporter": "python",
   "pygments_lexer": "ipython3",
   "version": "3.9.1"
  }
 },
 "nbformat": 4,
 "nbformat_minor": 5
}
