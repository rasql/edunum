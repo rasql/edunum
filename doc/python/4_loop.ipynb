{
 "cells": [
  {
   "cell_type": "markdown",
   "id": "trained-companion",
   "metadata": {},
   "source": [
    "# Boucle\n",
    "\n",
    "Une boucle permet de **répéter** un bloc d'instructions un certain nombre de fois.\n",
    "\n",
    "![loop](https://media.giphy.com/media/FGnCkFfcHXaGk/giphy.gif)"
   ]
  },
  {
   "cell_type": "markdown",
   "id": "coupled-young",
   "metadata": {},
   "source": [
    "## La boucle `for`\n",
    "\n",
    "La boucle `for` est une répétition pour chaque élément d'un ensemble.\n",
    "\n",
    "```python\n",
    "for x in sequence:\n",
    "    bloc\n",
    "```\n",
    "\n",
    "Formellement nous avons\n",
    "\n",
    "- le mot-clé `for`\n",
    "- une variable `x`\n",
    "- le mot-clé `in`\n",
    "- une `séquence` (liste, chaîne, plage)\n",
    "- le deux-points `:`\n",
    "- un `bloc` d'instructions indenté.\n",
    "\n",
    "Par exemple"
   ]
  },
  {
   "cell_type": "code",
   "execution_count": 5,
   "id": "under-result",
   "metadata": {},
   "outputs": [
    {
     "name": "stdout",
     "output_type": "stream",
     "text": [
      "Ada\n",
      "Grace\n",
      "Anita\n"
     ]
    }
   ],
   "source": [
    "liste = ['Ada', 'Grace', 'Anita']\n",
    "\n",
    "for x in liste:\n",
    "    print(x)"
   ]
  },
  {
   "cell_type": "markdown",
   "id": "advanced-badge",
   "metadata": {},
   "source": [
    "On appelle les répétions du `bloc` aussi des **itérations**. On dit **itérer sur la séquence**.\n",
    "\n",
    "On appelle la variable `x` un **itérateur**. Cette variable peut avoir n'importe quel nom. Cette variable prend successivement toutes les valeurs de la séquence, une après l'autre."
   ]
  },
  {
   "cell_type": "markdown",
   "id": "serious-brief",
   "metadata": {},
   "source": [
    "## Le bloc répété\n",
    "\n",
    "Le bloc répété consiste en une ou plusieurs (1+) instructions. \n",
    "Toutes les instructions qui font partie du bloc sont indentées.\n",
    "La première instruction qui n'est plus indentée ne fait plus partie du bloc.\n",
    "\n",
    "Ici **instruction 1** fait partie du bloc d'itération.  \n",
    "Donc, cette instruction est exécutée 3 fois."
   ]
  },
  {
   "cell_type": "code",
   "execution_count": 2,
   "id": "different-anxiety",
   "metadata": {},
   "outputs": [
    {
     "name": "stdout",
     "output_type": "stream",
     "text": [
      "i = 0\n",
      "instruction 1\n",
      "i = 1\n",
      "instruction 1\n",
      "i = 2\n",
      "instruction 1\n",
      "instruction 2\n"
     ]
    }
   ],
   "source": [
    "for i in range(3):\n",
    "    print('i =', i)\n",
    "    print('instruction 1')\n",
    "    \n",
    "print('instruction 2')"
   ]
  },
  {
   "cell_type": "markdown",
   "id": "violent-egypt",
   "metadata": {},
   "source": [
    "Maintenant, **instruction 1** ne fait plus partie du bloc d'itération.  \n",
    "Cette instruction est exécutée seulement une fois."
   ]
  },
  {
   "cell_type": "code",
   "execution_count": 3,
   "id": "aquatic-withdrawal",
   "metadata": {},
   "outputs": [
    {
     "name": "stdout",
     "output_type": "stream",
     "text": [
      "i = 0\n",
      "i = 1\n",
      "i = 2\n",
      "instruction 1\n",
      "instruction 2\n"
     ]
    }
   ],
   "source": [
    "for i in range(3):\n",
    "    print('i =', i)\n",
    "\n",
    "print('instruction 1')\n",
    "print('instruction 2')"
   ]
  },
  {
   "cell_type": "markdown",
   "id": "specific-recorder",
   "metadata": {},
   "source": [
    "## Itérer sur une liste\n",
    "\n",
    "Voici une itération sur une liste de textes."
   ]
  },
  {
   "cell_type": "code",
   "execution_count": 4,
   "id": "experienced-panic",
   "metadata": {},
   "outputs": [
    {
     "name": "stdout",
     "output_type": "stream",
     "text": [
      "*** pomme\n",
      "*** poire\n",
      "*** orange\n"
     ]
    }
   ],
   "source": [
    "fruits = ['pomme', 'poire', 'orange']\n",
    "\n",
    "for fruit in fruits:\n",
    "    print('***', fruit)"
   ]
  },
  {
   "cell_type": "markdown",
   "id": "separate-aurora",
   "metadata": {},
   "source": [
    "Voici une itération sur une liste de nombres."
   ]
  },
  {
   "cell_type": "code",
   "execution_count": 5,
   "id": "killing-regulation",
   "metadata": {},
   "outputs": [
    {
     "name": "stdout",
     "output_type": "stream",
     "text": [
      "i = 2   i**2 = 4\n",
      "i = 3   i**2 = 9\n",
      "i = 5   i**2 = 25\n",
      "i = 7   i**2 = 49\n"
     ]
    }
   ],
   "source": [
    "premiers = [2, 3, 5, 7]\n",
    "\n",
    "for i in premiers:\n",
    "    print('i =', i, '  i**2 =', i**2)"
   ]
  },
  {
   "cell_type": "code",
   "execution_count": 6,
   "id": "timely-sense",
   "metadata": {},
   "outputs": [
    {
     "name": "stdout",
     "output_type": "stream",
     "text": [
      "elle est belle\n",
      "elle est riche\n",
      "elle est intelligente\n"
     ]
    }
   ],
   "source": [
    "adjectives = ['belle', 'riche', 'intelligente']\n",
    "\n",
    "for x in adjectives:\n",
    "    print('elle est', x)"
   ]
  },
  {
   "cell_type": "markdown",
   "id": "decimal-berkeley",
   "metadata": {},
   "source": [
    "Nous pouvons aussi concaténer les textes et la variable avec l'opérateur `+`.  \n",
    "Attention aux espaces!"
   ]
  },
  {
   "cell_type": "code",
   "execution_count": 7,
   "id": "invisible-pizza",
   "metadata": {},
   "outputs": [
    {
     "name": "stdout",
     "output_type": "stream",
     "text": [
      "elle est belle, bien plus belle que lui.\n",
      "elle est riche, bien plus riche que lui.\n",
      "elle est intelligente, bien plus intelligente que lui.\n"
     ]
    }
   ],
   "source": [
    "for x in adjectives:\n",
    "    print('elle est ' + x + ', bien plus ' + x + ' que lui.')"
   ]
  },
  {
   "cell_type": "markdown",
   "id": "matched-cocktail",
   "metadata": {},
   "source": [
    "## Itérer sur une chaine\n",
    "\n",
    "La boucle `for` peut itérer sur une chaine.  \n",
    "L'itérateur prend alors chaque valeur de la séquence."
   ]
  },
  {
   "cell_type": "code",
   "execution_count": 8,
   "id": "educated-submission",
   "metadata": {},
   "outputs": [
    {
     "name": "stdout",
     "output_type": "stream",
     "text": [
      "lettre - P\n",
      "lettre - y\n",
      "lettre - t\n",
      "lettre - h\n",
      "lettre - o\n",
      "lettre - n\n"
     ]
    }
   ],
   "source": [
    "for c in 'Python':\n",
    "    print('lettre -', c)"
   ]
  },
  {
   "cell_type": "markdown",
   "id": "arranged-somewhere",
   "metadata": {},
   "source": [
    "## Itérer sur une plage\n",
    "\n",
    "Nous pouvons itérer sur une plage d'entiers"
   ]
  },
  {
   "cell_type": "code",
   "execution_count": 9,
   "id": "norman-presentation",
   "metadata": {},
   "outputs": [
    {
     "name": "stdout",
     "output_type": "stream",
     "text": [
      "1 * 2 = 2\n",
      "2 * 2 = 4\n",
      "3 * 2 = 6\n",
      "4 * 2 = 8\n",
      "5 * 2 = 10\n",
      "6 * 2 = 12\n"
     ]
    }
   ],
   "source": [
    "for i in range(1, 7):\n",
    "    print(i, '* 2 =', i*2)"
   ]
  },
  {
   "cell_type": "markdown",
   "id": "floating-postcard",
   "metadata": {},
   "source": [
    "Nous pouvons utiliser l'itérateur multiple fois dans le bloc d'itération.  "
   ]
  },
  {
   "cell_type": "code",
   "execution_count": 10,
   "id": "latter-discharge",
   "metadata": {},
   "outputs": [
    {
     "name": "stdout",
     "output_type": "stream",
     "text": [
      "10 * 10 = 100\n",
      "11 * 11 = 121\n",
      "12 * 12 = 144\n",
      "13 * 13 = 169\n",
      "14 * 14 = 196\n"
     ]
    }
   ],
   "source": [
    "for i in range(10, 15):\n",
    "    print(i, '*', i, '=', i*i)"
   ]
  },
  {
   "cell_type": "markdown",
   "id": "aggressive-lawrence",
   "metadata": {},
   "source": [
    "## Boucles imbriquées\n",
    "\n",
    "Une boucle peut être placée dans le corps d'une autre boucle.  \n",
    "Nous appelons \n",
    "- la boucle en `i` boucle extérieure, et \n",
    "- la boucle en `j` boucle intérieure."
   ]
  },
  {
   "cell_type": "code",
   "execution_count": 14,
   "id": "permanent-saint",
   "metadata": {},
   "outputs": [
    {
     "name": "stdout",
     "output_type": "stream",
     "text": [
      "i = 0  j = 0\n",
      "i = 0  j = 1\n",
      "i = 1  j = 0\n",
      "i = 1  j = 1\n",
      "i = 2  j = 0\n",
      "i = 2  j = 1\n"
     ]
    }
   ],
   "source": [
    "for i in range(3):\n",
    "    for j in range(2):\n",
    "        print('i =', i, ' j =', j)"
   ]
  },
  {
   "cell_type": "markdown",
   "id": "diagnostic-brazilian",
   "metadata": {},
   "source": [
    "Normalement chaque instruction `print` se termine avec un retour à la ligne.\n",
    "L'argument optionnel `end` permet de le changer en 3 espaces `'   '`."
   ]
  },
  {
   "cell_type": "code",
   "execution_count": 21,
   "id": "variable-uruguay",
   "metadata": {},
   "outputs": [
    {
     "name": "stdout",
     "output_type": "stream",
     "text": [
      "( 0 0 )   ( 0 1 )   ( 0 2 )   ( 0 3 )   ( 0 4 )   \n",
      "( 1 0 )   ( 1 1 )   ( 1 2 )   ( 1 3 )   ( 1 4 )   \n",
      "( 2 0 )   ( 2 1 )   ( 2 2 )   ( 2 3 )   ( 2 4 )   \n"
     ]
    }
   ],
   "source": [
    "for i in range(3):\n",
    "    for j in range(5):\n",
    "        print('(', i, j, ')', end='   ')\n",
    "    print()"
   ]
  },
  {
   "cell_type": "markdown",
   "id": "attended-asset",
   "metadata": {},
   "source": [
    "Les boucles imbriquées nous permettent par exemple de programmer une table de multiplication.\n",
    "Cette fois nous utilisons le caractère spécial **tabulateur** `\\t` qui aligne les caractères sur des multiples de 8."
   ]
  },
  {
   "cell_type": "code",
   "execution_count": 22,
   "id": "figured-saver",
   "metadata": {},
   "outputs": [
    {
     "name": "stdout",
     "output_type": "stream",
     "text": [
      "1\t2\t3\t4\t5\t6\t7\t8\t9\t\n",
      "2\t4\t6\t8\t10\t12\t14\t16\t18\t\n",
      "3\t6\t9\t12\t15\t18\t21\t24\t27\t\n",
      "4\t8\t12\t16\t20\t24\t28\t32\t36\t\n"
     ]
    }
   ],
   "source": [
    "for i in range(1, 5):\n",
    "    for j in range(1, 10):\n",
    "        print(i * j, end='\\t')\n",
    "    print()"
   ]
  },
  {
   "cell_type": "markdown",
   "id": "classical-python",
   "metadata": {},
   "source": [
    "## REPL\n",
    "\n",
    "La boucle d'execution d'une console Python s'appelle aussi REPL:\n",
    "\n",
    "- Read\n",
    "- Evaluate\n",
    "- Print\n",
    "- Loop\n",
    "\n",
    "Depuis JupyterLab choisir **File > New > Terminal**.  \n",
    "Ensuite démarrer une session interactive de Python avec la commande `python3`.\n",
    "\n",
    "    bash-3.2$ python3\n",
    "    Python 3.7.9 (v3.7.9:13c94747c7, Aug 15 2020, 01:31:08) \n",
    "    [Clang 6.0 (clang-600.0.57)] on darwin\n",
    "    Type \"help\", \"copyright\", \"credits\" or \"license\" for more information.\n",
    "    >>> \n",
    "    \n",
    "Nous pouvons simuler ceci"
   ]
  },
  {
   "cell_type": "markdown",
   "id": "arbitrary-jurisdiction",
   "metadata": {},
   "source": [
    "## Boucle d'évaluation\n",
    "\n",
    "Nous pouvons simuler la boucle d'évaluation simplifié avec \n",
    "- une boucle `while`\n",
    "- la fonction `input` pour saisir une expression\n",
    "- la fonction `eval` pour évaluer l'expression\n",
    "- la fonction `print` pour afficher le résultat\n",
    "\n",
    "La fonction `eval` permet d'évaluer une chaine qui represente une expression Python valide."
   ]
  },
  {
   "cell_type": "code",
   "execution_count": 13,
   "id": "oriental-devices",
   "metadata": {},
   "outputs": [
    {
     "data": {
      "text/plain": [
       "144"
      ]
     },
     "execution_count": 13,
     "metadata": {},
     "output_type": "execute_result"
    }
   ],
   "source": [
    "eval('12 ** 2')"
   ]
  },
  {
   "cell_type": "code",
   "execution_count": 19,
   "id": "interim-butter",
   "metadata": {},
   "outputs": [
    {
     "data": {
      "text/plain": [
       "1"
      ]
     },
     "execution_count": 19,
     "metadata": {},
     "output_type": "execute_result"
    }
   ],
   "source": [
    "eval('1')"
   ]
  },
  {
   "cell_type": "code",
   "execution_count": 12,
   "id": "dutch-muscle",
   "metadata": {},
   "outputs": [
    {
     "name": "stdin",
     "output_type": "stream",
     "text": [
      ">>> 1 + 2\n"
     ]
    },
    {
     "name": "stdout",
     "output_type": "stream",
     "text": [
      "3\n"
     ]
    },
    {
     "name": "stdin",
     "output_type": "stream",
     "text": [
      ">>> 12 * 23\n"
     ]
    },
    {
     "name": "stdout",
     "output_type": "stream",
     "text": [
      "276\n"
     ]
    },
    {
     "name": "stdin",
     "output_type": "stream",
     "text": [
      ">>> 23 **4\n"
     ]
    },
    {
     "name": "stdout",
     "output_type": "stream",
     "text": [
      "279841\n"
     ]
    },
    {
     "name": "stdin",
     "output_type": "stream",
     "text": [
      ">>> 123 // 23\n"
     ]
    },
    {
     "name": "stdout",
     "output_type": "stream",
     "text": [
      "5\n"
     ]
    },
    {
     "name": "stdin",
     "output_type": "stream",
     "text": [
      ">>> \n"
     ]
    }
   ],
   "source": [
    "exp = input('>>>')\n",
    "\n",
    "while exp:\n",
    "    res = eval(exp)\n",
    "    print(res)\n",
    "    exp = input('>>>')"
   ]
  },
  {
   "cell_type": "code",
   "execution_count": 11,
   "id": "pharmaceutical-hardware",
   "metadata": {},
   "outputs": [],
   "source": [
    "exec('a = 123')"
   ]
  },
  {
   "cell_type": "code",
   "execution_count": 8,
   "id": "legendary-ethernet",
   "metadata": {},
   "outputs": [
    {
     "data": {
      "text/plain": [
       "123"
      ]
     },
     "execution_count": 8,
     "metadata": {},
     "output_type": "execute_result"
    }
   ],
   "source": [
    "a"
   ]
  },
  {
   "cell_type": "markdown",
   "id": "medium-internet",
   "metadata": {},
   "source": [
    "## Evaluer une expression\n",
    "\n",
    "L'évaluation d'une affectation donne une erreur.\n",
    "\n",
    "    eval('a = 123')\n",
    "    File \"<string>\", line 1\n",
    "    a = 123\n",
    "      ^\n",
    "    SyntaxError: invalid syntax\n",
    "    \n",
    "Nous devons utiliser la fonction `exec`"
   ]
  },
  {
   "cell_type": "code",
   "execution_count": 28,
   "id": "irish-grove",
   "metadata": {},
   "outputs": [
    {
     "data": {
      "text/plain": [
       "1.23"
      ]
     },
     "execution_count": 28,
     "metadata": {},
     "output_type": "execute_result"
    }
   ],
   "source": [
    "exec('a = 1.23')\n",
    "a"
   ]
  },
  {
   "cell_type": "code",
   "execution_count": 22,
   "id": "associate-poland",
   "metadata": {},
   "outputs": [
    {
     "data": {
      "text/plain": [
       "123"
      ]
     },
     "execution_count": 22,
     "metadata": {},
     "output_type": "execute_result"
    }
   ],
   "source": [
    "a"
   ]
  },
  {
   "cell_type": "markdown",
   "id": "confident-dining",
   "metadata": {},
   "source": [
    "Si l'expression contient le symbol `=` \n",
    "\n",
    "- nous **exécutions** l'expression, sinon \n",
    "- nous **évaluons** l'expression et affichons le résultat."
   ]
  },
  {
   "cell_type": "code",
   "execution_count": 29,
   "id": "tamil-glasgow",
   "metadata": {},
   "outputs": [
    {
     "name": "stdin",
     "output_type": "stream",
     "text": [
      ">>> 123 ** 23\n"
     ]
    },
    {
     "name": "stdout",
     "output_type": "stream",
     "text": [
      "1169008215014432917465348578887506800769541157267\n"
     ]
    },
    {
     "name": "stdin",
     "output_type": "stream",
     "text": [
      ">>> a = 12\n",
      ">>> a ** 2\n"
     ]
    },
    {
     "name": "stdout",
     "output_type": "stream",
     "text": [
      "144\n"
     ]
    },
    {
     "name": "stdin",
     "output_type": "stream",
     "text": [
      ">>> a += 1\n",
      ">>> a\n"
     ]
    },
    {
     "name": "stdout",
     "output_type": "stream",
     "text": [
      "13\n"
     ]
    },
    {
     "name": "stdin",
     "output_type": "stream",
     "text": [
      ">>> \n"
     ]
    }
   ],
   "source": [
    "exp = input('>>>')\n",
    "\n",
    "while exp:\n",
    "    if '=' in exp:\n",
    "        exec(exp)\n",
    "    else:\n",
    "        print(eval(exp))\n",
    "    exp = input('>>>')"
   ]
  },
  {
   "cell_type": "markdown",
   "id": "sensitive-swimming",
   "metadata": {},
   "source": [
    "## Terminer avec quit()\n",
    "\n",
    "La vrai console Python quitte avec la commande `quit()`. \n",
    "\n",
    "La fonction `print` retourne la valeur `None`. \n",
    "Dans ce cas nous ne voulons pas afficher le résultat."
   ]
  },
  {
   "cell_type": "code",
   "execution_count": 32,
   "id": "legitimate-month",
   "metadata": {},
   "outputs": [
    {
     "name": "stdin",
     "output_type": "stream",
     "text": [
      ">>> print('hello')\n"
     ]
    },
    {
     "name": "stdout",
     "output_type": "stream",
     "text": [
      "hello\n"
     ]
    },
    {
     "name": "stdin",
     "output_type": "stream",
     "text": [
      ">>> a = 12\n",
      ">>> print(a ** 2)\n"
     ]
    },
    {
     "name": "stdout",
     "output_type": "stream",
     "text": [
      "144\n"
     ]
    },
    {
     "name": "stdin",
     "output_type": "stream",
     "text": [
      ">>> quit\n"
     ]
    },
    {
     "name": "stdout",
     "output_type": "stream",
     "text": [
      "<IPython.core.autocall.ZMQExitAutocall object at 0x102d6e090>\n"
     ]
    },
    {
     "name": "stdin",
     "output_type": "stream",
     "text": [
      ">>> quit()\n"
     ]
    }
   ],
   "source": [
    "exp = input('>>>')\n",
    "\n",
    "while exp != 'quit()':\n",
    "    if '=' in exp:\n",
    "        exec(exp)\n",
    "    else:\n",
    "        res = eval(exp)\n",
    "        if res:\n",
    "            print(res)\n",
    "\n",
    "    exp = input('>>>')"
   ]
  },
  {
   "cell_type": "code",
   "execution_count": null,
   "id": "visible-wrong",
   "metadata": {},
   "outputs": [],
   "source": []
  }
 ],
 "metadata": {
  "kernelspec": {
   "display_name": "Python 3",
   "language": "python",
   "name": "python3"
  },
  "language_info": {
   "codemirror_mode": {
    "name": "ipython",
    "version": 3
   },
   "file_extension": ".py",
   "mimetype": "text/x-python",
   "name": "python",
   "nbconvert_exporter": "python",
   "pygments_lexer": "ipython3",
   "version": "3.7.9"
  }
 },
 "nbformat": 4,
 "nbformat_minor": 5
}
