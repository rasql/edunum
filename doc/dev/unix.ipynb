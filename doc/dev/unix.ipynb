{
 "cells": [
  {
   "cell_type": "markdown",
   "id": "exact-intro",
   "metadata": {},
   "source": [
    "# Unix\n",
    "\n",
    "Site: https://geekprank.com/hacker/"
   ]
  },
  {
   "cell_type": "markdown",
   "id": "drawn-norman",
   "metadata": {},
   "source": [
    "## Ou suis-je"
   ]
  },
  {
   "cell_type": "code",
   "execution_count": 1,
   "id": "portuguese-architecture",
   "metadata": {},
   "outputs": [
    {
     "data": {
      "text/plain": [
       "'/Users/raphael/GitHub/edunum/doc'"
      ]
     },
     "execution_count": 1,
     "metadata": {},
     "output_type": "execute_result"
    }
   ],
   "source": [
    "pwd"
   ]
  },
  {
   "cell_type": "code",
   "execution_count": 4,
   "id": "requested-density",
   "metadata": {},
   "outputs": [
    {
     "name": "stdout",
     "output_type": "stream",
     "text": [
      "/Users/raphael\n"
     ]
    }
   ],
   "source": [
    "cd"
   ]
  },
  {
   "cell_type": "code",
   "execution_count": 5,
   "id": "boring-deputy",
   "metadata": {},
   "outputs": [
    {
     "data": {
      "text/plain": [
       "'/Users/raphael'"
      ]
     },
     "execution_count": 5,
     "metadata": {},
     "output_type": "execute_result"
    }
   ],
   "source": [
    "pwd"
   ]
  },
  {
   "cell_type": "code",
   "execution_count": 8,
   "id": "intended-probe",
   "metadata": {},
   "outputs": [
    {
     "name": "stdout",
     "output_type": "stream",
     "text": [
      "/Users/raphael/GitHub/edunum\n"
     ]
    }
   ],
   "source": [
    "cd GitHub/edunum/"
   ]
  },
  {
   "cell_type": "code",
   "execution_count": 9,
   "id": "hearing-folder",
   "metadata": {},
   "outputs": [
    {
     "name": "stdout",
     "output_type": "stream",
     "text": [
      "LICENSE     README.md   \u001b[34mdoc\u001b[m\u001b[m/        \u001b[34mextensions\u001b[m\u001b[m/\n"
     ]
    }
   ],
   "source": [
    "ls"
   ]
  },
  {
   "cell_type": "code",
   "execution_count": 11,
   "id": "specialized-interim",
   "metadata": {},
   "outputs": [
    {
     "name": "stdout",
     "output_type": "stream",
     "text": [
      "\u001b[34m_build\u001b[m\u001b[m/            \u001b[34malgo\u001b[m\u001b[m/              index.md           \u001b[34mpython\u001b[m\u001b[m/\n",
      "_config.yml        fonc_natifs.ipynb  \u001b[34mmisc\u001b[m\u001b[m/              \u001b[34mrep\u001b[m\u001b[m/\n",
      "\u001b[34m_static\u001b[m\u001b[m/           hello.py           \u001b[34mnlp\u001b[m\u001b[m/               \u001b[34mstart\u001b[m\u001b[m/\n",
      "_toc.yml           \u001b[34mimg\u001b[m\u001b[m/               \u001b[34mplot\u001b[m\u001b[m/              unix.ipynb\n"
     ]
    }
   ],
   "source": [
    "ls doc/"
   ]
  },
  {
   "cell_type": "code",
   "execution_count": 14,
   "id": "furnished-aircraft",
   "metadata": {},
   "outputs": [
    {
     "name": "stdout",
     "output_type": "stream",
     "text": [
      "/Users/raphael/GitHub/edunum/doc\n"
     ]
    }
   ],
   "source": [
    "%cd doc"
   ]
  },
  {
   "cell_type": "code",
   "execution_count": 15,
   "id": "tutorial-charity",
   "metadata": {},
   "outputs": [
    {
     "name": "stdout",
     "output_type": "stream",
     "text": [
      "a = 1 + 2\n",
      "b = a * 2\n",
      "\n",
      "print('hello')"
     ]
    }
   ],
   "source": [
    "cat hello.py"
   ]
  },
  {
   "cell_type": "code",
   "execution_count": 16,
   "id": "alleged-multiple",
   "metadata": {},
   "outputs": [
    {
     "name": "stdout",
     "output_type": "stream",
     "text": [
      "total 96\n",
      "drwxr-xr-x   6 raphael  staff    192 Jan 22 22:30 \u001b[34m_build\u001b[m\u001b[m/\n",
      "-rw-r--r--   1 raphael  staff   3306 Feb  2 23:52 _config.yml\n",
      "drwxr-xr-x   5 raphael  staff    160 Jan 22 15:24 \u001b[34m_static\u001b[m\u001b[m/\n",
      "-rw-r--r--   1 raphael  staff   1527 Feb  7 22:10 _toc.yml\n",
      "drwxr-xr-x   4 raphael  staff    128 Feb  1 21:01 \u001b[34malgo\u001b[m\u001b[m/\n",
      "-rw-r--r--   1 raphael  staff  24755 Feb  6 21:19 fonc_natifs.ipynb\n",
      "-rw-r--r--   1 raphael  staff     35 Feb  1 21:01 hello.py\n",
      "drwxr-xr-x   5 raphael  staff    160 Feb  2 23:52 \u001b[34mimg\u001b[m\u001b[m/\n",
      "-rw-r--r--   1 raphael  staff    598 Jan 27 08:14 index.md\n",
      "drwxr-xr-x  14 raphael  staff    448 Feb  3 08:57 \u001b[34mmisc\u001b[m\u001b[m/\n",
      "drwxr-xr-x   4 raphael  staff    128 Jan 23 21:07 \u001b[34mnlp\u001b[m\u001b[m/\n",
      "drwxr-xr-x  23 raphael  staff    736 Feb  1 21:01 \u001b[34mplot\u001b[m\u001b[m/\n",
      "drwxr-xr-x  22 raphael  staff    704 Feb  5 21:59 \u001b[34mpython\u001b[m\u001b[m/\n",
      "drwxr-xr-x  14 raphael  staff    448 Feb  7 21:01 \u001b[34mrep\u001b[m\u001b[m/\n",
      "drwxr-xr-x  13 raphael  staff    416 Feb  7 23:28 \u001b[34mstart\u001b[m\u001b[m/\n",
      "-rw-r--r--   1 raphael  staff   3322 Feb  8 07:21 unix.ipynb\n"
     ]
    }
   ],
   "source": [
    "ll"
   ]
  },
  {
   "cell_type": "code",
   "execution_count": 25,
   "id": "focal-technical",
   "metadata": {},
   "outputs": [
    {
     "name": "stdout",
     "output_type": "stream",
     "text": [
      "\u001b[34m.\u001b[m\u001b[m/                  _config.yml         \u001b[34mimg\u001b[m\u001b[m/                \u001b[34mrep\u001b[m\u001b[m/\n",
      "\u001b[34m..\u001b[m\u001b[m/                 \u001b[34m_static\u001b[m\u001b[m/            index.md            \u001b[34mstart\u001b[m\u001b[m/\n",
      ".DS_Store           _toc.yml            \u001b[34mmisc\u001b[m\u001b[m/               unix.ipynb\n",
      "\u001b[34m.empty\u001b[m\u001b[m/             \u001b[34malgo\u001b[m\u001b[m/               \u001b[34mnlp\u001b[m\u001b[m/\n",
      "\u001b[34m.ipynb_checkpoints\u001b[m\u001b[m/ fonc_natifs.ipynb   \u001b[34mplot\u001b[m\u001b[m/\n",
      "\u001b[34m_build\u001b[m\u001b[m/             hello.py            \u001b[34mpython\u001b[m\u001b[m/\n"
     ]
    }
   ],
   "source": [
    "ls -a"
   ]
  },
  {
   "cell_type": "code",
   "execution_count": 28,
   "id": "classified-opening",
   "metadata": {},
   "outputs": [
    {
     "name": "stdout",
     "output_type": "stream",
     "text": [
      "\u001b[34mApplications\u001b[m\u001b[m/ \u001b[34mVolumes\u001b[m\u001b[m/      \u001b[35metc\u001b[m\u001b[m@          \u001b[34msbin\u001b[m\u001b[m/\n",
      "\u001b[34mLibrary\u001b[m\u001b[m/      \u001b[34mbin\u001b[m\u001b[m/          \u001b[35mhome\u001b[m\u001b[m@         \u001b[35mtmp\u001b[m\u001b[m@\n",
      "\u001b[34mSystem\u001b[m\u001b[m/       \u001b[34mcores\u001b[m\u001b[m/        \u001b[34mopt\u001b[m\u001b[m/          \u001b[34musr\u001b[m\u001b[m/\n",
      "\u001b[34mUsers\u001b[m\u001b[m/        \u001b[34mdev\u001b[m\u001b[m/          \u001b[34mprivate\u001b[m\u001b[m/      \u001b[35mvar\u001b[m\u001b[m@\n"
     ]
    }
   ],
   "source": [
    "ls /"
   ]
  },
  {
   "cell_type": "code",
   "execution_count": 30,
   "id": "prime-choice",
   "metadata": {},
   "outputs": [
    {
     "name": "stdout",
     "output_type": "stream",
     "text": [
      "lrwxr-xr-x@ 1 root  admin  11 Nov 25  2019 \u001b[35m/etc\u001b[m\u001b[m@ -> private/etc\n"
     ]
    }
   ],
   "source": [
    "ls -l /etc"
   ]
  },
  {
   "cell_type": "code",
   "execution_count": 32,
   "id": "eleven-supply",
   "metadata": {},
   "outputs": [
    {
     "name": "stdout",
     "output_type": "stream",
     "text": [
      "afpovertcp.cfg                         nfs.conf\n",
      "afpovertcp.cfg~orig                    nfs.conf~orig\n",
      "\u001b[35maliases\u001b[m\u001b[m@                               notify.conf\n",
      "aliases.db                             ntp.conf\n",
      "\u001b[34mapache2\u001b[m\u001b[m/                               ntp.conf~orig\n",
      "\u001b[34masl\u001b[m\u001b[m/                                   ntp_opendirectory.conf\n",
      "asl.conf                               \u001b[34mopenldap\u001b[m\u001b[m/\n",
      "auto_home                              \u001b[34mpam.d\u001b[m\u001b[m/\n",
      "auto_master                            passwd\n",
      "autofs.conf                            paths\n",
      "bashrc                                 \u001b[34mpaths.d\u001b[m\u001b[m/\n",
      "bashrc_Apple_Terminal                  paths~orig\n",
      "bashrc~previous                        \u001b[34mperiodic\u001b[m\u001b[m/\n",
      "bootpd.plist                           \u001b[34mpf.anchors\u001b[m\u001b[m/\n",
      "com.apple.screensharing.agent.launchd  pf.conf\n",
      "csh.cshrc                              pf.os\n",
      "csh.cshrc~orig                         php-fpm.conf.default\n",
      "csh.login                              \u001b[34mphp-fpm.d\u001b[m\u001b[m/\n",
      "csh.login~orig                         php.ini.default\n",
      "csh.logout                             php.ini.default-previous\n",
      "csh.logout~orig                        \u001b[34mpostfix\u001b[m\u001b[m/\n",
      "\u001b[34mcups\u001b[m\u001b[m/                                  \u001b[34mppp\u001b[m\u001b[m/\n",
      "\u001b[34mdefaults\u001b[m\u001b[m/                              profile\n",
      "\u001b[34memond.d\u001b[m\u001b[m/                               profile~orig\n",
      "find.codes                             protocols\n",
      "find.codes~orig                        protocols~previous\n",
      "fstab.hd                               \u001b[34mracoon\u001b[m\u001b[m/\n",
      "fstab.hd~previous                      rc.common\n",
      "ftpusers                               rc.common~previous\n",
      "ftpusers~orig                          rc.netboot\n",
      "gettytab                               \u001b[35mresolv.conf\u001b[m\u001b[m@\n",
      "gettytab~orig                          rmtab\n",
      "group                                  rpc\n",
      "group~previous                         rpc~previous\n",
      "hosts                                  rtadvd.conf\n",
      "hosts.equiv                            rtadvd.conf~previous\n",
      "hosts~orig                             \u001b[34msecurity\u001b[m\u001b[m/\n",
      "irbrc                                  services\n",
      "kern_loader.conf                       services~previous\n",
      "kern_loader.conf~previous              shells\n",
      "krb5.keytab                            shells~orig\n",
      "krb5.keytab~orig                       \u001b[34msnmp\u001b[m\u001b[m/\n",
      "\u001b[35mlocaltime\u001b[m\u001b[m@                             \u001b[34mssh\u001b[m\u001b[m/\n",
      "\u001b[35mlocaltime~orig\u001b[m\u001b[m@                        \u001b[34mssl\u001b[m\u001b[m/\n",
      "locate.rc                              sudo_lecture\n",
      "mail.rc                                sudoers\n",
      "mail.rc~orig                           \u001b[34msudoers.d\u001b[m\u001b[m/\n",
      "man.conf                               sudoers~orig\n",
      "manpaths                               syslog.conf\n",
      "\u001b[34mmanpaths.d\u001b[m\u001b[m/                            syslog.conf~previous\n",
      "master.passwd                          ttys\n",
      "master.passwd~orig                     ttys~previous\n",
      "nanorc                                 \u001b[34mwfs\u001b[m\u001b[m/\n",
      "networks                               xtab\n",
      "networks~orig                          zprofile\n",
      "newsyslog.conf                         zshrc\n",
      "\u001b[34mnewsyslog.d\u001b[m\u001b[m/                           zshrc_Apple_Terminal\n"
     ]
    }
   ],
   "source": [
    "ls /private/etc/"
   ]
  },
  {
   "cell_type": "code",
   "execution_count": 33,
   "id": "prompt-connectivity",
   "metadata": {},
   "outputs": [
    {
     "name": "stdout",
     "output_type": "stream",
     "text": [
      "##\n",
      "# User Database\n",
      "# \n",
      "# Note that this file is consulted directly only when the system is running\n",
      "# in single-user mode.  At other times this information is provided by\n",
      "# Open Directory.\n",
      "#\n",
      "# See the opendirectoryd(8) man page for additional information about\n",
      "# Open Directory.\n",
      "##\n",
      "nobody:*:-2:-2:Unprivileged User:/var/empty:/usr/bin/false\n",
      "root:*:0:0:System Administrator:/var/root:/bin/sh\n",
      "daemon:*:1:1:System Services:/var/root:/usr/bin/false\n",
      "_uucp:*:4:4:Unix to Unix Copy Protocol:/var/spool/uucp:/usr/sbin/uucico\n",
      "_taskgated:*:13:13:Task Gate Daemon:/var/empty:/usr/bin/false\n",
      "_networkd:*:24:24:Network Services:/var/networkd:/usr/bin/false\n",
      "_installassistant:*:25:25:Install Assistant:/var/empty:/usr/bin/false\n",
      "_lp:*:26:26:Printing Services:/var/spool/cups:/usr/bin/false\n",
      "_postfix:*:27:27:Postfix Mail Server:/var/spool/postfix:/usr/bin/false\n",
      "_scsd:*:31:31:Service Configuration Service:/var/empty:/usr/bin/false\n",
      "_ces:*:32:32:Certificate Enrollment Service:/var/empty:/usr/bin/false\n",
      "_appstore:*:33:33:Mac App Store Service:/var/db/appstore:/usr/bin/false\n",
      "_mcxalr:*:54:54:MCX AppLaunch:/var/empty:/usr/bin/false\n",
      "_appleevents:*:55:55:AppleEvents Daemon:/var/empty:/usr/bin/false\n",
      "_geod:*:56:56:Geo Services Daemon:/var/db/geod:/usr/bin/false\n",
      "_devdocs:*:59:59:Developer Documentation:/var/empty:/usr/bin/false\n",
      "_sandbox:*:60:60:Seatbelt:/var/empty:/usr/bin/false\n",
      "_mdnsresponder:*:65:65:mDNSResponder:/var/empty:/usr/bin/false\n",
      "_ard:*:67:67:Apple Remote Desktop:/var/empty:/usr/bin/false\n",
      "_www:*:70:70:World Wide Web Server:/Library/WebServer:/usr/bin/false\n",
      "_eppc:*:71:71:Apple Events User:/var/empty:/usr/bin/false\n",
      "_cvs:*:72:72:CVS Server:/var/empty:/usr/bin/false\n",
      "_svn:*:73:73:SVN Server:/var/empty:/usr/bin/false\n",
      "_mysql:*:74:74:MySQL Server:/var/empty:/usr/bin/false\n",
      "_sshd:*:75:75:sshd Privilege separation:/var/empty:/usr/bin/false\n",
      "_qtss:*:76:76:QuickTime Streaming Server:/var/empty:/usr/bin/false\n",
      "_cyrus:*:77:6:Cyrus Administrator:/var/imap:/usr/bin/false\n",
      "_mailman:*:78:78:Mailman List Server:/var/empty:/usr/bin/false\n",
      "_appserver:*:79:79:Application Server:/var/empty:/usr/bin/false\n",
      "_clamav:*:82:82:ClamAV Daemon:/var/virusmails:/usr/bin/false\n",
      "_amavisd:*:83:83:AMaViS Daemon:/var/virusmails:/usr/bin/false\n",
      "_jabber:*:84:84:Jabber XMPP Server:/var/empty:/usr/bin/false\n",
      "_appowner:*:87:87:Application Owner:/var/empty:/usr/bin/false\n",
      "_windowserver:*:88:88:WindowServer:/var/empty:/usr/bin/false\n",
      "_spotlight:*:89:89:Spotlight:/var/empty:/usr/bin/false\n",
      "_tokend:*:91:91:Token Daemon:/var/empty:/usr/bin/false\n",
      "_securityagent:*:92:92:SecurityAgent:/var/db/securityagent:/usr/bin/false\n",
      "_calendar:*:93:93:Calendar:/var/empty:/usr/bin/false\n",
      "_teamsserver:*:94:94:TeamsServer:/var/teamsserver:/usr/bin/false\n",
      "_update_sharing:*:95:-2:Update Sharing:/var/empty:/usr/bin/false\n",
      "_installer:*:96:-2:Installer:/var/empty:/usr/bin/false\n",
      "_atsserver:*:97:97:ATS Server:/var/empty:/usr/bin/false\n",
      "_ftp:*:98:-2:FTP Daemon:/var/empty:/usr/bin/false\n",
      "_unknown:*:99:99:Unknown User:/var/empty:/usr/bin/false\n",
      "_softwareupdate:*:200:200:Software Update Service:/var/db/softwareupdate:/usr/bin/false\n",
      "_coreaudiod:*:202:202:Core Audio Daemon:/var/empty:/usr/bin/false\n",
      "_screensaver:*:203:203:Screensaver:/var/empty:/usr/bin/false\n",
      "_locationd:*:205:205:Location Daemon:/var/db/locationd:/usr/bin/false\n",
      "_trustevaluationagent:*:208:208:Trust Evaluation Agent:/var/empty:/usr/bin/false\n",
      "_timezone:*:210:210:AutoTimeZoneDaemon:/var/empty:/usr/bin/false\n",
      "_lda:*:211:211:Local Delivery Agent:/var/empty:/usr/bin/false\n",
      "_cvmsroot:*:212:212:CVMS Root:/var/empty:/usr/bin/false\n",
      "_usbmuxd:*:213:213:iPhone OS Device Helper:/var/db/lockdown:/usr/bin/false\n",
      "_dovecot:*:214:6:Dovecot Administrator:/var/empty:/usr/bin/false\n",
      "_dpaudio:*:215:215:DP Audio:/var/empty:/usr/bin/false\n",
      "_postgres:*:216:216:PostgreSQL Server:/var/empty:/usr/bin/false\n",
      "_krbtgt:*:217:-2:Kerberos Ticket Granting Ticket:/var/empty:/usr/bin/false\n",
      "_kadmin_admin:*:218:-2:Kerberos Admin Service:/var/empty:/usr/bin/false\n",
      "_kadmin_changepw:*:219:-2:Kerberos Change Password Service:/var/empty:/usr/bin/false\n",
      "_devicemgr:*:220:220:Device Management Server:/var/empty:/usr/bin/false\n",
      "_webauthserver:*:221:221:Web Auth Server:/var/empty:/usr/bin/false\n",
      "_netbios:*:222:222:NetBIOS:/var/empty:/usr/bin/false\n",
      "_warmd:*:224:224:Warm Daemon:/var/empty:/usr/bin/false\n",
      "_dovenull:*:227:227:Dovecot Authentication:/var/empty:/usr/bin/false\n",
      "_netstatistics:*:228:228:Network Statistics Daemon:/var/empty:/usr/bin/false\n",
      "_avbdeviced:*:229:-2:Ethernet AVB Device Daemon:/var/empty:/usr/bin/false\n",
      "_krb_krbtgt:*:230:-2:Open Directory Kerberos Ticket Granting Ticket:/var/empty:/usr/bin/false\n",
      "_krb_kadmin:*:231:-2:Open Directory Kerberos Admin Service:/var/empty:/usr/bin/false\n",
      "_krb_changepw:*:232:-2:Open Directory Kerberos Change Password Service:/var/empty:/usr/bin/false\n",
      "_krb_kerberos:*:233:-2:Open Directory Kerberos:/var/empty:/usr/bin/false\n",
      "_krb_anonymous:*:234:-2:Open Directory Kerberos Anonymous:/var/empty:/usr/bin/false\n",
      "_assetcache:*:235:235:Asset Cache Service:/var/empty:/usr/bin/false\n",
      "_coremediaiod:*:236:236:Core Media IO Daemon:/var/empty:/usr/bin/false\n",
      "_launchservicesd:*:239:239:_launchservicesd:/var/empty:/usr/bin/false\n",
      "_iconservices:*:240:240:IconServices:/var/empty:/usr/bin/false\n",
      "_distnote:*:241:241:DistNote:/var/empty:/usr/bin/false\n",
      "_nsurlsessiond:*:242:242:NSURLSession Daemon:/var/db/nsurlsessiond:/usr/bin/false\n",
      "_nsurlstoraged:*:243:243:NSURLStorage Daemon:/var/db/nsurlstoraged:/usr/bin/false\n",
      "_displaypolicyd:*:244:244:Display Policy Daemon:/var/empty:/usr/bin/false\n",
      "_astris:*:245:245:Astris Services:/var/db/astris:/usr/bin/false\n",
      "_krbfast:*:246:-2:Kerberos FAST Account:/var/empty:/usr/bin/false\n",
      "_gamecontrollerd:*:247:247:Game Controller Daemon:/var/empty:/usr/bin/false\n",
      "_mbsetupuser:*:248:248:Setup User:/var/setup:/bin/bash\n",
      "_ondemand:*:249:249:On Demand Resource Daemon:/var/db/ondemand:/usr/bin/false\n",
      "_xserverdocs:*:251:251:macOS Server Documents Service:/var/empty:/usr/bin/false\n",
      "_wwwproxy:*:252:252:WWW Proxy:/var/empty:/usr/bin/false\n",
      "_mobileasset:*:253:253:MobileAsset User:/var/ma:/usr/bin/false\n",
      "_findmydevice:*:254:254:Find My Device Daemon:/var/db/findmydevice:/usr/bin/false\n",
      "_datadetectors:*:257:257:DataDetectors:/var/db/datadetectors:/usr/bin/false\n",
      "_captiveagent:*:258:258:captiveagent:/var/empty:/usr/bin/false\n",
      "_ctkd:*:259:259:ctkd Account:/var/empty:/usr/bin/false\n",
      "_applepay:*:260:260:applepay Account:/var/db/applepay:/usr/bin/false\n",
      "_hidd:*:261:261:HID Service User:/var/db/hidd:/usr/bin/false\n",
      "_cmiodalassistants:*:262:262:CoreMedia IO Assistants User:/var/db/cmiodalassistants:/usr/bin/false\n",
      "_analyticsd:*:263:263:Analytics Daemon:/var/db/analyticsd:/usr/bin/false\n",
      "_fpsd:*:265:265:FPS Daemon:/var/db/fpsd:/usr/bin/false\n",
      "_timed:*:266:266:Time Sync Daemon:/var/db/timed:/usr/bin/false\n",
      "_nearbyd:*:268:268:Proximity and Ranging Daemon:/var/db/nearbyd:/usr/bin/false\n",
      "_reportmemoryexception:*:269:269:ReportMemoryException:/var/db/reportmemoryexception:/usr/bin/false\n",
      "_driverkit:*:270:270:DriverKit:/var/empty:/usr/bin/false\n"
     ]
    }
   ],
   "source": [
    "cat /private/etc/passwd"
   ]
  },
  {
   "cell_type": "code",
   "execution_count": null,
   "id": "terminal-chamber",
   "metadata": {},
   "outputs": [],
   "source": []
  }
 ],
 "metadata": {
  "kernelspec": {
   "display_name": "Python 3",
   "language": "python",
   "name": "python3"
  },
  "language_info": {
   "codemirror_mode": {
    "name": "ipython",
    "version": 3
   },
   "file_extension": ".py",
   "mimetype": "text/x-python",
   "name": "python",
   "nbconvert_exporter": "python",
   "pygments_lexer": "ipython3",
   "version": "3.7.9"
  }
 },
 "nbformat": 4,
 "nbformat_minor": 5
}
