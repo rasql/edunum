{
 "cells": [
  {
   "cell_type": "markdown",
   "id": "e1dc228a-ac16-46e5-9546-f487925cb2c4",
   "metadata": {},
   "source": [
    "# Graphes\n",
    "\n",
    "Définition d'un graphe"
   ]
  },
  {
   "cell_type": "code",
   "execution_count": 33,
   "id": "8482eed7-0c52-4bbb-aeea-8c5ccd174097",
   "metadata": {},
   "outputs": [
    {
     "data": {
      "text/plain": [
       "{0: [1, 2], 1: [2, 3], 2: [4], 3: [2], 4: []}"
      ]
     },
     "execution_count": 33,
     "metadata": {},
     "output_type": "execute_result"
    }
   ],
   "source": [
    "G = {0:[1, 2], 1:[2,3], 2:[4], 3:[2], 4:[]}\n",
    "G"
   ]
  },
  {
   "cell_type": "markdown",
   "id": "924e40fd-f554-49d3-af35-fe46867b5658",
   "metadata": {},
   "source": [
    "Un succésseur"
   ]
  },
  {
   "cell_type": "code",
   "execution_count": 5,
   "id": "6a143ab7-5e7a-41f3-825d-06f4b4b91913",
   "metadata": {},
   "outputs": [
    {
     "data": {
      "text/plain": [
       "(1, 2)"
      ]
     },
     "execution_count": 5,
     "metadata": {},
     "output_type": "execute_result"
    }
   ],
   "source": [
    "G[0]"
   ]
  },
  {
   "cell_type": "markdown",
   "id": "e000f977-f516-4799-bf5e-e837e2d9d1dc",
   "metadata": {},
   "source": [
    "Afficher toutes les successeurs."
   ]
  },
  {
   "cell_type": "code",
   "execution_count": 45,
   "id": "a5135789-b894-4f71-9032-4c6e2c91c0cf",
   "metadata": {},
   "outputs": [
    {
     "name": "stdout",
     "output_type": "stream",
     "text": [
      "0 -> [1, 2]\n",
      "1 -> [2, 3]\n",
      "2 -> [4]\n",
      "3 -> [2]\n",
      "4 -> []\n"
     ]
    }
   ],
   "source": [
    "for n in G:\n",
    "    print(n, '->', G[n])"
   ]
  },
  {
   "cell_type": "code",
   "execution_count": 46,
   "id": "f961cdcd-7c20-4b86-b7c6-fffc73af6006",
   "metadata": {},
   "outputs": [
    {
     "name": "stdout",
     "output_type": "stream",
     "text": [
      "{0: [], 1: [0], 2: [0, 1, 3], 3: [1], 4: [2]}\n"
     ]
    }
   ],
   "source": [
    "Gi = {}\n",
    "for n in G:\n",
    "    Gi[n]=Gi.get(n, [])\n",
    "    for k in G[n]:\n",
    "        Gi[k] = Gi.get(k, []) + [n]\n",
    "print(Gi)"
   ]
  },
  {
   "cell_type": "code",
   "execution_count": 47,
   "id": "2cd8a57a-fac1-490a-8371-747977c629e8",
   "metadata": {},
   "outputs": [
    {
     "name": "stdout",
     "output_type": "stream",
     "text": [
      "0 <- []\n",
      "1 <- [0]\n",
      "2 <- [0, 1, 3]\n",
      "3 <- [1]\n",
      "4 <- [2]\n"
     ]
    }
   ],
   "source": [
    "for n in Gi:\n",
    "    print(n, '<-', Gi[n])"
   ]
  },
  {
   "cell_type": "markdown",
   "id": "25537342-c06e-4572-b04a-77ff190c6395",
   "metadata": {},
   "source": [
    "Nombre de sommets"
   ]
  },
  {
   "cell_type": "code",
   "execution_count": 48,
   "id": "ff949c9b-2fc0-4000-86e2-90b6bbf50db9",
   "metadata": {},
   "outputs": [
    {
     "data": {
      "text/plain": [
       "5"
      ]
     },
     "execution_count": 48,
     "metadata": {},
     "output_type": "execute_result"
    }
   ],
   "source": [
    "len(G)"
   ]
  },
  {
   "cell_type": "markdown",
   "id": "3dbb6f0e-cc60-4182-b839-c2b147f93e01",
   "metadata": {},
   "source": [
    "Nombre d'arcs"
   ]
  },
  {
   "cell_type": "code",
   "execution_count": 65,
   "id": "c88d9e69-0509-4912-ac3e-f31313e45ae2",
   "metadata": {},
   "outputs": [
    {
     "data": {
      "text/plain": [
       "6"
      ]
     },
     "execution_count": 65,
     "metadata": {},
     "output_type": "execute_result"
    }
   ],
   "source": [
    "g = []\n",
    "for v in G.values():\n",
    "    g.extend(v)\n",
    "len(g)"
   ]
  },
  {
   "cell_type": "code",
   "execution_count": 63,
   "id": "e7ccfb71-eeea-4f47-a583-b67407e81b17",
   "metadata": {},
   "outputs": [
    {
     "ename": "SyntaxError",
     "evalue": "iterable unpacking cannot be used in comprehension (<ipython-input-63-e06bbbb309d3>, line 1)",
     "output_type": "error",
     "traceback": [
      "\u001b[0;36m  File \u001b[0;32m\"<ipython-input-63-e06bbbb309d3>\"\u001b[0;36m, line \u001b[0;32m1\u001b[0m\n\u001b[0;31m    [*v for v in G.values()]\u001b[0m\n\u001b[0m    ^\u001b[0m\n\u001b[0;31mSyntaxError\u001b[0m\u001b[0;31m:\u001b[0m iterable unpacking cannot be used in comprehension\n"
     ]
    }
   ],
   "source": []
  },
  {
   "cell_type": "code",
   "execution_count": null,
   "id": "81b3359a-0cad-49b5-b042-d873bf4d5934",
   "metadata": {},
   "outputs": [],
   "source": []
  }
 ],
 "metadata": {
  "kernelspec": {
   "display_name": "Python 3",
   "language": "python",
   "name": "python3"
  },
  "language_info": {
   "codemirror_mode": {
    "name": "ipython",
    "version": 3
   },
   "file_extension": ".py",
   "mimetype": "text/x-python",
   "name": "python",
   "nbconvert_exporter": "python",
   "pygments_lexer": "ipython3",
   "version": "3.7.9"
  }
 },
 "nbformat": 4,
 "nbformat_minor": 5
}
