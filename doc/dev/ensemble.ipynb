{
 "cells": [
  {
   "cell_type": "markdown",
   "id": "f9afda60-74ac-46b9-911b-e23b514c1437",
   "metadata": {},
   "source": [
    "# Ensembles"
   ]
  },
  {
   "cell_type": "markdown",
   "id": "8043e968-87d0-40d3-9892-0ca20b12a20e",
   "metadata": {},
   "source": [
    "Un ensemble est un groupe d'élémenents non ordonnées"
   ]
  },
  {
   "cell_type": "code",
   "execution_count": 1,
   "id": "bdef310a-1314-4412-904e-8445875ce394",
   "metadata": {},
   "outputs": [],
   "source": [
    "a = {2, 3, 5, 7, 11, 13, 19}\n",
    "b = {0, 1, 2, 3, 4, 5}"
   ]
  },
  {
   "cell_type": "code",
   "execution_count": 6,
   "id": "bddc6be7-b78d-4cc2-935c-28562f63e2fa",
   "metadata": {},
   "outputs": [
    {
     "data": {
      "text/plain": [
       "True"
      ]
     },
     "execution_count": 6,
     "metadata": {},
     "output_type": "execute_result"
    }
   ],
   "source": [
    "7 in a"
   ]
  },
  {
   "cell_type": "code",
   "execution_count": 7,
   "id": "1b842e5d-8710-4563-b29f-3d425f1b4047",
   "metadata": {},
   "outputs": [
    {
     "data": {
      "text/plain": [
       "False"
      ]
     },
     "execution_count": 7,
     "metadata": {},
     "output_type": "execute_result"
    }
   ],
   "source": [
    "7 in b"
   ]
  },
  {
   "cell_type": "markdown",
   "id": "d761383d-4362-4eaf-bde3-11d953e5574f",
   "metadata": {},
   "source": [
    "## L'intersection\n",
    "\n",
    "L'intersection de deux ensembles sont tous les éléments qui appartiennent à l'un ou l'autre."
   ]
  },
  {
   "cell_type": "code",
   "execution_count": 2,
   "id": "f5dbbacb-dd40-4af6-875c-0651d3a12cb4",
   "metadata": {},
   "outputs": [
    {
     "data": {
      "text/plain": [
       "{2, 3, 5}"
      ]
     },
     "execution_count": 2,
     "metadata": {},
     "output_type": "execute_result"
    }
   ],
   "source": [
    "a & b"
   ]
  },
  {
   "cell_type": "markdown",
   "id": "843e1a9b-511a-448d-9a9c-ef59793626ce",
   "metadata": {},
   "source": [
    "## L'union"
   ]
  },
  {
   "cell_type": "code",
   "execution_count": 5,
   "id": "ab16a5ae-839a-497a-84e6-6bf3243eb677",
   "metadata": {},
   "outputs": [
    {
     "data": {
      "text/plain": [
       "{0, 1, 2, 3, 4, 5, 7, 11, 13, 19}"
      ]
     },
     "execution_count": 5,
     "metadata": {},
     "output_type": "execute_result"
    }
   ],
   "source": [
    "a | b"
   ]
  },
  {
   "cell_type": "code",
   "execution_count": null,
   "id": "0a9854a2-9eee-42f4-9f7f-b90f003403d9",
   "metadata": {},
   "outputs": [],
   "source": []
  },
  {
   "cell_type": "code",
   "execution_count": 3,
   "id": "07fe36e8-42cd-4860-9796-77a5e9ec8284",
   "metadata": {},
   "outputs": [
    {
     "data": {
      "text/plain": [
       "{7, 11, 13, 19}"
      ]
     },
     "execution_count": 3,
     "metadata": {},
     "output_type": "execute_result"
    }
   ],
   "source": [
    "a - b"
   ]
  },
  {
   "cell_type": "markdown",
   "id": "2442fffc-f201-4f0e-b393-f5b5cceec99d",
   "metadata": {},
   "source": [
    "## Créer un set\n",
    "\n",
    "Nous pouvons transformer une liste en ensemble. On garde alors seulement les éléments uniques."
   ]
  },
  {
   "cell_type": "code",
   "execution_count": 14,
   "id": "7a6b299a-2cda-4603-9686-547677232c39",
   "metadata": {},
   "outputs": [
    {
     "name": "stdout",
     "output_type": "stream",
     "text": [
      "list [1, 2, 3, 4, 3, 2, 4, 1, 5]\n",
      "set  {1, 2, 3, 4, 5}\n"
     ]
    }
   ],
   "source": [
    "c = [1, 2, 3, 4, 3, 2, 4, 1, 5]\n",
    "print('list', c)\n",
    "print('set ', set(c))"
   ]
  },
  {
   "cell_type": "code",
   "execution_count": 16,
   "id": "014583fe-de14-4fb9-a54c-692c24fd7e1d",
   "metadata": {},
   "outputs": [
    {
     "data": {
      "text/plain": [
       "{'a', 'e', 'f', 'i', 'm', 'n', 'o', 'q', 'r', 't', 'u'}"
      ]
     },
     "execution_count": 16,
     "metadata": {},
     "output_type": "execute_result"
    }
   ],
   "source": [
    "set('informatique')"
   ]
  },
  {
   "cell_type": "markdown",
   "id": "8373a5ba-c65d-4bfc-88ca-55a55d1815a4",
   "metadata": {},
   "source": [
    "Quelles sont les lettres qui se trouvent en python et informatique."
   ]
  },
  {
   "cell_type": "code",
   "execution_count": 10,
   "id": "54a52c55-ba2b-40cd-9149-f2ae5eec23b0",
   "metadata": {},
   "outputs": [
    {
     "data": {
      "text/plain": [
       "{'n', 'o', 't'}"
      ]
     },
     "execution_count": 10,
     "metadata": {},
     "output_type": "execute_result"
    }
   ],
   "source": [
    "set('python') & set('informatique')"
   ]
  },
  {
   "cell_type": "code",
   "execution_count": 17,
   "id": "74fa6135-0503-4941-bfcf-dcba2ab2f0ec",
   "metadata": {},
   "outputs": [
    {
     "data": {
      "text/plain": [
       "{0, 1, 2, 3, 4, 5, 6, 7, 8, 9}"
      ]
     },
     "execution_count": 17,
     "metadata": {},
     "output_type": "execute_result"
    }
   ],
   "source": [
    "set(range(10))"
   ]
  },
  {
   "cell_type": "code",
   "execution_count": 20,
   "id": "0fb1be63-1980-40b0-b0d1-7d7379b1fb13",
   "metadata": {},
   "outputs": [],
   "source": [
    "d = {'un':'one', 'deux':'two', 'trois':'three'}"
   ]
  },
  {
   "cell_type": "code",
   "execution_count": 21,
   "id": "d8d9ebcd-be23-416a-af81-bbc62ddb3014",
   "metadata": {},
   "outputs": [
    {
     "data": {
      "text/plain": [
       "{'deux', 'trois', 'un'}"
      ]
     },
     "execution_count": 21,
     "metadata": {},
     "output_type": "execute_result"
    }
   ],
   "source": [
    "set(d)"
   ]
  },
  {
   "cell_type": "code",
   "execution_count": 22,
   "id": "a020e84b-99f2-4bf1-b3e1-1c3b23d6c46a",
   "metadata": {},
   "outputs": [
    {
     "data": {
      "text/plain": [
       "{'one', 'three', 'two'}"
      ]
     },
     "execution_count": 22,
     "metadata": {},
     "output_type": "execute_result"
    }
   ],
   "source": [
    "set(d.values())"
   ]
  },
  {
   "cell_type": "code",
   "execution_count": 23,
   "id": "3fcf6cc5-bad7-4dcd-82a7-2fce11d4bad8",
   "metadata": {},
   "outputs": [],
   "source": [
    "tennis = {'Roger', 'Tim', 'Anna', 'Bernhard'}\n",
    "ski = {'Tim', 'Anna'}\n",
    "golf = {'Bernhard', 'Roger', 'Tim'}"
   ]
  },
  {
   "cell_type": "code",
   "execution_count": 24,
   "id": "3cac8b88-dcf0-4a7f-b076-3e156272e7f5",
   "metadata": {},
   "outputs": [
    {
     "data": {
      "text/plain": [
       "{'Anna', 'Tim'}"
      ]
     },
     "execution_count": 24,
     "metadata": {},
     "output_type": "execute_result"
    }
   ],
   "source": [
    "ski & tennis"
   ]
  },
  {
   "cell_type": "code",
   "execution_count": 25,
   "id": "c444f386-55de-464d-b08e-3b07beae3756",
   "metadata": {},
   "outputs": [
    {
     "data": {
      "text/plain": [
       "{'Tim'}"
      ]
     },
     "execution_count": 25,
     "metadata": {},
     "output_type": "execute_result"
    }
   ],
   "source": [
    "ski & golf"
   ]
  },
  {
   "cell_type": "code",
   "execution_count": 26,
   "id": "aac4f981-6552-43c0-8967-562bd48ebe12",
   "metadata": {},
   "outputs": [
    {
     "data": {
      "text/plain": [
       "{'Tim'}"
      ]
     },
     "execution_count": 26,
     "metadata": {},
     "output_type": "execute_result"
    }
   ],
   "source": [
    "ski & golf & tennis"
   ]
  },
  {
   "cell_type": "code",
   "execution_count": 27,
   "id": "573b625d-d2fa-4716-a1a0-c98ebfaa6e6d",
   "metadata": {},
   "outputs": [],
   "source": [
    "golf.add('Donald')"
   ]
  },
  {
   "cell_type": "code",
   "execution_count": 28,
   "id": "34467dab-a794-4a77-a8dc-340a3cdaa481",
   "metadata": {},
   "outputs": [
    {
     "data": {
      "text/plain": [
       "{'Bernhard', 'Donald', 'Roger', 'Tim'}"
      ]
     },
     "execution_count": 28,
     "metadata": {},
     "output_type": "execute_result"
    }
   ],
   "source": [
    "golf"
   ]
  },
  {
   "cell_type": "code",
   "execution_count": 32,
   "id": "60f89f4d-4411-433a-8c72-6aebb1b64853",
   "metadata": {},
   "outputs": [],
   "source": [
    "polo = frozenset(['charles', 'diana'])"
   ]
  },
  {
   "cell_type": "code",
   "execution_count": 34,
   "id": "41110eab-c46f-4902-92a5-3e83d093d6a4",
   "metadata": {},
   "outputs": [
    {
     "ename": "AttributeError",
     "evalue": "'frozenset' object has no attribute 'add'",
     "output_type": "error",
     "traceback": [
      "\u001b[0;31m---------------------------------------------------------------------------\u001b[0m",
      "\u001b[0;31mAttributeError\u001b[0m                            Traceback (most recent call last)",
      "\u001b[0;32m<ipython-input-34-cb96a3899ab4>\u001b[0m in \u001b[0;36m<module>\u001b[0;34m\u001b[0m\n\u001b[0;32m----> 1\u001b[0;31m \u001b[0mpolo\u001b[0m\u001b[0;34m.\u001b[0m\u001b[0madd\u001b[0m\u001b[0;34m(\u001b[0m\u001b[0;34m'william'\u001b[0m\u001b[0;34m)\u001b[0m\u001b[0;34m\u001b[0m\u001b[0;34m\u001b[0m\u001b[0m\n\u001b[0m",
      "\u001b[0;31mAttributeError\u001b[0m: 'frozenset' object has no attribute 'add'"
     ]
    }
   ],
   "source": [
    "polo.add('william')"
   ]
  },
  {
   "cell_type": "code",
   "execution_count": 35,
   "id": "3bf0d947-7f14-4dd9-9589-53233838fb45",
   "metadata": {},
   "outputs": [
    {
     "data": {
      "text/plain": [
       "True"
      ]
     },
     "execution_count": 35,
     "metadata": {},
     "output_type": "execute_result"
    }
   ],
   "source": [
    "{0, 1} < {2, 1, 0}"
   ]
  },
  {
   "cell_type": "code",
   "execution_count": 37,
   "id": "72c93841-5da0-4a28-a18e-85205d07524a",
   "metadata": {},
   "outputs": [
    {
     "data": {
      "text/plain": [
       "True"
      ]
     },
     "execution_count": 37,
     "metadata": {},
     "output_type": "execute_result"
    }
   ],
   "source": [
    "{0, 1} <= {1, 0}"
   ]
  },
  {
   "cell_type": "code",
   "execution_count": 38,
   "id": "4c5fd365-7be5-44d0-abb1-c499924d2637",
   "metadata": {},
   "outputs": [
    {
     "data": {
      "text/plain": [
       "True"
      ]
     },
     "execution_count": 38,
     "metadata": {},
     "output_type": "execute_result"
    }
   ],
   "source": [
    "{0, 1, 7} < {0, 1, 7, 8}"
   ]
  },
  {
   "cell_type": "code",
   "execution_count": null,
   "id": "c81ac841-2c9d-418f-a41f-7559235d6a96",
   "metadata": {},
   "outputs": [],
   "source": []
  },
  {
   "cell_type": "code",
   "execution_count": 39,
   "id": "9840e720-d994-46f1-827f-531624e29b07",
   "metadata": {},
   "outputs": [
    {
     "data": {
      "text/plain": [
       "False"
      ]
     },
     "execution_count": 39,
     "metadata": {},
     "output_type": "execute_result"
    }
   ],
   "source": [
    "{0, 1, 7} > {0, 1, 7, 8}"
   ]
  },
  {
   "cell_type": "code",
   "execution_count": 40,
   "id": "b8486ab1-1a0b-48f0-a776-bc5c739a270d",
   "metadata": {},
   "outputs": [
    {
     "data": {
      "text/plain": [
       "{2, 3, 5, 7, 11, 13, 19}"
      ]
     },
     "execution_count": 40,
     "metadata": {},
     "output_type": "execute_result"
    }
   ],
   "source": [
    "a"
   ]
  },
  {
   "cell_type": "code",
   "execution_count": 41,
   "id": "a9bbbaf9-1b0f-4b0a-bd61-9e0a92a09e7c",
   "metadata": {},
   "outputs": [
    {
     "data": {
      "text/plain": [
       "2"
      ]
     },
     "execution_count": 41,
     "metadata": {},
     "output_type": "execute_result"
    }
   ],
   "source": [
    "a.pop()"
   ]
  },
  {
   "cell_type": "code",
   "execution_count": 43,
   "id": "6459fdb9-1ba3-4c27-8c17-8c56eb05e8df",
   "metadata": {},
   "outputs": [
    {
     "data": {
      "text/plain": [
       "3"
      ]
     },
     "execution_count": 43,
     "metadata": {},
     "output_type": "execute_result"
    }
   ],
   "source": [
    "a.pop()"
   ]
  },
  {
   "cell_type": "code",
   "execution_count": 50,
   "id": "0241330b-3496-4281-a3ff-579e908793d6",
   "metadata": {},
   "outputs": [
    {
     "ename": "KeyError",
     "evalue": "'pop from an empty set'",
     "output_type": "error",
     "traceback": [
      "\u001b[0;31m---------------------------------------------------------------------------\u001b[0m",
      "\u001b[0;31mKeyError\u001b[0m                                  Traceback (most recent call last)",
      "\u001b[0;32m<ipython-input-50-b9eb1135ac2e>\u001b[0m in \u001b[0;36m<module>\u001b[0;34m\u001b[0m\n\u001b[0;32m----> 1\u001b[0;31m \u001b[0ma\u001b[0m\u001b[0;34m.\u001b[0m\u001b[0mpop\u001b[0m\u001b[0;34m(\u001b[0m\u001b[0;34m)\u001b[0m\u001b[0;34m\u001b[0m\u001b[0;34m\u001b[0m\u001b[0m\n\u001b[0m\u001b[1;32m      2\u001b[0m \u001b[0mprint\u001b[0m\u001b[0;34m(\u001b[0m\u001b[0ma\u001b[0m\u001b[0;34m)\u001b[0m\u001b[0;34m\u001b[0m\u001b[0;34m\u001b[0m\u001b[0m\n",
      "\u001b[0;31mKeyError\u001b[0m: 'pop from an empty set'"
     ]
    }
   ],
   "source": [
    "a.pop()\n",
    "print(a)"
   ]
  },
  {
   "cell_type": "code",
   "execution_count": 62,
   "id": "2f4b36af-7164-4542-9350-8cca332d5837",
   "metadata": {},
   "outputs": [],
   "source": [
    "class A:\n",
    "    \n",
    "    def __init__(self):\n",
    "        self.__priv = \"I am private\"\n",
    "        self._prot = \"I am protected\"\n",
    "        self.pub = \"I am public\""
   ]
  },
  {
   "cell_type": "code",
   "execution_count": 63,
   "id": "2a355bc0-403f-4f14-a7f2-bdd5998e0df3",
   "metadata": {},
   "outputs": [
    {
     "ename": "AttributeError",
     "evalue": "type object 'A' has no attribute '__dic__'",
     "output_type": "error",
     "traceback": [
      "\u001b[0;31m---------------------------------------------------------------------------\u001b[0m",
      "\u001b[0;31mAttributeError\u001b[0m                            Traceback (most recent call last)",
      "\u001b[0;32m<ipython-input-63-d6aa7df467f0>\u001b[0m in \u001b[0;36m<module>\u001b[0;34m\u001b[0m\n\u001b[0;32m----> 1\u001b[0;31m \u001b[0mA\u001b[0m\u001b[0;34m.\u001b[0m\u001b[0m__dic__\u001b[0m\u001b[0;34m(\u001b[0m\u001b[0;34m)\u001b[0m\u001b[0;34m\u001b[0m\u001b[0;34m\u001b[0m\u001b[0m\n\u001b[0m",
      "\u001b[0;31mAttributeError\u001b[0m: type object 'A' has no attribute '__dic__'"
     ]
    }
   ],
   "source": [
    "A.__dic__()"
   ]
  },
  {
   "cell_type": "code",
   "execution_count": 54,
   "id": "46d00824-2ac0-4c4c-9302-bae7616f46c9",
   "metadata": {},
   "outputs": [],
   "source": [
    "a = A()"
   ]
  },
  {
   "cell_type": "code",
   "execution_count": 55,
   "id": "38e12fe1-43d6-45f8-b7af-850eefaae580",
   "metadata": {},
   "outputs": [
    {
     "data": {
      "text/plain": [
       "{'_A__priv': 'I am private', '_prot': 'I am protected', 'pub': 'I am public'}"
      ]
     },
     "execution_count": 55,
     "metadata": {},
     "output_type": "execute_result"
    }
   ],
   "source": [
    "a.__dict__"
   ]
  },
  {
   "cell_type": "code",
   "execution_count": 65,
   "id": "38a0e788-1213-4b32-bbcf-23c463964b8a",
   "metadata": {},
   "outputs": [
    {
     "data": {
      "text/plain": [
       "'I am private'"
      ]
     },
     "execution_count": 65,
     "metadata": {},
     "output_type": "execute_result"
    }
   ],
   "source": [
    "a._A__priv"
   ]
  },
  {
   "cell_type": "code",
   "execution_count": 59,
   "id": "ed3d541c-0be2-466c-bbdf-4c053a9a4f83",
   "metadata": {},
   "outputs": [
    {
     "data": {
      "text/plain": [
       "'I am protected'"
      ]
     },
     "execution_count": 59,
     "metadata": {},
     "output_type": "execute_result"
    }
   ],
   "source": [
    "a._prot"
   ]
  },
  {
   "cell_type": "code",
   "execution_count": 60,
   "id": "6408ce1e-1392-4fbb-bc7e-e853790fc909",
   "metadata": {},
   "outputs": [],
   "source": [
    "a._prot = 'hello'"
   ]
  },
  {
   "cell_type": "code",
   "execution_count": 61,
   "id": "c58fb1e8-ac24-4e69-a379-4ef574ba13ac",
   "metadata": {},
   "outputs": [
    {
     "data": {
      "text/plain": [
       "'hello'"
      ]
     },
     "execution_count": 61,
     "metadata": {},
     "output_type": "execute_result"
    }
   ],
   "source": [
    "a._prot"
   ]
  },
  {
   "cell_type": "markdown",
   "id": "ad4a97b6-3fb8-40e3-9c85-290dccbfd265",
   "metadata": {},
   "source": [
    "![](media/flux.png)"
   ]
  },
  {
   "cell_type": "markdown",
   "id": "cb79fde4-82e3-4630-8df4-d21436abd525",
   "metadata": {},
   "source": [
    "![](media/venn.png)"
   ]
  },
  {
   "cell_type": "code",
   "execution_count": null,
   "id": "e078f3c3-d003-404e-97f7-0dad0efc9de5",
   "metadata": {},
   "outputs": [],
   "source": []
  }
 ],
 "metadata": {
  "kernelspec": {
   "display_name": "Python 3 (ipykernel)",
   "language": "python",
   "name": "python3"
  },
  "language_info": {
   "codemirror_mode": {
    "name": "ipython",
    "version": 3
   },
   "file_extension": ".py",
   "mimetype": "text/x-python",
   "name": "python",
   "nbconvert_exporter": "python",
   "pygments_lexer": "ipython3",
   "version": "3.7.9"
  }
 },
 "nbformat": 4,
 "nbformat_minor": 5
}
