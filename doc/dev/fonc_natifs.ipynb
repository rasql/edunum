{
 "cells": [
  {
   "cell_type": "markdown",
   "id": "genuine-fountain",
   "metadata": {},
   "source": [
    "# Fonctions natives\n",
    "\n",
    "Python propose quelques fonctions et types natifs qui sont toujours disponibles.  \n",
    "Réf: https://docs.python.org/fr/3/library/functions.html"
   ]
  },
  {
   "cell_type": "code",
   "execution_count": 2,
   "id": "above-weight",
   "metadata": {},
   "outputs": [
    {
     "data": {
      "text/plain": [
       "1"
      ]
     },
     "execution_count": 2,
     "metadata": {},
     "output_type": "execute_result"
    }
   ],
   "source": [
    "abs(-1)"
   ]
  },
  {
   "cell_type": "code",
   "execution_count": 4,
   "id": "progressive-circular",
   "metadata": {},
   "outputs": [
    {
     "data": {
      "text/plain": [
       "False"
      ]
     },
     "execution_count": 4,
     "metadata": {},
     "output_type": "execute_result"
    }
   ],
   "source": [
    "all([True, 1, 0])"
   ]
  },
  {
   "cell_type": "code",
   "execution_count": 5,
   "id": "extended-lending",
   "metadata": {},
   "outputs": [
    {
     "data": {
      "text/plain": [
       "True"
      ]
     },
     "execution_count": 5,
     "metadata": {},
     "output_type": "execute_result"
    }
   ],
   "source": [
    "any([True, 1, 0])"
   ]
  },
  {
   "cell_type": "code",
   "execution_count": 6,
   "id": "adopted-personal",
   "metadata": {},
   "outputs": [
    {
     "name": "stdout",
     "output_type": "stream",
     "text": [
      "hello\n",
      "world\n",
      "'hello\\nworld'\n"
     ]
    }
   ],
   "source": [
    "s = 'hello\\nworld'\n",
    "print(s)\n",
    "print(ascii(s))"
   ]
  },
  {
   "cell_type": "code",
   "execution_count": 7,
   "id": "perfect-economy",
   "metadata": {},
   "outputs": [
    {
     "name": "stdout",
     "output_type": "stream",
     "text": [
      "0b0\n",
      "0b1\n",
      "0b10\n",
      "0b11\n",
      "0b100\n",
      "0b101\n",
      "0b110\n",
      "0b111\n"
     ]
    }
   ],
   "source": [
    "for i in range(8):\n",
    "    print(bin(i))"
   ]
  },
  {
   "cell_type": "code",
   "execution_count": 10,
   "id": "modern-twist",
   "metadata": {},
   "outputs": [
    {
     "data": {
      "text/plain": [
       "(False, True, True)"
      ]
     },
     "execution_count": 10,
     "metadata": {},
     "output_type": "execute_result"
    }
   ],
   "source": [
    "bool(0), bool(1), bool(2)"
   ]
  },
  {
   "cell_type": "markdown",
   "id": "optical-lingerie",
   "metadata": {},
   "source": [
    "## bytearray"
   ]
  },
  {
   "cell_type": "code",
   "execution_count": 20,
   "id": "trained-cincinnati",
   "metadata": {},
   "outputs": [
    {
     "data": {
      "text/plain": [
       "bytearray(b'\\x00\\x00\\x00\\x00\\x00\\x00\\x00\\x00\\x00\\x00')"
      ]
     },
     "execution_count": 20,
     "metadata": {},
     "output_type": "execute_result"
    }
   ],
   "source": [
    "bytearray(10)"
   ]
  },
  {
   "cell_type": "code",
   "execution_count": 22,
   "id": "weird-count",
   "metadata": {},
   "outputs": [
    {
     "data": {
      "text/plain": [
       "bytearray(b'')"
      ]
     },
     "execution_count": 22,
     "metadata": {},
     "output_type": "execute_result"
    }
   ],
   "source": [
    "bytearray()"
   ]
  },
  {
   "cell_type": "code",
   "execution_count": 25,
   "id": "entertaining-republican",
   "metadata": {},
   "outputs": [
    {
     "data": {
      "text/plain": [
       "bytearray(b'\\x00\\x01\\x02\\x03\\x04\\x05\\x06\\x07\\x08\\t\\n\\x0b\\x0c\\r\\x0e\\x0f\\x10\\x11\\x12\\x13\\x14\\x15\\x16\\x17\\x18\\x19\\x1a\\x1b\\x1c\\x1d\\x1e\\x1f !\"#$%&\\'()*+,-./0123456789:;<=>?@ABCDEFGHIJKLMNOPQRSTUVWXYZ[\\\\]^_`abcdefghijklmnopqrstuvwxyz{|}~\\x7f')"
      ]
     },
     "execution_count": 25,
     "metadata": {},
     "output_type": "execute_result"
    }
   ],
   "source": [
    "bytearray(range(128))"
   ]
  },
  {
   "cell_type": "code",
   "execution_count": 27,
   "id": "friendly-strengthening",
   "metadata": {},
   "outputs": [
    {
     "data": {
      "text/plain": [
       "b'\\x00\\x01\\x02\\x03\\x04\\x05\\x06\\x07\\x08\\t\\n\\x0b\\x0c\\r\\x0e\\x0f\\x10\\x11\\x12\\x13\\x14\\x15\\x16\\x17\\x18\\x19\\x1a\\x1b\\x1c\\x1d\\x1e\\x1f !\"#$%&\\'()*+,-./0123456789:;<=>?@ABCDEFGHIJKLMNOPQRSTUVWXYZ[\\\\]^_`abcdefghijklmnopqrstuvwxyz{|}~\\x7f'"
      ]
     },
     "execution_count": 27,
     "metadata": {},
     "output_type": "execute_result"
    }
   ],
   "source": [
    "bytes(range(128))"
   ]
  },
  {
   "cell_type": "code",
   "execution_count": 28,
   "id": "quiet-belgium",
   "metadata": {},
   "outputs": [
    {
     "data": {
      "text/plain": [
       "b''"
      ]
     },
     "execution_count": 28,
     "metadata": {},
     "output_type": "execute_result"
    }
   ],
   "source": [
    "bytes()"
   ]
  },
  {
   "cell_type": "code",
   "execution_count": 35,
   "id": "labeled-borough",
   "metadata": {},
   "outputs": [
    {
     "name": "stdout",
     "output_type": "stream",
     "text": [
      "learn: アイウエオ\n"
     ]
    },
    {
     "name": "stdin",
     "output_type": "stream",
     "text": [
      "ア a\n",
      "ウ u\n",
      "エ e\n",
      "ウ u\n",
      "ウ u\n",
      "ア a\n",
      "イ i\n",
      "ウ u\n",
      "イ i\n",
      "ウ u\n"
     ]
    },
    {
     "name": "stdout",
     "output_type": "stream",
     "text": [
      "score = 10\n"
     ]
    }
   ],
   "source": [
    "import random\n",
    "s = 'アイウエオ'\n",
    "x = 'aiueo'\n",
    "score = 0\n",
    "\n",
    "print('learn:', s)\n",
    "\n",
    "for i in range(10):\n",
    "    i = random.randint(0, 4)\n",
    "    question = s[i]\n",
    "    answer = input(question)\n",
    "    if answer == x[i]:\n",
    "        score += 1      \n",
    "    else:\n",
    "        print('correct answer:', x[i])\n",
    "        \n",
    "print('score =', score)"
   ]
  },
  {
   "cell_type": "code",
   "execution_count": 42,
   "id": "killing-right",
   "metadata": {},
   "outputs": [
    {
     "name": "stdout",
     "output_type": "stream",
     "text": [
      "田\n",
      "由\n",
      "甲\n",
      "申\n",
      "甴\n",
      "电\n",
      "甶\n",
      "男\n",
      "甸\n",
      "甹\n"
     ]
    }
   ],
   "source": [
    "for i in range(10):\n",
    "    print(chr(30000+i))"
   ]
  },
  {
   "cell_type": "code",
   "execution_count": 44,
   "id": "exciting-space",
   "metadata": {},
   "outputs": [
    {
     "data": {
      "text/plain": [
       "'🐀'"
      ]
     },
     "execution_count": 44,
     "metadata": {},
     "output_type": "execute_result"
    }
   ],
   "source": [
    "chr(128000)"
   ]
  },
  {
   "cell_type": "code",
   "execution_count": 121,
   "id": "regular-universal",
   "metadata": {},
   "outputs": [
    {
     "data": {
      "text/html": [
       "<font size='7'>🍎🍏</font>\n",
       "<font size='6'>🍎🍏</font>\n",
       "<font size='5'>🍎🍏</font>\n",
       "<font size='4'>🍎🍏</font>\n"
      ],
      "text/plain": [
       "<IPython.core.display.HTML object>"
      ]
     },
     "metadata": {},
     "output_type": "display_data"
    }
   ],
   "source": [
    "%%html\n",
    "<font size='7'>🍎🍏</font>\n",
    "<font size='6'>🍎🍏</font>\n",
    "<font size='5'>🍎🍏</font>\n",
    "<font size='4'>🍎🍏</font>"
   ]
  },
  {
   "cell_type": "code",
   "execution_count": 109,
   "id": "macro-broadcast",
   "metadata": {},
   "outputs": [
    {
     "data": {
      "text/html": [
       "<svg>\n",
       "<text x='0' y='100' font-size='95' fill='blue'>🍎🍏🍌</text>\n"
      ],
      "text/plain": [
       "<IPython.core.display.HTML object>"
      ]
     },
     "metadata": {},
     "output_type": "display_data"
    }
   ],
   "source": [
    "%%html\n",
    "<svg>\n",
    "<text x='0' y='100' font-size='95' fill='blue'>🍎🍏🍌</text>"
   ]
  },
  {
   "cell_type": "code",
   "execution_count": 71,
   "id": "african-tamil",
   "metadata": {},
   "outputs": [
    {
     "data": {
      "text/plain": [
       "(9+2j)"
      ]
     },
     "execution_count": 71,
     "metadata": {},
     "output_type": "execute_result"
    }
   ],
   "source": [
    "complex(i, 2)"
   ]
  },
  {
   "cell_type": "code",
   "execution_count": 79,
   "id": "heavy-sucking",
   "metadata": {},
   "outputs": [
    {
     "data": {
      "text/plain": [
       "{'a': 10, 'b': 10}"
      ]
     },
     "execution_count": 79,
     "metadata": {},
     "output_type": "execute_result"
    }
   ],
   "source": [
    "dict(a=10, b=10)"
   ]
  },
  {
   "cell_type": "code",
   "execution_count": 87,
   "id": "norman-sharing",
   "metadata": {},
   "outputs": [
    {
     "data": {
      "text/plain": [
       "['capitalize',\n",
       " 'casefold',\n",
       " 'center',\n",
       " 'count',\n",
       " 'encode',\n",
       " 'endswith',\n",
       " 'expandtabs',\n",
       " 'find',\n",
       " 'format',\n",
       " 'format_map',\n",
       " 'index',\n",
       " 'isalnum',\n",
       " 'isalpha',\n",
       " 'isascii',\n",
       " 'isdecimal',\n",
       " 'isdigit',\n",
       " 'isidentifier',\n",
       " 'islower',\n",
       " 'isnumeric',\n",
       " 'isprintable',\n",
       " 'isspace',\n",
       " 'istitle',\n",
       " 'isupper',\n",
       " 'join',\n",
       " 'ljust',\n",
       " 'lower',\n",
       " 'lstrip',\n",
       " 'maketrans',\n",
       " 'partition',\n",
       " 'replace',\n",
       " 'rfind',\n",
       " 'rindex',\n",
       " 'rjust',\n",
       " 'rpartition',\n",
       " 'rsplit',\n",
       " 'rstrip',\n",
       " 'split',\n",
       " 'splitlines',\n",
       " 'startswith',\n",
       " 'strip',\n",
       " 'swapcase',\n",
       " 'title',\n",
       " 'translate',\n",
       " 'upper',\n",
       " 'zfill']"
      ]
     },
     "execution_count": 87,
     "metadata": {},
     "output_type": "execute_result"
    }
   ],
   "source": [
    "[x for x in dir('__builtins__') if not x.startswith('_')]"
   ]
  },
  {
   "cell_type": "markdown",
   "id": "mechanical-motivation",
   "metadata": {},
   "source": [
    "## divmod"
   ]
  },
  {
   "cell_type": "markdown",
   "id": "natural-interstate",
   "metadata": {},
   "source": [
    "divmod(11, 3)"
   ]
  },
  {
   "cell_type": "code",
   "execution_count": 93,
   "id": "quantitative-obligation",
   "metadata": {},
   "outputs": [
    {
     "data": {
      "text/plain": [
       "('0b1010', '0o12', '0xa')"
      ]
     },
     "execution_count": 93,
     "metadata": {},
     "output_type": "execute_result"
    }
   ],
   "source": [
    "bin(10), oct(10), hex(10)"
   ]
  },
  {
   "cell_type": "markdown",
   "id": "biological-prototype",
   "metadata": {},
   "source": [
    "## enumerate "
   ]
  },
  {
   "cell_type": "code",
   "execution_count": 99,
   "id": "corrected-bible",
   "metadata": {},
   "outputs": [
    {
     "data": {
      "text/plain": [
       "[(0, 'h'),\n",
       " (1, 'e'),\n",
       " (2, 'l'),\n",
       " (3, 'l'),\n",
       " (4, 'o'),\n",
       " (5, ' '),\n",
       " (6, 'y'),\n",
       " (7, 'o'),\n",
       " (8, 'u')]"
      ]
     },
     "execution_count": 99,
     "metadata": {},
     "output_type": "execute_result"
    }
   ],
   "source": [
    "list(enumerate('hello you'))"
   ]
  },
  {
   "cell_type": "code",
   "execution_count": 100,
   "id": "alpine-banking",
   "metadata": {},
   "outputs": [
    {
     "data": {
      "text/plain": [
       "[(10, 'h'),\n",
       " (11, 'e'),\n",
       " (12, 'l'),\n",
       " (13, 'l'),\n",
       " (14, 'o'),\n",
       " (15, ' '),\n",
       " (16, 'y'),\n",
       " (17, 'o'),\n",
       " (18, 'u')]"
      ]
     },
     "execution_count": 100,
     "metadata": {},
     "output_type": "execute_result"
    }
   ],
   "source": [
    "list(enumerate('hello you', 10))"
   ]
  },
  {
   "cell_type": "code",
   "execution_count": 98,
   "id": "plastic-kenya",
   "metadata": {},
   "outputs": [
    {
     "data": {
      "text/plain": [
       "[(10, 0),\n",
       " (11, 1),\n",
       " (12, 2),\n",
       " (13, 3),\n",
       " (14, 4),\n",
       " (15, 5),\n",
       " (16, 6),\n",
       " (17, 7),\n",
       " (18, 8),\n",
       " (19, 9)]"
      ]
     },
     "execution_count": 98,
     "metadata": {},
     "output_type": "execute_result"
    }
   ],
   "source": [
    "list(enumerate(range(10), 10))"
   ]
  },
  {
   "cell_type": "markdown",
   "id": "revised-rescue",
   "metadata": {},
   "source": []
  },
  {
   "cell_type": "markdown",
   "id": "living-transcript",
   "metadata": {},
   "source": [
    "## builtins"
   ]
  },
  {
   "cell_type": "code",
   "execution_count": 17,
   "id": "champion-sleeve",
   "metadata": {},
   "outputs": [
    {
     "data": {
      "text/plain": [
       "153"
      ]
     },
     "execution_count": 17,
     "metadata": {},
     "output_type": "execute_result"
    }
   ],
   "source": [
    "b = dir(__builtins__)\n",
    "len(b)"
   ]
  },
  {
   "cell_type": "code",
   "execution_count": 16,
   "id": "martial-instrument",
   "metadata": {},
   "outputs": [
    {
     "name": "stdout",
     "output_type": "stream",
     "text": [
      "['abs', 'all', 'any', 'ascii', 'bin', 'bool', 'breakpoint', 'bytearray', 'bytes', 'callable', 'chr', 'classmethod', 'compile', 'complex', 'copyright', 'credits', 'delattr', 'dict', 'dir', 'display', 'divmod', 'enumerate', 'eval', 'exec', 'filter', 'float', 'format', 'frozenset', 'get_ipython', 'getattr', 'globals', 'hasattr', 'hash', 'help', 'hex', 'id', 'input', 'int', 'isinstance', 'issubclass', 'iter', 'len', 'license', 'list', 'locals', 'map', 'max', 'memoryview', 'min', 'next', 'object', 'oct', 'open', 'ord', 'pow', 'print', 'property', 'range', 'repr', 'reversed', 'round', 'set', 'setattr', 'slice', 'sorted', 'staticmethod', 'str', 'sum', 'super', 'tuple', 'type', 'vars', 'zip']\n"
     ]
    },
    {
     "data": {
      "text/plain": [
       "73"
      ]
     },
     "execution_count": 16,
     "metadata": {},
     "output_type": "execute_result"
    }
   ],
   "source": [
    "f = [x for x in dir(__builtins__) if x[0].islower()]\n",
    "print(f)\n",
    "len(f)"
   ]
  },
  {
   "cell_type": "code",
   "execution_count": 26,
   "id": "injured-southwest",
   "metadata": {},
   "outputs": [
    {
     "data": {
      "text/plain": [
       "['H', 'e', 'l', 'l', 'o']"
      ]
     },
     "execution_count": 26,
     "metadata": {},
     "output_type": "execute_result"
    }
   ],
   "source": [
    "list(filter(ord, 'Hello'))"
   ]
  },
  {
   "cell_type": "code",
   "execution_count": 32,
   "id": "australian-threat",
   "metadata": {},
   "outputs": [
    {
     "name": "stdout",
     "output_type": "stream",
     "text": [
      "HELLO WORLD\n",
      "False\n"
     ]
    }
   ],
   "source": [
    "s = 'Hello world'\n",
    "print(s.upper())\n",
    "print(s.isupper())"
   ]
  },
  {
   "cell_type": "markdown",
   "id": "greek-religious",
   "metadata": {},
   "source": [
    "## float"
   ]
  },
  {
   "cell_type": "code",
   "execution_count": 48,
   "id": "large-cookie",
   "metadata": {},
   "outputs": [
    {
     "name": "stdout",
     "output_type": "stream",
     "text": [
      "nan inf\n"
     ]
    },
    {
     "data": {
      "text/plain": [
       "(float, float)"
      ]
     },
     "execution_count": 48,
     "metadata": {},
     "output_type": "execute_result"
    }
   ],
   "source": [
    "n = float('nan')\n",
    "i = float('inf')\n",
    "print(n, i)\n",
    "type(n), type(i)"
   ]
  },
  {
   "cell_type": "code",
   "execution_count": 44,
   "id": "welcome-miller",
   "metadata": {},
   "outputs": [
    {
     "data": {
      "text/plain": [
       "float"
      ]
     },
     "execution_count": 44,
     "metadata": {},
     "output_type": "execute_result"
    }
   ],
   "source": [
    "type(x)"
   ]
  },
  {
   "cell_type": "code",
   "execution_count": 50,
   "id": "incomplete-muslim",
   "metadata": {},
   "outputs": [
    {
     "data": {
      "text/plain": [
       "1.0"
      ]
     },
     "execution_count": 50,
     "metadata": {},
     "output_type": "execute_result"
    }
   ],
   "source": [
    "float('1')"
   ]
  },
  {
   "cell_type": "code",
   "execution_count": 57,
   "id": "interesting-venice",
   "metadata": {},
   "outputs": [
    {
     "data": {
      "text/plain": [
       "123412341234"
      ]
     },
     "execution_count": 57,
     "metadata": {},
     "output_type": "execute_result"
    }
   ],
   "source": [
    "1234_1234_1234"
   ]
  },
  {
   "cell_type": "code",
   "execution_count": 67,
   "id": "referenced-wedding",
   "metadata": {},
   "outputs": [
    {
     "data": {
      "text/plain": [
       "(1234, 3228904790033104363)"
      ]
     },
     "execution_count": 67,
     "metadata": {},
     "output_type": "execute_result"
    }
   ],
   "source": [
    "hash(1234), hash('abcdefghijk')"
   ]
  },
  {
   "cell_type": "code",
   "execution_count": 73,
   "id": "facial-breach",
   "metadata": {},
   "outputs": [
    {
     "data": {
      "text/plain": [
       "(0, 248789772095949448)"
      ]
     },
     "execution_count": 73,
     "metadata": {},
     "output_type": "execute_result"
    }
   ],
   "source": [
    "hash(0), hash(123456789012345678901234567890)"
   ]
  },
  {
   "cell_type": "code",
   "execution_count": 81,
   "id": "quick-million",
   "metadata": {},
   "outputs": [
    {
     "name": "stdout",
     "output_type": "stream",
     "text": [
      "0 \t    0\n",
      "1 \t    1\n",
      "2 \t   10\n",
      "3 \t   11\n",
      "4 \t  100\n",
      "5 \t  101\n",
      "6 \t  110\n",
      "7 \t  111\n",
      "8 \t 1000\n",
      "9 \t 1001\n",
      "10 \t 1010\n",
      "11 \t 1011\n",
      "12 \t 1100\n",
      "13 \t 1101\n",
      "14 \t 1110\n",
      "15 \t 1111\n"
     ]
    }
   ],
   "source": [
    "for i in range(16):\n",
    "    b = format(i, '4b')\n",
    "    print(i, '\\t', b)"
   ]
  },
  {
   "cell_type": "markdown",
   "id": "decreased-gates",
   "metadata": {},
   "source": [
    "## map"
   ]
  },
  {
   "cell_type": "code",
   "execution_count": 84,
   "id": "absolute-madness",
   "metadata": {},
   "outputs": [
    {
     "data": {
      "text/plain": [
       "[104, 101, 108, 108, 111]"
      ]
     },
     "execution_count": 84,
     "metadata": {},
     "output_type": "execute_result"
    }
   ],
   "source": [
    "list(map(ord, 'hello'))"
   ]
  },
  {
   "cell_type": "markdown",
   "id": "suspended-closure",
   "metadata": {},
   "source": [
    "c## filter"
   ]
  },
  {
   "cell_type": "code",
   "execution_count": 90,
   "id": "monthly-instrument",
   "metadata": {},
   "outputs": [
    {
     "data": {
      "text/plain": [
       "['H', 'W']"
      ]
     },
     "execution_count": 90,
     "metadata": {},
     "output_type": "execute_result"
    }
   ],
   "source": [
    "list(filter(str.isupper, 'Hello World'))"
   ]
  },
  {
   "cell_type": "code",
   "execution_count": 93,
   "id": "automated-strand",
   "metadata": {},
   "outputs": [
    {
     "data": {
      "text/plain": [
       "['o', 'l', 'l', 'e', 'h']"
      ]
     },
     "execution_count": 93,
     "metadata": {},
     "output_type": "execute_result"
    }
   ],
   "source": [
    "list(reversed('hello'))"
   ]
  },
  {
   "cell_type": "markdown",
   "id": "minor-plaintiff",
   "metadata": {},
   "source": [
    "## set\n"
   ]
  },
  {
   "cell_type": "code",
   "execution_count": 94,
   "id": "opposite-serial",
   "metadata": {},
   "outputs": [
    {
     "data": {
      "text/plain": [
       "{'e', 'h', 'l', 'o'}"
      ]
     },
     "execution_count": 94,
     "metadata": {},
     "output_type": "execute_result"
    }
   ],
   "source": [
    "set('hello')"
   ]
  },
  {
   "cell_type": "markdown",
   "id": "prescription-player",
   "metadata": {},
   "source": [
    "## sorted\n"
   ]
  },
  {
   "cell_type": "code",
   "execution_count": 100,
   "id": "hindu-renewal",
   "metadata": {},
   "outputs": [
    {
     "data": {
      "text/plain": [
       "['H', 'e', 'l', 'l', 'o']"
      ]
     },
     "execution_count": 100,
     "metadata": {},
     "output_type": "execute_result"
    }
   ],
   "source": [
    "sorted('Hello')"
   ]
  },
  {
   "cell_type": "code",
   "execution_count": 105,
   "id": "foreign-campbell",
   "metadata": {},
   "outputs": [
    {
     "data": {
      "text/plain": [
       "[('h', 0),\n",
       " ('e', 1),\n",
       " ('l', 2),\n",
       " ('l', 3),\n",
       " ('o', 4),\n",
       " (' ', 5),\n",
       " ('w', 6),\n",
       " ('o', 7)]"
      ]
     },
     "execution_count": 105,
     "metadata": {},
     "output_type": "execute_result"
    }
   ],
   "source": [
    "list(zip('hello world', range(8)))"
   ]
  },
  {
   "cell_type": "markdown",
   "id": "comparable-survival",
   "metadata": {},
   "source": [
    "## Gamification"
   ]
  },
  {
   "cell_type": "code",
   "execution_count": 141,
   "id": "passing-battlefield",
   "metadata": {},
   "outputs": [
    {
     "name": "stdout",
     "output_type": "stream",
     "text": [
      "+ addition\n",
      "- soustraction\n",
      "* multiplication\n",
      "% modulo\n"
     ]
    },
    {
     "name": "stdin",
     "output_type": "stream",
     "text": [
      "multiplication:  *\n",
      "multiplication:  *\n",
      "soustraction:  -\n",
      "addition:  +\n",
      "soustraction:  -\n",
      "soustraction:  -\n",
      "soustraction:  -\n",
      "multiplication:  *\n",
      "soustraction:  -\n",
      "multiplication:  \n"
     ]
    },
    {
     "name": "stdout",
     "output_type": "stream",
     "text": [
      "score: 9\n"
     ]
    }
   ],
   "source": [
    "import random\n",
    "\n",
    "d = {'+':'addition', \n",
    "     '-':'soustraction',\n",
    "     '*':'multiplication',\n",
    "     '%':'modulo'}\n",
    "\n",
    "for k, v in d.items():\n",
    "    print(k, v)\n",
    "    \n",
    "score = 0\n",
    "answer = 'x'\n",
    "while answer != '':\n",
    "    x = random.choice(list(d))\n",
    "    answer = input(d[x]+': ')\n",
    "    if answer == x:\n",
    "        score += 1\n",
    "  \n",
    "print('score:', score)"
   ]
  },
  {
   "cell_type": "code",
   "execution_count": 131,
   "id": "human-entertainment",
   "metadata": {},
   "outputs": [
    {
     "data": {
      "text/plain": [
       "['+', '-', '*', '%']"
      ]
     },
     "execution_count": 131,
     "metadata": {},
     "output_type": "execute_result"
    }
   ],
   "source": [
    "list(d.keys())\n"
   ]
  },
  {
   "cell_type": "code",
   "execution_count": 132,
   "id": "middle-cookbook",
   "metadata": {},
   "outputs": [
    {
     "data": {
      "text/plain": [
       "['addition', 'soustraction', 'multiplication', 'modulo']"
      ]
     },
     "execution_count": 132,
     "metadata": {},
     "output_type": "execute_result"
    }
   ],
   "source": [
    "list(d.values())"
   ]
  },
  {
   "cell_type": "code",
   "execution_count": 138,
   "id": "civic-reality",
   "metadata": {},
   "outputs": [
    {
     "data": {
      "text/plain": [
       "'%'"
      ]
     },
     "execution_count": 138,
     "metadata": {},
     "output_type": "execute_result"
    }
   ],
   "source": [
    "random.choice(list(d))"
   ]
  },
  {
   "cell_type": "code",
   "execution_count": null,
   "id": "finite-needle",
   "metadata": {},
   "outputs": [],
   "source": []
  }
 ],
 "metadata": {
  "kernelspec": {
   "display_name": "Python 3",
   "language": "python",
   "name": "python3"
  },
  "language_info": {
   "codemirror_mode": {
    "name": "ipython",
    "version": 3
   },
   "file_extension": ".py",
   "mimetype": "text/x-python",
   "name": "python",
   "nbconvert_exporter": "python",
   "pygments_lexer": "ipython3",
   "version": "3.7.9"
  }
 },
 "nbformat": 4,
 "nbformat_minor": 5
}
