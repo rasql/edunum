{
 "cells": [
  {
   "cell_type": "markdown",
   "id": "94c0a08d-1346-4731-84f4-b5f2ded231d5",
   "metadata": {},
   "source": [
    "# Programmes et languages"
   ]
  },
  {
   "cell_type": "markdown",
   "id": "b993f24d-c063-4443-855b-65ae756be395",
   "metadata": {},
   "source": [
    "## Pour bien démarrer\n",
    "```{question} Dans un ordinateur qu'on vient d'allumer\n",
    "* {f}`il n'y a pas de programmes: il faut les saisir`\n",
    "* {v}`il y déjà des programmes qui commencent à s'éxécuter et c'est pour cela qu'il faut attendre`\n",
    "```"
   ]
  },
  {
   "cell_type": "markdown",
   "id": "9e17b88c-bbc9-47b5-9c9e-f8734d934fac",
   "metadata": {},
   "source": [
    "## Objectifs\n",
    "- connaitre la différence entre programme source et programme exécutable\n",
    "- savoir à quoi sert un compilateur et un interpréteur"
   ]
  },
  {
   "cell_type": "code",
   "execution_count": null,
   "id": "c6b94b12-761b-4c19-93e6-421154fe27e1",
   "metadata": {},
   "outputs": [],
   "source": []
  }
 ],
 "metadata": {
  "kernelspec": {
   "display_name": "Python 3",
   "language": "python",
   "name": "python3"
  },
  "language_info": {
   "codemirror_mode": {
    "name": "ipython",
    "version": 3
   },
   "file_extension": ".py",
   "mimetype": "text/x-python",
   "name": "python",
   "nbconvert_exporter": "python",
   "pygments_lexer": "ipython3",
   "version": "3.7.9"
  }
 },
 "nbformat": 4,
 "nbformat_minor": 5
}
