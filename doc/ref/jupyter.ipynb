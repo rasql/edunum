{
 "cells": [
  {
   "cell_type": "markdown",
   "metadata": {},
   "source": [
    "# Jupyter\n",
    "\n",
    "Le Jupyter notebook est un document **JSON**.\n",
    "\n",
    "Il est composé de cellules d'entrée/sortie qui peuvent contenir \n",
    "- du code\n",
    "- du texte\n",
    "- des formules mathématiques\n",
    "- des graphiques. \n",
    "\n",
    "Il se termine généralement par l'extension `.ipynb`.\n",
    "\n",
    "## Styles\n",
    "\n",
    "Les styles *italic*  **bold** et `code` peuvent être appliqués dans un texte."
   ]
  },
  {
   "cell_type": "markdown",
   "metadata": {},
   "source": [
    "## Listes\n",
    "Les listes avec plusieurs niveaux sont à éviter, car les sous-niveau s'affichent pas de la même façon dans un notebook et dans la page web généré avec l'outil **jupyter-book**.\n",
    "\n",
    "Liste à puces\n",
    "\n",
    "- item\n",
    "- item\n",
    "- item\n",
    "\n",
    "Liste numéroté\n",
    "\n",
    "1. item\n",
    "1. item\n",
    "1. item"
   ]
  },
  {
   "cell_type": "markdown",
   "metadata": {},
   "source": [
    "## Texte littéral\n",
    "\n",
    "Pour afficher un texte littéral il suffit d'indenter ses lignes.\n",
    "    \n",
    "    # text littéral\n",
    "    x = 'hello'\n",
    "    print(x)"
   ]
  },
  {
   "cell_type": "markdown",
   "metadata": {},
   "source": [
    "## Commandes magiques\n",
    "Les commandes magiques permettent d'appeler certaines commandes UNIX. \n",
    "\n",
    "La commande `pwd` affiche le dossier actuel."
   ]
  },
  {
   "cell_type": "code",
   "execution_count": 2,
   "metadata": {},
   "outputs": [
    {
     "data": {
      "text/plain": [
       "'/Users/raphael/GitHub/edunum/doc/misc'"
      ]
     },
     "execution_count": 2,
     "metadata": {},
     "output_type": "execute_result"
    }
   ],
   "source": [
    "pwd"
   ]
  },
  {
   "cell_type": "markdown",
   "metadata": {},
   "source": [
    "La commande `ls` affiche les dossiers et fichiers."
   ]
  },
  {
   "cell_type": "code",
   "execution_count": 5,
   "metadata": {},
   "outputs": [
    {
     "name": "stdout",
     "output_type": "stream",
     "text": [
      "github.ipynb   jupyter.ipynb  style.ipynb    thonny.ipynb\n"
     ]
    }
   ],
   "source": [
    "ls *.ipynb"
   ]
  },
  {
   "cell_type": "code",
   "execution_count": 6,
   "metadata": {},
   "outputs": [
    {
     "name": "stdout",
     "output_type": "stream",
     "text": [
      "-rw-r--r--  1 virginie  staff  22 Jan 17 13:12 demo.txt\n"
     ]
    }
   ],
   "source": [
    "ll *.txt"
   ]
  },
  {
   "cell_type": "markdown",
   "metadata": {},
   "source": [
    "La commande `%save` sauvegarde les lignes qui suivent dans un fichier."
   ]
  },
  {
   "cell_type": "code",
   "execution_count": 7,
   "metadata": {},
   "outputs": [
    {
     "name": "stdin",
     "output_type": "stream",
     "text": [
      "File `hello.py` exists. Overwrite (y/[N])?   y\n"
     ]
    },
    {
     "name": "stdout",
     "output_type": "stream",
     "text": [
      "'' was not found in history, as a file, url, nor in the user namespace.\n",
      "hello\n",
      "world\n"
     ]
    }
   ],
   "source": [
    "%save hello.py\n",
    "print('hello')\n",
    "print('world')"
   ]
  },
  {
   "cell_type": "markdown",
   "metadata": {},
   "source": [
    "## Insérer des images\n",
    "La commande\n",
    "\n",
    "    ![logo](../logo.png)\n",
    "    \n",
    "insère une image\n",
    "\n",
    "![logo](../img/logo.png)"
   ]
  },
  {
   "cell_type": "markdown",
   "metadata": {},
   "source": [
    "## Hyper-liens\n",
    "\n",
    "La commande\n",
    "\n",
    "    [notebook](https://jupyter-notebook.readthedocs.io)\n",
    "\n",
    "insère un hyper-lien\n",
    "[notebook](https://jupyter-notebook.readthedocs.io)"
   ]
  },
  {
   "cell_type": "markdown",
   "metadata": {},
   "source": [
    "## Formules mathématiques\n",
    "\n",
    "Des expression en LaTeX peuvent être insérés dans le texte.\n",
    "- `$a_2$` pour un index $a_2$\n",
    "- `$a^2$` pour un exposant $a^2$\n",
    "\n",
    "Les accolades permettent le groupement de sous-expressions.\n",
    "- `$a^{1+2}$` pour un exposant $a^{1+2}$\n",
    "- `$\\frac{2}{x+1}$` pour une fraction $\\frac{2}{x+1}$\n",
    "\n",
    "Une formule LaTeX entourée par `$$` apparait plus grande et centrée sur la page (*display mode*).\n",
    "\n",
    "`$$\\sum_{i=0}^n {n} = 0 + 1 + 2 + ... + n$$`\n",
    "\n",
    "$$\\sum_{i=0}^n {n} = 0 + 1 + 2 + ... + n$$\n",
    "\n"
   ]
  },
  {
   "cell_type": "markdown",
   "metadata": {},
   "source": [
    "## Exemple de code\n",
    "\n",
    "Le code source (Python)\n",
    "\n",
    "    ```python\n",
    "    for in range(3):\n",
    "        print(i)\n",
    "    ```\n",
    "\n",
    "produit\n",
    "\n",
    "```python\n",
    "for in range(3):\n",
    "    print(i)\n",
    "```\n",
    "\n",
    "Le code source (C)\n",
    "\n",
    "    ```c\n",
    "    for (i=0; i++, i<3)\n",
    "    {\n",
    "        print(i)\n",
    "    }\n",
    "    ```\n",
    "\n",
    "produit\n",
    "\n",
    "```c\n",
    "for (i=0; i++, i<3)\n",
    "{\n",
    "    print(i)\n",
    "}\n",
    "```"
   ]
  },
  {
   "cell_type": "markdown",
   "metadata": {},
   "source": [
    "## Tableau\n",
    "\n",
    "Un tableau est centré avec des bandes alternés en Jupyter.  \n",
    "Il s'afficher plus aéré et aligné à gauche dans le site web.\n",
    "\n",
    "    | x     | not x |\n",
    "    |-------|-------|\n",
    "    | False | True  |\n",
    "    | True  | False |\n",
    "\n",
    "| x     | not x |\n",
    "|-------|-------|\n",
    "| False | True  |\n",
    "| True  | False |"
   ]
  },
  {
   "cell_type": "markdown",
   "metadata": {},
   "source": [
    "## Charger un fichier\n",
    "\n",
    "Exécuter la commande `%load hello.py` ajoute le fichier dans la cellule et met la commande en commentaire."
   ]
  },
  {
   "cell_type": "code",
   "execution_count": 4,
   "metadata": {},
   "outputs": [],
   "source": [
    "# %load hello.py\n",
    "print('hello')\n",
    "print('world')"
   ]
  },
  {
   "cell_type": "markdown",
   "metadata": {},
   "source": [
    "## Exécuter un fichier\n",
    "La commande `%run` permet d'exécuter un fichier externe et afficher son résultat dans la cellule suivante."
   ]
  },
  {
   "cell_type": "code",
   "execution_count": 5,
   "metadata": {},
   "outputs": [
    {
     "name": "stdout",
     "output_type": "stream",
     "text": [
      "hello\n",
      "world\n"
     ]
    }
   ],
   "source": [
    "%run hello.py"
   ]
  },
  {
   "cell_type": "markdown",
   "metadata": {},
   "source": [
    "## Code HTML\n",
    "\n",
    "La commande `%%html` permet d'interpreter du code HTML et d'afficher son résultat dans la cellule suivante."
   ]
  },
  {
   "cell_type": "code",
   "execution_count": 21,
   "metadata": {},
   "outputs": [
    {
     "data": {
      "text/html": [
       "<h2>Titre 2</h2>\n",
       "Texte en <b>gras</b> et <i>italique</i>. \n"
      ],
      "text/plain": [
       "<IPython.core.display.HTML object>"
      ]
     },
     "metadata": {},
     "output_type": "display_data"
    }
   ],
   "source": [
    "%%html\n",
    "<h2>Titre 2</h2>\n",
    "Texte en <b>gras</b> et <i>italique</i>. "
   ]
  },
  {
   "cell_type": "markdown",
   "metadata": {},
   "source": [
    "## Ecrire dans un fichier\n",
    "\n",
    "La commande `%%file` permet d'écrire les lignes de texte qui suivent dans un fichier."
   ]
  },
  {
   "cell_type": "code",
   "execution_count": 9,
   "metadata": {},
   "outputs": [
    {
     "name": "stdout",
     "output_type": "stream",
     "text": [
      "Overwriting demo.txt\n"
     ]
    }
   ],
   "source": [
    "%%file demo.txt\n",
    "some text"
   ]
  },
  {
   "cell_type": "markdown",
   "metadata": {},
   "source": [
    "Vérifions si le fichier texte existe."
   ]
  },
  {
   "cell_type": "code",
   "execution_count": 10,
   "metadata": {},
   "outputs": [
    {
     "name": "stdout",
     "output_type": "stream",
     "text": [
      "demo.txt\n"
     ]
    }
   ],
   "source": [
    "ls *.txt"
   ]
  },
  {
   "cell_type": "markdown",
   "metadata": {},
   "source": [
    "Avec l'option `-a` (append) nous pouvons ajouter des lignes de texte à un fichier existant."
   ]
  },
  {
   "cell_type": "code",
   "execution_count": 12,
   "metadata": {},
   "outputs": [
    {
     "name": "stdout",
     "output_type": "stream",
     "text": [
      "Appending to demo.txt\n"
     ]
    }
   ],
   "source": [
    "%%file -a demo.txt\n",
    "append text"
   ]
  },
  {
   "cell_type": "markdown",
   "metadata": {},
   "source": [
    "Affichons le nouveau contenu."
   ]
  },
  {
   "cell_type": "code",
   "execution_count": 13,
   "metadata": {},
   "outputs": [
    {
     "name": "stdout",
     "output_type": "stream",
     "text": [
      "some text\n",
      "append text\n"
     ]
    }
   ],
   "source": [
    "cat demo.txt"
   ]
  },
  {
   "cell_type": "markdown",
   "metadata": {},
   "source": [
    "## Widgets\n",
    "\n",
    "Les widgets n'apparaissent pas dans ce Jupyter notebook, mais ils apparaissent dans le document HTML.\n",
    "Par contre le document HTML est statique et n'a pas de serveur Python."
   ]
  },
  {
   "cell_type": "code",
   "execution_count": 2,
   "metadata": {},
   "outputs": [],
   "source": [
    "from ipywidgets import interact, interactive, fixed, interact_manual\n",
    "import ipywidgets as widgets"
   ]
  },
  {
   "cell_type": "code",
   "execution_count": 3,
   "metadata": {},
   "outputs": [
    {
     "data": {
      "application/vnd.jupyter.widget-view+json": {
       "model_id": "cc749f9a1a0f48158d8963878f5bb763",
       "version_major": 2,
       "version_minor": 0
      },
      "text/plain": [
       "IntSlider(value=0)"
      ]
     },
     "metadata": {},
     "output_type": "display_data"
    }
   ],
   "source": [
    "widgets.IntSlider()"
   ]
  },
  {
   "cell_type": "code",
   "execution_count": 4,
   "metadata": {},
   "outputs": [],
   "source": [
    "def f(x):\n",
    "    return x"
   ]
  },
  {
   "cell_type": "code",
   "execution_count": 5,
   "metadata": {},
   "outputs": [
    {
     "data": {
      "text/plain": [
       "10"
      ]
     },
     "metadata": {},
     "output_type": "display_data"
    }
   ],
   "source": [
    "interact(f, x=10);"
   ]
  },
  {
   "cell_type": "markdown",
   "metadata": {},
   "source": [
    "## Les tags d'une cellule\n",
    "\n",
    "Ces `tags` peuvent être ajouté aux méta-données d'une cellule.\n",
    "\n",
    "- fill-width\n",
    "- output-scroll\n",
    "- margin\n",
    "- hide-input\n",
    "- hide-output\n",
    "- hide-cell\n",
    "- remove-input\n",
    "- remove-output\n",
    "- remove-cell\n",
    "\n",
    "Le résultat n'est pas visible dans le Jupyter notebook, seulement dans la page HTML."
   ]
  },
  {
   "cell_type": "markdown",
   "metadata": {},
   "source": [
    "## Cacher l'entrée\n",
    "Pour cacher l'entrée de la cellule (input), ajoutez le tag `hide-input`.\n",
    "    \n",
    "Dans Jupyter Lab il faut\n",
    "- choisir la cellule\n",
    "- ouvrir **Property Inspector** (icône avec deux rouages à droite en haut) \n",
    "- cliquer sur un **cell tag** existant ou ajouter un nouveau tag\n",
    "\n",
    "![](img/jupyter_tags.png)\n",
    "    \n",
    "Pour afficher l'entrée de la cellule cliquz sur **Afficher (+)**."
   ]
  },
  {
   "cell_type": "code",
   "execution_count": 27,
   "metadata": {
    "tags": [
     "hide-input"
    ]
   },
   "outputs": [
    {
     "name": "stdout",
     "output_type": "stream",
     "text": [
      "0\n",
      "1\n",
      "2\n"
     ]
    }
   ],
   "source": [
    "for i in range(3):\n",
    "    print(i)"
   ]
  },
  {
   "cell_type": "markdown",
   "metadata": {},
   "source": [
    "## Cacher l'entrée\n",
    "Pour cacher la sortie de la cellule (output), ajoutez le tag `hide-output`."
   ]
  },
  {
   "cell_type": "code",
   "execution_count": 27,
   "metadata": {
    "tags": [
     "hide-output"
    ]
   },
   "outputs": [
    {
     "name": "stdout",
     "output_type": "stream",
     "text": [
      "0\n",
      "1\n",
      "2\n"
     ]
    }
   ],
   "source": [
    "for i in range(3):\n",
    "    print(i)"
   ]
  },
  {
   "cell_type": "markdown",
   "metadata": {},
   "source": [
    "## Cacher la cellule\n",
    "Pour cacher la cellule entière (input+output), ajoutez le tag `hide-cell`."
   ]
  },
  {
   "cell_type": "code",
   "execution_count": 1,
   "metadata": {
    "tags": [
     "hide-cell"
    ]
   },
   "outputs": [
    {
     "name": "stdout",
     "output_type": "stream",
     "text": [
      "0\n",
      "1\n",
      "2\n"
     ]
    }
   ],
   "source": [
    "for i in range(3):\n",
    "    print(i)"
   ]
  },
  {
   "cell_type": "markdown",
   "metadata": {},
   "source": [
    "## Télécharger un fichier\n",
    "\n",
    "Le code\n",
    "\n",
    "    * {download}`test.md <test.md>`\n",
    "    * {download}`Demo <demo.txt>`\n",
    "    * {download}`hello.py <hello.py>`\n",
    "\n",
    "produit des liens pour télécharger des fichiers\n",
    "\n",
    "* {download}`test.md <test.md>`\n",
    "* {download}`Demo <demo.txt>`\n",
    "* {download}`hello.py <hello.py>`"
   ]
  },
  {
   "cell_type": "code",
   "execution_count": null,
   "metadata": {},
   "outputs": [],
   "source": []
  }
 ],
 "metadata": {
  "kernelspec": {
   "display_name": "Python 3",
   "language": "python",
   "name": "python3"
  },
  "language_info": {
   "codemirror_mode": {
    "name": "ipython",
    "version": 3
   },
   "file_extension": ".py",
   "mimetype": "text/x-python",
   "name": "python",
   "nbconvert_exporter": "python",
   "pygments_lexer": "ipython3",
   "version": "3.7.9"
  }
 },
 "nbformat": 4,
 "nbformat_minor": 4
}
