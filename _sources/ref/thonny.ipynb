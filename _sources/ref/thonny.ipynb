{
 "cells": [
  {
   "cell_type": "markdown",
   "id": "vanilla-casting",
   "metadata": {},
   "source": [
    "# Thonny\n",
    "\n",
    "Thonny est un environnement de développment pour Python. \n",
    "Il comporte un éditeur de script et une console. \n",
    "Il installe un environnement virtuel pour Python et permet d'y installer facilement des modules supplémentaires."
   ]
  },
  {
   "cell_type": "markdown",
   "id": "similar-seventh",
   "metadata": {},
   "source": [
    "## Installation\n",
    "\n",
    "Il peut être téléchargé depuis [thonny.org](https://thonny.org)"
   ]
  },
  {
   "cell_type": "markdown",
   "id": "naval-bahamas",
   "metadata": {},
   "source": [
    "## Installer des modules\n",
    "\n",
    "Pour installer des modules supplémentaires \n",
    "\n",
    "- choisissez le menu **Outils > Gérer les paquets...**\n",
    "- cherchez le module (par exemple jupyterlab)\n",
    "- cliquez sur le bouton **Rechercher sur PyPi**\n",
    "- cliquez sur le bouton **Installer**"
   ]
  },
  {
   "cell_type": "markdown",
   "id": "lonely-cincinnati",
   "metadata": {},
   "source": [
    "## Lancer Jupyter Lab\n",
    "\n",
    "- installez le module jupyterlab\n",
    "- choisissez le menu **Outils > Ouvrir la console du système…**\n",
    "- lancez la commande `jupyter lab`"
   ]
  },
  {
   "cell_type": "markdown",
   "id": "starting-sculpture",
   "metadata": {},
   "source": [
    "### Ouvrir un notebook\n",
    "\n",
    "- cliquez sur l'icône dossier tout à gauche\n",
    "- sélectionnez votre fichier `.ipynb`\n",
    "- ouvrez-le\n",
    "- choisissez menu **Edit > Clear All Output**\n",
    "\n",
    "![](img/jupyter.png)"
   ]
  },
  {
   "cell_type": "markdown",
   "id": "insured-cosmetic",
   "metadata": {},
   "source": [
    "### Le boutons\n",
    "\n",
    "![](img/jupyter_buttons.png)\n",
    "\n",
    "- ajouter une cellule en dessous (B = Below)\n",
    "- couper la cellule (X)\n",
    "- copier la cellule (C)\n",
    "- coller la cellule (V)\n",
    "- exécuter la cellule (maj + retour)"
   ]
  },
  {
   "cell_type": "markdown",
   "id": "suitable-magic",
   "metadata": {},
   "source": [
    "### Les touches sur Mac\n",
    "\n",
    "- hashtag `#` (alt+3)\n",
    "- crochets `[]` (alt+5/6)\n",
    "- accolades `{}` (alt+8/9)\n",
    "- parenthèses `()` (maj+8/9)\n",
    "\n",
    "La barre\n",
    "- oblique `/` (maj+7)\n",
    "- verticale `|` (alt+7)\n",
    "- oblique inversée `\\` (alt+maj+7)\n"
   ]
  },
  {
   "cell_type": "markdown",
   "id": "fiscal-length",
   "metadata": {},
   "source": [
    "### Télécharger un Jupyter notebook\n",
    "\n",
    "Pour télécharger un Jupyter notebook depuis ce site\n",
    "- placez la souris sur le 4e bouton\n",
    "- descendez vers .ipynb\n",
    "- téléchargez le notebook\n",
    "\n",
    "![](img/jb_buttons.png)"
   ]
  },
  {
   "cell_type": "markdown",
   "id": "civic-label",
   "metadata": {},
   "source": [
    "## Modules utiles\n",
    "\n",
    "- jupyterlab\n",
    "- jupyter-book\n",
    "- ghp-import\n",
    "- matplotlib\n",
    "- pygame"
   ]
  },
  {
   "cell_type": "markdown",
   "id": "accompanied-float",
   "metadata": {},
   "source": [
    "## Mis à jour de pip\n",
    "\n",
    "    pip install --upgrade pip"
   ]
  },
  {
   "cell_type": "markdown",
   "id": "activated-minister",
   "metadata": {},
   "source": [
    "## Matplotlib\n",
    "\n",
    "- installez le module **matplotlib**\n",
    "\n",
    "Exemple de programme:\n",
    "\n",
    "```python\n",
    "import matplotlib.pyplot as plt\n",
    "import numpy as np\n",
    "\n",
    "t = np.linspace(0, 4*np.pi, 100)\n",
    "plt.plot(t, np.sin(t), label='sin(t)')\n",
    "plt.plot(t, np.cos(t), label='cos(t)')\n",
    "plt.legend()\n",
    "plt.grid()\n",
    "\n",
    "plt.show()\n",
    "```\n",
    "\n",
    "![plot](plot.png)"
   ]
  },
  {
   "cell_type": "markdown",
   "id": "realistic-papua",
   "metadata": {},
   "source": [
    "## Console système\n",
    "\n",
    "Quand on choisit le menu **Outils > Ouvrir la console du système…**  \n",
    "les commandes suivantes sont executées d'abord.\n",
    "\n",
    "```\n",
    "export THOPR=/Applications/Thonny.app/Contents/Frameworks/Python.framework/Versions/3.7 ; \n",
    "clear; \n",
    "cd /Users/ho/Desktop; \n",
    "export TCL_LIBRARY=$THOPR/lib/tcl8.6; \n",
    "export TK_LIBRARY=$THOPR/lib/tk8.6; \n",
    "export SSL_CERT_DIR=$THOPR/lib/python3.7/site-packages/certifi; \n",
    "export SSL_CERT_FILE=$THOPR/lib/python3.7/site-packages/certifi/cacert.pem; \n",
    "export PATH=$THOPR/bin:/Users/ho/Library/Python/3.7/bin:$THOPR/bin:/usr/local/bin:/usr/bin:/bin:/usr/sbin:/sbin; \n",
    "$THOPR/bin/python3.7 \n",
    "$THOPR/lib/python3.7/site-packages/thonny/plugins/system_shell/explain_environment.py\n",
    "```"
   ]
  },
  {
   "cell_type": "markdown",
   "id": "intensive-novelty",
   "metadata": {},
   "source": [
    "## Utiliser un shell script"
   ]
  },
  {
   "cell_type": "markdown",
   "id": "square-duration",
   "metadata": {},
   "source": [
    "Créez un nouveau document `jupyterlab.sh` avec le contenu suivant:\n",
    "```\n",
    "#!/bin/bash\n",
    "cd\n",
    "~/Library/Python/3.7/bin/jupyter labM300-01:Desktop ho$`\n",
    "```\n",
    "\n",
    "Sur un Mac \n",
    "- clic-droit **Lire les informations**\n",
    "- Ouvrir avec: Terminal\n",
    "\n",
    "![](sh_script.png)\n"
   ]
  },
  {
   "cell_type": "code",
   "execution_count": null,
   "id": "liberal-official",
   "metadata": {},
   "outputs": [],
   "source": []
  }
 ],
 "metadata": {
  "kernelspec": {
   "display_name": "Python 3",
   "language": "python",
   "name": "python3"
  },
  "language_info": {
   "codemirror_mode": {
    "name": "ipython",
    "version": 3
   },
   "file_extension": ".py",
   "mimetype": "text/x-python",
   "name": "python",
   "nbconvert_exporter": "python",
   "pygments_lexer": "ipython3",
   "version": "3.7.9"
  }
 },
 "nbformat": 4,
 "nbformat_minor": 5
}
