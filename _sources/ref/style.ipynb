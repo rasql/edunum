{
 "cells": [
  {
   "cell_type": "markdown",
   "id": "heavy-georgia",
   "metadata": {},
   "source": [
    "# Style\n",
    "\n",
    "Ceci est un guide de style pour éditer les documents de ce jupyter-book."
   ]
  },
  {
   "cell_type": "markdown",
   "id": "valuable-tumor",
   "metadata": {},
   "source": [
    "## Début de chapitre\n",
    "\n",
    "Mettez une phrase qui explique le concept principal du chapitre, suivi d'une image captivant en lien avec ce concept.\n",
    "\n",
    "![](https://media.giphy.com/media/l0HlOBZcl7sbV6LnO/giphy.gif)\n",
    "\n",
    "Vous pouvez trouver des GIF animés sur [giphy.com](https://giphy.com)  \n",
    "Choisir **Media > Small** et coller le lien."
   ]
  },
  {
   "cell_type": "markdown",
   "id": "occupied-serbia",
   "metadata": {},
   "source": [
    "## Public cible\n",
    "\n",
    "Le public principal est âgé de 15 à 18 ans. \n",
    "- Il ne faut pas utiliser le *tu*.  \n",
    "- Utilisez *nous* et *vous*.\n",
    "- Faites attention au genre féminin."
   ]
  },
  {
   "cell_type": "markdown",
   "id": "fatal-conversation",
   "metadata": {},
   "source": [
    "## Titres\n",
    "\n",
    "Chaque document doit commencer avec un titre principal de niveau 1. Ce titre va apparaitre dans la barre de navigation du site, à gauche. De préférence ce titre doit tenir sur une seule ligne dans le menu de navigation (typiquement 1 à 3 mots). Ce titre au début du document est le seul titre de niveau 1.\n",
    "\n",
    "    # Titre\n",
    "    \n",
    "Tous les autres titres doivent être de niveau 2 ou 3.\n",
    "\n",
    "    ## Sous-titre\n",
    "    ### Sous-sous-titre\n",
    "    \n",
    "Les sous-titres (niveau 2) apparaissent dans le menu de navigation de la page, sous **Contenu** à droite. De préférence il faut les choisir courts, pour qu'ils ne dépassent pas une ligne. Voici un exemple\n",
    "\n",
    "![](img/menu_nav2.png)\n",
    "\n",
    "Il ne faut pas sauter d'hiérarchie. Par exemple il ne faut pas aller d'un titre de niveau 1 directement vers un titre de niveau 3. Ceci produit un avertissement lors de la compilation avec **jupyter-book**\n",
    "\n",
    "    WARNING: Non-consecutive header level increase; 0 to 2\n",
    "    \n",
    "Attention:\n",
    "- il ne faudrait pas avoir plus que 12 documents dans une section  \n",
    "  (autrement le menu sur smartphone devient trop long)\n",
    "- il ne faudrait pas avoir plus que 12 sous-sections dans un documents  \n",
    "  (autrement le bouton forward pourrait être couvert par le menu)"
   ]
  },
  {
   "cell_type": "markdown",
   "id": "invalid-continuity",
   "metadata": {},
   "source": [
    "## Style de code\n",
    "\n",
    "Le style de code Python doit suivre les recommandations officielles:  \n",
    "[PEP8 - The Style Guide for Python Code](https://pep8.org)\n",
    "\n",
    "L'objectif est d'être consistent et d'augmenter la lisibilité. "
   ]
  },
  {
   "cell_type": "markdown",
   "id": "interesting-basic",
   "metadata": {},
   "source": [
    "## Espaces\n",
    "Mettre des espaces augmente la lisibilité."
   ]
  },
  {
   "cell_type": "markdown",
   "id": "copyrighted-campus",
   "metadata": {},
   "source": [
    "### Opérateurs\n",
    "\n",
    "De manière générale il faut toujours entourer ces opérateurs avec une espace:\n",
    "\n",
    "- opérateurs arithmétiques (+, -, *, /, %)\n",
    "- affectation (=), \n",
    "- affectation augmenté (+=, -= etc.)\n",
    "- comparaisons (==, <, >, !=, <>, <=, >=, in, not in, is, is not)\n",
    "- opérateurs booléen (and, or, not).\n",
    "\n",
    "Dans des expression avec priorités mixtes, \n",
    "il est possible de ne pas mettre des espaces autour l'opérateur avec la plus haute priorité.\n",
    "Par contre, il faut toujours avoir le même nombres d'espaces de chaque côté d'un opérateur.\n",
    "\n",
    "    i = i + 1\n",
    "    submitted += 1\n",
    "    x = x**2 - 1\n",
    "    hypot2 = x*x + y*y\n",
    "    c = (a+b) * (a-b)"
   ]
  },
  {
   "cell_type": "markdown",
   "id": "senior-difference",
   "metadata": {},
   "source": [
    "### Fonctions\n",
    "\n",
    "Il ne faut pas mettre une espace après le nom d'une fonction.\n",
    "\n",
    "    print (123)   # faux\n",
    "    print(123)\n",
    "    \n",
    "Il ne faut pas mettre une espace à l'intérieur des parenthèses.\n",
    "\n",
    "    print( 123 )  # faux\n",
    "    print(123)\n",
    "    \n",
    "Il faut mettre une espace après la virgule.\n",
    "\n",
    "    print(1,2,3)  # faux\n",
    "    print(1, 2, 3)\n",
    "\n",
    "Il ne faut pas mettre d'espace autour du `=` d'un argument à option.\n",
    "\n",
    "    print(*liste, sep = ':')   # faux\n",
    "    print(*liste, sep=':')"
   ]
  },
  {
   "cell_type": "markdown",
   "id": "written-hammer",
   "metadata": {},
   "source": [
    "## Commentaires\n",
    "\n",
    "Mettez une espace entre le hashtag et le commentaire.\n",
    "\n",
    "    #commentaire (faux)\n",
    "    # commentaire"
   ]
  },
  {
   "cell_type": "markdown",
   "id": "liable-matthew",
   "metadata": {},
   "source": [
    "## Guillemets\n",
    "\n",
    "De préférence il faut utiliser les guillemets simples.\n",
    "\n",
    "    print(\"hello\")\n",
    "    print('hello')   # préférable"
   ]
  },
  {
   "cell_type": "markdown",
   "id": "attempted-brooklyn",
   "metadata": {},
   "source": [
    "## Variables\n",
    "\n",
    "Il ne faut jamais utiliser\n",
    "- `l` - L minuscule\n",
    "- `O` - O majuscule\n",
    "- `I` - i majuscule\n",
    "\n",
    "Dans certaines polices ces caractères sont identiques à 0 et 1."
   ]
  },
  {
   "cell_type": "markdown",
   "id": "basic-hughes",
   "metadata": {},
   "source": [
    "Utilisez des noms de variable courts, si le sens est clair dans le contexte.\n",
    "\n",
    "    a = input('age: ')\n",
    "    n = input('nom: ')\n"
   ]
  },
  {
   "cell_type": "markdown",
   "id": "protecting-interface",
   "metadata": {},
   "source": [
    "## Boucles\n",
    "\n",
    "Utilisez les noms standard `i` et `j` pour des compteurs de boucle.\n",
    "\n",
    "    for i in range(10):\n",
    "        for j in range(10):\n",
    "            print(i * j)"
   ]
  },
  {
   "cell_type": "markdown",
   "id": "simple-trust",
   "metadata": {},
   "source": [
    "## Exemples de code\n",
    "\n",
    "Illustrez votre texte fréquemment avec des exemples de code courts (1-2 lignes). Par exemple:\n",
    "\n",
    "Une liste peut contenir un mélange d'objets de types différents."
   ]
  },
  {
   "cell_type": "code",
   "execution_count": 7,
   "id": "threaded-jaguar",
   "metadata": {},
   "outputs": [
    {
     "data": {
      "text/plain": [
       "[123, 'hello', True, False]"
      ]
     },
     "execution_count": 7,
     "metadata": {},
     "output_type": "execute_result"
    }
   ],
   "source": [
    "mix = [123, 'hello', True, False]\n",
    "mix"
   ]
  },
  {
   "cell_type": "markdown",
   "id": "modular-throw",
   "metadata": {},
   "source": [
    "Toutes les expressions dans une cellule code sont exécutés, mais seulement le résultat de la dernière est affiché."
   ]
  },
  {
   "cell_type": "markdown",
   "id": "right-jewelry",
   "metadata": {},
   "source": [
    "## Style code\n",
    "\n",
    "Il faut écrire en style `code` tous les mots qui font partie du code Python tel que \n",
    "- des mots-clés `if`, `else`, ou `def` \n",
    "- des fonctions `print()` et `intput()`\n",
    "- des variables `x`, `y`\n",
    "- des expressions `1 + 2`\n"
   ]
  },
  {
   "cell_type": "markdown",
   "id": "iraqi-serum",
   "metadata": {},
   "source": [
    "## Listes\n",
    "\n",
    "Une liste doit avoir un minimum de deux éléments\n",
    "\n",
    "- ceci n'est pas une liste\n",
    "\n",
    "Les éléments doivent être de la même catégorie\n",
    "\n",
    "- rapide\n",
    "- élégante\n",
    "- éducation (faux, ce n'est pas un adjectif)\n",
    "\n",
    "La première lettre des éléments est en minuscule si les items sont très court. \n",
    "La première lettre des items est en majuscule si les items sont des phrases entières, et terminées par une ponctuation.\n"
   ]
  },
  {
   "cell_type": "markdown",
   "id": "dynamic-exception",
   "metadata": {},
   "source": [
    "## Texte dans la marge\n",
    "\n",
    "Il ne faut pas placer de texte dans la marge (sidebar). Ca parait trop serré sur un smartphone."
   ]
  },
  {
   "cell_type": "code",
   "execution_count": null,
   "id": "wooden-benchmark",
   "metadata": {},
   "outputs": [],
   "source": []
  }
 ],
 "metadata": {
  "kernelspec": {
   "display_name": "Python 3",
   "language": "python",
   "name": "python3"
  },
  "language_info": {
   "codemirror_mode": {
    "name": "ipython",
    "version": 3
   },
   "file_extension": ".py",
   "mimetype": "text/x-python",
   "name": "python",
   "nbconvert_exporter": "python",
   "pygments_lexer": "ipython3",
   "version": "3.7.9"
  }
 },
 "nbformat": 4,
 "nbformat_minor": 5
}
