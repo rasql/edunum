{
 "cells": [
  {
   "cell_type": "markdown",
   "metadata": {},
   "source": [
    "# Système unaire\n",
    "Un système unaire, aussi appelé **monadique**, représente les entiers naturels avec un seul symbole. Ici nous avons choisi le symbole `1` mais on pourrait prendre n'importe quel symbole.\n",
    "\n",
    "C'est le système utilisé par le prisonier dans sa cellule, ou Robinson sur son île, pour compter les jours.\n",
    "\n",
    "![](unary.png)\n",
    "\n",
    "Le nombre 3 peut être représenté comme `111`    \n",
    "Le nombre 5 comme `11111`.\n",
    "\n",
    "L'absence de symbole représente le nombre zéro.  \n",
    "Voici donc la représentation des nombres 0, 1, et 5."
   ]
  },
  {
   "cell_type": "code",
   "execution_count": 1,
   "metadata": {},
   "outputs": [],
   "source": [
    "a = ''\n",
    "b = '1'\n",
    "c = '11111'"
   ]
  },
  {
   "cell_type": "markdown",
   "metadata": {},
   "source": [
    "## Comparaison\n",
    "\n",
    "En Python, les opérateurs de comparaison numériques (`>`, `>=`, `<`, ...) sont aussi valide pour la comparaison de nombres sous forme unaire.\n",
    "\n",
    "C'est dû au fait que Python permet de comparer des chaines de caractères. Le résultat de la comparaison est basé sur sur l'ordre alphabétique et correspond à l'ordre utilisé dans un dictionnaire. Un mot court commençant avec les mêmes lettres apparait avant le mots plus long."
   ]
  },
  {
   "cell_type": "code",
   "execution_count": 2,
   "metadata": {},
   "outputs": [
    {
     "data": {
      "text/plain": [
       "True"
      ]
     },
     "execution_count": 2,
     "metadata": {},
     "output_type": "execute_result"
    }
   ],
   "source": [
    "'11' > '1'"
   ]
  },
  {
   "cell_type": "markdown",
   "metadata": {},
   "source": [
    "Et encore un exemple d'égalité et d'inégalité."
   ]
  },
  {
   "cell_type": "code",
   "execution_count": 3,
   "metadata": {},
   "outputs": [
    {
     "data": {
      "text/plain": [
       "True"
      ]
     },
     "execution_count": 3,
     "metadata": {},
     "output_type": "execute_result"
    }
   ],
   "source": [
    "'111' == '111'"
   ]
  },
  {
   "cell_type": "code",
   "execution_count": 4,
   "metadata": {},
   "outputs": [
    {
     "data": {
      "text/plain": [
       "False"
      ]
     },
     "execution_count": 4,
     "metadata": {},
     "output_type": "execute_result"
    }
   ],
   "source": [
    "'1' != '1'"
   ]
  },
  {
   "cell_type": "markdown",
   "metadata": {},
   "source": [
    "## Conversion\n",
    "\n",
    "Pour faire la conversion entre les deux systèmes nous definissons deux fonctions:\n",
    "\n",
    "- `unaire(d)` pour transformer un décimal `d` en unaire\n",
    "- `decimal(u)` pour transformer un unaire `u` en décimal"
   ]
  },
  {
   "cell_type": "markdown",
   "metadata": {},
   "source": [
    "Nous utilisons l'opérateur de de répétition `*` pour créer la séquence unaire."
   ]
  },
  {
   "cell_type": "code",
   "execution_count": 30,
   "metadata": {},
   "outputs": [],
   "source": [
    "def unaire(d):\n",
    "    return '1' * d"
   ]
  },
  {
   "cell_type": "markdown",
   "metadata": {},
   "source": [
    "Voici donc la représentation unaire de 5:"
   ]
  },
  {
   "cell_type": "code",
   "execution_count": 31,
   "metadata": {},
   "outputs": [
    {
     "data": {
      "text/plain": [
       "'11111'"
      ]
     },
     "execution_count": 31,
     "metadata": {},
     "output_type": "execute_result"
    }
   ],
   "source": [
    "unaire(5)"
   ]
  },
  {
   "cell_type": "markdown",
   "metadata": {},
   "source": [
    "Dans l'autre sense nous utilison la fonction `len()` pour trouver la représentation décimale."
   ]
  },
  {
   "cell_type": "code",
   "execution_count": 32,
   "metadata": {},
   "outputs": [],
   "source": [
    "def decimal(u):\n",
    "    return len(u)"
   ]
  },
  {
   "cell_type": "markdown",
   "metadata": {},
   "source": [
    "Voici donc la représentation décimal de `11111`:\n"
   ]
  },
  {
   "cell_type": "code",
   "execution_count": 8,
   "metadata": {},
   "outputs": [
    {
     "data": {
      "text/plain": [
       "5"
      ]
     },
     "execution_count": 8,
     "metadata": {},
     "output_type": "execute_result"
    }
   ],
   "source": [
    "decimal('11111')"
   ]
  },
  {
   "cell_type": "markdown",
   "metadata": {},
   "source": [
    "## Incrémentation\n",
    "Un des algorithmes élémentaires est celui qui donne le **successeur à un nombre**. On parle aussi d'incrémentation et nous pouvons la definir comme"
   ]
  },
  {
   "cell_type": "code",
   "execution_count": 33,
   "metadata": {},
   "outputs": [],
   "source": [
    "def inc(u):\n",
    "    return u + '1'"
   ]
  },
  {
   "cell_type": "markdown",
   "metadata": {},
   "source": [
    "Donc le successeur de 2 est 3 (exprimé comme `111`)."
   ]
  },
  {
   "cell_type": "code",
   "execution_count": 36,
   "metadata": {},
   "outputs": [
    {
     "data": {
      "text/plain": [
       "'111'"
      ]
     },
     "execution_count": 36,
     "metadata": {},
     "output_type": "execute_result"
    }
   ],
   "source": [
    "inc('11')"
   ]
  },
  {
   "cell_type": "markdown",
   "metadata": {},
   "source": [
    "## Décrémentation\n",
    "La **décrémentation** est effectué par l'enlèvement d'un symblole et trouve le prédécesseur d'un nombre."
   ]
  },
  {
   "cell_type": "code",
   "execution_count": 34,
   "metadata": {},
   "outputs": [],
   "source": [
    "def dec(u):\n",
    "    return u[:-1]"
   ]
  },
  {
   "cell_type": "markdown",
   "metadata": {},
   "source": [
    "Notre algorithme calcule correctement le prédécesseur de 3 qui est 2 (exprimé par `11`)"
   ]
  },
  {
   "cell_type": "code",
   "execution_count": 35,
   "metadata": {},
   "outputs": [
    {
     "data": {
      "text/plain": [
       "'11'"
      ]
     },
     "execution_count": 35,
     "metadata": {},
     "output_type": "execute_result"
    }
   ],
   "source": [
    "dec('111')"
   ]
  },
  {
   "cell_type": "markdown",
   "metadata": {},
   "source": [
    "## Compteur"
   ]
  },
  {
   "cell_type": "markdown",
   "metadata": {},
   "source": [
    "Nous pouvons maintenant définir un algrithme qui compte.  \n",
    "Ci-dessous nous mettons la variable `u` à zéro et incrémentons 5 fois."
   ]
  },
  {
   "cell_type": "code",
   "execution_count": 40,
   "metadata": {},
   "outputs": [
    {
     "name": "stdout",
     "output_type": "stream",
     "text": [
      "1\n",
      "11\n",
      "111\n",
      "1111\n",
      "11111\n"
     ]
    }
   ],
   "source": [
    "u = ''\n",
    "while u != '11111':\n",
    "    u = inc(u)\n",
    "    print(u)"
   ]
  },
  {
   "cell_type": "markdown",
   "metadata": {},
   "source": [
    "Cet algorithme utilise uniquement les éléments\n",
    "\n",
    "- affectation\n",
    "- la fonction `inc()`\n",
    "- la boucle `while`"
   ]
  },
  {
   "cell_type": "markdown",
   "metadata": {},
   "source": [
    "### Addition\n",
    "L'addition se traduit par la concatenation de deux séquences qui représentent un nombre. Ici l'opérateur `+` est l'opérateur de concaténation de deux chaînes."
   ]
  },
  {
   "cell_type": "code",
   "execution_count": 17,
   "metadata": {},
   "outputs": [],
   "source": [
    "def add(a, b):\n",
    "    return a + b"
   ]
  },
  {
   "cell_type": "markdown",
   "metadata": {},
   "source": [
    "L'addition de 2 et 3 et donne le résultat 5 (exprimé comme `11111`)."
   ]
  },
  {
   "cell_type": "code",
   "execution_count": 18,
   "metadata": {},
   "outputs": [
    {
     "data": {
      "text/plain": [
       "'11111'"
      ]
     },
     "execution_count": 18,
     "metadata": {},
     "output_type": "execute_result"
    }
   ],
   "source": [
    "add('11', '111')"
   ]
  },
  {
   "cell_type": "markdown",
   "metadata": {},
   "source": [
    "### Soustraction\n",
    "La soustraction se traduit par l'effacement ou l'enlèvement d'un nombre de caractères correspondant au deuxième nombre. \n",
    "\n",
    "En Python nous utilison l'opérateur de tranche `[m:n]`\n",
    " pour enlever un certain nombre de symboles."
   ]
  },
  {
   "cell_type": "code",
   "execution_count": 19,
   "metadata": {},
   "outputs": [],
   "source": [
    "def sub(a, b):\n",
    "    return a[:-len(b)]"
   ]
  },
  {
   "cell_type": "code",
   "execution_count": 20,
   "metadata": {},
   "outputs": [
    {
     "data": {
      "text/plain": [
       "'111'"
      ]
     },
     "execution_count": 20,
     "metadata": {},
     "output_type": "execute_result"
    }
   ],
   "source": [
    "sub('11111', '11')"
   ]
  },
  {
   "cell_type": "markdown",
   "metadata": {},
   "source": [
    "Notre système unaire ne peut pas représenter des nombres négatifs. Or la soustraction pourrait donner des résultats négatifs. \n",
    "Que fait notre fonction `sub` si le resultat donnerait un nombre négatifs?\n",
    "Un message d'erreur serait une possibilité, mais à l'occurence la fonction retourne tout simplement 0."
   ]
  },
  {
   "cell_type": "code",
   "execution_count": 21,
   "metadata": {},
   "outputs": [
    {
     "data": {
      "text/plain": [
       "''"
      ]
     },
     "execution_count": 21,
     "metadata": {},
     "output_type": "execute_result"
    }
   ],
   "source": [
    "sub('11', '11111')"
   ]
  },
  {
   "cell_type": "markdown",
   "metadata": {},
   "source": [
    "## Multiplication\n",
    "La multiplication de deux entiers naturels s'effectue par substitution de chaque symbole de la séquence du premier par une copie de la séquence du deuxième."
   ]
  },
  {
   "cell_type": "code",
   "execution_count": 41,
   "metadata": {},
   "outputs": [],
   "source": [
    "def mul(a, b):\n",
    "    return b * len(a)"
   ]
  },
  {
   "cell_type": "markdown",
   "metadata": {},
   "source": [
    "La multiplication de 2 et 3 donne correctement 6 comme résultat."
   ]
  },
  {
   "cell_type": "code",
   "execution_count": 42,
   "metadata": {},
   "outputs": [
    {
     "data": {
      "text/plain": [
       "'111111'"
      ]
     },
     "execution_count": 42,
     "metadata": {},
     "output_type": "execute_result"
    }
   ],
   "source": [
    "mul('11', '111')"
   ]
  },
  {
   "cell_type": "markdown",
   "metadata": {},
   "source": [
    "## Division\n",
    "La division se traduit par la soustraction succéssive de `b` de `a`. \n",
    "Le nombre de soustractions `q` est le `quotient`. Ce qui reste de `a`\n",
    " est le **reste** de la division\n",
    "\n",
    "La fonction retourne **quotient** et **reste**"
   ]
  },
  {
   "cell_type": "code",
   "execution_count": 47,
   "metadata": {},
   "outputs": [],
   "source": [
    "def div(a, b):\n",
    "    q = ''\n",
    "    while a > b:\n",
    "        a = sub(a, b)\n",
    "        q = inc(q)\n",
    "    return q, a"
   ]
  },
  {
   "cell_type": "markdown",
   "metadata": {},
   "source": [
    "Donc 7 divisé par 2 donne 3 comme quotient (`111`) et 1 comme reste."
   ]
  },
  {
   "cell_type": "code",
   "execution_count": 48,
   "metadata": {},
   "outputs": [
    {
     "data": {
      "text/plain": [
       "('111', '1')"
      ]
     },
     "execution_count": 48,
     "metadata": {},
     "output_type": "execute_result"
    }
   ],
   "source": [
    "div('1111111', '11')"
   ]
  },
  {
   "cell_type": "markdown",
   "metadata": {},
   "source": [
    "## Table de multiplication\n",
    "\n",
    "Nous sommes maintenant capable de definir un algorithme qui affiche le livret de 3 affiché pour 1 à 10."
   ]
  },
  {
   "cell_type": "code",
   "execution_count": 49,
   "metadata": {},
   "outputs": [
    {
     "name": "stdout",
     "output_type": "stream",
     "text": [
      "111\n",
      "111111\n",
      "111111111\n",
      "111111111111\n",
      "111111111111111\n",
      "111111111111111111\n",
      "111111111111111111111\n",
      "111111111111111111111111\n",
      "111111111111111111111111111\n",
      "111111111111111111111111111111\n"
     ]
    }
   ],
   "source": [
    "u = ''\n",
    "while u < '1111111111':\n",
    "    u = inc(u)\n",
    "    a = mul(u, '111')\n",
    "    print(a)"
   ]
  },
  {
   "cell_type": "code",
   "execution_count": null,
   "metadata": {},
   "outputs": [],
   "source": []
  }
 ],
 "metadata": {
  "kernelspec": {
   "display_name": "Python 3",
   "language": "python",
   "name": "python3"
  },
  "language_info": {
   "codemirror_mode": {
    "name": "ipython",
    "version": 3
   },
   "file_extension": ".py",
   "mimetype": "text/x-python",
   "name": "python",
   "nbconvert_exporter": "python",
   "pygments_lexer": "ipython3",
   "version": "3.7.4"
  }
 },
 "nbformat": 4,
 "nbformat_minor": 4
}
