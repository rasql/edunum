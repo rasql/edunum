{
 "cells": [
  {
   "cell_type": "markdown",
   "id": "rough-mapping",
   "metadata": {},
   "source": [
    "# Dessiner avec la tortue\n",
    "\n",
    "Le module `turtle` permet de dessiner à l'aide d'une petite tortue."
   ]
  },
  {
   "cell_type": "code",
   "execution_count": 32,
   "id": "early-oasis",
   "metadata": {},
   "outputs": [
    {
     "name": "stdout",
     "output_type": "stream",
     "text": [
      "/Users/ho/Documents/GitHub/edunum/doc/turtle\n"
     ]
    }
   ],
   "source": [
    "cd turtle"
   ]
  },
  {
   "cell_type": "code",
   "execution_count": 33,
   "id": "former-pipeline",
   "metadata": {},
   "outputs": [],
   "source": [
    "from turtle import *"
   ]
  },
  {
   "cell_type": "code",
   "execution_count": 19,
   "id": "banner-blackjack",
   "metadata": {},
   "outputs": [],
   "source": [
    "forward(100)"
   ]
  },
  {
   "cell_type": "markdown",
   "id": "mediterranean-liberty",
   "metadata": {},
   "source": [
    "Utilisez la fonction `done()` pour terminer. Ensuite vous pouvez fermer la fentêtre."
   ]
  },
  {
   "cell_type": "code",
   "execution_count": 48,
   "id": "honey-cylinder",
   "metadata": {},
   "outputs": [],
   "source": [
    "done()"
   ]
  },
  {
   "cell_type": "code",
   "execution_count": 34,
   "id": "acknowledged-installation",
   "metadata": {},
   "outputs": [
    {
     "name": "stdout",
     "output_type": "stream",
     "text": [
      "turtle.cfg    turtle.ipynb  turtle1.png\n"
     ]
    }
   ],
   "source": [
    "ls"
   ]
  },
  {
   "cell_type": "markdown",
   "id": "italian-lawrence",
   "metadata": {},
   "source": [
    "## Etoile"
   ]
  },
  {
   "cell_type": "code",
   "execution_count": 52,
   "id": "white-military",
   "metadata": {},
   "outputs": [],
   "source": [
    "from turtle import *\n",
    "color('red', 'yellow')\n",
    "begin_fill()\n",
    "while True:\n",
    "    forward(200)\n",
    "    left(170)\n",
    "    if abs(pos()) < 1:\n",
    "        break\n",
    "end_fill()\n",
    "done()"
   ]
  },
  {
   "cell_type": "markdown",
   "id": "similar-abuse",
   "metadata": {},
   "source": [
    "## Square"
   ]
  },
  {
   "cell_type": "code",
   "execution_count": 36,
   "id": "portuguese-sculpture",
   "metadata": {},
   "outputs": [],
   "source": [
    "for i in range(4):\n",
    "    forward(100)\n",
    "    left(90)"
   ]
  },
  {
   "cell_type": "code",
   "execution_count": 20,
   "id": "prescription-intellectual",
   "metadata": {},
   "outputs": [],
   "source": [
    "def square(d):\n",
    "    for i in range(4):\n",
    "        forward(d)\n",
    "        left(90)"
   ]
  },
  {
   "cell_type": "code",
   "execution_count": 8,
   "id": "indoor-register",
   "metadata": {},
   "outputs": [],
   "source": [
    "square(10)"
   ]
  },
  {
   "cell_type": "code",
   "execution_count": 37,
   "id": "grateful-installation",
   "metadata": {},
   "outputs": [],
   "source": [
    "for i in range(10, 100, 10):\n",
    "    square(i)"
   ]
  },
  {
   "cell_type": "code",
   "execution_count": 10,
   "id": "english-machinery",
   "metadata": {},
   "outputs": [],
   "source": [
    "done()"
   ]
  },
  {
   "cell_type": "markdown",
   "id": "martial-whale",
   "metadata": {},
   "source": [
    "## Config"
   ]
  },
  {
   "cell_type": "code",
   "execution_count": 40,
   "id": "stunning-highway",
   "metadata": {},
   "outputs": [
    {
     "name": "stdout",
     "output_type": "stream",
     "text": [
      "width = 0.25\n",
      "height = 0.25\n",
      "leftright = None\n",
      "topbottom = None\n",
      "canvwidth = 200\n",
      "canvheight = 150\n",
      "mode = standard\n",
      "colormode = 1.0\n",
      "delay = 10\n",
      "undobuffersize = 1000\n",
      "shape = classic\n",
      "pencolor = red\n",
      "fillcolor = red\n",
      "resizemode = noresize\n",
      "visible = True\n",
      "language = french\n",
      "exampleturtle = turtle\n",
      "examplescreen = screen\n",
      "title = EduNum Turtle Graphics\n",
      "using_IDLE = False"
     ]
    }
   ],
   "source": [
    "cat turtle.cfg"
   ]
  },
  {
   "cell_type": "code",
   "execution_count": 41,
   "id": "recreational-italian",
   "metadata": {},
   "outputs": [],
   "source": [
    "circle(50)"
   ]
  },
  {
   "cell_type": "code",
   "execution_count": 23,
   "id": "excellent-killing",
   "metadata": {},
   "outputs": [],
   "source": [
    "dot()"
   ]
  },
  {
   "cell_type": "code",
   "execution_count": 42,
   "id": "black-biodiversity",
   "metadata": {},
   "outputs": [],
   "source": [
    "import random\n",
    "\n",
    "for i in range(10):\n",
    "    x = random.randint(-100, 100)\n",
    "    y = random.randint(-100, 100)\n",
    "    goto(x, y)\n",
    "    dot()"
   ]
  },
  {
   "cell_type": "code",
   "execution_count": 26,
   "id": "mental-humanitarian",
   "metadata": {},
   "outputs": [],
   "source": [
    "clear()"
   ]
  },
  {
   "cell_type": "markdown",
   "id": "cathedral-break",
   "metadata": {},
   "source": [
    "![](turtle2.png)"
   ]
  },
  {
   "cell_type": "code",
   "execution_count": null,
   "id": "combined-lyric",
   "metadata": {},
   "outputs": [],
   "source": []
  }
 ],
 "metadata": {
  "kernelspec": {
   "display_name": "Python 3",
   "language": "python",
   "name": "python3"
  },
  "language_info": {
   "codemirror_mode": {
    "name": "ipython",
    "version": 3
   },
   "file_extension": ".py",
   "mimetype": "text/x-python",
   "name": "python",
   "nbconvert_exporter": "python",
   "pygments_lexer": "ipython3",
   "version": "3.7.9"
  }
 },
 "nbformat": 4,
 "nbformat_minor": 5
}
