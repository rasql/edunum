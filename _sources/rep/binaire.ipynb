{
 "cells": [
  {
   "cell_type": "markdown",
   "id": "rural-score",
   "metadata": {},
   "source": [
    "# Système binaire"
   ]
  },
  {
   "cell_type": "markdown",
   "id": "serial-quick",
   "metadata": {},
   "source": [
    "Le système **binaire** est la base de toute représentation d'information d'un ordinateur. Il est basé sur deux symboles, typiquement 0 et 1.\n",
    "\n",
    "![](img/binaire.jpg)"
   ]
  },
  {
   "cell_type": "markdown",
   "id": "civic-asset",
   "metadata": {},
   "source": [
    "## Numération\n",
    "\n",
    "La **numération** designe le mode de représentation des nombres.  \n",
    "Nous utilisons la numération occidentale, dite *arabe* ou *indo-arabe*.  Elle est décimale et positionnelle.\n",
    "\n",
    "Voici les 5 premiers nombres en numération arabe\n",
    "\n",
    "    1, 2, 3, 4, 5\n",
    "    \n",
    "en umération romaine\n",
    "\n",
    "    I, II, III, IV, V\n",
    "    \n",
    "et en numération japonaise\n",
    "\n",
    "    一、二、三、四、五"
   ]
  },
  {
   "cell_type": "markdown",
   "id": "signal-antique",
   "metadata": {},
   "source": [
    "## Les chiffres\n",
    "\n",
    "Nous appelons **base b** le nombre de chiffres utilisé pour représenter un nombre.\n",
    "\n",
    "Dans le système de base 10 (système décimal) nous utilisons les chiffres\n",
    "\n",
    "    ['0', '1', '2', '3', '4', '5', '6', '7', '8', '9']\n",
    "    \n",
    "Dans le système de base 2 (système binaire) nous utilisons seulement\n",
    "\n",
    "    ['0', '1']\n",
    "    \n",
    "et dans le système héxadécimal nous utilisons 16 symboles."
   ]
  },
  {
   "cell_type": "markdown",
   "id": "sufficient-india",
   "metadata": {},
   "source": [
    "## Le système positionel\n",
    "\n",
    "Dans un système positionnel la valeur d'un symbol est determiné par sa position dans la séquence.\n",
    "Nous allons utiliser des indices de 0 à m-1 pour désigner un symole dans une séquence.\n",
    "\n",
    "La liste des indices pour une séquence de longueur 8 sera"
   ]
  },
  {
   "cell_type": "code",
   "execution_count": 79,
   "id": "green-davis",
   "metadata": {},
   "outputs": [
    {
     "data": {
      "text/plain": [
       "[0, 1, 2, 3, 4, 5, 6, 7]"
      ]
     },
     "execution_count": 79,
     "metadata": {},
     "output_type": "execute_result"
    }
   ],
   "source": [
    "m = 8\n",
    "[i for i in range(m)]"
   ]
  },
  {
   "cell_type": "markdown",
   "id": "modular-possible",
   "metadata": {},
   "source": [
    "Pour représenter un nombre nous formons une **séquences de chiffres**.  Nous pouvons par exemple écrire:\n",
    "\n",
    "    n = '2021'\n",
    "    \n",
    "La valeur d'un chiffre dépend de sa position.\n",
    "- le premier 2 a la valeur 2000\n",
    "- le deuxième 2 a la valeur 20"
   ]
  },
  {
   "cell_type": "markdown",
   "id": "opening-somalia",
   "metadata": {},
   "source": [
    "Nous povons représenter un **nombre n** dans une **base b** par une séquence de **chiffres c** dont les indices vont de 0 à m-1.\n",
    "\n",
    "$$ n_{b} = c_0 c_1 c_2 ... c_{m-1} $$\n",
    "\n",
    "**Attention**: pour simplifier, nous avons inversé l'ordre des chiffres."
   ]
  },
  {
   "cell_type": "markdown",
   "id": "buried-surname",
   "metadata": {},
   "source": [
    "## Le poids des positions\n",
    "\n",
    "Le poids du chiffre $c_i$ est $b^i$, donc la puissance de la base et sa position.  \n",
    "Donc les poids pour 5 positions décimales est"
   ]
  },
  {
   "cell_type": "code",
   "execution_count": 80,
   "id": "brazilian-blind",
   "metadata": {},
   "outputs": [
    {
     "data": {
      "text/plain": [
       "[1, 10, 100, 1000, 10000]"
      ]
     },
     "execution_count": 80,
     "metadata": {},
     "output_type": "execute_result"
    }
   ],
   "source": [
    "[10**i for i in range(5)]"
   ]
  },
  {
   "cell_type": "markdown",
   "id": "roman-judgment",
   "metadata": {},
   "source": [
    "Pour reprendre le nombre 2021 sa décomposition est"
   ]
  },
  {
   "cell_type": "code",
   "execution_count": 45,
   "id": "ahead-champion",
   "metadata": {},
   "outputs": [
    {
     "data": {
      "text/plain": [
       "2021"
      ]
     },
     "execution_count": 45,
     "metadata": {},
     "output_type": "execute_result"
    }
   ],
   "source": [
    "2*1000 + 0*100 + 2*10 + 1"
   ]
  },
  {
   "cell_type": "markdown",
   "id": "homeless-festival",
   "metadata": {},
   "source": [
    "Les poids du système octal est"
   ]
  },
  {
   "cell_type": "code",
   "execution_count": 74,
   "id": "sporting-balloon",
   "metadata": {},
   "outputs": [
    {
     "data": {
      "text/plain": [
       "[1, 8, 64, 512, 4096]"
      ]
     },
     "execution_count": 74,
     "metadata": {},
     "output_type": "execute_result"
    }
   ],
   "source": [
    "[8**i for i in range(5)]"
   ]
  },
  {
   "cell_type": "markdown",
   "id": "scenic-position",
   "metadata": {},
   "source": [
    "## Le poids binaire\n",
    "\n",
    "Chaque symbole d'un nombre binaire correspond à une puissance de deux "
   ]
  },
  {
   "cell_type": "code",
   "execution_count": 84,
   "id": "early-niagara",
   "metadata": {},
   "outputs": [
    {
     "data": {
      "text/plain": [
       "[1, 2, 4, 8, 16, 32, 64, 128]"
      ]
     },
     "execution_count": 84,
     "metadata": {},
     "output_type": "execute_result"
    }
   ],
   "source": [
    "poids = [2**i for i in range(8)]\n",
    "poids"
   ]
  },
  {
   "cell_type": "markdown",
   "id": "colored-tension",
   "metadata": {},
   "source": [
    "Nous pouvons les afficher en colonnes en utilisant un tabulateur (`\\t`) comme séparateur."
   ]
  },
  {
   "cell_type": "code",
   "execution_count": 85,
   "id": "decent-windsor",
   "metadata": {},
   "outputs": [
    {
     "name": "stdout",
     "output_type": "stream",
     "text": [
      "1\t2\t4\t8\t16\t32\t64\t128\n"
     ]
    }
   ],
   "source": [
    "print(*poid, sep='\\t')"
   ]
  },
  {
   "cell_type": "markdown",
   "id": "focal-treatment",
   "metadata": {},
   "source": [
    "De même nous pouvons écrire un nombre binaire **a**"
   ]
  },
  {
   "cell_type": "code",
   "execution_count": 81,
   "id": "cheap-sword",
   "metadata": {},
   "outputs": [],
   "source": [
    "a = '10010100'"
   ]
  },
  {
   "cell_type": "code",
   "execution_count": 82,
   "id": "voluntary-bedroom",
   "metadata": {},
   "outputs": [
    {
     "name": "stdout",
     "output_type": "stream",
     "text": [
      "1\t2\t4\t8\t16\t32\t64\t128\n",
      "1\t0\t0\t1\t0\t1\t0\t0\n"
     ]
    }
   ],
   "source": [
    "print(*poid, sep='\\t')\n",
    "print(*a, sep='\\t')"
   ]
  },
  {
   "cell_type": "markdown",
   "id": "organic-distributor",
   "metadata": {},
   "source": [
    "Le valeur de la séquence est \n",
    "\n",
    "$$ n_b = \\sum_{i=0}^{m-1} {c_i \\cdot b^i} $$"
   ]
  },
  {
   "cell_type": "markdown",
   "id": "relevant-copper",
   "metadata": {},
   "source": [
    "## Conversion binaire-décimal\n",
    "\n",
    "Nous pouvons donc calculer la valeur du nombre et l'exprimer en décimal."
   ]
  },
  {
   "cell_type": "code",
   "execution_count": 83,
   "id": "dirty-holder",
   "metadata": {},
   "outputs": [
    {
     "name": "stdout",
     "output_type": "stream",
     "text": [
      "+ 1\n",
      "+ 8\n",
      "+ 32\n",
      "= 41\n"
     ]
    }
   ],
   "source": [
    "c = '10010100'\n",
    "b = 2\n",
    "n = 0\n",
    "\n",
    "for i in range(8):\n",
    "    if c[i] == '1':\n",
    "        print('+', b**i)\n",
    "        n += b**i\n",
    "\n",
    "print('=', n)"
   ]
  },
  {
   "cell_type": "markdown",
   "id": "fatty-atlantic",
   "metadata": {},
   "source": [
    "Cette même séquence en base décimale (10) aura la valeur"
   ]
  },
  {
   "cell_type": "code",
   "execution_count": 68,
   "id": "sticky-acrylic",
   "metadata": {},
   "outputs": [
    {
     "name": "stdout",
     "output_type": "stream",
     "text": [
      "+ 1\n",
      "+ 1000\n",
      "+ 1000000\n",
      "= 1001001\n"
     ]
    }
   ],
   "source": [
    "c = '10010010'\n",
    "n = 0\n",
    "b = 10\n",
    "\n",
    "for i in range(8):\n",
    "    if c[i] == '1':\n",
    "        print('+', b**i)\n",
    "        n += b**i\n",
    "\n",
    "print('=', n)"
   ]
  },
  {
   "cell_type": "markdown",
   "id": "hollywood-launch",
   "metadata": {},
   "source": [
    "## Conversion décimal en binaire\n",
    "\n",
    "Un des algorithme utilise la division entière et le reste"
   ]
  },
  {
   "cell_type": "code",
   "execution_count": 104,
   "id": "wound-identity",
   "metadata": {},
   "outputs": [
    {
     "name": "stdout",
     "output_type": "stream",
     "text": [
      "16\t0\n",
      "8\t0\n",
      "4\t0\n",
      "2\t0\n",
      "1\t0\n",
      "0\t1\n"
     ]
    }
   ],
   "source": [
    "d = 32\n",
    "while d > 0:\n",
    "    print(d//2, d%2, sep='\\t')\n",
    "    d = d//2"
   ]
  },
  {
   "cell_type": "code",
   "execution_count": 88,
   "id": "hired-kingston",
   "metadata": {},
   "outputs": [],
   "source": [
    "def binaire(d):\n",
    "    b = []\n",
    "    while d > 0:\n",
    "        b.append(d % 2)\n",
    "        d = d // 2\n",
    "    return b"
   ]
  },
  {
   "cell_type": "code",
   "execution_count": 89,
   "id": "settled-adapter",
   "metadata": {},
   "outputs": [
    {
     "data": {
      "text/plain": [
       "[1, 1, 0, 1, 1, 1, 1]"
      ]
     },
     "execution_count": 89,
     "metadata": {},
     "output_type": "execute_result"
    }
   ],
   "source": [
    "binaire(123)"
   ]
  },
  {
   "cell_type": "code",
   "execution_count": null,
   "id": "technical-neighbor",
   "metadata": {},
   "outputs": [],
   "source": []
  },
  {
   "cell_type": "markdown",
   "id": "satellite-smart",
   "metadata": {},
   "source": [
    "## Nombre binaire\n",
    "\n",
    "Les humains ont développé le système de numérotation décimale, sur base de 10, parce que nous avons 10 doigts. Mais on peut representer des nombres dans n'importe quel base. \n",
    "En informatique nous utilisons le système binaire, sur base 2"
   ]
  },
  {
   "cell_type": "code",
   "execution_count": 18,
   "id": "temporal-equation",
   "metadata": {},
   "outputs": [
    {
     "name": "stdout",
     "output_type": "stream",
     "text": [
      "0 = 0000\n",
      "1 = 0001\n",
      "2 = 0010\n",
      "3 = 0011\n",
      "4 = 0100\n",
      "5 = 0101\n"
     ]
    }
   ],
   "source": [
    "for i in range(6):\n",
    "    print(f'{i} = {i:04b}')"
   ]
  },
  {
   "cell_type": "markdown",
   "id": "competitive-utilization",
   "metadata": {},
   "source": [
    "Ou les nombres binaires à partir de 200."
   ]
  },
  {
   "cell_type": "code",
   "execution_count": 19,
   "id": "juvenile-princeton",
   "metadata": {},
   "outputs": [
    {
     "name": "stdout",
     "output_type": "stream",
     "text": [
      "200 = 11001000\n",
      "201 = 11001001\n",
      "202 = 11001010\n",
      "203 = 11001011\n"
     ]
    }
   ],
   "source": [
    "for i in range(200, 204):\n",
    "    print(f'{i} = {i:08b}')"
   ]
  },
  {
   "cell_type": "markdown",
   "id": "demanding-point",
   "metadata": {},
   "source": [
    "## Transformation"
   ]
  },
  {
   "cell_type": "code",
   "execution_count": 97,
   "id": "possible-france",
   "metadata": {},
   "outputs": [
    {
     "data": {
      "text/plain": [
       "143"
      ]
     },
     "execution_count": 97,
     "metadata": {},
     "output_type": "execute_result"
    }
   ],
   "source": [
    "bin = '10001111'\n",
    "\n",
    "dec = 0\n",
    "for x in bin:\n",
    "    dec *= 2\n",
    "    if x == '1':\n",
    "        dec += 1\n",
    "dec"
   ]
  },
  {
   "cell_type": "code",
   "execution_count": 44,
   "id": "selective-version",
   "metadata": {},
   "outputs": [
    {
     "data": {
      "text/plain": [
       "'11111111'"
      ]
     },
     "execution_count": 44,
     "metadata": {},
     "output_type": "execute_result"
    }
   ],
   "source": [
    "d = 255\n",
    "\n",
    "b = ''\n",
    "while d > 0:\n",
    "    b = str(d % 2) + b\n",
    "    d = d // 2\n",
    "\n",
    "b"
   ]
  },
  {
   "cell_type": "code",
   "execution_count": 46,
   "id": "caroline-exposure",
   "metadata": {},
   "outputs": [],
   "source": [
    "def dec2bin(d):\n",
    "    b = ''\n",
    "    while d > 0:\n",
    "        b = str(d % 2) + b\n",
    "        d = d // 2\n",
    "    return b"
   ]
  },
  {
   "cell_type": "code",
   "execution_count": 48,
   "id": "palestinian-circuit",
   "metadata": {},
   "outputs": [
    {
     "data": {
      "text/plain": [
       "'11111010'"
      ]
     },
     "execution_count": 48,
     "metadata": {},
     "output_type": "execute_result"
    }
   ],
   "source": [
    "dec2bin(250)"
   ]
  }
 ],
 "metadata": {
  "kernelspec": {
   "display_name": "Python 3",
   "language": "python",
   "name": "python3"
  },
  "language_info": {
   "codemirror_mode": {
    "name": "ipython",
    "version": 3
   },
   "file_extension": ".py",
   "mimetype": "text/x-python",
   "name": "python",
   "nbconvert_exporter": "python",
   "pygments_lexer": "ipython3",
   "version": "3.7.9"
  }
 },
 "nbformat": 4,
 "nbformat_minor": 5
}
