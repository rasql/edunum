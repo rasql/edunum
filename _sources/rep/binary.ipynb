{
 "cells": [
  {
   "cell_type": "markdown",
   "id": "german-cincinnati",
   "metadata": {},
   "source": [
    "# Système binaire"
   ]
  },
  {
   "cell_type": "markdown",
   "id": "humanitarian-willow",
   "metadata": {},
   "source": [
    "Le système **binaire** est la base de toute représentation d'information d'un ordinateur. Il est basé sur deux symboles, typiquement 0 et 1.\n",
    "\n",
    "![](binaire.jpg)"
   ]
  },
  {
   "cell_type": "markdown",
   "id": "bizarre-fitting",
   "metadata": {},
   "source": [
    "## Le système positionel\n",
    "\n",
    "Dans un système positionnel nous avons un certain nombre de symboles pour former des nombres. Dans le système décimal (10) les symboles que nous appelons **chiffres** sont\n",
    "\n",
    "    ['0', '1', '2', '3', '4', '5', '6', '7', '8', '9']\n",
    "    \n",
    "Dans le système binaire (2) ce sont que\n",
    "\n",
    "    ['0', '1']\n",
    "    \n",
    "et dans le système héxadécimal ce sont 16 symboles."
   ]
  },
  {
   "cell_type": "markdown",
   "id": "ultimate-dover",
   "metadata": {},
   "source": [
    "Dans un système de notation positionel nous créons des séquences de **chiffres** pour représenter un nombre. Nous pouvons par exemple écrire:\n",
    "\n",
    "    n = '2021'\n",
    "    \n",
    "La valeur dépend de sa position.\n",
    "- le premier 2 a la valeur 2000\n",
    "- le deuxième 2 a la valeur 20"
   ]
  },
  {
   "cell_type": "markdown",
   "id": "fluid-mercy",
   "metadata": {},
   "source": [
    "Nous povons représenter un nombre **n** dans une base **b** par une séquence de chiffres **c** alant de 0 à m.\n",
    "\n",
    "$$ n_{b} = c_m ... c_2 c_1 c_0 $$"
   ]
  },
  {
   "cell_type": "markdown",
   "id": "thirty-jefferson",
   "metadata": {},
   "source": [
    "## Le poids des positions\n",
    "\n",
    "Le poids du chiffre $c_i$ est $b^i$, donc la puissance de la base et sa position.  \n",
    "Donc pour les 5 positions décimales c'est"
   ]
  },
  {
   "cell_type": "code",
   "execution_count": 43,
   "id": "narrative-identification",
   "metadata": {},
   "outputs": [
    {
     "data": {
      "text/plain": [
       "[1, 10, 100, 1000, 10000]"
      ]
     },
     "execution_count": 43,
     "metadata": {},
     "output_type": "execute_result"
    }
   ],
   "source": [
    "[10**i for i in range(5)]"
   ]
  },
  {
   "cell_type": "markdown",
   "id": "pursuant-functionality",
   "metadata": {},
   "source": [
    "Pour reprendre le nombre 2021 sa décomposition est"
   ]
  },
  {
   "cell_type": "code",
   "execution_count": 45,
   "id": "whole-arlington",
   "metadata": {},
   "outputs": [
    {
     "data": {
      "text/plain": [
       "2021"
      ]
     },
     "execution_count": 45,
     "metadata": {},
     "output_type": "execute_result"
    }
   ],
   "source": [
    "2*1000 + 0*100 + 2*10 + 1"
   ]
  },
  {
   "cell_type": "markdown",
   "id": "involved-stand",
   "metadata": {},
   "source": [
    "## Le poids binaire\n",
    "\n",
    "Chaque symbole d'un nombre binaire correspond à une puissance de deux "
   ]
  },
  {
   "cell_type": "code",
   "execution_count": 51,
   "id": "interpreted-comfort",
   "metadata": {},
   "outputs": [
    {
     "data": {
      "text/plain": [
       "[1, 2, 4, 8, 16, 32, 64, 128]"
      ]
     },
     "execution_count": 51,
     "metadata": {},
     "output_type": "execute_result"
    }
   ],
   "source": [
    "[2**i for i in range(8)]"
   ]
  },
  {
   "cell_type": "markdown",
   "id": "lesbian-boring",
   "metadata": {},
   "source": [
    "Nous pouvons les afficher en colonnes."
   ]
  },
  {
   "cell_type": "code",
   "execution_count": 53,
   "id": "dimensional-month",
   "metadata": {},
   "outputs": [
    {
     "name": "stdout",
     "output_type": "stream",
     "text": [
      "1\t2\t4\t8\t16\t32\t64\t128\n"
     ]
    }
   ],
   "source": [
    "poid = [2**i for i in range(8)]\n",
    "print(*poid, sep='\\t')"
   ]
  },
  {
   "cell_type": "markdown",
   "id": "magnetic-circumstances",
   "metadata": {},
   "source": [
    "De même nous pouvons écrire un nombre binaire **a**"
   ]
  },
  {
   "cell_type": "code",
   "execution_count": 56,
   "id": "excessive-jewel",
   "metadata": {},
   "outputs": [],
   "source": [
    "c = '10010100'"
   ]
  },
  {
   "cell_type": "code",
   "execution_count": 54,
   "id": "transparent-amsterdam",
   "metadata": {},
   "outputs": [
    {
     "name": "stdout",
     "output_type": "stream",
     "text": [
      "1\t2\t4\t8\t16\t32\t64\t128\n",
      "1\t0\t0\t1\t0\t1\t0\t0\n"
     ]
    }
   ],
   "source": [
    "print(*poid, sep='\\t')\n",
    "print(*a, sep='\\t')"
   ]
  },
  {
   "cell_type": "markdown",
   "id": "moral-powder",
   "metadata": {},
   "source": [
    "Le valeur de la séquence est \n",
    "\n",
    "$$ n_b = \\sum_i^m {c_i \\cdot b^i} $$"
   ]
  },
  {
   "cell_type": "markdown",
   "id": "specialized-adams",
   "metadata": {},
   "source": [
    "## Conversion binaire-décimal\n",
    "\n",
    "Nous pouvons donc calculer la valeur du nombre et l'exprimer en décimal."
   ]
  },
  {
   "cell_type": "code",
   "execution_count": 69,
   "id": "welsh-nylon",
   "metadata": {},
   "outputs": [
    {
     "name": "stdout",
     "output_type": "stream",
     "text": [
      "+ 1\n",
      "+ 8\n",
      "+ 32\n",
      "= 41\n"
     ]
    }
   ],
   "source": [
    "c = '10010100'\n",
    "n = 0\n",
    "b = 2\n",
    "\n",
    "for i in range(8):\n",
    "    if c[i] == '1':\n",
    "        print('+', b**i)\n",
    "        n += b**i\n",
    "\n",
    "print('=', n)"
   ]
  },
  {
   "cell_type": "markdown",
   "id": "ethical-worthy",
   "metadata": {},
   "source": [
    "Cette même séquence en base décimale (10) aura la valeur"
   ]
  },
  {
   "cell_type": "code",
   "execution_count": 68,
   "id": "european-competition",
   "metadata": {},
   "outputs": [
    {
     "name": "stdout",
     "output_type": "stream",
     "text": [
      "+ 1\n",
      "+ 1000\n",
      "+ 1000000\n",
      "= 1001001\n"
     ]
    }
   ],
   "source": [
    "c = '10010010'\n",
    "n = 0\n",
    "b = 10\n",
    "\n",
    "for i in range(8):\n",
    "    if c[i] == '1':\n",
    "        print('+', b**i)\n",
    "        n += b**i\n",
    "\n",
    "print('=', n)"
   ]
  },
  {
   "cell_type": "markdown",
   "id": "vital-student",
   "metadata": {},
   "source": [
    "## Conversion décimal en binaire\n"
   ]
  },
  {
   "cell_type": "code",
   "execution_count": 73,
   "id": "political-lunch",
   "metadata": {},
   "outputs": [
    {
     "data": {
      "text/plain": [
       "[1, 0, 1, 0, 0, 1, 1, 1, 1, 1, 1]"
      ]
     },
     "execution_count": 73,
     "metadata": {},
     "output_type": "execute_result"
    }
   ],
   "source": [
    "d = 2021\n",
    "b = []\n",
    "\n",
    "while d > 0:\n",
    "    b.append(d % 2)\n",
    "    d = d//2\n",
    "\n",
    "b"
   ]
  },
  {
   "cell_type": "code",
   "execution_count": null,
   "id": "horizontal-custody",
   "metadata": {},
   "outputs": [],
   "source": []
  }
 ],
 "metadata": {
  "kernelspec": {
   "display_name": "Python 3",
   "language": "python",
   "name": "python3"
  },
  "language_info": {
   "codemirror_mode": {
    "name": "ipython",
    "version": 3
   },
   "file_extension": ".py",
   "mimetype": "text/x-python",
   "name": "python",
   "nbconvert_exporter": "python",
   "pygments_lexer": "ipython3",
   "version": "3.7.9"
  }
 },
 "nbformat": 4,
 "nbformat_minor": 5
}
