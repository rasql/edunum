{
 "cells": [
  {
   "cell_type": "markdown",
   "metadata": {},
   "source": [
    "# Nombres\n",
    "\n",
    "Les **nombres** sont un concept pour **comparer et ordonner** des éléments par une numérotation.\n",
    "\n",
    "![](https://media.giphy.com/media/IsfrRWvbUdRny/giphy.gif)"
   ]
  },
  {
   "cell_type": "markdown",
   "metadata": {},
   "source": [
    "## Numération\n",
    "\n",
    "La **numération** désigne le mode de représentation des nombres.  \n",
    "Nous utilisons la numération occidentale, dite *arabe* ou *indo-arabe*.  Elle est décimale et positionnelle.\n",
    "\n",
    "Voici les 5 premiers nombres en numération arabe\n",
    "\n",
    "    1, 2, 3, 4, 5\n",
    "    \n",
    "en umération romaine\n",
    "\n",
    "    I, II, III, IV, V\n",
    "    \n",
    "et en numération japonaise\n",
    "\n",
    "    一、二、三、四、五"
   ]
  },
  {
   "cell_type": "markdown",
   "metadata": {},
   "source": [
    "## Les différents ensembles\n",
    "Le système décimal utilise 10 chiffres pour représenter les nombres. \n",
    "Dans cette section nous allons construire des séquences de symboles qui représentent un\n",
    "- nombre naturel\n",
    "- nombre entier\n",
    "- nombre rationnel\n",
    "- nombre scientifique"
   ]
  },
  {
   "cell_type": "code",
   "execution_count": 1,
   "metadata": {},
   "outputs": [],
   "source": [
    "digits = '0123456789'"
   ]
  },
  {
   "cell_type": "markdown",
   "metadata": {},
   "source": [
    "La fonction `choice` du module `random` permet d'en sélectionner un chiffre aléatoire."
   ]
  },
  {
   "cell_type": "code",
   "execution_count": 2,
   "metadata": {},
   "outputs": [
    {
     "data": {
      "text/plain": [
       "'2'"
      ]
     },
     "execution_count": 2,
     "metadata": {},
     "output_type": "execute_result"
    }
   ],
   "source": [
    "from random import choice\n",
    "choice(digits)"
   ]
  },
  {
   "cell_type": "code",
   "execution_count": 3,
   "metadata": {},
   "outputs": [],
   "source": [
    "def d():\n",
    "    return choice(digits)"
   ]
  },
  {
   "cell_type": "markdown",
   "metadata": {},
   "source": [
    "Voici trois digits."
   ]
  },
  {
   "cell_type": "code",
   "execution_count": 4,
   "metadata": {},
   "outputs": [
    {
     "data": {
      "text/plain": [
       "('8', '3', '3')"
      ]
     },
     "execution_count": 4,
     "metadata": {},
     "output_type": "execute_result"
    }
   ],
   "source": [
    "d(), d(), d()"
   ]
  },
  {
   "cell_type": "markdown",
   "metadata": {},
   "source": [
    "## Nombre naturel\n",
    "Un nombre naturel est représenté avec une séquence de chiffres."
   ]
  },
  {
   "cell_type": "code",
   "execution_count": 5,
   "metadata": {},
   "outputs": [],
   "source": [
    "def n(m):\n",
    "    s = ''\n",
    "    for i in range(m):\n",
    "        s += d()\n",
    "    return s        "
   ]
  },
  {
   "cell_type": "markdown",
   "metadata": {},
   "source": [
    "Voici trois nombres naturels."
   ]
  },
  {
   "cell_type": "code",
   "execution_count": 6,
   "metadata": {},
   "outputs": [
    {
     "data": {
      "text/plain": [
       "('917', '42720', '6516585')"
      ]
     },
     "execution_count": 6,
     "metadata": {},
     "output_type": "execute_result"
    }
   ],
   "source": [
    "n(3), n(5), n(7)"
   ]
  },
  {
   "cell_type": "markdown",
   "metadata": {},
   "source": [
    "## Nombre entier\n",
    "\n",
    "Les nombre entiers incluent aussi les nombres négatifs. Nous utilisons les symboles\n",
    "- plus `+`\n",
    "- moins `-`"
   ]
  },
  {
   "cell_type": "code",
   "execution_count": 7,
   "metadata": {},
   "outputs": [],
   "source": [
    "def z(m):\n",
    "    sign = choice('-+')\n",
    "    return  sign + n(m)    "
   ]
  },
  {
   "cell_type": "markdown",
   "metadata": {},
   "source": [
    "Voici trois exemples de nombre entier."
   ]
  },
  {
   "cell_type": "code",
   "execution_count": 8,
   "metadata": {},
   "outputs": [
    {
     "data": {
      "text/plain": [
       "('-46', '-377', '-87196')"
      ]
     },
     "execution_count": 8,
     "metadata": {},
     "output_type": "execute_result"
    }
   ],
   "source": [
    "z(2), z(3), z(5)"
   ]
  },
  {
   "cell_type": "markdown",
   "metadata": {},
   "source": [
    "## Nombre rationnel\n",
    "\n",
    "Nombre à virgule flottante."
   ]
  },
  {
   "cell_type": "code",
   "execution_count": 9,
   "metadata": {},
   "outputs": [],
   "source": [
    "def q(k, m):\n",
    "    return z(k) + '.' + n(m)"
   ]
  },
  {
   "cell_type": "code",
   "execution_count": 10,
   "metadata": {},
   "outputs": [
    {
     "data": {
      "text/plain": [
       "('-07.470', '+0.4390918', '-5823.33598')"
      ]
     },
     "execution_count": 10,
     "metadata": {},
     "output_type": "execute_result"
    }
   ],
   "source": [
    "q(2, 3), q(1, 7), q(4, 5)"
   ]
  },
  {
   "cell_type": "markdown",
   "metadata": {},
   "source": [
    "## Nombre scientifique"
   ]
  },
  {
   "cell_type": "code",
   "execution_count": 11,
   "metadata": {},
   "outputs": [],
   "source": [
    "def e(k, m):\n",
    "    return q(1, k-1) + 'e' + z(m)    "
   ]
  },
  {
   "cell_type": "code",
   "execution_count": 12,
   "metadata": {},
   "outputs": [
    {
     "data": {
      "text/plain": [
       "('+3.13e-8', '-6.3e+00', '+3.17e-0')"
      ]
     },
     "execution_count": 12,
     "metadata": {},
     "output_type": "execute_result"
    }
   ],
   "source": [
    "e(3, 1), e(2, 2), e(3, 1)"
   ]
  },
  {
   "cell_type": "markdown",
   "metadata": {},
   "source": [
    "## Type int\n",
    "Python connait deux types de nombres\n",
    "- int\n",
    "- float"
   ]
  },
  {
   "cell_type": "code",
   "execution_count": 13,
   "metadata": {},
   "outputs": [
    {
     "data": {
      "text/plain": [
       "(int, float)"
      ]
     },
     "execution_count": 13,
     "metadata": {},
     "output_type": "execute_result"
    }
   ],
   "source": [
    "type(1), type(1.2)"
   ]
  },
  {
   "cell_type": "code",
   "execution_count": 14,
   "metadata": {},
   "outputs": [
    {
     "name": "stdout",
     "output_type": "stream",
     "text": [
      "-16 --> -16\n",
      "-356 --> -356\n",
      "+22963 --> 22963\n"
     ]
    }
   ],
   "source": [
    "a = z(2), z(3), z(5)\n",
    "for x in a:\n",
    "    print(x, '-->', int(x))"
   ]
  },
  {
   "cell_type": "markdown",
   "metadata": {},
   "source": [
    "En Python il n'y a pas de limitation pour le nombre de positions d'un entier."
   ]
  },
  {
   "cell_type": "code",
   "execution_count": 15,
   "metadata": {},
   "outputs": [
    {
     "data": {
      "text/plain": [
       "41202897292098274027477877193047814135821830647208"
      ]
     },
     "execution_count": 15,
     "metadata": {},
     "output_type": "execute_result"
    }
   ],
   "source": [
    "a = n(50)\n",
    "int(a)"
   ]
  },
  {
   "cell_type": "markdown",
   "metadata": {},
   "source": [
    "Nous constatons que l'addtion de 1 donne le bon résultat."
   ]
  },
  {
   "cell_type": "code",
   "execution_count": 16,
   "metadata": {},
   "outputs": [
    {
     "data": {
      "text/plain": [
       "41202897292098274027477877193047814135821830647209"
      ]
     },
     "execution_count": 16,
     "metadata": {},
     "output_type": "execute_result"
    }
   ],
   "source": [
    "int(a) + 1"
   ]
  },
  {
   "cell_type": "markdown",
   "metadata": {},
   "source": [
    "## Type float"
   ]
  },
  {
   "cell_type": "code",
   "execution_count": 17,
   "metadata": {},
   "outputs": [
    {
     "name": "stdout",
     "output_type": "stream",
     "text": [
      "+5.81e-9 --> 5.81e-09\n",
      "+5.7e-63 --> 5.7e-63\n",
      "-6.28e-59 --> -6.28e-59\n"
     ]
    }
   ],
   "source": [
    "nombres = e(3, 1), e(2, 2), e(3, 2)\n",
    "for x in nombres:\n",
    "    print(x, '-->', float(x))"
   ]
  },
  {
   "cell_type": "markdown",
   "metadata": {},
   "source": [
    "## Nombres hexadécimales\n",
    "\n",
    "Le système hexadécimal est un système de numérotation en base 16. En plus des 10 chiffres, il utilise les premiers 6 lettres de l'alphabet.\n",
    "\n",
    "Ce système est très pratique en informatique, parce qu'il permet de représenter 4 éléments binaires avec un seul symbole hexadécimale.\n",
    "\n",
    "Nous utilisons ici un **f-string** pour formater la variable `i`\n",
    "\n",
    "- `{i:2}` affiche la variable `i` avec 2 positions\n",
    "- `{i:04b}` affiche la variable `i` en binaire avec 4 positions (rambourré avec des `0`)\n",
    "- `{i:X}` affiche la variable `i` en hexadécimal"
   ]
  },
  {
   "cell_type": "code",
   "execution_count": 20,
   "metadata": {},
   "outputs": [
    {
     "name": "stdout",
     "output_type": "stream",
     "text": [
      " 0 = 0000 = 0\n",
      " 1 = 0001 = 1\n",
      " 2 = 0010 = 2\n",
      " 3 = 0011 = 3\n",
      " 4 = 0100 = 4\n",
      " 5 = 0101 = 5\n",
      " 6 = 0110 = 6\n",
      " 7 = 0111 = 7\n",
      " 8 = 1000 = 8\n",
      " 9 = 1001 = 9\n",
      "10 = 1010 = A\n",
      "11 = 1011 = B\n",
      "12 = 1100 = C\n",
      "13 = 1101 = D\n",
      "14 = 1110 = E\n",
      "15 = 1111 = F\n"
     ]
    }
   ],
   "source": [
    "for i in range(16):\n",
    "    print(f'{i:2} = {i:04b} = {i:X}')"
   ]
  },
  {
   "cell_type": "markdown",
   "metadata": {},
   "source": [
    "Voici les dernières valeurs d'un octet"
   ]
  },
  {
   "cell_type": "code",
   "execution_count": 21,
   "metadata": {},
   "outputs": [
    {
     "name": "stdout",
     "output_type": "stream",
     "text": [
      "250 = 11111010 = FA\n",
      "251 = 11111011 = FB\n",
      "252 = 11111100 = FC\n",
      "253 = 11111101 = FD\n",
      "254 = 11111110 = FE\n",
      "255 = 11111111 = FF\n"
     ]
    }
   ],
   "source": [
    "for i in range(250, 256):\n",
    "    print(f'{i} = {i:08b} = {i:02X}')"
   ]
  }
 ],
 "metadata": {
  "kernelspec": {
   "display_name": "Python 3",
   "language": "python",
   "name": "python3"
  },
  "language_info": {
   "codemirror_mode": {
    "name": "ipython",
    "version": 3
   },
   "file_extension": ".py",
   "mimetype": "text/x-python",
   "name": "python",
   "nbconvert_exporter": "python",
   "pygments_lexer": "ipython3",
   "version": "3.7.9"
  }
 },
 "nbformat": 4,
 "nbformat_minor": 4
}
