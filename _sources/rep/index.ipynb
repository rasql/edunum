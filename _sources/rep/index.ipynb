{
 "cells": [
  {
   "cell_type": "markdown",
   "id": "complete-examination",
   "metadata": {},
   "source": [
    "# Encoder\n",
    "\n",
    "Dans cette section nous nous intéressons à la question comment l'information est encodée.\n",
    "\n",
    "![encode](https://media.giphy.com/media/d47HclraHQFDLbHi/giphy-downsized.gif)\n",
    "\n",
    "En particulier nous allons découvrir\n",
    "\n",
    "- le système unaire\n",
    "- le système binaire\n",
    "- les nombres\n",
    "- le codage des caractères\n",
    "- la représentation des images\n",
    "- le son"
   ]
  },
  {
   "cell_type": "markdown",
   "id": "designing-drill",
   "metadata": {},
   "source": [
    "## L'information\n",
    "\n",
    "Notre **univers** est divisé en\n",
    "- espace\n",
    "- temps\n",
    "\n",
    "Ce **monde** est rempli de\n",
    "- matière\n",
    "- énergie\n",
    "- information\n",
    "\n",
    "Mais c'est quoi, cette chose appelée **information** ?  \n",
    "Ce sont des nombres, des codes, des symboles, des signaux, des images, etc.\n",
    "\n",
    "Pour un humain c'est avant tout, ce qu'il peut **percevoir**: \n",
    "- information visuelle (image, texte)\n",
    "- information auditive (son, langage)"
   ]
  },
  {
   "cell_type": "code",
   "execution_count": null,
   "id": "varying-musician",
   "metadata": {},
   "outputs": [],
   "source": []
  }
 ],
 "metadata": {
  "kernelspec": {
   "display_name": "Python 3",
   "language": "python",
   "name": "python3"
  },
  "language_info": {
   "codemirror_mode": {
    "name": "ipython",
    "version": 3
   },
   "file_extension": ".py",
   "mimetype": "text/x-python",
   "name": "python",
   "nbconvert_exporter": "python",
   "pygments_lexer": "ipython3",
   "version": "3.7.9"
  }
 },
 "nbformat": 4,
 "nbformat_minor": 5
}
