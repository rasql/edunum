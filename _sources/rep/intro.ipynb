{
 "cells": [
  {
   "cell_type": "markdown",
   "metadata": {},
   "source": [
    "# Réprésentation de l'information"
   ]
  },
  {
   "cell_type": "markdown",
   "metadata": {},
   "source": [
    "Notre **universe** est divisé en\n",
    "- espace\n",
    "- temps\n",
    "\n",
    "Ce monde contient 3 entités:\n",
    "- matière\n",
    "- énérgie\n",
    "- information\n",
    "\n",
    "Mais c'est quoi, l'information ?  \n",
    "Ce sont des nombres, des codes, des symboles, des signaux, des description, etc.\n",
    "\n",
    "Pour un humain c'est avant tout, ce qu'il voit et ce qu'il entend: \n",
    "- information visuelles (images, texte)\n",
    "- information auditives (sons, langage)\n",
    "\n",
    "Avec le langage parlé, nous avons inventé des symboles pour designer des entités, des catégories et des objets spécifics, des attributs et des actions."
   ]
  },
  {
   "cell_type": "markdown",
   "metadata": {},
   "source": [
    "## Nombres\n",
    "\n",
    "Le système décimale utilise 10 chiffres pour représenter les nombres. Dans cette sections nous allons construire des séquence de symboles qui représentes un\n",
    "- nombre naturel\n",
    "- nombre entier\n",
    "- nombre rationel\n",
    "- nombre scientifique"
   ]
  },
  {
   "cell_type": "code",
   "execution_count": 1,
   "metadata": {},
   "outputs": [],
   "source": [
    "digits = '0123456789'"
   ]
  },
  {
   "cell_type": "markdown",
   "metadata": {},
   "source": [
    "La fonction `choice` du module `random` permet d'en selectionner une chiffre aléatoire."
   ]
  },
  {
   "cell_type": "code",
   "execution_count": 2,
   "metadata": {},
   "outputs": [
    {
     "data": {
      "text/plain": [
       "'2'"
      ]
     },
     "execution_count": 2,
     "metadata": {},
     "output_type": "execute_result"
    }
   ],
   "source": [
    "from random import choice\n",
    "choice(digits)"
   ]
  },
  {
   "cell_type": "code",
   "execution_count": 3,
   "metadata": {},
   "outputs": [],
   "source": [
    "def d():\n",
    "    return choice(digits)"
   ]
  },
  {
   "cell_type": "markdown",
   "metadata": {},
   "source": [
    "Voici trois digits."
   ]
  },
  {
   "cell_type": "code",
   "execution_count": 4,
   "metadata": {},
   "outputs": [
    {
     "data": {
      "text/plain": [
       "('8', '3', '3')"
      ]
     },
     "execution_count": 4,
     "metadata": {},
     "output_type": "execute_result"
    }
   ],
   "source": [
    "d(), d(), d()"
   ]
  },
  {
   "cell_type": "markdown",
   "metadata": {},
   "source": [
    "### Nombre naturel\n",
    "Un nombre naturel est représenté avec une séquence de chiffres."
   ]
  },
  {
   "cell_type": "code",
   "execution_count": 5,
   "metadata": {},
   "outputs": [],
   "source": [
    "def n(m):\n",
    "    s = ''\n",
    "    for i in range(m):\n",
    "        s += d()\n",
    "    return s        "
   ]
  },
  {
   "cell_type": "markdown",
   "metadata": {},
   "source": [
    "Voici trois nombres naturels."
   ]
  },
  {
   "cell_type": "code",
   "execution_count": 6,
   "metadata": {},
   "outputs": [
    {
     "data": {
      "text/plain": [
       "('917', '42720', '6516585')"
      ]
     },
     "execution_count": 6,
     "metadata": {},
     "output_type": "execute_result"
    }
   ],
   "source": [
    "n(3), n(5), n(7)"
   ]
  },
  {
   "cell_type": "markdown",
   "metadata": {},
   "source": [
    "### Nombre entier\n",
    "\n",
    "Les nombre entiers incluent aussi les nombres négatives. Nous utilisons les symboles\n",
    "- plus `+`\n",
    "- minus `-`"
   ]
  },
  {
   "cell_type": "code",
   "execution_count": 7,
   "metadata": {},
   "outputs": [],
   "source": [
    "def z(m):\n",
    "    sign = choice('-+')\n",
    "    return  sign + n(m)    "
   ]
  },
  {
   "cell_type": "markdown",
   "metadata": {},
   "source": [
    "Voici trois exemples de nombre entier."
   ]
  },
  {
   "cell_type": "code",
   "execution_count": 8,
   "metadata": {},
   "outputs": [
    {
     "data": {
      "text/plain": [
       "('-46', '-377', '-87196')"
      ]
     },
     "execution_count": 8,
     "metadata": {},
     "output_type": "execute_result"
    }
   ],
   "source": [
    "z(2), z(3), z(5)"
   ]
  },
  {
   "cell_type": "markdown",
   "metadata": {},
   "source": [
    "### Nombre rationel\n",
    "\n",
    "Nombre a virgule flottante"
   ]
  },
  {
   "cell_type": "code",
   "execution_count": 9,
   "metadata": {},
   "outputs": [],
   "source": [
    "def q(k, m):\n",
    "    return z(k) + '.' + n(m)"
   ]
  },
  {
   "cell_type": "code",
   "execution_count": 10,
   "metadata": {},
   "outputs": [
    {
     "data": {
      "text/plain": [
       "('-07.470', '+0.4390918', '-5823.33598')"
      ]
     },
     "execution_count": 10,
     "metadata": {},
     "output_type": "execute_result"
    }
   ],
   "source": [
    "q(2, 3), q(1, 7), q(4, 5)"
   ]
  },
  {
   "cell_type": "markdown",
   "metadata": {},
   "source": [
    "### Nombre scientifique"
   ]
  },
  {
   "cell_type": "code",
   "execution_count": 11,
   "metadata": {},
   "outputs": [],
   "source": [
    "def e(k, m):\n",
    "    return q(1, k-1) + 'e' + z(m)    "
   ]
  },
  {
   "cell_type": "code",
   "execution_count": 12,
   "metadata": {},
   "outputs": [
    {
     "data": {
      "text/plain": [
       "('+3.13e-8', '-6.3e+00', '+3.17e-0')"
      ]
     },
     "execution_count": 12,
     "metadata": {},
     "output_type": "execute_result"
    }
   ],
   "source": [
    "e(3, 1), e(2, 2), e(3, 1)"
   ]
  },
  {
   "cell_type": "markdown",
   "metadata": {},
   "source": [
    "## Type int\n",
    "Python connait deux types de nombres\n",
    "- int\n",
    "- float"
   ]
  },
  {
   "cell_type": "code",
   "execution_count": 13,
   "metadata": {},
   "outputs": [
    {
     "data": {
      "text/plain": [
       "(int, float)"
      ]
     },
     "execution_count": 13,
     "metadata": {},
     "output_type": "execute_result"
    }
   ],
   "source": [
    "type(1), type(1.2)"
   ]
  },
  {
   "cell_type": "code",
   "execution_count": 14,
   "metadata": {},
   "outputs": [
    {
     "name": "stdout",
     "output_type": "stream",
     "text": [
      "-16 --> -16\n",
      "-356 --> -356\n",
      "+22963 --> 22963\n"
     ]
    }
   ],
   "source": [
    "a = z(2), z(3), z(5)\n",
    "for x in a:\n",
    "    print(x, '-->', int(x))"
   ]
  },
  {
   "cell_type": "markdown",
   "metadata": {},
   "source": [
    "En Python il n'y a pas de limitation pour le nombre de positions d'un entier."
   ]
  },
  {
   "cell_type": "code",
   "execution_count": 15,
   "metadata": {},
   "outputs": [
    {
     "data": {
      "text/plain": [
       "41202897292098274027477877193047814135821830647208"
      ]
     },
     "execution_count": 15,
     "metadata": {},
     "output_type": "execute_result"
    }
   ],
   "source": [
    "a = n(50)\n",
    "int(a)"
   ]
  },
  {
   "cell_type": "markdown",
   "metadata": {},
   "source": [
    "Nous constatons que l'addtion de 1 donne le bon résultat."
   ]
  },
  {
   "cell_type": "code",
   "execution_count": 16,
   "metadata": {},
   "outputs": [
    {
     "data": {
      "text/plain": [
       "41202897292098274027477877193047814135821830647209"
      ]
     },
     "execution_count": 16,
     "metadata": {},
     "output_type": "execute_result"
    }
   ],
   "source": [
    "int(a) + 1"
   ]
  },
  {
   "cell_type": "markdown",
   "metadata": {},
   "source": [
    "## Type float"
   ]
  },
  {
   "cell_type": "code",
   "execution_count": 17,
   "metadata": {},
   "outputs": [
    {
     "name": "stdout",
     "output_type": "stream",
     "text": [
      "+5.81e-9 --> 5.81e-09\n",
      "+5.7e-63 --> 5.7e-63\n",
      "-6.28e-59 --> -6.28e-59\n"
     ]
    }
   ],
   "source": [
    "nombres = e(3, 1), e(2, 2), e(3, 2)\n",
    "for x in nombres:\n",
    "    print(x, '-->', float(x))"
   ]
  },
  {
   "cell_type": "markdown",
   "metadata": {},
   "source": [
    "## Nombre binaire\n",
    "\n",
    "Les humains ont développé le système de numérotation décimale, sur base de 10, parce que nous avons 10 doigts. Mais on peut representer des nombres dans n'importe quel base. \n",
    "En informatique nous utilisons le système binaire, sur base 2"
   ]
  },
  {
   "cell_type": "code",
   "execution_count": 18,
   "metadata": {},
   "outputs": [
    {
     "name": "stdout",
     "output_type": "stream",
     "text": [
      "0 = 0000\n",
      "1 = 0001\n",
      "2 = 0010\n",
      "3 = 0011\n",
      "4 = 0100\n",
      "5 = 0101\n"
     ]
    }
   ],
   "source": [
    "for i in range(6):\n",
    "    print(f'{i} = {i:04b}')"
   ]
  },
  {
   "cell_type": "markdown",
   "metadata": {},
   "source": [
    "Ou les nombres binaires à partir de 200."
   ]
  },
  {
   "cell_type": "code",
   "execution_count": 19,
   "metadata": {},
   "outputs": [
    {
     "name": "stdout",
     "output_type": "stream",
     "text": [
      "200 = 11001000\n",
      "201 = 11001001\n",
      "202 = 11001010\n",
      "203 = 11001011\n"
     ]
    }
   ],
   "source": [
    "for i in range(200, 204):\n",
    "    print(f'{i} = {i:08b}')"
   ]
  },
  {
   "cell_type": "markdown",
   "metadata": {},
   "source": [
    "## Transformation"
   ]
  },
  {
   "cell_type": "code",
   "execution_count": 39,
   "metadata": {},
   "outputs": [
    {
     "data": {
      "text/plain": [
       "255"
      ]
     },
     "execution_count": 39,
     "metadata": {},
     "output_type": "execute_result"
    }
   ],
   "source": [
    "bin = '11111111'\n",
    "\n",
    "dec = 0\n",
    "for x in bin:\n",
    "    dec *= 2\n",
    "    if x == '1':\n",
    "        dec += 1\n",
    "n"
   ]
  },
  {
   "cell_type": "code",
   "execution_count": 44,
   "metadata": {},
   "outputs": [
    {
     "data": {
      "text/plain": [
       "'11111111'"
      ]
     },
     "execution_count": 44,
     "metadata": {},
     "output_type": "execute_result"
    }
   ],
   "source": [
    "d = 255\n",
    "\n",
    "b = ''\n",
    "while d > 0:\n",
    "    b = str(d % 2) + b\n",
    "    d = d // 2\n",
    "\n",
    "b"
   ]
  },
  {
   "cell_type": "code",
   "execution_count": 46,
   "metadata": {},
   "outputs": [],
   "source": [
    "def dec2bin(d):\n",
    "    b = ''\n",
    "    while d > 0:\n",
    "        b = str(d % 2) + b\n",
    "        d = d // 2\n",
    "    return b"
   ]
  },
  {
   "cell_type": "code",
   "execution_count": 48,
   "metadata": {},
   "outputs": [
    {
     "data": {
      "text/plain": [
       "'11111010'"
      ]
     },
     "execution_count": 48,
     "metadata": {},
     "output_type": "execute_result"
    }
   ],
   "source": [
    "dec2bin(250)"
   ]
  },
  {
   "cell_type": "markdown",
   "metadata": {},
   "source": [
    "## Nombres héxadécimales\n",
    "\n",
    "Le système hexadécimale est un système de numérotation sur base 16. En dehors des 10 chiffres, il utilise les premiers 6 lettres de l'alphabet.\n",
    "\n",
    "Ce système est très pratiques en informatique, parce qu'il permet de représenter 4 digits binaires avec un seul symbole hexadécimale."
   ]
  },
  {
   "cell_type": "code",
   "execution_count": 20,
   "metadata": {},
   "outputs": [
    {
     "name": "stdout",
     "output_type": "stream",
     "text": [
      " 0 = 0000 = 0\n",
      " 1 = 0001 = 1\n",
      " 2 = 0010 = 2\n",
      " 3 = 0011 = 3\n",
      " 4 = 0100 = 4\n",
      " 5 = 0101 = 5\n",
      " 6 = 0110 = 6\n",
      " 7 = 0111 = 7\n",
      " 8 = 1000 = 8\n",
      " 9 = 1001 = 9\n",
      "10 = 1010 = A\n",
      "11 = 1011 = B\n",
      "12 = 1100 = C\n",
      "13 = 1101 = D\n",
      "14 = 1110 = E\n",
      "15 = 1111 = F\n"
     ]
    }
   ],
   "source": [
    "for i in range(16):\n",
    "    print(f'{i:2} = {i:04b} = {i:X}')"
   ]
  },
  {
   "cell_type": "markdown",
   "metadata": {},
   "source": [
    "Voici les dernières valeurs d'un octet"
   ]
  },
  {
   "cell_type": "code",
   "execution_count": 21,
   "metadata": {},
   "outputs": [
    {
     "name": "stdout",
     "output_type": "stream",
     "text": [
      "250 = 11111010 = FA\n",
      "251 = 11111011 = FB\n",
      "252 = 11111100 = FC\n",
      "253 = 11111101 = FD\n",
      "254 = 11111110 = FE\n",
      "255 = 11111111 = FF\n"
     ]
    }
   ],
   "source": [
    "for i in range(250, 256):\n",
    "    print(f'{i} = {i:08b} = {i:02X}')"
   ]
  },
  {
   "cell_type": "markdown",
   "metadata": {},
   "source": [
    "## Opérations logiques\n",
    "\n",
    "Le resultat d'une comparaison est une valeur booléenne."
   ]
  },
  {
   "cell_type": "code",
   "execution_count": 22,
   "metadata": {},
   "outputs": [
    {
     "data": {
      "text/plain": [
       "True"
      ]
     },
     "execution_count": 22,
     "metadata": {},
     "output_type": "execute_result"
    }
   ],
   "source": [
    "1 > 0"
   ]
  },
  {
   "cell_type": "markdown",
   "metadata": {},
   "source": [
    "Il existent exactement deux valeurs `True` et `False`."
   ]
  },
  {
   "cell_type": "code",
   "execution_count": 23,
   "metadata": {},
   "outputs": [
    {
     "data": {
      "text/plain": [
       "False"
      ]
     },
     "execution_count": 23,
     "metadata": {},
     "output_type": "execute_result"
    }
   ],
   "source": [
    "1 == 0"
   ]
  },
  {
   "cell_type": "markdown",
   "metadata": {},
   "source": [
    "## Opérateur not\n",
    "\n",
    "L'opératueur `not` inverse son argument."
   ]
  },
  {
   "cell_type": "code",
   "execution_count": 24,
   "metadata": {},
   "outputs": [
    {
     "data": {
      "text/plain": [
       "False"
      ]
     },
     "execution_count": 24,
     "metadata": {},
     "output_type": "execute_result"
    }
   ],
   "source": [
    "not True"
   ]
  },
  {
   "cell_type": "markdown",
   "metadata": {},
   "source": [
    "## Table de vérité\n",
    "Nous pouvons itérer et afficher une table de vérité."
   ]
  },
  {
   "cell_type": "code",
   "execution_count": 25,
   "metadata": {},
   "outputs": [
    {
     "name": "stdout",
     "output_type": "stream",
     "text": [
      "False\tTrue\n",
      "True\tFalse\n"
     ]
    }
   ],
   "source": [
    "for p in (False, True):\n",
    "    print(p, not p, sep='\\t')"
   ]
  },
  {
   "cell_type": "markdown",
   "metadata": {},
   "source": [
    "Nous pouvons ajouter une ligne d'entête"
   ]
  },
  {
   "cell_type": "code",
   "execution_count": 26,
   "metadata": {},
   "outputs": [
    {
     "name": "stdout",
     "output_type": "stream",
     "text": [
      "p\tnot p\n",
      "False\tTrue\n",
      "True\tFalse\n"
     ]
    }
   ],
   "source": [
    "print('p\\tnot p')\n",
    "for p in (False, True):\n",
    "    print(p, not p, sep='\\t')"
   ]
  },
  {
   "cell_type": "markdown",
   "metadata": {},
   "source": [
    "## Opérateur and\n",
    "\n",
    "L'opérateur logique `and` donne `True`, seulement si les deus arguments sont `True`. "
   ]
  },
  {
   "cell_type": "code",
   "execution_count": 27,
   "metadata": {},
   "outputs": [
    {
     "data": {
      "text/plain": [
       "False"
      ]
     },
     "execution_count": 27,
     "metadata": {},
     "output_type": "execute_result"
    }
   ],
   "source": [
    "False and True"
   ]
  },
  {
   "cell_type": "markdown",
   "metadata": {},
   "source": [
    "Calculons de nouveaux une table de verité."
   ]
  },
  {
   "cell_type": "code",
   "execution_count": 28,
   "metadata": {},
   "outputs": [
    {
     "name": "stdout",
     "output_type": "stream",
     "text": [
      "p\tq\tp and q\n",
      "False\tFalse\tFalse\n",
      "False\tTrue\tFalse\n",
      "True\tFalse\tFalse\n",
      "True\tTrue\tTrue\n"
     ]
    }
   ],
   "source": [
    "print('p\\tq\\tp and q')\n",
    "for p in (False, True):\n",
    "    for q in (False, True):\n",
    "        print(p, q, p and q, sep='\\t')"
   ]
  },
  {
   "cell_type": "markdown",
   "metadata": {},
   "source": [
    "## Représentation des caractères\n",
    "\n",
    "Les charactères sont représenté par des nombres. La fonction `ord` donne le nombre associé à un caractères. Le nombre qui correspond à la lettre **A** majuscule est 65."
   ]
  },
  {
   "cell_type": "code",
   "execution_count": 29,
   "metadata": {},
   "outputs": [
    {
     "data": {
      "text/plain": [
       "65"
      ]
     },
     "execution_count": 29,
     "metadata": {},
     "output_type": "execute_result"
    }
   ],
   "source": [
    "ord('A')"
   ]
  },
  {
   "cell_type": "markdown",
   "metadata": {},
   "source": [
    "La fonction inverse est `chr` et nous pouvons vérifier que la lettre correspondant au code suivante (66) est la lettre **B**."
   ]
  },
  {
   "cell_type": "code",
   "execution_count": 30,
   "metadata": {},
   "outputs": [
    {
     "data": {
      "text/plain": [
       "'B'"
      ]
     },
     "execution_count": 30,
     "metadata": {},
     "output_type": "execute_result"
    }
   ],
   "source": [
    "chr(66)"
   ]
  },
  {
   "cell_type": "markdown",
   "metadata": {},
   "source": [
    "Voici les caractères usuelles, qui vont de \n",
    "- 32 (espace)\n",
    "- 48-57 (chiffres)\n",
    "- 65-90 (lettres majuscules)\n",
    "- 97-122 (lettres minuscules)"
   ]
  },
  {
   "cell_type": "code",
   "execution_count": 31,
   "metadata": {},
   "outputs": [
    {
     "name": "stdout",
     "output_type": "stream",
     "text": [
      "32  \t48 0\t64 @\t80 P\t96 `\t112 p\t\n",
      "33 !\t49 1\t65 A\t81 Q\t97 a\t113 q\t\n",
      "34 \"\t50 2\t66 B\t82 R\t98 b\t114 r\t\n",
      "35 #\t51 3\t67 C\t83 S\t99 c\t115 s\t\n",
      "36 $\t52 4\t68 D\t84 T\t100 d\t116 t\t\n",
      "37 %\t53 5\t69 E\t85 U\t101 e\t117 u\t\n",
      "38 &\t54 6\t70 F\t86 V\t102 f\t118 v\t\n",
      "39 '\t55 7\t71 G\t87 W\t103 g\t119 w\t\n",
      "40 (\t56 8\t72 H\t88 X\t104 h\t120 x\t\n",
      "41 )\t57 9\t73 I\t89 Y\t105 i\t121 y\t\n",
      "42 *\t58 :\t74 J\t90 Z\t106 j\t122 z\t\n",
      "43 +\t59 ;\t75 K\t91 [\t107 k\t123 {\t\n",
      "44 ,\t60 <\t76 L\t92 \\\t108 l\t124 |\t\n",
      "45 -\t61 =\t77 M\t93 ]\t109 m\t125 }\t\n",
      "46 .\t62 >\t78 N\t94 ^\t110 n\t126 ~\t\n",
      "47 /\t63 ?\t79 O\t95 _\t111 o\t127 \t\n"
     ]
    }
   ],
   "source": [
    "for y in range(16):\n",
    "    for x in range(2, 8):\n",
    "        i = 16*x + y\n",
    "        print(i, chr(i), end='\\t')\n",
    "    print()"
   ]
  },
  {
   "cell_type": "markdown",
   "metadata": {},
   "source": [
    "## Emoji"
   ]
  },
  {
   "cell_type": "code",
   "execution_count": 32,
   "metadata": {},
   "outputs": [
    {
     "data": {
      "text/plain": [
       "128512"
      ]
     },
     "execution_count": 32,
     "metadata": {},
     "output_type": "execute_result"
    }
   ],
   "source": [
    "ord('😀')"
   ]
  },
  {
   "cell_type": "markdown",
   "metadata": {},
   "source": [
    "Nous pouvons imprimer les émojis suivantes"
   ]
  },
  {
   "cell_type": "code",
   "execution_count": 33,
   "metadata": {},
   "outputs": [
    {
     "name": "stdout",
     "output_type": "stream",
     "text": [
      "😀😁😂😃😄😅😆😇😈😉😊😋😌😍😎😏😐😑😒😓"
     ]
    }
   ],
   "source": [
    "for i in range(20):\n",
    "    print(chr(128512 + i), end='')"
   ]
  },
  {
   "cell_type": "code",
   "execution_count": null,
   "metadata": {},
   "outputs": [],
   "source": []
  }
 ],
 "metadata": {
  "kernelspec": {
   "display_name": "Python 3",
   "language": "python",
   "name": "python3"
  },
  "language_info": {
   "codemirror_mode": {
    "name": "ipython",
    "version": 3
   },
   "file_extension": ".py",
   "mimetype": "text/x-python",
   "name": "python",
   "nbconvert_exporter": "python",
   "pygments_lexer": "ipython3",
   "version": "3.7.9"
  }
 },
 "nbformat": 4,
 "nbformat_minor": 4
}
