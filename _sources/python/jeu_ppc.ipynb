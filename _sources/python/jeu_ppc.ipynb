{
 "cells": [
  {
   "cell_type": "markdown",
   "id": "electronic-lodging",
   "metadata": {},
   "source": [
    "# Jeu : pierre-papier-ciseaux\n",
    "\n",
    "Le jeu **pierre-papier-ciseaux** (rock-paper-scissors) se joue avec les mains.  \n",
    "![](https://media.giphy.com/media/3ohzdGnD5vAud1NCZW/giphy.gif)"
   ]
  },
  {
   "cell_type": "markdown",
   "id": "empirical-township",
   "metadata": {},
   "source": [
    "## Description\n",
    "\n",
    "Les deux joueurs choisissent simultanémant un des trois coups possibles:\n",
    "\n",
    "![](ppc.png)\n",
    "\n",
    "- pierre bat ciseaux\n",
    "- papier bat pierre\n",
    "- ciseaux bat papier\n",
    "\n",
    "Ce jeu est aussi connu sous le nom de **chifoumi**.  \n",
    "Vous trouvez plus d'info sur [Wikipédia](https://fr.wikipedia.org/wiki/Pierre-papier-ciseaux)."
   ]
  },
  {
   "cell_type": "markdown",
   "id": "critical-leisure",
   "metadata": {},
   "source": [
    "## Exemple online\n",
    "\n",
    "Allez sur le site [chifoumi.io](https://chifoumi.io) pour avoir une idée du jeu.  \n",
    "Vous (you) allez jouer contre l'ordinateur (bot). \n",
    "\n",
    "![](ppc_chifoumi.png)\n"
   ]
  },
  {
   "cell_type": "markdown",
   "id": "peaceful-creator",
   "metadata": {},
   "source": [
    "## Votre projet\n",
    "\n",
    "Ceci est un exemple d'un jeu vidéo, ou un humain joue contre l'ordinateur.\n",
    "\n",
    "- vous continuez jusqu'à une condition de fin\n",
    "- vous vérifiez si le choix est permis\n",
    "- vous affichez les coups\n",
    "- vous décidez qui gagne\n",
    "- vous tenez compte du score\n",
    "\n",
    "Ce jeux est simple, mais il vous permet de comprendre comment un jeux vidéo fonctionne."
   ]
  },
  {
   "cell_type": "markdown",
   "id": "likely-geography",
   "metadata": {},
   "source": [
    "## Représentation des coups\n",
    "\n",
    "A chaque tour il y a 3 coups possibles.\n",
    "Il a différentes manières de représenter ces 3 options.\n",
    "Une façon est d'utiliser des chaînes de caracters."
   ]
  },
  {
   "cell_type": "code",
   "execution_count": 58,
   "id": "collaborative-canada",
   "metadata": {},
   "outputs": [],
   "source": [
    "coups = ['pierre', 'papier', 'ciseaux']"
   ]
  },
  {
   "cell_type": "markdown",
   "id": "informed-philippines",
   "metadata": {},
   "source": [
    "Une autre façon plus efficace est d'utiliser juste des entiers (0, 1, 2).  \n",
    "En commençant par 0, nous pouvons utiliser ces entiers comme indexe pour une liste avec les noms des coups.\n",
    "\n",
    "- 0 = pierre\n",
    "- 1 = papier\n",
    "- 2 = ciseaux"
   ]
  },
  {
   "cell_type": "code",
   "execution_count": 59,
   "id": "affected-williams",
   "metadata": {},
   "outputs": [],
   "source": [
    "coups = [0, 1, 2]"
   ]
  },
  {
   "cell_type": "markdown",
   "id": "drawn-infection",
   "metadata": {},
   "source": [
    "Bien sur, vous pouvez aussi utiliser des émoji pour rendre l'apparence plus cool."
   ]
  },
  {
   "cell_type": "code",
   "execution_count": 62,
   "id": "lucky-employment",
   "metadata": {},
   "outputs": [],
   "source": [
    "coups = ['📜', '💎', '✂️']"
   ]
  },
  {
   "cell_type": "markdown",
   "id": "final-blood",
   "metadata": {},
   "source": [
    "## Input-output\n",
    "\n",
    "Pour ce jeu simple, vous utilisez la fonction `input()` pour demander le choix de l'utilisateur. Vous utilisez la fonction `print()` pour communiquer avec lui.\n",
    "\n",
    "Le principe de base est:"
   ]
  },
  {
   "cell_type": "code",
   "execution_count": 61,
   "id": "handled-prague",
   "metadata": {},
   "outputs": [
    {
     "name": "stdin",
     "output_type": "stream",
     "text": [
      "votre choix:  pierre\n"
     ]
    },
    {
     "name": "stdout",
     "output_type": "stream",
     "text": [
      "vous avez choisi pierre\n"
     ]
    }
   ],
   "source": [
    "x = input('votre choix: ')\n",
    "print('vous avez choisi', x)"
   ]
  },
  {
   "cell_type": "markdown",
   "id": "changed-timer",
   "metadata": {},
   "source": [
    "## Boucle de jeu\n",
    "\n",
    "Pour jouer ce jeu, vous utilisez la boucle `while` pour répéter les échanges.\n",
    "Une condition de fin sera nécessaire.\n",
    "Une manière fréquemment utilisée pour terminer un jeu est d'appuyer tout simplement sur la touche **retour**.\n",
    "Dans ce cas `input()` retourne une chaine vide.\n",
    "   \n",
    "    x = ''\n",
    "    \n",
    "La chaine vide est interprétée comme valeur booléenne `False`.  \n",
    "Essayez différentes valeurs."
   ]
  },
  {
   "cell_type": "code",
   "execution_count": 70,
   "id": "fleet-librarian",
   "metadata": {},
   "outputs": [
    {
     "data": {
      "text/plain": [
       "False"
      ]
     },
     "execution_count": 70,
     "metadata": {},
     "output_type": "execute_result"
    }
   ],
   "source": [
    "bool('')"
   ]
  },
  {
   "cell_type": "code",
   "execution_count": 91,
   "id": "expired-works",
   "metadata": {},
   "outputs": [
    {
     "data": {
      "text/plain": [
       "True"
      ]
     },
     "execution_count": 91,
     "metadata": {},
     "output_type": "execute_result"
    }
   ],
   "source": [
    "bool('pierre')"
   ]
  },
  {
   "cell_type": "markdown",
   "id": "indian-asset",
   "metadata": {},
   "source": [
    "Donc voici une boucle de jeu. Elle continue jusqu'à ce que vous appuyer sur **retour** tout seul."
   ]
  },
  {
   "cell_type": "code",
   "execution_count": 67,
   "id": "vocational-effects",
   "metadata": {},
   "outputs": [
    {
     "name": "stdin",
     "output_type": "stream",
     "text": [
      "votre choix: papier\n",
      "votre choix: \n"
     ]
    },
    {
     "name": "stdout",
     "output_type": "stream",
     "text": [
      "game over\n"
     ]
    }
   ],
   "source": [
    "x = input('votre choix:')\n",
    "while x: \n",
    "    x = input('votre choix:')\n",
    "    \n",
    "print('game over')"
   ]
  },
  {
   "cell_type": "markdown",
   "id": "rapid-dylan",
   "metadata": {},
   "source": [
    "## Vérification\n",
    "\n",
    "Un jeu vérifie si les entrées sont permis. Donc établissons d'abord une liste des coups qui sont permis."
   ]
  },
  {
   "cell_type": "code",
   "execution_count": 13,
   "id": "little-romance",
   "metadata": {},
   "outputs": [],
   "source": [
    "coups = ['pierre', 'papier', 'ciseaux']"
   ]
  },
  {
   "cell_type": "markdown",
   "id": "boring-mississippi",
   "metadata": {},
   "source": [
    "L'opérateur `in` permet de questionner si un élément fait partie d'une liste. Par exemple."
   ]
  },
  {
   "cell_type": "code",
   "execution_count": 14,
   "id": "casual-viking",
   "metadata": {},
   "outputs": [
    {
     "data": {
      "text/plain": [
       "True"
      ]
     },
     "execution_count": 14,
     "metadata": {},
     "output_type": "execute_result"
    }
   ],
   "source": [
    "'papier' in coups"
   ]
  },
  {
   "cell_type": "code",
   "execution_count": 15,
   "id": "pursuant-queen",
   "metadata": {},
   "outputs": [
    {
     "data": {
      "text/plain": [
       "False"
      ]
     },
     "execution_count": 15,
     "metadata": {},
     "output_type": "execute_result"
    }
   ],
   "source": [
    "'ciso' in coups"
   ]
  },
  {
   "cell_type": "markdown",
   "id": "tropical-swimming",
   "metadata": {},
   "source": [
    "Nous pouvons maintentant ajouter la vérification."
   ]
  },
  {
   "cell_type": "code",
   "execution_count": 71,
   "id": "biblical-evans",
   "metadata": {},
   "outputs": [
    {
     "name": "stdout",
     "output_type": "stream",
     "text": [
      "choissisez entre: pierre papier ciseaux\n"
     ]
    },
    {
     "name": "stdin",
     "output_type": "stream",
     "text": [
      "votre choix: pierre\n"
     ]
    },
    {
     "name": "stdout",
     "output_type": "stream",
     "text": [
      "ok\n"
     ]
    },
    {
     "name": "stdin",
     "output_type": "stream",
     "text": [
      "votre choix ciso\n"
     ]
    },
    {
     "name": "stdout",
     "output_type": "stream",
     "text": [
      "ciso n'est pas dans ['pierre', 'papier', 'ciseaux']\n"
     ]
    },
    {
     "name": "stdin",
     "output_type": "stream",
     "text": [
      "votre choix \n"
     ]
    },
    {
     "name": "stdout",
     "output_type": "stream",
     "text": [
      "game over\n"
     ]
    }
   ],
   "source": [
    "coups = ['pierre', 'papier', 'ciseaux']\n",
    "print('choissisez entre:', *coups)\n",
    "\n",
    "x = input('votre choix:')\n",
    "while x :\n",
    "    if x in coups:\n",
    "        print('ok')\n",
    "    else:\n",
    "        print(x, \"n'est pas dans\", coups)\n",
    "    x = input('votre choix')\n",
    "    \n",
    "print('game over')"
   ]
  },
  {
   "cell_type": "markdown",
   "id": "radio-palestinian",
   "metadata": {},
   "source": [
    "## Choisir avec des raccourcis\n",
    "\n",
    "Pour jouer facilement, il est préférable d'entrer une seule lettre, que de taper un mot entier."
   ]
  },
  {
   "cell_type": "code",
   "execution_count": 73,
   "id": "clinical-checklist",
   "metadata": {},
   "outputs": [
    {
     "name": "stdout",
     "output_type": "stream",
     "text": [
      "choissisez entre: 1 2 3\n"
     ]
    },
    {
     "name": "stdin",
     "output_type": "stream",
     "text": [
      "votre choix: 1\n"
     ]
    },
    {
     "name": "stdout",
     "output_type": "stream",
     "text": [
      "ok\n"
     ]
    },
    {
     "name": "stdin",
     "output_type": "stream",
     "text": [
      "votre choix: 4\n"
     ]
    },
    {
     "name": "stdout",
     "output_type": "stream",
     "text": [
      "4 n'est pas dans 1 2 3\n"
     ]
    },
    {
     "name": "stdin",
     "output_type": "stream",
     "text": [
      "votre choix: \n"
     ]
    },
    {
     "name": "stdout",
     "output_type": "stream",
     "text": [
      "GAME OVER\n"
     ]
    }
   ],
   "source": [
    "coups = ['1', '2', '3']\n",
    "print('choissisez entre:', *coups)\n",
    "\n",
    "x = input('votre choix:')\n",
    "while x :\n",
    "    if x in coups:\n",
    "        print('ok')\n",
    "    else:\n",
    "        print(x, \"n'est pas dans\", *coups)\n",
    "    x = input('votre choix:')\n",
    "    \n",
    "print('GAME OVER')"
   ]
  },
  {
   "cell_type": "markdown",
   "id": "dynamic-still",
   "metadata": {},
   "source": [
    "On aurait aussi pu choisir les lettres:\n",
    "\n",
    "- `f` = feuille\n",
    "- `p` = pierre\n",
    "- `c` = ciseaux"
   ]
  },
  {
   "cell_type": "code",
   "execution_count": 32,
   "id": "looking-couple",
   "metadata": {},
   "outputs": [
    {
     "data": {
      "text/plain": [
       "True"
      ]
     },
     "execution_count": 32,
     "metadata": {},
     "output_type": "execute_result"
    }
   ],
   "source": [
    "coups = ['f', 'p', 'c']\n",
    "'p' in coups"
   ]
  },
  {
   "cell_type": "markdown",
   "id": "electoral-evans",
   "metadata": {},
   "source": [
    "## Transformer le choix\n",
    "\n",
    "Dans le jeux, il est avantageux de transformer les indices (0, 1, 2) en mots."
   ]
  },
  {
   "cell_type": "code",
   "execution_count": 78,
   "id": "smoking-norfolk",
   "metadata": {},
   "outputs": [
    {
     "name": "stdout",
     "output_type": "stream",
     "text": [
      "0=pierre, 1=papier, 2=ciseaux\n"
     ]
    },
    {
     "name": "stdin",
     "output_type": "stream",
     "text": [
      "votre choix: 0\n"
     ]
    },
    {
     "name": "stdout",
     "output_type": "stream",
     "text": [
      "💎 pierre\n"
     ]
    },
    {
     "name": "stdin",
     "output_type": "stream",
     "text": [
      "votre choix: 1\n"
     ]
    },
    {
     "name": "stdout",
     "output_type": "stream",
     "text": [
      "📜 papier\n"
     ]
    },
    {
     "name": "stdin",
     "output_type": "stream",
     "text": [
      "votre choix: \n"
     ]
    },
    {
     "name": "stdout",
     "output_type": "stream",
     "text": [
      "G A M E   O V E R\n"
     ]
    }
   ],
   "source": [
    "coups = ['pierre', 'papier', 'ciseaux']\n",
    "emoji = '💎📜✂️'\n",
    "print('0=pierre, 1=papier, 2=ciseaux')\n",
    "\n",
    "x = input('votre choix:')\n",
    "while x :\n",
    "    x = int(x)\n",
    "    print(emoji[x], coups[x])\n",
    "    x = input('votre choix:')\n",
    "\n",
    "print('G A M E   O V E R')"
   ]
  },
  {
   "cell_type": "markdown",
   "id": "dying-challenge",
   "metadata": {},
   "source": [
    "## Choix aléatoire\n",
    "\n",
    "Le module `random` permet de choisir des éléments aléatoires."
   ]
  },
  {
   "cell_type": "markdown",
   "id": "electoral-unknown",
   "metadata": {},
   "source": [
    "import random"
   ]
  },
  {
   "cell_type": "markdown",
   "id": "inappropriate-organ",
   "metadata": {},
   "source": [
    "La fonction `random.randint(0, 2)` retourne un entier aléatoire dans l'intervalle [0, 2]."
   ]
  },
  {
   "cell_type": "code",
   "execution_count": 82,
   "id": "matched-profession",
   "metadata": {},
   "outputs": [
    {
     "name": "stdout",
     "output_type": "stream",
     "text": [
      "1 = 💎\n",
      "1 = 💎\n",
      "2 = ✂️\n",
      "2 = ✂️\n",
      "0 = 📜\n"
     ]
    }
   ],
   "source": [
    "coups = ['📜', '💎', '✂️']\n",
    "for i in range(5):\n",
    "    x = random.randint(0, 2)\n",
    "    print(x, '=', coups[x])"
   ]
  },
  {
   "cell_type": "code",
   "execution_count": 34,
   "id": "referenced-barcelona",
   "metadata": {},
   "outputs": [
    {
     "name": "stdout",
     "output_type": "stream",
     "text": [
      "ciseaux\n",
      "papier\n",
      "ciseaux\n",
      "pierre\n",
      "ciseaux\n"
     ]
    }
   ],
   "source": [
    "coups = ['pierre', 'papier', 'ciseaux']\n",
    "\n",
    "for i in range(5):\n",
    "    x = random.choice(coups)\n",
    "    print(x)"
   ]
  },
  {
   "cell_type": "markdown",
   "id": "plain-palace",
   "metadata": {},
   "source": [
    "## Jouer contre l'ordinateur\n",
    "\n",
    "Dans ce jeux vous (you) allez jouer contre l'ordinateur (bot).\n",
    "L'ordinateur choisit une des 3 possibilités de façon aléatoire."
   ]
  },
  {
   "cell_type": "code",
   "execution_count": 83,
   "id": "refined-bidder",
   "metadata": {},
   "outputs": [
    {
     "name": "stdout",
     "output_type": "stream",
     "text": [
      "0=pierre, 1=papier, 2=ciseaux\n"
     ]
    },
    {
     "name": "stdin",
     "output_type": "stream",
     "text": [
      "votre choix: 0\n"
     ]
    },
    {
     "name": "stdout",
     "output_type": "stream",
     "text": [
      "pierre contre papier\n"
     ]
    },
    {
     "name": "stdin",
     "output_type": "stream",
     "text": [
      "votre choix: 2\n"
     ]
    },
    {
     "name": "stdout",
     "output_type": "stream",
     "text": [
      "ciseaux contre papier\n"
     ]
    },
    {
     "name": "stdin",
     "output_type": "stream",
     "text": [
      "votre choix: \n"
     ]
    },
    {
     "name": "stdout",
     "output_type": "stream",
     "text": [
      "game over\n"
     ]
    }
   ],
   "source": [
    "coups = ['pierre', 'papier', 'ciseaux']\n",
    "print('0=pierre, 1=papier, 2=ciseaux')\n",
    "\n",
    "x = input('votre choix:')\n",
    "while x :\n",
    "    x = int(x)\n",
    "    bot = random.randint(0, 2)\n",
    "    print(coups[x], 'contre' ,coups[bot])\n",
    "    x = input('votre choix:')\n",
    "\n",
    "print('game over')"
   ]
  },
  {
   "cell_type": "markdown",
   "id": "independent-rachel",
   "metadata": {},
   "source": [
    "## Qui gagne ?\n",
    "\n",
    "Si les deux coups sont les même, c'est un match nul, c'est facile à détécter."
   ]
  },
  {
   "cell_type": "code",
   "execution_count": 85,
   "id": "elder-visit",
   "metadata": {},
   "outputs": [
    {
     "name": "stdout",
     "output_type": "stream",
     "text": [
      "match nul\n"
     ]
    }
   ],
   "source": [
    "x = 0\n",
    "bot = 0\n",
    "if x == bot: \n",
    "    print('match nul')"
   ]
  },
  {
   "cell_type": "markdown",
   "id": "incident-hunger",
   "metadata": {},
   "source": [
    "Si les deux coups sont différents, c'est plus compliqué\n",
    "\n",
    "- pierre (0) est plus fort que ciseaux (2)\n",
    "- papier (1) est plus fort que pierre (0)\n",
    "- ciseaux (2) est plus fort que papier (1)\n",
    "\n",
    "Testez avec différents combinaisons"
   ]
  },
  {
   "cell_type": "code",
   "execution_count": 87,
   "id": "literary-giant",
   "metadata": {},
   "outputs": [
    {
     "name": "stdout",
     "output_type": "stream",
     "text": [
      "ordi gagne\n"
     ]
    }
   ],
   "source": [
    "x = 1\n",
    "bot = 2\n",
    "if x == bot :\n",
    "    print('match nul')\n",
    "elif x == 0 and bot == 2:\n",
    "    print('humain gagne')\n",
    "elif x == 1 and bot == 0:\n",
    "    print('humain gagne')\n",
    "elif x == 2 and bot == 1:\n",
    "    print('humain gagne')\n",
    "else:\n",
    "    print('ordi gagne')"
   ]
  },
  {
   "cell_type": "markdown",
   "id": "referenced-emission",
   "metadata": {},
   "source": [
    "## Garder un score\n",
    "\n",
    "Utilisez des variables pour garder un score. Au début il faut les initialiser."
   ]
  },
  {
   "cell_type": "code",
   "execution_count": 88,
   "id": "thorough-steel",
   "metadata": {},
   "outputs": [],
   "source": [
    "humain = 0\n",
    "ordi = 0"
   ]
  },
  {
   "cell_type": "markdown",
   "id": "raising-cassette",
   "metadata": {},
   "source": [
    "Pendant le jeu vous allez incrémenter le score si l'un ou l'autre gagne."
   ]
  },
  {
   "cell_type": "code",
   "execution_count": 89,
   "id": "typical-explosion",
   "metadata": {},
   "outputs": [],
   "source": [
    "humain += 1\n",
    "ordi += 1\n",
    "humain += 1"
   ]
  },
  {
   "cell_type": "code",
   "execution_count": 90,
   "id": "advised-contents",
   "metadata": {},
   "outputs": [
    {
     "name": "stdout",
     "output_type": "stream",
     "text": [
      "score = 2 : 1\n"
     ]
    }
   ],
   "source": [
    "print('score =', humain, ':', ordi)"
   ]
  },
  {
   "cell_type": "markdown",
   "id": "centered-adobe",
   "metadata": {},
   "source": [
    "## Projet\n",
    "\n",
    "Combinez toutes les éléments pour créer un jeux vidéo où\n",
    "\n",
    "* vous jouez contre l'ordinateur\n",
    "* vous continuez jusqu'à une condition de fin\n",
    "* vous vérifiez si le choix est permis\n",
    "* vous affichez les coups\n",
    "* vous décidez qui gagne\n",
    "* vous tenez compte du score"
   ]
  },
  {
   "cell_type": "code",
   "execution_count": null,
   "id": "processed-motor",
   "metadata": {},
   "outputs": [],
   "source": []
  }
 ],
 "metadata": {
  "kernelspec": {
   "display_name": "Python 3",
   "language": "python",
   "name": "python3"
  },
  "language_info": {
   "codemirror_mode": {
    "name": "ipython",
    "version": 3
   },
   "file_extension": ".py",
   "mimetype": "text/x-python",
   "name": "python",
   "nbconvert_exporter": "python",
   "pygments_lexer": "ipython3",
   "version": "3.7.9"
  }
 },
 "nbformat": 4,
 "nbformat_minor": 5
}
