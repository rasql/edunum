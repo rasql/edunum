{
 "cells": [
  {
   "cell_type": "markdown",
   "id": "artificial-proof",
   "metadata": {},
   "source": [
    "# Jeu : pierre-papier-ciseaux\n",
    "\n",
    "Le jeu **pierre-papier-ciseaux** (feuille-caillou-ciseaux) se joue avec les mains.  \n",
    "![](https://media.giphy.com/media/3ohzdGnD5vAud1NCZW/giphy.gif)"
   ]
  },
  {
   "cell_type": "markdown",
   "id": "egyptian-discovery",
   "metadata": {},
   "source": [
    "## Description\n",
    "\n",
    "Les deux joueurs choisissent simultanément l'un des trois coups possibles:\n",
    "\n",
    "![](ppc.png)\n",
    "\n",
    "- pierre bat ciseaux\n",
    "- papier bat pierre\n",
    "- ciseaux bat papier\n",
    "\n",
    "Ce jeu est aussi connu sous le nom de **chifoumi**.  \n",
    "Vous trouvez plus d'info sur [Wikipédia](https://fr.wikipedia.org/wiki/Pierre-papier-ciseaux)."
   ]
  },
  {
   "cell_type": "markdown",
   "id": "corresponding-bernard",
   "metadata": {},
   "source": [
    "## Exemple online\n",
    "\n",
    "Allez sur le site [chifoumi.io](https://chifoumi.io) pour avoir une idée du jeu.  \n",
    "Vous (you) allez jouer contre l'ordinateur (bot). \n",
    "\n",
    "![](ppc_chifoumi.png)\n"
   ]
  },
  {
   "cell_type": "markdown",
   "id": "dried-storage",
   "metadata": {},
   "source": [
    "## Votre projet\n",
    "\n",
    "C'est un exemple d'un jeu vidéo où un humain joue contre l'ordinateur.\n",
    "\n",
    "- vous continuez jusqu'à une condition de fin\n",
    "- vous vérifiez si le choix est permis\n",
    "- vous affichez les coups\n",
    "- vous décidez qui gagne\n",
    "- vous tenez compte du score tout au long de la partie\n",
    "\n",
    "Ce jeu est simple, mais il vous permet de comprendre le fonctionnement d'un jeu vidéo."
   ]
  },
  {
   "cell_type": "markdown",
   "id": "nearby-alcohol",
   "metadata": {},
   "source": [
    "## Représentation des coups\n",
    "\n",
    "À chaque tour il y a 3 coups possibles.\n",
    "Il a différentes manières de représenter ces 3 options.\n",
    "Une façon est d'utiliser des chaînes de caractères."
   ]
  },
  {
   "cell_type": "code",
   "execution_count": 58,
   "id": "distant-stewart",
   "metadata": {},
   "outputs": [],
   "source": [
    "coups = ['pierre', 'papier', 'ciseaux']"
   ]
  },
  {
   "cell_type": "markdown",
   "id": "lightweight-saying",
   "metadata": {},
   "source": [
    "Une autre façon plus efficace est d'utiliser juste des entiers (0, 1, 2).  \n",
    "En commençant par 0, nous pouvons utiliser ces entiers comme indice pour une liste avec les noms des coups.\n",
    "\n",
    "- 0 pour pierre\n",
    "- 1 pour papier\n",
    "- 2 pour ciseaux"
   ]
  },
  {
   "cell_type": "code",
   "execution_count": 59,
   "id": "transsexual-strength",
   "metadata": {},
   "outputs": [],
   "source": [
    "coups = [0, 1, 2]"
   ]
  },
  {
   "cell_type": "markdown",
   "id": "municipal-profession",
   "metadata": {},
   "source": [
    "Bien sûr, vous pouvez aussi utiliser des émojis pour rendre l'apparence plus cool."
   ]
  },
  {
   "cell_type": "code",
   "execution_count": 2,
   "id": "separated-report",
   "metadata": {},
   "outputs": [],
   "source": [
    "coups = ['💎', '📜', '✂️']"
   ]
  },
  {
   "cell_type": "markdown",
   "id": "burning-missouri",
   "metadata": {},
   "source": [
    "## Input-output\n",
    "\n",
    "Pour ce jeu, vous utilisez la fonction `input()` pour demander le choix de l'utilisateur. Vous utilisez la fonction `print()` pour communiquer avec lui.\n",
    "\n",
    "Le principe de base est:"
   ]
  },
  {
   "cell_type": "code",
   "execution_count": 61,
   "id": "relative-shanghai",
   "metadata": {},
   "outputs": [
    {
     "name": "stdin",
     "output_type": "stream",
     "text": [
      "votre choix:  pierre\n"
     ]
    },
    {
     "name": "stdout",
     "output_type": "stream",
     "text": [
      "vous avez choisi pierre\n"
     ]
    }
   ],
   "source": [
    "x = input('votre choix: ')\n",
    "print('vous avez choisi', x)"
   ]
  },
  {
   "cell_type": "markdown",
   "id": "sustained-shield",
   "metadata": {},
   "source": [
    "## Boucle de jeu\n",
    "\n",
    "Pour jouer à ce jeu, vous utilisez la boucle `while` pour répéter les échanges.\n",
    "Une condition de fin sera nécessaire.\n",
    "Une manière fréquemment utilisée pour terminer un jeu est d'appuyer tout simplement sur la touche **retour**.\n",
    "Dans ce cas `input()` retourne une chaine vide.\n",
    "   \n",
    "    x = ''\n",
    "    \n",
    "La chaine vide est interprétée comme valeur booléenne `False`.  \n",
    "Essayez différentes valeurs."
   ]
  },
  {
   "cell_type": "code",
   "execution_count": 70,
   "id": "alien-ceiling",
   "metadata": {},
   "outputs": [
    {
     "data": {
      "text/plain": [
       "False"
      ]
     },
     "execution_count": 70,
     "metadata": {},
     "output_type": "execute_result"
    }
   ],
   "source": [
    "bool('')"
   ]
  },
  {
   "cell_type": "code",
   "execution_count": 91,
   "id": "about-karen",
   "metadata": {},
   "outputs": [
    {
     "data": {
      "text/plain": [
       "True"
      ]
     },
     "execution_count": 91,
     "metadata": {},
     "output_type": "execute_result"
    }
   ],
   "source": [
    "bool('pierre')"
   ]
  },
  {
   "cell_type": "markdown",
   "id": "later-assets",
   "metadata": {},
   "source": [
    "Donc voici une boucle de jeu. Elle continue jusqu'à ce que vous appuyez sur **retour** tout seul."
   ]
  },
  {
   "cell_type": "code",
   "execution_count": 67,
   "id": "cooked-respect",
   "metadata": {},
   "outputs": [
    {
     "name": "stdin",
     "output_type": "stream",
     "text": [
      "votre choix: papier\n",
      "votre choix: \n"
     ]
    },
    {
     "name": "stdout",
     "output_type": "stream",
     "text": [
      "game over\n"
     ]
    }
   ],
   "source": [
    "x = input('votre choix:')\n",
    "while x: \n",
    "    x = input('votre choix:')\n",
    "    \n",
    "print('game over')"
   ]
  },
  {
   "cell_type": "markdown",
   "id": "automotive-amendment",
   "metadata": {},
   "source": [
    "## Vérification\n",
    "\n",
    "Un jeu vérifie si les entrées sont permises. Établissons d'abord une liste des coups qui sont permis."
   ]
  },
  {
   "cell_type": "code",
   "execution_count": 13,
   "id": "desirable-fabric",
   "metadata": {},
   "outputs": [],
   "source": [
    "coups = ['pierre', 'papier', 'ciseaux']"
   ]
  },
  {
   "cell_type": "markdown",
   "id": "dynamic-radiation",
   "metadata": {},
   "source": [
    "L'opérateur `in` permet de questionner si un élément fait partie d'une liste. Par exemple."
   ]
  },
  {
   "cell_type": "code",
   "execution_count": 14,
   "id": "consecutive-recruitment",
   "metadata": {},
   "outputs": [
    {
     "data": {
      "text/plain": [
       "True"
      ]
     },
     "execution_count": 14,
     "metadata": {},
     "output_type": "execute_result"
    }
   ],
   "source": [
    "'papier' in coups"
   ]
  },
  {
   "cell_type": "code",
   "execution_count": 15,
   "id": "handed-bread",
   "metadata": {},
   "outputs": [
    {
     "data": {
      "text/plain": [
       "False"
      ]
     },
     "execution_count": 15,
     "metadata": {},
     "output_type": "execute_result"
    }
   ],
   "source": [
    "'ciso' in coups"
   ]
  },
  {
   "cell_type": "markdown",
   "id": "smaller-munich",
   "metadata": {},
   "source": [
    "Nous pouvons maintenant ajouter la vérification."
   ]
  },
  {
   "cell_type": "code",
   "execution_count": 1,
   "id": "architectural-watershed",
   "metadata": {},
   "outputs": [
    {
     "name": "stdout",
     "output_type": "stream",
     "text": [
      "choisissez entre: pierre papier ciseaux\n"
     ]
    },
    {
     "name": "stdin",
     "output_type": "stream",
     "text": [
      "votre choix: pierre\n"
     ]
    },
    {
     "name": "stdout",
     "output_type": "stream",
     "text": [
      "ok\n"
     ]
    },
    {
     "name": "stdin",
     "output_type": "stream",
     "text": [
      "votre choix papi\n"
     ]
    },
    {
     "name": "stdout",
     "output_type": "stream",
     "text": [
      "papi n'est pas dans ['pierre', 'papier', 'ciseaux']\n"
     ]
    },
    {
     "name": "stdin",
     "output_type": "stream",
     "text": [
      "votre choix \n"
     ]
    },
    {
     "name": "stdout",
     "output_type": "stream",
     "text": [
      "game over\n"
     ]
    }
   ],
   "source": [
    "coups = ['pierre', 'papier', 'ciseaux']\n",
    "print('choisissez entre:', *coups)\n",
    "\n",
    "x = input('votre choix:')\n",
    "while x :\n",
    "    if x in coups:\n",
    "        print('ok')\n",
    "    else:\n",
    "        print(x, \"n'est pas dans\", coups)\n",
    "    x = input('votre choix')\n",
    "    \n",
    "print('game over')"
   ]
  },
  {
   "cell_type": "markdown",
   "id": "cubic-friday",
   "metadata": {},
   "source": [
    "## Choisir avec des raccourcis\n",
    "\n",
    "Pour jouer plus facilement, il est préférable d'entrer un seul caractère, plutôt que de taper un mot entier.\n",
    "\n",
    "**Attention** : ici, la liste des coups sont les caractères `'0'`, `'1'` et `'2'` et non les entiers `0`, `1` et `2`"
   ]
  },
  {
   "cell_type": "code",
   "execution_count": 3,
   "id": "convinced-hollow",
   "metadata": {},
   "outputs": [
    {
     "name": "stdout",
     "output_type": "stream",
     "text": [
      "choissisez entre: 0 1 2\n"
     ]
    },
    {
     "name": "stdin",
     "output_type": "stream",
     "text": [
      "votre choix: 2\n"
     ]
    },
    {
     "name": "stdout",
     "output_type": "stream",
     "text": [
      "ok\n"
     ]
    },
    {
     "name": "stdin",
     "output_type": "stream",
     "text": [
      "votre choix: 3\n"
     ]
    },
    {
     "name": "stdout",
     "output_type": "stream",
     "text": [
      "3 n'est pas dans 0 1 2\n"
     ]
    },
    {
     "name": "stdin",
     "output_type": "stream",
     "text": [
      "votre choix: \n"
     ]
    },
    {
     "name": "stdout",
     "output_type": "stream",
     "text": [
      "GAME OVER\n"
     ]
    }
   ],
   "source": [
    "coups = ['0', '1', '2']\n",
    "print('choissisez entre:', *coups)\n",
    "\n",
    "x = input('votre choix:')\n",
    "while x :\n",
    "    if x in coups:\n",
    "        print('ok')\n",
    "    else:\n",
    "        print(x, \"n'est pas dans\", *coups)\n",
    "    x = input('votre choix:')\n",
    "    \n",
    "print('GAME OVER')"
   ]
  },
  {
   "cell_type": "markdown",
   "id": "normal-coast",
   "metadata": {},
   "source": [
    "## Transformer le choix\n",
    "\n",
    "Dans le jeu, il est avantageux de transformer les indices (0, 1, 2) en mots.\n",
    "\n",
    "**Attention**   \n",
    "La fonction `input()` retourne un caractère et non pas un nombre.  \n",
    "Il faut le transformer en entier avec la fonction `int()`.  \n",
    "L'instruction `x = int(x)` transforme le caractère `'1'` en nombre `1`.\n"
   ]
  },
  {
   "cell_type": "code",
   "execution_count": null,
   "id": "extreme-classic",
   "metadata": {},
   "outputs": [
    {
     "name": "stdout",
     "output_type": "stream",
     "text": [
      "0=pierre, 1=papier, 2=ciseaux\n"
     ]
    }
   ],
   "source": [
    "coups = ['pierre', 'papier', 'ciseaux']\n",
    "emoji = ['💎', '📜', '✂️']\n",
    "print('0=pierre, 1=papier, 2=ciseaux')\n",
    "\n",
    "x = input('votre choix:')\n",
    "while x :\n",
    "    x = int(x)\n",
    "    print(emoji[x], coups[x])\n",
    "    x = input('votre choix:')\n",
    "\n",
    "print('G A M E   O V E R')"
   ]
  },
  {
   "cell_type": "markdown",
   "id": "gentle-lobby",
   "metadata": {},
   "source": [
    "## Choix aléatoire\n",
    "\n",
    "Le module `random` permet de choisir des éléments aléatoires.  \n",
    "La fonction `random.randint(0, 2)` retourne un entier aléatoire dans l'intervalle [0, 2]."
   ]
  },
  {
   "cell_type": "code",
   "execution_count": 82,
   "id": "radical-baking",
   "metadata": {},
   "outputs": [
    {
     "name": "stdout",
     "output_type": "stream",
     "text": [
      "1 = 💎\n",
      "1 = 💎\n",
      "2 = ✂️\n",
      "2 = ✂️\n",
      "0 = 📜\n"
     ]
    }
   ],
   "source": [
    "import random\n",
    "\n",
    "coups = ['💎', '📜', '✂️']\n",
    "for i in range(5):\n",
    "    x = random.randint(0, 2)\n",
    "    print(x, '=', coups[x])"
   ]
  },
  {
   "cell_type": "code",
   "execution_count": 8,
   "id": "compliant-rehabilitation",
   "metadata": {},
   "outputs": [
    {
     "name": "stdout",
     "output_type": "stream",
     "text": [
      "pierre\n",
      "pierre\n",
      "papier\n",
      "papier\n",
      "ciseaux\n"
     ]
    }
   ],
   "source": [
    "coups = ['pierre', 'papier', 'ciseaux']\n",
    "\n",
    "for i in range(5):\n",
    "    x = random.randint(0, 2)\n",
    "    print(coups[x])"
   ]
  },
  {
   "cell_type": "markdown",
   "id": "handled-dimension",
   "metadata": {},
   "source": [
    "## Jouer contre l'ordinateur\n",
    "\n",
    "Dans ce jeux vous (you) allez jouer contre l'ordinateur (bot).\n",
    "L'ordinateur choisit une des 3 possibilités de façon aléatoire."
   ]
  },
  {
   "cell_type": "code",
   "execution_count": 9,
   "id": "inappropriate-california",
   "metadata": {},
   "outputs": [
    {
     "name": "stdout",
     "output_type": "stream",
     "text": [
      "0=pierre, 1=papier, 2=ciseaux\n"
     ]
    },
    {
     "name": "stdin",
     "output_type": "stream",
     "text": [
      "votre choix: 0\n"
     ]
    },
    {
     "name": "stdout",
     "output_type": "stream",
     "text": [
      "pierre contre papier\n"
     ]
    },
    {
     "name": "stdin",
     "output_type": "stream",
     "text": [
      "votre choix: 1\n"
     ]
    },
    {
     "name": "stdout",
     "output_type": "stream",
     "text": [
      "papier contre ciseaux\n"
     ]
    },
    {
     "name": "stdin",
     "output_type": "stream",
     "text": [
      "votre choix: \n"
     ]
    },
    {
     "name": "stdout",
     "output_type": "stream",
     "text": [
      "game over\n"
     ]
    }
   ],
   "source": [
    "coups = ['pierre', 'papier', 'ciseaux']\n",
    "print('0=pierre, 1=papier, 2=ciseaux')\n",
    "\n",
    "x = input('votre choix:')\n",
    "while x :\n",
    "    you = int(x)\n",
    "    bot = random.randint(0, 2)\n",
    "    print(coups[you], 'contre' ,coups[bot])\n",
    "    x = input('votre choix:')\n",
    "\n",
    "print('game over')"
   ]
  },
  {
   "cell_type": "markdown",
   "id": "latin-seeker",
   "metadata": {},
   "source": [
    "## Qui gagne ?\n",
    "\n",
    "Si les deux coups sont les mêmes, c'est un match nul et c'est facile à détecter."
   ]
  },
  {
   "cell_type": "code",
   "execution_count": 85,
   "id": "removed-front",
   "metadata": {},
   "outputs": [
    {
     "name": "stdout",
     "output_type": "stream",
     "text": [
      "match nul\n"
     ]
    }
   ],
   "source": [
    "you = 0\n",
    "bot = 0\n",
    "if you == bot: \n",
    "    print('match nul')"
   ]
  },
  {
   "cell_type": "markdown",
   "id": "noticed-scheduling",
   "metadata": {},
   "source": [
    "Si les deux coups sont différents, c'est plus compliqué\n",
    "\n",
    "- pierre (0) est plus fort que ciseaux (2)\n",
    "- papier (1) est plus fort que pierre (0)\n",
    "- ciseaux (2) est plus fort que papier (1)\n",
    "\n",
    "Testez avec différents combinaisons.  \n",
    "Modifiez les variables `you` et `bot` et testez 3 cas différents."
   ]
  },
  {
   "cell_type": "code",
   "execution_count": 87,
   "id": "protected-swiss",
   "metadata": {},
   "outputs": [
    {
     "name": "stdout",
     "output_type": "stream",
     "text": [
      "ordi gagne\n"
     ]
    }
   ],
   "source": [
    "you = 1\n",
    "bot = 2\n",
    "if you == bot :\n",
    "    print('match nul')\n",
    "elif you == 0 and bot == 2:\n",
    "    print('humain gagne')\n",
    "elif you == 1 and bot == 0:\n",
    "    print('humain gagne')\n",
    "elif you == 2 and bot == 1:\n",
    "    print('humain gagne')\n",
    "else:\n",
    "    print('ordi gagne')"
   ]
  },
  {
   "cell_type": "markdown",
   "id": "dying-chess",
   "metadata": {},
   "source": [
    "## Garder un score\n",
    "\n",
    "Utilisez des variables pour garder un score. Au début il faut les initialiser."
   ]
  },
  {
   "cell_type": "code",
   "execution_count": 10,
   "id": "naughty-pencil",
   "metadata": {},
   "outputs": [],
   "source": [
    "score_you = 0\n",
    "score_bot = 0"
   ]
  },
  {
   "cell_type": "markdown",
   "id": "choice-salvation",
   "metadata": {},
   "source": [
    "Pendant le jeu vous allez incrémenter le score si l'un ou l'autre gagne."
   ]
  },
  {
   "cell_type": "code",
   "execution_count": 11,
   "id": "fourth-soldier",
   "metadata": {},
   "outputs": [],
   "source": [
    "score_you = score_you + 1\n",
    "score_bot = score_bot + 1\n",
    "score_bot = score_bot + 1"
   ]
  },
  {
   "cell_type": "markdown",
   "id": "peripheral-plastic",
   "metadata": {},
   "source": [
    "Cette incrémentation peut être simplifié avec l'opérateur `+=`."
   ]
  },
  {
   "cell_type": "code",
   "execution_count": 12,
   "id": "scheduled-alloy",
   "metadata": {},
   "outputs": [],
   "source": [
    "score_you += 1\n",
    "score_bot += 1\n",
    "score_bot += 1"
   ]
  },
  {
   "cell_type": "code",
   "execution_count": 13,
   "id": "approved-rebel",
   "metadata": {},
   "outputs": [
    {
     "name": "stdout",
     "output_type": "stream",
     "text": [
      "score = 2 : 4\n"
     ]
    }
   ],
   "source": [
    "print('score =', score_you, ':', score_bot)"
   ]
  },
  {
   "cell_type": "markdown",
   "id": "approximate-asset",
   "metadata": {},
   "source": [
    "## Projet\n",
    "\n",
    "Combinez tous les éléments pour créer un jeu vidéo où\n",
    "\n",
    "* vous jouez contre l'ordinateur\n",
    "* vous continuez jusqu'à une condition de fin\n",
    "* vous vérifiez si le choix est permis\n",
    "* vous affichez les coups\n",
    "* vous décidez qui gagne à chaque tour\n",
    "* vous tenez compte du score\n",
    "* vous décidez qui gagne la partie"
   ]
  },
  {
   "cell_type": "code",
   "execution_count": null,
   "id": "smooth-syracuse",
   "metadata": {},
   "outputs": [],
   "source": []
  }
 ],
 "metadata": {
  "kernelspec": {
   "display_name": "Python 3",
   "language": "python",
   "name": "python3"
  },
  "language_info": {
   "codemirror_mode": {
    "name": "ipython",
    "version": 3
   },
   "file_extension": ".py",
   "mimetype": "text/x-python",
   "name": "python",
   "nbconvert_exporter": "python",
   "pygments_lexer": "ipython3",
   "version": "3.7.9"
  }
 },
 "nbformat": 4,
 "nbformat_minor": 5
}
