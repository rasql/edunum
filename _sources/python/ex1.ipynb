{
 "cells": [
  {
   "cell_type": "markdown",
   "metadata": {},
   "source": [
    "# Exercices Boucles\n",
    "\n",
    "Les exercices ci-dessous sont écrits avec des boucles.  \n",
    "Essayez de trouver la solution sans cliquer sur le bouton **click to show (+)**."
   ]
  },
  {
   "cell_type": "markdown",
   "metadata": {},
   "source": [
    "## Carrés\n",
    "\n",
    "Quel est le code pour afficher ces 8 lignes de carrés ?  \n",
    "(2 lignes de code suffisent)"
   ]
  },
  {
   "cell_type": "code",
   "execution_count": 47,
   "metadata": {
    "tags": [
     "hide-input"
    ]
   },
   "outputs": [
    {
     "name": "stdout",
     "output_type": "stream",
     "text": [
      "0 ** 2 = 0\n",
      "1 ** 2 = 1\n",
      "2 ** 2 = 4\n",
      "3 ** 2 = 9\n",
      "4 ** 2 = 16\n",
      "5 ** 2 = 25\n",
      "6 ** 2 = 36\n",
      "7 ** 2 = 49\n"
     ]
    }
   ],
   "source": [
    "for i in range(8):\n",
    "    print(i, '** 2 =', i ** 2)"
   ]
  },
  {
   "cell_type": "markdown",
   "metadata": {},
   "source": [
    "## Puissances de 2\n",
    "\n",
    "Quel est le code pour afficher ces 8 lignes de puissances de 2 ?  \n",
    "(2 lignes de code suffisent)"
   ]
  },
  {
   "cell_type": "code",
   "execution_count": 48,
   "metadata": {
    "tags": [
     "hide-input"
    ]
   },
   "outputs": [
    {
     "name": "stdout",
     "output_type": "stream",
     "text": [
      "2 ** 0 = 1\n",
      "2 ** 1 = 2\n",
      "2 ** 2 = 4\n",
      "2 ** 3 = 8\n",
      "2 ** 4 = 16\n",
      "2 ** 5 = 32\n",
      "2 ** 6 = 64\n",
      "2 ** 7 = 128\n"
     ]
    }
   ],
   "source": [
    "for i in range(8):\n",
    "    print('2 **', i, '=', 2 ** i)"
   ]
  },
  {
   "cell_type": "markdown",
   "metadata": {},
   "source": [
    "## Des carrés sur une ligne\n",
    "\n",
    "Quel est le code pour afficher ces carrés sur une seule ligne ?"
   ]
  },
  {
   "cell_type": "code",
   "execution_count": 1,
   "metadata": {
    "tags": [
     "hide-input"
    ]
   },
   "outputs": [
    {
     "name": "stdout",
     "output_type": "stream",
     "text": [
      "1, 4, 9, 16, 25, 36, 49, 64, 81, 100, 121, 144, 169, 196, 225, 256, 289, 324, 361, 400, "
     ]
    }
   ],
   "source": [
    "for i in range(1, 21):\n",
    "    print(i ** 2, end=', ')"
   ]
  },
  {
   "cell_type": "markdown",
   "metadata": {},
   "source": [
    "## Des puissances sur une ligne\n",
    "\n",
    "Quel est le code pour afficher ces carrés sur une seule ligne ?"
   ]
  },
  {
   "cell_type": "code",
   "execution_count": 2,
   "metadata": {
    "tags": [
     "hide-input"
    ]
   },
   "outputs": [
    {
     "name": "stdout",
     "output_type": "stream",
     "text": [
      "1, 2, 4, 8, 16, 32, 64, 128, 256, 512, 1024, 2048, 4096, 8192, 16384, 32768, "
     ]
    }
   ],
   "source": [
    "for i in range(16):\n",
    "    print(2 ** i, end=', ')"
   ]
  },
  {
   "cell_type": "markdown",
   "metadata": {},
   "source": [
    "## Table de multiplication\n",
    "\n",
    "Utilisez deux boucles `for` imbriquées pour créer une table de multiplication."
   ]
  },
  {
   "cell_type": "code",
   "execution_count": 4,
   "metadata": {
    "tags": [
     "hide-input"
    ]
   },
   "outputs": [
    {
     "name": "stdout",
     "output_type": "stream",
     "text": [
      "1\t2\t3\t4\t5\t6\t7\t8\t9\t\n",
      "2\t4\t6\t8\t10\t12\t14\t16\t18\t\n",
      "3\t6\t9\t12\t15\t18\t21\t24\t27\t\n",
      "4\t8\t12\t16\t20\t24\t28\t32\t36\t\n",
      "5\t10\t15\t20\t25\t30\t35\t40\t45\t\n",
      "6\t12\t18\t24\t30\t36\t42\t48\t54\t\n",
      "7\t14\t21\t28\t35\t42\t49\t56\t63\t\n",
      "8\t16\t24\t32\t40\t48\t56\t64\t72\t\n",
      "9\t18\t27\t36\t45\t54\t63\t72\t81\t\n"
     ]
    }
   ],
   "source": [
    "for i in range(1, 10):\n",
    "    for j in range(1, 10):\n",
    "        print(i * j, end='\\t')\n",
    "    print()"
   ]
  },
  {
   "cell_type": "markdown",
   "metadata": {},
   "source": [
    "## Table de vérité `not`\n",
    "\n",
    "Utilisez une boucle qui itère sur le tuple `(False, True)`\n",
    "pour créer une table de verité pour la fonction logique `not`."
   ]
  },
  {
   "cell_type": "code",
   "execution_count": 8,
   "metadata": {
    "tags": [
     "hide-input"
    ]
   },
   "outputs": [
    {
     "name": "stdout",
     "output_type": "stream",
     "text": [
      "p\tnot p\n",
      "----------------\n",
      "False\tFalse\n",
      "True\tFalse\n"
     ]
    }
   ],
   "source": [
    "print('p\\tnot p')\n",
    "print('--------' * 2)\n",
    "for p in (False, True):\n",
    "    print(p, not i, sep='\\t')"
   ]
  },
  {
   "cell_type": "markdown",
   "metadata": {},
   "source": [
    "## Table de vérité `and`\n",
    "\n",
    "Utilisez deux boucles imbriquées qui itèrent sur le tuple `(False, True)`\n",
    "pour créer une table de vérité pour la fonction logique `and`."
   ]
  },
  {
   "cell_type": "code",
   "execution_count": 10,
   "metadata": {
    "tags": [
     "hide-input"
    ]
   },
   "outputs": [
    {
     "name": "stdout",
     "output_type": "stream",
     "text": [
      "p \tq \tp and q\n",
      "------------------------\n",
      "False\tFalse\tFalse\n",
      "False\tTrue\tFalse\n",
      "True\tFalse\tFalse\n",
      "True\tTrue\tTrue\n"
     ]
    }
   ],
   "source": [
    "print('p \\tq \\tp and q')\n",
    "print('--------' * 3)\n",
    "for p in (False, True):\n",
    "    for q in (False, True):\n",
    "        print(p, q, p and q, sep='\\t')"
   ]
  },
  {
   "cell_type": "markdown",
   "metadata": {},
   "source": [
    "## Suite de Fibonacci\n",
    "\n",
    "La suite de Fibonacci est obtenue en additionnant les deux nombres précédents. \n",
    "Utilisez une boucle pour calculer ses 15 premiers éléments."
   ]
  },
  {
   "cell_type": "code",
   "execution_count": 32,
   "metadata": {
    "tags": [
     "hide-input"
    ]
   },
   "outputs": [
    {
     "name": "stdout",
     "output_type": "stream",
     "text": [
      "1, 2, 3, 5, 8, 13, 21, 34, 55, 89, 144, 233, 377, 610, 987, "
     ]
    }
   ],
   "source": [
    "a = 0\n",
    "b = 1\n",
    "for i in range(15):\n",
    "    c = a + b\n",
    "    print(c, end=', ')\n",
    "    a = b\n",
    "    b = c"
   ]
  },
  {
   "cell_type": "code",
   "execution_count": null,
   "metadata": {},
   "outputs": [],
   "source": []
  }
 ],
 "metadata": {
  "kernelspec": {
   "display_name": "Python 3",
   "language": "python",
   "name": "python3"
  },
  "language_info": {
   "codemirror_mode": {
    "name": "ipython",
    "version": 3
   },
   "file_extension": ".py",
   "mimetype": "text/x-python",
   "name": "python",
   "nbconvert_exporter": "python",
   "pygments_lexer": "ipython3",
   "version": "3.7.9"
  }
 },
 "nbformat": 4,
 "nbformat_minor": 4
}
