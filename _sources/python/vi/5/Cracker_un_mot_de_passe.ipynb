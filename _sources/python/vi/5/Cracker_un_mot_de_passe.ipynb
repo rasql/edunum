{
 "cells": [
  {
   "cell_type": "markdown",
   "id": "natural-gender",
   "metadata": {},
   "source": [
    "# Protection des données\n",
    "\n",
    "Internet est un monde **ouvert** où tout est accessible. Il est donc très important de protéger ses données **sensibles** (tout ce qui touche à votre vie privée). \n",
    "\n",
    "![](https://upload.wikimedia.org/wikipedia/commons/thumb/a/a6/Anonymous_emblem.svg/480px-Anonymous_emblem.svg.png)\n",
    "\n",
    "## Objectifs\n",
    "\n",
    "1. Comprendre le système de fichiers UNIX (MacOS X)\n",
    "1. Comprendre l'importance d'un bon mot de passe"
   ]
  },
  {
   "cell_type": "markdown",
   "id": "rocky-briefing",
   "metadata": {},
   "source": [
    "## Télécharger un fichier\n",
    "\n",
    "* Depuis moodle, téléchargez le dossier ```dossier-a-hacker.zip```\n",
    "* Depuis le dossier ```Téléchargements``` tirez le dossier ```dossier-a-hacker``` dans l'explorateur de fichiers de jupyter-lab"
   ]
  },
  {
   "cell_type": "markdown",
   "id": "damaged-genealogy",
   "metadata": {},
   "source": [
    "# (1) Le système de fichiers\n",
    "\n",
    "## Bien ranger pour mieux retrouver\n",
    "\n",
    "Votre ordinateur stocke des données localement. Sur un ordinateur Mac, chaque donnée est un fichier. Chaque fichier peut se trouver dans un dossier qui lui même peut se trouver dans un autre dossier. C'est une structure en arbre ou une **arborescence** où la racine est représentée par le signe ```/```:\n",
    "\n",
    "![](https://pixees.fr/informatiquelycee/n_site/img/nsi_prem_base_linux_2.png)\n",
    "\n",
    "Vous pouvez retrouver cette arborescence sous forme graphique dans le finder:\n",
    "\n",
    "![](https://osxdaily.com/wp-content/uploads/2010/02/mac-os-x-finder-column-view.JPG)\n",
    "\n",
    "où chaque colonne représente un niveau dans la structure représentée par un nouveau dossier.\n",
    "\n",
    "## Se déplacer dans l'arborescence\n",
    "- `pwd` : (*print working directory*) affiche le chemin du répertoire où nous nous trouvons \n",
    "- `cd`: (*change directory*) change de répertoire\n",
    "- `ls` : (*list*) affiche le contenu du répertoire où nous nous trouvons\n",
    "\n",
    "## Créer, supprimer, déplacer des dossier\n",
    "- `mkdir` : (*make directory*) créé un nouveau dossier\n",
    "- `rmdir` : (*remove directory*) supprime un dossier\n",
    "- `mv` : (*move*) déplace un dossier\n",
    "\n",
    "## Dossiers spéciaux\n",
    "- `/` root (racine)\n",
    "- `~` home (alt+n)\n",
    "- `.` actuel\n",
    "- `..` parent\n",
    "\n",
    "## Chemin d'un fichier\n",
    "\n",
    "Chaque fichier possède donc un chemin **absolu** depuis la racine. Par exemple le fichier ```README.txt``` qui se trouve dans le répertoire ```dossier-a-cracker``` possède le chemin ```/home/L12345/dossier-a-cracker/README.txt``` (le second dossier ```L12345``` sera différent pour vous : c'est votre identifiant à la place)\n",
    "\n",
    "Ce chemin se retrouve dans propriétés du fichier (clic droit : ```Get info```)\n",
    "\n",
    "Mais il a aussi un chemin **relatif** en utilisant les dossiers spéciaux `.` (actuel) et `..` (parent). Si nous nous trouvons dans le dossier ```/home/L12345```, alors le fichier ```README.txt``` possède le chemin relatif ```./dossier-a-cracker/README.txt```\n",
    "\n",
    "## Afficher le contenu d'un fichier\n",
    "\n",
    "La commande ```cat``` suivie du nom d'un fichier affiche son contenu. Pour afficher le contenu du fichier ```README.txt```, la commande est ```cat README.txt```\n",
    "\n",
    "## Rappel des commandes\n",
    "\n",
    "Plusieurs commandes sont importantes à connaître :\n",
    "\n",
    "| Commande  | paramètre |  Résultat  | exemple | \n",
    "|---|---|---|---|\n",
    "| ```pwd```  | | affiche le chemin du répertoire où nous nous trouvons  | ```pwd``` |\n",
    "| ```cd```  | nom du répertoire | change de répertoire |```cd dossier-a-cracker``` va aller dans le répertoire ```dossier-a-cracker``` |\n",
    "| | | | ```cd .. ``` va aller dans le répertoire parent|\n",
    "| ```ls```  | | affiche le contenu du répertoire où nous nous trouvons | ```ls``` |\n",
    "| ```mkdir```  | | créé un nouveau dossier | ```mkdir nouveau_dossier``` |\n",
    "| ```rmdir```  | | supprime un dossier | ```rmdir nouveau_dossier``` |\n",
    "| ```mv```  | | déplace un dossier | ```mv nouveau_dossier ..``` |\n",
    "| ```cat```  | un nom de fichier | Affiche le contenu d'un fichier (attention : seulement les fichiers de type texte) | ```cat README.txt``` va afficher le contenu du fichier ```README.txt``` |\n"
   ]
  },
  {
   "cell_type": "markdown",
   "id": "numeric-arthur",
   "metadata": {},
   "source": [
    "## Exercices\n",
    "\n",
    "Utilisez les commandes UNIX pour cet exercice\n",
    "\n",
    "## Se déplacer\n",
    "\n",
    "Ou suis-je?"
   ]
  },
  {
   "cell_type": "code",
   "execution_count": null,
   "id": "entire-background",
   "metadata": {},
   "outputs": [],
   "source": []
  },
  {
   "cell_type": "markdown",
   "id": "primary-savannah",
   "metadata": {},
   "source": [
    "Allez dans à la racine de l'arborescence"
   ]
  },
  {
   "cell_type": "code",
   "execution_count": null,
   "id": "alike-wilderness",
   "metadata": {},
   "outputs": [],
   "source": []
  },
  {
   "cell_type": "markdown",
   "id": "provincial-uncle",
   "metadata": {},
   "source": [
    "Vérifiez que vous êtes à la racine (réponse attendue : ```'/'```)"
   ]
  },
  {
   "cell_type": "code",
   "execution_count": null,
   "id": "located-budapest",
   "metadata": {},
   "outputs": [],
   "source": []
  },
  {
   "cell_type": "markdown",
   "id": "transsexual-quarter",
   "metadata": {},
   "source": [
    "Listez les dossiers du répertoire racine"
   ]
  },
  {
   "cell_type": "code",
   "execution_count": null,
   "id": "hundred-playback",
   "metadata": {},
   "outputs": [],
   "source": []
  },
  {
   "cell_type": "markdown",
   "id": "hungarian-plumbing",
   "metadata": {},
   "source": [
    "Retournez dans votre home"
   ]
  },
  {
   "cell_type": "code",
   "execution_count": null,
   "id": "annual-address",
   "metadata": {},
   "outputs": [],
   "source": []
  },
  {
   "cell_type": "markdown",
   "id": "current-philip",
   "metadata": {},
   "source": [
    "Créez un nouveau dossier appelé ```nouveau_dossier```"
   ]
  },
  {
   "cell_type": "code",
   "execution_count": null,
   "id": "confused-wealth",
   "metadata": {},
   "outputs": [],
   "source": []
  },
  {
   "cell_type": "markdown",
   "id": "geological-september",
   "metadata": {},
   "source": [
    "listez les dossiers et vérifiez qu'il a été créé"
   ]
  },
  {
   "cell_type": "code",
   "execution_count": null,
   "id": "native-loading",
   "metadata": {},
   "outputs": [],
   "source": []
  },
  {
   "cell_type": "markdown",
   "id": "difficult-andorra",
   "metadata": {},
   "source": [
    "Supprimez le dossier ```nouveau_dossier```"
   ]
  },
  {
   "cell_type": "code",
   "execution_count": null,
   "id": "capable-lexington",
   "metadata": {},
   "outputs": [],
   "source": []
  },
  {
   "cell_type": "markdown",
   "id": "therapeutic-teens",
   "metadata": {},
   "source": [
    "Déplacez vous dans le dossier ```dossier-a-cracker```"
   ]
  },
  {
   "cell_type": "code",
   "execution_count": null,
   "id": "random-liver",
   "metadata": {},
   "outputs": [],
   "source": []
  },
  {
   "cell_type": "markdown",
   "id": "economic-fundamental",
   "metadata": {},
   "source": [
    "Affichez le contenu du fichier README.txt"
   ]
  },
  {
   "cell_type": "code",
   "execution_count": null,
   "id": "supported-replication",
   "metadata": {},
   "outputs": [],
   "source": []
  },
  {
   "cell_type": "markdown",
   "id": "previous-kruger",
   "metadata": {},
   "source": [
    "# (2) Les mots de passe\n",
    "\n",
    "Il sert à protéger ses données privées dans les réseaux sociaux, sur son téléphone portable, etc.. \n",
    "\n",
    "## Pourquoi ?\n",
    "\n",
    "- le nom d'utilisateur peut être public\n",
    "- le mot de passe **DOIT** être secret\n",
    "\n",
    "## Un bon mot de passe\n",
    "\n",
    "Il doit être difficile à trouver pour un être humain, mais surtout pour un ordinateur. L'[EPFL](https://wiki.epfl.ch/secure-it/questcequunbonmotdepasse) donne quatre caractéristiques pour un **bon mot de passe** :\n",
    "\n",
    "1. il n'est **pas basé sur un mot courant** (nom, prénom, etc..)\n",
    "1. il doit être **long**\n",
    "1. il ne doit pas contenir des **répétitions**\n",
    "1. il doit contenir des caractères **variés** (lettres, accents, chiffres, caractères spéciaux)\n",
    "\n",
    "Malheureusement, beaucoup de personnes ont encore des mots de passe trop simple"
   ]
  },
  {
   "cell_type": "markdown",
   "id": "rubber-essay",
   "metadata": {},
   "source": [
    "## Exercice\n",
    "\n",
    "Recherchez sur Internet quel est le mot de passe le plus utilisé pour les utilisateurs francophones"
   ]
  },
  {
   "cell_type": "markdown",
   "id": "motivated-kinase",
   "metadata": {},
   "source": [
    "## Qualité d'un mot de passe\n",
    "\n",
    "Le fichier ```dossier-a-cracker/passwords.txt``` contient les **20'000 mots de passes** les plus utilisés sur l'Internet francophone. Nous allons l'utiliser pour vérifier la qualité d'un mot de passe.\n",
    "\n",
    "L'instruction Python suivante permettent de stocker dans la **liste** ```passwords``` les 20'000 mots de passes du fichier ```dossier-a-cracker/passwords.txt```"
   ]
  },
  {
   "cell_type": "code",
   "execution_count": 1,
   "id": "emotional-firewall",
   "metadata": {},
   "outputs": [],
   "source": [
    "passwords = [line.rstrip() for line in open('dossier-a-cracker/passwords.txt', \"r\")]"
   ]
  },
  {
   "cell_type": "markdown",
   "id": "tested-butterfly",
   "metadata": {},
   "source": [
    "## Accéder aux élément d'une liste\n",
    "L'opérateur de tranche `[m:n]` permet d'accéder à des sous ensembles\n",
    "\n",
    "- `[m:n]` de m jusqu'à (n-1)\n",
    "- `[:n]` du début jusqu'à (n-1)\n",
    "- `[m:]` de m jusqu'à la fin\n",
    "\n",
    "Un index negatif compte depuis la fin"
   ]
  },
  {
   "cell_type": "markdown",
   "id": "wrong-matter",
   "metadata": {},
   "source": [
    "## Exercice\n",
    "\n",
    "A l'aide des opérateurs de tranche, répondez aux questions"
   ]
  },
  {
   "cell_type": "markdown",
   "id": "concrete-shower",
   "metadata": {},
   "source": [
    "Affichez les cinq premiers mots de passe de la liste ```passwords```"
   ]
  },
  {
   "cell_type": "code",
   "execution_count": 2,
   "id": "artistic-symphony",
   "metadata": {},
   "outputs": [
    {
     "data": {
      "text/plain": [
       "['123456', '123456789', 'azerty', '1234561', 'qwerty']"
      ]
     },
     "execution_count": 2,
     "metadata": {},
     "output_type": "execute_result"
    }
   ],
   "source": [
    "passwords[:5]"
   ]
  },
  {
   "cell_type": "markdown",
   "id": "primary-discount",
   "metadata": {},
   "source": [
    "Affichez le 1000ème mot de passe de la liste ```passwords```"
   ]
  },
  {
   "cell_type": "code",
   "execution_count": null,
   "id": "chemical-enterprise",
   "metadata": {},
   "outputs": [],
   "source": []
  },
  {
   "cell_type": "markdown",
   "id": "multiple-territory",
   "metadata": {},
   "source": [
    "Affichez les mots de passes entre 10'000 et 10'005 de la liste ```passwords```"
   ]
  },
  {
   "cell_type": "code",
   "execution_count": null,
   "id": "excess-workshop",
   "metadata": {},
   "outputs": [],
   "source": []
  },
  {
   "cell_type": "markdown",
   "id": "rough-request",
   "metadata": {},
   "source": [
    "Affichez l'avant dernier mot de passe de la liste ```passwords```"
   ]
  },
  {
   "cell_type": "code",
   "execution_count": null,
   "id": "higher-proof",
   "metadata": {},
   "outputs": [],
   "source": []
  },
  {
   "cell_type": "markdown",
   "id": "polar-consideration",
   "metadata": {},
   "source": [
    "## Vérifier si un mot est dans la liste\n",
    "\n",
    "L'opérateur `in` permet de verifier si un mot est dans une liste.\n",
    "\n",
    "Est-ce que le mot de passe ```iloveyou``` est dans la liste ```passwords```?"
   ]
  },
  {
   "cell_type": "code",
   "execution_count": 3,
   "id": "apparent-sodium",
   "metadata": {},
   "outputs": [
    {
     "data": {
      "text/plain": [
       "True"
      ]
     },
     "execution_count": 3,
     "metadata": {},
     "output_type": "execute_result"
    }
   ],
   "source": [
    "'iloveyou' in passwords"
   ]
  },
  {
   "cell_type": "markdown",
   "id": "external-traffic",
   "metadata": {},
   "source": [
    "## Exercice\n",
    "\n",
    "Vérifiez que le mot de passe ```cristiano7``` est dans la liste ```passwords```"
   ]
  },
  {
   "cell_type": "code",
   "execution_count": null,
   "id": "fancy-navigator",
   "metadata": {},
   "outputs": [],
   "source": []
  },
  {
   "cell_type": "markdown",
   "id": "former-capacity",
   "metadata": {},
   "source": [
    "Et le mot de passe ```Cristiano7``` ?"
   ]
  },
  {
   "cell_type": "code",
   "execution_count": null,
   "id": "nearby-mitchell",
   "metadata": {},
   "outputs": [],
   "source": []
  },
  {
   "cell_type": "markdown",
   "id": "cooked-bible",
   "metadata": {},
   "source": [
    "## Majuscule et minuscule\n",
    "\n",
    "Le mot de passe ```cristiano7``` se trouve dans la liste ```passwords``` mais ```Cristiano7``` n'y est pas. \n",
    "\n",
    "Est-ce que rajouter une simple majuscule fait de mon mot de passe un bon mot de passe ?\n",
    "\n",
    "Python permet de mettre toutes les lettres en minuscules:"
   ]
  },
  {
   "cell_type": "code",
   "execution_count": null,
   "id": "virgin-pathology",
   "metadata": {},
   "outputs": [],
   "source": [
    "'Cristiano7'.lower()"
   ]
  },
  {
   "cell_type": "markdown",
   "id": "biblical-hungarian",
   "metadata": {},
   "source": [
    "et en majuscules:"
   ]
  },
  {
   "cell_type": "code",
   "execution_count": null,
   "id": "operational-polls",
   "metadata": {},
   "outputs": [],
   "source": [
    "'Cristiano7'.upper()"
   ]
  },
  {
   "cell_type": "markdown",
   "id": "challenging-disclaimer",
   "metadata": {},
   "source": [
    "## Tester un mot de passe \n",
    "\n",
    "1. Avec l'opérateur ```in```, on peut vérifier qu'un élément existe dans une liste\n",
    "1. Avec les fonctions ```lower()``` et ```upper()``` on peut mettre une chaîne de caractères en majuscules et en minuscules\n",
    "\n",
    "il ne reste plus qu'à tester un mot de passe **inconnu** sur l'ensemble de la liste :\n",
    "\n",
    "L'algorithme est le suivant :\n",
    "\n",
    "- ```mdp_test``` <- entrée de l'utilisateur\n",
    "- pour tous les mots de passe ```mdp``` de la liste ```passwords``` :\n",
    "    - mettre ```mdp``` en minuscules\n",
    "    - mettre ```mdp_test``` en minuscules\n",
    "    - SI ```mdp_test``` égal à ```mdp``` ALORS le mot de passe existe\n",
    "    - SINON le mot de passe n'existe pas"
   ]
  },
  {
   "cell_type": "code",
   "execution_count": null,
   "id": "pleased-withdrawal",
   "metadata": {},
   "outputs": [],
   "source": [
    "def mdp_existe_maj_min(mdp):\n",
    "    if mdp.lower() in passwords:\n",
    "        print(mdp,'existe dans la liste sous la forme', mdp.lower())\n",
    "    else:\n",
    "        print(mdp,'n\\'existe PAS dans la liste')        "
   ]
  },
  {
   "cell_type": "code",
   "execution_count": null,
   "id": "traditional-briefing",
   "metadata": {},
   "outputs": [],
   "source": [
    "mdp_existe_maj_min('CrIsTiAno7')"
   ]
  },
  {
   "cell_type": "markdown",
   "id": "amended-fossil",
   "metadata": {},
   "source": [
    "## Exercice\n",
    "\n",
    "Testez avec cette fonction si les mots de passe suivants existent dans la liste ```passwords```:\n",
    "\n",
    "- ```'coucou2'```\n",
    "- ```'coucou23'```"
   ]
  },
  {
   "cell_type": "code",
   "execution_count": null,
   "id": "copyrighted-walter",
   "metadata": {},
   "outputs": [],
   "source": []
  },
  {
   "cell_type": "code",
   "execution_count": null,
   "id": "enabling-camel",
   "metadata": {},
   "outputs": [],
   "source": []
  },
  {
   "cell_type": "markdown",
   "id": "developmental-blend",
   "metadata": {},
   "source": [
    "Avec une boucle, on peut tester n'importe quel mot de passe contre la liste ```passwords```.\n",
    "\n",
    "Testez vos mots de passe !\n",
    "\n",
    "(pour quitter, appuyez sur ENTREE"
   ]
  },
  {
   "cell_type": "code",
   "execution_count": null,
   "id": "ongoing-square",
   "metadata": {},
   "outputs": [],
   "source": [
    "mot = input('Entrez un mot de passe')\n",
    "while len(mot) > 0:\n",
    "    mdp_existe_maj_min(mot)\n",
    "    mot = input('Entrez un mot de passe:')"
   ]
  },
  {
   "cell_type": "markdown",
   "id": "isolated-application",
   "metadata": {},
   "source": [
    "## Archive (ZIP) protégé par un mot de passe\n",
    "\n",
    "Le fichier ```dossier-a-cracker/confidentiel/mails_FBI.zip``` a été protégé contre l'extraction par un mot de passe. Si vous tentez d'extraire l'archive, vous devez fournir un mot de passe.\n",
    "\n",
    "Ces 4 lignes vont tester le mot de passe ```'jetaime'``` sur l'archive. Cela va créer une erreur de type :\n",
    "\n",
    "```\n",
    "RuntimeError: Bad password for file 'original/mails_FBI.txt'\n",
    "```"
   ]
  },
  {
   "cell_type": "code",
   "execution_count": null,
   "id": "unnecessary-innocent",
   "metadata": {},
   "outputs": [],
   "source": [
    "from zipfile import ZipFile\n",
    "with ZipFile('dossier-a-cracker/confidentiel/mails_FBI.zip') as file:\n",
    "   mdp = 'jetaime' \n",
    "   file.extractall(pwd = bytes(mdp, 'utf-8'))"
   ]
  },
  {
   "cell_type": "markdown",
   "id": "general-logistics",
   "metadata": {},
   "source": [
    "## Attaque en force brute\n",
    "\n",
    "A partir de maintenant, on dispose de tous les outils pour attaquer en force brute l'archive ```'mails_FBI.zip'```. L'algorithme sera le suivant :\n",
    "\n",
    "1. pour tous les mots de passes ```mdp``` de la liste ```passwords``` FAIRE\n",
    "    1. Tester si le mot de passe est correct\n",
    "    1. SI le mot de passe est correct ALORS\n",
    "        1. le mot de passe a été trouvé. SORTIR\n",
    "    1. SINON\n",
    "        1. aller au mot de passe suivant\n",
    "\n",
    "La fonction ```check_ret(mdp,archive)``` va tester un mot de passe ```mdp``` sur l'archive protégée ```archive``` et retourner la valeur ```0``` si le mot de passe est le bon"
   ]
  },
  {
   "cell_type": "code",
   "execution_count": null,
   "id": "electronic-concord",
   "metadata": {},
   "outputs": [],
   "source": [
    "import subprocess\n",
    "def check_ret(mdp,archive):\n",
    "    rc = -1\n",
    "    p1 = subprocess.Popen(['unzip', '-t','-q', '-P', mdp,archive])\n",
    "    p1.wait()\n",
    "    rc = p1.returncode\n",
    "    p1.kill()\n",
    "    return rc"
   ]
  },
  {
   "cell_type": "markdown",
   "id": "occasional-prefix",
   "metadata": {},
   "source": [
    "Il est maintenant possible de tester tous les mots de passe de la liste sur une archive protégée par un mot de passe. Le fichier se trouve au chemin ```dossier-a-cracker/confidentiel/mails_FBI.zip```"
   ]
  },
  {
   "cell_type": "code",
   "execution_count": null,
   "id": "precise-favor",
   "metadata": {},
   "outputs": [],
   "source": [
    "for mdp in passwords:\n",
    "    ret = check_ret(mdp,'dossier-a-cracker/confidentiel/mails_FBI.zip')\n",
    "    if ret == 0:\n",
    "        print('Le mot de passe est :',mdp)\n",
    "        break"
   ]
  },
  {
   "cell_type": "markdown",
   "id": "surrounded-carol",
   "metadata": {},
   "source": [
    "## Exercice\n",
    "\n",
    "A l'aide de la fonction vue plus haut, extrayez l'archive avec le mot de passe que vous avez trouvé\n",
    "\n",
    "```python\n",
    "from zipfile import ZipFile\n",
    "with ZipFile('dossier-a-cracker/confidentiel/mails_FBI.zip') as file:\n",
    "   mdp = '' \n",
    "   file.extractall(pwd = bytes(mdp, 'utf-8'))\n",
    "```\n"
   ]
  },
  {
   "cell_type": "code",
   "execution_count": null,
   "id": "infrared-pollution",
   "metadata": {},
   "outputs": [],
   "source": []
  },
  {
   "cell_type": "markdown",
   "id": "regular-india",
   "metadata": {},
   "source": [
    "## Jeu (si vous avez du temps)\n",
    "\n",
    "Dans le monde du hacking, il y a un jeu qui est souvent utilisé par les entreprises pour tester leur infrastructure. Ce jeu de guerre cybernétique, appelé [catch the flag](https://fr.wikipedia.org/wiki/Test_d%27intrusion) (capture du drapeau) dans lequel deux équipes s'affrontent: l'une pour protéger le drapeau, l'autre pour le capturer. \n",
    "\n",
    "Un autre fichier archive ZIP a été caché dans le dossier ```dossier-a-cracker``` et protégé par un mot de passe.\n",
    "\n",
    "**Exercice** Retrouvez le fichier avec les commandes ```ls``` et ```cd``` et utilisez les fonctions décrites plus haut pour le décrypter"
   ]
  },
  {
   "cell_type": "markdown",
   "id": "regular-presence",
   "metadata": {},
   "source": [
    "## Mon adresse mail est-elle en danger ?\n",
    "\n",
    "Nous avons utilisé la **force brute** pour tester **un seul mot de passe** contre une liste définie. Les crackers du monde entier utilisent des dictionnaires bien plus grands contre des adresses mails, des comptes, etc.. que vous avez laissé ça et là au gré de vos interactions avec Internet. \n",
    "\n",
    "Ces listes sont ensuite vendues et utilisées à mauvais escient. \n",
    "\n",
    "Il existe un site web qui vérifie si votre adresse mail a été piratée : [Ai-je été piraté ?](https://haveibeenpwned.com)"
   ]
  },
  {
   "cell_type": "markdown",
   "id": "wrong-evolution",
   "metadata": {},
   "source": [
    "**Exercice** Testez vos adresses mails pour voir si elles ont été vendues. Si elles le sont : changez votre mot de passe"
   ]
  },
  {
   "cell_type": "code",
   "execution_count": null,
   "id": "proof-register",
   "metadata": {},
   "outputs": [],
   "source": []
  }
 ],
 "metadata": {
  "kernelspec": {
   "display_name": "Python 3",
   "language": "python",
   "name": "python3"
  },
  "language_info": {
   "codemirror_mode": {
    "name": "ipython",
    "version": 3
   },
   "file_extension": ".py",
   "mimetype": "text/x-python",
   "name": "python",
   "nbconvert_exporter": "python",
   "pygments_lexer": "ipython3",
   "version": "3.9.1"
  }
 },
 "nbformat": 4,
 "nbformat_minor": 5
}
