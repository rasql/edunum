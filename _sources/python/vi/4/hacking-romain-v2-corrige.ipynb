{
 "cells": [
  {
   "cell_type": "markdown",
   "metadata": {},
   "source": [
    "# Coder et décoder comme les Romains"
   ]
  },
  {
   "cell_type": "markdown",
   "metadata": {},
   "source": [
    "## Objectifs\n",
    "\n",
    "* chaînes de caractères\n",
    "* boucles\n",
    "* tests conditionnels\n",
    "* fonctions"
   ]
  },
  {
   "cell_type": "markdown",
   "metadata": {},
   "source": [
    "## Le code de César\n",
    "\n",
    "**Jules César** était un général Romain (il n'a jamais été empereur) qui a vécu au 1er siècle avant Jésus-Christ. Comme chef militaire, il souhaitait pouvoir communiquer avec ses officiers de plus hauts rangs localisés aux quatre coins de son immense empire. Notamment avec Ciceron durant la Guerre des Gaules. \n",
    "\n",
    "![Jules Cesar](https://upload.wikimedia.org/wikipedia/commons/thumb/9/9d/Portrait_of_Julius_Caesar_%281st_cent._B.C.%29_at_the_Archaeological_Museum_of_Sparta_on_15_May_2019.jpg/349px-Portrait_of_Julius_Caesar_%281st_cent._B.C.%29_at_the_Archaeological_Museum_of_Sparta_on_15_May_2019.jpg)\n",
    "\n",
    "Pour qu'un éventuel ennemi ne s'empare jamais du message de César, il a décidé d'utiliser une technique de **cryptage** afin de rendre le message illisible si on ne connaît pas la **clef de chiffrement**. C'est l'une des toutes premières applications de la **cryptographie**. "
   ]
  },
  {
   "cell_type": "code",
   "execution_count": 1,
   "metadata": {
    "collapsed": false,
    "slideshow": {
     "slide_type": "-"
    }
   },
   "outputs": [
    {
     "data": {
      "image/jpeg": "[encoded data removed]",
      "text/html": [
       "\n",
       "        <iframe\n",
       "            width=\"960\"\n",
       "            height=\"540\"\n",
       "            src=\"https://www.youtube.com/embed/vT8q1mXeZ2A\"\n",
       "            frameborder=\"0\"\n",
       "            allowfullscreen\n",
       "        ></iframe>\n",
       "        "
      ],
      "text/plain": [
       "<IPython.lib.display.YouTubeVideo at 0x7ff5d85de750>"
      ]
     },
     "execution_count": 1,
     "metadata": {},
     "output_type": "execute_result"
    }
   ],
   "source": [
    "from IPython.display import YouTubeVideo\n",
    "\n",
    "YouTubeVideo('vT8q1mXeZ2A', width=960, height=540)"
   ]
  },
  {
   "cell_type": "markdown",
   "metadata": {},
   "source": [
    "## Comment fonctionne le code de Cesar ?\n",
    "\n",
    "Le **texte chiffré (codé)** s'obtient en remplaçant chaque lettre du **texte clair** original par un décalage à distance fixe, toujours du même côté, dans les lettres de l'alphabet. Cette distance est appelée **clef de chiffrement**\n",
    "\n",
    "![alt text](img/clef.png \"Clef de chiffrement du code de Cesar\")\n",
    "\n",
    "Par exemple, si la clef de chiffrement vaut **1**, alors on décalera chaque lettre du texte clair de un sur la droite : \n",
    "\n",
    "- le \"a\" devient \"b\"\n",
    "- le \"b\" devient \"c\"\n",
    "\n",
    "et ainsi de suite. On peut ensuite chiffrer et déchiffrer des messages plus longs :\n",
    "\n",
    "- le texte clair \"inf\", chiffré avec la clef 1 devient le texte chiffré \"jog\""
   ]
  },
  {
   "cell_type": "markdown",
   "metadata": {},
   "source": [
    "## Encoder une lettre\n",
    "\n",
    "C'est la première étape. \n",
    "\n",
    "Nous allons travailler avec deux chaînes de caractères. `alphabet_clair` contient toutes les lettres de l'alphabet en minuscule et `alphabet_code` qui contient toutes les lettres codée \n",
    "\n",
    "| index | 0 | 1 | 2 | 3 | 4 | 5 | 6 | 7 | 8 | 9 | 10 | 11 | 12 | 13 | 14 | 15 | 16 | 17 | 18 | 19 | 20 | 21 | 22 | 23 | 24 | 25 |\n",
    "|:---|:---|:---|:---|:---|:---|:---|:---|:---|:---|:---|:---|:---|:---|:---|:---|:---|:---|:---|:---|:---|:---|:---|:---|:---|:---|:---|\n",
    "| `alphabet_clair` | a | b | c | d | e | f | g | h | i | j | k | l | m | n | o | p | q | r | s | t | u | v | w | x | y | z |\n",
    "| `alphabet_code` | b | c | d | e | f | g | h | i | j | k | l | m | n | o | p | q | r | s | t | u | v | w | x | y | z | a |\n",
    "\n",
    "\n",
    "Pour encoder une lettre, il faut donc:\n",
    "\n",
    "1. trouver l'index (la position) de la lettre dans l'alphabet clair\n",
    "1. trouver à quelle lettre correspond cet index dans l'alphabet codé\n",
    "\n",
    "Déclarez une variable `alphabet_clair` de type chaîne de caractères qui contient toutes les lettres de l'alphabet en minuscules. Cette chaîne a une longueur de 26 !"
   ]
  },
  {
   "cell_type": "code",
   "execution_count": 2,
   "metadata": {
    "collapsed": true
   },
   "outputs": [],
   "source": [
    "alphabet_clair = 'abcdefghijklmnopqrstuvwxyz'"
   ]
  },
  {
   "cell_type": "markdown",
   "metadata": {},
   "source": [
    "Trouvez l'index (la position) de la lettre `h` dans la variable `alphabet_clair` à l'aide de la fonction `alphabet_clair.index('h')`"
   ]
  },
  {
   "cell_type": "code",
   "execution_count": 3,
   "metadata": {
    "collapsed": false
   },
   "outputs": [
    {
     "data": {
      "text/plain": [
       "7"
      ]
     },
     "execution_count": 3,
     "metadata": {},
     "output_type": "execute_result"
    }
   ],
   "source": [
    "alphabet_clair.index('h')"
   ]
  },
  {
   "cell_type": "markdown",
   "metadata": {},
   "source": [
    "Définissez une nouvelle chaîne de caractères `alphabet_code` qui contient toutes les lettres de l'alphabet minuscules et décalées de 1 : a devient b, b devient c, etc.. jusqu'à z qui devient a. Cette chaîne a une longueur de 26 !"
   ]
  },
  {
   "cell_type": "code",
   "execution_count": 4,
   "metadata": {
    "collapsed": true
   },
   "outputs": [],
   "source": [
    "alphabet_code = 'bcdefghijklmnopqrstuvwxyza'"
   ]
  },
  {
   "cell_type": "markdown",
   "metadata": {},
   "source": [
    "Trouvez la lettre codée pour 'h' qui a l'index 7"
   ]
  },
  {
   "cell_type": "code",
   "execution_count": 5,
   "metadata": {
    "collapsed": false
   },
   "outputs": [
    {
     "data": {
      "text/plain": [
       "'i'"
      ]
     },
     "execution_count": 5,
     "metadata": {},
     "output_type": "execute_result"
    }
   ],
   "source": [
    "alphabet_code[7]"
   ]
  },
  {
   "cell_type": "markdown",
   "metadata": {},
   "source": [
    "## Décoder une lettre\n",
    "\n",
    "C'est le processus inverse.\n",
    "\n",
    "Pour décoder une lettre, il faut:\n",
    "\n",
    "1. trouver l'index de la lettre dans l'alphabet codé\n",
    "1. trouver à quelle lettre correspond cet index dans l'alphabet clair\n",
    "\n",
    "Trouvez l'index de la lettre codée 'i'"
   ]
  },
  {
   "cell_type": "code",
   "execution_count": 6,
   "metadata": {
    "collapsed": false
   },
   "outputs": [
    {
     "data": {
      "text/plain": [
       "7"
      ]
     },
     "execution_count": 6,
     "metadata": {},
     "output_type": "execute_result"
    }
   ],
   "source": [
    "alphabet_code.index('i')"
   ]
  },
  {
   "cell_type": "markdown",
   "metadata": {},
   "source": [
    "Trouvez à quelle lettre dans l'alphabet clair correspond l'index 7"
   ]
  },
  {
   "cell_type": "code",
   "execution_count": 7,
   "metadata": {
    "collapsed": false
   },
   "outputs": [
    {
     "data": {
      "text/plain": [
       "'h'"
      ]
     },
     "execution_count": 7,
     "metadata": {},
     "output_type": "execute_result"
    }
   ],
   "source": [
    "alphabet_clair[7]"
   ]
  },
  {
   "cell_type": "markdown",
   "metadata": {},
   "source": [
    "## Coder une phrase\n",
    "\n",
    "Une phrase c'est plusieurs lettres. Nous allons donc coder chaque lettre de la phrase. Attention : un **espace** (le caractère `' '`) en clair reste un **espace** en codé.\n",
    "\n",
    "Déclarez un message en clair `message_clair = 'bonjour'`"
   ]
  },
  {
   "cell_type": "code",
   "execution_count": 8,
   "metadata": {
    "collapsed": true
   },
   "outputs": [],
   "source": [
    "message_clair = 'gymnase bugnon'"
   ]
  },
  {
   "cell_type": "markdown",
   "metadata": {},
   "source": [
    "Déclarez un message codé vide `message_code = ''`. Cette chaîne de caractère contiendra le message codé (on ajoute au fur et à mesure les lettres codées)"
   ]
  },
  {
   "cell_type": "code",
   "execution_count": 9,
   "metadata": {
    "collapsed": true
   },
   "outputs": [],
   "source": [
    "message_code = ''"
   ]
  },
  {
   "cell_type": "markdown",
   "metadata": {},
   "source": [
    "Pour chaque lettre du message clair, il faut vérifier si le caractère est un espace ou non. On utilise pour cela un test conditionnel:\n",
    "\n",
    "```python\n",
    "if c == ' ':\n",
    "    message_code = message_code + ' '\n",
    "else:\n",
    "    # on encode la lettre\n",
    "```\n",
    "\n",
    "Ecrivez un test conditionnel (4 lignes !) qui affiche `espace` si le caractère d'index 8 de la chaîne `message_clair` est un espace, `pas d'espace` sinon. "
   ]
  },
  {
   "cell_type": "code",
   "execution_count": 10,
   "metadata": {
    "collapsed": false
   },
   "outputs": [
    {
     "name": "stdout",
     "output_type": "stream",
     "text": [
      "pas espace\n"
     ]
    }
   ],
   "source": [
    "if message_clair[8] == ' ':\n",
    "    print('espace')\n",
    "else:\n",
    "    print('pas espace')"
   ]
  },
  {
   "cell_type": "markdown",
   "metadata": {},
   "source": [
    "Une **boucle for** permet de répéter les instructions pour encoder les lettres en ayant vérifié qu'il s'agit d'un espace ou non. La variable `c` va \n",
    "\n",
    "```python\n",
    "for c in message_clair:\n",
    "    if c == ' ' \n",
    "        # ajouter un espace à message_code\n",
    "    else:\n",
    "        # coder la lettre c et l'ajouter au message_code\n",
    "```\n"
   ]
  },
  {
   "cell_type": "code",
   "execution_count": 12,
   "metadata": {
    "collapsed": false
   },
   "outputs": [
    {
     "name": "stdout",
     "output_type": "stream",
     "text": [
      "gymnase bugnon\n",
      "hznobtf cvhopo\n"
     ]
    }
   ],
   "source": [
    "for c in message_clair:\n",
    "    if c == ' ':\n",
    "        message_code = message_code+c\n",
    "    else:\n",
    "        index = alphabet_clair.index(c)\n",
    "        message_code = message_code + alphabet_code[index]\n",
    "print(message_clair)\n",
    "print(message_code)"
   ]
  },
  {
   "cell_type": "markdown",
   "metadata": {},
   "source": [
    "## Programme pour chiffrer (coder) un texte clair\n",
    "\n",
    "Si l'on met toutes les instructions à la suite, on obtient le programme suivant qui perme de coder un texte en clair :"
   ]
  },
  {
   "cell_type": "code",
   "execution_count": 17,
   "metadata": {
    "collapsed": false
   },
   "outputs": [
    {
     "name": "stdout",
     "output_type": "stream",
     "text": [
      "gymnase bugnon\n",
      "hznobtf cvhopo\n"
     ]
    }
   ],
   "source": [
    "alphabet_clair = 'abcdefghijklmnopqrstuvwxyz'\n",
    "alphabet_code = 'bcdefghijklmnopqrstuvwxyza'\n",
    "message_clair = 'gymnase bugnon'\n",
    "message_code = ''\n",
    "for c in message_clair:\n",
    "    if c == ' ':\n",
    "        message_code = message_code+c\n",
    "    else:\n",
    "        index = alphabet_clair.index(c)\n",
    "        message_code = message_code + alphabet_code[index]\n",
    "print(message_clair)\n",
    "print(message_code)"
   ]
  },
  {
   "cell_type": "markdown",
   "metadata": {},
   "source": [
    "## Programme pour déchiffrer un texte codé\n",
    "\n",
    "On rappelle que pour décoder une lettre, on applique le processus inverse que pour celui de coder.\n",
    "\n",
    "### Décoder une lettre\n",
    "\n",
    "Si la lettre à décoder est un espace, alors il reste un espace. Sinon il faut rechercher l'index de la lettre codée dans l'alphabet codé puis rechercher la lettre correspondant à cet index dans l'alphabet en clair. \n",
    "\n",
    "En python :\n",
    "\n",
    "```python\n",
    "    if c == ' ':\n",
    "        message_clair = message_clair+c\n",
    "    else:\n",
    "        index = alphabet_code.index(c)\n",
    "        message_clair = message_clair + alphabet_clair[index]\n",
    "```\n",
    "\n",
    "Modifiez le programme suivant pour qu'il décode le message codé donné"
   ]
  },
  {
   "cell_type": "code",
   "execution_count": 16,
   "metadata": {
    "collapsed": false
   },
   "outputs": [
    {
     "name": "stdout",
     "output_type": "stream",
     "text": [
      "\n",
      "hznobtf ef dibncmboeft\n"
     ]
    }
   ],
   "source": [
    "alphabet_clair = 'abcdefghijklmnopqrstuvwxyz'\n",
    "alphabet_code = 'bcdefghijklmnopqrstuvwxyza'\n",
    "message_clair = ''\n",
    "message_code = 'hznobtf ef dibncmboeft'\n",
    "for c in message_clair:\n",
    "    if c == ' ':\n",
    "        message_code = message_code+c\n",
    "    else:\n",
    "        index = alphabet_clair.index(c)\n",
    "        message_code = message_code + alphabet_code[index]\n",
    "print(message_clair)\n",
    "print(message_code)"
   ]
  }
 ],
 "metadata": {
  "kernelspec": {
   "display_name": "Python 3",
   "language": "python",
   "name": "python3"
  },
  "language_info": {
   "codemirror_mode": {
    "name": "ipython",
    "version": 2
   },
   "file_extension": ".py",
   "mimetype": "text/x-python",
   "name": "python",
   "nbconvert_exporter": "python",
   "pygments_lexer": "ipython2",
   "version": "2.7.13"
  },
  "toc-autonumbering": false,
  "toc-showcode": false,
  "toc-showmarkdowntxt": false
 },
 "nbformat": 4,
 "nbformat_minor": 4
}
