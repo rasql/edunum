{
 "cells": [
  {
   "cell_type": "markdown",
   "id": "freelance-athens",
   "metadata": {},
   "source": [
    "# Tableaux\n",
    "\n",
    "Un tableau est une structure en **deux dimensions**, avec des lignes et colonnes.  \n",
    "En Python, un tableau est **une liste de listes**. \n",
    "\n",
    "![](img/cff-general.jpg)\n",
    "\n",
    "La photo montre le tableau des départs de trains, prises le matin à la gare de Renens. \n",
    "Le tableau affiche 12 trains qui vont partir prochainement. "
   ]
  },
  {
   "cell_type": "markdown",
   "id": "proved-extraction",
   "metadata": {},
   "source": [
    "## Un horaire de train\n",
    "\n",
    "Un horaire CFF est un tableau. Chaque ligne de ce tableau représente un train. Chaque train a les caractéristiques suivantes :\n",
    "\n",
    "* type\n",
    "* heure de départ\n",
    "* gare de destination\n",
    "* voie\n",
    "\n",
    "Tous les trains de la journée ne peuvent pas tous être affichés en même temps.\n",
    "\n",
    "En informatique, on parle d'un **tableau 2D** ou tableau à deux dimensions. Chaque **colonne** représente les caractéristiques d'un train (type, heure de départ, destination, etc..) et chaque ligne représente un train."
   ]
  },
  {
   "cell_type": "markdown",
   "id": "oriental-music",
   "metadata": {},
   "source": [
    "## Création d'une liste\n",
    "Une liste est un ensemble d'objets. En Python une liste\n",
    "\n",
    "- est délimitée par des crochets `[]`, et\n",
    "- ses éléments sont séparés par une virgule `,`\n",
    "\n",
    "Chaque `train` est une liste qui possède autant d'éléments qu'il y a de caractéristiques dans l'horaire, séparées par une virgule `,`"
   ]
  },
  {
   "cell_type": "code",
   "execution_count": 31,
   "id": "efficient-milwaukee",
   "metadata": {},
   "outputs": [],
   "source": [
    "train1 = ['S22', '8h47', 'Vufflens-la-Ville', 1]"
   ]
  },
  {
   "cell_type": "code",
   "execution_count": 32,
   "id": "broad-merchant",
   "metadata": {},
   "outputs": [],
   "source": [
    "train2 = ['S2', '8h51', 'Aigle', 4]"
   ]
  },
  {
   "cell_type": "code",
   "execution_count": 33,
   "id": "innovative-tuner",
   "metadata": {},
   "outputs": [],
   "source": [
    "train3 =  ['S4', '8h55', 'Palézieux', 3]"
   ]
  },
  {
   "cell_type": "markdown",
   "id": "genetic-johns",
   "metadata": {},
   "source": [
    "**Exercice**  \n",
    "Définissez la liste `train4` selon l'horaire dans l'image ci-dessus."
   ]
  },
  {
   "cell_type": "markdown",
   "id": "official-january",
   "metadata": {},
   "source": [
    "## Création d'un tableau 2D\n",
    "\n",
    "En Python, il n'existe pas de structure de donnée de type tableau. On le construit avec des listes. Un tableau 2D est **une liste de liste**. \n",
    "L'horaire devient une liste de listes."
   ]
  },
  {
   "cell_type": "code",
   "execution_count": 34,
   "id": "green-resolution",
   "metadata": {},
   "outputs": [
    {
     "data": {
      "text/plain": [
       "[['S22', '8h47', 'Vufflens-la-Ville', 1],\n",
       " ['S2', '8h51', 'Aigle', 4],\n",
       " ['S4', '8h55', 'Palézieux', 3]]"
      ]
     },
     "execution_count": 34,
     "metadata": {},
     "output_type": "execute_result"
    }
   ],
   "source": [
    "horaire = [train1, train2, train3]\n",
    "horaire"
   ]
  },
  {
   "cell_type": "markdown",
   "id": "visible-tomorrow",
   "metadata": {},
   "source": [
    "**Exercice**   \n",
    "Ajoutez `train4` à l'horaire."
   ]
  },
  {
   "cell_type": "markdown",
   "id": "aging-photographer",
   "metadata": {},
   "source": [
    "## Accès aux éléments\n",
    "\n",
    "On peut accéder une ligne du tableau par son **indice**.  \n",
    "Un indice est un nombre entier entre crochets `[]`. \n",
    "\n",
    "En Python, les indices commencent avec 0.  \n",
    "L'indice `[0]` désigne donc la première ligne et l'indice `[1]` désigne la deuxième ligne.\n",
    "\n",
    "La deuxième ligne du tableau 2D `horaire` est `horaire[1]`, et c'est aussi une liste"
   ]
  },
  {
   "cell_type": "code",
   "execution_count": 35,
   "id": "union-advance",
   "metadata": {},
   "outputs": [
    {
     "data": {
      "text/plain": [
       "['S2', '8h51', 'Aigle', 4]"
      ]
     },
     "execution_count": 35,
     "metadata": {},
     "output_type": "execute_result"
    }
   ],
   "source": [
    "horaire[1]"
   ]
  },
  {
   "cell_type": "markdown",
   "id": "statewide-times",
   "metadata": {},
   "source": [
    "On accède de même aux éléments de la ligne `horaire[1]`\n",
    "\n",
    "L'élément `horaire[1][2]` correspond au troisième élément de la liste `horaire[1]`, donc la destination"
   ]
  },
  {
   "cell_type": "code",
   "execution_count": 36,
   "id": "brilliant-frank",
   "metadata": {},
   "outputs": [
    {
     "data": {
      "text/plain": [
       "'Aigle'"
      ]
     },
     "execution_count": 36,
     "metadata": {},
     "output_type": "execute_result"
    }
   ],
   "source": [
    "horaire[1][2]"
   ]
  },
  {
   "cell_type": "markdown",
   "id": "breathing-wiring",
   "metadata": {},
   "source": [
    "**Exercice**  \n",
    "Accédez à l'heure du départ du troisième train dans le tableau."
   ]
  },
  {
   "cell_type": "markdown",
   "id": "polar-rover",
   "metadata": {},
   "source": [
    "## Accéder à une plage\n",
    "\n",
    "On peut accéder à une plage d'éléments. La plage entre le premier et le deuxième élément s'écrit `horaire[0:2]`"
   ]
  },
  {
   "cell_type": "code",
   "execution_count": 37,
   "id": "cubic-collar",
   "metadata": {},
   "outputs": [
    {
     "data": {
      "text/plain": [
       "[['S22', '8h47', 'Vufflens-la-Ville', 1], ['S2', '8h51', 'Aigle', 4]]"
      ]
     },
     "execution_count": 37,
     "metadata": {},
     "output_type": "execute_result"
    }
   ],
   "source": [
    "horaire[0:2]"
   ]
  },
  {
   "cell_type": "markdown",
   "id": "driven-excitement",
   "metadata": {},
   "source": [
    "Avec une boucle `for` nous pouvons itérer sur la liste et afficher les trains ligne par ligne."
   ]
  },
  {
   "cell_type": "code",
   "execution_count": 38,
   "id": "interim-mongolia",
   "metadata": {},
   "outputs": [
    {
     "name": "stdout",
     "output_type": "stream",
     "text": [
      "['S22', '8h47', 'Vufflens-la-Ville', 1]\n",
      "['S2', '8h51', 'Aigle', 4]\n"
     ]
    }
   ],
   "source": [
    "for train in horaire[0:2]:\n",
    "    print(train)"
   ]
  },
  {
   "cell_type": "markdown",
   "id": "front-hardware",
   "metadata": {},
   "source": [
    "**Exercice**  \n",
    "Affichez les lignes 3-4 de l'horaire."
   ]
  },
  {
   "cell_type": "markdown",
   "id": "floral-hypothetical",
   "metadata": {},
   "source": [
    "## Longueur d'un tableau\n",
    "\n",
    "La fonction `len(list)` retourne la longueur d'une liste"
   ]
  },
  {
   "cell_type": "code",
   "execution_count": 39,
   "id": "legislative-franchise",
   "metadata": {},
   "outputs": [
    {
     "data": {
      "text/plain": [
       "3"
      ]
     },
     "execution_count": 39,
     "metadata": {},
     "output_type": "execute_result"
    }
   ],
   "source": [
    "len(horaire)"
   ]
  },
  {
   "cell_type": "markdown",
   "id": "criminal-arctic",
   "metadata": {},
   "source": [
    "La longueur de l'une ligne du tableau 2D est retourné avec:"
   ]
  },
  {
   "cell_type": "code",
   "execution_count": 40,
   "id": "ruled-painting",
   "metadata": {},
   "outputs": [
    {
     "data": {
      "text/plain": [
       "4"
      ]
     },
     "execution_count": 40,
     "metadata": {},
     "output_type": "execute_result"
    }
   ],
   "source": [
    "len(horaire[0])"
   ]
  },
  {
   "cell_type": "markdown",
   "id": "periodic-federal",
   "metadata": {},
   "source": [
    "## Ajouter un élément\n",
    "\n",
    "On peut ajouter une nouvelle ligne à la fin avec la fonction `list.append()` :"
   ]
  },
  {
   "cell_type": "code",
   "execution_count": 41,
   "id": "natural-barbados",
   "metadata": {},
   "outputs": [
    {
     "data": {
      "text/plain": [
       "[['S22', '8h47', 'Vufflens-la-Ville', 1],\n",
       " ['S2', '8h51', 'Aigle', 4],\n",
       " ['S4', '8h55', 'Palézieux', 3],\n",
       " ['RE', '8h58', 'Annemasse', 2]]"
      ]
     },
     "execution_count": 41,
     "metadata": {},
     "output_type": "execute_result"
    }
   ],
   "source": [
    "train5 =  ['RE', '8h58', 'Annemasse', 2]\n",
    "horaire.append(train5)\n",
    "horaire"
   ]
  },
  {
   "cell_type": "markdown",
   "id": "fewer-guide",
   "metadata": {},
   "source": [
    "On peut ajouter une nouvelle ligne à la position `i` avec la fonction `list.insert(i, element)`"
   ]
  },
  {
   "cell_type": "code",
   "execution_count": 42,
   "id": "accompanied-excerpt",
   "metadata": {},
   "outputs": [
    {
     "data": {
      "text/plain": [
       "[['S22', '8h47', 'Vufflens-la-Ville', 1],\n",
       " ['S2', '8h51', 'Aigle', 4],\n",
       " ['S4', '8h55', 'Palézieux', 3],\n",
       " ['S1', '8h57', 'Lausanne', 4],\n",
       " ['RE', '8h58', 'Annemasse', 2]]"
      ]
     },
     "execution_count": 42,
     "metadata": {},
     "output_type": "execute_result"
    }
   ],
   "source": [
    "train6 =  ['S1', '8h57', 'Lausanne', 4]\n",
    "horaire.insert(3, train6)\n",
    "horaire"
   ]
  },
  {
   "cell_type": "markdown",
   "id": "floppy-canada",
   "metadata": {},
   "source": [
    "## Enlever des éléments\n",
    "\n",
    "On peut enlever des éléments avec les méthodes suivantes : \n",
    "\n",
    "* `list.remove(x)` si l'élément `x` existe\n",
    "* `list.pop()` le dernier élément\n",
    "* `list.clear()` tous les éléments\n",
    "\n",
    "On enlève l'élément `train5` :"
   ]
  },
  {
   "cell_type": "code",
   "execution_count": 43,
   "id": "downtown-allowance",
   "metadata": {},
   "outputs": [
    {
     "data": {
      "text/plain": [
       "[['S22', '8h47', 'Vufflens-la-Ville', 1],\n",
       " ['S2', '8h51', 'Aigle', 4],\n",
       " ['S4', '8h55', 'Palézieux', 3],\n",
       " ['S1', '8h57', 'Lausanne', 4]]"
      ]
     },
     "execution_count": 43,
     "metadata": {},
     "output_type": "execute_result"
    }
   ],
   "source": [
    "horaire.remove(train5)\n",
    "horaire"
   ]
  },
  {
   "cell_type": "markdown",
   "id": "durable-canal",
   "metadata": {},
   "source": [
    "On peut enlever le dernier élément avec la méthode `list.pop()`"
   ]
  },
  {
   "cell_type": "code",
   "execution_count": 44,
   "id": "absent-edward",
   "metadata": {},
   "outputs": [
    {
     "data": {
      "text/plain": [
       "[['S22', '8h47', 'Vufflens-la-Ville', 1],\n",
       " ['S2', '8h51', 'Aigle', 4],\n",
       " ['S4', '8h55', 'Palézieux', 3]]"
      ]
     },
     "execution_count": 44,
     "metadata": {},
     "output_type": "execute_result"
    }
   ],
   "source": [
    "horaire.pop()\n",
    "horaire"
   ]
  },
  {
   "cell_type": "markdown",
   "id": "civil-affect",
   "metadata": {},
   "source": [
    "On efface tous les éléments avec la méthode `list.clear()`. La variable `horaire` est maintenant une liste vide."
   ]
  },
  {
   "cell_type": "code",
   "execution_count": 45,
   "id": "failing-philippines",
   "metadata": {},
   "outputs": [
    {
     "data": {
      "text/plain": [
       "[]"
      ]
     },
     "execution_count": 45,
     "metadata": {},
     "output_type": "execute_result"
    }
   ],
   "source": [
    "horaire.clear()\n",
    "horaire"
   ]
  },
  {
   "cell_type": "markdown",
   "id": "stretch-surrey",
   "metadata": {},
   "source": [
    "## Exercice\n",
    "Voici votre horaire de départ."
   ]
  },
  {
   "cell_type": "code",
   "execution_count": 46,
   "id": "comfortable-keeping",
   "metadata": {},
   "outputs": [
    {
     "data": {
      "text/plain": [
       "[['S22', '8h47', 'Vufflens-la-Ville', 1],\n",
       " ['S2', '8h51', 'Aigle', 4],\n",
       " ['S4', '8h55', 'Palézieux', 3],\n",
       " ['S1', '8h57', 'Lausanne', 4],\n",
       " ['RE', '8h58', 'Annemasse', 2]]"
      ]
     },
     "execution_count": 46,
     "metadata": {},
     "output_type": "execute_result"
    }
   ],
   "source": [
    "horaire = [train1, train2, train3, train6, train5]\n",
    "horaire"
   ]
  },
  {
   "cell_type": "markdown",
   "id": "breeding-length",
   "metadata": {},
   "source": [
    "1. Ajoutez à l'horaire le régional S1 pour Bussigny qui part à 9h01 sur voie 1\n",
    "1. Il est 8h50, le régional S22 pour Bussigny et Vufflens-la-Ville est parti. Supprimez-le de l'horaire\n",
    "1. Un dérangement sur la ligne de contact entre Vevey et Lausanne provoque un retard de 20 minutes. Ajoutez cette information pour le RE de 8h58 pour Annemasse\n",
    "1. Pour l'affichage de quai, sélectionnez tous les trains qui partiront de voie 4"
   ]
  },
  {
   "cell_type": "code",
   "execution_count": null,
   "id": "anticipated-football",
   "metadata": {},
   "outputs": [],
   "source": []
  }
 ],
 "metadata": {
  "kernelspec": {
   "display_name": "Python 3",
   "language": "python",
   "name": "python3"
  },
  "language_info": {
   "codemirror_mode": {
    "name": "ipython",
    "version": 3
   },
   "file_extension": ".py",
   "mimetype": "text/x-python",
   "name": "python",
   "nbconvert_exporter": "python",
   "pygments_lexer": "ipython3",
   "version": "3.9.1"
  }
 },
 "nbformat": 4,
 "nbformat_minor": 5
}
