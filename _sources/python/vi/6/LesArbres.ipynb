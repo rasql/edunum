{
 "cells": [
  {
   "cell_type": "markdown",
   "id": "confidential-pension",
   "metadata": {},
   "source": [
    "# Arbres\n",
    "\n",
    "Un arbre est une structure de données non-linéaire\n",
    "\n",
    "![](https://upload.wikimedia.org/wikipedia/commons/thumb/5/5f/Tree_%28computer_science%29.svg/526px-Tree_%28computer_science%29.svg.png)\n"
   ]
  },
  {
   "cell_type": "code",
   "execution_count": null,
   "id": "certified-corporation",
   "metadata": {},
   "outputs": [],
   "source": []
  }
 ],
 "metadata": {
  "kernelspec": {
   "display_name": "Python 3",
   "language": "python",
   "name": "python3"
  },
  "language_info": {
   "codemirror_mode": {
    "name": "ipython",
    "version": 3
   },
   "file_extension": ".py",
   "mimetype": "text/x-python",
   "name": "python",
   "nbconvert_exporter": "python",
   "pygments_lexer": "ipython3",
   "version": "3.7.7"
  }
 },
 "nbformat": 4,
 "nbformat_minor": 5
}
