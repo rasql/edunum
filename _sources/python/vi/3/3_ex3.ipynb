{
 "cells": [
  {
   "cell_type": "markdown",
   "metadata": {},
   "source": [
    "# Ex. Boucle while"
   ]
  },
  {
   "cell_type": "markdown",
   "metadata": {},
   "source": [
    "## Objectif\n",
    "\n",
    "* boucles `while`\n",
    "\n",
    "### C'est quoi une boucle while ?\n",
    "\n",
    "La boucle `while` répète un bloc d'instructions (une suite d'instructions) aussi longtemps qu'une **condition** de test est vrai:\n",
    "```\n",
    "while condition:\n",
    "    instruction 1\n",
    "    instruction 2\n",
    "```"
   ]
  },
  {
   "cell_type": "markdown",
   "metadata": {},
   "source": [
    "Ecrivez une boucle while qui affiche les chiffres de 1 à 10\n",
    "\n",
    "1. déclarer une variable *n* et lui affecter la valeur 1\n",
    "2. à chaque itération de la boucle `while`, ajouter 1 à la variable *n*\n",
    "3. la condition de sortie de la boucle while est atteinte lorsque la variable *n* est plus grande que 10\n",
    "4. attention à l'indentation. Ne pas oublier les deux-points `:`"
   ]
  },
  {
   "cell_type": "code",
   "execution_count": null,
   "metadata": {
    "collapsed": true
   },
   "outputs": [],
   "source": []
  },
  {
   "cell_type": "markdown",
   "metadata": {},
   "source": [
    "Ecrivez les chiffres de 10 à 1 (dans cet ordre) en s'inspirant de la boucle précédente"
   ]
  },
  {
   "cell_type": "code",
   "execution_count": null,
   "metadata": {
    "collapsed": true
   },
   "outputs": [],
   "source": [
    "pass"
   ]
  }
 ],
 "metadata": {
  "kernelspec": {
   "display_name": "Python 3",
   "language": "python",
   "name": "python3"
  },
  "language_info": {
   "codemirror_mode": {
    "name": "ipython",
    "version": 2
   },
   "file_extension": ".py",
   "mimetype": "text/x-python",
   "name": "python",
   "nbconvert_exporter": "python",
   "pygments_lexer": "ipython2",
   "version": "2.7.13"
  }
 },
 "nbformat": 4,
 "nbformat_minor": 4
}
