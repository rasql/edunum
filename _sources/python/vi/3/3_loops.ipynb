{
 "cells": [
  {
   "cell_type": "markdown",
   "metadata": {},
   "source": [
    "# Listes et boucles"
   ]
  },
  {
   "cell_type": "markdown",
   "metadata": {},
   "source": [
    "## Jupyter notebook\n",
    "\n",
    "Bienvenue dans votre premier Jupyter notebook. Chaque cellule doit être exécutée en appuyant simulatanément sur les touches SHIFT + ENTER "
   ]
  },
  {
   "cell_type": "markdown",
   "metadata": {},
   "source": [
    "## Objectifs\n",
    "\n",
    "- Listes\n",
    "- Boucles `for` et `wile`\n",
    "- Test formatif sur les concepts des cours de programmation 1, 2 et 3"
   ]
  },
  {
   "cell_type": "markdown",
   "metadata": {},
   "source": [
    "### Listes\n",
    "\n",
    "Une liste est une séquence de plusieurs valeurs (nombres, texte, booléen, etc.).  \n",
    "On la déclare avec des crochets `[]` et on sépare chaque élément par une virgule `,`.\n",
    "\n",
    "Ceci est une liste nommée `uneListe` avec 3 éléments: le nombre `123`, la chaîne de caractères `'hello'` et le booléen `True`. La deuxième ligne affiche la liste à l'aide de la fonction `print()`"
   ]
  },
  {
   "cell_type": "code",
   "execution_count": null,
   "metadata": {
    "collapsed": false,
    "jupyter": {
     "outputs_hidden": false
    }
   },
   "outputs": [],
   "source": [
    "uneListe = [123, 'hello', True]\n",
    "print(uneListe)"
   ]
  },
  {
   "cell_type": "markdown",
   "metadata": {},
   "source": [
    "Voici une autre liste nommée `arbres` qui contient quatre chaînes de caractères"
   ]
  },
  {
   "cell_type": "code",
   "execution_count": null,
   "metadata": {
    "collapsed": false,
    "jupyter": {
     "outputs_hidden": false
    }
   },
   "outputs": [],
   "source": [
    "arbres = ['sapin', 'cedre', 'meleze', 'bouleau']\n",
    "print(arbres)"
   ]
  },
  {
   "cell_type": "markdown",
   "metadata": {},
   "source": [
    "Chaque élément de la liste a un index (le premier est toujours 0, puis 1, puis 2, etc..). On peut donc afficher un seul élément de la listes en utilisant son index."
   ]
  },
  {
   "cell_type": "markdown",
   "metadata": {},
   "source": [
    "Voici comment afficher le premier élément de la liste `arbres` (dont l'index est égal à 0)"
   ]
  },
  {
   "cell_type": "code",
   "execution_count": null,
   "metadata": {
    "collapsed": false,
    "jupyter": {
     "outputs_hidden": false
    }
   },
   "outputs": [],
   "source": [
    "print(arbres[0])"
   ]
  },
  {
   "cell_type": "markdown",
   "metadata": {},
   "source": [
    "Voici comment afficher le quatrième élément de la liste `arbre` (dont l'index est égal à 3)"
   ]
  },
  {
   "cell_type": "code",
   "execution_count": null,
   "metadata": {
    "collapsed": false,
    "jupyter": {
     "outputs_hidden": false
    }
   },
   "outputs": [],
   "source": [
    "print(arbres[3])"
   ]
  },
  {
   "cell_type": "markdown",
   "metadata": {},
   "source": [
    "Il est encore possible de connaître la longueur de la liste (qui est un nombre) avec la fonction `len()` qui prend en paramètre la liste:"
   ]
  },
  {
   "cell_type": "code",
   "execution_count": null,
   "metadata": {
    "collapsed": false,
    "jupyter": {
     "outputs_hidden": false
    }
   },
   "outputs": [],
   "source": [
    "longueur = len(arbres)\n",
    "print(longueur)"
   ]
  },
  {
   "cell_type": "markdown",
   "metadata": {},
   "source": [
    "## Les boucles"
   ]
  },
  {
   "cell_type": "markdown",
   "metadata": {},
   "source": [
    "Une **boucle** permet de répéter une parti du code (un bloc) multiple fois.\n",
    "\n",
    "Il existe deux types de boucles :\n",
    "\n",
    "* la boucle `for` répète un bloc **pour chaque élément** d'un ensemble\n",
    "* la boucle `while` répète un bloc **tant qu'une condition** est vrai"
   ]
  },
  {
   "cell_type": "markdown",
   "metadata": {},
   "source": [
    "### Boucle for\n",
    "\n",
    "Elle a la structure simplifiée:\n",
    "\n",
    "```python\n",
    "for x in itérable:\n",
    "    bloc\n",
    "```\n",
    "\n",
    "1. Commence par le mot-clef `for`\n",
    "2. Puis le nom d'un itérateur (une variable)\n",
    "3. Puis le mot-clef `in`\n",
    "4. Puis un objet itérable (une chaîne de caractères, une liste ou la fonction `range()` )\n",
    "5. Et termine par deux points `:`\n",
    "6. un bloc à répéter (indentée)"
   ]
  },
  {
   "cell_type": "markdown",
   "metadata": {},
   "source": [
    "Voici une itération sur la liste `arbre` qui contient des textes."
   ]
  },
  {
   "cell_type": "code",
   "execution_count": null,
   "metadata": {
    "collapsed": false,
    "jupyter": {
     "outputs_hidden": false
    }
   },
   "outputs": [],
   "source": [
    "for arbre in arbres:\n",
    "    print(arbre)"
   ]
  },
  {
   "cell_type": "markdown",
   "metadata": {},
   "source": [
    "Voici une itération sur une plage de nombres."
   ]
  },
  {
   "cell_type": "code",
   "execution_count": null,
   "metadata": {
    "collapsed": false,
    "jupyter": {
     "outputs_hidden": false
    }
   },
   "outputs": [],
   "source": [
    "for i in range(3):\n",
    "    print(i)"
   ]
  },
  {
   "cell_type": "markdown",
   "metadata": {},
   "source": [
    "Voici une itération sur une liste de nombres."
   ]
  },
  {
   "cell_type": "code",
   "execution_count": null,
   "metadata": {
    "collapsed": false,
    "jupyter": {
     "outputs_hidden": false
    }
   },
   "outputs": [],
   "source": [
    "l = [1, 3, 5, 7, 9, 11]\n",
    "for i in l:\n",
    "    print(i)"
   ]
  },
  {
   "cell_type": "markdown",
   "metadata": {},
   "source": [
    "### Boucle while\n",
    "\n",
    "La boucle `while` répète un bloc aussi longtemps qu'une **condition** de test est vrai.\n",
    "\n",
    "![Schema de la boucle while](https://cdn.javascripttutorial.net/wp-content/uploads/2016/08/JavaScript-while-loop.png)\n",
    "\n",
    "[crédit image](https://www.javascripttutorial.net/javascript-while-loop/)\n",
    "\n",
    "Une boucle `while` a la structure :\n",
    "\n",
    "```python\n",
    "while condition:\n",
    "    bloc\n",
    "```\n",
    "\n",
    "\n",
    "1. Mot-clef `while`\n",
    "2. Suivi d'une condition (résultat de cette condition est `True` ou `False`)\n",
    "3. Un deux-points `:`\n",
    "4. Bloc d'instructions (qui doit êtr)"
   ]
  },
  {
   "cell_type": "markdown",
   "metadata": {},
   "source": [
    "Dans l'exemple qui suit, on affiche les nombres de 1 à 4 :\n",
    "1. `n` est initialisé à 1\n",
    "2. boucle `while` tant que la valeur de la variable n est strictement inférieure à 5, alors on exécute les instructions suivantes : \n",
    "    * afficher `n` avec la fonction `print()`\n",
    "    * incrémenter n de 1"
   ]
  },
  {
   "cell_type": "code",
   "execution_count": null,
   "metadata": {
    "collapsed": false,
    "jupyter": {
     "outputs_hidden": false
    }
   },
   "outputs": [],
   "source": [
    "n = 1\n",
    "while n < 5:\n",
    "    print(n)\n",
    "    n = n + 1"
   ]
  },
  {
   "cell_type": "code",
   "execution_count": null,
   "metadata": {},
   "outputs": [],
   "source": []
  }
 ],
 "metadata": {
  "kernelspec": {
   "display_name": "Python 3",
   "language": "python",
   "name": "python3"
  },
  "language_info": {
   "codemirror_mode": {
    "name": "ipython",
    "version": 3
   },
   "file_extension": ".py",
   "mimetype": "text/x-python",
   "name": "python",
   "nbconvert_exporter": "python",
   "pygments_lexer": "ipython3",
   "version": "3.7.4"
  }
 },
 "nbformat": 4,
 "nbformat_minor": 4
}
