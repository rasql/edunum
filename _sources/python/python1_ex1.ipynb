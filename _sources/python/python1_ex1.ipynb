{
 "cells": [
  {
   "cell_type": "markdown",
   "metadata": {},
   "source": [
    "# Exercice\n",
    "\n",
    "Ouvrez ce document dans Binder, faites l'exercice dans l'environnement interactif."
   ]
  },
  {
   "cell_type": "markdown",
   "metadata": {},
   "source": [
    "## Calcul numérique\n",
    "\n",
    "Additionnez 123, 4567 et 89."
   ]
  },
  {
   "cell_type": "code",
   "execution_count": null,
   "metadata": {},
   "outputs": [],
   "source": [
    "123"
   ]
  },
  {
   "cell_type": "markdown",
   "metadata": {},
   "source": [
    "Multiplier 123 et 456 et additonner 78."
   ]
  },
  {
   "cell_type": "code",
   "execution_count": null,
   "metadata": {},
   "outputs": [],
   "source": [
    "123"
   ]
  },
  {
   "cell_type": "markdown",
   "metadata": {},
   "source": [
    "Additionner 123 et 4567 et ensuite diviser par 89."
   ]
  },
  {
   "cell_type": "code",
   "execution_count": 22,
   "metadata": {},
   "outputs": [
    {
     "data": {
      "text/plain": [
       "123"
      ]
     },
     "execution_count": 22,
     "metadata": {},
     "output_type": "execute_result"
    }
   ],
   "source": [
    "123"
   ]
  },
  {
   "cell_type": "markdown",
   "metadata": {},
   "source": [
    "## Somme\n",
    "Calcule la somme des nombre 1 à 7."
   ]
  },
  {
   "cell_type": "code",
   "execution_count": 20,
   "metadata": {},
   "outputs": [
    {
     "data": {
      "text/plain": [
       "6"
      ]
     },
     "execution_count": 20,
     "metadata": {},
     "output_type": "execute_result"
    }
   ],
   "source": [
    "1 + 2 + 3"
   ]
  },
  {
   "cell_type": "markdown",
   "metadata": {},
   "source": [
    "## Carrées\n",
    "Calcule la somme des carrée des nombres 1 à 6"
   ]
  },
  {
   "cell_type": "code",
   "execution_count": null,
   "metadata": {},
   "outputs": [],
   "source": [
    "1**2 + 2**2"
   ]
  },
  {
   "cell_type": "markdown",
   "metadata": {},
   "source": [
    "## Rectangle\n",
    "Calculez \n",
    "- la surface\n",
    "- le périmètre\n",
    "- la diagonale d'une réctangle. \n",
    "\n",
    "Remplacez `None` par la formule adéquate. \n",
    "Utilisez la formule de Pythagore pour calculer la diagonale.\n",
    "\n",
    "$$ c = \\sqrt{a^2 + b^2} $$\n",
    "\n",
    "L'opérateur de puissance est `**`. \n",
    "Pour calculer la racine utilisez la relation\n",
    "\n",
    "$$ \\sqrt{a} = a^{0.5} $$"
   ]
  },
  {
   "cell_type": "code",
   "execution_count": 33,
   "metadata": {},
   "outputs": [
    {
     "name": "stdout",
     "output_type": "stream",
     "text": [
      "longeur = 4\n",
      "largeur = 5\n",
      "surface = None\n",
      "périmètre = None\n",
      "diagonale = None\n"
     ]
    }
   ],
   "source": [
    "a = 4\n",
    "b = 5\n",
    "print('longeur =', a)\n",
    "print('largeur =', b)\n",
    "\n",
    "print('surface =', None)\n",
    "print('périmètre =', None)\n",
    "print('diagonale =', None)"
   ]
  },
  {
   "cell_type": "markdown",
   "metadata": {},
   "source": [
    "## Cercle\n",
    "A partir du rayon, calculer le diamètre **d**, la circonférence **c** et la surface **s** d'un cercle.\n",
    "\n",
    "Rappel: \n",
    "\n",
    "$$ d = 2r $$\n",
    "$$ c = 2 \\pi r $$\n",
    "$$ s = \\pi r^2 $$\n"
   ]
  },
  {
   "cell_type": "code",
   "execution_count": 34,
   "metadata": {},
   "outputs": [
    {
     "name": "stdout",
     "output_type": "stream",
     "text": [
      "rayon = 3.5\n",
      "diamètre = None\n",
      "circonférence = None\n",
      "surface = None\n"
     ]
    }
   ],
   "source": [
    "r = 3.5\n",
    "print('rayon =', r)\n",
    "\n",
    "print('diamètre =', None)\n",
    "print('circonférence =', None)\n",
    "print('surface =', None)"
   ]
  },
  {
   "cell_type": "markdown",
   "metadata": {},
   "source": [
    "## Exercice à faire avec Thonny\n",
    "\n",
    "Copiez le code dans les cellules ci-dessous dans votre éditeur Python et complétez"
   ]
  },
  {
   "cell_type": "code",
   "execution_count": 36,
   "metadata": {},
   "outputs": [],
   "source": [
    "# Affecter la valeur 100 à la variable x\n",
    "\n",
    "# Afficher la variable x\n",
    "\n",
    "# Calculer et afficher 2 à la puissance x\n",
    "\n",
    "# Calculer et afficher x à la puissance 2\n"
   ]
  },
  {
   "cell_type": "code",
   "execution_count": 42,
   "metadata": {},
   "outputs": [
    {
     "name": "stdout",
     "output_type": "stream",
     "text": [
      "hello\n",
      "months = None\n",
      "days = None\n"
     ]
    }
   ],
   "source": [
    "# %load ex/hello.py\n",
    "print('hello')\n",
    "\n",
    "year = 2020\n",
    "\n",
    "# calculer les mois et jours\n",
    "print('months =', None)\n",
    "print('days =', None)"
   ]
  },
  {
   "cell_type": "code",
   "execution_count": 43,
   "metadata": {},
   "outputs": [
    {
     "name": "stdout",
     "output_type": "stream",
     "text": [
      "Exercice 4\n",
      "Table de multiplication\n",
      "-----------------------\n"
     ]
    }
   ],
   "source": [
    "# Exercice 4\n",
    "# Objectifs\n",
    "# - if else\n",
    "# - boucle for\n",
    "\n",
    "print('Exercice 4')\n",
    "print('Table de multiplication')\n",
    "print('-----------------------')\n",
    "\n",
    "# Ecrire un programme qui:\n",
    "# \n",
    "# 1. Demande à l'utilisateur un nombre entre 1 et 10\n",
    "# 2. Verifie que ce nombre est compris entre 1 et 10.\n",
    "# 3. Affiche le livret de ce nombre (table de multiplication)\n",
    "\n",
    "# x = input('choisissez un nombre entre 1 et 10 : ')\n",
    "# y = int(x)"
   ]
  },
  {
   "cell_type": "markdown",
   "metadata": {},
   "source": [
    "## Download\n",
    "\n",
    "\n",
    "``` {literalinclude} ex/hello.py\n",
    ":lines: 3-\n",
    "```\n",
    "\n",
    "{download}`ex/hello.py <ex/hello.py>`"
   ]
  },
  {
   "cell_type": "code",
   "execution_count": null,
   "metadata": {},
   "outputs": [],
   "source": []
  }
 ],
 "metadata": {
  "kernelspec": {
   "display_name": "Python 3",
   "language": "python",
   "name": "python3"
  },
  "language_info": {
   "codemirror_mode": {
    "name": "ipython",
    "version": 3
   },
   "file_extension": ".py",
   "mimetype": "text/x-python",
   "name": "python",
   "nbconvert_exporter": "python",
   "pygments_lexer": "ipython3",
   "version": "3.7.4"
  }
 },
 "nbformat": 4,
 "nbformat_minor": 4
}