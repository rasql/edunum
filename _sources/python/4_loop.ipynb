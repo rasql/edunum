{
 "cells": [
  {
   "cell_type": "markdown",
   "id": "western-swing",
   "metadata": {},
   "source": [
    "# Boucle\n",
    "\n",
    "Une boucle permet de **répéter** un bloc d'instructions un certain nombre de fois.\n",
    "\n",
    "![loop](https://media.giphy.com/media/FGnCkFfcHXaGk/giphy.gif)"
   ]
  },
  {
   "cell_type": "markdown",
   "id": "adjusted-hazard",
   "metadata": {},
   "source": [
    "## La boucle `for`\n",
    "\n",
    "La boucle `for` est une répétition pour chaque élément d'un ensemble.\n",
    "\n",
    "```python\n",
    "for x in sequence:\n",
    "    bloc\n",
    "```\n",
    "\n",
    "Formellement nous avons\n",
    "\n",
    "- le mot-clé `for`\n",
    "- une variable `x`\n",
    "- le mot-clé `in`\n",
    "- une `séquence` (liste, chaîne, plage)\n",
    "- le deux-points `:`\n",
    "- un `bloc` d'instructions indenté."
   ]
  },
  {
   "cell_type": "markdown",
   "id": "connected-windows",
   "metadata": {},
   "source": [
    "## Le caractère séquentiel\n",
    "Pour ralentir notre boucle nous allons importer la fonction `sleep` du module `time`.  \n",
    "Le ralentissement nous montre le **caractère séquentielle** de la boucle."
   ]
  },
  {
   "cell_type": "code",
   "execution_count": 1,
   "id": "considered-proof",
   "metadata": {},
   "outputs": [
    {
     "name": "stdout",
     "output_type": "stream",
     "text": [
      "Ada\n",
      "Grace\n",
      "Anita\n"
     ]
    }
   ],
   "source": [
    "from time import sleep\n",
    "liste = ['Ada', 'Grace', 'Anita']\n",
    "\n",
    "for x in liste:\n",
    "    print(x)\n",
    "    sleep(1)"
   ]
  },
  {
   "cell_type": "markdown",
   "id": "buried-buffer",
   "metadata": {},
   "source": [
    "**Exercice**  \n",
    "Ajoutez deux noms à la liste et diminuez le temps à 0.5 secondes."
   ]
  },
  {
   "cell_type": "markdown",
   "id": "controlled-patent",
   "metadata": {},
   "source": [
    "## Vocabulaire\n",
    "\n",
    "On appelle les répétions du `bloc` aussi des **itérations**.  \n",
    "On dit **itérer sur la séquence**.  \n",
    "\n",
    "La **séquence** peut être:\n",
    "- une plage (range)\n",
    "- une liste\n",
    "- une chaîne de caractères\n",
    "\n",
    "On appelle la variable `x` un **itérateur**. Cette variable peut avoir n'importe quel nom.  \n",
    "L'itérateur prend successivement toutes les valeurs de la séquence, une après l'autre."
   ]
  },
  {
   "cell_type": "markdown",
   "id": "italic-concord",
   "metadata": {},
   "source": [
    "## Indentation\n",
    "\n",
    "Le bloc répété consiste en une ou plusieurs (1+) instructions. \n",
    "Toutes les instructions qui font partie du bloc sont **indentées**.\n",
    "La première instruction qui n'est plus indentée ne fait plus partie du bloc.\n",
    "\n",
    "Ici **instruction** fait partie du bloc d'itération.  \n",
    "Donc, cette instruction est exécutée 3 fois."
   ]
  },
  {
   "cell_type": "code",
   "execution_count": 2,
   "id": "downtown-visiting",
   "metadata": {},
   "outputs": [
    {
     "name": "stdout",
     "output_type": "stream",
     "text": [
      "i = 0\n",
      "instruction\n",
      "i = 1\n",
      "instruction\n",
      "i = 2\n",
      "instruction\n"
     ]
    }
   ],
   "source": [
    "for i in range(3):\n",
    "    print('i =', i)\n",
    "    print('instruction')"
   ]
  },
  {
   "cell_type": "markdown",
   "id": "cognitive-finger",
   "metadata": {},
   "source": [
    "Maintenant, **instruction** ne fait plus partie du bloc d'itération.  \n",
    "Cette instruction est exécutée seulement une fois."
   ]
  },
  {
   "cell_type": "code",
   "execution_count": 3,
   "id": "valuable-submission",
   "metadata": {},
   "outputs": [
    {
     "name": "stdout",
     "output_type": "stream",
     "text": [
      "i = 0\n",
      "i = 1\n",
      "i = 2\n",
      "instruction\n"
     ]
    }
   ],
   "source": [
    "for i in range(3):\n",
    "    print('i =', i)\n",
    "print('instruction')"
   ]
  },
  {
   "cell_type": "markdown",
   "id": "former-permit",
   "metadata": {},
   "source": [
    "**Exercice**  \n",
    "Que se passe-t-il si l'instruction `for` n'est pas suivi d'une linge indentée?"
   ]
  },
  {
   "cell_type": "markdown",
   "id": "wicked-thailand",
   "metadata": {},
   "source": [
    "## Itérer sur une liste\n",
    "\n",
    "Voici une itération sur une liste de textes."
   ]
  },
  {
   "cell_type": "code",
   "execution_count": 4,
   "id": "civic-village",
   "metadata": {},
   "outputs": [
    {
     "name": "stdout",
     "output_type": "stream",
     "text": [
      "pomme\n",
      "poire\n",
      "orange\n"
     ]
    }
   ],
   "source": [
    "fruits = ['pomme', 'poire', 'orange']\n",
    "\n",
    "for fruit in fruits:\n",
    "    print(fruit)"
   ]
  },
  {
   "cell_type": "markdown",
   "id": "written-philip",
   "metadata": {},
   "source": [
    "Voici une itération sur une liste de nombres."
   ]
  },
  {
   "cell_type": "code",
   "execution_count": 5,
   "id": "fitted-smooth",
   "metadata": {},
   "outputs": [
    {
     "name": "stdout",
     "output_type": "stream",
     "text": [
      "2 ** 2 = 4\n",
      "3 ** 2 = 9\n",
      "5 ** 2 = 25\n",
      "7 ** 2 = 49\n"
     ]
    }
   ],
   "source": [
    "premiers = [2, 3, 5, 7]\n",
    "\n",
    "for i in premiers:\n",
    "    print(i, '** 2 =', i**2)\n",
    "    sleep(1)"
   ]
  },
  {
   "cell_type": "code",
   "execution_count": 6,
   "id": "sought-penny",
   "metadata": {},
   "outputs": [
    {
     "name": "stdout",
     "output_type": "stream",
     "text": [
      "elle est belle\n",
      "elle est riche\n",
      "elle est intelligente\n"
     ]
    }
   ],
   "source": [
    "adjectives = ['belle', 'riche', 'intelligente']\n",
    "\n",
    "for x in adjectives:\n",
    "    print('elle est', x)\n",
    "    sleep(1)"
   ]
  },
  {
   "cell_type": "markdown",
   "id": "smaller-terrace",
   "metadata": {},
   "source": [
    "**Exercice**  \n",
    "Changez la phrase au masculin et ajoutez un adjectif en plus."
   ]
  },
  {
   "cell_type": "markdown",
   "id": "thrown-expense",
   "metadata": {},
   "source": [
    "## Itérer sur une chaine\n",
    "\n",
    "La boucle `for` peut itérer sur une chaine.  \n",
    "L'itérateur prend alors chaque valeur de la séquence."
   ]
  },
  {
   "cell_type": "code",
   "execution_count": 7,
   "id": "offensive-leone",
   "metadata": {},
   "outputs": [
    {
     "name": "stdout",
     "output_type": "stream",
     "text": [
      "P\n",
      "y\n",
      "t\n",
      "h\n",
      "o\n",
      "n\n"
     ]
    }
   ],
   "source": [
    "for c in 'Python':\n",
    "    print(c)\n",
    "    sleep(0.5)"
   ]
  },
  {
   "cell_type": "markdown",
   "id": "functioning-gregory",
   "metadata": {},
   "source": [
    "**Exercice**  \n",
    "Faites la phrase plus longue et utilisez l'option `end=''` dans `print` pour écrire sur une même ligne."
   ]
  },
  {
   "cell_type": "markdown",
   "id": "smaller-poland",
   "metadata": {},
   "source": [
    "## Itérer sur une plage\n",
    "\n",
    "Nous pouvons itérer sur une plage d'entiers"
   ]
  },
  {
   "cell_type": "code",
   "execution_count": 8,
   "id": "narrative-procedure",
   "metadata": {},
   "outputs": [
    {
     "name": "stdout",
     "output_type": "stream",
     "text": [
      "1 * 2 = 2\n",
      "2 * 2 = 4\n",
      "3 * 2 = 6\n",
      "4 * 2 = 8\n",
      "5 * 2 = 10\n",
      "6 * 2 = 12\n"
     ]
    }
   ],
   "source": [
    "for i in range(1, 7):\n",
    "    print(i, '* 2 =', i*2)"
   ]
  },
  {
   "cell_type": "markdown",
   "id": "historic-attention",
   "metadata": {},
   "source": [
    "Nous pouvons utiliser l'itérateur multiple fois dans le bloc d'itération.  "
   ]
  },
  {
   "cell_type": "code",
   "execution_count": 9,
   "id": "enclosed-numbers",
   "metadata": {},
   "outputs": [
    {
     "name": "stdout",
     "output_type": "stream",
     "text": [
      "10 * 10 = 100\n",
      "11 * 11 = 121\n",
      "12 * 12 = 144\n",
      "13 * 13 = 169\n",
      "14 * 14 = 196\n"
     ]
    }
   ],
   "source": [
    "for i in range(10, 15):\n",
    "    print(i, '*', i, '=', i*i)"
   ]
  },
  {
   "cell_type": "markdown",
   "id": "lyric-medicaid",
   "metadata": {},
   "source": [
    "**Exercice:**  \n",
    "Calculez les cubes de 200 à 205."
   ]
  },
  {
   "cell_type": "markdown",
   "id": "reflected-meter",
   "metadata": {},
   "source": [
    "## Boucles imbriquées\n",
    "\n",
    "Une boucle peut être placée dans le corps d'une autre boucle.  \n",
    "Nous appelons \n",
    "- la boucle en `i` boucle extérieure, et \n",
    "- la boucle en `j` boucle intérieure."
   ]
  },
  {
   "cell_type": "code",
   "execution_count": 10,
   "id": "assigned-right",
   "metadata": {},
   "outputs": [
    {
     "name": "stdout",
     "output_type": "stream",
     "text": [
      "i = 0  j = 0\n",
      "i = 0  j = 1\n",
      "i = 1  j = 0\n",
      "i = 1  j = 1\n",
      "i = 2  j = 0\n",
      "i = 2  j = 1\n"
     ]
    }
   ],
   "source": [
    "for i in range(3):\n",
    "    for j in range(2):\n",
    "        print('i =', i, ' j =', j)"
   ]
  },
  {
   "cell_type": "markdown",
   "id": "acceptable-native",
   "metadata": {},
   "source": [
    "Normalement chaque instruction `print` se termine avec un retour à la ligne.\n",
    "L'argument optionnel `end` permet de le changer en 3 espaces `'   '`."
   ]
  },
  {
   "cell_type": "code",
   "execution_count": 11,
   "id": "economic-jackson",
   "metadata": {},
   "outputs": [
    {
     "name": "stdout",
     "output_type": "stream",
     "text": [
      "( 0 0 )   ( 0 1 )   ( 0 2 )   ( 0 3 )   ( 0 4 )   \n",
      "( 1 0 )   ( 1 1 )   ( 1 2 )   ( 1 3 )   ( 1 4 )   \n",
      "( 2 0 )   ( 2 1 )   ( 2 2 )   ( 2 3 )   ( 2 4 )   \n"
     ]
    }
   ],
   "source": [
    "for i in range(3):\n",
    "    for j in range(5):\n",
    "        print('(', i, j, ')', end='   ')\n",
    "    print()"
   ]
  },
  {
   "cell_type": "markdown",
   "id": "present-activation",
   "metadata": {},
   "source": [
    "Les boucles imbriquées nous permettent par exemple de programmer une table de multiplication.\n",
    "Cette fois nous utilisons le caractère spécial **tabulateur** `\\t` qui aligne les caractères sur des multiples de 8."
   ]
  },
  {
   "cell_type": "code",
   "execution_count": 12,
   "id": "possible-collapse",
   "metadata": {},
   "outputs": [
    {
     "name": "stdout",
     "output_type": "stream",
     "text": [
      "1\t2\t3\t4\t5\t6\t7\t8\t9\t\n",
      "2\t4\t6\t8\t10\t12\t14\t16\t18\t\n",
      "3\t6\t9\t12\t15\t18\t21\t24\t27\t\n",
      "4\t8\t12\t16\t20\t24\t28\t32\t36\t\n"
     ]
    }
   ],
   "source": [
    "for i in range(1, 5):\n",
    "    for j in range(1, 10):\n",
    "        print(i * j, end='\\t')\n",
    "    print()"
   ]
  },
  {
   "cell_type": "markdown",
   "id": "dedicated-murder",
   "metadata": {},
   "source": [
    "**Exercice**  \n",
    "Créez une table de multiplication jusqu'à 12 x 12."
   ]
  },
  {
   "cell_type": "markdown",
   "id": "sweet-handy",
   "metadata": {},
   "source": [
    "## La boucle `while`\n",
    "\n",
    "La boucle `while` est utilisé pour itérer tandis qu'une condition est vrai.  \n",
    "Par exemple nous pouvons répéter une fonction `input` jusqu'à ce que la chaine vide est donnée."
   ]
  },
  {
   "cell_type": "code",
   "execution_count": 13,
   "id": "seeing-letter",
   "metadata": {},
   "outputs": [
    {
     "name": "stdin",
     "output_type": "stream",
     "text": [
      "entrez un nom: Peter\n",
      "entrez un nom: Paul\n",
      "entrez un nom: \n"
     ]
    },
    {
     "name": "stdout",
     "output_type": "stream",
     "text": [
      "Game Over\n"
     ]
    }
   ],
   "source": [
    "x = input('entrez un nom:')\n",
    "while x:\n",
    "    x = input('entrez un nom:')\n",
    "    \n",
    "print('Game Over')"
   ]
  },
  {
   "cell_type": "markdown",
   "id": "hindu-policy",
   "metadata": {},
   "source": [
    "**Exercice**  \n",
    "Modifiez la condition pour que l'on doit entrer un point `.` pour terminer la boucle."
   ]
  },
  {
   "cell_type": "markdown",
   "id": "modified-documentation",
   "metadata": {},
   "source": [
    "## Décompte\n",
    "\n",
    "Souvent la condition est basé sur une comparaison. Ici on itère tandis que `n` reste positif.  \n",
    "Dans ce cas on décremente ou incrémente le compter pendant chaque itération."
   ]
  },
  {
   "cell_type": "code",
   "execution_count": 14,
   "id": "exact-demographic",
   "metadata": {},
   "outputs": [
    {
     "name": "stdout",
     "output_type": "stream",
     "text": [
      "🧨\n",
      "3\n",
      "2\n",
      "1\n",
      "💥\n"
     ]
    }
   ],
   "source": [
    "from time import sleep\n",
    "\n",
    "n = 3\n",
    "print('🧨')\n",
    "\n",
    "while n > 0:\n",
    "    print(n)\n",
    "    sleep(1)\n",
    "    n = n-1\n",
    "    \n",
    "print('💥')"
   ]
  },
  {
   "cell_type": "markdown",
   "id": "experimental-associate",
   "metadata": {},
   "source": [
    "**Exercice**  \n",
    "Utilisez la fonction `input` pour choisir le valeur de départ du décompte."
   ]
  },
  {
   "cell_type": "code",
   "execution_count": null,
   "id": "confidential-intent",
   "metadata": {},
   "outputs": [],
   "source": []
  }
 ],
 "metadata": {
  "kernelspec": {
   "display_name": "Python 3",
   "language": "python",
   "name": "python3"
  },
  "language_info": {
   "codemirror_mode": {
    "name": "ipython",
    "version": 3
   },
   "file_extension": ".py",
   "mimetype": "text/x-python",
   "name": "python",
   "nbconvert_exporter": "python",
   "pygments_lexer": "ipython3",
   "version": "3.7.9"
  }
 },
 "nbformat": 4,
 "nbformat_minor": 5
}
