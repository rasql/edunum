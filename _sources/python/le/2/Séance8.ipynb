{
 "cells": [
  {
   "cell_type": "markdown",
   "metadata": {},
   "source": [
    "# Séance 8"
   ]
  },
  {
   "cell_type": "markdown",
   "metadata": {},
   "source": [
    "Bienvenue dans votre premier **Jupyter notebook**. Chaque cellule doit être exécutée en appuyant simulatanément sur les touches **SHIFT + ENTER**"
   ]
  },
  {
   "cell_type": "markdown",
   "metadata": {},
   "source": [
    "## Exercice 1\n",
    "Objectifs :\n",
    "- input()\n",
    "- booléen\n",
    "1. A l'aide de la fonction input() demandez l'année de naissance et mettez-la dans la variable **annee**\n",
    "2. Convertir le contenu de la variable **annee** en nombre avec la fonction `int()`\n",
    "3. Calculez l'age en le mettant dans une variable **age**\n",
    "4. Testez si l'age est inférieur à 18"
   ]
  },
  {
   "cell_type": "code",
   "execution_count": 14,
   "metadata": {},
   "outputs": [],
   "source": [
    "a=1"
   ]
  },
  {
   "cell_type": "markdown",
   "metadata": {},
   "source": [
    "## Exercice 2\n",
    "\n",
    "Objectif : if elif else\n",
    "\n",
    "1. Créez une variable note et lui affecter 5\n",
    "2. Utilisez la fonction print() pour afficher la valeur de la variable note seule.\n",
    "3. Utilisez print() pour afficher la note et **un texte explicatif** \"Ma note est : \"\n",
    "4. Avec l'instruction `if else` affichez **Réussi** si la note est supérieure à 4 et **Echec** sinon \n",
    "5. Changez le code pour afficher **Excellent** si la note vaut 6\n",
    "6. Testez le code en changeant la valeur de note"
   ]
  },
  {
   "cell_type": "code",
   "execution_count": null,
   "metadata": {},
   "outputs": [],
   "source": []
  },
  {
   "cell_type": "markdown",
   "metadata": {},
   "source": [
    "## Exercice 3\n",
    "Objectif : boucle `for`\n",
    "\n",
    "\n",
    "Voici les codes pour afficher un rectangle, triangle et triangle miroir\n",
    "1. Affichez une pyramide\n",
    "2. Affichez une maison"
   ]
  },
  {
   "cell_type": "code",
   "execution_count": 6,
   "metadata": {},
   "outputs": [
    {
     "name": "stdout",
     "output_type": "stream",
     "text": [
      "Rectangle\n",
      "0 $$$$$$$\n",
      "1 $$$$$$$\n",
      "2 $$$$$$$\n"
     ]
    }
   ],
   "source": [
    "print('Rectangle')\n",
    "a = 3\n",
    "b = 7\n",
    "for i in range(a):\n",
    "    print(i, '$' * b)\n",
    "print()"
   ]
  },
  {
   "cell_type": "code",
   "execution_count": 8,
   "metadata": {},
   "outputs": [
    {
     "name": "stdout",
     "output_type": "stream",
     "text": [
      "triangle\n",
      "1 $\n",
      "2 $$\n",
      "3 $$$\n",
      "4 $$$$\n",
      "5 $$$$$\n"
     ]
    }
   ],
   "source": [
    "print('Triangle')\n",
    "for i in range(1, 6):\n",
    "    print(i, '$' * i)\n"
   ]
  },
  {
   "cell_type": "code",
   "execution_count": 9,
   "metadata": {},
   "outputs": [
    {
     "name": "stdout",
     "output_type": "stream",
     "text": [
      "triangle moroir\n",
      "1       X\n",
      "2      XX\n",
      "3     XXX\n",
      "4    XXXX\n",
      "5   XXXXX\n"
     ]
    }
   ],
   "source": [
    "print('Triangle moroir')\n",
    "for i in range(1, 6):\n",
    "    print(i, ' '*(6-i), 'X' * i)\n"
   ]
  },
  {
   "cell_type": "code",
   "execution_count": 12,
   "metadata": {},
   "outputs": [
    {
     "name": "stdout",
     "output_type": "stream",
     "text": [
      "Pyramide\n"
     ]
    }
   ],
   "source": [
    "print('Pyramide')"
   ]
  },
  {
   "cell_type": "code",
   "execution_count": 11,
   "metadata": {},
   "outputs": [
    {
     "name": "stdout",
     "output_type": "stream",
     "text": [
      "Maison\n"
     ]
    }
   ],
   "source": [
    "print('Maison')"
   ]
  },
  {
   "cell_type": "markdown",
   "metadata": {},
   "source": [
    "## Exercice 4\n",
    "Objectifs \n",
    "* input()\n",
    "* print()\n",
    "* if else\n",
    "* for\n",
    "\n",
    "1. Avec la fonction input() et un texte explicatif, demandez la saisie d'un nombre entre 1 et 10\n",
    "2. Verifiez que ce nombre est inférieur à 10 et supérieur ou égal à 10\n",
    "3. Avec une boucle `for` et la fonction `print()` affichez le livret de ce nombre (table de multiplication) "
   ]
  },
  {
   "cell_type": "code",
   "execution_count": null,
   "metadata": {},
   "outputs": [],
   "source": []
  }
 ],
 "metadata": {
  "kernelspec": {
   "display_name": "Python 3",
   "language": "python",
   "name": "python3"
  },
  "language_info": {
   "codemirror_mode": {
    "name": "ipython",
    "version": 3
   },
   "file_extension": ".py",
   "mimetype": "text/x-python",
   "name": "python",
   "nbconvert_exporter": "python",
   "pygments_lexer": "ipython3",
   "version": "3.8.5"
  }
 },
 "nbformat": 4,
 "nbformat_minor": 4
}
