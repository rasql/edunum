{
 "cells": [
  {
   "cell_type": "markdown",
   "metadata": {},
   "source": [
    "# Séance 8"
   ]
  },
  {
   "cell_type": "markdown",
   "metadata": {},
   "source": [
    "## Aide mémoire Python"
   ]
  },
  {
   "cell_type": "markdown",
   "metadata": {},
   "source": [
    "### Symbole égal\n",
    "\n",
    "* `x = 4` : Affectation de la valeur 4 à la variable `x`.\n",
    "* `x = x + 1` : Incrémentation de la variable x de 1. `x` devient 5.\n",
    "* `x == 5` : Teste si la valeur de `x` est égale à 5 (`True`)\n",
    "\n",
    "L'expression `x == 5` revient à poser la question: est-ce que `x` est égal à 5?"
   ]
  },
  {
   "cell_type": "markdown",
   "metadata": {},
   "source": [
    "### La fonction print()\n",
    "\n",
    "* `print(x)`Affiche dans la console la valeur de la variable x\n",
    "* `print('texte')`affiche texte\n",
    "* `print('la valeur est : ', x)`\t\taffiche la valeur est : 5"
   ]
  },
  {
   "cell_type": "markdown",
   "metadata": {},
   "source": [
    "### La fonction input()\n",
    "\n",
    "- `input()`Attend une saisie, suivie de *Enter*.\n",
    "- `input('message explicatif')`Affiche message explicatif et attend la saisie.\n",
    "- `a = input('Entrer votre nom:')` Affiche Entrer votre nom:, attend la saisie qui sera sauvegardée dans a. "
   ]
  },
  {
   "cell_type": "markdown",
   "metadata": {},
   "source": [
    "## Cours"
   ]
  },
  {
   "cell_type": "markdown",
   "metadata": {},
   "source": [
    "### Type de données\n",
    "\n",
    "* Nombre\n",
    "* Texte\n",
    "* Booléen\n",
    "\n",
    "Voici 3 exemples d'un nombre."
   ]
  },
  {
   "cell_type": "code",
   "execution_count": null,
   "metadata": {},
   "outputs": [],
   "source": [
    "print(1, 100, 1.23)"
   ]
  },
  {
   "cell_type": "markdown",
   "metadata": {},
   "source": [
    "Voici 3 exemples d'un texte."
   ]
  },
  {
   "cell_type": "code",
   "execution_count": null,
   "metadata": {},
   "outputs": [],
   "source": [
    "print('c', 'Hello', \"Hello\")"
   ]
  },
  {
   "cell_type": "markdown",
   "metadata": {},
   "source": [
    "Le type booléen a seulement deux valeurs"
   ]
  },
  {
   "cell_type": "code",
   "execution_count": 3,
   "metadata": {},
   "outputs": [
    {
     "data": {
      "text/plain": [
       "(True, False)"
      ]
     },
     "execution_count": 3,
     "metadata": {},
     "output_type": "execute_result"
    }
   ],
   "source": [
    "True, False"
   ]
  },
  {
   "cell_type": "markdown",
   "metadata": {},
   "source": [
    "Le type booléen est retourné comme résultat d'une comparaison."
   ]
  },
  {
   "cell_type": "code",
   "execution_count": 4,
   "metadata": {},
   "outputs": [
    {
     "data": {
      "text/plain": [
       "True"
      ]
     },
     "execution_count": 4,
     "metadata": {},
     "output_type": "execute_result"
    }
   ],
   "source": [
    "2 > 1"
   ]
  },
  {
   "cell_type": "markdown",
   "metadata": {},
   "source": [
    "Souvent on se pose une question du style est-ce que `x` est plus grand que 10?"
   ]
  },
  {
   "cell_type": "code",
   "execution_count": 5,
   "metadata": {},
   "outputs": [
    {
     "data": {
      "text/plain": [
       "False"
      ]
     },
     "execution_count": 5,
     "metadata": {},
     "output_type": "execute_result"
    }
   ],
   "source": [
    "x = 5   # affectation\n",
    "x > 10  # comparaison"
   ]
  },
  {
   "cell_type": "markdown",
   "metadata": {},
   "source": [
    "### Les fonctions `int()` et `str()`"
   ]
  },
  {
   "cell_type": "markdown",
   "metadata": {},
   "source": [
    "La fonction `int()` permet et de convertir un texte en entier quand cela est possible."
   ]
  },
  {
   "cell_type": "code",
   "execution_count": 6,
   "metadata": {},
   "outputs": [
    {
     "data": {
      "text/plain": [
       "1234"
      ]
     },
     "execution_count": 6,
     "metadata": {},
     "output_type": "execute_result"
    }
   ],
   "source": [
    "int('1234')"
   ]
  },
  {
   "cell_type": "markdown",
   "metadata": {},
   "source": [
    "La fonction `str()` permet et de convertir un nombre en texte."
   ]
  },
  {
   "cell_type": "code",
   "execution_count": 7,
   "metadata": {},
   "outputs": [
    {
     "data": {
      "text/plain": [
       "'1234'"
      ]
     },
     "execution_count": 7,
     "metadata": {},
     "output_type": "execute_result"
    }
   ],
   "source": [
    "str(1234)"
   ]
  },
  {
   "cell_type": "markdown",
   "metadata": {},
   "source": [
    "### L'instruction `if elif else`\n",
    "\n",
    "Cette instruction permet de faire un choix entre plusiers blocs d'instructions.\n",
    "\n",
    "Dans l'exemple ci-dessous il y a trois blocs.  \n",
    "Seulement un des trois sera executé.  \n",
    "Le choix se fait selon les 2 tests.\n",
    "\n",
    "Essayez de modifier `n` et re-exécutez."
   ]
  },
  {
   "cell_type": "code",
   "execution_count": 8,
   "metadata": {},
   "outputs": [
    {
     "name": "stdout",
     "output_type": "stream",
     "text": [
      "n vaud zéro\n"
     ]
    }
   ],
   "source": [
    "n = 0\n",
    "if n > 0 :\n",
    "    print('n positif')\n",
    "elif n < 0:\n",
    "    print('n négatif')\n",
    "else:\n",
    "    print('n vaud zéro')"
   ]
  },
  {
   "cell_type": "markdown",
   "metadata": {},
   "source": [
    "### Attention\n",
    "\n",
    "1. Les  `:` introduisent le bloc d'instructions à executer \n",
    "1. Les instructions d'un même bloc sont aligées.\n",
    "\n",
    "Changez la valeur de n et observez le resultat:"
   ]
  },
  {
   "cell_type": "code",
   "execution_count": 9,
   "metadata": {},
   "outputs": [
    {
     "name": "stdout",
     "output_type": "stream",
     "text": [
      "bloc if\n",
      "bloc if\n"
     ]
    }
   ],
   "source": [
    " n = 2\n",
    "if n > 0:\n",
    "    print('bloc if')\n",
    "    print('bloc if')\n",
    "elif n < 0:\n",
    "    print('bloc elif')\n",
    "    print('bloc elif')\n",
    "else:\n",
    "    print('bloc else')\n",
    "    print('bloc else')"
   ]
  },
  {
   "cell_type": "markdown",
   "metadata": {},
   "source": [
    "## Exercice 1\n",
    "\n",
    "1. A l'aide de la fonction input() demandez l'année de naissance et la mettre dans la variable annee\n",
    "1. Convertissez l'annee de naissance en nombre avec la fonction int()\n",
    "1. Calculez l'age de l'utilisateur\n",
    "1. Testez si l'age est inférieur à 18"
   ]
  },
  {
   "cell_type": "code",
   "execution_count": 10,
   "metadata": {},
   "outputs": [],
   "source": [
    "pass"
   ]
  },
  {
   "cell_type": "markdown",
   "metadata": {},
   "source": [
    "## Exercice 2"
   ]
  },
  {
   "cell_type": "markdown",
   "metadata": {},
   "source": [
    "1. Réaffectez 4 à la variable *note*\n",
    "1.Utilisez la fonction `print()` pour afficher la valeur de la variable note seule\n",
    "1. Ecrivez une instruction conditionnelle (if elif else) pour afficher en fonction de la note :\n",
    "    * n >= 4 affiche 'Bien !'\n",
    "    * n < 4 affiche 'Ce n'est pas assez! '"
   ]
  },
  {
   "cell_type": "code",
   "execution_count": 11,
   "metadata": {},
   "outputs": [],
   "source": [
    "n = 5 "
   ]
  },
  {
   "cell_type": "markdown",
   "metadata": {},
   "source": [
    "## Le fonction `for`\n",
    "Cette fonction sert à executer un bloc d'instructions N fois."
   ]
  },
  {
   "cell_type": "code",
   "execution_count": 12,
   "metadata": {},
   "outputs": [
    {
     "name": "stdout",
     "output_type": "stream",
     "text": [
      "i =  0\n",
      "Dans la boucle\n",
      "i =  1\n",
      "Dans la boucle\n",
      "i =  2\n",
      "Dans la boucle\n",
      "i =  3\n",
      "Dans la boucle\n",
      "i =  4\n",
      "Dans la boucle\n",
      "Hors de la boucle\n"
     ]
    }
   ],
   "source": [
    "for i in range(5):\n",
    "    print('i = ', i)\n",
    "    print('Dans la boucle')\n",
    "print('Hors de la boucle')"
   ]
  },
  {
   "cell_type": "markdown",
   "metadata": {},
   "source": [
    "## Exercice 3\n",
    "\n",
    "Ce code dessine un rectangle.  \n",
    "Modifiez les instructions suivantes pour afficher un rectangle 4 x 15"
   ]
  },
  {
   "cell_type": "code",
   "execution_count": 13,
   "metadata": {},
   "outputs": [
    {
     "name": "stdout",
     "output_type": "stream",
     "text": [
      "0 $$$$$$$\n",
      "1 $$$$$$$\n",
      "2 $$$$$$$\n"
     ]
    }
   ],
   "source": [
    "a = 3\n",
    "b = 7\n",
    "for i in range(a):\n",
    "    print(i, '$' * b)"
   ]
  },
  {
   "cell_type": "markdown",
   "metadata": {},
   "source": [
    "Ce code dessine un triangle.  \n",
    "Modifiez les instructions pour afficher un triangle de taille 9 avec le caractère #"
   ]
  },
  {
   "cell_type": "code",
   "execution_count": 14,
   "metadata": {},
   "outputs": [
    {
     "name": "stdout",
     "output_type": "stream",
     "text": [
      "1 $\n",
      "2 $$\n",
      "3 $$$\n",
      "4 $$$$\n",
      "5 $$$$$\n"
     ]
    }
   ],
   "source": [
    "for i in range(1, 6):\n",
    "    print(i, '$' * i)"
   ]
  },
  {
   "cell_type": "markdown",
   "metadata": {},
   "source": [
    "Ce code dessine un triangle en mirroir.  \n",
    "Ecrivez un code qui affiche une pyramide"
   ]
  },
  {
   "cell_type": "code",
   "execution_count": 15,
   "metadata": {},
   "outputs": [
    {
     "name": "stdout",
     "output_type": "stream",
     "text": [
      "1       X\n",
      "2      XX\n",
      "3     XXX\n",
      "4    XXXX\n",
      "5   XXXXX\n"
     ]
    }
   ],
   "source": [
    "for i in range(1, 6):\n",
    "    print(i, ' '*(6-i), 'X' * i)"
   ]
  },
  {
   "cell_type": "markdown",
   "metadata": {},
   "source": [
    "Ecrivez un code qui affiche une maison"
   ]
  },
  {
   "cell_type": "code",
   "execution_count": 16,
   "metadata": {},
   "outputs": [],
   "source": [
    "pass"
   ]
  },
  {
   "cell_type": "markdown",
   "metadata": {},
   "source": [
    "## Exercice 4\n",
    "Ecrivez un programme qui:\n",
    " \n",
    "1. Demandez un nombre entre 1 et 10 (il faut utiliser la fonction `input()` et `int()`)\n",
    "1. Vérifiez que ce nombre est compris entre 1 et 10 (avec `if .. else`)\n",
    "1. Affichez le livret de ce nombre (table de multiplication) (avec boucle `for`)"
   ]
  },
  {
   "cell_type": "code",
   "execution_count": 17,
   "metadata": {},
   "outputs": [],
   "source": [
    "pass"
   ]
  }
 ],
 "metadata": {
  "kernelspec": {
   "display_name": "Python 3",
   "language": "python",
   "name": "python3"
  },
  "language_info": {
   "codemirror_mode": {
    "name": "ipython",
    "version": 3
   },
   "file_extension": ".py",
   "mimetype": "text/x-python",
   "name": "python",
   "nbconvert_exporter": "python",
   "pygments_lexer": "ipython3",
   "version": "3.8.5"
  }
 },
 "nbformat": 4,
 "nbformat_minor": 4
}
