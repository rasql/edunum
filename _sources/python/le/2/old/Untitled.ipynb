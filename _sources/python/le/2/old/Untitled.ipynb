{
 "cells": [
  {
   "cell_type": "markdown",
   "metadata": {},
   "source": [
    "# Cours 9: Python 3\n",
    "## Jupyter notebook\n",
    "\n",
    "Bienvenue dans votre premier Jupyter notebook. Chaque cellule doit être exécutée en appuyant simulatanément sur les touches **SHIFT + ENTER**\n",
    "## Objectifs: \n",
    "* list\n",
    "* range()\n",
    "* chaines de caractères\n",
    "* boucles for et while "
   ]
  },
  {
   "cell_type": "markdown",
   "metadata": {},
   "source": [
    "## Exercice 1 : les listes"
   ]
  },
  {
   "cell_type": "markdown",
   "metadata": {},
   "source": [
    "1. Créez une liste qui s'appelle `fruits` et qui contient les trois chaînes de caractère suivantes :\n",
    "- pomme\n",
    "- poire\n",
    "- cerise\n",
    "\n",
    "**rappel :** \n",
    "`une_liste = ['premier élément','second élément']`"
   ]
  },
  {
   "cell_type": "code",
   "execution_count": null,
   "metadata": {},
   "outputs": [],
   "source": []
  },
  {
   "cell_type": "markdown",
   "metadata": {},
   "source": [
    "2. Affichez le deuxième élément de la liste `fruits` avec la fonction `print()`\n",
    "\n",
    "**rappel :** le premier élément de la liste est `une_liste[0]`"
   ]
  },
  {
   "cell_type": "code",
   "execution_count": null,
   "metadata": {},
   "outputs": [],
   "source": []
  },
  {
   "cell_type": "markdown",
   "metadata": {},
   "source": [
    "3. Remplacez le deuxième élément (poire) par fraise"
   ]
  },
  {
   "cell_type": "code",
   "execution_count": null,
   "metadata": {},
   "outputs": [],
   "source": []
  },
  {
   "cell_type": "markdown",
   "metadata": {},
   "source": [
    "4. Affichez la longueur de la liste avec la fonction print() et len()"
   ]
  },
  {
   "cell_type": "code",
   "execution_count": null,
   "metadata": {},
   "outputs": [],
   "source": []
  },
  {
   "cell_type": "markdown",
   "metadata": {},
   "source": [
    "## Exercice 2: `range`"
   ]
  },
  {
   "cell_type": "code",
   "execution_count": null,
   "metadata": {},
   "outputs": [],
   "source": []
  }
 ],
 "metadata": {
  "kernelspec": {
   "display_name": "Python 3",
   "language": "python",
   "name": "python3"
  },
  "language_info": {
   "codemirror_mode": {
    "name": "ipython",
    "version": 3
   },
   "file_extension": ".py",
   "mimetype": "text/x-python",
   "name": "python",
   "nbconvert_exporter": "python",
   "pygments_lexer": "ipython3",
   "version": "3.8.5"
  }
 },
 "nbformat": 4,
 "nbformat_minor": 4
}
