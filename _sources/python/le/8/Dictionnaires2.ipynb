{
 "cells": [
  {
   "cell_type": "markdown",
   "metadata": {},
   "source": [
    "# Dictionnaires\n",
    "\n",
    "En Python, un _dictionnaire_ est une structure de données qui, comme une liste, contient plusieurs éléments, mais plus puissant. Dans une liste les indices sont des entiers. Dans un dictionnaire les indices peuvent être de n'importe quel type immuable (entier, nombre, texte, tuple, ...).\n",
    "\n",
    "![](dict.jpg)\n",
    "\n",
    "La fonction `dict` crée un dictionnaire vide. On pourrait aussi le créer avec une paire d'accolades `{}`. "
   ]
  },
  {
   "cell_type": "code",
   "execution_count": 1,
   "metadata": {},
   "outputs": [
    {
     "data": {
      "text/plain": [
       "{}"
      ]
     },
     "execution_count": 1,
     "metadata": {},
     "output_type": "execute_result"
    }
   ],
   "source": [
    "d = dict()\n",
    "d"
   ]
  },
  {
   "cell_type": "markdown",
   "metadata": {
    "tags": []
   },
   "source": [
    "**Exercice**  \n",
    "Créez un dictionnaire français_anglais vide nommé `fr_ang` "
   ]
  },
  {
   "cell_type": "markdown",
   "metadata": {},
   "source": [
    "## Mémoire associative\n",
    "\n",
    "Un dictionnaire associe une série de **clés** à une autre série de **valeurs**. Cette structure est aussi appelée \n",
    "\n",
    "- <span commented>mémoire</span><!-- REVIEW/JPP: structure plutôt que mémoire --> associative\n",
    "- table de hachage\n",
    "\n",
    "Ce type de structures de données est standard dans les langages récentes (JavaScript, Python, Ruby) mais absent les langages plus anciens (C, Fortran)."
   ]
  },
  {
   "cell_type": "markdown",
   "metadata": {},
   "source": [
    "Pour ajouter un élément à un dictionnaire stocké dans une variable `d`, <span commented>nous</span><!-- REVIEW/JPP: il y a une alternance de 'nous' et de 'on', il faudrait en choisir un et s'y tenir pour être cohérent --> utilisons une <span commented>expression</span><!-- REVIEW/JPP: instruction (en Python, l'affectation avec = n'est pas une expression) --> de la forme `d[clé] = valeur`. Comme pour un 'vrai' dictionnaire qui associe des mots de deux langues, <span commented>nous pouvons définir ceci</span><!-- REVIEW/JPP: Nous avons défini la liste en parlant directement de la syntaxe avec [a,b] pour construire une liste. Pourrions-nous faire la même chose en commençant par construire un dict tout prêt avec {k:v, k:v, etc.} avant de passer par la construction dynamique? Ça aiderait à conceptualiser cette structure diffile à aborder -->."
   ]
  },
  {
   "cell_type": "code",
   "execution_count": 3,
   "metadata": {},
   "outputs": [
    {
     "data": {
      "text/plain": [
       "{'un': 'one', 'deux': 'two'}"
      ]
     },
     "execution_count": 3,
     "metadata": {},
     "output_type": "execute_result"
    }
   ],
   "source": [
    "d['un'] = 'one'\n",
    "d['deux'] = 'two'\n",
    "d"
   ]
  },
  {
   "cell_type": "markdown",
   "metadata": {},
   "source": [
    "Un dictionnaire est représenté par ceci:\n",
    "\n",
    "- il est délimité par des accolades (`{}`)\n",
    "- ses éléments sont séparés par des virgules (`,`)\n",
    "- chaque élément est une paire **clé:valeur**, où la clé vient en premier, séparée de la valeur associée par un deux-points (`:`)\n",
    "\n",
    "Pour récupérer la valeur associée à une clé, nous utilisons la clé entre crochets (`[]`) — de façon similaire à ce que nous avions fait avec les index des éléments d'une liste."
   ]
  },
  {
   "cell_type": "code",
   "execution_count": 4,
   "metadata": {},
   "outputs": [
    {
     "data": {
      "text/plain": [
       "'two'"
      ]
     },
     "execution_count": 4,
     "metadata": {},
     "output_type": "execute_result"
    }
   ],
   "source": [
    "d['deux']"
   ]
  },
  {
   "cell_type": "markdown",
   "metadata": {},
   "source": [
    "De nouveaux éléments peuvent être ajoutés dans n'importe quel ordre."
   ]
  },
  {
   "cell_type": "code",
   "execution_count": 5,
   "metadata": {},
   "outputs": [
    {
     "data": {
      "text/plain": [
       "{'un': 'one', 'deux': 'two', 'dix': 'ten'}"
      ]
     },
     "execution_count": 5,
     "metadata": {},
     "output_type": "execute_result"
    }
   ],
   "source": [
    "d['dix'] = 'ten'\n",
    "d"
   ]
  },
  {
   "cell_type": "markdown",
   "metadata": {},
   "source": [
    "Avec la fonction `len`, nous trouvons la taille du dictionnaire, c'est-à-dire le nombre de paires clé-valeur qu'il contient."
   ]
  },
  {
   "cell_type": "code",
   "execution_count": 6,
   "metadata": {},
   "outputs": [
    {
     "data": {
      "text/plain": [
       "3"
      ]
     },
     "execution_count": 6,
     "metadata": {},
     "output_type": "execute_result"
    }
   ],
   "source": [
    "len(d)"
   ]
  },
  {
   "cell_type": "markdown",
   "metadata": {},
   "source": [
    "Avec l'opérateur spécial `in`, on peut tester si une clé donnée fait partie du dictionnaire."
   ]
  },
  {
   "cell_type": "code",
   "execution_count": 7,
   "metadata": {},
   "outputs": [
    {
     "data": {
      "text/plain": [
       "True"
      ]
     },
     "execution_count": 7,
     "metadata": {},
     "output_type": "execute_result"
    }
   ],
   "source": [
    "'deux' in d"
   ]
  },
  {
   "cell_type": "markdown",
   "metadata": {},
   "source": [
    "Attention, le test est fait avec les clés, et non pas avec les valeurs."
   ]
  },
  {
   "cell_type": "code",
   "execution_count": 8,
   "metadata": {},
   "outputs": [
    {
     "data": {
      "text/plain": [
       "False"
      ]
     },
     "execution_count": 8,
     "metadata": {},
     "output_type": "execute_result"
    }
   ],
   "source": [
    "'two' in d"
   ]
  },
  {
   "cell_type": "markdown",
   "metadata": {},
   "source": [
    "**Exercice**\n",
    "- Ajoutez les élèments de la première liste de cette [page](https://fr.wikiversity.org/wiki/Anglais/Vocabulaire/Animaux) à votre dictionnaitre `fr_ang`\n",
    "- Affichez le nombre de paires de mots\n",
    "- Vérifiez si cochon fait partie du dictionnaire\n",
    "\n"
   ]
  },
  {
   "cell_type": "markdown",
   "metadata": {},
   "source": [
    "## Compter (histogramme)"
   ]
  },
  {
   "cell_type": "markdown",
   "metadata": {},
   "source": [
    "Un dictionnaire est une structure idéale pour compter les éléments appartenant à différentes catégories. Par exemple si nous voulons compter l'apparence de chaque lettre dans un texte nous pouvons utiliser un dictionnaire.<!-- REVIEW/JPP: J'ai un peu de peine avec ces esemples où beaucoup de variables n'ont plus qu'une lettre. Un œil avertit comprend que d est un dictonnaire, c est un caractère, etc., mais je pense que c'est promouvoir, par les exemples mêmes qui sont censés être exemplaires, un style volontairement cryptique et difficile d'accès. On pourrait appeler ce dictionnaire letter_counts, et la variable de boucle letter par exemple. -->"
   ]
  },
  {
   "cell_type": "code",
   "execution_count": 10,
   "metadata": {},
   "outputs": [
    {
     "data": {
      "text/plain": [
       "{'d': 1, 'i': 3, 'c': 1, 't': 1, 'o': 1, 'n': 2, 'a': 1, 'r': 1, 'e': 1}"
      ]
     },
     "execution_count": 10,
     "metadata": {},
     "output_type": "execute_result"
    }
   ],
   "source": [
    "phrase = 'dictionnaire'\n",
    "d = {}\n",
    "for c in phrase:\n",
    "    if c in d:\n",
    "        d[c] += 1\n",
    "    else:\n",
    "        d[c] = 1\n",
    "d"
   ]
  },
  {
   "cell_type": "markdown",
   "metadata": {},
   "source": [
    "On appelle cette structure aussi un **histogramme**. Il nous montre que \n",
    "- la lettre **d** apparait une fois, \n",
    "- la lettre **i** apparait trois fois."
   ]
  },
  {
   "cell_type": "markdown",
   "metadata": {},
   "source": [
    "<span commented>La fonction `get` permet d'obtenir une valeur par défaut</span><!-- REVIEW/JPP: dire auparavant que faire un lookup avec [] et une clé non existante est une erreur -->, si la clé n'existe pas encore dans le dictionnaire. Par exemple la lettre **b** n'est pas une clé du dictionnaire. La fonction retourne alors sa valeur par défaut qui est 0."
   ]
  },
  {
   "cell_type": "code",
   "execution_count": 11,
   "metadata": {},
   "outputs": [
    {
     "data": {
      "text/plain": [
       "0"
      ]
     },
     "execution_count": 11,
     "metadata": {},
     "output_type": "execute_result"
    }
   ],
   "source": [
    "d.get('b', 0)"
   ]
  },
  {
   "cell_type": "code",
   "execution_count": 12,
   "metadata": {},
   "outputs": [
    {
     "data": {
      "text/plain": [
       "{'d': 1, 'i': 3, 'c': 1, 't': 1, 'o': 1, 'n': 2, 'a': 1, 'r': 1, 'e': 1}"
      ]
     },
     "execution_count": 12,
     "metadata": {},
     "output_type": "execute_result"
    }
   ],
   "source": [
    "d = {}\n",
    "for c in phrase:\n",
    "    d[c] = d.get(c, 0) + 1\n",
    "d"
   ]
  },
  {
   "cell_type": "markdown",
   "metadata": {},
   "source": [
    "Ceci nous permet de raccourcir le programme de l'histogramme encore plus."
   ]
  },
  {
   "cell_type": "markdown",
   "metadata": {},
   "source": [
    "**Exercice**\n",
    "Ecrivez un programme qui donne l'histogramme du mot \"anticonstitutionnellement\""
   ]
  },
  {
   "cell_type": "markdown",
   "metadata": {},
   "source": [
    "## Itération sur les clés\n",
    "Nous pouvons itérer sur les clés d'un dictionnaire.<!-- REVIEW/JPP: Cet exemple me semble aussi très cryptique avec ces noms de variables -->"
   ]
  },
  {
   "cell_type": "code",
   "execution_count": 14,
   "metadata": {},
   "outputs": [
    {
     "name": "stdout",
     "output_type": "stream",
     "text": [
      "d 1\n",
      "i 3\n",
      "c 1\n",
      "t 1\n",
      "o 1\n",
      "n 2\n",
      "a 1\n",
      "r 1\n",
      "e 1\n"
     ]
    }
   ],
   "source": [
    "for c in d:\n",
    "    print(c, d[c])"
   ]
  },
  {
   "cell_type": "markdown",
   "metadata": {},
   "source": [
    "Transformer un dictionnaire en liste nous retourne une liste de ses clés."
   ]
  },
  {
   "cell_type": "code",
   "execution_count": 15,
   "metadata": {},
   "outputs": [
    {
     "data": {
      "text/plain": [
       "['d', 'i', 'c', 't', 'o', 'n', 'a', 'r', 'e']"
      ]
     },
     "execution_count": 15,
     "metadata": {},
     "output_type": "execute_result"
    }
   ],
   "source": [
    "list(d)"
   ]
  },
  {
   "cell_type": "markdown",
   "metadata": {},
   "source": [
    "La fonction `sorted` nous retourne une liste de ses clés, triée."
   ]
  },
  {
   "cell_type": "code",
   "execution_count": 16,
   "metadata": {},
   "outputs": [
    {
     "data": {
      "text/plain": [
       "['a', 'c', 'd', 'e', 'i', 'n', 'o', 'r', 't']"
      ]
     },
     "execution_count": 16,
     "metadata": {},
     "output_type": "execute_result"
    }
   ],
   "source": [
    "sorted(d)"
   ]
  },
  {
   "cell_type": "markdown",
   "metadata": {},
   "source": [
    "**Exercice**  \n",
    "Ordonnez le contenu du dictionnaire `fr_ang` avec la fonction `sorted`"
   ]
  },
  {
   "cell_type": "markdown",
   "metadata": {},
   "source": [
    "## List et ensemble des valeurs\n",
    "\n",
    "La méthode `values` retourne toutes les valeurs."
   ]
  },
  {
   "cell_type": "code",
   "execution_count": 18,
   "metadata": {},
   "outputs": [
    {
     "data": {
      "text/plain": [
       "dict_values([1, 3, 1, 1, 1, 2, 1, 1, 1])"
      ]
     },
     "execution_count": 18,
     "metadata": {},
     "output_type": "execute_result"
    }
   ],
   "source": [
    "d.values()"
   ]
  },
  {
   "cell_type": "markdown",
   "metadata": {},
   "source": [
    "Nous pouvons les transformer en liste ordinaire."
   ]
  },
  {
   "cell_type": "code",
   "execution_count": 19,
   "metadata": {},
   "outputs": [
    {
     "data": {
      "text/plain": [
       "[1, 3, 1, 1, 1, 2, 1, 1, 1]"
      ]
     },
     "execution_count": 19,
     "metadata": {},
     "output_type": "execute_result"
    }
   ],
   "source": [
    "list(d.values())"
   ]
  },
  {
   "cell_type": "markdown",
   "metadata": {},
   "source": [
    "Nous pouvons également la transformer en **ensemble** et <span commented>éliminer les doublons</span><!-- REVIEW/JPP: c'est la première fois qu'on parle de sets... à mon avis, soit on en fait une section à part entière parce qu'on se dit que ça vaut la peine, soit on laisse tomber parce qu'il y a déjà assez comme ça. Préférence pour la seconde solution. -->."
   ]
  },
  {
   "cell_type": "code",
   "execution_count": 20,
   "metadata": {},
   "outputs": [
    {
     "data": {
      "text/plain": [
       "{1, 2, 3}"
      ]
     },
     "execution_count": 20,
     "metadata": {},
     "output_type": "execute_result"
    }
   ],
   "source": [
    "set(d.values())"
   ]
  },
  {
   "cell_type": "markdown",
   "metadata": {},
   "source": [
    "**Exercice**  \n",
    "Affichez tous les mots anglais de traducteur"
   ]
  },
  {
   "cell_type": "markdown",
   "metadata": {},
   "source": [
    "## Inverser un dictionnaire\n",
    "\n",
    "<span commented>Toutes les clés d'un dictionnaire sont uniques</span><!-- REVIEW/JPP: Nous devrions mentionner ceci plutôt lors de la description de la structure d'un dictionnaire, aussi avec un exemple qui montre qu'insérer deux fois la même clé remplace la première valeur associée -->. Par contre, il est tout à fait possible d'avoir plusieurs valeurs qui sont identiques. Si nous <span commented>inversons</span><!-- REVIEW/JPP: il faut mieux définir ce qu'“inverser” veut dire, à mon avis --> un dictionnaire, une valeur peut correspondre à plusieurs clés, ce que nous pouvons alors stocker dans une liste. <!-- REVIEW/JPP: Je trouve très complexe, il y a beaucoup de choses qui se cachent dans cet exemple et qui ne sont à mon avis pas assez explicites. -->"
   ]
  },
  {
   "cell_type": "code",
   "execution_count": 22,
   "metadata": {},
   "outputs": [
    {
     "data": {
      "text/plain": [
       "{1: ['d', 'c', 't', 'o', 'a', 'r', 'e'], 3: ['i'], 2: ['n']}"
      ]
     },
     "execution_count": 22,
     "metadata": {},
     "output_type": "execute_result"
    }
   ],
   "source": [
    "inverse = {}\n",
    "for c in d:\n",
    "    val = d[c]\n",
    "    if val in inverse:\n",
    "        inverse[val].append(c)\n",
    "    else:\n",
    "        inverse[val] = [c]\n",
    "inverse"
   ]
  },
  {
   "cell_type": "code",
   "execution_count": 23,
   "metadata": {},
   "outputs": [
    {
     "data": {
      "text/plain": [
       "{'d': 1, 'i': 3, 'c': 1, 't': 1, 'o': 1, 'n': 2, 'a': 1, 'r': 1, 'e': 1}"
      ]
     },
     "execution_count": 23,
     "metadata": {},
     "output_type": "execute_result"
    }
   ],
   "source": [
    "d"
   ]
  },
  {
   "cell_type": "markdown",
   "metadata": {},
   "source": [
    "**Exercice**\n",
    "1. Ajouter ces entrées à `fr_ang` \n",
    "    - hibou :owl \n",
    "    - chouette :owl\n",
    "2. Inversez le dictionnaire `fr_ang`\n",
    "\n"
   ]
  },
  {
   "cell_type": "markdown",
   "metadata": {},
   "source": [
    "**Exercice**  \n",
    "Ecrivez un programme Quiz qui permet de vérifier si votre tradcution est juste ou fausse pour tous les mots du dictionnaire fr_ang"
   ]
  },
  {
   "cell_type": "code",
   "execution_count": null,
   "metadata": {},
   "outputs": [],
   "source": []
  }
 ],
 "metadata": {
  "kernelspec": {
   "display_name": "Python 3",
   "language": "python",
   "name": "python3"
  },
  "language_info": {
   "codemirror_mode": {
    "name": "ipython",
    "version": 3
   },
   "file_extension": ".py",
   "mimetype": "text/x-python",
   "name": "python",
   "nbconvert_exporter": "python",
   "pygments_lexer": "ipython3",
   "version": "3.7.9"
  }
 },
 "nbformat": 4,
 "nbformat_minor": 4
}
