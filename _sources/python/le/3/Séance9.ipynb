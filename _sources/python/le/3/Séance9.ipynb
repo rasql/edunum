{
 "cells": [
  {
   "cell_type": "markdown",
   "metadata": {},
   "source": [
    "# Séance 9:\n",
    "\n",
    "\n",
    "Bienvenue dans votre **Jupyter notebook**. Chaque cellule doit être exécutée en appuyant simulatanément sur les touches **SHIFT + ENTER**\n",
    "    "
   ]
  },
  {
   "cell_type": "markdown",
   "metadata": {},
   "source": [
    "## Exercice 1\n",
    "Objectifs: for / while\n",
    "\n",
    "Aujourd'hui un appartement vaut  100 000 chf. Sa valeur augmente de 1% chaque année.\n",
    "\n",
    "1. Écrire un programme en Python pour connaître sa valeur au bout de 10 ans.\n",
    "\n",
    "1. Écrire un programme en Python pour savoir au bout de combien d'années sa valeur aura doublé."
   ]
  },
  {
   "cell_type": "code",
   "execution_count": null,
   "metadata": {},
   "outputs": [],
   "source": []
  },
  {
   "cell_type": "markdown",
   "metadata": {},
   "source": [
    "## Exercice 2\n",
    "![](scooter.png)\n",
    "\n",
    "Objectif : while\n",
    "\n",
    "Le 1er janvier, vos parents ont déposé sur votre livret d'épargne 1500 chf au taux d'intérêt de 1,5% pour que vous vous achetiez un scooter à 1700 chf.\n",
    "\n",
    "Écrire un programme pour savoir au bout de combien d'années vous pourrez avoir votre scooter.\n",
    "\n",
    "1. Créer une variable livret et lui affecter la valeur 1500\n",
    "2. Créer une variable annee et lui affecter la valeur 1\n",
    "3. Ecrire une boucle while avec la condition livret < 1700 \n",
    "    * changer la valeur du livret dans la boucle\n",
    "    * ne pas oublier d'incrementer l'annee\n",
    "4. Afficher la variable annee avec la fonction print() "
   ]
  },
  {
   "cell_type": "code",
   "execution_count": null,
   "metadata": {},
   "outputs": [],
   "source": []
  },
  {
   "cell_type": "markdown",
   "metadata": {},
   "source": [
    "## Exercice 3\n",
    "Objectifs : for/while/range()\n",
    "![](billes.png)\n",
    "Inès veut construire une pyramide à base carrée.\n",
    "\n",
    "La pyramide sur la photo a 7 étages.\n",
    "\n",
    "1. Avec une boucle for comptez combien de billes faut-il pour 7 étages?\n",
    "    \n",
    "    **conseil** : initialiser billes à 0, et incrémenter sa valeur dans la boucle for\n",
    "2. Inès a 1000 billes. Combien d'étages au maximum aura sa pyramide?\n",
    "    \n",
    "    **conseil**: utiliser la boucle while  \n",
    "   "
   ]
  },
  {
   "cell_type": "code",
   "execution_count": null,
   "metadata": {},
   "outputs": [],
   "source": []
  },
  {
   "cell_type": "markdown",
   "metadata": {},
   "source": [
    "## Exercice 4\n",
    "\n",
    "\n",
    "Objectifs : for / while\n",
    "\n",
    "\n",
    "C’est le mercato et un attaquant est convoité par deux clubs F et G qui lui proposent le même salaire mensuel mais des systèmes différents pour les primes par but marqué :\n",
    "\n",
    "Le club F lui propose : une prime de 8 000 euros par but marqué pour les dix premiers buts marqués puis de 11 300 euros par but marqué à partir du onzième but.\n",
    "\n",
    "Le club G lui propose : une prime de 10 000 euros par but marqué quel que soit le nombre de buts inscrits.\n",
    "\n",
    "1. Ecrire un programme qui calcule la prime pour 12 buts marqués dans le club \n",
    "**conseil** : initialiser la prime à 0 puis l'incrémenter dans une boucle for\n",
    "\n",
    "2. Ecrire un programme similaire qui calcule la prime pour 12 buts marqués dans le club F\n",
    "**conseil** : utiliser if-else pour incrémenter 8000 les 10 premiers buts sinon 11300 le reste des buts \n",
    "\n",
    "3. Écrire un script qui détermine le nombre de buts que doit marquer l’attaquant pour que le montant de la prime offerte par le club F soit la plus intéressante.\n",
    "\n",
    "**conseil** : utiliser une boucle while"
   ]
  },
  {
   "cell_type": "code",
   "execution_count": 3,
   "metadata": {},
   "outputs": [],
   "source": []
  }
 ],
 "metadata": {
  "kernelspec": {
   "display_name": "Python 3",
   "language": "python",
   "name": "python3"
  },
  "language_info": {
   "codemirror_mode": {
    "name": "ipython",
    "version": 3
   },
   "file_extension": ".py",
   "mimetype": "text/x-python",
   "name": "python",
   "nbconvert_exporter": "python",
   "pygments_lexer": "ipython3",
   "version": "3.8.5"
  }
 },
 "nbformat": 4,
 "nbformat_minor": 4
}
