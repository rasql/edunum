{
 "cells": [
  {
   "cell_type": "markdown",
   "metadata": {},
   "source": [
    "# Exercices"
   ]
  },
  {
   "cell_type": "markdown",
   "metadata": {},
   "source": [
    "## Questions\n",
    "\n",
    "Une boucle est une \n",
    "{bl}`multiplication|>répétition|réparation|condition` d'un\n",
    "{bl}`>bloc|truc|itérateur|argument`.\n",
    "\n",
    "```{question} \n",
    ":multi:\n",
    "Une boucle **for**\n",
    "- {v}`itère sur une séquence`\n",
    "- {f}`attend une condition`\n",
    "- {v}`parcourt un ensemble`\n",
    "- {f}`se termine quand un test est faux`\n",
    "```"
   ]
  },
  {
   "cell_type": "markdown",
   "metadata": {},
   "source": [
    "## Exercice 1 - Scooter\n",
    "\n",
    "{download}`Télécharger le fichier<exercice1.py>`\n",
    "\n",
    "![](scooter.png)"
   ]
  },
  {
   "cell_type": "code",
   "execution_count": 4,
   "metadata": {},
   "outputs": [],
   "source": [
    "# %load exercice1.py\n",
    "# Exercice 1 Scooter\n",
    "# Objectif:\n",
    "#     - while\n",
    "\n",
    "# Le 1er janvier, vos parents ont déposé sur votre livret d'épargne 1500 chf\n",
    "# au taux d'intérêt de 1,5% pour que vous vous achetiez un scooter à 1700 chf.\n",
    "# Écrire un programme pour savoir au bout de combien d'années vous pourrez avoir votre scooter.\n",
    "\n",
    "# 1. Créer une variable livret et lui affecter la valeur 1500\n",
    "\n",
    "# 2. Créer une variable annee et lui affecter la valeur 1\n",
    "\n",
    "# 3. Ecrire une boucle while avec la condition livret < 1700\n",
    "#    changer la valeur du livret dans la boucle\n",
    "#    ne pas oublier d'incrementer l'annee\n",
    "\n",
    "# 4. Afficher la variable annee avec la fonction print() "
   ]
  },
  {
   "cell_type": "markdown",
   "metadata": {},
   "source": [
    "## Exercice 2 - Les billes\n",
    "\n",
    "{download}`Télécharger le fichier<exercice2.py>`\n",
    "\n",
    "![](billes.png)"
   ]
  },
  {
   "cell_type": "code",
   "execution_count": 7,
   "metadata": {},
   "outputs": [],
   "source": [
    "# %load exercice2.py\n",
    "# Exercice 2: les billes\n",
    "#     - boucles for/while\n",
    "#     - range()\n",
    "\n",
    "\n",
    "# Inès veut construire une pyramide à base carrée\n",
    "# (comme sur la photo)\n",
    "# La pyramide sur la photo a 7 étages.\n",
    "\n",
    "# 1. Avec une boucle for comptez combien de billes\n",
    "#    faut-il pour 7 étages\n",
    "# conseil : initialiser billes à 0, et incrémenter sa valeur dans la boucle for\n",
    "\n",
    "# 2. Inès a 1000 billes.\n",
    "#    Combien d'étages au maximum aura sa pyramide?\n",
    "#    conseil: utiliser la boucle while  \n"
   ]
  },
  {
   "cell_type": "markdown",
   "metadata": {},
   "source": [
    "## Exercice 3 - Football\n",
    "{download}`Télécharger le fichier<exercice3.py>`\n",
    "\n",
    "![](ballon.png)"
   ]
  },
  {
   "cell_type": "code",
   "execution_count": 8,
   "metadata": {},
   "outputs": [],
   "source": [
    "# %load exercice3.py\n",
    "# Exercice 3 football\n",
    "#\n",
    "# Objectifs :\n",
    "#    - boucle for/while\n",
    "\n",
    "# C’est le mercato et un attaquant est convoité par deux clubs F et G qui lui proposent le même salaire mensuel\n",
    "# mais des systèmes différents pour les primes par but marqué :\n",
    "\n",
    "# Le club F lui propose : une prime de 8 000 euros par but marqué pour les dix premiers buts\n",
    "# marqués puis de 11 300 euros par but marqué à partir du onzième but.\n",
    "# \n",
    "# Le club G lui propose : une prime de 10 000 euros par but marqué quel que soit le nombre de buts inscrits.\n",
    "# \n",
    "\n",
    "# 1. Ecrire un programme qui calcule la prime pour 12 buts marqués dans le club G\n",
    "# conseil : initialiser la prime à 0 puis l'incrémenter dans une boucle for\n",
    "\n",
    "# 2. Ecrire un programme similaire qui calcule la prime pour 12 buts marqués dans le club F\n",
    "# conseil : utiliser if-else pour incrémenter 8000 les 10 premiers buts sinon 11300 le reste des buts \n",
    "\n",
    "# 3. Écrire un script qui détermine le nombre de buts que doit marquer l’attaquant\n",
    "# pour que le montant de la prime offerte par le club F soit la plus intéressante.\n",
    "# conseil : utiliser une boucle while"
   ]
  },
  {
   "cell_type": "code",
   "execution_count": null,
   "metadata": {},
   "outputs": [],
   "source": []
  }
 ],
 "metadata": {
  "kernelspec": {
   "display_name": "Python 3",
   "language": "python",
   "name": "python3"
  },
  "language_info": {
   "codemirror_mode": {
    "name": "ipython",
    "version": 3
   },
   "file_extension": ".py",
   "mimetype": "text/x-python",
   "name": "python",
   "nbconvert_exporter": "python",
   "pygments_lexer": "ipython3",
   "version": "3.8.5"
  }
 },
 "nbformat": 4,
 "nbformat_minor": 5
}
