{
 "cells": [
  {
   "cell_type": "markdown",
   "metadata": {},
   "source": [
    "# Séance 10:\n",
    "\n",
    "\n",
    "Bienvenue dans votre **Jupyter notebook**. Chaque cellule doit être exécutée en appuyant simulatanément sur les touches **SHIFT + ENTER**\n",
    "    "
   ]
  },
  {
   "cell_type": "markdown",
   "metadata": {},
   "source": [
    "## Exercice : Code César\n",
    "Objectifs: fonction / if else / while / modulo\n",
    "\n",
    "Le but de cet exercice est d'écrire un code Python pour coder et décoder un message avec le code César.\n",
    "\n",
    "\n",
    "Clé du codage = 3\n",
    "\n",
    "### Etape 1. Ecrire une fonction CodeCesar qui a comme entrée une lettre `x` et une clé `cle`.\n",
    "\n",
    "1. definissez votre alphabet comme suit : alphabet =\"abcdefghijklmnopqrstuvwxyz\"\n",
    "\n",
    "\n",
    "2. A l'aide d'une boucle `while` trouvez la position de la lettre dans l'alphabet en la comparant à chacune des lettres de l'alphabet.\n",
    "\n",
    "    **Attention** \n",
    "- ne pas oubliez d'incrementer un compteur `i` dans la boucle while,\n",
    "- il est conseillé d'utiliser une variable booléénne initialisée à `False` comme condition pour la boucle while: `trouve = alphabet[i]==x`\n",
    "3. Trouvez la position de la lettre codée avec la formule suivante : (position + cle) modulo 26\n",
    "4. Affichez la lettre codée en utilisant l'alphabet et la nouvelle position trouvée.\n",
    "5. Testez votre fonction avec quelques lettres pour vérifiez le codage\n",
    "\n",
    "\n"
   ]
  },
  {
   "cell_type": "code",
   "execution_count": null,
   "metadata": {},
   "outputs": [],
   "source": []
  },
  {
   "cell_type": "markdown",
   "metadata": {},
   "source": [
    "### Etape 2. Modifiez votre fonction pour gérer les éspaces\n",
    "\n",
    "Si le caractère est un espace alors ne pas le coder  mais le garder comme espace\n",
    "\n",
    "### Etape 3. Codez une phrase entière\n",
    "\n",
    "1. Initialisez la phrase originale `ch =\"ALEA JACTA EST\"`\n",
    "2. A l'aide d'une boucle for parcourez la chaine ch\n",
    "3. Dans chaque itération codez le caractère en cours avec la fonction de codage CodeCesar\n",
    "\n"
   ]
  },
  {
   "cell_type": "code",
   "execution_count": 3,
   "metadata": {},
   "outputs": [],
   "source": []
  }
 ],
 "metadata": {
  "kernelspec": {
   "display_name": "Python 3",
   "language": "python",
   "name": "python3"
  },
  "language_info": {
   "codemirror_mode": {
    "name": "ipython",
    "version": 3
   },
   "file_extension": ".py",
   "mimetype": "text/x-python",
   "name": "python",
   "nbconvert_exporter": "python",
   "pygments_lexer": "ipython3",
   "version": "3.8.5"
  }
 },
 "nbformat": 4,
 "nbformat_minor": 4
}
