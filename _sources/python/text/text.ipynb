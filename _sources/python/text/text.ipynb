{
 "cells": [
  {
   "cell_type": "markdown",
   "id": "attached-resident",
   "metadata": {},
   "source": [
    "# Jouer avec des mots\n",
    "\n",
    "Le fichier `scrabble.txt` continent plus que 200 000 mots en anglais, permis pour scrabble."
   ]
  },
  {
   "cell_type": "code",
   "execution_count": 31,
   "id": "russian-feelings",
   "metadata": {},
   "outputs": [],
   "source": [
    "file = open('scrabble.txt')\n",
    "mots = []\n",
    "for line in file:\n",
    "    mots.append(line.strip())\n",
    "file.close()\n",
    "mots = mots[2:]"
   ]
  },
  {
   "cell_type": "code",
   "execution_count": 33,
   "id": "missing-bachelor",
   "metadata": {},
   "outputs": [
    {
     "data": {
      "text/plain": [
       "279496"
      ]
     },
     "execution_count": 33,
     "metadata": {},
     "output_type": "execute_result"
    }
   ],
   "source": [
    "len(mots)"
   ]
  },
  {
   "cell_type": "markdown",
   "id": "moderate-cutting",
   "metadata": {},
   "source": [
    "## Accéder à des mots\n",
    "\n",
    "Afficher le dernier mot"
   ]
  },
  {
   "cell_type": "code",
   "execution_count": 39,
   "id": "nominated-karma",
   "metadata": {},
   "outputs": [
    {
     "data": {
      "text/plain": [
       "'AA'"
      ]
     },
     "execution_count": 39,
     "metadata": {},
     "output_type": "execute_result"
    }
   ],
   "source": [
    "mots[0]"
   ]
  },
  {
   "cell_type": "markdown",
   "id": "generous-chemistry",
   "metadata": {},
   "source": [
    "Et voici le mot avec l'index 10 (qui est effectivement le 11e mot)."
   ]
  },
  {
   "cell_type": "code",
   "execution_count": 40,
   "id": "selected-motel",
   "metadata": {},
   "outputs": [
    {
     "data": {
      "text/plain": [
       "'AARDVARKS'"
      ]
     },
     "execution_count": 40,
     "metadata": {},
     "output_type": "execute_result"
    }
   ],
   "source": [
    "mots[10]"
   ]
  },
  {
   "cell_type": "markdown",
   "id": "norman-container",
   "metadata": {},
   "source": [
    "Et voici le dernier mot."
   ]
  },
  {
   "cell_type": "code",
   "execution_count": 41,
   "id": "revolutionary-pastor",
   "metadata": {},
   "outputs": [
    {
     "data": {
      "text/plain": [
       "'ZZZS'"
      ]
     },
     "execution_count": 41,
     "metadata": {},
     "output_type": "execute_result"
    }
   ],
   "source": [
    "mots[-1]"
   ]
  },
  {
   "cell_type": "markdown",
   "id": "external-mambo",
   "metadata": {},
   "source": [
    "## Accéder à des tranches\n",
    "\n",
    "Les dix premiers mots"
   ]
  },
  {
   "cell_type": "code",
   "execution_count": 44,
   "id": "palestinian-talent",
   "metadata": {},
   "outputs": [
    {
     "data": {
      "text/plain": [
       "['AA',\n",
       " 'AAH',\n",
       " 'AAHED',\n",
       " 'AAHING',\n",
       " 'AAHS',\n",
       " 'AAL',\n",
       " 'AALII',\n",
       " 'AALIIS',\n",
       " 'AALS',\n",
       " 'AARDVARK']"
      ]
     },
     "execution_count": 44,
     "metadata": {},
     "output_type": "execute_result"
    }
   ],
   "source": [
    "mots[:10]"
   ]
  },
  {
   "cell_type": "markdown",
   "id": "advanced-quilt",
   "metadata": {},
   "source": [
    "Les mots avec l'indice 1000 à 1009"
   ]
  },
  {
   "cell_type": "code",
   "execution_count": 45,
   "id": "elegant-legend",
   "metadata": {},
   "outputs": [
    {
     "data": {
      "text/plain": [
       "['ACAUDAL',\n",
       " 'ACAUDATE',\n",
       " 'ACAULESCENT',\n",
       " 'ACAULINE',\n",
       " 'ACAULOSE',\n",
       " 'ACAULOUS',\n",
       " 'ACCA',\n",
       " 'ACCABLE',\n",
       " 'ACCAS',\n",
       " 'ACCEDE']"
      ]
     },
     "execution_count": 45,
     "metadata": {},
     "output_type": "execute_result"
    }
   ],
   "source": [
    "mots[1000:1010]"
   ]
  },
  {
   "cell_type": "markdown",
   "id": "geological-release",
   "metadata": {},
   "source": [
    "Les 10 derniers mots."
   ]
  },
  {
   "cell_type": "code",
   "execution_count": 48,
   "id": "professional-aggregate",
   "metadata": {},
   "outputs": [
    {
     "data": {
      "text/plain": [
       "['ZYMOTICALLY',\n",
       " 'ZYMOTICS',\n",
       " 'ZYMURGIES',\n",
       " 'ZYMURGY',\n",
       " 'ZYTHUM',\n",
       " 'ZYTHUMS',\n",
       " 'ZYZZYVA',\n",
       " 'ZYZZYVAS',\n",
       " 'ZZZ',\n",
       " 'ZZZS']"
      ]
     },
     "execution_count": 48,
     "metadata": {},
     "output_type": "execute_result"
    }
   ],
   "source": [
    "mots[-10:]"
   ]
  },
  {
   "cell_type": "markdown",
   "id": "canadian-fever",
   "metadata": {},
   "source": [
    "## Trouver des mots"
   ]
  },
  {
   "cell_type": "markdown",
   "id": "central-paint",
   "metadata": {},
   "source": [
    "Trouve les mots qui contiennent la lettre **Q** et se terminent par X"
   ]
  },
  {
   "cell_type": "code",
   "execution_count": 76,
   "id": "southwest-sitting",
   "metadata": {},
   "outputs": [
    {
     "name": "stdout",
     "output_type": "stream",
     "text": [
      "EQUINOX\n",
      "QUADPLEX\n",
      "QUADRATRIX\n",
      "QUADRUPLEX\n",
      "QUINCUNX\n"
     ]
    }
   ],
   "source": [
    "for mot in mots:\n",
    "    if 'Q' in mot:\n",
    "        if mot[-1] == 'X':\n",
    "            print(mot)"
   ]
  },
  {
   "cell_type": "markdown",
   "id": "pregnant-questionnaire",
   "metadata": {},
   "source": [
    "Trouve les mots qui contiennent la lettre **Q** et dont la 2e lettre est **Y**"
   ]
  },
  {
   "cell_type": "code",
   "execution_count": 86,
   "id": "aging-introduction",
   "metadata": {},
   "outputs": [
    {
     "name": "stdout",
     "output_type": "stream",
     "text": [
      "CYBERSQUATTER\n",
      "CYBERSQUATTERS\n",
      "CYBERSQUATTING\n",
      "CYBERSQUATTINGS\n",
      "GYROFREQUENCIES\n",
      "GYROFREQUENCY\n",
      "HYDROQUINOL\n",
      "HYDROQUINOLS\n",
      "HYDROQUINONE\n",
      "HYDROQUINONES\n",
      "MYSTIQUE\n",
      "MYSTIQUES\n",
      "SYMPATHIQUE\n"
     ]
    }
   ],
   "source": [
    "for mot in mots:\n",
    "    if 'Q' in mot:\n",
    "        if mot[1] == 'Y':\n",
    "            print(mot)"
   ]
  },
  {
   "cell_type": "code",
   "execution_count": null,
   "id": "special-frank",
   "metadata": {},
   "outputs": [],
   "source": []
  }
 ],
 "metadata": {
  "kernelspec": {
   "display_name": "Python 3",
   "language": "python",
   "name": "python3"
  },
  "language_info": {
   "codemirror_mode": {
    "name": "ipython",
    "version": 3
   },
   "file_extension": ".py",
   "mimetype": "text/x-python",
   "name": "python",
   "nbconvert_exporter": "python",
   "pygments_lexer": "ipython3",
   "version": "3.7.4"
  }
 },
 "nbformat": 4,
 "nbformat_minor": 5
}
