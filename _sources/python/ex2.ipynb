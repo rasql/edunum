{
 "cells": [
  {
   "cell_type": "markdown",
   "metadata": {},
   "source": [
    "# Exercices if-else"
   ]
  },
  {
   "cell_type": "markdown",
   "metadata": {},
   "source": [
    "Les exercices ci-dessous sont écrits avec des boucles \n",
    "et des expressions conditionnels.\n",
    "Essayez de trouver la solution sans cliquer sur le bouton **click to show (+)**."
   ]
  },
  {
   "cell_type": "markdown",
   "metadata": {},
   "source": [
    "## Comparaison \n",
    "\n",
    "Quel est le code pour afficher ces 8 lignes de comparaisons?  \n",
    "(2 lignes de code suffisent)"
   ]
  },
  {
   "cell_type": "code",
   "execution_count": 3,
   "metadata": {
    "tags": [
     "hide-input"
    ]
   },
   "outputs": [
    {
     "name": "stdout",
     "output_type": "stream",
     "text": [
      "0 > 3 = False\n",
      "1 > 3 = False\n",
      "2 > 3 = False\n",
      "3 > 3 = False\n",
      "4 > 3 = True\n",
      "5 > 3 = True\n",
      "6 > 3 = True\n",
      "7 > 3 = True\n"
     ]
    }
   ],
   "source": [
    "for i in range(8):\n",
    "    print(i, '> 3 =', i > 3)"
   ]
  },
  {
   "cell_type": "markdown",
   "metadata": {},
   "source": [
    "## Plus grand\n",
    "\n",
    "Quel est le code pour afficher ces comparaisons ?"
   ]
  },
  {
   "cell_type": "code",
   "execution_count": 6,
   "metadata": {
    "tags": [
     "hide-input"
    ]
   },
   "outputs": [
    {
     "name": "stdout",
     "output_type": "stream",
     "text": [
      "0\n",
      "1\n",
      "2\n",
      "3\n",
      "4 plus grand que 3\n",
      "5 plus grand que 3\n",
      "6 plus grand que 3\n",
      "7 plus grand que 3\n"
     ]
    }
   ],
   "source": [
    "for i in range(8):\n",
    "    if i > 3:\n",
    "        print(i, 'plus grand que 3')\n",
    "    else:\n",
    "        print(i)"
   ]
  },
  {
   "cell_type": "markdown",
   "metadata": {},
   "source": [
    "## Pair/impair\n",
    "\n",
    "Utilisez l'opérateur modulo `%` pour afficher si un nombre est pair ou impaire?"
   ]
  },
  {
   "cell_type": "code",
   "execution_count": 10,
   "metadata": {
    "tags": [
     "hide-input"
    ]
   },
   "outputs": [
    {
     "name": "stdout",
     "output_type": "stream",
     "text": [
      "0 est pair\n",
      "1 est impair\n",
      "2 est pair\n",
      "3 est impair\n",
      "4 est pair\n",
      "5 est impair\n",
      "6 est pair\n",
      "7 est impair\n"
     ]
    }
   ],
   "source": [
    "for i in range(8):\n",
    "    if i % 2 == 0:\n",
    "        print(i, 'est pair')\n",
    "    else:\n",
    "        print(i, 'est impair')"
   ]
  },
  {
   "cell_type": "code",
   "execution_count": null,
   "metadata": {},
   "outputs": [],
   "source": []
  }
 ],
 "metadata": {
  "kernelspec": {
   "display_name": "Python 3",
   "language": "python",
   "name": "python3"
  },
  "language_info": {
   "codemirror_mode": {
    "name": "ipython",
    "version": 3
   },
   "file_extension": ".py",
   "mimetype": "text/x-python",
   "name": "python",
   "nbconvert_exporter": "python",
   "pygments_lexer": "ipython3",
   "version": "3.7.9"
  }
 },
 "nbformat": 4,
 "nbformat_minor": 4
}
