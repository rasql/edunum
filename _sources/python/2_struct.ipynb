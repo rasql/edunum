{
 "cells": [
  {
   "cell_type": "markdown",
   "metadata": {},
   "source": [
    "# L'instruction conditionnelle\n",
    "\n",
    "Une instruction conditionnelle donne un **choix** entre plusieurs options.\n",
    "\n",
    "![](https://media.giphy.com/media/3oipPTHYlTpCw8oBBy/giphy.gif)\n",
    "\n",
    "Tout programme suit 3 principes de base\n",
    "\n",
    "- séquence linéaire\n",
    "- branchement\n",
    "- boucle\n",
    "\n",
    "Tout d'abord un programme est une **séquence linéaire** d'instructions, ce qui veut dire que les instructions sont exécutées une après l'autre.\n",
    "\n",
    "Un **branchement**, aussi appelé instruction conditionnelle, donne un choix entre différentes branches et seulement une branche entre plusieurs est exécutée.\n",
    "\n",
    "Le troisième schéma est la **boucle**, qui permet de parcourir une partie du code multiple fois. Le programme revient donc en amont, pour ré-exécuter des instructions déjà exécutées."
   ]
  },
  {
   "cell_type": "markdown",
   "metadata": {},
   "source": [
    "## Valeur booléene\n",
    "\n",
    "Une variable booléenne a seulement deux valeurs possibles"
   ]
  },
  {
   "cell_type": "code",
   "execution_count": 24,
   "metadata": {},
   "outputs": [
    {
     "data": {
      "text/plain": [
       "(False, True)"
      ]
     },
     "execution_count": 24,
     "metadata": {},
     "output_type": "execute_result"
    }
   ],
   "source": [
    "False, True"
   ]
  },
  {
   "cell_type": "markdown",
   "metadata": {},
   "source": [
    "Ceci peut correspondre à \n",
    "- 0 et 1\n",
    "- ON et OFF\n",
    "- vrai et faux\n",
    "\n",
    "Une comparaison donne une valeur booléenne comme résultat."
   ]
  },
  {
   "cell_type": "code",
   "execution_count": 25,
   "metadata": {},
   "outputs": [
    {
     "data": {
      "text/plain": [
       "True"
      ]
     },
     "execution_count": 25,
     "metadata": {},
     "output_type": "execute_result"
    }
   ],
   "source": [
    "2 > 1"
   ]
  },
  {
   "cell_type": "markdown",
   "metadata": {},
   "source": [
    "## Les comparateurs"
   ]
  },
  {
   "cell_type": "markdown",
   "metadata": {},
   "source": [
    "En Python, il y a 6 opérateurs de comparaison\n",
    "\n",
    "- `==` égal\n",
    "- `!=` inégal\n",
    "- `>` plus grand\n",
    "- `>=` plus grand ou égal\n",
    "- `<` plus petit\n",
    "- `<=` plus petit ou égal\n",
    "\n",
    "Définissons une variable `x` que nous allons utiliser pour les comparaisons"
   ]
  },
  {
   "cell_type": "code",
   "execution_count": 23,
   "metadata": {},
   "outputs": [
    {
     "data": {
      "text/plain": [
       "3"
      ]
     },
     "execution_count": 23,
     "metadata": {},
     "output_type": "execute_result"
    }
   ],
   "source": [
    "x = 3\n",
    "x"
   ]
  },
  {
   "cell_type": "markdown",
   "metadata": {},
   "source": [
    "Est-ce que `x` est plus grand que 0?"
   ]
  },
  {
   "cell_type": "code",
   "execution_count": 3,
   "metadata": {},
   "outputs": [
    {
     "data": {
      "text/plain": [
       "True"
      ]
     },
     "execution_count": 3,
     "metadata": {},
     "output_type": "execute_result"
    }
   ],
   "source": [
    "x > 0"
   ]
  },
  {
   "cell_type": "markdown",
   "metadata": {},
   "source": [
    "Différent de 10?"
   ]
  },
  {
   "cell_type": "code",
   "execution_count": 4,
   "metadata": {},
   "outputs": [
    {
     "data": {
      "text/plain": [
       "True"
      ]
     },
     "execution_count": 4,
     "metadata": {},
     "output_type": "execute_result"
    }
   ],
   "source": [
    "x != 10"
   ]
  },
  {
   "cell_type": "markdown",
   "metadata": {},
   "source": [
    "Plus grand que 10?"
   ]
  },
  {
   "cell_type": "code",
   "execution_count": 5,
   "metadata": {},
   "outputs": [
    {
     "data": {
      "text/plain": [
       "False"
      ]
     },
     "execution_count": 5,
     "metadata": {},
     "output_type": "execute_result"
    }
   ],
   "source": [
    "x > 10"
   ]
  },
  {
   "cell_type": "markdown",
   "metadata": {},
   "source": [
    "## Imprimer sur une ligne\n",
    "\n",
    "Normalement la fonction `print` termine avec un retour à la ligne (`\\n`). Donc chaque `x` est imprimé sur une nouvelle ligne."
   ]
  },
  {
   "cell_type": "code",
   "execution_count": 29,
   "metadata": {},
   "outputs": [
    {
     "name": "stdout",
     "output_type": "stream",
     "text": [
      "x\n",
      "x\n",
      "x\n",
      "x\n",
      "x\n"
     ]
    }
   ],
   "source": [
    "for i in range(5):\n",
    "    print('x')"
   ]
  },
  {
   "cell_type": "markdown",
   "metadata": {},
   "source": [
    "Mais la fonction `print` a un argument optionnel `end` qui permet de supprimer le retour à la ligne."
   ]
  },
  {
   "cell_type": "code",
   "execution_count": 30,
   "metadata": {},
   "outputs": [
    {
     "name": "stdout",
     "output_type": "stream",
     "text": [
      "xxxxx"
     ]
    }
   ],
   "source": [
    "for i in range(5):\n",
    "    print('x', end='')"
   ]
  },
  {
   "cell_type": "markdown",
   "metadata": {},
   "source": [
    "Pour visualiser le résultat des comparaisons, nous allons afficher une ligne de 50 caractères."
   ]
  },
  {
   "cell_type": "code",
   "execution_count": 31,
   "metadata": {},
   "outputs": [
    {
     "name": "stdout",
     "output_type": "stream",
     "text": [
      "--------------------------------------------------"
     ]
    }
   ],
   "source": [
    "for i in range(50):\n",
    "    print('-', end='')"
   ]
  },
  {
   "cell_type": "markdown",
   "metadata": {},
   "source": [
    "## Comparer avec une valeur\n",
    "\n",
    "Nous comparons les nombres 0 à 49 avec un seuil de 10."
   ]
  },
  {
   "cell_type": "code",
   "execution_count": 32,
   "metadata": {},
   "outputs": [
    {
     "name": "stdout",
     "output_type": "stream",
     "text": [
      "-----------xxxxxxxxxxxxxxxxxxxxxxxxxxxxxxxxxxxxxxx"
     ]
    }
   ],
   "source": [
    "for i in range(50):\n",
    "    if i > 10:\n",
    "        print('x', end='')\n",
    "    else:\n",
    "        print('-', end='')"
   ]
  },
  {
   "cell_type": "markdown",
   "metadata": {},
   "source": [
    "## Comparer avec un intervalle\n",
    "\n",
    "Nous vérifions si le nombre `i` se trouve entre 10 et 15."
   ]
  },
  {
   "cell_type": "code",
   "execution_count": 42,
   "metadata": {},
   "outputs": [
    {
     "name": "stdout",
     "output_type": "stream",
     "text": [
      "----------🍎🍎🍎🍎🍎-----------------------------------"
     ]
    }
   ],
   "source": [
    "for i in range(50):\n",
    "    if i < 10:\n",
    "        print('-', end='')\n",
    "    elif i < 15:\n",
    "        print('🍎', end='')\n",
    "    else:\n",
    "        print('-', end='')"
   ]
  },
  {
   "cell_type": "markdown",
   "metadata": {},
   "source": [
    "## Comparaison if-else\n",
    "\n",
    "On affiche un point rouge si la valeur est positive sinon un point bleu."
   ]
  },
  {
   "cell_type": "code",
   "execution_count": 2,
   "metadata": {},
   "outputs": [
    {
     "name": "stdout",
     "output_type": "stream",
     "text": [
      "-3\t 🔵\n",
      "-2\t 🔵\n",
      "-1\t 🔵\n",
      "0\t 🔵\n",
      "1\t 🔴\n",
      "2\t 🔴\n",
      "3\t 🔴\n"
     ]
    }
   ],
   "source": [
    "for i in range(-3, 4):\n",
    "    if i > 0:\n",
    "        print(i, ' 🔴', sep='\\t')\n",
    "    else:\n",
    "        print(i, ' 🔵', sep='\\t')"
   ]
  },
  {
   "cell_type": "markdown",
   "metadata": {},
   "source": [
    "## Comparaison if-elif-else\n",
    "\n",
    "Nous utilisons la structure **if-elif-else** pour traiter 3 cas différents."
   ]
  },
  {
   "cell_type": "code",
   "execution_count": 1,
   "metadata": {},
   "outputs": [
    {
     "name": "stdout",
     "output_type": "stream",
     "text": [
      "-3  ⬇️\n",
      "-2  ⬇️\n",
      "-1  ⬇️\n",
      "0  zéro\n",
      "1  ⬆️\n",
      "2  ⬆️\n",
      "3  ⬆️\n"
     ]
    }
   ],
   "source": [
    "for i in range(-3, 4):\n",
    "    if i > 0:\n",
    "        print(i, ' ⬆️')\n",
    "    elif i < 0:\n",
    "        print(i, ' ⬇️')\n",
    "    else:\n",
    "        print(i, ' zéro')"
   ]
  },
  {
   "cell_type": "code",
   "execution_count": null,
   "metadata": {},
   "outputs": [],
   "source": []
  }
 ],
 "metadata": {
  "kernelspec": {
   "display_name": "Python 3",
   "language": "python",
   "name": "python3"
  },
  "language_info": {
   "codemirror_mode": {
    "name": "ipython",
    "version": 3
   },
   "file_extension": ".py",
   "mimetype": "text/x-python",
   "name": "python",
   "nbconvert_exporter": "python",
   "pygments_lexer": "ipython3",
   "version": "3.7.9"
  },
  "toc-autonumbering": false
 },
 "nbformat": 4,
 "nbformat_minor": 4
}
