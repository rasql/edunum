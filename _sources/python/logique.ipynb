{
 "cells": [
  {
   "cell_type": "markdown",
   "id": "atomic-slovakia",
   "metadata": {},
   "source": [
    "# Logique"
   ]
  },
  {
   "cell_type": "markdown",
   "id": "limiting-theology",
   "metadata": {},
   "source": [
    "## Opérations logiques\n",
    "\n",
    "Le résultat d'une comparaison est une valeur booléenne."
   ]
  },
  {
   "cell_type": "code",
   "execution_count": 22,
   "id": "medieval-rachel",
   "metadata": {},
   "outputs": [
    {
     "data": {
      "text/plain": [
       "True"
      ]
     },
     "execution_count": 22,
     "metadata": {},
     "output_type": "execute_result"
    }
   ],
   "source": [
    "1 > 0"
   ]
  },
  {
   "cell_type": "markdown",
   "id": "paperback-reception",
   "metadata": {},
   "source": [
    "Il existe exactement deux valeurs `True` et `False`."
   ]
  },
  {
   "cell_type": "code",
   "execution_count": 23,
   "id": "bright-input",
   "metadata": {},
   "outputs": [
    {
     "data": {
      "text/plain": [
       "False"
      ]
     },
     "execution_count": 23,
     "metadata": {},
     "output_type": "execute_result"
    }
   ],
   "source": [
    "1 == 0"
   ]
  },
  {
   "cell_type": "markdown",
   "id": "documented-notice",
   "metadata": {},
   "source": [
    "## Opérateur not\n",
    "\n",
    "L'opérateur `not` inverse son argument."
   ]
  },
  {
   "cell_type": "code",
   "execution_count": 24,
   "id": "guided-witch",
   "metadata": {},
   "outputs": [
    {
     "data": {
      "text/plain": [
       "False"
      ]
     },
     "execution_count": 24,
     "metadata": {},
     "output_type": "execute_result"
    }
   ],
   "source": [
    "not True"
   ]
  },
  {
   "cell_type": "markdown",
   "id": "ongoing-maldives",
   "metadata": {},
   "source": [
    "## Table de vérité\n",
    "Nous pouvons itérer et afficher une table de vérité."
   ]
  },
  {
   "cell_type": "code",
   "execution_count": 25,
   "id": "impaired-joyce",
   "metadata": {},
   "outputs": [
    {
     "name": "stdout",
     "output_type": "stream",
     "text": [
      "False\tTrue\n",
      "True\tFalse\n"
     ]
    }
   ],
   "source": [
    "for p in (False, True):\n",
    "    print(p, not p, sep='\\t')"
   ]
  },
  {
   "cell_type": "markdown",
   "id": "organic-capacity",
   "metadata": {},
   "source": [
    "Nous pouvons ajouter une ligne d'entête"
   ]
  },
  {
   "cell_type": "code",
   "execution_count": 26,
   "id": "specified-retention",
   "metadata": {},
   "outputs": [
    {
     "name": "stdout",
     "output_type": "stream",
     "text": [
      "p\tnot p\n",
      "False\tTrue\n",
      "True\tFalse\n"
     ]
    }
   ],
   "source": [
    "print('p\\tnot p')\n",
    "for p in (False, True):\n",
    "    print(p, not p, sep='\\t')"
   ]
  },
  {
   "cell_type": "markdown",
   "id": "stopped-genome",
   "metadata": {},
   "source": [
    "## Opérateur and\n",
    "\n",
    "L'opérateur logique `and` donne `True`, seulement si les deux arguments sont `True`. "
   ]
  },
  {
   "cell_type": "code",
   "execution_count": 27,
   "id": "blind-retirement",
   "metadata": {},
   "outputs": [
    {
     "data": {
      "text/plain": [
       "False"
      ]
     },
     "execution_count": 27,
     "metadata": {},
     "output_type": "execute_result"
    }
   ],
   "source": [
    "False and True"
   ]
  },
  {
   "cell_type": "markdown",
   "id": "improving-weight",
   "metadata": {},
   "source": [
    "Calculons de nouveau une table de vérité."
   ]
  },
  {
   "cell_type": "code",
   "execution_count": 28,
   "id": "prospective-difference",
   "metadata": {},
   "outputs": [
    {
     "name": "stdout",
     "output_type": "stream",
     "text": [
      "p\tq\tp and q\n",
      "False\tFalse\tFalse\n",
      "False\tTrue\tFalse\n",
      "True\tFalse\tFalse\n",
      "True\tTrue\tTrue\n"
     ]
    }
   ],
   "source": [
    "print('p\\tq\\tp and q')\n",
    "for p in (False, True):\n",
    "    for q in (False, True):\n",
    "        print(p, q, p and q, sep='\\t')"
   ]
  },
  {
   "cell_type": "code",
   "execution_count": null,
   "id": "supposed-terror",
   "metadata": {},
   "outputs": [],
   "source": []
  }
 ],
 "metadata": {
  "kernelspec": {
   "display_name": "Python 3",
   "language": "python",
   "name": "python3"
  },
  "language_info": {
   "codemirror_mode": {
    "name": "ipython",
    "version": 3
   },
   "file_extension": ".py",
   "mimetype": "text/x-python",
   "name": "python",
   "nbconvert_exporter": "python",
   "pygments_lexer": "ipython3",
   "version": "3.7.9"
  }
 },
 "nbformat": 4,
 "nbformat_minor": 5
}
