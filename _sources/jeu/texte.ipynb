{
 "cells": [
  {
   "cell_type": "markdown",
   "id": "limited-commission",
   "metadata": {},
   "source": [
    "# Composer des textes\n",
    "\n",
    "Dans cette section nous allons mettre en pratique les concepts\n",
    "\n",
    "- listes de mots\n",
    "- choix aléatoire dans une liste avec `choice()`\n",
    "- nombre entier aléatoire avec `randint(a, b)`\n",
    "- reste de la division (modulo) `%`\n",
    "- boucle `for`\n",
    "- fonction `input()`"
   ]
  },
  {
   "cell_type": "markdown",
   "id": "assumed-integrity",
   "metadata": {},
   "source": [
    "## Le module random\n",
    "\n",
    "Le module `random` met à disposition des fonctions pour calculer des valeurs aléatoires. Nous importons deux fonctions."
   ]
  },
  {
   "cell_type": "code",
   "execution_count": 4,
   "id": "respiratory-local",
   "metadata": {},
   "outputs": [],
   "source": [
    "from random import choice, randint"
   ]
  },
  {
   "cell_type": "markdown",
   "id": "proof-serum",
   "metadata": {},
   "source": [
    "La fonction `choice` permet de choisir un élément aléatoire d'une liste.  \n",
    "On pourrait l'utiliser pour programmer un jeu de pierre-papier-ciseaux."
   ]
  },
  {
   "cell_type": "code",
   "execution_count": 109,
   "id": "quality-customer",
   "metadata": {},
   "outputs": [
    {
     "data": {
      "text/plain": [
       "'ciseaux'"
      ]
     },
     "execution_count": 109,
     "metadata": {},
     "output_type": "execute_result"
    }
   ],
   "source": [
    "choice(['pierre', 'papier', 'ciseaux'])"
   ]
  },
  {
   "cell_type": "markdown",
   "id": "likely-establishment",
   "metadata": {},
   "source": [
    "La fonction `randint(a, b)` permet de choisir un entier aléatoire dans l'intervalle [a, b].\n",
    "On pourrait l'utiliser pour simuler un dé."
   ]
  },
  {
   "cell_type": "code",
   "execution_count": 107,
   "id": "oriented-hands",
   "metadata": {},
   "outputs": [
    {
     "data": {
      "text/plain": [
       "2"
      ]
     },
     "execution_count": 107,
     "metadata": {},
     "output_type": "execute_result"
    }
   ],
   "source": [
    "randint(1, 6)"
   ]
  },
  {
   "cell_type": "markdown",
   "id": "related-skirt",
   "metadata": {},
   "source": [
    "## Créer des phrases\n",
    "\n",
    "Nous définissons des listes pour différentes catégories de mots: \n",
    "- noms de personne\n",
    "- villes\n",
    "- adverbes\n",
    "- verbes"
   ]
  },
  {
   "cell_type": "code",
   "execution_count": 1,
   "id": "spanish-folder",
   "metadata": {},
   "outputs": [],
   "source": [
    "noms = ['Bill', 'Steve', 'Guido', 'Ada', 'Grace']\n",
    "villes = ['Paris', 'Tokyo', 'Lausanne', 'Lutry', 'Dubai']\n",
    "adverbes = ['joyeusement', 'tristement', 'temporairement', 'toujours']\n",
    "verbes = ['dort', 'vit', 'séjourne', 'travaille', 'voyage', 'se balade', 'étudie']"
   ]
  },
  {
   "cell_type": "markdown",
   "id": "characteristic-musician",
   "metadata": {},
   "source": [
    "Avec des mots choisis aléatoirement dans ces listes, nous créons des phrases aléatoires."
   ]
  },
  {
   "cell_type": "code",
   "execution_count": 5,
   "id": "straight-conflict",
   "metadata": {},
   "outputs": [
    {
     "name": "stdout",
     "output_type": "stream",
     "text": [
      "Grace dort temporairement à Tokyo.\n",
      "Bill se balade temporairement à Paris.\n",
      "Steve séjourne toujours à Paris.\n"
     ]
    }
   ],
   "source": [
    "for i in range(3):\n",
    "    nom = choice(noms)\n",
    "    ville = choice(villes)\n",
    "    verbe = choice(verbes)\n",
    "    adverbe = choice(adverbes)\n",
    "    \n",
    "    print(nom, verbe, adverbe, 'à', ville+'.')"
   ]
  },
  {
   "cell_type": "markdown",
   "id": "concerned-updating",
   "metadata": {},
   "source": [
    "## Écrire un horoscope\n",
    "\n",
    "Le premier horoscope basé sur les signes du zodiaque dans la presse française serait paru dans **Marie-Claire** en 1935.\n",
    "\n",
    "En général les horoscopes sont plus souvent positifs que négatifs et incitent à la conformité."
   ]
  },
  {
   "cell_type": "code",
   "execution_count": 110,
   "id": "special-october",
   "metadata": {},
   "outputs": [],
   "source": [
    "signes = ['Bélier', 'Taureau', 'Gémeaux', 'Cancer', 'Lion', 'Vierge',\n",
    "         'Balance', 'Scorption', 'Sagittaire', 'Capricorne', 'Verseau', 'Poissons']\n",
    "\n",
    "sujets = ['amour', 'argent', 'travail', 'famille', 'santé']\n",
    "adverbes = ['très', 'peu', 'souvent', 'rarement', 'incroyablement', 'absolument']\n",
    "adjectifs = ['avantageux', 'profitable', 'rebondissant', 'variable', \n",
    "             'avantageux', 'magnifique', 'fluctuant']\n",
    "conseils = ['continuer', 'faire attention', 'faire attention', 'profiter', 'se dépêcher']"
   ]
  },
  {
   "cell_type": "markdown",
   "id": "reasonable-deposit",
   "metadata": {},
   "source": [
    "Nous composons un horoscope en choisissant aléatoirement:\n",
    "- un sujet\n",
    "- adverbe\n",
    "- adjectif\n",
    "\n",
    "et en ajoutant un conseil (encourageant une conformité)."
   ]
  },
  {
   "cell_type": "code",
   "execution_count": 111,
   "id": "greatest-debut",
   "metadata": {},
   "outputs": [
    {
     "name": "stdout",
     "output_type": "stream",
     "text": [
      "Bélier\n",
      "- amour: incroyablement variable, faire attention!\n",
      "\n",
      "Taureau\n",
      "- famille: très avantageux, se dépêcher!\n",
      "\n",
      "Gémeaux\n",
      "- amour: rarement avantageux, faire attention!\n",
      "\n",
      "Cancer\n",
      "- famille: souvent variable, faire attention!\n",
      "\n",
      "Lion\n",
      "- santé: très avantageux, faire attention!\n",
      "\n",
      "Vierge\n",
      "- amour: souvent variable, se dépêcher!\n",
      "\n"
     ]
    }
   ],
   "source": [
    "for signe in signes[:6]:\n",
    "    sujet = choice(sujets)\n",
    "    adverbe = choice(adverbes)\n",
    "    adjectif = choice(adjectifs)\n",
    "    conseil = choice(conseils)\n",
    "    \n",
    "    print(signe)\n",
    "    print('-', sujet + ':', adverbe, adjectif + ',', conseil + '!')\n",
    "    print()"
   ]
  },
  {
   "cell_type": "markdown",
   "id": "driving-deficit",
   "metadata": {},
   "source": [
    "## Conjuguer un verbe\n",
    "\n",
    "La conjugaison de beaucoup de verbes est régulière.  \n",
    "Voici une fonction pour conjuguer un verbe en *er*."
   ]
  },
  {
   "cell_type": "code",
   "execution_count": 2,
   "id": "united-elizabeth",
   "metadata": {},
   "outputs": [
    {
     "name": "stdout",
     "output_type": "stream",
     "text": [
      "je parle\n",
      "tu parles\n",
      "elle parle\n",
      "\n",
      "nous parlons\n",
      "vous parlez\n",
      "elles parlent\n"
     ]
    }
   ],
   "source": [
    "def conjuger(verbe):\n",
    "    print('je', verbe[:-2]+'e')\n",
    "    print('tu', verbe[:-2]+'es')\n",
    "    print('elle', verbe[:-2]+'e')\n",
    "    print()\n",
    "    print('nous', verbe[:-2]+'ons')\n",
    "    print('vous', verbe[:-2]+'ez')\n",
    "    print('elles', verbe[:-2]+'ent')\n",
    "    \n",
    "conjuger('parler')"
   ]
  },
  {
   "cell_type": "code",
   "execution_count": 3,
   "id": "continued-literature",
   "metadata": {},
   "outputs": [
    {
     "name": "stdout",
     "output_type": "stream",
     "text": [
      "je programme\n",
      "tu programmes\n",
      "elle programme\n",
      "\n",
      "nous programmons\n",
      "vous programmez\n",
      "elles programment\n"
     ]
    }
   ],
   "source": [
    "conjuger('programmer')"
   ]
  },
  {
   "cell_type": "code",
   "execution_count": 6,
   "id": "based-visitor",
   "metadata": {},
   "outputs": [
    {
     "name": "stdout",
     "output_type": "stream",
     "text": [
      "je progresse\n",
      "tu progresses\n",
      "elle progresse\n",
      "\n",
      "nous progressons\n",
      "vous progressez\n",
      "elles progressent\n"
     ]
    }
   ],
   "source": [
    "conjuger('progresser')"
   ]
  },
  {
   "cell_type": "markdown",
   "id": "smooth-appreciation",
   "metadata": {},
   "source": [
    "**Exercice**  \n",
    "Créer une fonction `conjuger2()` pour conjuger les verbes qui terminent en -ir."
   ]
  },
  {
   "cell_type": "markdown",
   "id": "shaped-methodology",
   "metadata": {},
   "source": []
  }
 ],
 "metadata": {
  "kernelspec": {
   "display_name": "Python 3",
   "language": "python",
   "name": "python3"
  },
  "language_info": {
   "codemirror_mode": {
    "name": "ipython",
    "version": 3
   },
   "file_extension": ".py",
   "mimetype": "text/x-python",
   "name": "python",
   "nbconvert_exporter": "python",
   "pygments_lexer": "ipython3",
   "version": "3.7.9"
  }
 },
 "nbformat": 4,
 "nbformat_minor": 5
}
