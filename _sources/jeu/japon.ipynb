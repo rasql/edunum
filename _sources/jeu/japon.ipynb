{
 "cells": [
  {
   "cell_type": "markdown",
   "id": "technical-compensation",
   "metadata": {},
   "source": [
    "# Culture du Japon\n",
    "\n",
    "![](https://media.giphy.com/media/3og0IHgGpll0M9wuek/giphy.gif)\n",
    "\n",
    "Dans cette section nous allons mettre en pratique les concepts\n",
    "\n",
    "- listes de mots\n",
    "- choix aléatoire dans une liste avec `choice()`\n",
    "- nombre entier aléatoire avec `randint(a, b)`\n",
    "- reste de la division (modulo) `%`\n",
    "- boucle `for`\n",
    "- fonction `input()`"
   ]
  },
  {
   "cell_type": "markdown",
   "id": "acquired-footage",
   "metadata": {},
   "source": [
    "## Zodiac japonais\n",
    "\n",
    "Les 12 signes du zodiaque japonais sont empruntés du calendrier lunaire chinois. On retrouve ainsi le rat, le bœuf, le tigre, le lapin, le dragon, le serpent, le cheval, la chèvre, le singe, le coq, le chien et le cochon.\n",
    "\n",
    "Le rat est le premier animal, et l'année 1900 était l'année du rat. 1901 celui du boeuf, etc.\n",
    "\n",
    "Référence: [Jûnishi: les 12 signes du zodiaque](https://www.vivrelejapon.com/a-savoir/comprendre-le-japon/junishi-zodiaque-astrologie)"
   ]
  },
  {
   "cell_type": "code",
   "execution_count": 99,
   "id": "dated-juice",
   "metadata": {},
   "outputs": [],
   "source": [
    "zodiaque = ['rat', 'buffle', 'tigre', 'lapin', 'dragon', 'serpent', \n",
    "            'cheval', 'mouton', 'singe', 'coq', 'chien', 'porc', ]"
   ]
  },
  {
   "cell_type": "markdown",
   "id": "disabled-azerbaijan",
   "metadata": {},
   "source": [
    "Nous pouvons parcourir et imprimer cette liste."
   ]
  },
  {
   "cell_type": "code",
   "execution_count": 100,
   "id": "resident-facility",
   "metadata": {},
   "outputs": [
    {
     "name": "stdout",
     "output_type": "stream",
     "text": [
      "rat\n",
      "buffle\n",
      "tigre\n",
      "lapin\n",
      "dragon\n",
      "serpent\n",
      "cheval\n",
      "mouton\n",
      "singe\n",
      "coq\n",
      "chien\n",
      "porc\n"
     ]
    }
   ],
   "source": [
    "for animal in zodiaque:\n",
    "    print(animal)"
   ]
  },
  {
   "cell_type": "markdown",
   "id": "hawaiian-minority",
   "metadata": {},
   "source": [
    "En décalant l'année avec une soustraction `year - 1900` nous pouvons aligner avec le début de la liste, le rat ayant l'indice 0.\n",
    "Avec la fonction modulo `%` nous obtenons des indices cycliques allant de 0 à 11. Ceci nous permet d'afficher un tableau avec des années et l'animal correspondant."
   ]
  },
  {
   "cell_type": "code",
   "execution_count": 101,
   "id": "endangered-access",
   "metadata": {},
   "outputs": [
    {
     "name": "stdout",
     "output_type": "stream",
     "text": [
      "1960 : rat\n",
      "1961 : buffle\n",
      "1962 : tigre\n",
      "1963 : lapin\n",
      "1964 : dragon\n",
      "1965 : serpent\n",
      "1966 : cheval\n",
      "1967 : mouton\n",
      "1968 : singe\n",
      "1969 : coq\n",
      "1970 : chien\n",
      "1971 : porc\n",
      "1972 : rat\n",
      "1973 : buffle\n",
      "1974 : tigre\n",
      "1975 : lapin\n",
      "1976 : dragon\n",
      "1977 : serpent\n",
      "1978 : cheval\n",
      "1979 : mouton\n",
      "1980 : singe\n",
      "1981 : coq\n",
      "1982 : chien\n",
      "1983 : porc\n",
      "1984 : rat\n",
      "1985 : buffle\n",
      "1986 : tigre\n",
      "1987 : lapin\n",
      "1988 : dragon\n",
      "1989 : serpent\n",
      "1990 : cheval\n",
      "1991 : mouton\n",
      "1992 : singe\n",
      "1993 : coq\n",
      "1994 : chien\n",
      "1995 : porc\n",
      "1996 : rat\n",
      "1997 : buffle\n",
      "1998 : tigre\n",
      "1999 : lapin\n",
      "2000 : dragon\n",
      "2001 : serpent\n",
      "2002 : cheval\n",
      "2003 : mouton\n",
      "2004 : singe\n",
      "2005 : coq\n",
      "2006 : chien\n",
      "2007 : porc\n",
      "2008 : rat\n",
      "2009 : buffle\n",
      "2010 : tigre\n",
      "2011 : lapin\n",
      "2012 : dragon\n",
      "2013 : serpent\n",
      "2014 : cheval\n",
      "2015 : mouton\n",
      "2016 : singe\n",
      "2017 : coq\n",
      "2018 : chien\n",
      "2019 : porc\n",
      "2020 : rat\n",
      "2021 : buffle\n",
      "2022 : tigre\n",
      "2023 : lapin\n",
      "2024 : dragon\n"
     ]
    }
   ],
   "source": [
    "for year in range(1960, 2025):\n",
    "    i = (year - 1900) % 12\n",
    "    print(year, ':', zodiaque[i])"
   ]
  },
  {
   "cell_type": "markdown",
   "id": "rotary-relation",
   "metadata": {},
   "source": [
    "## Le cycle des 5 éléments\n",
    "On peut combiner le cycle des animaux avec le cycle binaire\n",
    "- Yin (buffle, tigre, serpent, cheval, coq, chien)\n",
    "- Yan (rat, lapon, dragon, chèvre, singe, cochon)\n",
    "\n",
    "On peut combiner le cycle des animaux avec les 5 éléments\n",
    "- métal\n",
    "- eau\n",
    "- bois\n",
    "- feu\n",
    "- terre"
   ]
  },
  {
   "cell_type": "code",
   "execution_count": 130,
   "id": "successful-vacation",
   "metadata": {},
   "outputs": [
    {
     "name": "stdout",
     "output_type": "stream",
     "text": [
      "2000 : dragon  -  métal\n",
      "2001 : serpent  -  métal\n",
      "2002 : cheval  -  eau\n",
      "2003 : mouton  -  eau\n",
      "2004 : singe  -  bois\n",
      "2005 : coq  -  bois\n",
      "2006 : chien  -  feu\n",
      "2007 : porc  -  feu\n",
      "2008 : rat  -  terre\n",
      "2009 : buffle  -  terre\n",
      "2010 : tigre  -  métal\n",
      "2011 : lapin  -  métal\n",
      "2012 : dragon  -  eau\n",
      "2013 : serpent  -  eau\n",
      "2014 : cheval  -  bois\n",
      "2015 : mouton  -  bois\n",
      "2016 : singe  -  feu\n",
      "2017 : coq  -  feu\n",
      "2018 : chien  -  terre\n",
      "2019 : porc  -  terre\n",
      "2020 : rat  -  métal\n",
      "2021 : buffle  -  métal\n",
      "2022 : tigre  -  eau\n",
      "2023 : lapin  -  eau\n",
      "2024 : dragon  -  bois\n"
     ]
    }
   ],
   "source": [
    "elements = ['métal', 'eau', 'bois', 'feu', 'terre']\n",
    "for year in range(2000, 2025):\n",
    "    i = (year - 1900) % 12\n",
    "    j = (year - 1900) // 2 % 5\n",
    "    \n",
    "    print(year, ':', zodiaque[i], ' - ', elements[j])"
   ]
  },
  {
   "cell_type": "markdown",
   "id": "returning-confusion",
   "metadata": {},
   "source": [
    "## Compter en japonais\n",
    "\n",
    "Nous mettons les nombres de 1 à 10 dans une liste.\n",
    "Pour faire coïncider l'index de la liste avec le nombre, nous mettons *zero* en première position."
   ]
  },
  {
   "cell_type": "code",
   "execution_count": 8,
   "id": "aggressive-certification",
   "metadata": {},
   "outputs": [],
   "source": [
    "nombres = ['zero', 'ichi', 'ni', 'san', 'yon', 'go', 'roku', 'nana', 'hachi', 'kyu', 'ju']"
   ]
  },
  {
   "cell_type": "markdown",
   "id": "rental-triumph",
   "metadata": {},
   "source": [
    "L'index d'un élément de la liste correspond maintenant au texte de l'élément."
   ]
  },
  {
   "cell_type": "code",
   "execution_count": 52,
   "id": "strange-graham",
   "metadata": {},
   "outputs": [
    {
     "name": "stdout",
     "output_type": "stream",
     "text": [
      "0 zero\n",
      "1 ichi\n",
      "2 ni\n",
      "3 san\n",
      "4 yon\n",
      "5 go\n",
      "6 roku\n",
      "7 nana\n",
      "8 hachi\n",
      "9 kyu\n",
      "10 ju\n"
     ]
    }
   ],
   "source": [
    "for i in range(11):\n",
    "    print(i, nombres[i])"
   ]
  },
  {
   "cell_type": "markdown",
   "id": "fancy-franchise",
   "metadata": {},
   "source": [
    "## Apprendre à compter\n",
    "\n",
    "Nous allons faire un petit programme, ou les nombres de 0 à 10 sont présentés en japonais, de façon aléatoire. Vous devez les reconnaitre et répondre avec un nombre de 0 à 10.\n",
    "\n",
    "Nous utilisons la fonction `randint(0, 10)` pour trouver un entier aléatoire entre 0 et 10.\n",
    "Voici 20 nombres aléatoires affichés sur la même ligne."
   ]
  },
  {
   "cell_type": "code",
   "execution_count": 11,
   "id": "strategic-medium",
   "metadata": {},
   "outputs": [
    {
     "data": {
      "text/plain": [
       "[0, 1, 2, 3, 4, 5, 6, 7, 8, 9, 10]"
      ]
     },
     "execution_count": 11,
     "metadata": {},
     "output_type": "execute_result"
    }
   ],
   "source": [
    "liste = list(range(11))\n",
    "liste"
   ]
  },
  {
   "cell_type": "markdown",
   "id": "reflected-orleans",
   "metadata": {},
   "source": [
    "Nous utilisons la fonction `shuffle` du module `random` pour mélanger la liste."
   ]
  },
  {
   "cell_type": "code",
   "execution_count": 12,
   "id": "homeless-promise",
   "metadata": {},
   "outputs": [
    {
     "data": {
      "text/plain": [
       "[0, 6, 9, 1, 7, 4, 10, 8, 5, 3, 2]"
      ]
     },
     "execution_count": 12,
     "metadata": {},
     "output_type": "execute_result"
    }
   ],
   "source": [
    "from random import shuffle\n",
    "random.shuffle(liste)\n",
    "liste"
   ]
  },
  {
   "cell_type": "code",
   "execution_count": 13,
   "id": "maritime-calculator",
   "metadata": {},
   "outputs": [
    {
     "name": "stdout",
     "output_type": "stream",
     "text": [
      "Apprenez les nombres 0 à 10 en japonais\n"
     ]
    },
    {
     "name": "stdin",
     "output_type": "stream",
     "text": [
      "ni:  2\n",
      "san:  3\n",
      "kyu:  9\n",
      "nana:  7\n",
      "go:  6\n"
     ]
    },
    {
     "name": "stdout",
     "output_type": "stream",
     "text": [
      "faux! la bonne réponse est 5\n"
     ]
    },
    {
     "name": "stdin",
     "output_type": "stream",
     "text": [
      "yon:  4\n",
      "ichi:  1\n",
      "zero:  0\n",
      "ju:  10\n",
      "roku:  6\n",
      "hachi:  8\n"
     ]
    },
    {
     "name": "stdout",
     "output_type": "stream",
     "text": [
      "votre score: 10\n"
     ]
    }
   ],
   "source": [
    "from random import shuffle\n",
    "liste = list(range(11))\n",
    "shuffle(liste)\n",
    "score = 0\n",
    "\n",
    "print('Apprenez les nombres 0 à 10 en japonais')\n",
    "for i in liste:\n",
    "    nombre = nombres[i]\n",
    "    reponse = input(nombre + ': ')\n",
    "    if int(reponse) == i:\n",
    "        score = score + 1\n",
    "    else:\n",
    "        print('faux! la bonne réponse est', i)\n",
    "        \n",
    "print('votre score:', score)"
   ]
  },
  {
   "cell_type": "markdown",
   "id": "actual-publisher",
   "metadata": {},
   "source": [
    "## Compter jusqu'à 99\n",
    "\n",
    "Le système de numération en japonais est complètement régulier.  \n",
    "Un utilisant les nombres 1 à 10 vous arrivez a compter jusqu'à 99.\n",
    "\n",
    "- 11 = **ju ichi** (dix-un)\n",
    "- 12 = **ju ni** (dix-deux)\n",
    "- 13 = **ju san** (dix-trois)\n",
    "\n",
    "A partir de 20:\n",
    "\n",
    "- 20 = **ni ju** (deux-dix)\n",
    "- 21 = **ni ju ichi** (deux-dix-un)\n",
    "- 22 = **ni ju ni** (deux-dix-deux)\n",
    "\n",
    "et ainsi de suite jusqu'à \n",
    "\n",
    "- 99 = **kyu ju kyu** (neuf-dix-neuf)\n",
    "\n",
    "Nous pouvons donc afficher les nombres en japonais de 0 à 99."
   ]
  },
  {
   "cell_type": "code",
   "execution_count": 63,
   "id": "latest-consciousness",
   "metadata": {},
   "outputs": [
    {
     "name": "stdout",
     "output_type": "stream",
     "text": [
      "0 = zero\n",
      "1 = ichi\n",
      "2 = ni\n",
      "3 = san\n",
      "4 = yon\n",
      "5 = go\n",
      "6 = roku\n",
      "7 = nana\n",
      "8 = hachi\n",
      "9 = kyu\n",
      "10 = ju\n",
      "11 = ju ichi\n",
      "12 = ju ni\n",
      "13 = ju san\n",
      "14 = ju yon\n",
      "15 = ju go\n",
      "16 = ju roku\n",
      "17 = ju nana\n",
      "18 = ju hachi\n",
      "19 = ju kyu\n",
      "20 = ni ju\n",
      "21 = ni ju ichi\n",
      "22 = ni ju ni\n",
      "23 = ni ju san\n",
      "24 = ni ju yon\n",
      "25 = ni ju go\n",
      "26 = ni ju roku\n",
      "27 = ni ju nana\n",
      "28 = ni ju hachi\n",
      "29 = ni ju kyu\n",
      "30 = san ju\n",
      "31 = san ju ichi\n",
      "32 = san ju ni\n",
      "33 = san ju san\n",
      "34 = san ju yon\n",
      "35 = san ju go\n",
      "36 = san ju roku\n",
      "37 = san ju nana\n",
      "38 = san ju hachi\n",
      "39 = san ju kyu\n",
      "40 = yon ju\n",
      "41 = yon ju ichi\n",
      "42 = yon ju ni\n",
      "43 = yon ju san\n",
      "44 = yon ju yon\n",
      "45 = yon ju go\n",
      "46 = yon ju roku\n",
      "47 = yon ju nana\n",
      "48 = yon ju hachi\n",
      "49 = yon ju kyu\n",
      "50 = go ju\n",
      "51 = go ju ichi\n",
      "52 = go ju ni\n",
      "53 = go ju san\n",
      "54 = go ju yon\n",
      "55 = go ju go\n",
      "56 = go ju roku\n",
      "57 = go ju nana\n",
      "58 = go ju hachi\n",
      "59 = go ju kyu\n",
      "60 = roku ju\n",
      "61 = roku ju ichi\n",
      "62 = roku ju ni\n",
      "63 = roku ju san\n",
      "64 = roku ju yon\n",
      "65 = roku ju go\n",
      "66 = roku ju roku\n",
      "67 = roku ju nana\n",
      "68 = roku ju hachi\n",
      "69 = roku ju kyu\n",
      "70 = nana ju\n",
      "71 = nana ju ichi\n",
      "72 = nana ju ni\n",
      "73 = nana ju san\n",
      "74 = nana ju yon\n",
      "75 = nana ju go\n",
      "76 = nana ju roku\n",
      "77 = nana ju nana\n",
      "78 = nana ju hachi\n",
      "79 = nana ju kyu\n",
      "80 = hachi ju\n",
      "81 = hachi ju ichi\n",
      "82 = hachi ju ni\n",
      "83 = hachi ju san\n",
      "84 = hachi ju yon\n",
      "85 = hachi ju go\n",
      "86 = hachi ju roku\n",
      "87 = hachi ju nana\n",
      "88 = hachi ju hachi\n",
      "89 = hachi ju kyu\n",
      "90 = kyu ju\n",
      "91 = kyu ju ichi\n",
      "92 = kyu ju ni\n",
      "93 = kyu ju san\n",
      "94 = kyu ju yon\n",
      "95 = kyu ju go\n",
      "96 = kyu ju roku\n",
      "97 = kyu ju nana\n",
      "98 = kyu ju hachi\n",
      "99 = kyu ju kyu\n"
     ]
    }
   ],
   "source": [
    "for i in range(100):\n",
    "    u = i % 10    # unité\n",
    "    d = i // 10   # dizaine\n",
    "    \n",
    "    if i <= 10:\n",
    "        print(i, '=', nombres[i])\n",
    "    elif i < 20:\n",
    "        print(i, '=', 'ju', nombres[u])\n",
    "    else:\n",
    "        if u == 0:\n",
    "            print(i, '=', nombres[d], 'ju')\n",
    "        else:\n",
    "            print(i, '=', nombres[d], 'ju', nombres[u])"
   ]
  },
  {
   "cell_type": "markdown",
   "id": "derived-moral",
   "metadata": {},
   "source": [
    "## Calendrier japonais"
   ]
  },
  {
   "cell_type": "markdown",
   "id": "macro-firmware",
   "metadata": {},
   "source": [
    "Les années au Japon sont comptées selon les ères de l'empereur.\n",
    "- 1868 ère Meishi\n",
    "- 1912 ère Taisho\n",
    "- 1926 ère Showa\n",
    "- 1989 ère Heisei\n",
    "- 2019 ère Reiwa\n",
    "\n",
    "Nous pouvons afficher les ères en utilisant des tests **if-elif**."
   ]
  },
  {
   "cell_type": "code",
   "execution_count": 90,
   "id": "beginning-specific",
   "metadata": {},
   "outputs": [
    {
     "name": "stdout",
     "output_type": "stream",
     "text": [
      "1980 = Showa 55\n",
      "1981 = Showa 56\n",
      "1982 = Showa 57\n",
      "1983 = Showa 58\n",
      "1984 = Showa 59\n",
      "1985 = Showa 60\n",
      "1986 = Showa 61\n",
      "1987 = Showa 62\n",
      "1988 = Showa 63\n",
      "1989 = Heisei 1\n",
      "1990 = Heisei 2\n",
      "1991 = Heisei 3\n",
      "1992 = Heisei 4\n",
      "1993 = Heisei 5\n",
      "1994 = Heisei 6\n",
      "1995 = Heisei 7\n",
      "1996 = Heisei 8\n",
      "1997 = Heisei 9\n",
      "1998 = Heisei 10\n",
      "1999 = Heisei 11\n",
      "2000 = Heisei 12\n",
      "2001 = Heisei 13\n",
      "2002 = Heisei 14\n",
      "2003 = Heisei 15\n",
      "2004 = Heisei 16\n",
      "2005 = Heisei 17\n",
      "2006 = Heisei 18\n",
      "2007 = Heisei 19\n",
      "2008 = Heisei 20\n",
      "2009 = Heisei 21\n",
      "2010 = Heisei 22\n",
      "2011 = Heisei 23\n",
      "2012 = Heisei 24\n",
      "2013 = Heisei 25\n",
      "2014 = Heisei 26\n",
      "2015 = Heisei 27\n",
      "2016 = Heisei 28\n",
      "2017 = Heisei 29\n",
      "2018 = Heisei 30\n",
      "2019 = Reiwa 1\n",
      "2020 = Reiwa 2\n",
      "2021 = Reiwa 3\n",
      "2022 = Reiwa 4\n",
      "2023 = Reiwa 5\n",
      "2024 = Reiwa 6\n"
     ]
    }
   ],
   "source": [
    "for year in range(1980, 2025):\n",
    "    if year >= 2019:\n",
    "        print(year, '= Reiwa', year-2019+1)\n",
    "    elif year >= 1989:\n",
    "        print(year, '= Heisei', year-1989+1)\n",
    "    elif year >= 1926:\n",
    "        print(year, '= Showa', year-1926+1)"
   ]
  },
  {
   "cell_type": "code",
   "execution_count": null,
   "id": "viral-omega",
   "metadata": {},
   "outputs": [],
   "source": []
  }
 ],
 "metadata": {
  "kernelspec": {
   "display_name": "Python 3",
   "language": "python",
   "name": "python3"
  },
  "language_info": {
   "codemirror_mode": {
    "name": "ipython",
    "version": 3
   },
   "file_extension": ".py",
   "mimetype": "text/x-python",
   "name": "python",
   "nbconvert_exporter": "python",
   "pygments_lexer": "ipython3",
   "version": "3.7.9"
  }
 },
 "nbformat": 4,
 "nbformat_minor": 5
}
