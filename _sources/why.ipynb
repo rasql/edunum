{
 "cells": [
  {
   "cell_type": "markdown",
   "id": "broken-specification",
   "metadata": {},
   "source": [
    "# A quoi sert l'informatique\n",
    "\n",
    "Il est important de se poser la question pourquoi.\n",
    "\n",
    "![](https://media.giphy.com/media/ePeHKwWSed0Ag/giphy-downsized.gif)\n",
    "\n",
    "- pourquoi j'ai besoin de programmer ?\n",
    "- ça me sert à quoi ?"
   ]
  },
  {
   "cell_type": "markdown",
   "id": "genuine-queens",
   "metadata": {},
   "source": [
    "## Pourquoi Python ?\n",
    "\n",
    "Le language Python vient d'être élu **Programming language of the year 2020** par TIOBE. Cette distinction est donnée au langage de programmation qui a gagné le plus en popularité pendant l'année écoulée.\n",
    "\n",
    "Python est particulièrement populaire dans les domaines\n",
    "- data science\n",
    "- machine learning\n",
    "- éducation\n",
    "\n",
    "\n",
    "La raison ?  \n",
    "- la **facilité** d'apprendre ce langage\n",
    "- sa **productivité**"
   ]
  },
  {
   "cell_type": "markdown",
   "id": "lightweight-sense",
   "metadata": {},
   "source": [
    "## Ranking TIOBE\n",
    "\n",
    "Python est maintenant en position 3 dans le TIOBE ranking, et dépassera bientôt le langage Java. Voici les top 5 langages.\n",
    "\n",
    "1. C\n",
    "1. Java\n",
    "1. **Python**\n",
    "1. C++\n",
    "1. C#\n",
    "\n",
    "Python a beaucoup gagné en popularité ces deux dernières années.\n",
    "\n",
    "![tiobe](img/tiobe_python.png)\n",
    "\n",
    "Source: https://www.tiobe.com/tiobe-index/\n"
   ]
  },
  {
   "cell_type": "markdown",
   "id": "civil-athletics",
   "metadata": {},
   "source": [
    "## Le salaire en IT\n",
    "\n",
    "Les IT Sourcing Manager expériementés sont les professionels IT les mieux payés en Suisse.\n",
    "\n",
    "![salaire](img/salaire_it18.png)\n",
    "\n",
    "Source: [ictjournal.ch](https://www.ictjournal.ch/etudes/2020-04-02/quels-salaires-pour-quels-metiers-it-en-suisse)"
   ]
  },
  {
   "cell_type": "markdown",
   "id": "western-footwear",
   "metadata": {},
   "source": [
    "## Pénurie d'informaticiens\n",
    "\n",
    "Les efforts pour lutter contre la pénurie d’informaticiens sont insuffisants, prévient l’association **ICT-Formation professionnelle Suisse**. Sans mesures supplémentaires, l'économie du pays connaîtra dans huit ans une pénurie de 35’800 spécialistes ICT.\n",
    "\n",
    "![it](img/penurie_it.png)\n",
    "\n",
    "Source: [ictjournal.ch](https://www.ictjournal.ch/etudes/2020-09-14/la-suisse-va-manquer-de-36000-informaticiens-dici-2028)"
   ]
  },
  {
   "cell_type": "markdown",
   "id": "enhanced-paste",
   "metadata": {},
   "source": [
    "## Qui utilise Python ?\n",
    "Python est utilisé par beaucoup de grandes entreprises de l'informatique : \n",
    "\n",
    "- Wikipedia\n",
    "- Google\n",
    "- Facebook\n",
    "- Spotify (data analysis)\n",
    "- Netflix (data analysis)\n",
    "- YouTube\n",
    "- Instagram (Django web)\n",
    "- Dropbox\n",
    "- NASA\n",
    "- CERN"
   ]
  }
 ],
 "metadata": {
  "kernelspec": {
   "display_name": "Python 3",
   "language": "python",
   "name": "python3"
  },
  "language_info": {
   "codemirror_mode": {
    "name": "ipython",
    "version": 3
   },
   "file_extension": ".py",
   "mimetype": "text/x-python",
   "name": "python",
   "nbconvert_exporter": "python",
   "pygments_lexer": "ipython3",
   "version": "3.7.9"
  }
 },
 "nbformat": 4,
 "nbformat_minor": 5
}
