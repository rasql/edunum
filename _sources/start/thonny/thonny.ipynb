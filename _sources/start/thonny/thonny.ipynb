{
 "cells": [
  {
   "cell_type": "markdown",
   "id": "colonial-client",
   "metadata": {},
   "source": [
    "# Thonny\n",
    "\n",
    "Pour commencer à programmer, nous avons besoin d'un **environnement de développement**.\n",
    "\n",
    "![intro](https://media.giphy.com/media/mXeOgQvTWweG1hODif/giphy-downsized.gif)\n",
    "\n",
    "Thonny est un environnement de développement **simple et convivial** pour programmer en Python. \n",
    "Il comporte un éditeur de script et une console. \n",
    "Il s'installe dans un environnement virtuel et permet d'y installer facilement des modules supplémentaires."
   ]
  },
  {
   "cell_type": "markdown",
   "id": "flexible-summer",
   "metadata": {},
   "source": [
    "## Installation\n",
    "\n",
    "Téléchargez l'éditeur Thonny depuis [thonny.org](https://thonny.org)\n",
    "\n",
    "![](download.png)\n",
    "\n",
    "- Cliquez sur **Window** ou **Mac** pour télécharger l'installateur.\n",
    "- Lancez le programme d'installation.  \n",
    "- Au gymnase, choisissez **N'installer que pour moi**.\n",
    "- Choisissez **Français** comme langue\n",
    "\n",
    "![](language.png)\n",
    "\n",
    "Pour choisir la langue plus tard:\n",
    "- Choisir le menu **Outils > Options... > Général**\n",
    "- Sélectionner **Langue = Français**"
   ]
  },
  {
   "cell_type": "markdown",
   "id": "dietary-plastic",
   "metadata": {},
   "source": [
    "## L'interface Thonny\n",
    "\n",
    "La fenêtre de Thonny comporte:\n",
    "\n",
    "- des boutons (*Nouveau, Ouvrir, Executer*, etc.)\n",
    "- l'éditeur de script\n",
    "- la console\n",
    "\n",
    "![](thonny.png)"
   ]
  },
  {
   "cell_type": "markdown",
   "id": "ready-three",
   "metadata": {},
   "source": [
    "## Script et console\n",
    "\n",
    "Thonny comporte un **éditeur de script** dans la partie supérieure et une console dans la partie du bas. L'éditeur de script permet d'écrire un programme de multiples lignes.\n",
    "Dans l'exemple ci-dessous, le script **hello.py** comporte une seule ligne de code"
   ]
  },
  {
   "cell_type": "code",
   "execution_count": 8,
   "id": "cooperative-community",
   "metadata": {},
   "outputs": [
    {
     "name": "stdout",
     "output_type": "stream",
     "text": [
      "hello\n"
     ]
    }
   ],
   "source": [
    "print('hello')"
   ]
  },
  {
   "cell_type": "markdown",
   "id": "conditional-reynolds",
   "metadata": {},
   "source": [
    "La **console** est utile pour exécuter et tester rapidement des expressions simples telles que"
   ]
  },
  {
   "cell_type": "code",
   "execution_count": 1,
   "id": "apparent-austria",
   "metadata": {},
   "outputs": [
    {
     "data": {
      "text/plain": [
       "7"
      ]
     },
     "execution_count": 1,
     "metadata": {},
     "output_type": "execute_result"
    }
   ],
   "source": [
    "a = 3\n",
    "a * 2 + 1"
   ]
  },
  {
   "cell_type": "markdown",
   "id": "hybrid-footage",
   "metadata": {},
   "source": [
    "## Installer JupyterLab\n",
    "\n",
    "L'application **JupyterLab** est un environnement pour créer des documents mixtes **code/texte** dans un navigateur web.\n",
    "\n",
    "- Choisissez le menu **Outils > Gérer les paquets...**\n",
    "- Cherchez le module **jupyterlab** (sans espace)\n",
    "- Cliquez sur le bouton **Rechercher sur PyPi**\n",
    "\n",
    "![](jupyterlab.png)\n",
    "\n",
    "- Cliquez sur le lien **jupyterlab**\n",
    "- Cliquez sur le bouton **Installer** \n",
    "\n",
    "Thonny et JupyterLab occupent environ **130 Mo** de mémoire."
   ]
  },
  {
   "cell_type": "markdown",
   "id": "tropical-wyoming",
   "metadata": {},
   "source": [
    "## Lancer Jupyter Lab\n",
    "\n",
    "- Choisissez le menu **Outils > Ouvrir la console du système…**\n",
    "- Taper la commande `cd` (+retour)  \n",
    "- Taper la commande `jupyter lab` (+ retour)\n",
    "\n",
    "    cd\n",
    "    jupyter lab\n",
    "    \n",
    "    \n",
    "- Ceci démarre un serveur **JupyterLab**\n",
    "- Le navigateur par défaut s'ouvre\n",
    "- Un nouvel onglet appelé **JupyterLab** s'affiche\n",
    "- Vous pouvez détacher cet onglet en le tirant avec la souris."
   ]
  },
  {
   "cell_type": "markdown",
   "id": "laden-motion",
   "metadata": {},
   "source": [
    "## Jupyter en ligne\n",
    "\n",
    "Il existe aussi plusieurs services Jupyter notebook en ligne (dans le **cloud**).  \n",
    "L'avantage est que vous n'avez pas besoin d'installer un logiciel, et vous pouvez partager votre notebook.\n",
    "\n",
    "- [Google Colab](https://colab.research.google.com)\n",
    "- [Binder](https://mybinder.org)\n",
    "- [CoCalc](https://cocalc.com)\n",
    "- [Kaggle](https://www.kaggle.com)"
   ]
  },
  {
   "cell_type": "markdown",
   "id": "lightweight-partner",
   "metadata": {},
   "source": [
    "## Anaconda\n",
    "\n",
    "La distribution Anaconda est une collection de modules Pythons professionnels qui:\n",
    "\n",
    "- réunit plus que 1000 **packages** scientifiques\n",
    "- est idéale pour les **data sciences** et machine learning\n",
    "- a été téléchargé plus que **20 millions** de fois\n",
    "\n",
    "Pour utiliser cette plateforme\n",
    "\n",
    "- Téléchargez [Anaconda](https://www.anaconda.com/products/individual#Downloads)\n",
    "- Cliquez sur le bouton **JupyterLab** dans Anaconda Navigator\n"
   ]
  },
  {
   "cell_type": "code",
   "execution_count": null,
   "id": "valuable-action",
   "metadata": {},
   "outputs": [],
   "source": []
  }
 ],
 "metadata": {
  "kernelspec": {
   "display_name": "Python 3",
   "language": "python",
   "name": "python3"
  },
  "language_info": {
   "codemirror_mode": {
    "name": "ipython",
    "version": 3
   },
   "file_extension": ".py",
   "mimetype": "text/x-python",
   "name": "python",
   "nbconvert_exporter": "python",
   "pygments_lexer": "ipython3",
   "version": "3.7.9"
  }
 },
 "nbformat": 4,
 "nbformat_minor": 5
}
