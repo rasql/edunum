{
 "cells": [
  {
   "cell_type": "markdown",
   "id": "empty-permit",
   "metadata": {},
   "source": [
    "# Á quoi ça sert?\n",
    "\n",
    "Il est important de se poser la question pourquoi?\n",
    "\n",
    "![](https://media.giphy.com/media/ePeHKwWSed0Ag/giphy-downsized.gif)\n",
    "\n",
    "- pourquoi j'ai besoin de programmer ?\n",
    "- ça me sert à quoi ?"
   ]
  },
  {
   "cell_type": "markdown",
   "id": "basic-interference",
   "metadata": {},
   "source": [
    "## Comprendre notre monde\n",
    "\n",
    "Nous vivons dans un **monde de plus en plus numérique**. \n",
    "Chaque jour nous\n",
    "\n",
    "- communiquons sur des réseaux\n",
    "- enregistrons des photos et vidéos numériques\n",
    "- achetons en ligne\n",
    "- sommes identifiés par notre visage\n",
    "- etc.\n",
    "\n",
    "L'**éducation numérique** nous permet de \n",
    "- mieux **comprendre** ce monde numérique, \n",
    "- mieux **choisir** parmi toutes ces options, \n",
    "- mieux **se protéger** contre les dangers. \n"
   ]
  },
  {
   "cell_type": "markdown",
   "id": "smooth-number",
   "metadata": {},
   "source": [
    "## Pourquoi Python ?\n",
    "\n",
    "Le langage Python vient d'être élu **Programming language of the year 2020** par TIOBE. Cette distinction est donnée au langage de programmation qui a gagné le plus en popularité pendant l'année écoulée.\n",
    "\n",
    "Python est particulièrement populaire dans les domaines\n",
    "- data science\n",
    "- machine learning\n",
    "- éducation\n",
    "\n",
    "\n",
    "La raison ?  \n",
    "- la **facilité** d'apprendre ce langage\n",
    "- sa **productivité**"
   ]
  },
  {
   "cell_type": "markdown",
   "id": "aggregate-trail",
   "metadata": {
    "toc-hr-collapsed": true
   },
   "source": [
    "## Qui utilise Python ?\n",
    "Python est utilisé par beaucoup de grandes entreprises de l'informatique : \n",
    "\n",
    "- Wikipedia\n",
    "- Google\n",
    "- Facebook\n",
    "- Spotify (data analysis)\n",
    "- Netflix (data analysis)\n",
    "- YouTube\n",
    "- Instagram (Django web)\n",
    "- Dropbox\n",
    "- NASA\n",
    "- CERN"
   ]
  },
  {
   "cell_type": "markdown",
   "id": "manual-tonight",
   "metadata": {},
   "source": [
    "## Ranking TIOBE\n",
    "\n",
    "Python est maintenant en position 3 dans le TIOBE ranking, et dépassera bientôt le langage Java. Voici les tops 5 langages.\n",
    "\n",
    "1. C\n",
    "1. Java\n",
    "1. **Python**\n",
    "1. C++\n",
    "1. C#"
   ]
  },
  {
   "cell_type": "markdown",
   "id": "insured-approach",
   "metadata": {},
   "source": [
    "## Évolution\n",
    "Python a beaucoup gagné en popularité ces deux dernières années.\n",
    "\n",
    "![tiobe](img/it_tiobe_python.png)\n",
    "\n",
    "Source: https://www.tiobe.com/tiobe-index/"
   ]
  },
  {
   "cell_type": "markdown",
   "id": "silver-investor",
   "metadata": {},
   "source": [
    "## Le salaire en IT\n",
    "\n",
    "Les IT Sourcing Manager expérimentés sont les professionnels IT les mieux payés en Suisse.\n",
    "\n",
    "![salaire](img/it_salaire18.png)\n",
    "\n",
    "Source: [ictjournal.ch](https://www.ictjournal.ch/etudes/2020-04-02/quels-salaires-pour-quels-metiers-it-en-suisse)"
   ]
  },
  {
   "cell_type": "markdown",
   "id": "israeli-invite",
   "metadata": {},
   "source": [
    "## Pénurie d'informaticiens\n",
    "\n",
    "Les efforts pour lutter contre la pénurie d’informaticiens sont insuffisants, prévient l’association **ICT-Formation professionnelle Suisse**. Sans mesures supplémentaires, l'économie du pays connaîtra dans huit ans une pénurie de 35’800 spécialistes ICT.\n",
    "\n",
    "![it](img/it_penurie.png)\n",
    "\n",
    "Source: [ictjournal.ch](https://www.ictjournal.ch/etudes/2020-09-14/la-suisse-va-manquer-de-36000-informaticiens-dici-2028)"
   ]
  }
 ],
 "metadata": {
  "kernelspec": {
   "display_name": "Python 3",
   "language": "python",
   "name": "python3"
  },
  "language_info": {
   "codemirror_mode": {
    "name": "ipython",
    "version": 3
   },
   "file_extension": ".py",
   "mimetype": "text/x-python",
   "name": "python",
   "nbconvert_exporter": "python",
   "pygments_lexer": "ipython3",
   "version": "3.7.9"
  }
 },
 "nbformat": 4,
 "nbformat_minor": 5
}
