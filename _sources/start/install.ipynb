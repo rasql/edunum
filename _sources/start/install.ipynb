{
 "cells": [
  {
   "cell_type": "markdown",
   "id": "numerical-metro",
   "metadata": {},
   "source": [
    "# Démarrer\n",
    "\n",
    "Pour commencer à programmer nous avons besoin d'un **environnement de dévelopement**.\n",
    "\n",
    "![intro](https://media.giphy.com/media/mXeOgQvTWweG1hODif/giphy-downsized.gif)"
   ]
  },
  {
   "cell_type": "markdown",
   "id": "unsigned-dispatch",
   "metadata": {},
   "source": [
    "## Thonny\n",
    "\n",
    "Thonny est un environnement de dévelopment simple et convivial pour Python. \n",
    "Il comporte un éditeur de script et une console. \n",
    "Il installe un environnement virtuel pour Python et permet d'y installer facilement des modules supplémentaires."
   ]
  },
  {
   "cell_type": "markdown",
   "id": "utility-scottish",
   "metadata": {},
   "source": [
    "## Installation\n",
    "\n",
    "Téléchargez l'éditeur Thonny depuis [thonny.org](https://thonny.org)\n",
    "\n",
    "L'interface comporte:\n",
    "\n",
    "- des boutons (*Nouveau, Ouvrir, Sauvegarder, Executer*, etc.)\n",
    "- l'éditeur de script\n",
    "- la console (Shell en anglais)\n",
    "\n",
    "![](img/thonny.png)"
   ]
  },
  {
   "cell_type": "markdown",
   "id": "impaired-laugh",
   "metadata": {},
   "source": [
    "## Script et console\n",
    "\n",
    "Thonny comporte un **éditeur de script** dans la partie supérieure et une console dans la partie du bas. L'éditeur de script permet d'écrire un programme de multiples lignes.\n",
    "Dans l'exemple ci-dessous le programme comporte une seule ligne de code"
   ]
  },
  {
   "cell_type": "code",
   "execution_count": 8,
   "id": "minimal-bookmark",
   "metadata": {},
   "outputs": [
    {
     "name": "stdout",
     "output_type": "stream",
     "text": [
      "hello\n"
     ]
    }
   ],
   "source": [
    "print('hello')"
   ]
  },
  {
   "cell_type": "markdown",
   "id": "least-canal",
   "metadata": {},
   "source": [
    "La **console** est utile pour éxécuter et tester rapidemetn des expression simples."
   ]
  },
  {
   "cell_type": "markdown",
   "id": "fantastic-pillow",
   "metadata": {},
   "source": [
    "## Installer des modules\n",
    "\n",
    "Pour installer des modules supplémentaires \n",
    "\n",
    "- choisissez le menu **Outils > Gérer les paquets...**\n",
    "- cherchez le module (par example jupyterlab)\n",
    "- cliquez sur le bouton **Rechercher sur PyPi**\n",
    "- cliquez sur le bouton **Installer**\n",
    "\n",
    "![](img/module.png)"
   ]
  },
  {
   "cell_type": "markdown",
   "id": "sufficient-subscription",
   "metadata": {},
   "source": [
    "## Lancer Jupyter Lab\n",
    "\n",
    "- Installez le module **jupyterlab**\n",
    "- Choisissez le menu **Outils > Ouvrir la console du système…**\n",
    "- Lancez la commande `jupyter lab`"
   ]
  },
  {
   "cell_type": "markdown",
   "id": "hybrid-disco",
   "metadata": {},
   "source": [
    "## Anaconda\n",
    "\n",
    "La distribution Anaconda est une collection de modules Pythons qui\n",
    "\n",
    "- réunit plus que 1000 **packages** scientifiques\n",
    "- est idéale pour les **data sciences** et machine learning\n",
    "- a été téléchargé plus que **20 millions** de fois\n",
    "- permet d'executer JuypterLab **en local**\n",
    "\n",
    "Pour utiliser cette plateforme\n",
    "\n",
    "- Téléchargez [Anaconda](https://www.anaconda.com/products/individual#Downloads)\n",
    "- Cliquez sur le bouton **JupyterLab** dans Anaconda Navigator\n"
   ]
  },
  {
   "cell_type": "markdown",
   "id": "aggressive-heading",
   "metadata": {},
   "source": [
    "## Notebooks en ligne\n",
    "\n",
    "Vous pouvez trouver plusieurs services Jupyter notebook en ligne (dans le cloud).  \n",
    "L'aventage est que vous n'avez pas besoin d'installer un logiciel, et vous pouvez partager votre notebook.\n",
    "\n",
    "- [Google Colaboratory](https://colab.research.google.com)\n",
    "- [My Binder](https://mybinder.org)\n",
    "- www.cocalc.com\n",
    "- [Kaggle](https://www.kaggle.com)"
   ]
  },
  {
   "cell_type": "code",
   "execution_count": null,
   "id": "better-structure",
   "metadata": {},
   "outputs": [],
   "source": []
  }
 ],
 "metadata": {
  "kernelspec": {
   "display_name": "Python 3",
   "language": "python",
   "name": "python3"
  },
  "language_info": {
   "codemirror_mode": {
    "name": "ipython",
    "version": 3
   },
   "file_extension": ".py",
   "mimetype": "text/x-python",
   "name": "python",
   "nbconvert_exporter": "python",
   "pygments_lexer": "ipython3",
   "version": "3.7.9"
  }
 },
 "nbformat": 4,
 "nbformat_minor": 5
}
