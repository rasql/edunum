{
 "cells": [
  {
   "cell_type": "markdown",
   "id": "organized-kruger",
   "metadata": {},
   "source": [
    "# Démarrer\n",
    "\n",
    "Pour programmer un ordinateur, nous avons besoin d'un **environnement de programmation**.\n",
    "\n",
    "![hello world](https://media.giphy.com/media/MeJgB3yMMwIaHmKD4z/giphy.gif)\n",
    "\n",
    "Nous commençons cette section à nous poser la question **pourquoi** c'est utile de savoir programmer.\n",
    "\n",
    "Ensuite nous allons découvrir comment:\n",
    "\n",
    "- installer l'éditeur **Thonny**\n",
    "- utiliser la plateforme **JupyterLab**\n",
    "- utiliser le langage de balisage **Markdown**\n",
    "- faire les premiers pas en **Python**"
   ]
  },
  {
   "cell_type": "code",
   "execution_count": null,
   "id": "sixth-contrast",
   "metadata": {},
   "outputs": [],
   "source": []
  },
  {
   "cell_type": "code",
   "execution_count": null,
   "id": "recorded-climate",
   "metadata": {},
   "outputs": [],
   "source": []
  }
 ],
 "metadata": {
  "kernelspec": {
   "display_name": "Python 3",
   "language": "python",
   "name": "python3"
  },
  "language_info": {
   "codemirror_mode": {
    "name": "ipython",
    "version": 3
   },
   "file_extension": ".py",
   "mimetype": "text/x-python",
   "name": "python",
   "nbconvert_exporter": "python",
   "pygments_lexer": "ipython3",
   "version": "3.7.9"
  }
 },
 "nbformat": 4,
 "nbformat_minor": 5
}
