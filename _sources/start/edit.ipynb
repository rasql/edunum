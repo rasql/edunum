{
 "cells": [
  {
   "cell_type": "markdown",
   "id": "prepared-indianapolis",
   "metadata": {},
   "source": [
    "# JupyterLab\n",
    "\n",
    "JupyterLab est un environnement pour déveloper **code et documentation** dans un navigateur web.\n",
    "\n",
    "![](img/jupyterlab.png)\n",
    "\n",
    "Dans l'image ci-dessus vous pouvez voir\n",
    "- un **notebook** avec des formules mathématiques\n",
    "- une **image** interactive\n",
    "- du **code** Python "
   ]
  },
  {
   "cell_type": "markdown",
   "id": "closed-montgomery",
   "metadata": {},
   "source": [
    "## Pourquoi \"Jupyter\"?\n",
    "\n",
    "Le nom **Ju-pyt-R** fait référence au trois langages de programmation\n",
    "- Julia\n",
    "- Python\n",
    "- R\n",
    "\n",
    "<img src='img/jupyter_logo.png' width='100'>\n",
    "\n",
    "Le logo Juypter représente les lunes de la planète Jupiter qui sont:\n",
    "- Io\n",
    "- Europe\n",
    "- Ganymède\n",
    "- Callisto\n",
    "\n",
    "Ces quatre satellites de Jupiter ont été découvertes en 1610 par **Galilée**, fondateur d'une pensée scientifique basé sur l'observation.\n",
    "\n",
    "Il a proposé un **modèle héliocentriste** (=soleil au centre) avec des mouvement satellitaires des planètes autour du soleil et des lunes autour des planètes."
   ]
  },
  {
   "cell_type": "markdown",
   "id": "viral-territory",
   "metadata": {},
   "source": [
    "## Créer un notebook\n",
    "\n",
    "- Choisissez **File > New > Notebook**\n",
    "- Choisissez un noyeau (kernel): **Python 3**\n",
    "\n",
    "Alternativement:\n",
    "\n",
    "- Cliquez sur (+)\n",
    "- Choisissez dans le Launcher: **Notebook Python 3**\n",
    "\n",
    "![nb](img/start_nb.png)"
   ]
  },
  {
   "cell_type": "markdown",
   "id": "respective-gazette",
   "metadata": {},
   "source": [
    "## Une cellule vide\n",
    "\n",
    "Au début vous avez juste une cellule vide.\n",
    "\n",
    "![](img/cell1.png)\n",
    "\n",
    "Vous notez:\n",
    "\n",
    "- une barre de sélection bleue\n",
    "- des crochets encore vides"
   ]
  },
  {
   "cell_type": "markdown",
   "id": "systematic-japanese",
   "metadata": {},
   "source": [
    "## Evaluler une cellule\n",
    "\n",
    "Ecrivez une expression Python dans la cellule, et appuyez simultanément sur les touches **maj + retour** pour exécuter l'expression.\n",
    "\n",
    "Alternativement vous pouvez cliquer sur le bouton ▶︎ dans le menu.\n",
    "\n",
    "![](img/cell2.png)\n",
    "\n",
    "Vous notez que:\n",
    "\n",
    "- le numéro de l'exécution apparait dans les crochets (1)\n",
    "- le resultat de l'expression est affiché après la cellule code\n",
    "- une nouvelle cellule vide est ajoutée"
   ]
  },
  {
   "cell_type": "markdown",
   "id": "moral-budapest",
   "metadata": {},
   "source": [
    "## Evaluer de nouveau\n",
    "\n",
    "Vous pouvez ajouter une autre expression et évaluer de nouveau la cellule.\n",
    "\n",
    "![](img/cell3.png) \n",
    "\n",
    "Vous notez que:\n",
    "- le numéro de l'exécution a incrémenté (2)\n",
    "- une nouvelle cellule vide est ajoutée"
   ]
  },
  {
   "cell_type": "markdown",
   "id": "fiscal-radiation",
   "metadata": {},
   "source": [
    "## Ajouter des cellules\n",
    "\n",
    "Vous pouvez ajouter des cellules \n",
    "- avec le bouton (+) du menu, ou\n",
    "- avec les raccourcis **A** et **B**.  \n",
    "\n",
    "Par rapport à la cellule active (barre bleue) vous pouvez ajouter une nouvelle cellule\n",
    "\n",
    "- **A** en-dessus (above)\n",
    "- **B** en-dessous (below)\n",
    "\n",
    "![](img/cell4.png) "
   ]
  },
  {
   "cell_type": "markdown",
   "id": "willing-beverage",
   "metadata": {},
   "source": [
    "## Mode edit/command\n",
    "\n",
    "Une cellule est en mode **edit** s'il y a un curseur d'insertion dans la cellule.\n",
    "\n",
    "![](img/cell5.png)\n",
    "\n",
    "Vous basculez vers le mode **command** en\n",
    "\n",
    "- cliquant en dehors de la cellule\n",
    "- en appuyant sur la touche **escape**\n",
    "\n",
    "![](img/cell6.png)\n",
    "\n",
    " \n",
    "Vous notez que:\n",
    "- la cellule est grisée\n",
    "- le cursur a disparu "
   ]
  },
  {
   "cell_type": "markdown",
   "id": "coordinated-neighbor",
   "metadata": {},
   "source": [
    "## Couper, copier, coller\n",
    "\n",
    "En mode **command** vous pouvez couper, copier et coller des cellules avec les raccourcis:\n",
    "    \n",
    "- **X** coupe la cellule\n",
    "- **C** copie la cellule\n",
    "- **V** colle la cellule\n",
    "\n",
    "Par exemple la cellule `'hello'` a été coupée avec la touche **X**\n",
    "\n",
    "![](img/cell7.png)\n",
    "\n",
    "et ensuite collée à la fin de la cellule `2` avec la touche **V**\n",
    "\n",
    "![](img/cell8.png)\n",
    "\n",
    "**Attention:** La touche **cmd** n'est pas nécessaire en mode *command*."
   ]
  },
  {
   "cell_type": "markdown",
   "id": "provincial-amino",
   "metadata": {},
   "source": [
    "## Sélection multiple\n",
    "\n",
    "Avec les touches de flèche **haut/bas** (▲ et ▼) vous pouvez naviguer parmis les cellules.  \n",
    "En appuyant simultanément sur la touche **maj** et **haut/bas** vous pouvez sélectionner des cellules multiples.\n",
    "\n",
    "![](img/cell9.png) \n",
    "\n",
    "La sélection multiple est utile pour couper, copier et coller multiples cellules."
   ]
  },
  {
   "cell_type": "markdown",
   "id": "spatial-reservoir",
   "metadata": {},
   "source": [
    "## Résultat\n",
    "\n",
    "Quand une cellule est exécutée, toutes les expressions sont évaluées, mais seulement le dernier résultat est affiché.\n",
    "\n",
    "![](img/cell10.png) \n",
    "\n",
    "Vous pouvez afficher toutes les valeurs en utilisant la fonction `print()`."
   ]
  },
  {
   "cell_type": "code",
   "execution_count": 3,
   "id": "functioning-credits",
   "metadata": {},
   "outputs": [
    {
     "name": "stdout",
     "output_type": "stream",
     "text": [
      "35\n",
      "782\n",
      "0.5217391304347826\n"
     ]
    }
   ],
   "source": [
    "print(12 + 23)\n",
    "print(23 * 34)\n",
    "print(12 / 23)"
   ]
  },
  {
   "cell_type": "markdown",
   "id": "wooden-neutral",
   "metadata": {},
   "source": [
    "## Deux types de cellules\n",
    "\n",
    "Dans un notebook Jupyter il y a deux types de cellules:\n",
    "\n",
    "- code\n",
    "- texte (Markdown)\n",
    "\n",
    "Pour basculer entre code et texte utilisez le menu **Code/Markdown** dans la barre des menus.\n",
    "\n",
    "![](img/jupyter_menu.png)\n",
    "\n",
    "Vous pouvez également utiliser les raccourcis\n",
    "- **M** pour Markdown\n",
    "- **Y** pour code\n",
    "\n",
    "**Attention:** il faut être en mode *command* pour que les raccourcis fonctionnent. "
   ]
  },
  {
   "cell_type": "markdown",
   "id": "varying-manchester",
   "metadata": {},
   "source": [
    "## Langage à balise\n",
    "\n",
    "Un langage à balises est appelé **markup language** en anglais.  \n",
    "Un texte contient des **balises** spéciales (=markup) pour formater le texte.\n",
    "\n",
    "### HTML\n",
    "La plus célèbres des langages Markup est **HTML**. C'est le langage dans lequel les pages internet sont écrites. D'ailleurs le **ML** dans HTML est pour **Hyper-Text Markup Langage**\n",
    "\n",
    "Voici un exemple de code HTML utilisant la balise `<img>`\n",
    "\n",
    "    <img src='img/html5_logog.png'>\n",
    "    \n",
    "qui insère cette image\n",
    "\n",
    "<img src='img/html5_logo.png' width=100>\n",
    "\n",
    "et un autre exemple utilisant la balise `<a>`\n",
    "\n",
    "    <a href='https://fr.wikipedia.org/wiki/Hypertext_Markup_Language'>HTML sur Wikipédia</>\n",
    "\n",
    "qui produit cet hyper-lien\n",
    "\n",
    " <a href='https://fr.wikipedia.org/wiki/Hypertext_Markup_Language'>HTML sur Wikipédia</a>\n",
    "    \n",
    "### XML\n",
    "C'est **eXtendend Markup Langage**. Ce langage est utilisé par exmple pour le nouveau format des fichiers Microsoft Office:\n",
    "\n",
    "- Word (.docx)\n",
    "- Excel (.xlsx)\n",
    "- PowerPoint (.pptx)\n",
    "\n",
    "Ou le **X** dans l'extension est pour **Open XML**\n",
    "\n",
    "### LaTeX\n",
    "C'est un langage à balises pour représenter des formules mathématiques. Ce langage est adoré par les mathématiciens et scientifiques. Votre support de cours et vos exercices de maths ont certainement été écrits avec LaTeX.\n",
    "\n",
    "Voici un exemple de code en LateX\n",
    "\n",
    "    $$ c = \\sqrt{a^2 + b^2} $$\n",
    "    \n",
    "qui produit\n",
    "\n",
    "$$ c = \\sqrt{a^2 + b^2} $$\n",
    "\n",
    "### Markdown\n",
    "\n",
    "Le mot **Markdown** est un jeu de mot sur **Markup**.  \n",
    "Le mot **down** (bas, inférieur) se veut pour désigner une version *simplifiée* de langage Markup.\n",
    "\n",
    "Souvent un ou deux symboles suffisent déjà pour la mise en format."
   ]
  },
  {
   "cell_type": "markdown",
   "id": "educated-emphasis",
   "metadata": {},
   "source": [
    "## Titres\n",
    "\n",
    "Vous pouvez créer des titres avec la balise hashtag `#`\n",
    "\n",
    "    # Titre 1\n",
    "    ## Titre 2 \n",
    "    ### Titre 3\n",
    " \n",
    "ce qui produit ceci\n",
    "    \n",
    "![](img/md1.png)"
   ]
  },
  {
   "cell_type": "markdown",
   "id": "searching-freedom",
   "metadata": {},
   "source": [
    "## Styles\n",
    "\n",
    "Les ballises \n",
    "\n",
    "* astérisque simple (`*`)\n",
    "* astérisque double (`**`)\n",
    "* apostrophe arrière (`` ` `` )\n",
    "\n",
    "entourent un ou plusieurs mots pour créer les styles\n",
    "\n",
    "    *italique*, **gras** et `code`\n",
    "    \n",
    "en produisent ce résultat\n",
    "\n",
    "*italique*, **gras** et `code`"
   ]
  },
  {
   "cell_type": "markdown",
   "id": "exterior-observation",
   "metadata": {},
   "source": [
    "## Listes\n",
    "\n",
    "Le code Markdown\n",
    "\n",
    "    - item\n",
    "    - item\n",
    "    \n",
    "produit une liste à puces\n",
    "\n",
    "- item\n",
    "- item\n",
    "\n",
    "Le code Markdown\n",
    "\n",
    "    1. item\n",
    "    1. item\n",
    "    \n",
    "produit une liste numérotées\n",
    "\n",
    "1. item\n",
    "1. item"
   ]
  },
  {
   "cell_type": "markdown",
   "id": "emerging-hughes",
   "metadata": {},
   "source": [
    "## Insérer un hyper-lien\n",
    "\n",
    "Pour insérer un hyper-lien utilisez le code\n",
    "    \n",
    "    [Texte](url)\n",
    "    \n",
    "- `Texte` est le texte affiché sous forme de lien\n",
    "- `url` (Universal Resource Locator) et l'addresse internet du site\n",
    "\n",
    "Pour insérer les crochets `[]` utilisez **alt+5/6**\n",
    "\n",
    "    [Lien vers le site Python](https://www.python.org)\n",
    "\n",
    "ce qui produit\n",
    "\n",
    "[Lien vers le site Python](https://www.python.org)"
   ]
  },
  {
   "cell_type": "markdown",
   "id": "surgical-vocabulary",
   "metadata": {},
   "source": [
    "## Insérer une image\n",
    "\n",
    "Pour insérer une image utilisez le code\n",
    "\n",
    "    ![](image.png)\n",
    "    ![](dossier/image.png)\n",
    "    ![](url)\n",
    "  \n",
    "L'image peut être \n",
    "- dans le même dossier que le Jupyter notebook\n",
    "- dans un **dossier**\n",
    "- sur un site web (url)\n",
    "\n",
    "Par exemple ce code\n",
    "\n",
    "    ![logo](img/html5_logo.png)![logo](img/html5_logo.png)\n",
    "\n",
    "produit ceci\n",
    "\n",
    "![](img/html5_logo.png)\n",
    "\n",
    "Le chemin vers l'image peut être \n",
    "- un lien local (une image dans le même dossier que votre notebook)\n",
    "- un URL (une adresse complète sur internet)"
   ]
  },
  {
   "cell_type": "markdown",
   "id": "miniature-technology",
   "metadata": {},
   "source": [
    "## Insérer un GIF animé\n",
    "\n",
    "Sur le site [GIPHY](https://giphy.com) vous trouves une vaste quantité d'images animés.\n",
    "\n",
    "Pour insérer un hyper-lien utilisez le code\n",
    "    \n",
    "    ![](url)\n",
    "    \n",
    "\n",
    "Pour insérer les crochets `[]` utilisez **alt+5/6**\n",
    "\n",
    "Par exemple\n",
    "\n",
    "    ![](https://media.giphy.com/media/VekcnHOwOI5So/giphy-downsized.gif)\n",
    "\n",
    "ce qui produit\n",
    "\n",
    "![lien](https://media.giphy.com/media/VekcnHOwOI5So/giphy-downsized.gif)"
   ]
  },
  {
   "cell_type": "code",
   "execution_count": null,
   "id": "different-lover",
   "metadata": {},
   "outputs": [],
   "source": []
  }
 ],
 "metadata": {
  "kernelspec": {
   "display_name": "Python 3",
   "language": "python",
   "name": "python3"
  },
  "language_info": {
   "codemirror_mode": {
    "name": "ipython",
    "version": 3
   },
   "file_extension": ".py",
   "mimetype": "text/x-python",
   "name": "python",
   "nbconvert_exporter": "python",
   "pygments_lexer": "ipython3",
   "version": "3.7.9"
  }
 },
 "nbformat": 4,
 "nbformat_minor": 5
}
