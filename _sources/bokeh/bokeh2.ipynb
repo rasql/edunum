{
 "cells": [
  {
   "cell_type": "markdown",
   "id": "brilliant-midnight",
   "metadata": {},
   "source": [
    "# Bokeh"
   ]
  },
  {
   "cell_type": "code",
   "execution_count": 3,
   "id": "mexican-destiny",
   "metadata": {},
   "outputs": [
    {
     "data": {
      "text/html": [
       "\n",
       "    <div class=\"bk-root\">\n",
       "        <a href=\"https://bokeh.org\" target=\"_blank\" class=\"bk-logo bk-logo-small bk-logo-notebook\"></a>\n",
       "        <span id=\"1002\">Loading BokehJS ...</span>\n",
       "    </div>"
      ]
     },
     "metadata": {},
     "output_type": "display_data"
    },
    {
     "data": {
      "application/javascript": [
       "\n",
       "(function(root) {\n",
       "  function now() {\n",
       "    return new Date();\n",
       "  }\n",
       "\n",
       "  var force = true;\n",
       "\n",
       "  if (typeof root._bokeh_onload_callbacks === \"undefined\" || force === true) {\n",
       "    root._bokeh_onload_callbacks = [];\n",
       "    root._bokeh_is_loading = undefined;\n",
       "  }\n",
       "\n",
       "  var JS_MIME_TYPE = 'application/javascript';\n",
       "  var HTML_MIME_TYPE = 'text/html';\n",
       "  var EXEC_MIME_TYPE = 'application/vnd.bokehjs_exec.v0+json';\n",
       "  var CLASS_NAME = 'output_bokeh rendered_html';\n",
       "\n",
       "  /**\n",
       "   * Render data to the DOM node\n",
       "   */\n",
       "  function render(props, node) {\n",
       "    var script = document.createElement(\"script\");\n",
       "    node.appendChild(script);\n",
       "  }\n",
       "\n",
       "  /**\n",
       "   * Handle when an output is cleared or removed\n",
       "   */\n",
       "  function handleClearOutput(event, handle) {\n",
       "    var cell = handle.cell;\n",
       "\n",
       "    var id = cell.output_area._bokeh_element_id;\n",
       "    var server_id = cell.output_area._bokeh_server_id;\n",
       "    // Clean up Bokeh references\n",
       "    if (id != null && id in Bokeh.index) {\n",
       "      Bokeh.index[id].model.document.clear();\n",
       "      delete Bokeh.index[id];\n",
       "    }\n",
       "\n",
       "    if (server_id !== undefined) {\n",
       "      // Clean up Bokeh references\n",
       "      var cmd = \"from bokeh.io.state import curstate; print(curstate().uuid_to_server['\" + server_id + \"'].get_sessions()[0].document.roots[0]._id)\";\n",
       "      cell.notebook.kernel.execute(cmd, {\n",
       "        iopub: {\n",
       "          output: function(msg) {\n",
       "            var id = msg.content.text.trim();\n",
       "            if (id in Bokeh.index) {\n",
       "              Bokeh.index[id].model.document.clear();\n",
       "              delete Bokeh.index[id];\n",
       "            }\n",
       "          }\n",
       "        }\n",
       "      });\n",
       "      // Destroy server and session\n",
       "      var cmd = \"import bokeh.io.notebook as ion; ion.destroy_server('\" + server_id + \"')\";\n",
       "      cell.notebook.kernel.execute(cmd);\n",
       "    }\n",
       "  }\n",
       "\n",
       "  /**\n",
       "   * Handle when a new output is added\n",
       "   */\n",
       "  function handleAddOutput(event, handle) {\n",
       "    var output_area = handle.output_area;\n",
       "    var output = handle.output;\n",
       "\n",
       "    // limit handleAddOutput to display_data with EXEC_MIME_TYPE content only\n",
       "    if ((output.output_type != \"display_data\") || (!Object.prototype.hasOwnProperty.call(output.data, EXEC_MIME_TYPE))) {\n",
       "      return\n",
       "    }\n",
       "\n",
       "    var toinsert = output_area.element.find(\".\" + CLASS_NAME.split(' ')[0]);\n",
       "\n",
       "    if (output.metadata[EXEC_MIME_TYPE][\"id\"] !== undefined) {\n",
       "      toinsert[toinsert.length - 1].firstChild.textContent = output.data[JS_MIME_TYPE];\n",
       "      // store reference to embed id on output_area\n",
       "      output_area._bokeh_element_id = output.metadata[EXEC_MIME_TYPE][\"id\"];\n",
       "    }\n",
       "    if (output.metadata[EXEC_MIME_TYPE][\"server_id\"] !== undefined) {\n",
       "      var bk_div = document.createElement(\"div\");\n",
       "      bk_div.innerHTML = output.data[HTML_MIME_TYPE];\n",
       "      var script_attrs = bk_div.children[0].attributes;\n",
       "      for (var i = 0; i < script_attrs.length; i++) {\n",
       "        toinsert[toinsert.length - 1].firstChild.setAttribute(script_attrs[i].name, script_attrs[i].value);\n",
       "        toinsert[toinsert.length - 1].firstChild.textContent = bk_div.children[0].textContent\n",
       "      }\n",
       "      // store reference to server id on output_area\n",
       "      output_area._bokeh_server_id = output.metadata[EXEC_MIME_TYPE][\"server_id\"];\n",
       "    }\n",
       "  }\n",
       "\n",
       "  function register_renderer(events, OutputArea) {\n",
       "\n",
       "    function append_mime(data, metadata, element) {\n",
       "      // create a DOM node to render to\n",
       "      var toinsert = this.create_output_subarea(\n",
       "        metadata,\n",
       "        CLASS_NAME,\n",
       "        EXEC_MIME_TYPE\n",
       "      );\n",
       "      this.keyboard_manager.register_events(toinsert);\n",
       "      // Render to node\n",
       "      var props = {data: data, metadata: metadata[EXEC_MIME_TYPE]};\n",
       "      render(props, toinsert[toinsert.length - 1]);\n",
       "      element.append(toinsert);\n",
       "      return toinsert\n",
       "    }\n",
       "\n",
       "    /* Handle when an output is cleared or removed */\n",
       "    events.on('clear_output.CodeCell', handleClearOutput);\n",
       "    events.on('delete.Cell', handleClearOutput);\n",
       "\n",
       "    /* Handle when a new output is added */\n",
       "    events.on('output_added.OutputArea', handleAddOutput);\n",
       "\n",
       "    /**\n",
       "     * Register the mime type and append_mime function with output_area\n",
       "     */\n",
       "    OutputArea.prototype.register_mime_type(EXEC_MIME_TYPE, append_mime, {\n",
       "      /* Is output safe? */\n",
       "      safe: true,\n",
       "      /* Index of renderer in `output_area.display_order` */\n",
       "      index: 0\n",
       "    });\n",
       "  }\n",
       "\n",
       "  // register the mime type if in Jupyter Notebook environment and previously unregistered\n",
       "  if (root.Jupyter !== undefined) {\n",
       "    var events = require('base/js/events');\n",
       "    var OutputArea = require('notebook/js/outputarea').OutputArea;\n",
       "\n",
       "    if (OutputArea.prototype.mime_types().indexOf(EXEC_MIME_TYPE) == -1) {\n",
       "      register_renderer(events, OutputArea);\n",
       "    }\n",
       "  }\n",
       "\n",
       "  \n",
       "  if (typeof (root._bokeh_timeout) === \"undefined\" || force === true) {\n",
       "    root._bokeh_timeout = Date.now() + 5000;\n",
       "    root._bokeh_failed_load = false;\n",
       "  }\n",
       "\n",
       "  var NB_LOAD_WARNING = {'data': {'text/html':\n",
       "     \"<div style='background-color: #fdd'>\\n\"+\n",
       "     \"<p>\\n\"+\n",
       "     \"BokehJS does not appear to have successfully loaded. If loading BokehJS from CDN, this \\n\"+\n",
       "     \"may be due to a slow or bad network connection. Possible fixes:\\n\"+\n",
       "     \"</p>\\n\"+\n",
       "     \"<ul>\\n\"+\n",
       "     \"<li>re-rerun `output_notebook()` to attempt to load from CDN again, or</li>\\n\"+\n",
       "     \"<li>use INLINE resources instead, as so:</li>\\n\"+\n",
       "     \"</ul>\\n\"+\n",
       "     \"<code>\\n\"+\n",
       "     \"from bokeh.resources import INLINE\\n\"+\n",
       "     \"output_notebook(resources=INLINE)\\n\"+\n",
       "     \"</code>\\n\"+\n",
       "     \"</div>\"}};\n",
       "\n",
       "  function display_loaded() {\n",
       "    var el = document.getElementById(\"1002\");\n",
       "    if (el != null) {\n",
       "      el.textContent = \"BokehJS is loading...\";\n",
       "    }\n",
       "    if (root.Bokeh !== undefined) {\n",
       "      if (el != null) {\n",
       "        el.textContent = \"BokehJS \" + root.Bokeh.version + \" successfully loaded.\";\n",
       "      }\n",
       "    } else if (Date.now() < root._bokeh_timeout) {\n",
       "      setTimeout(display_loaded, 100)\n",
       "    }\n",
       "  }\n",
       "\n",
       "\n",
       "  function run_callbacks() {\n",
       "    try {\n",
       "      root._bokeh_onload_callbacks.forEach(function(callback) {\n",
       "        if (callback != null)\n",
       "          callback();\n",
       "      });\n",
       "    } finally {\n",
       "      delete root._bokeh_onload_callbacks\n",
       "    }\n",
       "    console.debug(\"Bokeh: all callbacks have finished\");\n",
       "  }\n",
       "\n",
       "  function load_libs(css_urls, js_urls, callback) {\n",
       "    if (css_urls == null) css_urls = [];\n",
       "    if (js_urls == null) js_urls = [];\n",
       "\n",
       "    root._bokeh_onload_callbacks.push(callback);\n",
       "    if (root._bokeh_is_loading > 0) {\n",
       "      console.debug(\"Bokeh: BokehJS is being loaded, scheduling callback at\", now());\n",
       "      return null;\n",
       "    }\n",
       "    if (js_urls == null || js_urls.length === 0) {\n",
       "      run_callbacks();\n",
       "      return null;\n",
       "    }\n",
       "    console.debug(\"Bokeh: BokehJS not loaded, scheduling load and callback at\", now());\n",
       "    root._bokeh_is_loading = css_urls.length + js_urls.length;\n",
       "\n",
       "    function on_load() {\n",
       "      root._bokeh_is_loading--;\n",
       "      if (root._bokeh_is_loading === 0) {\n",
       "        console.debug(\"Bokeh: all BokehJS libraries/stylesheets loaded\");\n",
       "        run_callbacks()\n",
       "      }\n",
       "    }\n",
       "\n",
       "    function on_error(url) {\n",
       "      console.error(\"failed to load \" + url);\n",
       "    }\n",
       "\n",
       "    for (let i = 0; i < css_urls.length; i++) {\n",
       "      const url = css_urls[i];\n",
       "      const element = document.createElement(\"link\");\n",
       "      element.onload = on_load;\n",
       "      element.onerror = on_error.bind(null, url);\n",
       "      element.rel = \"stylesheet\";\n",
       "      element.type = \"text/css\";\n",
       "      element.href = url;\n",
       "      console.debug(\"Bokeh: injecting link tag for BokehJS stylesheet: \", url);\n",
       "      document.body.appendChild(element);\n",
       "    }\n",
       "\n",
       "    const hashes = {\"https://cdn.bokeh.org/bokeh/release/bokeh-2.3.0.min.js\": \"HjagQp6T0/7bxYTAXbLotF1MLAGWmhkY5siA1Gc/pcEgvgRPtMsRn0gQtMwGKiw1\", \"https://cdn.bokeh.org/bokeh/release/bokeh-widgets-2.3.0.min.js\": \"ZEPPTjL+mdyqgIq+/pl9KTwzji8Kow2NnI3zWY8+sFinWP/SYJ80BnfeJsa45iYj\", \"https://cdn.bokeh.org/bokeh/release/bokeh-tables-2.3.0.min.js\": \"exLqv2ACDRIaV7ZK1iL8aGzGYQvKVuT3U2CT7FsQREBxRah6JrkVCoFy0koY1YqV\"};\n",
       "\n",
       "    for (let i = 0; i < js_urls.length; i++) {\n",
       "      const url = js_urls[i];\n",
       "      const element = document.createElement('script');\n",
       "      element.onload = on_load;\n",
       "      element.onerror = on_error.bind(null, url);\n",
       "      element.async = false;\n",
       "      element.src = url;\n",
       "      if (url in hashes) {\n",
       "        element.crossOrigin = \"anonymous\";\n",
       "        element.integrity = \"sha384-\" + hashes[url];\n",
       "      }\n",
       "      console.debug(\"Bokeh: injecting script tag for BokehJS library: \", url);\n",
       "      document.head.appendChild(element);\n",
       "    }\n",
       "  };\n",
       "\n",
       "  function inject_raw_css(css) {\n",
       "    const element = document.createElement(\"style\");\n",
       "    element.appendChild(document.createTextNode(css));\n",
       "    document.body.appendChild(element);\n",
       "  }\n",
       "\n",
       "  \n",
       "  var js_urls = [\"https://cdn.bokeh.org/bokeh/release/bokeh-2.3.0.min.js\", \"https://cdn.bokeh.org/bokeh/release/bokeh-widgets-2.3.0.min.js\", \"https://cdn.bokeh.org/bokeh/release/bokeh-tables-2.3.0.min.js\"];\n",
       "  var css_urls = [];\n",
       "  \n",
       "\n",
       "  var inline_js = [\n",
       "    function(Bokeh) {\n",
       "      Bokeh.set_log_level(\"info\");\n",
       "    },\n",
       "    function(Bokeh) {\n",
       "    \n",
       "    \n",
       "    }\n",
       "  ];\n",
       "\n",
       "  function run_inline_js() {\n",
       "    \n",
       "    if (root.Bokeh !== undefined || force === true) {\n",
       "      \n",
       "    for (var i = 0; i < inline_js.length; i++) {\n",
       "      inline_js[i].call(root, root.Bokeh);\n",
       "    }\n",
       "    if (force === true) {\n",
       "        display_loaded();\n",
       "      }} else if (Date.now() < root._bokeh_timeout) {\n",
       "      setTimeout(run_inline_js, 100);\n",
       "    } else if (!root._bokeh_failed_load) {\n",
       "      console.log(\"Bokeh: BokehJS failed to load within specified timeout.\");\n",
       "      root._bokeh_failed_load = true;\n",
       "    } else if (force !== true) {\n",
       "      var cell = $(document.getElementById(\"1002\")).parents('.cell').data().cell;\n",
       "      cell.output_area.append_execute_result(NB_LOAD_WARNING)\n",
       "    }\n",
       "\n",
       "  }\n",
       "\n",
       "  if (root._bokeh_is_loading === 0) {\n",
       "    console.debug(\"Bokeh: BokehJS loaded, going straight to plotting\");\n",
       "    run_inline_js();\n",
       "  } else {\n",
       "    load_libs(css_urls, js_urls, function() {\n",
       "      console.debug(\"Bokeh: BokehJS plotting callback run at\", now());\n",
       "      run_inline_js();\n",
       "    });\n",
       "  }\n",
       "}(window));"
      ],
      "application/vnd.bokehjs_load.v0+json": "\n(function(root) {\n  function now() {\n    return new Date();\n  }\n\n  var force = true;\n\n  if (typeof root._bokeh_onload_callbacks === \"undefined\" || force === true) {\n    root._bokeh_onload_callbacks = [];\n    root._bokeh_is_loading = undefined;\n  }\n\n  \n\n  \n  if (typeof (root._bokeh_timeout) === \"undefined\" || force === true) {\n    root._bokeh_timeout = Date.now() + 5000;\n    root._bokeh_failed_load = false;\n  }\n\n  var NB_LOAD_WARNING = {'data': {'text/html':\n     \"<div style='background-color: #fdd'>\\n\"+\n     \"<p>\\n\"+\n     \"BokehJS does not appear to have successfully loaded. If loading BokehJS from CDN, this \\n\"+\n     \"may be due to a slow or bad network connection. Possible fixes:\\n\"+\n     \"</p>\\n\"+\n     \"<ul>\\n\"+\n     \"<li>re-rerun `output_notebook()` to attempt to load from CDN again, or</li>\\n\"+\n     \"<li>use INLINE resources instead, as so:</li>\\n\"+\n     \"</ul>\\n\"+\n     \"<code>\\n\"+\n     \"from bokeh.resources import INLINE\\n\"+\n     \"output_notebook(resources=INLINE)\\n\"+\n     \"</code>\\n\"+\n     \"</div>\"}};\n\n  function display_loaded() {\n    var el = document.getElementById(\"1002\");\n    if (el != null) {\n      el.textContent = \"BokehJS is loading...\";\n    }\n    if (root.Bokeh !== undefined) {\n      if (el != null) {\n        el.textContent = \"BokehJS \" + root.Bokeh.version + \" successfully loaded.\";\n      }\n    } else if (Date.now() < root._bokeh_timeout) {\n      setTimeout(display_loaded, 100)\n    }\n  }\n\n\n  function run_callbacks() {\n    try {\n      root._bokeh_onload_callbacks.forEach(function(callback) {\n        if (callback != null)\n          callback();\n      });\n    } finally {\n      delete root._bokeh_onload_callbacks\n    }\n    console.debug(\"Bokeh: all callbacks have finished\");\n  }\n\n  function load_libs(css_urls, js_urls, callback) {\n    if (css_urls == null) css_urls = [];\n    if (js_urls == null) js_urls = [];\n\n    root._bokeh_onload_callbacks.push(callback);\n    if (root._bokeh_is_loading > 0) {\n      console.debug(\"Bokeh: BokehJS is being loaded, scheduling callback at\", now());\n      return null;\n    }\n    if (js_urls == null || js_urls.length === 0) {\n      run_callbacks();\n      return null;\n    }\n    console.debug(\"Bokeh: BokehJS not loaded, scheduling load and callback at\", now());\n    root._bokeh_is_loading = css_urls.length + js_urls.length;\n\n    function on_load() {\n      root._bokeh_is_loading--;\n      if (root._bokeh_is_loading === 0) {\n        console.debug(\"Bokeh: all BokehJS libraries/stylesheets loaded\");\n        run_callbacks()\n      }\n    }\n\n    function on_error(url) {\n      console.error(\"failed to load \" + url);\n    }\n\n    for (let i = 0; i < css_urls.length; i++) {\n      const url = css_urls[i];\n      const element = document.createElement(\"link\");\n      element.onload = on_load;\n      element.onerror = on_error.bind(null, url);\n      element.rel = \"stylesheet\";\n      element.type = \"text/css\";\n      element.href = url;\n      console.debug(\"Bokeh: injecting link tag for BokehJS stylesheet: \", url);\n      document.body.appendChild(element);\n    }\n\n    const hashes = {\"https://cdn.bokeh.org/bokeh/release/bokeh-2.3.0.min.js\": \"HjagQp6T0/7bxYTAXbLotF1MLAGWmhkY5siA1Gc/pcEgvgRPtMsRn0gQtMwGKiw1\", \"https://cdn.bokeh.org/bokeh/release/bokeh-widgets-2.3.0.min.js\": \"ZEPPTjL+mdyqgIq+/pl9KTwzji8Kow2NnI3zWY8+sFinWP/SYJ80BnfeJsa45iYj\", \"https://cdn.bokeh.org/bokeh/release/bokeh-tables-2.3.0.min.js\": \"exLqv2ACDRIaV7ZK1iL8aGzGYQvKVuT3U2CT7FsQREBxRah6JrkVCoFy0koY1YqV\"};\n\n    for (let i = 0; i < js_urls.length; i++) {\n      const url = js_urls[i];\n      const element = document.createElement('script');\n      element.onload = on_load;\n      element.onerror = on_error.bind(null, url);\n      element.async = false;\n      element.src = url;\n      if (url in hashes) {\n        element.crossOrigin = \"anonymous\";\n        element.integrity = \"sha384-\" + hashes[url];\n      }\n      console.debug(\"Bokeh: injecting script tag for BokehJS library: \", url);\n      document.head.appendChild(element);\n    }\n  };\n\n  function inject_raw_css(css) {\n    const element = document.createElement(\"style\");\n    element.appendChild(document.createTextNode(css));\n    document.body.appendChild(element);\n  }\n\n  \n  var js_urls = [\"https://cdn.bokeh.org/bokeh/release/bokeh-2.3.0.min.js\", \"https://cdn.bokeh.org/bokeh/release/bokeh-widgets-2.3.0.min.js\", \"https://cdn.bokeh.org/bokeh/release/bokeh-tables-2.3.0.min.js\"];\n  var css_urls = [];\n  \n\n  var inline_js = [\n    function(Bokeh) {\n      Bokeh.set_log_level(\"info\");\n    },\n    function(Bokeh) {\n    \n    \n    }\n  ];\n\n  function run_inline_js() {\n    \n    if (root.Bokeh !== undefined || force === true) {\n      \n    for (var i = 0; i < inline_js.length; i++) {\n      inline_js[i].call(root, root.Bokeh);\n    }\n    if (force === true) {\n        display_loaded();\n      }} else if (Date.now() < root._bokeh_timeout) {\n      setTimeout(run_inline_js, 100);\n    } else if (!root._bokeh_failed_load) {\n      console.log(\"Bokeh: BokehJS failed to load within specified timeout.\");\n      root._bokeh_failed_load = true;\n    } else if (force !== true) {\n      var cell = $(document.getElementById(\"1002\")).parents('.cell').data().cell;\n      cell.output_area.append_execute_result(NB_LOAD_WARNING)\n    }\n\n  }\n\n  if (root._bokeh_is_loading === 0) {\n    console.debug(\"Bokeh: BokehJS loaded, going straight to plotting\");\n    run_inline_js();\n  } else {\n    load_libs(css_urls, js_urls, function() {\n      console.debug(\"Bokeh: BokehJS plotting callback run at\", now());\n      run_inline_js();\n    });\n  }\n}(window));"
     },
     "metadata": {},
     "output_type": "display_data"
    }
   ],
   "source": [
    "from bokeh.io import output_notebook, show, curdoc\n",
    "output_notebook()"
   ]
  },
  {
   "cell_type": "code",
   "execution_count": 6,
   "id": "straight-progress",
   "metadata": {},
   "outputs": [],
   "source": [
    "x = [1, 2, 3, 4, 5]\n",
    "y = [6, 7, 2, 4, 5]"
   ]
  },
  {
   "cell_type": "markdown",
   "id": "great-palestinian",
   "metadata": {},
   "source": [
    "## Courbe"
   ]
  },
  {
   "cell_type": "code",
   "execution_count": 16,
   "id": "surprised-korean",
   "metadata": {},
   "outputs": [
    {
     "data": {
      "text/html": [
       "\n",
       "\n",
       "\n",
       "\n",
       "\n",
       "\n",
       "  <div class=\"bk-root\" id=\"ba7aeda4-c564-42ff-a807-5641783531d5\" data-root-id=\"1690\"></div>\n"
      ]
     },
     "metadata": {},
     "output_type": "display_data"
    },
    {
     "data": {
      "application/javascript": [
       "(function(root) {\n",
       "  function embed_document(root) {\n",
       "    \n",
       "  var docs_json = {\"ccc0abf1-e317-466f-8694-f72a56daf763\":{\"defs\":[{\"extends\":null,\"module\":null,\"name\":\"DataModel\",\"overrides\":[],\"properties\":[]}],\"roots\":{\"references\":[{\"attributes\":{\"background_fill_color\":\"#20262B\",\"below\":[{\"id\":\"1701\"}],\"border_fill_color\":\"#15191C\",\"center\":[{\"id\":\"1704\"},{\"id\":\"1708\"}],\"height\":250,\"left\":[{\"id\":\"1705\"}],\"outline_line_alpha\":0.25,\"outline_line_color\":\"#E0E0E0\",\"renderers\":[{\"id\":\"1726\"}],\"title\":{\"id\":\"1691\"},\"toolbar\":{\"id\":\"1716\"},\"x_range\":{\"id\":\"1693\"},\"x_scale\":{\"id\":\"1697\"},\"y_range\":{\"id\":\"1695\"},\"y_scale\":{\"id\":\"1699\"}},\"id\":\"1690\",\"subtype\":\"Figure\",\"type\":\"Plot\"},{\"attributes\":{\"axis_label_standoff\":10,\"axis_label_text_color\":\"#E0E0E0\",\"axis_label_text_font\":\"Helvetica\",\"axis_label_text_font_size\":\"1.25em\",\"axis_label_text_font_style\":\"normal\",\"axis_line_alpha\":0,\"axis_line_color\":\"#E0E0E0\",\"formatter\":{\"id\":\"1748\"},\"major_label_policy\":{\"id\":\"1749\"},\"major_label_text_color\":\"#E0E0E0\",\"major_label_text_font\":\"Helvetica\",\"major_label_text_font_size\":\"1.025em\",\"major_tick_line_alpha\":0,\"major_tick_line_color\":\"#E0E0E0\",\"minor_tick_line_alpha\":0,\"minor_tick_line_color\":\"#E0E0E0\",\"ticker\":{\"id\":\"1702\"}},\"id\":\"1701\",\"type\":\"LinearAxis\"},{\"attributes\":{},\"id\":\"1745\",\"type\":\"BasicTickFormatter\"},{\"attributes\":{},\"id\":\"1706\",\"type\":\"BasicTicker\"},{\"attributes\":{},\"id\":\"1710\",\"type\":\"WheelZoomTool\"},{\"attributes\":{\"overlay\":{\"id\":\"1715\"}},\"id\":\"1711\",\"type\":\"BoxZoomTool\"},{\"attributes\":{},\"id\":\"1702\",\"type\":\"BasicTicker\"},{\"attributes\":{},\"id\":\"1749\",\"type\":\"AllLabels\"},{\"attributes\":{\"axis\":{\"id\":\"1701\"},\"grid_line_alpha\":0.25,\"grid_line_color\":\"#E0E0E0\",\"ticker\":null},\"id\":\"1704\",\"type\":\"Grid\"},{\"attributes\":{\"line_alpha\":0.1,\"line_color\":\"#1f77b4\",\"x\":{\"field\":\"x\"},\"y\":{\"field\":\"y\"}},\"id\":\"1725\",\"type\":\"Line\"},{\"attributes\":{\"axis\":{\"id\":\"1705\"},\"dimension\":1,\"grid_line_alpha\":0.25,\"grid_line_color\":\"#E0E0E0\",\"ticker\":null},\"id\":\"1708\",\"type\":\"Grid\"},{\"attributes\":{\"axis_label_standoff\":10,\"axis_label_text_color\":\"#E0E0E0\",\"axis_label_text_font\":\"Helvetica\",\"axis_label_text_font_size\":\"1.25em\",\"axis_label_text_font_style\":\"normal\",\"axis_line_alpha\":0,\"axis_line_color\":\"#E0E0E0\",\"formatter\":{\"id\":\"1745\"},\"major_label_policy\":{\"id\":\"1746\"},\"major_label_text_color\":\"#E0E0E0\",\"major_label_text_font\":\"Helvetica\",\"major_label_text_font_size\":\"1.025em\",\"major_tick_line_alpha\":0,\"major_tick_line_color\":\"#E0E0E0\",\"minor_tick_line_alpha\":0,\"minor_tick_line_color\":\"#E0E0E0\",\"ticker\":{\"id\":\"1706\"}},\"id\":\"1705\",\"type\":\"LinearAxis\"},{\"attributes\":{},\"id\":\"1714\",\"type\":\"HelpTool\"},{\"attributes\":{\"active_multi\":null,\"tools\":[{\"id\":\"1709\"},{\"id\":\"1710\"},{\"id\":\"1711\"},{\"id\":\"1712\"},{\"id\":\"1713\"},{\"id\":\"1714\"}]},\"id\":\"1716\",\"type\":\"Toolbar\"},{\"attributes\":{},\"id\":\"1751\",\"type\":\"Selection\"},{\"attributes\":{\"text\":\"Theme: dark minimal\",\"text_color\":\"#E0E0E0\",\"text_font\":\"Helvetica\",\"text_font_size\":\"1.15em\"},\"id\":\"1691\",\"type\":\"Title\"},{\"attributes\":{\"line_color\":\"#1f77b4\",\"x\":{\"field\":\"x\"},\"y\":{\"field\":\"y\"}},\"id\":\"1724\",\"type\":\"Line\"},{\"attributes\":{},\"id\":\"1748\",\"type\":\"BasicTickFormatter\"},{\"attributes\":{},\"id\":\"1709\",\"type\":\"PanTool\"},{\"attributes\":{},\"id\":\"1693\",\"type\":\"DataRange1d\"},{\"attributes\":{\"bottom_units\":\"screen\",\"fill_alpha\":0.5,\"fill_color\":\"lightgrey\",\"left_units\":\"screen\",\"level\":\"overlay\",\"line_alpha\":1.0,\"line_color\":\"black\",\"line_dash\":[4,4],\"line_width\":2,\"right_units\":\"screen\",\"syncable\":false,\"top_units\":\"screen\"},\"id\":\"1715\",\"type\":\"BoxAnnotation\"},{\"attributes\":{},\"id\":\"1697\",\"type\":\"LinearScale\"},{\"attributes\":{},\"id\":\"1750\",\"type\":\"UnionRenderers\"},{\"attributes\":{\"data\":{\"x\":[1,2,3,4,5],\"y\":[6,7,2,4,5]},\"selected\":{\"id\":\"1751\"},\"selection_policy\":{\"id\":\"1750\"}},\"id\":\"1723\",\"type\":\"ColumnDataSource\"},{\"attributes\":{},\"id\":\"1746\",\"type\":\"AllLabels\"},{\"attributes\":{},\"id\":\"1713\",\"type\":\"ResetTool\"},{\"attributes\":{},\"id\":\"1695\",\"type\":\"DataRange1d\"},{\"attributes\":{\"data_source\":{\"id\":\"1723\"},\"glyph\":{\"id\":\"1724\"},\"hover_glyph\":null,\"muted_glyph\":null,\"nonselection_glyph\":{\"id\":\"1725\"},\"view\":{\"id\":\"1727\"}},\"id\":\"1726\",\"type\":\"GlyphRenderer\"},{\"attributes\":{\"source\":{\"id\":\"1723\"}},\"id\":\"1727\",\"type\":\"CDSView\"},{\"attributes\":{},\"id\":\"1712\",\"type\":\"SaveTool\"},{\"attributes\":{},\"id\":\"1699\",\"type\":\"LinearScale\"}],\"root_ids\":[\"1690\"]},\"title\":\"Bokeh Application\",\"version\":\"2.3.0\"}};\n",
       "  var render_items = [{\"docid\":\"ccc0abf1-e317-466f-8694-f72a56daf763\",\"root_ids\":[\"1690\"],\"roots\":{\"1690\":\"ba7aeda4-c564-42ff-a807-5641783531d5\"}}];\n",
       "  root.Bokeh.embed.embed_items_notebook(docs_json, render_items);\n",
       "\n",
       "  }\n",
       "  if (root.Bokeh !== undefined) {\n",
       "    embed_document(root);\n",
       "  } else {\n",
       "    var attempts = 0;\n",
       "    var timer = setInterval(function(root) {\n",
       "      if (root.Bokeh !== undefined) {\n",
       "        clearInterval(timer);\n",
       "        embed_document(root);\n",
       "      } else {\n",
       "        attempts++;\n",
       "        if (attempts > 100) {\n",
       "          clearInterval(timer);\n",
       "          console.log(\"Bokeh: ERROR: Unable to run BokehJS code because BokehJS library is missing\");\n",
       "        }\n",
       "      }\n",
       "    }, 10, root)\n",
       "  }\n",
       "})(window);"
      ],
      "application/vnd.bokehjs_exec.v0+json": ""
     },
     "metadata": {
      "application/vnd.bokehjs_exec.v0+json": {
       "id": "1690"
      }
     },
     "output_type": "display_data"
    }
   ],
   "source": [
    "from bokeh.io import curdoc\n",
    "from bokeh.plotting import figure\n",
    "\n",
    "# apply theme to current document\n",
    "curdoc().theme = \"dark_minimal\"\n",
    "\n",
    "# create a plot\n",
    "p = figure(title='Theme: dark minimal', plot_height=250)\n",
    "\n",
    "# add a renderer\n",
    "p.line(x, y)\n",
    "\n",
    "# show the results\n",
    "show(p)"
   ]
  },
  {
   "cell_type": "code",
   "execution_count": 17,
   "id": "prompt-castle",
   "metadata": {},
   "outputs": [
    {
     "data": {
      "text/html": [
       "\n",
       "\n",
       "\n",
       "\n",
       "\n",
       "\n",
       "  <div class=\"bk-root\" id=\"cc02dc24-9f21-4fee-aac3-a7e6b6004078\" data-root-id=\"1690\"></div>\n"
      ]
     },
     "metadata": {},
     "output_type": "display_data"
    },
    {
     "data": {
      "application/javascript": [
       "(function(root) {\n",
       "  function embed_document(root) {\n",
       "    \n",
       "  var docs_json = {\"03735eb6-55da-4932-9ba2-ed030da9e16a\":{\"defs\":[{\"extends\":null,\"module\":null,\"name\":\"DataModel\",\"overrides\":[],\"properties\":[]}],\"roots\":{\"references\":[{\"attributes\":{\"background_fill_color\":\"#20262B\",\"below\":[{\"id\":\"1701\"}],\"border_fill_color\":\"#15191C\",\"center\":[{\"id\":\"1704\"},{\"id\":\"1708\"}],\"height\":250,\"left\":[{\"id\":\"1705\"}],\"outline_line_alpha\":0.25,\"outline_line_color\":\"#E0E0E0\",\"renderers\":[{\"id\":\"1726\"},{\"id\":\"1806\"}],\"title\":{\"id\":\"1691\"},\"toolbar\":{\"id\":\"1716\"},\"x_range\":{\"id\":\"1693\"},\"x_scale\":{\"id\":\"1697\"},\"y_range\":{\"id\":\"1695\"},\"y_scale\":{\"id\":\"1699\"}},\"id\":\"1690\",\"subtype\":\"Figure\",\"type\":\"Plot\"},{\"attributes\":{\"axis_label_standoff\":10,\"axis_label_text_color\":\"#E0E0E0\",\"axis_label_text_font\":\"Helvetica\",\"axis_label_text_font_size\":\"1.25em\",\"axis_label_text_font_style\":\"normal\",\"axis_line_alpha\":0,\"axis_line_color\":\"#E0E0E0\",\"formatter\":{\"id\":\"1748\"},\"major_label_policy\":{\"id\":\"1749\"},\"major_label_text_color\":\"#E0E0E0\",\"major_label_text_font\":\"Helvetica\",\"major_label_text_font_size\":\"1.025em\",\"major_tick_line_alpha\":0,\"major_tick_line_color\":\"#E0E0E0\",\"minor_tick_line_alpha\":0,\"minor_tick_line_color\":\"#E0E0E0\",\"ticker\":{\"id\":\"1702\"}},\"id\":\"1701\",\"type\":\"LinearAxis\"},{\"attributes\":{},\"id\":\"1745\",\"type\":\"BasicTickFormatter\"},{\"attributes\":{},\"id\":\"1706\",\"type\":\"BasicTicker\"},{\"attributes\":{},\"id\":\"1710\",\"type\":\"WheelZoomTool\"},{\"attributes\":{\"overlay\":{\"id\":\"1715\"}},\"id\":\"1711\",\"type\":\"BoxZoomTool\"},{\"attributes\":{},\"id\":\"1702\",\"type\":\"BasicTicker\"},{\"attributes\":{\"source\":{\"id\":\"1803\"}},\"id\":\"1807\",\"type\":\"CDSView\"},{\"attributes\":{},\"id\":\"1749\",\"type\":\"AllLabels\"},{\"attributes\":{\"axis\":{\"id\":\"1701\"},\"grid_line_alpha\":0.25,\"grid_line_color\":\"#E0E0E0\",\"ticker\":null},\"id\":\"1704\",\"type\":\"Grid\"},{\"attributes\":{},\"id\":\"1833\",\"type\":\"Selection\"},{\"attributes\":{\"line_alpha\":0.1,\"line_color\":\"#1f77b4\",\"x\":{\"field\":\"x\"},\"y\":{\"field\":\"y\"}},\"id\":\"1725\",\"type\":\"Line\"},{\"attributes\":{},\"id\":\"1832\",\"type\":\"UnionRenderers\"},{\"attributes\":{\"fill_alpha\":{\"value\":0.1},\"fill_color\":{\"value\":\"red\"},\"line_alpha\":{\"value\":0.1},\"line_color\":{\"value\":\"red\"},\"size\":{\"value\":20},\"x\":{\"field\":\"x\"},\"y\":{\"field\":\"y\"}},\"id\":\"1805\",\"type\":\"Circle\"},{\"attributes\":{\"data_source\":{\"id\":\"1803\"},\"glyph\":{\"id\":\"1804\"},\"hover_glyph\":null,\"muted_glyph\":null,\"nonselection_glyph\":{\"id\":\"1805\"},\"view\":{\"id\":\"1807\"}},\"id\":\"1806\",\"type\":\"GlyphRenderer\"},{\"attributes\":{\"axis\":{\"id\":\"1705\"},\"dimension\":1,\"grid_line_alpha\":0.25,\"grid_line_color\":\"#E0E0E0\",\"ticker\":null},\"id\":\"1708\",\"type\":\"Grid\"},{\"attributes\":{\"axis_label_standoff\":10,\"axis_label_text_color\":\"#E0E0E0\",\"axis_label_text_font\":\"Helvetica\",\"axis_label_text_font_size\":\"1.25em\",\"axis_label_text_font_style\":\"normal\",\"axis_line_alpha\":0,\"axis_line_color\":\"#E0E0E0\",\"formatter\":{\"id\":\"1745\"},\"major_label_policy\":{\"id\":\"1746\"},\"major_label_text_color\":\"#E0E0E0\",\"major_label_text_font\":\"Helvetica\",\"major_label_text_font_size\":\"1.025em\",\"major_tick_line_alpha\":0,\"major_tick_line_color\":\"#E0E0E0\",\"minor_tick_line_alpha\":0,\"minor_tick_line_color\":\"#E0E0E0\",\"ticker\":{\"id\":\"1706\"}},\"id\":\"1705\",\"type\":\"LinearAxis\"},{\"attributes\":{},\"id\":\"1714\",\"type\":\"HelpTool\"},{\"attributes\":{\"active_multi\":null,\"tools\":[{\"id\":\"1709\"},{\"id\":\"1710\"},{\"id\":\"1711\"},{\"id\":\"1712\"},{\"id\":\"1713\"},{\"id\":\"1714\"}]},\"id\":\"1716\",\"type\":\"Toolbar\"},{\"attributes\":{\"data\":{\"x\":[1,2,3,4,5],\"y\":[6,7,2,4,5]},\"selected\":{\"id\":\"1833\"},\"selection_policy\":{\"id\":\"1832\"}},\"id\":\"1803\",\"type\":\"ColumnDataSource\"},{\"attributes\":{},\"id\":\"1751\",\"type\":\"Selection\"},{\"attributes\":{\"text\":\"Theme: dark minimal\",\"text_color\":\"#E0E0E0\",\"text_font\":\"Helvetica\",\"text_font_size\":\"1.15em\"},\"id\":\"1691\",\"type\":\"Title\"},{\"attributes\":{\"line_color\":\"#1f77b4\",\"x\":{\"field\":\"x\"},\"y\":{\"field\":\"y\"}},\"id\":\"1724\",\"type\":\"Line\"},{\"attributes\":{},\"id\":\"1748\",\"type\":\"BasicTickFormatter\"},{\"attributes\":{},\"id\":\"1709\",\"type\":\"PanTool\"},{\"attributes\":{},\"id\":\"1693\",\"type\":\"DataRange1d\"},{\"attributes\":{\"bottom_units\":\"screen\",\"fill_alpha\":0.5,\"fill_color\":\"lightgrey\",\"left_units\":\"screen\",\"level\":\"overlay\",\"line_alpha\":1.0,\"line_color\":\"black\",\"line_dash\":[4,4],\"line_width\":2,\"right_units\":\"screen\",\"syncable\":false,\"top_units\":\"screen\"},\"id\":\"1715\",\"type\":\"BoxAnnotation\"},{\"attributes\":{\"fill_color\":{\"value\":\"red\"},\"line_color\":{\"value\":\"red\"},\"size\":{\"value\":20},\"x\":{\"field\":\"x\"},\"y\":{\"field\":\"y\"}},\"id\":\"1804\",\"type\":\"Circle\"},{\"attributes\":{},\"id\":\"1697\",\"type\":\"LinearScale\"},{\"attributes\":{},\"id\":\"1750\",\"type\":\"UnionRenderers\"},{\"attributes\":{\"data\":{\"x\":[1,2,3,4,5],\"y\":[6,7,2,4,5]},\"selected\":{\"id\":\"1751\"},\"selection_policy\":{\"id\":\"1750\"}},\"id\":\"1723\",\"type\":\"ColumnDataSource\"},{\"attributes\":{},\"id\":\"1746\",\"type\":\"AllLabels\"},{\"attributes\":{},\"id\":\"1713\",\"type\":\"ResetTool\"},{\"attributes\":{},\"id\":\"1695\",\"type\":\"DataRange1d\"},{\"attributes\":{\"data_source\":{\"id\":\"1723\"},\"glyph\":{\"id\":\"1724\"},\"hover_glyph\":null,\"muted_glyph\":null,\"nonselection_glyph\":{\"id\":\"1725\"},\"view\":{\"id\":\"1727\"}},\"id\":\"1726\",\"type\":\"GlyphRenderer\"},{\"attributes\":{\"source\":{\"id\":\"1723\"}},\"id\":\"1727\",\"type\":\"CDSView\"},{\"attributes\":{},\"id\":\"1712\",\"type\":\"SaveTool\"},{\"attributes\":{},\"id\":\"1699\",\"type\":\"LinearScale\"}],\"root_ids\":[\"1690\"]},\"title\":\"Bokeh Application\",\"version\":\"2.3.0\"}};\n",
       "  var render_items = [{\"docid\":\"03735eb6-55da-4932-9ba2-ed030da9e16a\",\"root_ids\":[\"1690\"],\"roots\":{\"1690\":\"cc02dc24-9f21-4fee-aac3-a7e6b6004078\"}}];\n",
       "  root.Bokeh.embed.embed_items_notebook(docs_json, render_items);\n",
       "\n",
       "  }\n",
       "  if (root.Bokeh !== undefined) {\n",
       "    embed_document(root);\n",
       "  } else {\n",
       "    var attempts = 0;\n",
       "    var timer = setInterval(function(root) {\n",
       "      if (root.Bokeh !== undefined) {\n",
       "        clearInterval(timer);\n",
       "        embed_document(root);\n",
       "      } else {\n",
       "        attempts++;\n",
       "        if (attempts > 100) {\n",
       "          clearInterval(timer);\n",
       "          console.log(\"Bokeh: ERROR: Unable to run BokehJS code because BokehJS library is missing\");\n",
       "        }\n",
       "      }\n",
       "    }, 10, root)\n",
       "  }\n",
       "})(window);"
      ],
      "application/vnd.bokehjs_exec.v0+json": ""
     },
     "metadata": {
      "application/vnd.bokehjs_exec.v0+json": {
       "id": "1690"
      }
     },
     "output_type": "display_data"
    }
   ],
   "source": [
    "p.circle(x, y, color='red', size=20)\n",
    "show(p)"
   ]
  },
  {
   "cell_type": "code",
   "execution_count": 23,
   "id": "danish-holly",
   "metadata": {},
   "outputs": [
    {
     "data": {
      "text/html": [
       "\n",
       "\n",
       "\n",
       "\n",
       "\n",
       "\n",
       "  <div class=\"bk-root\" id=\"f07eb9ca-b8c9-4d67-997c-2fdadbf4afd9\" data-root-id=\"1690\"></div>\n"
      ]
     },
     "metadata": {},
     "output_type": "display_data"
    },
    {
     "data": {
      "application/javascript": [
       "(function(root) {\n",
       "  function embed_document(root) {\n",
       "    \n",
       "  var docs_json = {\"5fb3c110-6f9e-44ce-ab11-6466fab9a953\":{\"defs\":[{\"extends\":null,\"module\":null,\"name\":\"DataModel\",\"overrides\":[],\"properties\":[]}],\"roots\":{\"references\":[{\"attributes\":{\"background_fill_color\":\"#20262B\",\"below\":[{\"id\":\"1701\"}],\"border_fill_color\":\"#15191C\",\"center\":[{\"id\":\"1704\"},{\"id\":\"1708\"}],\"height\":300,\"left\":[{\"id\":\"1705\"}],\"outline_line_alpha\":0.25,\"outline_line_color\":\"#E0E0E0\",\"renderers\":[{\"id\":\"1726\"},{\"id\":\"1806\"}],\"title\":{\"id\":\"1691\"},\"toolbar\":{\"id\":\"1716\"},\"width\":300,\"x_range\":{\"id\":\"1693\"},\"x_scale\":{\"id\":\"1697\"},\"y_range\":{\"id\":\"1695\"},\"y_scale\":{\"id\":\"1699\"}},\"id\":\"1690\",\"subtype\":\"Figure\",\"type\":\"Plot\"},{\"attributes\":{\"axis_label_standoff\":10,\"axis_label_text_color\":\"#E0E0E0\",\"axis_label_text_font\":\"Helvetica\",\"axis_label_text_font_size\":\"1.25em\",\"axis_label_text_font_style\":\"normal\",\"axis_line_alpha\":0,\"axis_line_color\":\"#E0E0E0\",\"formatter\":{\"id\":\"1748\"},\"major_label_policy\":{\"id\":\"1749\"},\"major_label_text_color\":\"#E0E0E0\",\"major_label_text_font\":\"Helvetica\",\"major_label_text_font_size\":\"1.025em\",\"major_tick_line_alpha\":0,\"major_tick_line_color\":\"#E0E0E0\",\"minor_tick_line_alpha\":0,\"minor_tick_line_color\":\"#E0E0E0\",\"ticker\":{\"id\":\"1702\"}},\"id\":\"1701\",\"type\":\"LinearAxis\"},{\"attributes\":{},\"id\":\"1745\",\"type\":\"BasicTickFormatter\"},{\"attributes\":{},\"id\":\"1706\",\"type\":\"BasicTicker\"},{\"attributes\":{},\"id\":\"1710\",\"type\":\"WheelZoomTool\"},{\"attributes\":{\"overlay\":{\"id\":\"1715\"}},\"id\":\"1711\",\"type\":\"BoxZoomTool\"},{\"attributes\":{},\"id\":\"1702\",\"type\":\"BasicTicker\"},{\"attributes\":{\"source\":{\"id\":\"1803\"}},\"id\":\"1807\",\"type\":\"CDSView\"},{\"attributes\":{},\"id\":\"1749\",\"type\":\"AllLabels\"},{\"attributes\":{\"axis\":{\"id\":\"1701\"},\"grid_line_alpha\":0.25,\"grid_line_color\":\"#E0E0E0\",\"ticker\":null},\"id\":\"1704\",\"type\":\"Grid\"},{\"attributes\":{},\"id\":\"1833\",\"type\":\"Selection\"},{\"attributes\":{\"line_alpha\":0.1,\"line_color\":\"#1f77b4\",\"x\":{\"field\":\"x\"},\"y\":{\"field\":\"y\"}},\"id\":\"1725\",\"type\":\"Line\"},{\"attributes\":{},\"id\":\"1832\",\"type\":\"UnionRenderers\"},{\"attributes\":{\"fill_alpha\":{\"value\":0.1},\"fill_color\":{\"value\":\"red\"},\"line_alpha\":{\"value\":0.1},\"line_color\":{\"value\":\"red\"},\"size\":{\"value\":20},\"x\":{\"field\":\"x\"},\"y\":{\"field\":\"y\"}},\"id\":\"1805\",\"type\":\"Circle\"},{\"attributes\":{\"data_source\":{\"id\":\"1803\"},\"glyph\":{\"id\":\"1804\"},\"hover_glyph\":null,\"muted_glyph\":null,\"nonselection_glyph\":{\"id\":\"1805\"},\"view\":{\"id\":\"1807\"}},\"id\":\"1806\",\"type\":\"GlyphRenderer\"},{\"attributes\":{\"axis\":{\"id\":\"1705\"},\"dimension\":1,\"grid_line_alpha\":0.25,\"grid_line_color\":\"#E0E0E0\",\"ticker\":null},\"id\":\"1708\",\"type\":\"Grid\"},{\"attributes\":{\"axis_label_standoff\":10,\"axis_label_text_color\":\"#E0E0E0\",\"axis_label_text_font\":\"Helvetica\",\"axis_label_text_font_size\":\"1.25em\",\"axis_label_text_font_style\":\"normal\",\"axis_line_alpha\":0,\"axis_line_color\":\"#E0E0E0\",\"formatter\":{\"id\":\"1745\"},\"major_label_policy\":{\"id\":\"1746\"},\"major_label_text_color\":\"#E0E0E0\",\"major_label_text_font\":\"Helvetica\",\"major_label_text_font_size\":\"1.025em\",\"major_tick_line_alpha\":0,\"major_tick_line_color\":\"#E0E0E0\",\"minor_tick_line_alpha\":0,\"minor_tick_line_color\":\"#E0E0E0\",\"ticker\":{\"id\":\"1706\"}},\"id\":\"1705\",\"type\":\"LinearAxis\"},{\"attributes\":{},\"id\":\"1714\",\"type\":\"HelpTool\"},{\"attributes\":{\"active_multi\":null,\"tools\":[{\"id\":\"1709\"},{\"id\":\"1710\"},{\"id\":\"1711\"},{\"id\":\"1712\"},{\"id\":\"1713\"},{\"id\":\"1714\"}]},\"id\":\"1716\",\"type\":\"Toolbar\"},{\"attributes\":{\"data\":{\"x\":[1,2,3,4,5],\"y\":[6,7,2,4,5]},\"selected\":{\"id\":\"1833\"},\"selection_policy\":{\"id\":\"1832\"}},\"id\":\"1803\",\"type\":\"ColumnDataSource\"},{\"attributes\":{},\"id\":\"1751\",\"type\":\"Selection\"},{\"attributes\":{\"text\":\"Theme: dark minimal\",\"text_color\":\"#E0E0E0\",\"text_font\":\"Helvetica\",\"text_font_size\":\"1.15em\"},\"id\":\"1691\",\"type\":\"Title\"},{\"attributes\":{\"line_color\":\"#1f77b4\",\"x\":{\"field\":\"x\"},\"y\":{\"field\":\"y\"}},\"id\":\"1724\",\"type\":\"Line\"},{\"attributes\":{},\"id\":\"1748\",\"type\":\"BasicTickFormatter\"},{\"attributes\":{},\"id\":\"1709\",\"type\":\"PanTool\"},{\"attributes\":{},\"id\":\"1693\",\"type\":\"DataRange1d\"},{\"attributes\":{\"bottom_units\":\"screen\",\"fill_alpha\":0.5,\"fill_color\":\"lightgrey\",\"left_units\":\"screen\",\"level\":\"overlay\",\"line_alpha\":1.0,\"line_color\":\"black\",\"line_dash\":[4,4],\"line_width\":2,\"right_units\":\"screen\",\"syncable\":false,\"top_units\":\"screen\"},\"id\":\"1715\",\"type\":\"BoxAnnotation\"},{\"attributes\":{\"fill_color\":{\"value\":\"red\"},\"line_color\":{\"value\":\"red\"},\"size\":{\"value\":20},\"x\":{\"field\":\"x\"},\"y\":{\"field\":\"y\"}},\"id\":\"1804\",\"type\":\"Circle\"},{\"attributes\":{},\"id\":\"1697\",\"type\":\"LinearScale\"},{\"attributes\":{},\"id\":\"1750\",\"type\":\"UnionRenderers\"},{\"attributes\":{\"data\":{\"x\":[1,2,3,4,5],\"y\":[6,7,2,4,5]},\"selected\":{\"id\":\"1751\"},\"selection_policy\":{\"id\":\"1750\"}},\"id\":\"1723\",\"type\":\"ColumnDataSource\"},{\"attributes\":{},\"id\":\"1746\",\"type\":\"AllLabels\"},{\"attributes\":{},\"id\":\"1713\",\"type\":\"ResetTool\"},{\"attributes\":{},\"id\":\"1695\",\"type\":\"DataRange1d\"},{\"attributes\":{\"data_source\":{\"id\":\"1723\"},\"glyph\":{\"id\":\"1724\"},\"hover_glyph\":null,\"muted_glyph\":null,\"nonselection_glyph\":{\"id\":\"1725\"},\"view\":{\"id\":\"1727\"}},\"id\":\"1726\",\"type\":\"GlyphRenderer\"},{\"attributes\":{\"source\":{\"id\":\"1723\"}},\"id\":\"1727\",\"type\":\"CDSView\"},{\"attributes\":{},\"id\":\"1712\",\"type\":\"SaveTool\"},{\"attributes\":{},\"id\":\"1699\",\"type\":\"LinearScale\"}],\"root_ids\":[\"1690\"]},\"title\":\"Bokeh Application\",\"version\":\"2.3.0\"}};\n",
       "  var render_items = [{\"docid\":\"5fb3c110-6f9e-44ce-ab11-6466fab9a953\",\"root_ids\":[\"1690\"],\"roots\":{\"1690\":\"f07eb9ca-b8c9-4d67-997c-2fdadbf4afd9\"}}];\n",
       "  root.Bokeh.embed.embed_items_notebook(docs_json, render_items);\n",
       "\n",
       "  }\n",
       "  if (root.Bokeh !== undefined) {\n",
       "    embed_document(root);\n",
       "  } else {\n",
       "    var attempts = 0;\n",
       "    var timer = setInterval(function(root) {\n",
       "      if (root.Bokeh !== undefined) {\n",
       "        clearInterval(timer);\n",
       "        embed_document(root);\n",
       "      } else {\n",
       "        attempts++;\n",
       "        if (attempts > 100) {\n",
       "          clearInterval(timer);\n",
       "          console.log(\"Bokeh: ERROR: Unable to run BokehJS code because BokehJS library is missing\");\n",
       "        }\n",
       "      }\n",
       "    }, 10, root)\n",
       "  }\n",
       "})(window);"
      ],
      "application/vnd.bokehjs_exec.v0+json": ""
     },
     "metadata": {
      "application/vnd.bokehjs_exec.v0+json": {
       "id": "1690"
      }
     },
     "output_type": "display_data"
    }
   ],
   "source": [
    "# chage plot size\n",
    "p.plot_width = 300\n",
    "p.plot_height = 300\n",
    "show(p)"
   ]
  },
  {
   "cell_type": "code",
   "execution_count": 30,
   "id": "russian-database",
   "metadata": {},
   "outputs": [
    {
     "data": {
      "text/html": [
       "\n",
       "\n",
       "\n",
       "\n",
       "\n",
       "\n",
       "  <div class=\"bk-root\" id=\"7e531762-29a8-4e00-a780-a2411ec6912f\" data-root-id=\"2395\"></div>\n"
      ]
     },
     "metadata": {},
     "output_type": "display_data"
    },
    {
     "data": {
      "application/javascript": [
       "(function(root) {\n",
       "  function embed_document(root) {\n",
       "    \n",
       "  var docs_json = {\"977e1c04-d058-4cd9-85d0-72f50c0f3e96\":{\"defs\":[{\"extends\":null,\"module\":null,\"name\":\"DataModel\",\"overrides\":[],\"properties\":[]}],\"roots\":{\"references\":[{\"attributes\":{\"background_fill_color\":\"#20262B\",\"below\":[{\"id\":\"2406\"}],\"border_fill_color\":\"#15191C\",\"center\":[{\"id\":\"2409\"},{\"id\":\"2413\"}],\"height\":250,\"left\":[{\"id\":\"2410\"}],\"outline_line_alpha\":0.25,\"outline_line_color\":\"#E0E0E0\",\"renderers\":[{\"id\":\"2431\"},{\"id\":\"2436\"}],\"title\":{\"id\":\"2396\"},\"toolbar\":{\"id\":\"2421\"},\"x_range\":{\"id\":\"2398\"},\"x_scale\":{\"id\":\"2402\"},\"y_range\":{\"id\":\"2400\"},\"y_scale\":{\"id\":\"2404\"}},\"id\":\"2395\",\"subtype\":\"Figure\",\"type\":\"Plot\"},{\"attributes\":{},\"id\":\"2494\",\"type\":\"UnionRenderers\"},{\"attributes\":{\"end\":8},\"id\":\"2400\",\"type\":\"Range1d\"},{\"attributes\":{\"line_color\":\"#1f77b4\",\"x\":{\"field\":\"x\"},\"y\":{\"field\":\"y\"}},\"id\":\"2429\",\"type\":\"Line\"},{\"attributes\":{},\"id\":\"2495\",\"type\":\"Selection\"},{\"attributes\":{},\"id\":\"2411\",\"type\":\"BasicTicker\"},{\"attributes\":{\"end\":6},\"id\":\"2398\",\"type\":\"Range1d\"},{\"attributes\":{},\"id\":\"2492\",\"type\":\"UnionRenderers\"},{\"attributes\":{\"text\":\"Theme: dark minimal\",\"text_color\":\"#E0E0E0\",\"text_font\":\"Helvetica\",\"text_font_size\":\"1.15em\"},\"id\":\"2396\",\"type\":\"Title\"},{\"attributes\":{\"axis\":{\"id\":\"2410\"},\"dimension\":1,\"grid_line_alpha\":0.25,\"grid_line_color\":\"#E0E0E0\",\"ticker\":null},\"id\":\"2413\",\"type\":\"Grid\"},{\"attributes\":{\"axis_label_standoff\":10,\"axis_label_text_color\":\"#E0E0E0\",\"axis_label_text_font\":\"Helvetica\",\"axis_label_text_font_size\":\"1.25em\",\"axis_label_text_font_style\":\"normal\",\"axis_line_alpha\":0,\"axis_line_color\":\"#E0E0E0\",\"formatter\":{\"id\":\"2487\"},\"major_label_policy\":{\"id\":\"2488\"},\"major_label_text_color\":\"#E0E0E0\",\"major_label_text_font\":\"Helvetica\",\"major_label_text_font_size\":\"1.025em\",\"major_tick_line_alpha\":0,\"major_tick_line_color\":\"#E0E0E0\",\"minor_tick_line_alpha\":0,\"minor_tick_line_color\":\"#E0E0E0\",\"ticker\":{\"id\":\"2411\"}},\"id\":\"2410\",\"type\":\"LinearAxis\"},{\"attributes\":{},\"id\":\"2491\",\"type\":\"AllLabels\"},{\"attributes\":{\"data_source\":{\"id\":\"2428\"},\"glyph\":{\"id\":\"2429\"},\"hover_glyph\":null,\"muted_glyph\":null,\"nonselection_glyph\":{\"id\":\"2430\"},\"view\":{\"id\":\"2432\"}},\"id\":\"2431\",\"type\":\"GlyphRenderer\"},{\"attributes\":{},\"id\":\"2493\",\"type\":\"Selection\"},{\"attributes\":{},\"id\":\"2490\",\"type\":\"BasicTickFormatter\"},{\"attributes\":{},\"id\":\"2488\",\"type\":\"AllLabels\"},{\"attributes\":{\"fill_color\":{\"value\":\"red\"},\"line_color\":{\"value\":\"red\"},\"size\":{\"value\":20},\"x\":{\"field\":\"x\"},\"y\":{\"field\":\"y\"}},\"id\":\"2434\",\"type\":\"Circle\"},{\"attributes\":{},\"id\":\"2487\",\"type\":\"BasicTickFormatter\"},{\"attributes\":{\"source\":{\"id\":\"2433\"}},\"id\":\"2437\",\"type\":\"CDSView\"},{\"attributes\":{},\"id\":\"2402\",\"type\":\"LinearScale\"},{\"attributes\":{\"axis\":{\"id\":\"2406\"},\"grid_line_alpha\":0.25,\"grid_line_color\":\"#E0E0E0\",\"ticker\":null},\"id\":\"2409\",\"type\":\"Grid\"},{\"attributes\":{\"data\":{\"x\":[1,2,3,4,5],\"y\":[6,7,2,4,5]},\"selected\":{\"id\":\"2493\"},\"selection_policy\":{\"id\":\"2492\"}},\"id\":\"2428\",\"type\":\"ColumnDataSource\"},{\"attributes\":{\"bottom_units\":\"screen\",\"fill_alpha\":0.5,\"fill_color\":\"lightgrey\",\"left_units\":\"screen\",\"level\":\"overlay\",\"line_alpha\":1.0,\"line_color\":\"black\",\"line_dash\":[4,4],\"line_width\":2,\"right_units\":\"screen\",\"syncable\":false,\"top_units\":\"screen\"},\"id\":\"2420\",\"type\":\"BoxAnnotation\"},{\"attributes\":{\"active_multi\":null,\"tools\":[{\"id\":\"2414\"},{\"id\":\"2415\"},{\"id\":\"2416\"},{\"id\":\"2417\"},{\"id\":\"2418\"},{\"id\":\"2419\"}]},\"id\":\"2421\",\"type\":\"Toolbar\"},{\"attributes\":{},\"id\":\"2414\",\"type\":\"PanTool\"},{\"attributes\":{},\"id\":\"2404\",\"type\":\"LinearScale\"},{\"attributes\":{\"source\":{\"id\":\"2428\"}},\"id\":\"2432\",\"type\":\"CDSView\"},{\"attributes\":{},\"id\":\"2415\",\"type\":\"WheelZoomTool\"},{\"attributes\":{\"line_alpha\":0.1,\"line_color\":\"#1f77b4\",\"x\":{\"field\":\"x\"},\"y\":{\"field\":\"y\"}},\"id\":\"2430\",\"type\":\"Line\"},{\"attributes\":{\"overlay\":{\"id\":\"2420\"}},\"id\":\"2416\",\"type\":\"BoxZoomTool\"},{\"attributes\":{\"data\":{\"x\":[1,2,3,4,5],\"y\":[6,7,2,4,5]},\"selected\":{\"id\":\"2495\"},\"selection_policy\":{\"id\":\"2494\"}},\"id\":\"2433\",\"type\":\"ColumnDataSource\"},{\"attributes\":{},\"id\":\"2407\",\"type\":\"BasicTicker\"},{\"attributes\":{},\"id\":\"2417\",\"type\":\"SaveTool\"},{\"attributes\":{\"fill_alpha\":{\"value\":0.1},\"fill_color\":{\"value\":\"red\"},\"line_alpha\":{\"value\":0.1},\"line_color\":{\"value\":\"red\"},\"size\":{\"value\":20},\"x\":{\"field\":\"x\"},\"y\":{\"field\":\"y\"}},\"id\":\"2435\",\"type\":\"Circle\"},{\"attributes\":{},\"id\":\"2418\",\"type\":\"ResetTool\"},{\"attributes\":{\"data_source\":{\"id\":\"2433\"},\"glyph\":{\"id\":\"2434\"},\"hover_glyph\":null,\"muted_glyph\":null,\"nonselection_glyph\":{\"id\":\"2435\"},\"view\":{\"id\":\"2437\"}},\"id\":\"2436\",\"type\":\"GlyphRenderer\"},{\"attributes\":{\"axis_label_standoff\":10,\"axis_label_text_color\":\"#E0E0E0\",\"axis_label_text_font\":\"Helvetica\",\"axis_label_text_font_size\":\"1.25em\",\"axis_label_text_font_style\":\"normal\",\"axis_line_alpha\":0,\"axis_line_color\":\"#E0E0E0\",\"formatter\":{\"id\":\"2490\"},\"major_label_policy\":{\"id\":\"2491\"},\"major_label_text_color\":\"#E0E0E0\",\"major_label_text_font\":\"Helvetica\",\"major_label_text_font_size\":\"1.025em\",\"major_tick_line_alpha\":0,\"major_tick_line_color\":\"#E0E0E0\",\"minor_tick_line_alpha\":0,\"minor_tick_line_color\":\"#E0E0E0\",\"ticker\":{\"id\":\"2407\"}},\"id\":\"2406\",\"type\":\"LinearAxis\"},{\"attributes\":{},\"id\":\"2419\",\"type\":\"HelpTool\"}],\"root_ids\":[\"2395\"]},\"title\":\"Bokeh Application\",\"version\":\"2.3.0\"}};\n",
       "  var render_items = [{\"docid\":\"977e1c04-d058-4cd9-85d0-72f50c0f3e96\",\"root_ids\":[\"2395\"],\"roots\":{\"2395\":\"7e531762-29a8-4e00-a780-a2411ec6912f\"}}];\n",
       "  root.Bokeh.embed.embed_items_notebook(docs_json, render_items);\n",
       "\n",
       "  }\n",
       "  if (root.Bokeh !== undefined) {\n",
       "    embed_document(root);\n",
       "  } else {\n",
       "    var attempts = 0;\n",
       "    var timer = setInterval(function(root) {\n",
       "      if (root.Bokeh !== undefined) {\n",
       "        clearInterval(timer);\n",
       "        embed_document(root);\n",
       "      } else {\n",
       "        attempts++;\n",
       "        if (attempts > 100) {\n",
       "          clearInterval(timer);\n",
       "          console.log(\"Bokeh: ERROR: Unable to run BokehJS code because BokehJS library is missing\");\n",
       "        }\n",
       "      }\n",
       "    }, 10, root)\n",
       "  }\n",
       "})(window);"
      ],
      "application/vnd.bokehjs_exec.v0+json": ""
     },
     "metadata": {
      "application/vnd.bokehjs_exec.v0+json": {
       "id": "2395"
      }
     },
     "output_type": "display_data"
    }
   ],
   "source": [
    "# create a plot\n",
    "p = figure(title='Theme: dark minimal', \n",
    "           y_range=(0, 8),\n",
    "           x_range=(0, 6),\n",
    "           plot_height=250)\n",
    "\n",
    "p.line(x, y)\n",
    "p.circle(x, y, color='red', size=20)\n",
    "show(p)"
   ]
  },
  {
   "cell_type": "code",
   "execution_count": 31,
   "id": "funny-stake",
   "metadata": {},
   "outputs": [
    {
     "data": {
      "text/html": [
       "<div style=\"display: table;\"><div style=\"display: table-row;\"><div style=\"display: table-cell;\"><b title=\"bokeh.models.ranges.Range1d\">Range1d</b>(</div><div style=\"display: table-cell;\">id&nbsp;=&nbsp;'2400', <span id=\"2558\" style=\"cursor: pointer;\">&hellip;)</span></div></div><div class=\"2557\" style=\"display: none;\"><div style=\"display: table-cell;\"></div><div style=\"display: table-cell;\">bounds&nbsp;=&nbsp;None,</div></div><div class=\"2557\" style=\"display: none;\"><div style=\"display: table-cell;\"></div><div style=\"display: table-cell;\">end&nbsp;=&nbsp;8,</div></div><div class=\"2557\" style=\"display: none;\"><div style=\"display: table-cell;\"></div><div style=\"display: table-cell;\">js_event_callbacks&nbsp;=&nbsp;{},</div></div><div class=\"2557\" style=\"display: none;\"><div style=\"display: table-cell;\"></div><div style=\"display: table-cell;\">js_property_callbacks&nbsp;=&nbsp;{},</div></div><div class=\"2557\" style=\"display: none;\"><div style=\"display: table-cell;\"></div><div style=\"display: table-cell;\">max_interval&nbsp;=&nbsp;None,</div></div><div class=\"2557\" style=\"display: none;\"><div style=\"display: table-cell;\"></div><div style=\"display: table-cell;\">min_interval&nbsp;=&nbsp;None,</div></div><div class=\"2557\" style=\"display: none;\"><div style=\"display: table-cell;\"></div><div style=\"display: table-cell;\">name&nbsp;=&nbsp;None,</div></div><div class=\"2557\" style=\"display: none;\"><div style=\"display: table-cell;\"></div><div style=\"display: table-cell;\">reset_end&nbsp;=&nbsp;None,</div></div><div class=\"2557\" style=\"display: none;\"><div style=\"display: table-cell;\"></div><div style=\"display: table-cell;\">reset_start&nbsp;=&nbsp;None,</div></div><div class=\"2557\" style=\"display: none;\"><div style=\"display: table-cell;\"></div><div style=\"display: table-cell;\">start&nbsp;=&nbsp;0,</div></div><div class=\"2557\" style=\"display: none;\"><div style=\"display: table-cell;\"></div><div style=\"display: table-cell;\">subscribed_events&nbsp;=&nbsp;[],</div></div><div class=\"2557\" style=\"display: none;\"><div style=\"display: table-cell;\"></div><div style=\"display: table-cell;\">syncable&nbsp;=&nbsp;True,</div></div><div class=\"2557\" style=\"display: none;\"><div style=\"display: table-cell;\"></div><div style=\"display: table-cell;\">tags&nbsp;=&nbsp;[])</div></div></div>\n",
       "<script>\n",
       "(function() {\n",
       "  var expanded = false;\n",
       "  var ellipsis = document.getElementById(\"2558\");\n",
       "  ellipsis.addEventListener(\"click\", function() {\n",
       "    var rows = document.getElementsByClassName(\"2557\");\n",
       "    for (var i = 0; i < rows.length; i++) {\n",
       "      var el = rows[i];\n",
       "      el.style.display = expanded ? \"none\" : \"table-row\";\n",
       "    }\n",
       "    ellipsis.innerHTML = expanded ? \"&hellip;)\" : \"&lsaquo;&lsaquo;&lsaquo;\";\n",
       "    expanded = !expanded;\n",
       "  });\n",
       "})();\n",
       "</script>\n"
      ],
      "text/plain": [
       "Range1d(id='2400', ...)"
      ]
     },
     "execution_count": 31,
     "metadata": {},
     "output_type": "execute_result"
    }
   ],
   "source": [
    "p.y_range"
   ]
  },
  {
   "cell_type": "code",
   "execution_count": 32,
   "id": "planned-producer",
   "metadata": {},
   "outputs": [
    {
     "data": {
      "text/html": [
       "<div style=\"display: table;\"><div style=\"display: table-row;\"><div style=\"display: table-cell;\"><b title=\"bokeh.models.ranges.Range1d\">Range1d</b>(</div><div style=\"display: table-cell;\">id&nbsp;=&nbsp;'2398', <span id=\"2560\" style=\"cursor: pointer;\">&hellip;)</span></div></div><div class=\"2559\" style=\"display: none;\"><div style=\"display: table-cell;\"></div><div style=\"display: table-cell;\">bounds&nbsp;=&nbsp;None,</div></div><div class=\"2559\" style=\"display: none;\"><div style=\"display: table-cell;\"></div><div style=\"display: table-cell;\">end&nbsp;=&nbsp;6,</div></div><div class=\"2559\" style=\"display: none;\"><div style=\"display: table-cell;\"></div><div style=\"display: table-cell;\">js_event_callbacks&nbsp;=&nbsp;{},</div></div><div class=\"2559\" style=\"display: none;\"><div style=\"display: table-cell;\"></div><div style=\"display: table-cell;\">js_property_callbacks&nbsp;=&nbsp;{},</div></div><div class=\"2559\" style=\"display: none;\"><div style=\"display: table-cell;\"></div><div style=\"display: table-cell;\">max_interval&nbsp;=&nbsp;None,</div></div><div class=\"2559\" style=\"display: none;\"><div style=\"display: table-cell;\"></div><div style=\"display: table-cell;\">min_interval&nbsp;=&nbsp;None,</div></div><div class=\"2559\" style=\"display: none;\"><div style=\"display: table-cell;\"></div><div style=\"display: table-cell;\">name&nbsp;=&nbsp;None,</div></div><div class=\"2559\" style=\"display: none;\"><div style=\"display: table-cell;\"></div><div style=\"display: table-cell;\">reset_end&nbsp;=&nbsp;None,</div></div><div class=\"2559\" style=\"display: none;\"><div style=\"display: table-cell;\"></div><div style=\"display: table-cell;\">reset_start&nbsp;=&nbsp;None,</div></div><div class=\"2559\" style=\"display: none;\"><div style=\"display: table-cell;\"></div><div style=\"display: table-cell;\">start&nbsp;=&nbsp;0,</div></div><div class=\"2559\" style=\"display: none;\"><div style=\"display: table-cell;\"></div><div style=\"display: table-cell;\">subscribed_events&nbsp;=&nbsp;[],</div></div><div class=\"2559\" style=\"display: none;\"><div style=\"display: table-cell;\"></div><div style=\"display: table-cell;\">syncable&nbsp;=&nbsp;True,</div></div><div class=\"2559\" style=\"display: none;\"><div style=\"display: table-cell;\"></div><div style=\"display: table-cell;\">tags&nbsp;=&nbsp;[])</div></div></div>\n",
       "<script>\n",
       "(function() {\n",
       "  var expanded = false;\n",
       "  var ellipsis = document.getElementById(\"2560\");\n",
       "  ellipsis.addEventListener(\"click\", function() {\n",
       "    var rows = document.getElementsByClassName(\"2559\");\n",
       "    for (var i = 0; i < rows.length; i++) {\n",
       "      var el = rows[i];\n",
       "      el.style.display = expanded ? \"none\" : \"table-row\";\n",
       "    }\n",
       "    ellipsis.innerHTML = expanded ? \"&hellip;)\" : \"&lsaquo;&lsaquo;&lsaquo;\";\n",
       "    expanded = !expanded;\n",
       "  });\n",
       "})();\n",
       "</script>\n"
      ],
      "text/plain": [
       "Range1d(id='2398', ...)"
      ]
     },
     "execution_count": 32,
     "metadata": {},
     "output_type": "execute_result"
    }
   ],
   "source": [
    "p.x_range"
   ]
  },
  {
   "cell_type": "markdown",
   "id": "horizontal-blink",
   "metadata": {},
   "source": [
    "## Axes logarithmique"
   ]
  },
  {
   "cell_type": "code",
   "execution_count": 41,
   "id": "immediate-standing",
   "metadata": {},
   "outputs": [
    {
     "data": {
      "text/html": [
       "\n",
       "\n",
       "\n",
       "\n",
       "\n",
       "\n",
       "  <div class=\"bk-root\" id=\"63617e35-3d93-40df-acc3-50e1f5a26ff9\" data-root-id=\"3713\"></div>\n"
      ]
     },
     "metadata": {},
     "output_type": "display_data"
    },
    {
     "data": {
      "application/javascript": [
       "(function(root) {\n",
       "  function embed_document(root) {\n",
       "    \n",
       "  var docs_json = {\"b2371fbb-7659-489d-a147-63b9909ba508\":{\"defs\":[{\"extends\":null,\"module\":null,\"name\":\"DataModel\",\"overrides\":[],\"properties\":[]}],\"roots\":{\"references\":[{\"attributes\":{\"background_fill_color\":\"#20262B\",\"below\":[{\"id\":\"3724\"}],\"border_fill_color\":\"#15191C\",\"center\":[{\"id\":\"3727\"},{\"id\":\"3731\"},{\"id\":\"3761\"}],\"height\":300,\"left\":[{\"id\":\"3728\"}],\"outline_line_alpha\":0.25,\"outline_line_color\":\"#E0E0E0\",\"renderers\":[{\"id\":\"3749\"},{\"id\":\"3766\"},{\"id\":\"3783\"},{\"id\":\"3803\"}],\"title\":{\"id\":\"3714\"},\"toolbar\":{\"id\":\"3739\"},\"x_range\":{\"id\":\"3716\"},\"x_scale\":{\"id\":\"3720\"},\"y_range\":{\"id\":\"3718\"},\"y_scale\":{\"id\":\"3722\"}},\"id\":\"3713\",\"subtype\":\"Figure\",\"type\":\"Plot\"},{\"attributes\":{\"data\":{\"x\":[0.1,0.5,1.0,1.5,2.0,2.5,3.0],\"y\":[0.1,0.5,1.0,1.5,2.0,2.5,3.0]},\"selected\":{\"id\":\"3778\"},\"selection_policy\":{\"id\":\"3777\"}},\"id\":\"3763\",\"type\":\"ColumnDataSource\"},{\"attributes\":{},\"id\":\"3720\",\"type\":\"LinearScale\"},{\"attributes\":{\"label\":{\"value\":\"y=10^x\"},\"renderers\":[{\"id\":\"3803\"}]},\"id\":\"3821\",\"type\":\"LegendItem\"},{\"attributes\":{\"line_alpha\":0.1,\"line_color\":\"#1f77b4\",\"x\":{\"field\":\"x\"},\"y\":{\"field\":\"y\"}},\"id\":\"3748\",\"type\":\"Line\"},{\"attributes\":{\"ticker\":null},\"id\":\"3753\",\"type\":\"LogTickFormatter\"},{\"attributes\":{\"source\":{\"id\":\"3800\"}},\"id\":\"3804\",\"type\":\"CDSView\"},{\"attributes\":{},\"id\":\"3716\",\"type\":\"DataRange1d\"},{\"attributes\":{\"line_color\":\"#1f77b4\",\"x\":{\"field\":\"x\"},\"y\":{\"field\":\"y\"}},\"id\":\"3747\",\"type\":\"Line\"},{\"attributes\":{\"line_color\":\"#1f77b4\",\"line_width\":3,\"x\":{\"field\":\"x\"},\"y\":{\"field\":\"y\"}},\"id\":\"3781\",\"type\":\"Line\"},{\"attributes\":{},\"id\":\"3732\",\"type\":\"PanTool\"},{\"attributes\":{\"text\":\"Logarithmic axis\",\"text_color\":\"#E0E0E0\",\"text_font\":\"Helvetica\",\"text_font_size\":\"1.15em\"},\"id\":\"3714\",\"type\":\"Title\"},{\"attributes\":{\"line_alpha\":0.1,\"line_color\":\"#1f77b4\",\"line_width\":3,\"x\":{\"field\":\"x\"},\"y\":{\"field\":\"y\"}},\"id\":\"3782\",\"type\":\"Line\"},{\"attributes\":{},\"id\":\"3733\",\"type\":\"WheelZoomTool\"},{\"attributes\":{},\"id\":\"3797\",\"type\":\"Selection\"},{\"attributes\":{},\"id\":\"3758\",\"type\":\"UnionRenderers\"},{\"attributes\":{\"data_source\":{\"id\":\"3746\"},\"glyph\":{\"id\":\"3747\"},\"hover_glyph\":null,\"muted_glyph\":null,\"nonselection_glyph\":{\"id\":\"3748\"},\"view\":{\"id\":\"3750\"}},\"id\":\"3749\",\"type\":\"GlyphRenderer\"},{\"attributes\":{\"active_multi\":null,\"tools\":[{\"id\":\"3732\"},{\"id\":\"3733\"},{\"id\":\"3734\"},{\"id\":\"3735\"},{\"id\":\"3736\"},{\"id\":\"3737\"}]},\"id\":\"3739\",\"type\":\"Toolbar\"},{\"attributes\":{\"overlay\":{\"id\":\"3738\"}},\"id\":\"3734\",\"type\":\"BoxZoomTool\"},{\"attributes\":{},\"id\":\"3756\",\"type\":\"BasicTickFormatter\"},{\"attributes\":{},\"id\":\"3735\",\"type\":\"SaveTool\"},{\"attributes\":{\"data_source\":{\"id\":\"3800\"},\"glyph\":{\"id\":\"3801\"},\"hover_glyph\":null,\"muted_glyph\":null,\"nonselection_glyph\":{\"id\":\"3802\"},\"view\":{\"id\":\"3804\"}},\"id\":\"3803\",\"type\":\"GlyphRenderer\"},{\"attributes\":{\"label\":{\"value\":\"y=x^2\"},\"renderers\":[{\"id\":\"3783\"}]},\"id\":\"3799\",\"type\":\"LegendItem\"},{\"attributes\":{\"data\":{\"x\":[0.1,0.5,1.0,1.5,2.0,2.5,3.0],\"y\":[1.2589254117941673,3.1622776601683795,10.0,31.622776601683793,100.0,316.22776601683796,1000.0]},\"selected\":{\"id\":\"3819\"},\"selection_policy\":{\"id\":\"3818\"}},\"id\":\"3800\",\"type\":\"ColumnDataSource\"},{\"attributes\":{},\"id\":\"3754\",\"type\":\"AllLabels\"},{\"attributes\":{},\"id\":\"3736\",\"type\":\"ResetTool\"},{\"attributes\":{\"data\":{\"x\":[0.1,0.5,1.0,1.5,2.0,2.5,3.0],\"y\":[0.1,0.5,1.0,1.5,2.0,2.5,3.0]},\"selected\":{\"id\":\"3759\"},\"selection_policy\":{\"id\":\"3758\"}},\"id\":\"3746\",\"type\":\"ColumnDataSource\"},{\"attributes\":{\"data\":{\"x\":[0.1,0.5,1.0,1.5,2.0,2.5,3.0],\"y\":[0.010000000000000002,0.25,1.0,2.25,4.0,6.25,9.0]},\"selected\":{\"id\":\"3797\"},\"selection_policy\":{\"id\":\"3796\"}},\"id\":\"3780\",\"type\":\"ColumnDataSource\"},{\"attributes\":{},\"id\":\"3718\",\"type\":\"DataRange1d\"},{\"attributes\":{},\"id\":\"3757\",\"type\":\"AllLabels\"},{\"attributes\":{},\"id\":\"3759\",\"type\":\"Selection\"},{\"attributes\":{},\"id\":\"3818\",\"type\":\"UnionRenderers\"},{\"attributes\":{},\"id\":\"3722\",\"type\":\"LogScale\"},{\"attributes\":{\"source\":{\"id\":\"3746\"}},\"id\":\"3750\",\"type\":\"CDSView\"},{\"attributes\":{},\"id\":\"3819\",\"type\":\"Selection\"},{\"attributes\":{\"data_source\":{\"id\":\"3763\"},\"glyph\":{\"id\":\"3764\"},\"hover_glyph\":null,\"muted_glyph\":null,\"nonselection_glyph\":{\"id\":\"3765\"},\"view\":{\"id\":\"3767\"}},\"id\":\"3766\",\"type\":\"GlyphRenderer\"},{\"attributes\":{\"bottom_units\":\"screen\",\"fill_alpha\":0.5,\"fill_color\":\"lightgrey\",\"left_units\":\"screen\",\"level\":\"overlay\",\"line_alpha\":1.0,\"line_color\":\"black\",\"line_dash\":[4,4],\"line_width\":2,\"right_units\":\"screen\",\"syncable\":false,\"top_units\":\"screen\"},\"id\":\"3738\",\"type\":\"BoxAnnotation\"},{\"attributes\":{\"axis_label_standoff\":10,\"axis_label_text_color\":\"#E0E0E0\",\"axis_label_text_font\":\"Helvetica\",\"axis_label_text_font_size\":\"1.25em\",\"axis_label_text_font_style\":\"normal\",\"axis_line_alpha\":0,\"axis_line_color\":\"#E0E0E0\",\"formatter\":{\"id\":\"3756\"},\"major_label_policy\":{\"id\":\"3757\"},\"major_label_text_color\":\"#E0E0E0\",\"major_label_text_font\":\"Helvetica\",\"major_label_text_font_size\":\"1.025em\",\"major_tick_line_alpha\":0,\"major_tick_line_color\":\"#E0E0E0\",\"minor_tick_line_alpha\":0,\"minor_tick_line_color\":\"#E0E0E0\",\"ticker\":{\"id\":\"3725\"}},\"id\":\"3724\",\"type\":\"LinearAxis\"},{\"attributes\":{\"line_color\":\"red\",\"x\":{\"field\":\"x\"},\"y\":{\"field\":\"y\"}},\"id\":\"3801\",\"type\":\"Line\"},{\"attributes\":{},\"id\":\"3777\",\"type\":\"UnionRenderers\"},{\"attributes\":{\"background_fill_alpha\":0.25,\"background_fill_color\":\"#20262B\",\"border_line_alpha\":0,\"glyph_width\":15,\"items\":[{\"id\":\"3762\"},{\"id\":\"3799\"},{\"id\":\"3821\"}],\"label_standoff\":8,\"label_text_color\":\"#E0E0E0\",\"label_text_font\":\"Helvetica\",\"label_text_font_size\":\"1.025em\",\"spacing\":8},\"id\":\"3761\",\"type\":\"Legend\"},{\"attributes\":{\"num_minor_ticks\":10},\"id\":\"3729\",\"type\":\"LogTicker\"},{\"attributes\":{},\"id\":\"3778\",\"type\":\"Selection\"},{\"attributes\":{},\"id\":\"3796\",\"type\":\"UnionRenderers\"},{\"attributes\":{\"label\":{\"value\":\"y=x\"},\"renderers\":[{\"id\":\"3749\"},{\"id\":\"3766\"}]},\"id\":\"3762\",\"type\":\"LegendItem\"},{\"attributes\":{},\"id\":\"3725\",\"type\":\"BasicTicker\"},{\"attributes\":{\"axis\":{\"id\":\"3724\"},\"grid_line_alpha\":0.25,\"grid_line_color\":\"#E0E0E0\",\"ticker\":null},\"id\":\"3727\",\"type\":\"Grid\"},{\"attributes\":{\"data_source\":{\"id\":\"3780\"},\"glyph\":{\"id\":\"3781\"},\"hover_glyph\":null,\"muted_glyph\":null,\"nonselection_glyph\":{\"id\":\"3782\"},\"view\":{\"id\":\"3784\"}},\"id\":\"3783\",\"type\":\"GlyphRenderer\"},{\"attributes\":{\"axis\":{\"id\":\"3728\"},\"dimension\":1,\"grid_line_alpha\":0.25,\"grid_line_color\":\"#E0E0E0\",\"ticker\":null},\"id\":\"3731\",\"type\":\"Grid\"},{\"attributes\":{\"line_alpha\":0.1,\"line_color\":\"red\",\"x\":{\"field\":\"x\"},\"y\":{\"field\":\"y\"}},\"id\":\"3802\",\"type\":\"Line\"},{\"attributes\":{\"axis_label_standoff\":10,\"axis_label_text_color\":\"#E0E0E0\",\"axis_label_text_font\":\"Helvetica\",\"axis_label_text_font_size\":\"1.25em\",\"axis_label_text_font_style\":\"normal\",\"axis_line_alpha\":0,\"axis_line_color\":\"#E0E0E0\",\"formatter\":{\"id\":\"3753\"},\"major_label_policy\":{\"id\":\"3754\"},\"major_label_text_color\":\"#E0E0E0\",\"major_label_text_font\":\"Helvetica\",\"major_label_text_font_size\":\"1.025em\",\"major_tick_line_alpha\":0,\"major_tick_line_color\":\"#E0E0E0\",\"minor_tick_line_alpha\":0,\"minor_tick_line_color\":\"#E0E0E0\",\"ticker\":{\"id\":\"3729\"}},\"id\":\"3728\",\"type\":\"LogAxis\"},{\"attributes\":{\"fill_color\":{\"value\":\"white\"},\"line_color\":{\"value\":\"#1f77b4\"},\"size\":{\"value\":8},\"x\":{\"field\":\"x\"},\"y\":{\"field\":\"y\"}},\"id\":\"3764\",\"type\":\"Circle\"},{\"attributes\":{\"fill_alpha\":{\"value\":0.1},\"fill_color\":{\"value\":\"white\"},\"line_alpha\":{\"value\":0.1},\"line_color\":{\"value\":\"#1f77b4\"},\"size\":{\"value\":8},\"x\":{\"field\":\"x\"},\"y\":{\"field\":\"y\"}},\"id\":\"3765\",\"type\":\"Circle\"},{\"attributes\":{},\"id\":\"3737\",\"type\":\"HelpTool\"},{\"attributes\":{\"source\":{\"id\":\"3763\"}},\"id\":\"3767\",\"type\":\"CDSView\"},{\"attributes\":{\"source\":{\"id\":\"3780\"}},\"id\":\"3784\",\"type\":\"CDSView\"}],\"root_ids\":[\"3713\"]},\"title\":\"Bokeh Application\",\"version\":\"2.3.0\"}};\n",
       "  var render_items = [{\"docid\":\"b2371fbb-7659-489d-a147-63b9909ba508\",\"root_ids\":[\"3713\"],\"roots\":{\"3713\":\"63617e35-3d93-40df-acc3-50e1f5a26ff9\"}}];\n",
       "  root.Bokeh.embed.embed_items_notebook(docs_json, render_items);\n",
       "\n",
       "  }\n",
       "  if (root.Bokeh !== undefined) {\n",
       "    embed_document(root);\n",
       "  } else {\n",
       "    var attempts = 0;\n",
       "    var timer = setInterval(function(root) {\n",
       "      if (root.Bokeh !== undefined) {\n",
       "        clearInterval(timer);\n",
       "        embed_document(root);\n",
       "      } else {\n",
       "        attempts++;\n",
       "        if (attempts > 100) {\n",
       "          clearInterval(timer);\n",
       "          console.log(\"Bokeh: ERROR: Unable to run BokehJS code because BokehJS library is missing\");\n",
       "        }\n",
       "      }\n",
       "    }, 10, root)\n",
       "  }\n",
       "})(window);"
      ],
      "application/vnd.bokehjs_exec.v0+json": ""
     },
     "metadata": {
      "application/vnd.bokehjs_exec.v0+json": {
       "id": "3713"
      }
     },
     "output_type": "display_data"
    }
   ],
   "source": [
    "# prepare some data\n",
    "x = [0.1, 0.5, 1.0, 1.5, 2.0, 2.5, 3.0]\n",
    "y0 = [i**2 for i in x]\n",
    "y1 = [10**i for i in x]\n",
    "\n",
    "# create a new plot with a logarithmic axis type\n",
    "p = figure(\n",
    "    title=\"Logarithmic axis\",\n",
    "    plot_height=300,\n",
    "    y_axis_type=\"log\",\n",
    ")\n",
    "\n",
    "# add some renderers\n",
    "p.line(x, x, legend_label=\"y=x\")\n",
    "p.circle(x, x, legend_label=\"y=x\", fill_color=\"white\", size=8)\n",
    "p.line(x, y0, legend_label=\"y=x^2\", line_width=3)\n",
    "p.line(x, y1, legend_label=\"y=10^x\", line_color=\"red\")\n",
    "\n",
    "show(p)"
   ]
  },
  {
   "cell_type": "markdown",
   "id": "vital-empty",
   "metadata": {},
   "source": [
    "## Grille"
   ]
  },
  {
   "cell_type": "code",
   "execution_count": 51,
   "id": "measured-label",
   "metadata": {},
   "outputs": [
    {
     "data": {
      "text/html": [
       "\n",
       "\n",
       "\n",
       "\n",
       "\n",
       "\n",
       "  <div class=\"bk-root\" id=\"3ce8c3ef-6ee6-446d-909b-be5f656a57c1\" data-root-id=\"5125\"></div>\n"
      ]
     },
     "metadata": {},
     "output_type": "display_data"
    },
    {
     "data": {
      "application/javascript": [
       "(function(root) {\n",
       "  function embed_document(root) {\n",
       "    \n",
       "  var docs_json = {\"bcdf8229-6f9d-4d1d-9379-b00fc46b00f7\":{\"defs\":[{\"extends\":null,\"module\":null,\"name\":\"DataModel\",\"overrides\":[],\"properties\":[]}],\"roots\":{\"references\":[{\"attributes\":{\"background_fill_color\":\"#20262B\",\"below\":[{\"id\":\"5136\"}],\"border_fill_color\":\"#15191C\",\"center\":[{\"id\":\"5139\"},{\"id\":\"5143\"}],\"height\":250,\"left\":[{\"id\":\"5140\"}],\"max_width\":500,\"outline_line_alpha\":0.25,\"outline_line_color\":\"#E0E0E0\",\"renderers\":[{\"id\":\"5161\"}],\"sizing_mode\":\"stretch_width\",\"title\":{\"id\":\"5126\"},\"toolbar\":{\"id\":\"5151\"},\"x_range\":{\"id\":\"5128\"},\"x_scale\":{\"id\":\"5132\"},\"y_range\":{\"id\":\"5130\"},\"y_scale\":{\"id\":\"5134\"}},\"id\":\"5125\",\"subtype\":\"Figure\",\"type\":\"Plot\"},{\"attributes\":{},\"id\":\"5345\",\"type\":\"AllLabels\"},{\"attributes\":{\"axis_label_standoff\":10,\"axis_label_text_color\":\"#E0E0E0\",\"axis_label_text_font\":\"Helvetica\",\"axis_label_text_font_size\":\"1.25em\",\"axis_label_text_font_style\":\"normal\",\"axis_line_alpha\":0,\"axis_line_color\":\"#E0E0E0\",\"formatter\":{\"id\":\"5344\"},\"major_label_policy\":{\"id\":\"5345\"},\"major_label_text_color\":\"#E0E0E0\",\"major_label_text_font\":\"Helvetica\",\"major_label_text_font_size\":\"1.025em\",\"major_tick_line_alpha\":0,\"major_tick_line_color\":\"#E0E0E0\",\"minor_tick_line_alpha\":0,\"minor_tick_line_color\":\"#E0E0E0\",\"ticker\":{\"id\":\"5141\"}},\"id\":\"5140\",\"type\":\"LinearAxis\"},{\"attributes\":{\"line_alpha\":0.1,\"line_color\":\"green\",\"line_width\":2,\"x\":{\"field\":\"x\"},\"y\":{\"field\":\"y\"}},\"id\":\"5160\",\"type\":\"Line\"},{\"attributes\":{\"axis\":{\"id\":\"5136\"},\"grid_line_alpha\":0.25,\"grid_line_color\":\"red\",\"grid_line_width\":5,\"ticker\":null},\"id\":\"5139\",\"type\":\"Grid\"},{\"attributes\":{\"active_multi\":null,\"tools\":[{\"id\":\"5144\"},{\"id\":\"5145\"},{\"id\":\"5146\"},{\"id\":\"5147\"},{\"id\":\"5148\"},{\"id\":\"5149\"}]},\"id\":\"5151\",\"type\":\"Toolbar\"},{\"attributes\":{\"bottom_units\":\"screen\",\"fill_alpha\":0.5,\"fill_color\":\"lightgrey\",\"left_units\":\"screen\",\"level\":\"overlay\",\"line_alpha\":1.0,\"line_color\":\"black\",\"line_dash\":[4,4],\"line_width\":2,\"right_units\":\"screen\",\"syncable\":false,\"top_units\":\"screen\"},\"id\":\"5150\",\"type\":\"BoxAnnotation\"},{\"attributes\":{\"axis_label_standoff\":10,\"axis_label_text_color\":\"#E0E0E0\",\"axis_label_text_font\":\"Helvetica\",\"axis_label_text_font_size\":\"1.25em\",\"axis_label_text_font_style\":\"normal\",\"axis_line_alpha\":0,\"axis_line_color\":\"#E0E0E0\",\"formatter\":{\"id\":\"5347\"},\"major_label_policy\":{\"id\":\"5348\"},\"major_label_text_color\":\"#E0E0E0\",\"major_label_text_font\":\"Helvetica\",\"major_label_text_font_size\":\"1.025em\",\"major_tick_line_alpha\":0,\"major_tick_line_color\":\"#E0E0E0\",\"minor_tick_line_alpha\":0,\"minor_tick_line_color\":\"#E0E0E0\",\"ticker\":{\"id\":\"5137\"}},\"id\":\"5136\",\"type\":\"LinearAxis\"},{\"attributes\":{},\"id\":\"5144\",\"type\":\"PanTool\"},{\"attributes\":{\"data_source\":{\"id\":\"5158\"},\"glyph\":{\"id\":\"5159\"},\"hover_glyph\":null,\"muted_glyph\":null,\"nonselection_glyph\":{\"id\":\"5160\"},\"view\":{\"id\":\"5162\"}},\"id\":\"5161\",\"type\":\"GlyphRenderer\"},{\"attributes\":{},\"id\":\"5137\",\"type\":\"BasicTicker\"},{\"attributes\":{},\"id\":\"5145\",\"type\":\"WheelZoomTool\"},{\"attributes\":{\"axis\":{\"id\":\"5140\"},\"dimension\":1,\"grid_line_alpha\":0.8,\"grid_line_color\":\"#E0E0E0\",\"grid_line_dash\":[6,4],\"ticker\":null},\"id\":\"5143\",\"type\":\"Grid\"},{\"attributes\":{},\"id\":\"5349\",\"type\":\"UnionRenderers\"},{\"attributes\":{\"source\":{\"id\":\"5158\"}},\"id\":\"5162\",\"type\":\"CDSView\"},{\"attributes\":{\"overlay\":{\"id\":\"5150\"}},\"id\":\"5146\",\"type\":\"BoxZoomTool\"},{\"attributes\":{\"data\":{\"x\":[1,2,3,4,5],\"y\":[4,5,5,7,2]},\"selected\":{\"id\":\"5350\"},\"selection_policy\":{\"id\":\"5349\"}},\"id\":\"5158\",\"type\":\"ColumnDataSource\"},{\"attributes\":{},\"id\":\"5147\",\"type\":\"SaveTool\"},{\"attributes\":{},\"id\":\"5348\",\"type\":\"AllLabels\"},{\"attributes\":{},\"id\":\"5148\",\"type\":\"ResetTool\"},{\"attributes\":{\"line_color\":\"green\",\"line_width\":2,\"x\":{\"field\":\"x\"},\"y\":{\"field\":\"y\"}},\"id\":\"5159\",\"type\":\"Line\"},{\"attributes\":{},\"id\":\"5149\",\"type\":\"HelpTool\"},{\"attributes\":{},\"id\":\"5347\",\"type\":\"BasicTickFormatter\"},{\"attributes\":{},\"id\":\"5141\",\"type\":\"BasicTicker\"},{\"attributes\":{},\"id\":\"5344\",\"type\":\"BasicTickFormatter\"},{\"attributes\":{},\"id\":\"5350\",\"type\":\"Selection\"},{\"attributes\":{},\"id\":\"5134\",\"type\":\"LinearScale\"},{\"attributes\":{},\"id\":\"5132\",\"type\":\"LinearScale\"},{\"attributes\":{},\"id\":\"5128\",\"type\":\"DataRange1d\"},{\"attributes\":{},\"id\":\"5130\",\"type\":\"DataRange1d\"},{\"attributes\":{\"text\":\"Customized grid lines example\",\"text_color\":\"#E0E0E0\",\"text_font\":\"Helvetica\",\"text_font_size\":\"1.15em\"},\"id\":\"5126\",\"type\":\"Title\"}],\"root_ids\":[\"5125\"]},\"title\":\"Bokeh Application\",\"version\":\"2.3.0\"}};\n",
       "  var render_items = [{\"docid\":\"bcdf8229-6f9d-4d1d-9379-b00fc46b00f7\",\"root_ids\":[\"5125\"],\"roots\":{\"5125\":\"3ce8c3ef-6ee6-446d-909b-be5f656a57c1\"}}];\n",
       "  root.Bokeh.embed.embed_items_notebook(docs_json, render_items);\n",
       "\n",
       "  }\n",
       "  if (root.Bokeh !== undefined) {\n",
       "    embed_document(root);\n",
       "  } else {\n",
       "    var attempts = 0;\n",
       "    var timer = setInterval(function(root) {\n",
       "      if (root.Bokeh !== undefined) {\n",
       "        clearInterval(timer);\n",
       "        embed_document(root);\n",
       "      } else {\n",
       "        attempts++;\n",
       "        if (attempts > 100) {\n",
       "          clearInterval(timer);\n",
       "          console.log(\"Bokeh: ERROR: Unable to run BokehJS code because BokehJS library is missing\");\n",
       "        }\n",
       "      }\n",
       "    }, 10, root)\n",
       "  }\n",
       "})(window);"
      ],
      "application/vnd.bokehjs_exec.v0+json": ""
     },
     "metadata": {
      "application/vnd.bokehjs_exec.v0+json": {
       "id": "5125"
      }
     },
     "output_type": "display_data"
    }
   ],
   "source": [
    "x = [1, 2, 3, 4, 5]\n",
    "y = [4, 5, 5, 7, 2]\n",
    "\n",
    "p = figure(\n",
    "    title=\"Customized grid lines example\",\n",
    "    sizing_mode=\"stretch_width\",\n",
    "    max_width=500,\n",
    "    plot_height=250,\n",
    ")\n",
    "\n",
    "# add a renderer\n",
    "p.line(x, y, line_color=\"green\", line_width=2)\n",
    "\n",
    "# change just some things about the x-grid\n",
    "p.xgrid.grid_line_color = \"red\"\n",
    "p.xgrid.grid_line_width = 5\n",
    "\n",
    "\n",
    "# change just some things about the y-grid\n",
    "p.ygrid.grid_line_alpha = 0.8\n",
    "p.ygrid.grid_line_dash = [6, 4]\n",
    "show(p)"
   ]
  },
  {
   "cell_type": "code",
   "execution_count": 59,
   "id": "legendary-dealer",
   "metadata": {},
   "outputs": [
    {
     "data": {
      "text/html": [
       "\n",
       "\n",
       "\n",
       "\n",
       "\n",
       "\n",
       "  <div class=\"bk-root\" id=\"9baec9d8-ea28-4e4e-8ca9-a840e233bd2c\" data-root-id=\"6713\"></div>\n"
      ]
     },
     "metadata": {},
     "output_type": "display_data"
    },
    {
     "data": {
      "application/javascript": [
       "(function(root) {\n",
       "  function embed_document(root) {\n",
       "    \n",
       "  var docs_json = {\"265d07bd-9aa2-4065-856d-10dda8b5fb00\":{\"defs\":[{\"extends\":null,\"module\":null,\"name\":\"DataModel\",\"overrides\":[],\"properties\":[]}],\"roots\":{\"references\":[{\"attributes\":{\"background_fill_color\":\"white\",\"below\":[{\"id\":\"6724\"}],\"border_fill_color\":\"#15191C\",\"center\":[{\"id\":\"6727\"},{\"id\":\"6731\"}],\"height\":250,\"left\":[{\"id\":\"6728\"}],\"max_width\":500,\"outline_line_alpha\":0.25,\"outline_line_color\":\"#E0E0E0\",\"renderers\":[{\"id\":\"6749\"}],\"sizing_mode\":\"stretch_width\",\"title\":{\"id\":\"6714\"},\"toolbar\":{\"id\":\"6739\"},\"x_range\":{\"id\":\"6716\"},\"x_scale\":{\"id\":\"6720\"},\"y_range\":{\"id\":\"6718\"},\"y_scale\":{\"id\":\"6722\"}},\"id\":\"6713\",\"subtype\":\"Figure\",\"type\":\"Plot\"},{\"attributes\":{\"source\":{\"id\":\"6746\"}},\"id\":\"6750\",\"type\":\"CDSView\"},{\"attributes\":{},\"id\":\"6720\",\"type\":\"LinearScale\"},{\"attributes\":{\"data_source\":{\"id\":\"6746\"},\"glyph\":{\"id\":\"6747\"},\"hover_glyph\":null,\"muted_glyph\":null,\"nonselection_glyph\":{\"id\":\"6748\"},\"view\":{\"id\":\"6750\"}},\"id\":\"6749\",\"type\":\"GlyphRenderer\"},{\"attributes\":{},\"id\":\"6737\",\"type\":\"HelpTool\"},{\"attributes\":{\"axis_label_standoff\":10,\"axis_label_text_color\":\"#E0E0E0\",\"axis_label_text_font\":\"Helvetica\",\"axis_label_text_font_size\":\"1.25em\",\"axis_label_text_font_style\":\"normal\",\"axis_line_alpha\":0,\"axis_line_color\":\"#E0E0E0\",\"formatter\":{\"id\":\"6985\"},\"major_label_policy\":{\"id\":\"6986\"},\"major_label_text_color\":\"#E0E0E0\",\"major_label_text_font\":\"Helvetica\",\"major_label_text_font_size\":\"1.025em\",\"major_tick_line_alpha\":0,\"major_tick_line_color\":\"#E0E0E0\",\"minor_tick_line_alpha\":0,\"minor_tick_line_color\":\"#E0E0E0\",\"ticker\":{\"id\":\"6725\"}},\"id\":\"6724\",\"type\":\"LinearAxis\"},{\"attributes\":{\"active_multi\":null,\"tools\":[{\"id\":\"6732\"},{\"id\":\"6733\"},{\"id\":\"6734\"},{\"id\":\"6735\"},{\"id\":\"6736\"},{\"id\":\"6737\"}]},\"id\":\"6739\",\"type\":\"Toolbar\"},{\"attributes\":{},\"id\":\"6982\",\"type\":\"BasicTickFormatter\"},{\"attributes\":{},\"id\":\"6729\",\"type\":\"BasicTicker\"},{\"attributes\":{\"line_color\":\"green\",\"line_width\":2,\"x\":{\"field\":\"x\"},\"y\":{\"field\":\"y\"}},\"id\":\"6747\",\"type\":\"Line\"},{\"attributes\":{},\"id\":\"6725\",\"type\":\"BasicTicker\"},{\"attributes\":{\"axis\":{\"id\":\"6724\"},\"bounds\":[2,4],\"grid_line_alpha\":0.25,\"grid_line_color\":\"#E0E0E0\",\"ticker\":null},\"id\":\"6727\",\"type\":\"Grid\"},{\"attributes\":{\"axis\":{\"id\":\"6728\"},\"band_fill_alpha\":0.1,\"band_fill_color\":\"olive\",\"dimension\":1,\"grid_line_alpha\":0.25,\"grid_line_color\":\"#E0E0E0\",\"ticker\":null},\"id\":\"6731\",\"type\":\"Grid\"},{\"attributes\":{\"axis_label_standoff\":10,\"axis_label_text_color\":\"#E0E0E0\",\"axis_label_text_font\":\"Helvetica\",\"axis_label_text_font_size\":\"1.25em\",\"axis_label_text_font_style\":\"normal\",\"axis_line_alpha\":0,\"axis_line_color\":\"#E0E0E0\",\"formatter\":{\"id\":\"6982\"},\"major_label_policy\":{\"id\":\"6983\"},\"major_label_text_color\":\"#E0E0E0\",\"major_label_text_font\":\"Helvetica\",\"major_label_text_font_size\":\"1.025em\",\"major_tick_line_alpha\":0,\"major_tick_line_color\":\"#E0E0E0\",\"minor_tick_line_alpha\":0,\"minor_tick_line_color\":\"#E0E0E0\",\"ticker\":{\"id\":\"6729\"}},\"id\":\"6728\",\"type\":\"LinearAxis\"},{\"attributes\":{\"data\":{\"x\":[1,2,3,4,5],\"y\":[4,5,5,7,2]},\"selected\":{\"id\":\"6988\"},\"selection_policy\":{\"id\":\"6987\"}},\"id\":\"6746\",\"type\":\"ColumnDataSource\"},{\"attributes\":{},\"id\":\"6722\",\"type\":\"LinearScale\"},{\"attributes\":{},\"id\":\"6716\",\"type\":\"DataRange1d\"},{\"attributes\":{},\"id\":\"6718\",\"type\":\"DataRange1d\"},{\"attributes\":{},\"id\":\"6987\",\"type\":\"UnionRenderers\"},{\"attributes\":{\"text\":\"Bandes de couleurs\",\"text_color\":\"#E0E0E0\",\"text_font\":\"Helvetica\",\"text_font_size\":\"1.15em\"},\"id\":\"6714\",\"type\":\"Title\"},{\"attributes\":{},\"id\":\"6732\",\"type\":\"PanTool\"},{\"attributes\":{},\"id\":\"6988\",\"type\":\"Selection\"},{\"attributes\":{\"bottom_units\":\"screen\",\"fill_alpha\":0.5,\"fill_color\":\"lightgrey\",\"left_units\":\"screen\",\"level\":\"overlay\",\"line_alpha\":1.0,\"line_color\":\"black\",\"line_dash\":[4,4],\"line_width\":2,\"right_units\":\"screen\",\"syncable\":false,\"top_units\":\"screen\"},\"id\":\"6738\",\"type\":\"BoxAnnotation\"},{\"attributes\":{},\"id\":\"6733\",\"type\":\"WheelZoomTool\"},{\"attributes\":{},\"id\":\"6986\",\"type\":\"AllLabels\"},{\"attributes\":{\"overlay\":{\"id\":\"6738\"}},\"id\":\"6734\",\"type\":\"BoxZoomTool\"},{\"attributes\":{\"line_alpha\":0.1,\"line_color\":\"green\",\"line_width\":2,\"x\":{\"field\":\"x\"},\"y\":{\"field\":\"y\"}},\"id\":\"6748\",\"type\":\"Line\"},{\"attributes\":{},\"id\":\"6983\",\"type\":\"AllLabels\"},{\"attributes\":{},\"id\":\"6735\",\"type\":\"SaveTool\"},{\"attributes\":{},\"id\":\"6985\",\"type\":\"BasicTickFormatter\"},{\"attributes\":{},\"id\":\"6736\",\"type\":\"ResetTool\"}],\"root_ids\":[\"6713\"]},\"title\":\"Bokeh Application\",\"version\":\"2.3.0\"}};\n",
       "  var render_items = [{\"docid\":\"265d07bd-9aa2-4065-856d-10dda8b5fb00\",\"root_ids\":[\"6713\"],\"roots\":{\"6713\":\"9baec9d8-ea28-4e4e-8ca9-a840e233bd2c\"}}];\n",
       "  root.Bokeh.embed.embed_items_notebook(docs_json, render_items);\n",
       "\n",
       "  }\n",
       "  if (root.Bokeh !== undefined) {\n",
       "    embed_document(root);\n",
       "  } else {\n",
       "    var attempts = 0;\n",
       "    var timer = setInterval(function(root) {\n",
       "      if (root.Bokeh !== undefined) {\n",
       "        clearInterval(timer);\n",
       "        embed_document(root);\n",
       "      } else {\n",
       "        attempts++;\n",
       "        if (attempts > 100) {\n",
       "          clearInterval(timer);\n",
       "          console.log(\"Bokeh: ERROR: Unable to run BokehJS code because BokehJS library is missing\");\n",
       "        }\n",
       "      }\n",
       "    }, 10, root)\n",
       "  }\n",
       "})(window);"
      ],
      "application/vnd.bokehjs_exec.v0+json": ""
     },
     "metadata": {
      "application/vnd.bokehjs_exec.v0+json": {
       "id": "6713"
      }
     },
     "output_type": "display_data"
    }
   ],
   "source": [
    "# create a plot\n",
    "p = figure(\n",
    "    title='Bandes de couleurs',\n",
    "    sizing_mode=\"stretch_width\",\n",
    "    max_width=500,\n",
    "    plot_height=250,\n",
    "    background_fill_color='white'\n",
    ")\n",
    "\n",
    "# add a renderer\n",
    "p.line(x, y, line_color=\"green\", line_width=2)\n",
    "\n",
    "# add bands to the y-grid\n",
    "p.ygrid.band_fill_color = \"olive\"\n",
    "p.ygrid.band_fill_alpha = 0.1\n",
    "\n",
    "\n",
    "p.xgrid.bounds = (2, 4)\n",
    "show(p)"
   ]
  },
  {
   "cell_type": "code",
   "execution_count": 61,
   "id": "treated-ghana",
   "metadata": {},
   "outputs": [
    {
     "data": {
      "text/html": [
       "\n",
       "\n",
       "\n",
       "\n",
       "\n",
       "\n",
       "  <div class=\"bk-root\" id=\"9052b596-df09-4d01-97d3-394c53ea1547\" data-root-id=\"6713\"></div>\n"
      ]
     },
     "metadata": {},
     "output_type": "display_data"
    },
    {
     "data": {
      "application/javascript": [
       "(function(root) {\n",
       "  function embed_document(root) {\n",
       "    \n",
       "  var docs_json = {\"8a159f07-2e84-40c4-952c-17771063dd67\":{\"defs\":[{\"extends\":null,\"module\":null,\"name\":\"DataModel\",\"overrides\":[],\"properties\":[]}],\"roots\":{\"references\":[{\"attributes\":{\"background_fill_color\":\"rgb(204, 255, 255)\",\"below\":[{\"id\":\"6724\"}],\"border_fill_color\":\"rgb(102, 204, 255)\",\"center\":[{\"id\":\"6727\"},{\"id\":\"6731\"}],\"height\":250,\"left\":[{\"id\":\"6728\"}],\"max_width\":500,\"outline_line_alpha\":0.25,\"outline_line_color\":\"rgb(0, 0, 255)\",\"renderers\":[{\"id\":\"6749\"}],\"sizing_mode\":\"stretch_width\",\"title\":\"Couleur d'arri\\u00e8refond\",\"toolbar\":{\"id\":\"6739\"},\"x_range\":{\"id\":\"6716\"},\"x_scale\":{\"id\":\"6720\"},\"y_range\":{\"id\":\"6718\"},\"y_scale\":{\"id\":\"6722\"}},\"id\":\"6713\",\"subtype\":\"Figure\",\"type\":\"Plot\"},{\"attributes\":{\"source\":{\"id\":\"6746\"}},\"id\":\"6750\",\"type\":\"CDSView\"},{\"attributes\":{},\"id\":\"6720\",\"type\":\"LinearScale\"},{\"attributes\":{\"data_source\":{\"id\":\"6746\"},\"glyph\":{\"id\":\"6747\"},\"hover_glyph\":null,\"muted_glyph\":null,\"nonselection_glyph\":{\"id\":\"6748\"},\"view\":{\"id\":\"6750\"}},\"id\":\"6749\",\"type\":\"GlyphRenderer\"},{\"attributes\":{},\"id\":\"6737\",\"type\":\"HelpTool\"},{\"attributes\":{\"axis_label_standoff\":10,\"axis_label_text_color\":\"#E0E0E0\",\"axis_label_text_font\":\"Helvetica\",\"axis_label_text_font_size\":\"1.25em\",\"axis_label_text_font_style\":\"normal\",\"axis_line_alpha\":0,\"axis_line_color\":\"#E0E0E0\",\"formatter\":{\"id\":\"6985\"},\"major_label_policy\":{\"id\":\"6986\"},\"major_label_text_color\":\"#E0E0E0\",\"major_label_text_font\":\"Helvetica\",\"major_label_text_font_size\":\"1.025em\",\"major_tick_line_alpha\":0,\"major_tick_line_color\":\"#E0E0E0\",\"minor_tick_line_alpha\":0,\"minor_tick_line_color\":\"#E0E0E0\",\"ticker\":{\"id\":\"6725\"}},\"id\":\"6724\",\"type\":\"LinearAxis\"},{\"attributes\":{\"active_multi\":null,\"tools\":[{\"id\":\"6732\"},{\"id\":\"6733\"},{\"id\":\"6734\"},{\"id\":\"6735\"},{\"id\":\"6736\"},{\"id\":\"6737\"}]},\"id\":\"6739\",\"type\":\"Toolbar\"},{\"attributes\":{},\"id\":\"6982\",\"type\":\"BasicTickFormatter\"},{\"attributes\":{},\"id\":\"6729\",\"type\":\"BasicTicker\"},{\"attributes\":{\"line_color\":\"green\",\"line_width\":2,\"x\":{\"field\":\"x\"},\"y\":{\"field\":\"y\"}},\"id\":\"6747\",\"type\":\"Line\"},{\"attributes\":{},\"id\":\"6725\",\"type\":\"BasicTicker\"},{\"attributes\":{\"axis\":{\"id\":\"6724\"},\"bounds\":[2,4],\"grid_line_alpha\":0.25,\"grid_line_color\":\"#E0E0E0\",\"ticker\":null},\"id\":\"6727\",\"type\":\"Grid\"},{\"attributes\":{\"axis\":{\"id\":\"6728\"},\"band_fill_alpha\":0.1,\"band_fill_color\":\"olive\",\"dimension\":1,\"grid_line_alpha\":0.25,\"grid_line_color\":\"#E0E0E0\",\"ticker\":null},\"id\":\"6731\",\"type\":\"Grid\"},{\"attributes\":{\"axis_label_standoff\":10,\"axis_label_text_color\":\"#E0E0E0\",\"axis_label_text_font\":\"Helvetica\",\"axis_label_text_font_size\":\"1.25em\",\"axis_label_text_font_style\":\"normal\",\"axis_line_alpha\":0,\"axis_line_color\":\"#E0E0E0\",\"formatter\":{\"id\":\"6982\"},\"major_label_policy\":{\"id\":\"6983\"},\"major_label_text_color\":\"#E0E0E0\",\"major_label_text_font\":\"Helvetica\",\"major_label_text_font_size\":\"1.025em\",\"major_tick_line_alpha\":0,\"major_tick_line_color\":\"#E0E0E0\",\"minor_tick_line_alpha\":0,\"minor_tick_line_color\":\"#E0E0E0\",\"ticker\":{\"id\":\"6729\"}},\"id\":\"6728\",\"type\":\"LinearAxis\"},{\"attributes\":{\"data\":{\"x\":[1,2,3,4,5],\"y\":[4,5,5,7,2]},\"selected\":{\"id\":\"6988\"},\"selection_policy\":{\"id\":\"6987\"}},\"id\":\"6746\",\"type\":\"ColumnDataSource\"},{\"attributes\":{},\"id\":\"6722\",\"type\":\"LinearScale\"},{\"attributes\":{},\"id\":\"6716\",\"type\":\"DataRange1d\"},{\"attributes\":{},\"id\":\"6718\",\"type\":\"DataRange1d\"},{\"attributes\":{},\"id\":\"6987\",\"type\":\"UnionRenderers\"},{\"attributes\":{},\"id\":\"6732\",\"type\":\"PanTool\"},{\"attributes\":{},\"id\":\"6988\",\"type\":\"Selection\"},{\"attributes\":{\"bottom_units\":\"screen\",\"fill_alpha\":0.5,\"fill_color\":\"lightgrey\",\"left_units\":\"screen\",\"level\":\"overlay\",\"line_alpha\":1.0,\"line_color\":\"black\",\"line_dash\":[4,4],\"line_width\":2,\"right_units\":\"screen\",\"syncable\":false,\"top_units\":\"screen\"},\"id\":\"6738\",\"type\":\"BoxAnnotation\"},{\"attributes\":{},\"id\":\"6733\",\"type\":\"WheelZoomTool\"},{\"attributes\":{},\"id\":\"6986\",\"type\":\"AllLabels\"},{\"attributes\":{\"overlay\":{\"id\":\"6738\"}},\"id\":\"6734\",\"type\":\"BoxZoomTool\"},{\"attributes\":{\"line_alpha\":0.1,\"line_color\":\"green\",\"line_width\":2,\"x\":{\"field\":\"x\"},\"y\":{\"field\":\"y\"}},\"id\":\"6748\",\"type\":\"Line\"},{\"attributes\":{},\"id\":\"6983\",\"type\":\"AllLabels\"},{\"attributes\":{},\"id\":\"6735\",\"type\":\"SaveTool\"},{\"attributes\":{},\"id\":\"6985\",\"type\":\"BasicTickFormatter\"},{\"attributes\":{},\"id\":\"6736\",\"type\":\"ResetTool\"}],\"root_ids\":[\"6713\"]},\"title\":\"Bokeh Application\",\"version\":\"2.3.0\"}};\n",
       "  var render_items = [{\"docid\":\"8a159f07-2e84-40c4-952c-17771063dd67\",\"root_ids\":[\"6713\"],\"roots\":{\"6713\":\"9052b596-df09-4d01-97d3-394c53ea1547\"}}];\n",
       "  root.Bokeh.embed.embed_items_notebook(docs_json, render_items);\n",
       "\n",
       "  }\n",
       "  if (root.Bokeh !== undefined) {\n",
       "    embed_document(root);\n",
       "  } else {\n",
       "    var attempts = 0;\n",
       "    var timer = setInterval(function(root) {\n",
       "      if (root.Bokeh !== undefined) {\n",
       "        clearInterval(timer);\n",
       "        embed_document(root);\n",
       "      } else {\n",
       "        attempts++;\n",
       "        if (attempts > 100) {\n",
       "          clearInterval(timer);\n",
       "          console.log(\"Bokeh: ERROR: Unable to run BokehJS code because BokehJS library is missing\");\n",
       "        }\n",
       "      }\n",
       "    }, 10, root)\n",
       "  }\n",
       "})(window);"
      ],
      "application/vnd.bokehjs_exec.v0+json": ""
     },
     "metadata": {
      "application/vnd.bokehjs_exec.v0+json": {
       "id": "6713"
      }
     },
     "output_type": "display_data"
    }
   ],
   "source": [
    "p.title=\"Couleur d'arrièrefond\"\n",
    "p.background_fill_color = (204, 255, 255)\n",
    "p.border_fill_color = (102, 204, 255)\n",
    "p.outline_line_color = (0, 0, 255)\n",
    "\n",
    "# show the results\n",
    "show(p)"
   ]
  },
  {
   "cell_type": "markdown",
   "id": "incoming-revolution",
   "metadata": {},
   "source": [
    "## Barre d'outil"
   ]
  },
  {
   "cell_type": "code",
   "execution_count": 68,
   "id": "worldwide-soviet",
   "metadata": {},
   "outputs": [
    {
     "data": {
      "text/html": [
       "\n",
       "\n",
       "\n",
       "\n",
       "\n",
       "\n",
       "  <div class=\"bk-root\" id=\"8868d59c-0cf8-4945-85cb-f0bae4e28e99\" data-root-id=\"6713\"></div>\n"
      ]
     },
     "metadata": {},
     "output_type": "display_data"
    },
    {
     "data": {
      "application/javascript": [
       "(function(root) {\n",
       "  function embed_document(root) {\n",
       "    \n",
       "  var docs_json = {\"494e015a-2cb5-49f9-a8f6-f3ecc80fdca5\":{\"defs\":[{\"extends\":null,\"module\":null,\"name\":\"DataModel\",\"overrides\":[],\"properties\":[]}],\"roots\":{\"references\":[{\"attributes\":{\"background_fill_color\":\"white\",\"below\":[{\"id\":\"6724\"}],\"border_fill_color\":\"lightblue\",\"center\":[{\"id\":\"6727\"},{\"id\":\"6731\"}],\"height\":250,\"left\":[{\"id\":\"6728\"}],\"max_width\":500,\"outline_line_alpha\":0.25,\"outline_line_color\":\"rgb(0, 0, 255)\",\"renderers\":[{\"id\":\"6749\"}],\"sizing_mode\":\"stretch_width\",\"title\":\"Barre d'outils\",\"toolbar\":{\"id\":\"6739\"},\"toolbar_location\":\"below\",\"x_range\":{\"id\":\"6716\"},\"x_scale\":{\"id\":\"6720\"},\"y_range\":{\"id\":\"6718\"},\"y_scale\":{\"id\":\"6722\"}},\"id\":\"6713\",\"subtype\":\"Figure\",\"type\":\"Plot\"},{\"attributes\":{\"source\":{\"id\":\"6746\"}},\"id\":\"6750\",\"type\":\"CDSView\"},{\"attributes\":{},\"id\":\"6720\",\"type\":\"LinearScale\"},{\"attributes\":{\"data_source\":{\"id\":\"6746\"},\"glyph\":{\"id\":\"6747\"},\"hover_glyph\":null,\"muted_glyph\":null,\"nonselection_glyph\":{\"id\":\"6748\"},\"view\":{\"id\":\"6750\"}},\"id\":\"6749\",\"type\":\"GlyphRenderer\"},{\"attributes\":{},\"id\":\"6737\",\"type\":\"HelpTool\"},{\"attributes\":{\"axis_label_standoff\":10,\"axis_label_text_color\":\"#E0E0E0\",\"axis_label_text_font\":\"Helvetica\",\"axis_label_text_font_size\":\"1.25em\",\"axis_label_text_font_style\":\"normal\",\"axis_line_alpha\":0,\"axis_line_color\":\"#E0E0E0\",\"formatter\":{\"id\":\"6985\"},\"major_label_policy\":{\"id\":\"6986\"},\"major_label_text_color\":\"#E0E0E0\",\"major_label_text_font\":\"Helvetica\",\"major_label_text_font_size\":\"1.025em\",\"major_tick_line_alpha\":0,\"major_tick_line_color\":\"#E0E0E0\",\"minor_tick_line_alpha\":0,\"minor_tick_line_color\":\"#E0E0E0\",\"ticker\":{\"id\":\"6725\"}},\"id\":\"6724\",\"type\":\"LinearAxis\"},{\"attributes\":{\"active_multi\":null,\"tools\":[{\"id\":\"6732\"},{\"id\":\"6733\"},{\"id\":\"6734\"},{\"id\":\"6735\"},{\"id\":\"6736\"},{\"id\":\"6737\"}]},\"id\":\"6739\",\"type\":\"Toolbar\"},{\"attributes\":{},\"id\":\"6982\",\"type\":\"BasicTickFormatter\"},{\"attributes\":{},\"id\":\"6729\",\"type\":\"BasicTicker\"},{\"attributes\":{\"line_color\":\"green\",\"line_width\":2,\"x\":{\"field\":\"x\"},\"y\":{\"field\":\"y\"}},\"id\":\"6747\",\"type\":\"Line\"},{\"attributes\":{},\"id\":\"6725\",\"type\":\"BasicTicker\"},{\"attributes\":{\"axis\":{\"id\":\"6724\"},\"bounds\":[2,4],\"grid_line_alpha\":0.25,\"grid_line_color\":\"#E0E0E0\",\"ticker\":null},\"id\":\"6727\",\"type\":\"Grid\"},{\"attributes\":{\"axis\":{\"id\":\"6728\"},\"band_fill_alpha\":0.1,\"band_fill_color\":\"olive\",\"dimension\":1,\"grid_line_alpha\":0.25,\"grid_line_color\":\"#E0E0E0\",\"ticker\":null},\"id\":\"6731\",\"type\":\"Grid\"},{\"attributes\":{\"axis_label_standoff\":10,\"axis_label_text_color\":\"#E0E0E0\",\"axis_label_text_font\":\"Helvetica\",\"axis_label_text_font_size\":\"1.25em\",\"axis_label_text_font_style\":\"normal\",\"axis_line_alpha\":0,\"axis_line_color\":\"#E0E0E0\",\"formatter\":{\"id\":\"6982\"},\"major_label_policy\":{\"id\":\"6983\"},\"major_label_text_color\":\"#E0E0E0\",\"major_label_text_font\":\"Helvetica\",\"major_label_text_font_size\":\"1.025em\",\"major_tick_line_alpha\":0,\"major_tick_line_color\":\"#E0E0E0\",\"minor_tick_line_alpha\":0,\"minor_tick_line_color\":\"#E0E0E0\",\"ticker\":{\"id\":\"6729\"}},\"id\":\"6728\",\"type\":\"LinearAxis\"},{\"attributes\":{\"data\":{\"x\":[1,2,3,4,5],\"y\":[4,5,5,7,2]},\"selected\":{\"id\":\"6988\"},\"selection_policy\":{\"id\":\"6987\"}},\"id\":\"6746\",\"type\":\"ColumnDataSource\"},{\"attributes\":{},\"id\":\"6722\",\"type\":\"LinearScale\"},{\"attributes\":{},\"id\":\"6716\",\"type\":\"DataRange1d\"},{\"attributes\":{},\"id\":\"6718\",\"type\":\"DataRange1d\"},{\"attributes\":{},\"id\":\"6987\",\"type\":\"UnionRenderers\"},{\"attributes\":{},\"id\":\"6732\",\"type\":\"PanTool\"},{\"attributes\":{},\"id\":\"6988\",\"type\":\"Selection\"},{\"attributes\":{\"bottom_units\":\"screen\",\"fill_alpha\":0.5,\"fill_color\":\"lightgrey\",\"left_units\":\"screen\",\"level\":\"overlay\",\"line_alpha\":1.0,\"line_color\":\"black\",\"line_dash\":[4,4],\"line_width\":2,\"right_units\":\"screen\",\"syncable\":false,\"top_units\":\"screen\"},\"id\":\"6738\",\"type\":\"BoxAnnotation\"},{\"attributes\":{},\"id\":\"6733\",\"type\":\"WheelZoomTool\"},{\"attributes\":{},\"id\":\"6986\",\"type\":\"AllLabels\"},{\"attributes\":{\"overlay\":{\"id\":\"6738\"}},\"id\":\"6734\",\"type\":\"BoxZoomTool\"},{\"attributes\":{\"line_alpha\":0.1,\"line_color\":\"green\",\"line_width\":2,\"x\":{\"field\":\"x\"},\"y\":{\"field\":\"y\"}},\"id\":\"6748\",\"type\":\"Line\"},{\"attributes\":{},\"id\":\"6983\",\"type\":\"AllLabels\"},{\"attributes\":{},\"id\":\"6735\",\"type\":\"SaveTool\"},{\"attributes\":{},\"id\":\"6985\",\"type\":\"BasicTickFormatter\"},{\"attributes\":{},\"id\":\"6736\",\"type\":\"ResetTool\"}],\"root_ids\":[\"6713\"]},\"title\":\"Bokeh Application\",\"version\":\"2.3.0\"}};\n",
       "  var render_items = [{\"docid\":\"494e015a-2cb5-49f9-a8f6-f3ecc80fdca5\",\"root_ids\":[\"6713\"],\"roots\":{\"6713\":\"8868d59c-0cf8-4945-85cb-f0bae4e28e99\"}}];\n",
       "  root.Bokeh.embed.embed_items_notebook(docs_json, render_items);\n",
       "\n",
       "  }\n",
       "  if (root.Bokeh !== undefined) {\n",
       "    embed_document(root);\n",
       "  } else {\n",
       "    var attempts = 0;\n",
       "    var timer = setInterval(function(root) {\n",
       "      if (root.Bokeh !== undefined) {\n",
       "        clearInterval(timer);\n",
       "        embed_document(root);\n",
       "      } else {\n",
       "        attempts++;\n",
       "        if (attempts > 100) {\n",
       "          clearInterval(timer);\n",
       "          console.log(\"Bokeh: ERROR: Unable to run BokehJS code because BokehJS library is missing\");\n",
       "        }\n",
       "      }\n",
       "    }, 10, root)\n",
       "  }\n",
       "})(window);"
      ],
      "application/vnd.bokehjs_exec.v0+json": ""
     },
     "metadata": {
      "application/vnd.bokehjs_exec.v0+json": {
       "id": "6713"
      }
     },
     "output_type": "display_data"
    }
   ],
   "source": [
    "p.title=\"Barre d'outils\"\n",
    "p.background_fill_color = 'white'\n",
    "p.border_fill_color = 'lightblue'\n",
    "p.toolbar_location='below'\n",
    "show(p)"
   ]
  },
  {
   "cell_type": "code",
   "execution_count": 70,
   "id": "centered-portfolio",
   "metadata": {},
   "outputs": [
    {
     "data": {
      "text/html": [
       "\n",
       "\n",
       "\n",
       "\n",
       "\n",
       "\n",
       "  <div class=\"bk-root\" id=\"fbfcd680-5221-41dc-a915-764366ab6fac\" data-root-id=\"6713\"></div>\n"
      ]
     },
     "metadata": {},
     "output_type": "display_data"
    },
    {
     "data": {
      "application/javascript": [
       "(function(root) {\n",
       "  function embed_document(root) {\n",
       "    \n",
       "  var docs_json = {\"8a2dab7e-69c5-453a-ae96-0e57e73bda64\":{\"defs\":[{\"extends\":null,\"module\":null,\"name\":\"DataModel\",\"overrides\":[],\"properties\":[]}],\"roots\":{\"references\":[{\"attributes\":{\"background_fill_color\":\"white\",\"below\":[{\"id\":\"6724\"}],\"border_fill_color\":\"lightblue\",\"center\":[{\"id\":\"6727\"},{\"id\":\"6731\"}],\"height\":250,\"left\":[{\"id\":\"6728\"}],\"max_width\":500,\"outline_line_alpha\":0.25,\"outline_line_color\":\"rgb(0, 0, 255)\",\"renderers\":[{\"id\":\"6749\"}],\"sizing_mode\":\"stretch_width\",\"title\":\"Masqer la barre d'outils\",\"toolbar\":{\"id\":\"6739\"},\"toolbar_location\":\"below\",\"x_range\":{\"id\":\"6716\"},\"x_scale\":{\"id\":\"6720\"},\"y_range\":{\"id\":\"6718\"},\"y_scale\":{\"id\":\"6722\"}},\"id\":\"6713\",\"subtype\":\"Figure\",\"type\":\"Plot\"},{\"attributes\":{\"source\":{\"id\":\"6746\"}},\"id\":\"6750\",\"type\":\"CDSView\"},{\"attributes\":{},\"id\":\"6720\",\"type\":\"LinearScale\"},{\"attributes\":{\"data_source\":{\"id\":\"6746\"},\"glyph\":{\"id\":\"6747\"},\"hover_glyph\":null,\"muted_glyph\":null,\"nonselection_glyph\":{\"id\":\"6748\"},\"view\":{\"id\":\"6750\"}},\"id\":\"6749\",\"type\":\"GlyphRenderer\"},{\"attributes\":{},\"id\":\"6737\",\"type\":\"HelpTool\"},{\"attributes\":{\"axis_label_standoff\":10,\"axis_label_text_color\":\"#E0E0E0\",\"axis_label_text_font\":\"Helvetica\",\"axis_label_text_font_size\":\"1.25em\",\"axis_label_text_font_style\":\"normal\",\"axis_line_alpha\":0,\"axis_line_color\":\"#E0E0E0\",\"formatter\":{\"id\":\"6985\"},\"major_label_policy\":{\"id\":\"6986\"},\"major_label_text_color\":\"#E0E0E0\",\"major_label_text_font\":\"Helvetica\",\"major_label_text_font_size\":\"1.025em\",\"major_tick_line_alpha\":0,\"major_tick_line_color\":\"#E0E0E0\",\"minor_tick_line_alpha\":0,\"minor_tick_line_color\":\"#E0E0E0\",\"ticker\":{\"id\":\"6725\"}},\"id\":\"6724\",\"type\":\"LinearAxis\"},{\"attributes\":{\"active_multi\":null,\"autohide\":true,\"logo\":null,\"tools\":[{\"id\":\"6732\"},{\"id\":\"6733\"},{\"id\":\"6734\"},{\"id\":\"6735\"},{\"id\":\"6736\"},{\"id\":\"6737\"}]},\"id\":\"6739\",\"type\":\"Toolbar\"},{\"attributes\":{},\"id\":\"6982\",\"type\":\"BasicTickFormatter\"},{\"attributes\":{},\"id\":\"6729\",\"type\":\"BasicTicker\"},{\"attributes\":{\"line_color\":\"green\",\"line_width\":2,\"x\":{\"field\":\"x\"},\"y\":{\"field\":\"y\"}},\"id\":\"6747\",\"type\":\"Line\"},{\"attributes\":{},\"id\":\"6725\",\"type\":\"BasicTicker\"},{\"attributes\":{\"axis\":{\"id\":\"6724\"},\"bounds\":[2,4],\"grid_line_alpha\":0.25,\"grid_line_color\":\"#E0E0E0\",\"ticker\":null},\"id\":\"6727\",\"type\":\"Grid\"},{\"attributes\":{\"axis\":{\"id\":\"6728\"},\"band_fill_alpha\":0.1,\"band_fill_color\":\"olive\",\"dimension\":1,\"grid_line_alpha\":0.25,\"grid_line_color\":\"#E0E0E0\",\"ticker\":null},\"id\":\"6731\",\"type\":\"Grid\"},{\"attributes\":{\"axis_label_standoff\":10,\"axis_label_text_color\":\"#E0E0E0\",\"axis_label_text_font\":\"Helvetica\",\"axis_label_text_font_size\":\"1.25em\",\"axis_label_text_font_style\":\"normal\",\"axis_line_alpha\":0,\"axis_line_color\":\"#E0E0E0\",\"formatter\":{\"id\":\"6982\"},\"major_label_policy\":{\"id\":\"6983\"},\"major_label_text_color\":\"#E0E0E0\",\"major_label_text_font\":\"Helvetica\",\"major_label_text_font_size\":\"1.025em\",\"major_tick_line_alpha\":0,\"major_tick_line_color\":\"#E0E0E0\",\"minor_tick_line_alpha\":0,\"minor_tick_line_color\":\"#E0E0E0\",\"ticker\":{\"id\":\"6729\"}},\"id\":\"6728\",\"type\":\"LinearAxis\"},{\"attributes\":{\"data\":{\"x\":[1,2,3,4,5],\"y\":[4,5,5,7,2]},\"selected\":{\"id\":\"6988\"},\"selection_policy\":{\"id\":\"6987\"}},\"id\":\"6746\",\"type\":\"ColumnDataSource\"},{\"attributes\":{},\"id\":\"6722\",\"type\":\"LinearScale\"},{\"attributes\":{},\"id\":\"6716\",\"type\":\"DataRange1d\"},{\"attributes\":{},\"id\":\"6718\",\"type\":\"DataRange1d\"},{\"attributes\":{},\"id\":\"6987\",\"type\":\"UnionRenderers\"},{\"attributes\":{},\"id\":\"6732\",\"type\":\"PanTool\"},{\"attributes\":{},\"id\":\"6988\",\"type\":\"Selection\"},{\"attributes\":{\"bottom_units\":\"screen\",\"fill_alpha\":0.5,\"fill_color\":\"lightgrey\",\"left_units\":\"screen\",\"level\":\"overlay\",\"line_alpha\":1.0,\"line_color\":\"black\",\"line_dash\":[4,4],\"line_width\":2,\"right_units\":\"screen\",\"syncable\":false,\"top_units\":\"screen\"},\"id\":\"6738\",\"type\":\"BoxAnnotation\"},{\"attributes\":{},\"id\":\"6733\",\"type\":\"WheelZoomTool\"},{\"attributes\":{},\"id\":\"6986\",\"type\":\"AllLabels\"},{\"attributes\":{\"overlay\":{\"id\":\"6738\"}},\"id\":\"6734\",\"type\":\"BoxZoomTool\"},{\"attributes\":{\"line_alpha\":0.1,\"line_color\":\"green\",\"line_width\":2,\"x\":{\"field\":\"x\"},\"y\":{\"field\":\"y\"}},\"id\":\"6748\",\"type\":\"Line\"},{\"attributes\":{},\"id\":\"6983\",\"type\":\"AllLabels\"},{\"attributes\":{},\"id\":\"6735\",\"type\":\"SaveTool\"},{\"attributes\":{},\"id\":\"6985\",\"type\":\"BasicTickFormatter\"},{\"attributes\":{},\"id\":\"6736\",\"type\":\"ResetTool\"}],\"root_ids\":[\"6713\"]},\"title\":\"Bokeh Application\",\"version\":\"2.3.0\"}};\n",
       "  var render_items = [{\"docid\":\"8a2dab7e-69c5-453a-ae96-0e57e73bda64\",\"root_ids\":[\"6713\"],\"roots\":{\"6713\":\"fbfcd680-5221-41dc-a915-764366ab6fac\"}}];\n",
       "  root.Bokeh.embed.embed_items_notebook(docs_json, render_items);\n",
       "\n",
       "  }\n",
       "  if (root.Bokeh !== undefined) {\n",
       "    embed_document(root);\n",
       "  } else {\n",
       "    var attempts = 0;\n",
       "    var timer = setInterval(function(root) {\n",
       "      if (root.Bokeh !== undefined) {\n",
       "        clearInterval(timer);\n",
       "        embed_document(root);\n",
       "      } else {\n",
       "        attempts++;\n",
       "        if (attempts > 100) {\n",
       "          clearInterval(timer);\n",
       "          console.log(\"Bokeh: ERROR: Unable to run BokehJS code because BokehJS library is missing\");\n",
       "        }\n",
       "      }\n",
       "    }, 10, root)\n",
       "  }\n",
       "})(window);"
      ],
      "application/vnd.bokehjs_exec.v0+json": ""
     },
     "metadata": {
      "application/vnd.bokehjs_exec.v0+json": {
       "id": "6713"
      }
     },
     "output_type": "display_data"
    }
   ],
   "source": [
    "p.title=\"Masqer la barre d'outils\"\n",
    "p.toolbar.autohide = True\n",
    "p.toolbar.logo = None\n",
    "show(p)"
   ]
  },
  {
   "cell_type": "markdown",
   "id": "hired-balance",
   "metadata": {},
   "source": [
    "## Tool tips"
   ]
  },
  {
   "cell_type": "code",
   "execution_count": 77,
   "id": "representative-queen",
   "metadata": {},
   "outputs": [
    {
     "data": {
      "text/html": [
       "\n",
       "\n",
       "\n",
       "\n",
       "\n",
       "\n",
       "  <div class=\"bk-root\" id=\"5a26a7d0-2aac-45de-b6fc-6909633476eb\" data-root-id=\"9959\"></div>\n"
      ]
     },
     "metadata": {},
     "output_type": "display_data"
    },
    {
     "data": {
      "application/javascript": [
       "(function(root) {\n",
       "  function embed_document(root) {\n",
       "    \n",
       "  var docs_json = {\"012bd9af-d163-486c-8c77-39aa595b79bb\":{\"defs\":[{\"extends\":null,\"module\":null,\"name\":\"DataModel\",\"overrides\":[],\"properties\":[]}],\"roots\":{\"references\":[{\"attributes\":{\"background_fill_color\":\"#20262B\",\"below\":[{\"id\":\"9968\"}],\"border_fill_color\":\"#15191C\",\"center\":[{\"id\":\"9971\"},{\"id\":\"9975\"}],\"height\":250,\"left\":[{\"id\":\"9972\"}],\"max_width\":400,\"outline_line_alpha\":0.25,\"outline_line_color\":\"#E0E0E0\",\"renderers\":[{\"id\":\"9981\"},{\"id\":\"9986\"}],\"sizing_mode\":\"stretch_width\",\"title\":{\"id\":\"10299\"},\"toolbar\":{\"id\":\"9976\"},\"toolbar_location\":null,\"x_range\":{\"id\":\"9960\"},\"x_scale\":{\"id\":\"9964\"},\"y_range\":{\"id\":\"9962\"},\"y_scale\":{\"id\":\"9966\"}},\"id\":\"9959\",\"subtype\":\"Figure\",\"type\":\"Plot\"},{\"attributes\":{\"data_source\":{\"id\":\"9978\"},\"glyph\":{\"id\":\"9979\"},\"hover_glyph\":null,\"muted_glyph\":null,\"nonselection_glyph\":{\"id\":\"9980\"},\"view\":{\"id\":\"9982\"}},\"id\":\"9981\",\"type\":\"GlyphRenderer\"},{\"attributes\":{},\"id\":\"9973\",\"type\":\"BasicTicker\"},{\"attributes\":{\"fill_color\":{\"value\":\"red\"},\"line_color\":{\"value\":\"red\"},\"size\":{\"value\":20},\"x\":{\"field\":\"x\"},\"y\":{\"field\":\"y\"}},\"id\":\"9984\",\"type\":\"Circle\"},{\"attributes\":{\"line_alpha\":0.1,\"line_color\":\"#1f77b4\",\"line_width\":2,\"x\":{\"field\":\"x\"},\"y\":{\"field\":\"y\"}},\"id\":\"9980\",\"type\":\"Line\"},{\"attributes\":{},\"id\":\"9962\",\"type\":\"DataRange1d\"},{\"attributes\":{},\"id\":\"10309\",\"type\":\"UnionRenderers\"},{\"attributes\":{\"source\":{\"id\":\"9978\"}},\"id\":\"9982\",\"type\":\"CDSView\"},{\"attributes\":{},\"id\":\"10310\",\"type\":\"Selection\"},{\"attributes\":{},\"id\":\"10307\",\"type\":\"UnionRenderers\"},{\"attributes\":{},\"id\":\"10303\",\"type\":\"AllLabels\"},{\"attributes\":{},\"id\":\"10308\",\"type\":\"Selection\"},{\"attributes\":{},\"id\":\"9964\",\"type\":\"LinearScale\"},{\"attributes\":{\"data\":{\"x\":[1,2,3,4,5],\"y\":[4,5,5,7,2]},\"selected\":{\"id\":\"10308\"},\"selection_policy\":{\"id\":\"10307\"}},\"id\":\"9978\",\"type\":\"ColumnDataSource\"},{\"attributes\":{},\"id\":\"10302\",\"type\":\"BasicTickFormatter\"},{\"attributes\":{},\"id\":\"9966\",\"type\":\"LinearScale\"},{\"attributes\":{},\"id\":\"10305\",\"type\":\"BasicTickFormatter\"},{\"attributes\":{},\"id\":\"10306\",\"type\":\"AllLabels\"},{\"attributes\":{\"callback\":null,\"tooltips\":\"Data point @x has the value @y\"},\"id\":\"9958\",\"type\":\"HoverTool\"},{\"attributes\":{},\"id\":\"9960\",\"type\":\"DataRange1d\"},{\"attributes\":{\"text_color\":\"#E0E0E0\",\"text_font\":\"Helvetica\",\"text_font_size\":\"1.15em\"},\"id\":\"10299\",\"type\":\"Title\"},{\"attributes\":{\"axis_label_standoff\":10,\"axis_label_text_color\":\"#E0E0E0\",\"axis_label_text_font\":\"Helvetica\",\"axis_label_text_font_size\":\"1.25em\",\"axis_label_text_font_style\":\"normal\",\"axis_line_alpha\":0,\"axis_line_color\":\"#E0E0E0\",\"formatter\":{\"id\":\"10305\"},\"major_label_policy\":{\"id\":\"10306\"},\"major_label_text_color\":\"#E0E0E0\",\"major_label_text_font\":\"Helvetica\",\"major_label_text_font_size\":\"1.025em\",\"major_tick_line_alpha\":0,\"major_tick_line_color\":\"#E0E0E0\",\"minor_tick_line_alpha\":0,\"minor_tick_line_color\":\"#E0E0E0\",\"ticker\":{\"id\":\"9969\"}},\"id\":\"9968\",\"type\":\"LinearAxis\"},{\"attributes\":{\"axis\":{\"id\":\"9972\"},\"dimension\":1,\"grid_line_alpha\":0.25,\"grid_line_color\":\"#E0E0E0\",\"ticker\":null},\"id\":\"9975\",\"type\":\"Grid\"},{\"attributes\":{\"line_color\":\"#1f77b4\",\"line_width\":2,\"x\":{\"field\":\"x\"},\"y\":{\"field\":\"y\"}},\"id\":\"9979\",\"type\":\"Line\"},{\"attributes\":{\"fill_alpha\":{\"value\":0.1},\"fill_color\":{\"value\":\"red\"},\"line_alpha\":{\"value\":0.1},\"line_color\":{\"value\":\"red\"},\"size\":{\"value\":20},\"x\":{\"field\":\"x\"},\"y\":{\"field\":\"y\"}},\"id\":\"9985\",\"type\":\"Circle\"},{\"attributes\":{\"data_source\":{\"id\":\"9983\"},\"glyph\":{\"id\":\"9984\"},\"hover_glyph\":null,\"muted_glyph\":null,\"nonselection_glyph\":{\"id\":\"9985\"},\"view\":{\"id\":\"9987\"}},\"id\":\"9986\",\"type\":\"GlyphRenderer\"},{\"attributes\":{\"active_multi\":null,\"tools\":[{\"id\":\"9958\"}]},\"id\":\"9976\",\"type\":\"Toolbar\"},{\"attributes\":{},\"id\":\"9969\",\"type\":\"BasicTicker\"},{\"attributes\":{\"axis\":{\"id\":\"9968\"},\"grid_line_alpha\":0.25,\"grid_line_color\":\"#E0E0E0\",\"ticker\":null},\"id\":\"9971\",\"type\":\"Grid\"},{\"attributes\":{\"data\":{\"x\":[1,2,3,4,5],\"y\":[4,5,5,7,2]},\"selected\":{\"id\":\"10310\"},\"selection_policy\":{\"id\":\"10309\"}},\"id\":\"9983\",\"type\":\"ColumnDataSource\"},{\"attributes\":{\"axis_label_standoff\":10,\"axis_label_text_color\":\"#E0E0E0\",\"axis_label_text_font\":\"Helvetica\",\"axis_label_text_font_size\":\"1.25em\",\"axis_label_text_font_style\":\"normal\",\"axis_line_alpha\":0,\"axis_line_color\":\"#E0E0E0\",\"formatter\":{\"id\":\"10302\"},\"major_label_policy\":{\"id\":\"10303\"},\"major_label_text_color\":\"#E0E0E0\",\"major_label_text_font\":\"Helvetica\",\"major_label_text_font_size\":\"1.025em\",\"major_tick_line_alpha\":0,\"major_tick_line_color\":\"#E0E0E0\",\"minor_tick_line_alpha\":0,\"minor_tick_line_color\":\"#E0E0E0\",\"ticker\":{\"id\":\"9973\"}},\"id\":\"9972\",\"type\":\"LinearAxis\"},{\"attributes\":{\"source\":{\"id\":\"9983\"}},\"id\":\"9987\",\"type\":\"CDSView\"}],\"root_ids\":[\"9959\"]},\"title\":\"Bokeh Application\",\"version\":\"2.3.0\"}};\n",
       "  var render_items = [{\"docid\":\"012bd9af-d163-486c-8c77-39aa595b79bb\",\"root_ids\":[\"9959\"],\"roots\":{\"9959\":\"5a26a7d0-2aac-45de-b6fc-6909633476eb\"}}];\n",
       "  root.Bokeh.embed.embed_items_notebook(docs_json, render_items);\n",
       "\n",
       "  }\n",
       "  if (root.Bokeh !== undefined) {\n",
       "    embed_document(root);\n",
       "  } else {\n",
       "    var attempts = 0;\n",
       "    var timer = setInterval(function(root) {\n",
       "      if (root.Bokeh !== undefined) {\n",
       "        clearInterval(timer);\n",
       "        embed_document(root);\n",
       "      } else {\n",
       "        attempts++;\n",
       "        if (attempts > 100) {\n",
       "          clearInterval(timer);\n",
       "          console.log(\"Bokeh: ERROR: Unable to run BokehJS code because BokehJS library is missing\");\n",
       "        }\n",
       "      }\n",
       "    }, 10, root)\n",
       "  }\n",
       "})(window);"
      ],
      "application/vnd.bokehjs_exec.v0+json": ""
     },
     "metadata": {
      "application/vnd.bokehjs_exec.v0+json": {
       "id": "9959"
      }
     },
     "output_type": "display_data"
    }
   ],
   "source": [
    "from bokeh.models.tools import HoverTool\n",
    "\n",
    "p = figure(\n",
    "    toolbar_location=None,\n",
    "    tools=[HoverTool()],\n",
    "    tooltips=\"Data point @x has the value @y\",\n",
    "    sizing_mode=\"stretch_width\",\n",
    "    plot_height=250,\n",
    "    max_width=400\n",
    ")\n",
    "\n",
    "p.line(x, y, line_width=2)\n",
    "p.circle(x, y, size=20, color='red')\n",
    "show(p)"
   ]
  },
  {
   "cell_type": "code",
   "execution_count": null,
   "id": "fleet-percentage",
   "metadata": {},
   "outputs": [],
   "source": []
  }
 ],
 "metadata": {
  "kernelspec": {
   "display_name": "Python 3",
   "language": "python",
   "name": "python3"
  },
  "language_info": {
   "codemirror_mode": {
    "name": "ipython",
    "version": 3
   },
   "file_extension": ".py",
   "mimetype": "text/x-python",
   "name": "python",
   "nbconvert_exporter": "python",
   "pygments_lexer": "ipython3",
   "version": "3.7.9"
  }
 },
 "nbformat": 4,
 "nbformat_minor": 5
}
