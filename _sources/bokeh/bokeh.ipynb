{
 "cells": [
  {
   "cell_type": "markdown",
   "id": "incoming-livestock",
   "metadata": {},
   "source": [
    "# Bokeh\n",
    "\n",
    "Bokeh est une plateforme de visualisation interactif.\n",
    "Avec seulement quelques lignes de code en Python, vous pouvez créer des graphes interactifs.\n",
    "- vous définissez votre fonctionnalité en Python\n",
    "- un module **BokehJS** en JavaScript visualize votre graphe dans une page web"
   ]
  },
  {
   "cell_type": "code",
   "execution_count": 1,
   "id": "north-sentence",
   "metadata": {},
   "outputs": [
    {
     "data": {
      "text/html": [
       "\n",
       "    <div class=\"bk-root\">\n",
       "        <a href=\"https://bokeh.org\" target=\"_blank\" class=\"bk-logo bk-logo-small bk-logo-notebook\"></a>\n",
       "        <span id=\"1001\">Loading BokehJS ...</span>\n",
       "    </div>"
      ]
     },
     "metadata": {},
     "output_type": "display_data"
    },
    {
     "data": {
      "application/javascript": [
       "\n",
       "(function(root) {\n",
       "  function now() {\n",
       "    return new Date();\n",
       "  }\n",
       "\n",
       "  var force = true;\n",
       "\n",
       "  if (typeof root._bokeh_onload_callbacks === \"undefined\" || force === true) {\n",
       "    root._bokeh_onload_callbacks = [];\n",
       "    root._bokeh_is_loading = undefined;\n",
       "  }\n",
       "\n",
       "  var JS_MIME_TYPE = 'application/javascript';\n",
       "  var HTML_MIME_TYPE = 'text/html';\n",
       "  var EXEC_MIME_TYPE = 'application/vnd.bokehjs_exec.v0+json';\n",
       "  var CLASS_NAME = 'output_bokeh rendered_html';\n",
       "\n",
       "  /**\n",
       "   * Render data to the DOM node\n",
       "   */\n",
       "  function render(props, node) {\n",
       "    var script = document.createElement(\"script\");\n",
       "    node.appendChild(script);\n",
       "  }\n",
       "\n",
       "  /**\n",
       "   * Handle when an output is cleared or removed\n",
       "   */\n",
       "  function handleClearOutput(event, handle) {\n",
       "    var cell = handle.cell;\n",
       "\n",
       "    var id = cell.output_area._bokeh_element_id;\n",
       "    var server_id = cell.output_area._bokeh_server_id;\n",
       "    // Clean up Bokeh references\n",
       "    if (id != null && id in Bokeh.index) {\n",
       "      Bokeh.index[id].model.document.clear();\n",
       "      delete Bokeh.index[id];\n",
       "    }\n",
       "\n",
       "    if (server_id !== undefined) {\n",
       "      // Clean up Bokeh references\n",
       "      var cmd = \"from bokeh.io.state import curstate; print(curstate().uuid_to_server['\" + server_id + \"'].get_sessions()[0].document.roots[0]._id)\";\n",
       "      cell.notebook.kernel.execute(cmd, {\n",
       "        iopub: {\n",
       "          output: function(msg) {\n",
       "            var id = msg.content.text.trim();\n",
       "            if (id in Bokeh.index) {\n",
       "              Bokeh.index[id].model.document.clear();\n",
       "              delete Bokeh.index[id];\n",
       "            }\n",
       "          }\n",
       "        }\n",
       "      });\n",
       "      // Destroy server and session\n",
       "      var cmd = \"import bokeh.io.notebook as ion; ion.destroy_server('\" + server_id + \"')\";\n",
       "      cell.notebook.kernel.execute(cmd);\n",
       "    }\n",
       "  }\n",
       "\n",
       "  /**\n",
       "   * Handle when a new output is added\n",
       "   */\n",
       "  function handleAddOutput(event, handle) {\n",
       "    var output_area = handle.output_area;\n",
       "    var output = handle.output;\n",
       "\n",
       "    // limit handleAddOutput to display_data with EXEC_MIME_TYPE content only\n",
       "    if ((output.output_type != \"display_data\") || (!Object.prototype.hasOwnProperty.call(output.data, EXEC_MIME_TYPE))) {\n",
       "      return\n",
       "    }\n",
       "\n",
       "    var toinsert = output_area.element.find(\".\" + CLASS_NAME.split(' ')[0]);\n",
       "\n",
       "    if (output.metadata[EXEC_MIME_TYPE][\"id\"] !== undefined) {\n",
       "      toinsert[toinsert.length - 1].firstChild.textContent = output.data[JS_MIME_TYPE];\n",
       "      // store reference to embed id on output_area\n",
       "      output_area._bokeh_element_id = output.metadata[EXEC_MIME_TYPE][\"id\"];\n",
       "    }\n",
       "    if (output.metadata[EXEC_MIME_TYPE][\"server_id\"] !== undefined) {\n",
       "      var bk_div = document.createElement(\"div\");\n",
       "      bk_div.innerHTML = output.data[HTML_MIME_TYPE];\n",
       "      var script_attrs = bk_div.children[0].attributes;\n",
       "      for (var i = 0; i < script_attrs.length; i++) {\n",
       "        toinsert[toinsert.length - 1].firstChild.setAttribute(script_attrs[i].name, script_attrs[i].value);\n",
       "        toinsert[toinsert.length - 1].firstChild.textContent = bk_div.children[0].textContent\n",
       "      }\n",
       "      // store reference to server id on output_area\n",
       "      output_area._bokeh_server_id = output.metadata[EXEC_MIME_TYPE][\"server_id\"];\n",
       "    }\n",
       "  }\n",
       "\n",
       "  function register_renderer(events, OutputArea) {\n",
       "\n",
       "    function append_mime(data, metadata, element) {\n",
       "      // create a DOM node to render to\n",
       "      var toinsert = this.create_output_subarea(\n",
       "        metadata,\n",
       "        CLASS_NAME,\n",
       "        EXEC_MIME_TYPE\n",
       "      );\n",
       "      this.keyboard_manager.register_events(toinsert);\n",
       "      // Render to node\n",
       "      var props = {data: data, metadata: metadata[EXEC_MIME_TYPE]};\n",
       "      render(props, toinsert[toinsert.length - 1]);\n",
       "      element.append(toinsert);\n",
       "      return toinsert\n",
       "    }\n",
       "\n",
       "    /* Handle when an output is cleared or removed */\n",
       "    events.on('clear_output.CodeCell', handleClearOutput);\n",
       "    events.on('delete.Cell', handleClearOutput);\n",
       "\n",
       "    /* Handle when a new output is added */\n",
       "    events.on('output_added.OutputArea', handleAddOutput);\n",
       "\n",
       "    /**\n",
       "     * Register the mime type and append_mime function with output_area\n",
       "     */\n",
       "    OutputArea.prototype.register_mime_type(EXEC_MIME_TYPE, append_mime, {\n",
       "      /* Is output safe? */\n",
       "      safe: true,\n",
       "      /* Index of renderer in `output_area.display_order` */\n",
       "      index: 0\n",
       "    });\n",
       "  }\n",
       "\n",
       "  // register the mime type if in Jupyter Notebook environment and previously unregistered\n",
       "  if (root.Jupyter !== undefined) {\n",
       "    var events = require('base/js/events');\n",
       "    var OutputArea = require('notebook/js/outputarea').OutputArea;\n",
       "\n",
       "    if (OutputArea.prototype.mime_types().indexOf(EXEC_MIME_TYPE) == -1) {\n",
       "      register_renderer(events, OutputArea);\n",
       "    }\n",
       "  }\n",
       "\n",
       "  \n",
       "  if (typeof (root._bokeh_timeout) === \"undefined\" || force === true) {\n",
       "    root._bokeh_timeout = Date.now() + 5000;\n",
       "    root._bokeh_failed_load = false;\n",
       "  }\n",
       "\n",
       "  var NB_LOAD_WARNING = {'data': {'text/html':\n",
       "     \"<div style='background-color: #fdd'>\\n\"+\n",
       "     \"<p>\\n\"+\n",
       "     \"BokehJS does not appear to have successfully loaded. If loading BokehJS from CDN, this \\n\"+\n",
       "     \"may be due to a slow or bad network connection. Possible fixes:\\n\"+\n",
       "     \"</p>\\n\"+\n",
       "     \"<ul>\\n\"+\n",
       "     \"<li>re-rerun `output_notebook()` to attempt to load from CDN again, or</li>\\n\"+\n",
       "     \"<li>use INLINE resources instead, as so:</li>\\n\"+\n",
       "     \"</ul>\\n\"+\n",
       "     \"<code>\\n\"+\n",
       "     \"from bokeh.resources import INLINE\\n\"+\n",
       "     \"output_notebook(resources=INLINE)\\n\"+\n",
       "     \"</code>\\n\"+\n",
       "     \"</div>\"}};\n",
       "\n",
       "  function display_loaded() {\n",
       "    var el = document.getElementById(\"1001\");\n",
       "    if (el != null) {\n",
       "      el.textContent = \"BokehJS is loading...\";\n",
       "    }\n",
       "    if (root.Bokeh !== undefined) {\n",
       "      if (el != null) {\n",
       "        el.textContent = \"BokehJS \" + root.Bokeh.version + \" successfully loaded.\";\n",
       "      }\n",
       "    } else if (Date.now() < root._bokeh_timeout) {\n",
       "      setTimeout(display_loaded, 100)\n",
       "    }\n",
       "  }\n",
       "\n",
       "\n",
       "  function run_callbacks() {\n",
       "    try {\n",
       "      root._bokeh_onload_callbacks.forEach(function(callback) {\n",
       "        if (callback != null)\n",
       "          callback();\n",
       "      });\n",
       "    } finally {\n",
       "      delete root._bokeh_onload_callbacks\n",
       "    }\n",
       "    console.debug(\"Bokeh: all callbacks have finished\");\n",
       "  }\n",
       "\n",
       "  function load_libs(css_urls, js_urls, callback) {\n",
       "    if (css_urls == null) css_urls = [];\n",
       "    if (js_urls == null) js_urls = [];\n",
       "\n",
       "    root._bokeh_onload_callbacks.push(callback);\n",
       "    if (root._bokeh_is_loading > 0) {\n",
       "      console.debug(\"Bokeh: BokehJS is being loaded, scheduling callback at\", now());\n",
       "      return null;\n",
       "    }\n",
       "    if (js_urls == null || js_urls.length === 0) {\n",
       "      run_callbacks();\n",
       "      return null;\n",
       "    }\n",
       "    console.debug(\"Bokeh: BokehJS not loaded, scheduling load and callback at\", now());\n",
       "    root._bokeh_is_loading = css_urls.length + js_urls.length;\n",
       "\n",
       "    function on_load() {\n",
       "      root._bokeh_is_loading--;\n",
       "      if (root._bokeh_is_loading === 0) {\n",
       "        console.debug(\"Bokeh: all BokehJS libraries/stylesheets loaded\");\n",
       "        run_callbacks()\n",
       "      }\n",
       "    }\n",
       "\n",
       "    function on_error(url) {\n",
       "      console.error(\"failed to load \" + url);\n",
       "    }\n",
       "\n",
       "    for (let i = 0; i < css_urls.length; i++) {\n",
       "      const url = css_urls[i];\n",
       "      const element = document.createElement(\"link\");\n",
       "      element.onload = on_load;\n",
       "      element.onerror = on_error.bind(null, url);\n",
       "      element.rel = \"stylesheet\";\n",
       "      element.type = \"text/css\";\n",
       "      element.href = url;\n",
       "      console.debug(\"Bokeh: injecting link tag for BokehJS stylesheet: \", url);\n",
       "      document.body.appendChild(element);\n",
       "    }\n",
       "\n",
       "    const hashes = {\"https://cdn.bokeh.org/bokeh/release/bokeh-2.3.0.min.js\": \"HjagQp6T0/7bxYTAXbLotF1MLAGWmhkY5siA1Gc/pcEgvgRPtMsRn0gQtMwGKiw1\", \"https://cdn.bokeh.org/bokeh/release/bokeh-widgets-2.3.0.min.js\": \"ZEPPTjL+mdyqgIq+/pl9KTwzji8Kow2NnI3zWY8+sFinWP/SYJ80BnfeJsa45iYj\", \"https://cdn.bokeh.org/bokeh/release/bokeh-tables-2.3.0.min.js\": \"exLqv2ACDRIaV7ZK1iL8aGzGYQvKVuT3U2CT7FsQREBxRah6JrkVCoFy0koY1YqV\"};\n",
       "\n",
       "    for (let i = 0; i < js_urls.length; i++) {\n",
       "      const url = js_urls[i];\n",
       "      const element = document.createElement('script');\n",
       "      element.onload = on_load;\n",
       "      element.onerror = on_error.bind(null, url);\n",
       "      element.async = false;\n",
       "      element.src = url;\n",
       "      if (url in hashes) {\n",
       "        element.crossOrigin = \"anonymous\";\n",
       "        element.integrity = \"sha384-\" + hashes[url];\n",
       "      }\n",
       "      console.debug(\"Bokeh: injecting script tag for BokehJS library: \", url);\n",
       "      document.head.appendChild(element);\n",
       "    }\n",
       "  };\n",
       "\n",
       "  function inject_raw_css(css) {\n",
       "    const element = document.createElement(\"style\");\n",
       "    element.appendChild(document.createTextNode(css));\n",
       "    document.body.appendChild(element);\n",
       "  }\n",
       "\n",
       "  \n",
       "  var js_urls = [\"https://cdn.bokeh.org/bokeh/release/bokeh-2.3.0.min.js\", \"https://cdn.bokeh.org/bokeh/release/bokeh-widgets-2.3.0.min.js\", \"https://cdn.bokeh.org/bokeh/release/bokeh-tables-2.3.0.min.js\"];\n",
       "  var css_urls = [];\n",
       "  \n",
       "\n",
       "  var inline_js = [\n",
       "    function(Bokeh) {\n",
       "      Bokeh.set_log_level(\"info\");\n",
       "    },\n",
       "    function(Bokeh) {\n",
       "    \n",
       "    \n",
       "    }\n",
       "  ];\n",
       "\n",
       "  function run_inline_js() {\n",
       "    \n",
       "    if (root.Bokeh !== undefined || force === true) {\n",
       "      \n",
       "    for (var i = 0; i < inline_js.length; i++) {\n",
       "      inline_js[i].call(root, root.Bokeh);\n",
       "    }\n",
       "    if (force === true) {\n",
       "        display_loaded();\n",
       "      }} else if (Date.now() < root._bokeh_timeout) {\n",
       "      setTimeout(run_inline_js, 100);\n",
       "    } else if (!root._bokeh_failed_load) {\n",
       "      console.log(\"Bokeh: BokehJS failed to load within specified timeout.\");\n",
       "      root._bokeh_failed_load = true;\n",
       "    } else if (force !== true) {\n",
       "      var cell = $(document.getElementById(\"1001\")).parents('.cell').data().cell;\n",
       "      cell.output_area.append_execute_result(NB_LOAD_WARNING)\n",
       "    }\n",
       "\n",
       "  }\n",
       "\n",
       "  if (root._bokeh_is_loading === 0) {\n",
       "    console.debug(\"Bokeh: BokehJS loaded, going straight to plotting\");\n",
       "    run_inline_js();\n",
       "  } else {\n",
       "    load_libs(css_urls, js_urls, function() {\n",
       "      console.debug(\"Bokeh: BokehJS plotting callback run at\", now());\n",
       "      run_inline_js();\n",
       "    });\n",
       "  }\n",
       "}(window));"
      ],
      "application/vnd.bokehjs_load.v0+json": "\n(function(root) {\n  function now() {\n    return new Date();\n  }\n\n  var force = true;\n\n  if (typeof root._bokeh_onload_callbacks === \"undefined\" || force === true) {\n    root._bokeh_onload_callbacks = [];\n    root._bokeh_is_loading = undefined;\n  }\n\n  \n\n  \n  if (typeof (root._bokeh_timeout) === \"undefined\" || force === true) {\n    root._bokeh_timeout = Date.now() + 5000;\n    root._bokeh_failed_load = false;\n  }\n\n  var NB_LOAD_WARNING = {'data': {'text/html':\n     \"<div style='background-color: #fdd'>\\n\"+\n     \"<p>\\n\"+\n     \"BokehJS does not appear to have successfully loaded. If loading BokehJS from CDN, this \\n\"+\n     \"may be due to a slow or bad network connection. Possible fixes:\\n\"+\n     \"</p>\\n\"+\n     \"<ul>\\n\"+\n     \"<li>re-rerun `output_notebook()` to attempt to load from CDN again, or</li>\\n\"+\n     \"<li>use INLINE resources instead, as so:</li>\\n\"+\n     \"</ul>\\n\"+\n     \"<code>\\n\"+\n     \"from bokeh.resources import INLINE\\n\"+\n     \"output_notebook(resources=INLINE)\\n\"+\n     \"</code>\\n\"+\n     \"</div>\"}};\n\n  function display_loaded() {\n    var el = document.getElementById(\"1001\");\n    if (el != null) {\n      el.textContent = \"BokehJS is loading...\";\n    }\n    if (root.Bokeh !== undefined) {\n      if (el != null) {\n        el.textContent = \"BokehJS \" + root.Bokeh.version + \" successfully loaded.\";\n      }\n    } else if (Date.now() < root._bokeh_timeout) {\n      setTimeout(display_loaded, 100)\n    }\n  }\n\n\n  function run_callbacks() {\n    try {\n      root._bokeh_onload_callbacks.forEach(function(callback) {\n        if (callback != null)\n          callback();\n      });\n    } finally {\n      delete root._bokeh_onload_callbacks\n    }\n    console.debug(\"Bokeh: all callbacks have finished\");\n  }\n\n  function load_libs(css_urls, js_urls, callback) {\n    if (css_urls == null) css_urls = [];\n    if (js_urls == null) js_urls = [];\n\n    root._bokeh_onload_callbacks.push(callback);\n    if (root._bokeh_is_loading > 0) {\n      console.debug(\"Bokeh: BokehJS is being loaded, scheduling callback at\", now());\n      return null;\n    }\n    if (js_urls == null || js_urls.length === 0) {\n      run_callbacks();\n      return null;\n    }\n    console.debug(\"Bokeh: BokehJS not loaded, scheduling load and callback at\", now());\n    root._bokeh_is_loading = css_urls.length + js_urls.length;\n\n    function on_load() {\n      root._bokeh_is_loading--;\n      if (root._bokeh_is_loading === 0) {\n        console.debug(\"Bokeh: all BokehJS libraries/stylesheets loaded\");\n        run_callbacks()\n      }\n    }\n\n    function on_error(url) {\n      console.error(\"failed to load \" + url);\n    }\n\n    for (let i = 0; i < css_urls.length; i++) {\n      const url = css_urls[i];\n      const element = document.createElement(\"link\");\n      element.onload = on_load;\n      element.onerror = on_error.bind(null, url);\n      element.rel = \"stylesheet\";\n      element.type = \"text/css\";\n      element.href = url;\n      console.debug(\"Bokeh: injecting link tag for BokehJS stylesheet: \", url);\n      document.body.appendChild(element);\n    }\n\n    const hashes = {\"https://cdn.bokeh.org/bokeh/release/bokeh-2.3.0.min.js\": \"HjagQp6T0/7bxYTAXbLotF1MLAGWmhkY5siA1Gc/pcEgvgRPtMsRn0gQtMwGKiw1\", \"https://cdn.bokeh.org/bokeh/release/bokeh-widgets-2.3.0.min.js\": \"ZEPPTjL+mdyqgIq+/pl9KTwzji8Kow2NnI3zWY8+sFinWP/SYJ80BnfeJsa45iYj\", \"https://cdn.bokeh.org/bokeh/release/bokeh-tables-2.3.0.min.js\": \"exLqv2ACDRIaV7ZK1iL8aGzGYQvKVuT3U2CT7FsQREBxRah6JrkVCoFy0koY1YqV\"};\n\n    for (let i = 0; i < js_urls.length; i++) {\n      const url = js_urls[i];\n      const element = document.createElement('script');\n      element.onload = on_load;\n      element.onerror = on_error.bind(null, url);\n      element.async = false;\n      element.src = url;\n      if (url in hashes) {\n        element.crossOrigin = \"anonymous\";\n        element.integrity = \"sha384-\" + hashes[url];\n      }\n      console.debug(\"Bokeh: injecting script tag for BokehJS library: \", url);\n      document.head.appendChild(element);\n    }\n  };\n\n  function inject_raw_css(css) {\n    const element = document.createElement(\"style\");\n    element.appendChild(document.createTextNode(css));\n    document.body.appendChild(element);\n  }\n\n  \n  var js_urls = [\"https://cdn.bokeh.org/bokeh/release/bokeh-2.3.0.min.js\", \"https://cdn.bokeh.org/bokeh/release/bokeh-widgets-2.3.0.min.js\", \"https://cdn.bokeh.org/bokeh/release/bokeh-tables-2.3.0.min.js\"];\n  var css_urls = [];\n  \n\n  var inline_js = [\n    function(Bokeh) {\n      Bokeh.set_log_level(\"info\");\n    },\n    function(Bokeh) {\n    \n    \n    }\n  ];\n\n  function run_inline_js() {\n    \n    if (root.Bokeh !== undefined || force === true) {\n      \n    for (var i = 0; i < inline_js.length; i++) {\n      inline_js[i].call(root, root.Bokeh);\n    }\n    if (force === true) {\n        display_loaded();\n      }} else if (Date.now() < root._bokeh_timeout) {\n      setTimeout(run_inline_js, 100);\n    } else if (!root._bokeh_failed_load) {\n      console.log(\"Bokeh: BokehJS failed to load within specified timeout.\");\n      root._bokeh_failed_load = true;\n    } else if (force !== true) {\n      var cell = $(document.getElementById(\"1001\")).parents('.cell').data().cell;\n      cell.output_area.append_execute_result(NB_LOAD_WARNING)\n    }\n\n  }\n\n  if (root._bokeh_is_loading === 0) {\n    console.debug(\"Bokeh: BokehJS loaded, going straight to plotting\");\n    run_inline_js();\n  } else {\n    load_libs(css_urls, js_urls, function() {\n      console.debug(\"Bokeh: BokehJS plotting callback run at\", now());\n      run_inline_js();\n    });\n  }\n}(window));"
     },
     "metadata": {},
     "output_type": "display_data"
    }
   ],
   "source": [
    "from bokeh.io import output_notebook, show\n",
    "output_notebook()"
   ]
  },
  {
   "cell_type": "markdown",
   "id": "chief-hawaiian",
   "metadata": {},
   "source": [
    "**Exercice**  \n",
    "Si vous constatez un `ModuleNotFoundError` vous devez installer le module `bokeh`. Dans Thonny choisissez le menu **Outils > Gérer les paquets…** et installez le paquet nécessaire. Vous pouvez aussi executer la commande `pip` ceci dans une cellule code.\n",
    "\n",
    "    pip install bokeh\n",
    "\n",
    "Pour installer le module `pandas`\n",
    "\n",
    "    pip install pandas\n",
    "    \n",
    "Pour la mise à jour de pip\n",
    "\n",
    "    pip install --upgrade pip"
   ]
  },
  {
   "cell_type": "markdown",
   "id": "internal-going",
   "metadata": {},
   "source": [
    "## Une simple courbe\n",
    "\n",
    "Importez les fonctions `figure` et `show`."
   ]
  },
  {
   "cell_type": "code",
   "execution_count": 10,
   "id": "distant-purchase",
   "metadata": {},
   "outputs": [],
   "source": [
    "from bokeh.plotting import figure"
   ]
  },
  {
   "cell_type": "markdown",
   "id": "clean-space",
   "metadata": {},
   "source": [
    "Créez les données."
   ]
  },
  {
   "cell_type": "code",
   "execution_count": 3,
   "id": "significant-pocket",
   "metadata": {},
   "outputs": [],
   "source": [
    "x = [1, 2, 3, 4, 5]\n",
    "y = [6, 7, 2, 4, 5]"
   ]
  },
  {
   "cell_type": "markdown",
   "id": "forbidden-robertson",
   "metadata": {},
   "source": [
    "Créez une **figure** avec un titre et des légendes."
   ]
  },
  {
   "cell_type": "code",
   "execution_count": 17,
   "id": "turkish-wagon",
   "metadata": {},
   "outputs": [],
   "source": [
    "p = figure(title=\"Simple courbe\", \n",
    "           plot_height=300,\n",
    "           x_axis_label='temps (heures)', \n",
    "           y_axis_label='temperature (degrés)')"
   ]
  },
  {
   "cell_type": "markdown",
   "id": "pharmaceutical-northeast",
   "metadata": {},
   "source": [
    "Ajoutez une **courbe (ligne)**."
   ]
  },
  {
   "cell_type": "code",
   "execution_count": 18,
   "id": "governing-promise",
   "metadata": {},
   "outputs": [
    {
     "data": {
      "text/html": [
       "<div style=\"display: table;\"><div style=\"display: table-row;\"><div style=\"display: table-cell;\"><b title=\"bokeh.models.renderers.GlyphRenderer\">GlyphRenderer</b>(</div><div style=\"display: table-cell;\">id&nbsp;=&nbsp;'1340', <span id=\"1355\" style=\"cursor: pointer;\">&hellip;)</span></div></div><div class=\"1354\" style=\"display: none;\"><div style=\"display: table-cell;\"></div><div style=\"display: table-cell;\">data_source&nbsp;=&nbsp;ColumnDataSource(id='1337', ...),</div></div><div class=\"1354\" style=\"display: none;\"><div style=\"display: table-cell;\"></div><div style=\"display: table-cell;\">glyph&nbsp;=&nbsp;Line(id='1338', ...),</div></div><div class=\"1354\" style=\"display: none;\"><div style=\"display: table-cell;\"></div><div style=\"display: table-cell;\">hover_glyph&nbsp;=&nbsp;None,</div></div><div class=\"1354\" style=\"display: none;\"><div style=\"display: table-cell;\"></div><div style=\"display: table-cell;\">js_event_callbacks&nbsp;=&nbsp;{},</div></div><div class=\"1354\" style=\"display: none;\"><div style=\"display: table-cell;\"></div><div style=\"display: table-cell;\">js_property_callbacks&nbsp;=&nbsp;{},</div></div><div class=\"1354\" style=\"display: none;\"><div style=\"display: table-cell;\"></div><div style=\"display: table-cell;\">level&nbsp;=&nbsp;'glyph',</div></div><div class=\"1354\" style=\"display: none;\"><div style=\"display: table-cell;\"></div><div style=\"display: table-cell;\">muted&nbsp;=&nbsp;False,</div></div><div class=\"1354\" style=\"display: none;\"><div style=\"display: table-cell;\"></div><div style=\"display: table-cell;\">muted_glyph&nbsp;=&nbsp;None,</div></div><div class=\"1354\" style=\"display: none;\"><div style=\"display: table-cell;\"></div><div style=\"display: table-cell;\">name&nbsp;=&nbsp;None,</div></div><div class=\"1354\" style=\"display: none;\"><div style=\"display: table-cell;\"></div><div style=\"display: table-cell;\">nonselection_glyph&nbsp;=&nbsp;Line(id='1339', ...),</div></div><div class=\"1354\" style=\"display: none;\"><div style=\"display: table-cell;\"></div><div style=\"display: table-cell;\">selection_glyph&nbsp;=&nbsp;'auto',</div></div><div class=\"1354\" style=\"display: none;\"><div style=\"display: table-cell;\"></div><div style=\"display: table-cell;\">subscribed_events&nbsp;=&nbsp;[],</div></div><div class=\"1354\" style=\"display: none;\"><div style=\"display: table-cell;\"></div><div style=\"display: table-cell;\">syncable&nbsp;=&nbsp;True,</div></div><div class=\"1354\" style=\"display: none;\"><div style=\"display: table-cell;\"></div><div style=\"display: table-cell;\">tags&nbsp;=&nbsp;[],</div></div><div class=\"1354\" style=\"display: none;\"><div style=\"display: table-cell;\"></div><div style=\"display: table-cell;\">view&nbsp;=&nbsp;CDSView(id='1341', ...),</div></div><div class=\"1354\" style=\"display: none;\"><div style=\"display: table-cell;\"></div><div style=\"display: table-cell;\">visible&nbsp;=&nbsp;True,</div></div><div class=\"1354\" style=\"display: none;\"><div style=\"display: table-cell;\"></div><div style=\"display: table-cell;\">x_range_name&nbsp;=&nbsp;'default',</div></div><div class=\"1354\" style=\"display: none;\"><div style=\"display: table-cell;\"></div><div style=\"display: table-cell;\">y_range_name&nbsp;=&nbsp;'default')</div></div></div>\n",
       "<script>\n",
       "(function() {\n",
       "  var expanded = false;\n",
       "  var ellipsis = document.getElementById(\"1355\");\n",
       "  ellipsis.addEventListener(\"click\", function() {\n",
       "    var rows = document.getElementsByClassName(\"1354\");\n",
       "    for (var i = 0; i < rows.length; i++) {\n",
       "      var el = rows[i];\n",
       "      el.style.display = expanded ? \"none\" : \"table-row\";\n",
       "    }\n",
       "    ellipsis.innerHTML = expanded ? \"&hellip;)\" : \"&lsaquo;&lsaquo;&lsaquo;\";\n",
       "    expanded = !expanded;\n",
       "  });\n",
       "})();\n",
       "</script>\n"
      ],
      "text/plain": [
       "GlyphRenderer(id='1340', ...)"
      ]
     },
     "execution_count": 18,
     "metadata": {},
     "output_type": "execute_result"
    }
   ],
   "source": [
    "p.line(x, y, legend_label=\"Temp.\", line_width=5)"
   ]
  },
  {
   "cell_type": "markdown",
   "id": "vietnamese-phenomenon",
   "metadata": {},
   "source": [
    "Affichez la figure."
   ]
  },
  {
   "cell_type": "code",
   "execution_count": 19,
   "id": "renewable-alignment",
   "metadata": {},
   "outputs": [
    {
     "data": {
      "text/html": [
       "\n",
       "\n",
       "\n",
       "\n",
       "\n",
       "\n",
       "  <div class=\"bk-root\" id=\"817ae2b5-ef5e-460c-ad59-801a652ed9f8\" data-root-id=\"1304\"></div>\n"
      ]
     },
     "metadata": {},
     "output_type": "display_data"
    },
    {
     "data": {
      "application/javascript": [
       "(function(root) {\n",
       "  function embed_document(root) {\n",
       "    \n",
       "  var docs_json = {\"92dccb34-9e19-4afd-88d2-0ba8b6169ec6\":{\"defs\":[{\"extends\":null,\"module\":null,\"name\":\"DataModel\",\"overrides\":[],\"properties\":[]}],\"roots\":{\"references\":[{\"attributes\":{\"below\":[{\"id\":\"1315\"}],\"center\":[{\"id\":\"1318\"},{\"id\":\"1322\"},{\"id\":\"1352\"}],\"height\":300,\"left\":[{\"id\":\"1319\"}],\"renderers\":[{\"id\":\"1340\"}],\"title\":{\"id\":\"1305\"},\"toolbar\":{\"id\":\"1330\"},\"x_range\":{\"id\":\"1307\"},\"x_scale\":{\"id\":\"1311\"},\"y_range\":{\"id\":\"1309\"},\"y_scale\":{\"id\":\"1313\"}},\"id\":\"1304\",\"subtype\":\"Figure\",\"type\":\"Plot\"},{\"attributes\":{},\"id\":\"1327\",\"type\":\"ResetTool\"},{\"attributes\":{\"source\":{\"id\":\"1337\"}},\"id\":\"1341\",\"type\":\"CDSView\"},{\"attributes\":{\"line_alpha\":0.1,\"line_color\":\"#1f77b4\",\"line_width\":5,\"x\":{\"field\":\"x\"},\"y\":{\"field\":\"y\"}},\"id\":\"1339\",\"type\":\"Line\"},{\"attributes\":{\"items\":[{\"id\":\"1353\"}]},\"id\":\"1352\",\"type\":\"Legend\"},{\"attributes\":{},\"id\":\"1307\",\"type\":\"DataRange1d\"},{\"attributes\":{\"data_source\":{\"id\":\"1337\"},\"glyph\":{\"id\":\"1338\"},\"hover_glyph\":null,\"muted_glyph\":null,\"nonselection_glyph\":{\"id\":\"1339\"},\"view\":{\"id\":\"1341\"}},\"id\":\"1340\",\"type\":\"GlyphRenderer\"},{\"attributes\":{},\"id\":\"1311\",\"type\":\"LinearScale\"},{\"attributes\":{},\"id\":\"1309\",\"type\":\"DataRange1d\"},{\"attributes\":{\"axis_label\":\"temps (heures)\",\"formatter\":{\"id\":\"1348\"},\"major_label_policy\":{\"id\":\"1347\"},\"ticker\":{\"id\":\"1316\"}},\"id\":\"1315\",\"type\":\"LinearAxis\"},{\"attributes\":{},\"id\":\"1313\",\"type\":\"LinearScale\"},{\"attributes\":{\"overlay\":{\"id\":\"1329\"}},\"id\":\"1325\",\"type\":\"BoxZoomTool\"},{\"attributes\":{},\"id\":\"1326\",\"type\":\"SaveTool\"},{\"attributes\":{},\"id\":\"1350\",\"type\":\"Selection\"},{\"attributes\":{\"data\":{\"x\":[1,2,3,4,5],\"y\":[6,7,2,4,5]},\"selected\":{\"id\":\"1350\"},\"selection_policy\":{\"id\":\"1349\"}},\"id\":\"1337\",\"type\":\"ColumnDataSource\"},{\"attributes\":{},\"id\":\"1316\",\"type\":\"BasicTicker\"},{\"attributes\":{\"axis\":{\"id\":\"1319\"},\"dimension\":1,\"ticker\":null},\"id\":\"1322\",\"type\":\"Grid\"},{\"attributes\":{},\"id\":\"1344\",\"type\":\"AllLabels\"},{\"attributes\":{\"bottom_units\":\"screen\",\"fill_alpha\":0.5,\"fill_color\":\"lightgrey\",\"left_units\":\"screen\",\"level\":\"overlay\",\"line_alpha\":1.0,\"line_color\":\"black\",\"line_dash\":[4,4],\"line_width\":2,\"right_units\":\"screen\",\"syncable\":false,\"top_units\":\"screen\"},\"id\":\"1329\",\"type\":\"BoxAnnotation\"},{\"attributes\":{},\"id\":\"1323\",\"type\":\"PanTool\"},{\"attributes\":{\"label\":{\"value\":\"Temp.\"},\"renderers\":[{\"id\":\"1340\"}]},\"id\":\"1353\",\"type\":\"LegendItem\"},{\"attributes\":{},\"id\":\"1324\",\"type\":\"WheelZoomTool\"},{\"attributes\":{\"active_multi\":null,\"tools\":[{\"id\":\"1323\"},{\"id\":\"1324\"},{\"id\":\"1325\"},{\"id\":\"1326\"},{\"id\":\"1327\"},{\"id\":\"1328\"}]},\"id\":\"1330\",\"type\":\"Toolbar\"},{\"attributes\":{},\"id\":\"1345\",\"type\":\"BasicTickFormatter\"},{\"attributes\":{\"axis_label\":\"temperature (degr\\u00e9s)\",\"formatter\":{\"id\":\"1345\"},\"major_label_policy\":{\"id\":\"1344\"},\"ticker\":{\"id\":\"1320\"}},\"id\":\"1319\",\"type\":\"LinearAxis\"},{\"attributes\":{},\"id\":\"1347\",\"type\":\"AllLabels\"},{\"attributes\":{\"text\":\"Simple courbe\"},\"id\":\"1305\",\"type\":\"Title\"},{\"attributes\":{},\"id\":\"1320\",\"type\":\"BasicTicker\"},{\"attributes\":{\"line_color\":\"#1f77b4\",\"line_width\":5,\"x\":{\"field\":\"x\"},\"y\":{\"field\":\"y\"}},\"id\":\"1338\",\"type\":\"Line\"},{\"attributes\":{},\"id\":\"1348\",\"type\":\"BasicTickFormatter\"},{\"attributes\":{},\"id\":\"1328\",\"type\":\"HelpTool\"},{\"attributes\":{},\"id\":\"1349\",\"type\":\"UnionRenderers\"},{\"attributes\":{\"axis\":{\"id\":\"1315\"},\"ticker\":null},\"id\":\"1318\",\"type\":\"Grid\"}],\"root_ids\":[\"1304\"]},\"title\":\"Bokeh Application\",\"version\":\"2.3.0\"}};\n",
       "  var render_items = [{\"docid\":\"92dccb34-9e19-4afd-88d2-0ba8b6169ec6\",\"root_ids\":[\"1304\"],\"roots\":{\"1304\":\"817ae2b5-ef5e-460c-ad59-801a652ed9f8\"}}];\n",
       "  root.Bokeh.embed.embed_items_notebook(docs_json, render_items);\n",
       "\n",
       "  }\n",
       "  if (root.Bokeh !== undefined) {\n",
       "    embed_document(root);\n",
       "  } else {\n",
       "    var attempts = 0;\n",
       "    var timer = setInterval(function(root) {\n",
       "      if (root.Bokeh !== undefined) {\n",
       "        clearInterval(timer);\n",
       "        embed_document(root);\n",
       "      } else {\n",
       "        attempts++;\n",
       "        if (attempts > 100) {\n",
       "          clearInterval(timer);\n",
       "          console.log(\"Bokeh: ERROR: Unable to run BokehJS code because BokehJS library is missing\");\n",
       "        }\n",
       "      }\n",
       "    }, 10, root)\n",
       "  }\n",
       "})(window);"
      ],
      "application/vnd.bokehjs_exec.v0+json": ""
     },
     "metadata": {
      "application/vnd.bokehjs_exec.v0+json": {
       "id": "1304"
      }
     },
     "output_type": "display_data"
    }
   ],
   "source": [
    "show(p)"
   ]
  },
  {
   "cell_type": "markdown",
   "id": "agreed-theater",
   "metadata": {},
   "source": [
    "Ce graphe simple a des fonctions interactives.\n",
    "Utilisesz les 7 outils pour interagir avec le graphique:\n",
    "\n",
    "1. ouvrir le site [Bokeh](https://bokeh.org)\n",
    "1. déplacer le contenu (pan)\n",
    "1. zoomer\n",
    "1. zoomer avec la roulotte\n",
    "1. enregistrer\n",
    "1. remettre à zéro\n",
    "1. trouver de l'aide\n",
    "\n",
    "Les étapes sont:\n",
    "\n",
    "1. importer le module `bokeh`\n",
    "2. créer les **données**\n",
    "3. créer une **figure**\n",
    "4. ajouter un glyphe (`line`, `circle`, ...)\n",
    "5. afficher la figure"
   ]
  },
  {
   "cell_type": "markdown",
   "id": "focused-testament",
   "metadata": {},
   "source": [
    "## Graphes multiples\n",
    "\n",
    "Multiples glyphes peuvent être ajouté à une figure."
   ]
  },
  {
   "cell_type": "code",
   "execution_count": 22,
   "id": "motivated-private",
   "metadata": {},
   "outputs": [
    {
     "data": {
      "text/html": [
       "\n",
       "\n",
       "\n",
       "\n",
       "\n",
       "\n",
       "  <div class=\"bk-root\" id=\"1011c563-af2c-497e-9d95-8ee1ad1d2dbe\" data-root-id=\"1872\"></div>\n"
      ]
     },
     "metadata": {},
     "output_type": "display_data"
    },
    {
     "data": {
      "application/javascript": [
       "(function(root) {\n",
       "  function embed_document(root) {\n",
       "    \n",
       "  var docs_json = {\"6ac1075b-a9f0-4cdf-9a5f-c2f3c311f03d\":{\"defs\":[{\"extends\":null,\"module\":null,\"name\":\"DataModel\",\"overrides\":[],\"properties\":[]}],\"roots\":{\"references\":[{\"attributes\":{\"below\":[{\"id\":\"1883\"}],\"center\":[{\"id\":\"1886\"},{\"id\":\"1890\"},{\"id\":\"1920\"}],\"height\":250,\"left\":[{\"id\":\"1887\"}],\"renderers\":[{\"id\":\"1908\"},{\"id\":\"1925\"},{\"id\":\"1943\"}],\"title\":{\"id\":\"1873\"},\"toolbar\":{\"id\":\"1898\"},\"x_range\":{\"id\":\"1875\"},\"x_scale\":{\"id\":\"1879\"},\"y_range\":{\"id\":\"1877\"},\"y_scale\":{\"id\":\"1881\"}},\"id\":\"1872\",\"subtype\":\"Figure\",\"type\":\"Plot\"},{\"attributes\":{\"data_source\":{\"id\":\"1922\"},\"glyph\":{\"id\":\"1923\"},\"hover_glyph\":null,\"muted_glyph\":null,\"nonselection_glyph\":{\"id\":\"1924\"},\"view\":{\"id\":\"1926\"}},\"id\":\"1925\",\"type\":\"GlyphRenderer\"},{\"attributes\":{},\"id\":\"1888\",\"type\":\"BasicTicker\"},{\"attributes\":{},\"id\":\"1915\",\"type\":\"AllLabels\"},{\"attributes\":{},\"id\":\"1937\",\"type\":\"Selection\"},{\"attributes\":{\"data\":{\"x\":[1,2,3,4,5],\"y\":[2,3,4,5,6]},\"selected\":{\"id\":\"1937\"},\"selection_policy\":{\"id\":\"1936\"}},\"id\":\"1922\",\"type\":\"ColumnDataSource\"},{\"attributes\":{\"source\":{\"id\":\"1940\"}},\"id\":\"1944\",\"type\":\"CDSView\"},{\"attributes\":{\"line_alpha\":0.1,\"line_color\":\"green\",\"line_width\":2,\"x\":{\"field\":\"x\"},\"y\":{\"field\":\"y\"}},\"id\":\"1942\",\"type\":\"Line\"},{\"attributes\":{},\"id\":\"1912\",\"type\":\"AllLabels\"},{\"attributes\":{\"source\":{\"id\":\"1905\"}},\"id\":\"1909\",\"type\":\"CDSView\"},{\"attributes\":{\"axis\":{\"id\":\"1887\"},\"dimension\":1,\"ticker\":null},\"id\":\"1890\",\"type\":\"Grid\"},{\"attributes\":{},\"id\":\"1936\",\"type\":\"UnionRenderers\"},{\"attributes\":{\"formatter\":{\"id\":\"1913\"},\"major_label_policy\":{\"id\":\"1912\"},\"ticker\":{\"id\":\"1888\"}},\"id\":\"1887\",\"type\":\"LinearAxis\"},{\"attributes\":{\"data_source\":{\"id\":\"1940\"},\"glyph\":{\"id\":\"1941\"},\"hover_glyph\":null,\"muted_glyph\":null,\"nonselection_glyph\":{\"id\":\"1942\"},\"view\":{\"id\":\"1944\"}},\"id\":\"1943\",\"type\":\"GlyphRenderer\"},{\"attributes\":{\"line_color\":\"blue\",\"line_width\":2,\"x\":{\"field\":\"x\"},\"y\":{\"field\":\"y\"}},\"id\":\"1906\",\"type\":\"Line\"},{\"attributes\":{\"label\":{\"value\":\"Rate\"},\"renderers\":[{\"id\":\"1925\"}]},\"id\":\"1939\",\"type\":\"LegendItem\"},{\"attributes\":{},\"id\":\"1918\",\"type\":\"Selection\"},{\"attributes\":{\"items\":[{\"id\":\"1921\"},{\"id\":\"1939\"},{\"id\":\"1959\"}]},\"id\":\"1920\",\"type\":\"Legend\"},{\"attributes\":{\"data\":{\"x\":[1,2,3,4,5],\"y\":[6,7,2,4,5]},\"selected\":{\"id\":\"1918\"},\"selection_policy\":{\"id\":\"1917\"}},\"id\":\"1905\",\"type\":\"ColumnDataSource\"},{\"attributes\":{\"line_color\":\"green\",\"line_width\":2,\"x\":{\"field\":\"x\"},\"y\":{\"field\":\"y\"}},\"id\":\"1941\",\"type\":\"Line\"},{\"attributes\":{\"bottom_units\":\"screen\",\"fill_alpha\":0.5,\"fill_color\":\"lightgrey\",\"left_units\":\"screen\",\"level\":\"overlay\",\"line_alpha\":1.0,\"line_color\":\"black\",\"line_dash\":[4,4],\"line_width\":2,\"right_units\":\"screen\",\"syncable\":false,\"top_units\":\"screen\"},\"id\":\"1897\",\"type\":\"BoxAnnotation\"},{\"attributes\":{\"line_color\":\"red\",\"line_width\":2,\"x\":{\"field\":\"x\"},\"y\":{\"field\":\"y\"}},\"id\":\"1923\",\"type\":\"Line\"},{\"attributes\":{\"text\":\"Courbes multiples\"},\"id\":\"1873\",\"type\":\"Title\"},{\"attributes\":{},\"id\":\"1891\",\"type\":\"PanTool\"},{\"attributes\":{},\"id\":\"1917\",\"type\":\"UnionRenderers\"},{\"attributes\":{},\"id\":\"1875\",\"type\":\"DataRange1d\"},{\"attributes\":{\"label\":{\"value\":\"Objects\"},\"renderers\":[{\"id\":\"1943\"}]},\"id\":\"1959\",\"type\":\"LegendItem\"},{\"attributes\":{},\"id\":\"1892\",\"type\":\"WheelZoomTool\"},{\"attributes\":{},\"id\":\"1879\",\"type\":\"LinearScale\"},{\"attributes\":{},\"id\":\"1913\",\"type\":\"BasicTickFormatter\"},{\"attributes\":{\"overlay\":{\"id\":\"1897\"}},\"id\":\"1893\",\"type\":\"BoxZoomTool\"},{\"attributes\":{\"source\":{\"id\":\"1922\"}},\"id\":\"1926\",\"type\":\"CDSView\"},{\"attributes\":{},\"id\":\"1894\",\"type\":\"SaveTool\"},{\"attributes\":{},\"id\":\"1895\",\"type\":\"ResetTool\"},{\"attributes\":{},\"id\":\"1956\",\"type\":\"UnionRenderers\"},{\"attributes\":{},\"id\":\"1877\",\"type\":\"DataRange1d\"},{\"attributes\":{},\"id\":\"1916\",\"type\":\"BasicTickFormatter\"},{\"attributes\":{\"label\":{\"value\":\"Temp.\"},\"renderers\":[{\"id\":\"1908\"}]},\"id\":\"1921\",\"type\":\"LegendItem\"},{\"attributes\":{},\"id\":\"1957\",\"type\":\"Selection\"},{\"attributes\":{},\"id\":\"1881\",\"type\":\"LinearScale\"},{\"attributes\":{},\"id\":\"1896\",\"type\":\"HelpTool\"},{\"attributes\":{\"axis\":{\"id\":\"1883\"},\"ticker\":null},\"id\":\"1886\",\"type\":\"Grid\"},{\"attributes\":{\"data\":{\"x\":[1,2,3,4,5],\"y\":[4,5,5,7,2]},\"selected\":{\"id\":\"1957\"},\"selection_policy\":{\"id\":\"1956\"}},\"id\":\"1940\",\"type\":\"ColumnDataSource\"},{\"attributes\":{\"formatter\":{\"id\":\"1916\"},\"major_label_policy\":{\"id\":\"1915\"},\"ticker\":{\"id\":\"1884\"}},\"id\":\"1883\",\"type\":\"LinearAxis\"},{\"attributes\":{\"active_multi\":null,\"tools\":[{\"id\":\"1891\"},{\"id\":\"1892\"},{\"id\":\"1893\"},{\"id\":\"1894\"},{\"id\":\"1895\"},{\"id\":\"1896\"}]},\"id\":\"1898\",\"type\":\"Toolbar\"},{\"attributes\":{\"data_source\":{\"id\":\"1905\"},\"glyph\":{\"id\":\"1906\"},\"hover_glyph\":null,\"muted_glyph\":null,\"nonselection_glyph\":{\"id\":\"1907\"},\"view\":{\"id\":\"1909\"}},\"id\":\"1908\",\"type\":\"GlyphRenderer\"},{\"attributes\":{},\"id\":\"1884\",\"type\":\"BasicTicker\"},{\"attributes\":{\"line_alpha\":0.1,\"line_color\":\"red\",\"line_width\":2,\"x\":{\"field\":\"x\"},\"y\":{\"field\":\"y\"}},\"id\":\"1924\",\"type\":\"Line\"},{\"attributes\":{\"line_alpha\":0.1,\"line_color\":\"blue\",\"line_width\":2,\"x\":{\"field\":\"x\"},\"y\":{\"field\":\"y\"}},\"id\":\"1907\",\"type\":\"Line\"}],\"root_ids\":[\"1872\"]},\"title\":\"Bokeh Application\",\"version\":\"2.3.0\"}};\n",
       "  var render_items = [{\"docid\":\"6ac1075b-a9f0-4cdf-9a5f-c2f3c311f03d\",\"root_ids\":[\"1872\"],\"roots\":{\"1872\":\"1011c563-af2c-497e-9d95-8ee1ad1d2dbe\"}}];\n",
       "  root.Bokeh.embed.embed_items_notebook(docs_json, render_items);\n",
       "\n",
       "  }\n",
       "  if (root.Bokeh !== undefined) {\n",
       "    embed_document(root);\n",
       "  } else {\n",
       "    var attempts = 0;\n",
       "    var timer = setInterval(function(root) {\n",
       "      if (root.Bokeh !== undefined) {\n",
       "        clearInterval(timer);\n",
       "        embed_document(root);\n",
       "      } else {\n",
       "        attempts++;\n",
       "        if (attempts > 100) {\n",
       "          clearInterval(timer);\n",
       "          console.log(\"Bokeh: ERROR: Unable to run BokehJS code because BokehJS library is missing\");\n",
       "        }\n",
       "      }\n",
       "    }, 10, root)\n",
       "  }\n",
       "})(window);"
      ],
      "application/vnd.bokehjs_exec.v0+json": ""
     },
     "metadata": {
      "application/vnd.bokehjs_exec.v0+json": {
       "id": "1872"
      }
     },
     "output_type": "display_data"
    }
   ],
   "source": [
    "x = [1, 2, 3, 4, 5]\n",
    "y1 = [6, 7, 2, 4, 5]\n",
    "y2 = [2, 3, 4, 5, 6]\n",
    "y3 = [4, 5, 5, 7, 2]\n",
    "\n",
    "p = figure(title=\"Courbes multiples\", plot_height=250)\n",
    "\n",
    "# add multiple renderers\n",
    "p.line(x, y1, legend_label=\"Temp.\", line_color=\"blue\", line_width=2)\n",
    "p.line(x, y2, legend_label=\"Rate\", line_color=\"red\", line_width=2)\n",
    "p.line(x, y3, legend_label=\"Objects\", line_color=\"green\", line_width=2)\n",
    "\n",
    "show(p)"
   ]
  },
  {
   "cell_type": "markdown",
   "id": "fallen-surface",
   "metadata": {},
   "source": [
    "En résumé\n",
    "\n",
    "- préparer des données\n",
    "- créer une figure()\n",
    "- ajouter les éléments graphiques\n",
    "- afficher /en HTML)"
   ]
  },
  {
   "cell_type": "markdown",
   "id": "beneficial-tucson",
   "metadata": {},
   "source": [
    "## Configurer"
   ]
  },
  {
   "cell_type": "code",
   "execution_count": 25,
   "id": "tracked-sampling",
   "metadata": {},
   "outputs": [
    {
     "data": {
      "text/html": [
       "\n",
       "\n",
       "\n",
       "\n",
       "\n",
       "\n",
       "  <div class=\"bk-root\" id=\"1177d5dd-c8ae-49d6-a6be-ba475c72f2a7\" data-root-id=\"2479\"></div>\n"
      ]
     },
     "metadata": {},
     "output_type": "display_data"
    },
    {
     "data": {
      "application/javascript": [
       "(function(root) {\n",
       "  function embed_document(root) {\n",
       "    \n",
       "  var docs_json = {\"fb2d6f7a-15b7-483a-b19e-38ec07540f8b\":{\"defs\":[{\"extends\":null,\"module\":null,\"name\":\"DataModel\",\"overrides\":[],\"properties\":[]}],\"roots\":{\"references\":[{\"attributes\":{\"below\":[{\"id\":\"2488\"}],\"center\":[{\"id\":\"2491\"},{\"id\":\"2495\"}],\"height\":250,\"left\":[{\"id\":\"2492\"}],\"renderers\":[{\"id\":\"2513\"}],\"title\":{\"id\":\"2616\"},\"toolbar\":{\"id\":\"2503\"},\"x_range\":{\"id\":\"2480\"},\"x_scale\":{\"id\":\"2484\"},\"y_range\":{\"id\":\"2482\"},\"y_scale\":{\"id\":\"2486\"}},\"id\":\"2479\",\"subtype\":\"Figure\",\"type\":\"Plot\"},{\"attributes\":{\"axis\":{\"id\":\"2492\"},\"dimension\":1,\"ticker\":null},\"id\":\"2495\",\"type\":\"Grid\"},{\"attributes\":{\"axis\":{\"id\":\"2488\"},\"ticker\":null},\"id\":\"2491\",\"type\":\"Grid\"},{\"attributes\":{},\"id\":\"2493\",\"type\":\"BasicTicker\"},{\"attributes\":{},\"id\":\"2484\",\"type\":\"LinearScale\"},{\"attributes\":{},\"id\":\"2616\",\"type\":\"Title\"},{\"attributes\":{},\"id\":\"2480\",\"type\":\"DataRange1d\"},{\"attributes\":{\"formatter\":{\"id\":\"2622\"},\"major_label_policy\":{\"id\":\"2621\"},\"ticker\":{\"id\":\"2489\"}},\"id\":\"2488\",\"type\":\"LinearAxis\"},{\"attributes\":{\"bottom_units\":\"screen\",\"fill_alpha\":0.5,\"fill_color\":\"lightgrey\",\"left_units\":\"screen\",\"level\":\"overlay\",\"line_alpha\":1.0,\"line_color\":\"black\",\"line_dash\":[4,4],\"line_width\":2,\"right_units\":\"screen\",\"syncable\":false,\"top_units\":\"screen\"},\"id\":\"2502\",\"type\":\"BoxAnnotation\"},{\"attributes\":{\"active_multi\":null,\"tools\":[{\"id\":\"2496\"},{\"id\":\"2497\"},{\"id\":\"2498\"},{\"id\":\"2499\"},{\"id\":\"2500\"},{\"id\":\"2501\"}]},\"id\":\"2503\",\"type\":\"Toolbar\"},{\"attributes\":{\"data\":{\"x\":[1,2,3,4,5],\"y\":[6,7,2,4,5]},\"selected\":{\"id\":\"2624\"},\"selection_policy\":{\"id\":\"2623\"}},\"id\":\"2510\",\"type\":\"ColumnDataSource\"},{\"attributes\":{\"fill_alpha\":{\"value\":0.1},\"fill_color\":{\"value\":\"#1f77b4\"},\"line_alpha\":{\"value\":0.1},\"line_color\":{\"value\":\"#1f77b4\"},\"size\":{\"value\":30},\"x\":{\"field\":\"x\"},\"y\":{\"field\":\"y\"}},\"id\":\"2512\",\"type\":\"Circle\"},{\"attributes\":{},\"id\":\"2496\",\"type\":\"PanTool\"},{\"attributes\":{\"formatter\":{\"id\":\"2619\"},\"major_label_policy\":{\"id\":\"2618\"},\"ticker\":{\"id\":\"2493\"}},\"id\":\"2492\",\"type\":\"LinearAxis\"},{\"attributes\":{\"source\":{\"id\":\"2510\"}},\"id\":\"2514\",\"type\":\"CDSView\"},{\"attributes\":{},\"id\":\"2497\",\"type\":\"WheelZoomTool\"},{\"attributes\":{},\"id\":\"2618\",\"type\":\"AllLabels\"},{\"attributes\":{\"overlay\":{\"id\":\"2502\"}},\"id\":\"2498\",\"type\":\"BoxZoomTool\"},{\"attributes\":{\"fill_color\":{\"value\":\"#1f77b4\"},\"line_color\":{\"value\":\"#1f77b4\"},\"size\":{\"value\":30},\"x\":{\"field\":\"x\"},\"y\":{\"field\":\"y\"}},\"id\":\"2511\",\"type\":\"Circle\"},{\"attributes\":{},\"id\":\"2619\",\"type\":\"BasicTickFormatter\"},{\"attributes\":{},\"id\":\"2499\",\"type\":\"SaveTool\"},{\"attributes\":{},\"id\":\"2489\",\"type\":\"BasicTicker\"},{\"attributes\":{},\"id\":\"2482\",\"type\":\"DataRange1d\"},{\"attributes\":{},\"id\":\"2500\",\"type\":\"ResetTool\"},{\"attributes\":{\"data_source\":{\"id\":\"2510\"},\"glyph\":{\"id\":\"2511\"},\"hover_glyph\":null,\"muted_glyph\":null,\"nonselection_glyph\":{\"id\":\"2512\"},\"view\":{\"id\":\"2514\"}},\"id\":\"2513\",\"type\":\"GlyphRenderer\"},{\"attributes\":{},\"id\":\"2621\",\"type\":\"AllLabels\"},{\"attributes\":{},\"id\":\"2622\",\"type\":\"BasicTickFormatter\"},{\"attributes\":{},\"id\":\"2501\",\"type\":\"HelpTool\"},{\"attributes\":{},\"id\":\"2624\",\"type\":\"Selection\"},{\"attributes\":{},\"id\":\"2623\",\"type\":\"UnionRenderers\"},{\"attributes\":{},\"id\":\"2486\",\"type\":\"LinearScale\"}],\"root_ids\":[\"2479\"]},\"title\":\"Bokeh Application\",\"version\":\"2.3.0\"}};\n",
       "  var render_items = [{\"docid\":\"fb2d6f7a-15b7-483a-b19e-38ec07540f8b\",\"root_ids\":[\"2479\"],\"roots\":{\"2479\":\"1177d5dd-c8ae-49d6-a6be-ba475c72f2a7\"}}];\n",
       "  root.Bokeh.embed.embed_items_notebook(docs_json, render_items);\n",
       "\n",
       "  }\n",
       "  if (root.Bokeh !== undefined) {\n",
       "    embed_document(root);\n",
       "  } else {\n",
       "    var attempts = 0;\n",
       "    var timer = setInterval(function(root) {\n",
       "      if (root.Bokeh !== undefined) {\n",
       "        clearInterval(timer);\n",
       "        embed_document(root);\n",
       "      } else {\n",
       "        attempts++;\n",
       "        if (attempts > 100) {\n",
       "          clearInterval(timer);\n",
       "          console.log(\"Bokeh: ERROR: Unable to run BokehJS code because BokehJS library is missing\");\n",
       "        }\n",
       "      }\n",
       "    }, 10, root)\n",
       "  }\n",
       "})(window);"
      ],
      "application/vnd.bokehjs_exec.v0+json": ""
     },
     "metadata": {
      "application/vnd.bokehjs_exec.v0+json": {
       "id": "2479"
      }
     },
     "output_type": "display_data"
    }
   ],
   "source": [
    "p = figure(plot_height=250)\n",
    "p.circle(x, y, size=30)\n",
    "show(p)"
   ]
  },
  {
   "cell_type": "code",
   "execution_count": 37,
   "id": "generous-bread",
   "metadata": {},
   "outputs": [
    {
     "data": {
      "text/html": [
       "\n",
       "\n",
       "\n",
       "\n",
       "\n",
       "\n",
       "  <div class=\"bk-root\" id=\"027e2758-374b-438b-84bd-c5806a30e9a2\" data-root-id=\"6105\"></div>\n"
      ]
     },
     "metadata": {},
     "output_type": "display_data"
    },
    {
     "data": {
      "application/javascript": [
       "(function(root) {\n",
       "  function embed_document(root) {\n",
       "    \n",
       "  var docs_json = {\"c9137f27-b7ec-4319-b857-8d5bb2d4c226\":{\"defs\":[{\"extends\":null,\"module\":null,\"name\":\"DataModel\",\"overrides\":[],\"properties\":[]}],\"roots\":{\"references\":[{\"attributes\":{\"below\":[{\"id\":\"6116\"}],\"center\":[{\"id\":\"6119\"},{\"id\":\"6123\"},{\"id\":\"6153\"}],\"height\":250,\"left\":[{\"id\":\"6120\"}],\"renderers\":[{\"id\":\"6141\"},{\"id\":\"6158\"},{\"id\":\"6176\"}],\"title\":{\"id\":\"6106\"},\"toolbar\":{\"id\":\"6131\"},\"x_range\":{\"id\":\"6108\"},\"x_scale\":{\"id\":\"6112\"},\"y_range\":{\"id\":\"6110\"},\"y_scale\":{\"id\":\"6114\"}},\"id\":\"6105\",\"subtype\":\"Figure\",\"type\":\"Plot\"},{\"attributes\":{\"label\":{\"value\":\"Temp.\"},\"renderers\":[{\"id\":\"6141\"}]},\"id\":\"6154\",\"type\":\"LegendItem\"},{\"attributes\":{},\"id\":\"6169\",\"type\":\"UnionRenderers\"},{\"attributes\":{\"line_alpha\":0.1,\"line_color\":\"blue\",\"line_width\":2,\"x\":{\"field\":\"x\"},\"y\":{\"field\":\"y\"}},\"id\":\"6140\",\"type\":\"Line\"},{\"attributes\":{},\"id\":\"6151\",\"type\":\"Selection\"},{\"attributes\":{},\"id\":\"6170\",\"type\":\"Selection\"},{\"attributes\":{\"axis\":{\"id\":\"6120\"},\"dimension\":1,\"ticker\":null},\"id\":\"6123\",\"type\":\"Grid\"},{\"attributes\":{},\"id\":\"6148\",\"type\":\"AllLabels\"},{\"attributes\":{},\"id\":\"6112\",\"type\":\"LinearScale\"},{\"attributes\":{\"items\":[{\"id\":\"6154\"},{\"id\":\"6172\"},{\"id\":\"6192\"}]},\"id\":\"6153\",\"type\":\"Legend\"},{\"attributes\":{\"source\":{\"id\":\"6138\"}},\"id\":\"6142\",\"type\":\"CDSView\"},{\"attributes\":{},\"id\":\"6117\",\"type\":\"BasicTicker\"},{\"attributes\":{\"data\":{\"top\":[2,3,4,5,6],\"x\":[1,2,3,4,5]},\"selected\":{\"id\":\"6170\"},\"selection_policy\":{\"id\":\"6169\"}},\"id\":\"6155\",\"type\":\"ColumnDataSource\"},{\"attributes\":{\"fill_color\":{\"value\":\"red\"},\"line_color\":{\"value\":\"red\"},\"top\":{\"field\":\"top\"},\"width\":{\"value\":0.2},\"x\":{\"field\":\"x\"}},\"id\":\"6156\",\"type\":\"VBar\"},{\"attributes\":{},\"id\":\"6114\",\"type\":\"LinearScale\"},{\"attributes\":{\"line_color\":\"blue\",\"line_width\":2,\"x\":{\"field\":\"x\"},\"y\":{\"field\":\"y\"}},\"id\":\"6139\",\"type\":\"Line\"},{\"attributes\":{\"bottom_units\":\"screen\",\"fill_alpha\":0.5,\"fill_color\":\"lightgrey\",\"left_units\":\"screen\",\"level\":\"overlay\",\"line_alpha\":1.0,\"line_color\":\"black\",\"line_dash\":[4,4],\"line_width\":2,\"right_units\":\"screen\",\"syncable\":false,\"top_units\":\"screen\"},\"id\":\"6130\",\"type\":\"BoxAnnotation\"},{\"attributes\":{\"source\":{\"id\":\"6155\"}},\"id\":\"6159\",\"type\":\"CDSView\"},{\"attributes\":{},\"id\":\"6149\",\"type\":\"BasicTickFormatter\"},{\"attributes\":{},\"id\":\"6145\",\"type\":\"AllLabels\"},{\"attributes\":{\"label\":{\"value\":\"Objects\"},\"renderers\":[{\"id\":\"6176\"}]},\"id\":\"6192\",\"type\":\"LegendItem\"},{\"attributes\":{\"data\":{\"x\":[1,2,3,4,5],\"y\":[4,5,5,7,2]},\"selected\":{\"id\":\"6190\"},\"selection_policy\":{\"id\":\"6189\"}},\"id\":\"6173\",\"type\":\"ColumnDataSource\"},{\"attributes\":{},\"id\":\"6110\",\"type\":\"DataRange1d\"},{\"attributes\":{\"source\":{\"id\":\"6173\"}},\"id\":\"6177\",\"type\":\"CDSView\"},{\"attributes\":{},\"id\":\"6124\",\"type\":\"PanTool\"},{\"attributes\":{},\"id\":\"6150\",\"type\":\"UnionRenderers\"},{\"attributes\":{\"fill_color\":{\"value\":\"#1f77b4\"},\"line_color\":{\"value\":\"yellow\"},\"size\":{\"value\":12},\"x\":{\"field\":\"x\"},\"y\":{\"field\":\"y\"}},\"id\":\"6174\",\"type\":\"Circle\"},{\"attributes\":{},\"id\":\"6125\",\"type\":\"WheelZoomTool\"},{\"attributes\":{\"data_source\":{\"id\":\"6138\"},\"glyph\":{\"id\":\"6139\"},\"hover_glyph\":null,\"muted_glyph\":null,\"nonselection_glyph\":{\"id\":\"6140\"},\"view\":{\"id\":\"6142\"}},\"id\":\"6141\",\"type\":\"GlyphRenderer\"},{\"attributes\":{\"overlay\":{\"id\":\"6130\"}},\"id\":\"6126\",\"type\":\"BoxZoomTool\"},{\"attributes\":{},\"id\":\"6189\",\"type\":\"UnionRenderers\"},{\"attributes\":{\"data_source\":{\"id\":\"6155\"},\"glyph\":{\"id\":\"6156\"},\"hover_glyph\":null,\"muted_glyph\":null,\"nonselection_glyph\":{\"id\":\"6157\"},\"view\":{\"id\":\"6159\"}},\"id\":\"6158\",\"type\":\"GlyphRenderer\"},{\"attributes\":{\"formatter\":{\"id\":\"6146\"},\"major_label_policy\":{\"id\":\"6145\"},\"ticker\":{\"id\":\"6121\"}},\"id\":\"6120\",\"type\":\"LinearAxis\"},{\"attributes\":{},\"id\":\"6127\",\"type\":\"SaveTool\"},{\"attributes\":{},\"id\":\"6146\",\"type\":\"BasicTickFormatter\"},{\"attributes\":{\"fill_alpha\":{\"value\":0.1},\"fill_color\":{\"value\":\"#1f77b4\"},\"line_alpha\":{\"value\":0.1},\"line_color\":{\"value\":\"yellow\"},\"size\":{\"value\":12},\"x\":{\"field\":\"x\"},\"y\":{\"field\":\"y\"}},\"id\":\"6175\",\"type\":\"Circle\"},{\"attributes\":{},\"id\":\"6128\",\"type\":\"ResetTool\"},{\"attributes\":{\"active_multi\":null,\"tools\":[{\"id\":\"6124\"},{\"id\":\"6125\"},{\"id\":\"6126\"},{\"id\":\"6127\"},{\"id\":\"6128\"},{\"id\":\"6129\"}]},\"id\":\"6131\",\"type\":\"Toolbar\"},{\"attributes\":{\"data_source\":{\"id\":\"6173\"},\"glyph\":{\"id\":\"6174\"},\"hover_glyph\":null,\"muted_glyph\":null,\"nonselection_glyph\":{\"id\":\"6175\"},\"view\":{\"id\":\"6177\"}},\"id\":\"6176\",\"type\":\"GlyphRenderer\"},{\"attributes\":{\"fill_alpha\":{\"value\":0.1},\"fill_color\":{\"value\":\"red\"},\"line_alpha\":{\"value\":0.1},\"line_color\":{\"value\":\"red\"},\"top\":{\"field\":\"top\"},\"width\":{\"value\":0.2},\"x\":{\"field\":\"x\"}},\"id\":\"6157\",\"type\":\"VBar\"},{\"attributes\":{},\"id\":\"6129\",\"type\":\"HelpTool\"},{\"attributes\":{},\"id\":\"6121\",\"type\":\"BasicTicker\"},{\"attributes\":{\"data\":{\"x\":[1,2,3,4,5],\"y\":[6,7,2,4,5]},\"selected\":{\"id\":\"6151\"},\"selection_policy\":{\"id\":\"6150\"}},\"id\":\"6138\",\"type\":\"ColumnDataSource\"},{\"attributes\":{\"label\":{\"value\":\"Rate\"},\"renderers\":[{\"id\":\"6158\"}]},\"id\":\"6172\",\"type\":\"LegendItem\"},{\"attributes\":{},\"id\":\"6190\",\"type\":\"Selection\"},{\"attributes\":{\"axis\":{\"id\":\"6116\"},\"ticker\":null},\"id\":\"6119\",\"type\":\"Grid\"},{\"attributes\":{},\"id\":\"6108\",\"type\":\"DataRange1d\"},{\"attributes\":{\"text\":\"Courbes multiples\"},\"id\":\"6106\",\"type\":\"Title\"},{\"attributes\":{\"formatter\":{\"id\":\"6149\"},\"major_label_policy\":{\"id\":\"6148\"},\"ticker\":{\"id\":\"6117\"}},\"id\":\"6116\",\"type\":\"LinearAxis\"}],\"root_ids\":[\"6105\"]},\"title\":\"Bokeh Application\",\"version\":\"2.3.0\"}};\n",
       "  var render_items = [{\"docid\":\"c9137f27-b7ec-4319-b857-8d5bb2d4c226\",\"root_ids\":[\"6105\"],\"roots\":{\"6105\":\"027e2758-374b-438b-84bd-c5806a30e9a2\"}}];\n",
       "  root.Bokeh.embed.embed_items_notebook(docs_json, render_items);\n",
       "\n",
       "  }\n",
       "  if (root.Bokeh !== undefined) {\n",
       "    embed_document(root);\n",
       "  } else {\n",
       "    var attempts = 0;\n",
       "    var timer = setInterval(function(root) {\n",
       "      if (root.Bokeh !== undefined) {\n",
       "        clearInterval(timer);\n",
       "        embed_document(root);\n",
       "      } else {\n",
       "        attempts++;\n",
       "        if (attempts > 100) {\n",
       "          clearInterval(timer);\n",
       "          console.log(\"Bokeh: ERROR: Unable to run BokehJS code because BokehJS library is missing\");\n",
       "        }\n",
       "      }\n",
       "    }, 10, root)\n",
       "  }\n",
       "})(window);"
      ],
      "application/vnd.bokehjs_exec.v0+json": ""
     },
     "metadata": {
      "application/vnd.bokehjs_exec.v0+json": {
       "id": "6105"
      }
     },
     "output_type": "display_data"
    }
   ],
   "source": [
    "p = figure(title=\"Courbes multiples\", plot_height=250)\n",
    "\n",
    "# add multiple renderers\n",
    "p.line(x, y1, legend_label=\"Temp.\", line_color=\"blue\", line_width=2)\n",
    "p.vbar(x=x, top=y2, legend_label=\"Rate\", width=0.2, bottom=0, color=\"red\")\n",
    "p.circle(x, y3, legend_label=\"Objects\", line_color=\"yellow\", size=12)\n",
    "\n",
    "show(p)"
   ]
  },
  {
   "cell_type": "code",
   "execution_count": 30,
   "id": "republican-single",
   "metadata": {},
   "outputs": [
    {
     "data": {
      "text/html": [
       "\n",
       "\n",
       "\n",
       "\n",
       "\n",
       "\n",
       "  <div class=\"bk-root\" id=\"f2f2f46a-bf6d-4b4a-a402-09d866d8d0ba\" data-root-id=\"3859\"></div>\n"
      ]
     },
     "metadata": {},
     "output_type": "display_data"
    },
    {
     "data": {
      "application/javascript": [
       "(function(root) {\n",
       "  function embed_document(root) {\n",
       "    \n",
       "  var docs_json = {\"e90578a8-2162-4a07-bdd7-6f93c4904ff9\":{\"defs\":[{\"extends\":null,\"module\":null,\"name\":\"DataModel\",\"overrides\":[],\"properties\":[]}],\"roots\":{\"references\":[{\"attributes\":{\"below\":[{\"id\":\"3868\"}],\"center\":[{\"id\":\"3871\"},{\"id\":\"3875\"}],\"height\":250,\"left\":[{\"id\":\"3872\"}],\"renderers\":[{\"id\":\"3893\"}],\"title\":{\"id\":\"4045\"},\"toolbar\":{\"id\":\"3883\"},\"x_range\":{\"id\":\"3860\"},\"x_scale\":{\"id\":\"3864\"},\"y_range\":{\"id\":\"3862\"},\"y_scale\":{\"id\":\"3866\"}},\"id\":\"3859\",\"subtype\":\"Figure\",\"type\":\"Plot\"},{\"attributes\":{},\"id\":\"4052\",\"type\":\"UnionRenderers\"},{\"attributes\":{\"formatter\":{\"id\":\"4048\"},\"major_label_policy\":{\"id\":\"4047\"},\"ticker\":{\"id\":\"3873\"}},\"id\":\"3872\",\"type\":\"LinearAxis\"},{\"attributes\":{\"data\":{\"x\":[1,2,3,4,5],\"y\":[6,7,2,4,5]},\"selected\":{\"id\":\"4053\"},\"selection_policy\":{\"id\":\"4052\"}},\"id\":\"3890\",\"type\":\"ColumnDataSource\"},{\"attributes\":{\"fill_alpha\":{\"value\":0.5},\"fill_color\":{\"value\":\"orange\"},\"line_color\":{\"value\":\"navy\"},\"size\":{\"value\":15},\"x\":{\"field\":\"x\"},\"y\":{\"field\":\"y\"}},\"id\":\"3891\",\"type\":\"Circle\"},{\"attributes\":{\"axis\":{\"id\":\"3872\"},\"dimension\":1,\"ticker\":null},\"id\":\"3875\",\"type\":\"Grid\"},{\"attributes\":{},\"id\":\"4051\",\"type\":\"BasicTickFormatter\"},{\"attributes\":{\"axis\":{\"id\":\"3868\"},\"ticker\":null},\"id\":\"3871\",\"type\":\"Grid\"},{\"attributes\":{},\"id\":\"4050\",\"type\":\"AllLabels\"},{\"attributes\":{},\"id\":\"4048\",\"type\":\"BasicTickFormatter\"},{\"attributes\":{},\"id\":\"3869\",\"type\":\"BasicTicker\"},{\"attributes\":{},\"id\":\"3873\",\"type\":\"BasicTicker\"},{\"attributes\":{},\"id\":\"4047\",\"type\":\"AllLabels\"},{\"attributes\":{\"formatter\":{\"id\":\"4051\"},\"major_label_policy\":{\"id\":\"4050\"},\"ticker\":{\"id\":\"3869\"}},\"id\":\"3868\",\"type\":\"LinearAxis\"},{\"attributes\":{},\"id\":\"4053\",\"type\":\"Selection\"},{\"attributes\":{},\"id\":\"3876\",\"type\":\"PanTool\"},{\"attributes\":{},\"id\":\"3866\",\"type\":\"LinearScale\"},{\"attributes\":{\"source\":{\"id\":\"3890\"}},\"id\":\"3894\",\"type\":\"CDSView\"},{\"attributes\":{},\"id\":\"3864\",\"type\":\"LinearScale\"},{\"attributes\":{},\"id\":\"3877\",\"type\":\"WheelZoomTool\"},{\"attributes\":{\"overlay\":{\"id\":\"3882\"}},\"id\":\"3878\",\"type\":\"BoxZoomTool\"},{\"attributes\":{},\"id\":\"3862\",\"type\":\"DataRange1d\"},{\"attributes\":{},\"id\":\"3879\",\"type\":\"SaveTool\"},{\"attributes\":{\"bottom_units\":\"screen\",\"fill_alpha\":0.5,\"fill_color\":\"lightgrey\",\"left_units\":\"screen\",\"level\":\"overlay\",\"line_alpha\":1.0,\"line_color\":\"black\",\"line_dash\":[4,4],\"line_width\":2,\"right_units\":\"screen\",\"syncable\":false,\"top_units\":\"screen\"},\"id\":\"3882\",\"type\":\"BoxAnnotation\"},{\"attributes\":{\"data_source\":{\"id\":\"3890\"},\"glyph\":{\"id\":\"3891\"},\"hover_glyph\":null,\"muted_glyph\":null,\"nonselection_glyph\":{\"id\":\"3892\"},\"view\":{\"id\":\"3894\"}},\"id\":\"3893\",\"type\":\"GlyphRenderer\"},{\"attributes\":{\"active_multi\":null,\"tools\":[{\"id\":\"3876\"},{\"id\":\"3877\"},{\"id\":\"3878\"},{\"id\":\"3879\"},{\"id\":\"3880\"},{\"id\":\"3881\"}]},\"id\":\"3883\",\"type\":\"Toolbar\"},{\"attributes\":{},\"id\":\"3860\",\"type\":\"DataRange1d\"},{\"attributes\":{},\"id\":\"3881\",\"type\":\"HelpTool\"},{\"attributes\":{},\"id\":\"4045\",\"type\":\"Title\"},{\"attributes\":{\"fill_alpha\":{\"value\":0.1},\"fill_color\":{\"value\":\"orange\"},\"line_alpha\":{\"value\":0.1},\"line_color\":{\"value\":\"navy\"},\"size\":{\"value\":15},\"x\":{\"field\":\"x\"},\"y\":{\"field\":\"y\"}},\"id\":\"3892\",\"type\":\"Circle\"},{\"attributes\":{},\"id\":\"3880\",\"type\":\"ResetTool\"}],\"root_ids\":[\"3859\"]},\"title\":\"Bokeh Application\",\"version\":\"2.3.0\"}};\n",
       "  var render_items = [{\"docid\":\"e90578a8-2162-4a07-bdd7-6f93c4904ff9\",\"root_ids\":[\"3859\"],\"roots\":{\"3859\":\"f2f2f46a-bf6d-4b4a-a402-09d866d8d0ba\"}}];\n",
       "  root.Bokeh.embed.embed_items_notebook(docs_json, render_items);\n",
       "\n",
       "  }\n",
       "  if (root.Bokeh !== undefined) {\n",
       "    embed_document(root);\n",
       "  } else {\n",
       "    var attempts = 0;\n",
       "    var timer = setInterval(function(root) {\n",
       "      if (root.Bokeh !== undefined) {\n",
       "        clearInterval(timer);\n",
       "        embed_document(root);\n",
       "      } else {\n",
       "        attempts++;\n",
       "        if (attempts > 100) {\n",
       "          clearInterval(timer);\n",
       "          console.log(\"Bokeh: ERROR: Unable to run BokehJS code because BokehJS library is missing\");\n",
       "        }\n",
       "      }\n",
       "    }, 10, root)\n",
       "  }\n",
       "})(window);"
      ],
      "application/vnd.bokehjs_exec.v0+json": ""
     },
     "metadata": {
      "application/vnd.bokehjs_exec.v0+json": {
       "id": "3859"
      }
     },
     "output_type": "display_data"
    }
   ],
   "source": [
    "# create a new plot with default tools, using figure\n",
    "p = figure(plot_height=250)\n",
    "\n",
    "# add a circle renderer with x and y coordinates, size, color, and alpha\n",
    "p.circle([1, 2, 3, 4, 5], [6, 7, 2, 4, 5], \n",
    "         size=15, line_color=\"navy\", fill_color=\"orange\", fill_alpha=0.5)\n",
    "\n",
    "show(p) # show the results"
   ]
  },
  {
   "cell_type": "code",
   "execution_count": 39,
   "id": "average-drove",
   "metadata": {},
   "outputs": [
    {
     "data": {
      "text/html": [
       "\n",
       "\n",
       "\n",
       "\n",
       "\n",
       "\n",
       "  <div class=\"bk-root\" id=\"8a32af09-70ca-4895-a9e7-9e49df679276\" data-root-id=\"6876\"></div>\n"
      ]
     },
     "metadata": {},
     "output_type": "display_data"
    },
    {
     "data": {
      "application/javascript": [
       "(function(root) {\n",
       "  function embed_document(root) {\n",
       "    \n",
       "  var docs_json = {\"8f408214-0f97-4a19-9701-0024c1b92d5a\":{\"defs\":[{\"extends\":null,\"module\":null,\"name\":\"DataModel\",\"overrides\":[],\"properties\":[]}],\"roots\":{\"references\":[{\"attributes\":{\"below\":[{\"id\":\"6885\"}],\"center\":[{\"id\":\"6888\"},{\"id\":\"6892\"},{\"id\":\"6923\"}],\"height\":250,\"left\":[{\"id\":\"6889\"}],\"renderers\":[{\"id\":\"6910\"}],\"title\":{\"id\":\"6913\"},\"toolbar\":{\"id\":\"6900\"},\"x_range\":{\"id\":\"6877\"},\"x_scale\":{\"id\":\"6881\"},\"y_range\":{\"id\":\"6879\"},\"y_scale\":{\"id\":\"6883\"}},\"id\":\"6876\",\"subtype\":\"Figure\",\"type\":\"Plot\"},{\"attributes\":{},\"id\":\"6897\",\"type\":\"ResetTool\"},{\"attributes\":{},\"id\":\"6894\",\"type\":\"WheelZoomTool\"},{\"attributes\":{},\"id\":\"6916\",\"type\":\"BasicTickFormatter\"},{\"attributes\":{\"source\":{\"id\":\"6907\"}},\"id\":\"6911\",\"type\":\"CDSView\"},{\"attributes\":{},\"id\":\"6877\",\"type\":\"DataRange1d\"},{\"attributes\":{},\"id\":\"6915\",\"type\":\"AllLabels\"},{\"attributes\":{\"items\":[{\"id\":\"6924\"}]},\"id\":\"6923\",\"type\":\"Legend\"},{\"attributes\":{},\"id\":\"6898\",\"type\":\"HelpTool\"},{\"attributes\":{},\"id\":\"6890\",\"type\":\"BasicTicker\"},{\"attributes\":{},\"id\":\"6918\",\"type\":\"AllLabels\"},{\"attributes\":{},\"id\":\"6896\",\"type\":\"SaveTool\"},{\"attributes\":{\"active_multi\":null,\"tools\":[{\"id\":\"6893\"},{\"id\":\"6894\"},{\"id\":\"6895\"},{\"id\":\"6896\"},{\"id\":\"6897\"},{\"id\":\"6898\"}]},\"id\":\"6900\",\"type\":\"Toolbar\"},{\"attributes\":{},\"id\":\"6919\",\"type\":\"BasicTickFormatter\"},{\"attributes\":{\"overlay\":{\"id\":\"6899\"}},\"id\":\"6895\",\"type\":\"BoxZoomTool\"},{\"attributes\":{},\"id\":\"6883\",\"type\":\"LinearScale\"},{\"attributes\":{},\"id\":\"6913\",\"type\":\"Title\"},{\"attributes\":{\"formatter\":{\"id\":\"6919\"},\"major_label_policy\":{\"id\":\"6918\"},\"ticker\":{\"id\":\"6886\"}},\"id\":\"6885\",\"type\":\"LinearAxis\"},{\"attributes\":{\"fill_alpha\":{\"value\":0.5},\"fill_color\":{\"value\":\"red\"},\"line_color\":{\"value\":\"red\"},\"top\":{\"field\":\"top\"},\"width\":{\"value\":0.3},\"x\":{\"field\":\"x\"}},\"id\":\"6908\",\"type\":\"VBar\"},{\"attributes\":{},\"id\":\"6921\",\"type\":\"Selection\"},{\"attributes\":{\"label\":{\"value\":\"Rate\"},\"renderers\":[{\"id\":\"6910\"}]},\"id\":\"6924\",\"type\":\"LegendItem\"},{\"attributes\":{},\"id\":\"6881\",\"type\":\"LinearScale\"},{\"attributes\":{},\"id\":\"6879\",\"type\":\"DataRange1d\"},{\"attributes\":{},\"id\":\"6886\",\"type\":\"BasicTicker\"},{\"attributes\":{\"bottom_units\":\"screen\",\"fill_alpha\":0.5,\"fill_color\":\"lightgrey\",\"left_units\":\"screen\",\"level\":\"overlay\",\"line_alpha\":1.0,\"line_color\":\"black\",\"line_dash\":[4,4],\"line_width\":2,\"right_units\":\"screen\",\"syncable\":false,\"top_units\":\"screen\"},\"id\":\"6899\",\"type\":\"BoxAnnotation\"},{\"attributes\":{\"formatter\":{\"id\":\"6916\"},\"major_label_policy\":{\"id\":\"6915\"},\"ticker\":{\"id\":\"6890\"}},\"id\":\"6889\",\"type\":\"LinearAxis\"},{\"attributes\":{},\"id\":\"6893\",\"type\":\"PanTool\"},{\"attributes\":{\"axis\":{\"id\":\"6889\"},\"dimension\":1,\"ticker\":null},\"id\":\"6892\",\"type\":\"Grid\"},{\"attributes\":{},\"id\":\"6920\",\"type\":\"UnionRenderers\"},{\"attributes\":{\"data_source\":{\"id\":\"6907\"},\"glyph\":{\"id\":\"6908\"},\"hover_glyph\":null,\"muted_glyph\":null,\"nonselection_glyph\":{\"id\":\"6909\"},\"view\":{\"id\":\"6911\"}},\"id\":\"6910\",\"type\":\"GlyphRenderer\"},{\"attributes\":{\"axis\":{\"id\":\"6885\"},\"ticker\":null},\"id\":\"6888\",\"type\":\"Grid\"},{\"attributes\":{\"fill_alpha\":{\"value\":0.1},\"fill_color\":{\"value\":\"red\"},\"line_alpha\":{\"value\":0.1},\"line_color\":{\"value\":\"red\"},\"top\":{\"field\":\"top\"},\"width\":{\"value\":0.3},\"x\":{\"field\":\"x\"}},\"id\":\"6909\",\"type\":\"VBar\"},{\"attributes\":{\"data\":{\"top\":[6,7,2,4,5],\"x\":[1,2,3,4,5]},\"selected\":{\"id\":\"6921\"},\"selection_policy\":{\"id\":\"6920\"}},\"id\":\"6907\",\"type\":\"ColumnDataSource\"}],\"root_ids\":[\"6876\"]},\"title\":\"Bokeh Application\",\"version\":\"2.3.0\"}};\n",
       "  var render_items = [{\"docid\":\"8f408214-0f97-4a19-9701-0024c1b92d5a\",\"root_ids\":[\"6876\"],\"roots\":{\"6876\":\"8a32af09-70ca-4895-a9e7-9e49df679276\"}}];\n",
       "  root.Bokeh.embed.embed_items_notebook(docs_json, render_items);\n",
       "\n",
       "  }\n",
       "  if (root.Bokeh !== undefined) {\n",
       "    embed_document(root);\n",
       "  } else {\n",
       "    var attempts = 0;\n",
       "    var timer = setInterval(function(root) {\n",
       "      if (root.Bokeh !== undefined) {\n",
       "        clearInterval(timer);\n",
       "        embed_document(root);\n",
       "      } else {\n",
       "        attempts++;\n",
       "        if (attempts > 100) {\n",
       "          clearInterval(timer);\n",
       "          console.log(\"Bokeh: ERROR: Unable to run BokehJS code because BokehJS library is missing\");\n",
       "        }\n",
       "      }\n",
       "    }, 10, root)\n",
       "  }\n",
       "})(window);"
      ],
      "application/vnd.bokehjs_exec.v0+json": ""
     },
     "metadata": {
      "application/vnd.bokehjs_exec.v0+json": {
       "id": "6876"
      }
     },
     "output_type": "display_data"
    }
   ],
   "source": [
    "p = figure(plot_height=250)\n",
    "p.vbar(x=x, top=y1, legend_label=\"Rate\", width=0.3, color=\"red\", fill_alpha=0.5,)\n",
    "show(p)"
   ]
  },
  {
   "cell_type": "markdown",
   "id": "beneficial-budapest",
   "metadata": {},
   "source": [
    "## Spécifier couleur"
   ]
  },
  {
   "cell_type": "code",
   "execution_count": 43,
   "id": "apparent-label",
   "metadata": {},
   "outputs": [
    {
     "data": {
      "text/html": [
       "\n",
       "\n",
       "\n",
       "\n",
       "\n",
       "\n",
       "  <div class=\"bk-root\" id=\"b641c926-a8c3-4cc3-abaf-cecffc05de2c\" data-root-id=\"7637\"></div>\n"
      ]
     },
     "metadata": {},
     "output_type": "display_data"
    },
    {
     "data": {
      "application/javascript": [
       "(function(root) {\n",
       "  function embed_document(root) {\n",
       "    \n",
       "  var docs_json = {\"08bd1077-1a20-4719-8287-83f0c3d98476\":{\"defs\":[{\"extends\":null,\"module\":null,\"name\":\"DataModel\",\"overrides\":[],\"properties\":[]}],\"roots\":{\"references\":[{\"attributes\":{\"below\":[{\"id\":\"7646\"}],\"center\":[{\"id\":\"7649\"},{\"id\":\"7653\"},{\"id\":\"7684\"}],\"height\":250,\"left\":[{\"id\":\"7650\"}],\"renderers\":[{\"id\":\"7671\"}],\"title\":{\"id\":\"7674\"},\"toolbar\":{\"id\":\"7661\"},\"x_range\":{\"id\":\"7638\"},\"x_scale\":{\"id\":\"7642\"},\"y_range\":{\"id\":\"7640\"},\"y_scale\":{\"id\":\"7644\"}},\"id\":\"7637\",\"subtype\":\"Figure\",\"type\":\"Plot\"},{\"attributes\":{},\"id\":\"7654\",\"type\":\"PanTool\"},{\"attributes\":{},\"id\":\"7658\",\"type\":\"ResetTool\"},{\"attributes\":{},\"id\":\"7674\",\"type\":\"Title\"},{\"attributes\":{\"source\":{\"id\":\"7668\"}},\"id\":\"7672\",\"type\":\"CDSView\"},{\"attributes\":{},\"id\":\"7638\",\"type\":\"DataRange1d\"},{\"attributes\":{\"fill_alpha\":{\"value\":0.5},\"fill_color\":{\"field\":\"fill_color\"},\"line_color\":{\"field\":\"line_color\"},\"top\":{\"field\":\"top\"},\"width\":{\"value\":0.3},\"x\":{\"field\":\"x\"}},\"id\":\"7669\",\"type\":\"VBar\"},{\"attributes\":{},\"id\":\"7677\",\"type\":\"BasicTickFormatter\"},{\"attributes\":{},\"id\":\"7640\",\"type\":\"DataRange1d\"},{\"attributes\":{},\"id\":\"7642\",\"type\":\"LinearScale\"},{\"attributes\":{},\"id\":\"7676\",\"type\":\"AllLabels\"},{\"attributes\":{},\"id\":\"7655\",\"type\":\"WheelZoomTool\"},{\"attributes\":{\"overlay\":{\"id\":\"7660\"}},\"id\":\"7656\",\"type\":\"BoxZoomTool\"},{\"attributes\":{},\"id\":\"7679\",\"type\":\"AllLabels\"},{\"attributes\":{},\"id\":\"7657\",\"type\":\"SaveTool\"},{\"attributes\":{},\"id\":\"7644\",\"type\":\"LinearScale\"},{\"attributes\":{},\"id\":\"7680\",\"type\":\"BasicTickFormatter\"},{\"attributes\":{\"formatter\":{\"id\":\"7680\"},\"major_label_policy\":{\"id\":\"7679\"},\"ticker\":{\"id\":\"7647\"}},\"id\":\"7646\",\"type\":\"LinearAxis\"},{\"attributes\":{},\"id\":\"7682\",\"type\":\"Selection\"},{\"attributes\":{},\"id\":\"7651\",\"type\":\"BasicTicker\"},{\"attributes\":{\"data\":{\"fill_color\":[\"red\",\"blue\",[255,0,255],\"#00ff00\",\"pink\"],\"line_color\":[\"red\",\"blue\",[255,0,255],\"#00ff00\",\"pink\"],\"top\":[6,7,2,4,5],\"x\":[1,2,3,4,5]},\"selected\":{\"id\":\"7682\"},\"selection_policy\":{\"id\":\"7681\"}},\"id\":\"7668\",\"type\":\"ColumnDataSource\"},{\"attributes\":{},\"id\":\"7681\",\"type\":\"UnionRenderers\"},{\"attributes\":{\"formatter\":{\"id\":\"7677\"},\"major_label_policy\":{\"id\":\"7676\"},\"ticker\":{\"id\":\"7651\"}},\"id\":\"7650\",\"type\":\"LinearAxis\"},{\"attributes\":{},\"id\":\"7647\",\"type\":\"BasicTicker\"},{\"attributes\":{\"bottom_units\":\"screen\",\"fill_alpha\":0.5,\"fill_color\":\"lightgrey\",\"left_units\":\"screen\",\"level\":\"overlay\",\"line_alpha\":1.0,\"line_color\":\"black\",\"line_dash\":[4,4],\"line_width\":2,\"right_units\":\"screen\",\"syncable\":false,\"top_units\":\"screen\"},\"id\":\"7660\",\"type\":\"BoxAnnotation\"},{\"attributes\":{\"axis\":{\"id\":\"7646\"},\"ticker\":null},\"id\":\"7649\",\"type\":\"Grid\"},{\"attributes\":{\"label\":{\"value\":\"Rate\"},\"renderers\":[{\"id\":\"7671\"}]},\"id\":\"7685\",\"type\":\"LegendItem\"},{\"attributes\":{},\"id\":\"7659\",\"type\":\"HelpTool\"},{\"attributes\":{\"data_source\":{\"id\":\"7668\"},\"glyph\":{\"id\":\"7669\"},\"hover_glyph\":null,\"muted_glyph\":null,\"nonselection_glyph\":{\"id\":\"7670\"},\"view\":{\"id\":\"7672\"}},\"id\":\"7671\",\"type\":\"GlyphRenderer\"},{\"attributes\":{\"axis\":{\"id\":\"7650\"},\"dimension\":1,\"ticker\":null},\"id\":\"7653\",\"type\":\"Grid\"},{\"attributes\":{\"fill_alpha\":{\"value\":0.1},\"fill_color\":{\"field\":\"fill_color\"},\"line_alpha\":{\"value\":0.1},\"line_color\":{\"field\":\"line_color\"},\"top\":{\"field\":\"top\"},\"width\":{\"value\":0.3},\"x\":{\"field\":\"x\"}},\"id\":\"7670\",\"type\":\"VBar\"},{\"attributes\":{\"items\":[{\"id\":\"7685\"}]},\"id\":\"7684\",\"type\":\"Legend\"},{\"attributes\":{\"active_multi\":null,\"tools\":[{\"id\":\"7654\"},{\"id\":\"7655\"},{\"id\":\"7656\"},{\"id\":\"7657\"},{\"id\":\"7658\"},{\"id\":\"7659\"}]},\"id\":\"7661\",\"type\":\"Toolbar\"}],\"root_ids\":[\"7637\"]},\"title\":\"Bokeh Application\",\"version\":\"2.3.0\"}};\n",
       "  var render_items = [{\"docid\":\"08bd1077-1a20-4719-8287-83f0c3d98476\",\"root_ids\":[\"7637\"],\"roots\":{\"7637\":\"b641c926-a8c3-4cc3-abaf-cecffc05de2c\"}}];\n",
       "  root.Bokeh.embed.embed_items_notebook(docs_json, render_items);\n",
       "\n",
       "  }\n",
       "  if (root.Bokeh !== undefined) {\n",
       "    embed_document(root);\n",
       "  } else {\n",
       "    var attempts = 0;\n",
       "    var timer = setInterval(function(root) {\n",
       "      if (root.Bokeh !== undefined) {\n",
       "        clearInterval(timer);\n",
       "        embed_document(root);\n",
       "      } else {\n",
       "        attempts++;\n",
       "        if (attempts > 100) {\n",
       "          clearInterval(timer);\n",
       "          console.log(\"Bokeh: ERROR: Unable to run BokehJS code because BokehJS library is missing\");\n",
       "        }\n",
       "      }\n",
       "    }, 10, root)\n",
       "  }\n",
       "})(window);"
      ],
      "application/vnd.bokehjs_exec.v0+json": ""
     },
     "metadata": {
      "application/vnd.bokehjs_exec.v0+json": {
       "id": "7637"
      }
     },
     "output_type": "display_data"
    }
   ],
   "source": [
    "p = figure(plot_height=250)\n",
    "p.vbar(x=x, top=y1, legend_label=\"Rate\", width=0.3, color=(\"red\", 'blue', (255, 0, 255), '#00ff00', 'pink'), fill_alpha=0.5,)\n",
    "show(p)"
   ]
  },
  {
   "cell_type": "markdown",
   "id": "demonstrated-deposit",
   "metadata": {},
   "source": [
    "## Changer des propriétés"
   ]
  },
  {
   "cell_type": "code",
   "execution_count": 53,
   "id": "devoted-kennedy",
   "metadata": {},
   "outputs": [
    {
     "data": {
      "text/html": [
       "\n",
       "\n",
       "\n",
       "\n",
       "\n",
       "\n",
       "  <div class=\"bk-root\" id=\"943fa355-af74-4cf5-bcfb-fa7525c39c04\" data-root-id=\"10186\"></div>\n"
      ]
     },
     "metadata": {},
     "output_type": "display_data"
    },
    {
     "data": {
      "application/javascript": [
       "(function(root) {\n",
       "  function embed_document(root) {\n",
       "    \n",
       "  var docs_json = {\"529ba23d-70d8-41ee-93b2-ef1777994b13\":{\"defs\":[{\"extends\":null,\"module\":null,\"name\":\"DataModel\",\"overrides\":[],\"properties\":[]}],\"roots\":{\"references\":[{\"attributes\":{\"below\":[{\"id\":\"10195\"}],\"center\":[{\"id\":\"10198\"},{\"id\":\"10202\"},{\"id\":\"10233\"}],\"height\":250,\"left\":[{\"id\":\"10199\"}],\"renderers\":[{\"id\":\"10220\"}],\"title\":{\"id\":\"10223\"},\"toolbar\":{\"id\":\"10210\"},\"x_range\":{\"id\":\"10187\"},\"x_scale\":{\"id\":\"10191\"},\"y_range\":{\"id\":\"10189\"},\"y_scale\":{\"id\":\"10193\"}},\"id\":\"10186\",\"subtype\":\"Figure\",\"type\":\"Plot\"},{\"attributes\":{},\"id\":\"10208\",\"type\":\"HelpTool\"},{\"attributes\":{\"axis\":{\"id\":\"10195\"},\"ticker\":null},\"id\":\"10198\",\"type\":\"Grid\"},{\"attributes\":{},\"id\":\"10200\",\"type\":\"BasicTicker\"},{\"attributes\":{},\"id\":\"10226\",\"type\":\"BasicTickFormatter\"},{\"attributes\":{},\"id\":\"10228\",\"type\":\"AllLabels\"},{\"attributes\":{\"data_source\":{\"id\":\"10217\"},\"glyph\":{\"id\":\"10218\"},\"hover_glyph\":null,\"muted_glyph\":null,\"nonselection_glyph\":{\"id\":\"10219\"},\"view\":{\"id\":\"10221\"}},\"id\":\"10220\",\"type\":\"GlyphRenderer\"},{\"attributes\":{\"fill_alpha\":{\"value\":0.1},\"fill_color\":{\"value\":\"red\"},\"line_alpha\":{\"value\":0.1},\"line_color\":{\"value\":\"blue\"},\"line_width\":{\"value\":5},\"size\":{\"value\":80},\"x\":{\"field\":\"x\"},\"y\":{\"field\":\"y\"}},\"id\":\"10219\",\"type\":\"Circle\"},{\"attributes\":{\"axis\":{\"id\":\"10199\"},\"dimension\":1,\"ticker\":null},\"id\":\"10202\",\"type\":\"Grid\"},{\"attributes\":{},\"id\":\"10230\",\"type\":\"UnionRenderers\"},{\"attributes\":{},\"id\":\"10223\",\"type\":\"Title\"},{\"attributes\":{},\"id\":\"10229\",\"type\":\"BasicTickFormatter\"},{\"attributes\":{\"items\":[{\"id\":\"10234\"}]},\"id\":\"10233\",\"type\":\"Legend\"},{\"attributes\":{\"active_multi\":null,\"tools\":[{\"id\":\"10203\"},{\"id\":\"10204\"},{\"id\":\"10205\"},{\"id\":\"10206\"},{\"id\":\"10207\"},{\"id\":\"10208\"}]},\"id\":\"10210\",\"type\":\"Toolbar\"},{\"attributes\":{\"fill_alpha\":{\"value\":0.5},\"fill_color\":{\"value\":\"red\"},\"line_color\":{\"value\":\"blue\"},\"line_width\":{\"value\":5},\"size\":{\"value\":80},\"x\":{\"field\":\"x\"},\"y\":{\"field\":\"y\"}},\"id\":\"10218\",\"type\":\"Circle\"},{\"attributes\":{},\"id\":\"10203\",\"type\":\"PanTool\"},{\"attributes\":{\"data\":{\"x\":[1,2,3,4,5],\"y\":[6,7,2,4,5]},\"selected\":{\"id\":\"10231\"},\"selection_policy\":{\"id\":\"10230\"}},\"id\":\"10217\",\"type\":\"ColumnDataSource\"},{\"attributes\":{\"label\":{\"value\":\"Objects\"},\"renderers\":[{\"id\":\"10220\"}]},\"id\":\"10234\",\"type\":\"LegendItem\"},{\"attributes\":{},\"id\":\"10187\",\"type\":\"DataRange1d\"},{\"attributes\":{\"bottom_units\":\"screen\",\"fill_alpha\":0.5,\"fill_color\":\"lightgrey\",\"left_units\":\"screen\",\"level\":\"overlay\",\"line_alpha\":1.0,\"line_color\":\"black\",\"line_dash\":[4,4],\"line_width\":2,\"right_units\":\"screen\",\"syncable\":false,\"top_units\":\"screen\"},\"id\":\"10209\",\"type\":\"BoxAnnotation\"},{\"attributes\":{\"formatter\":{\"id\":\"10229\"},\"major_label_policy\":{\"id\":\"10228\"},\"ticker\":{\"id\":\"10196\"}},\"id\":\"10195\",\"type\":\"LinearAxis\"},{\"attributes\":{\"source\":{\"id\":\"10217\"}},\"id\":\"10221\",\"type\":\"CDSView\"},{\"attributes\":{},\"id\":\"10204\",\"type\":\"WheelZoomTool\"},{\"attributes\":{},\"id\":\"10207\",\"type\":\"ResetTool\"},{\"attributes\":{},\"id\":\"10189\",\"type\":\"DataRange1d\"},{\"attributes\":{},\"id\":\"10191\",\"type\":\"LinearScale\"},{\"attributes\":{\"overlay\":{\"id\":\"10209\"}},\"id\":\"10205\",\"type\":\"BoxZoomTool\"},{\"attributes\":{},\"id\":\"10206\",\"type\":\"SaveTool\"},{\"attributes\":{},\"id\":\"10231\",\"type\":\"Selection\"},{\"attributes\":{},\"id\":\"10225\",\"type\":\"AllLabels\"},{\"attributes\":{},\"id\":\"10196\",\"type\":\"BasicTicker\"},{\"attributes\":{},\"id\":\"10193\",\"type\":\"LinearScale\"},{\"attributes\":{\"formatter\":{\"id\":\"10226\"},\"major_label_policy\":{\"id\":\"10225\"},\"ticker\":{\"id\":\"10200\"}},\"id\":\"10199\",\"type\":\"LinearAxis\"}],\"root_ids\":[\"10186\"]},\"title\":\"Bokeh Application\",\"version\":\"2.3.0\"}};\n",
       "  var render_items = [{\"docid\":\"529ba23d-70d8-41ee-93b2-ef1777994b13\",\"root_ids\":[\"10186\"],\"roots\":{\"10186\":\"943fa355-af74-4cf5-bcfb-fa7525c39c04\"}}];\n",
       "  root.Bokeh.embed.embed_items_notebook(docs_json, render_items);\n",
       "\n",
       "  }\n",
       "  if (root.Bokeh !== undefined) {\n",
       "    embed_document(root);\n",
       "  } else {\n",
       "    var attempts = 0;\n",
       "    var timer = setInterval(function(root) {\n",
       "      if (root.Bokeh !== undefined) {\n",
       "        clearInterval(timer);\n",
       "        embed_document(root);\n",
       "      } else {\n",
       "        attempts++;\n",
       "        if (attempts > 100) {\n",
       "          clearInterval(timer);\n",
       "          console.log(\"Bokeh: ERROR: Unable to run BokehJS code because BokehJS library is missing\");\n",
       "        }\n",
       "      }\n",
       "    }, 10, root)\n",
       "  }\n",
       "})(window);"
      ],
      "application/vnd.bokehjs_exec.v0+json": ""
     },
     "metadata": {
      "application/vnd.bokehjs_exec.v0+json": {
       "id": "10186"
      }
     },
     "output_type": "display_data"
    }
   ],
   "source": [
    "p = figure(plot_height=250)\n",
    "g = p.circle(\n",
    "    x,\n",
    "    y,\n",
    "    legend_label=\"Objects\",\n",
    "    fill_color=\"red\",\n",
    "    fill_alpha=0.5,\n",
    "    line_color=\"blue\",\n",
    "    line_width=5,\n",
    "    size=80\n",
    ")\n",
    "show(p)"
   ]
  },
  {
   "cell_type": "code",
   "execution_count": 54,
   "id": "smaller-links",
   "metadata": {},
   "outputs": [
    {
     "data": {
      "text/plain": [
       "'red'"
      ]
     },
     "execution_count": 54,
     "metadata": {},
     "output_type": "execute_result"
    }
   ],
   "source": [
    "g.glyph.fill_color"
   ]
  },
  {
   "cell_type": "code",
   "execution_count": 56,
   "id": "manual-catalyst",
   "metadata": {},
   "outputs": [
    {
     "data": {
      "text/html": [
       "\n",
       "\n",
       "\n",
       "\n",
       "\n",
       "\n",
       "  <div class=\"bk-root\" id=\"53630b59-f656-4c45-8b38-d66a11701566\" data-root-id=\"10186\"></div>\n"
      ]
     },
     "metadata": {},
     "output_type": "display_data"
    },
    {
     "data": {
      "application/javascript": [
       "(function(root) {\n",
       "  function embed_document(root) {\n",
       "    \n",
       "  var docs_json = {\"7aec11ee-0a3b-4d23-b904-90ed65a6c7fd\":{\"defs\":[{\"extends\":null,\"module\":null,\"name\":\"DataModel\",\"overrides\":[],\"properties\":[]}],\"roots\":{\"references\":[{\"attributes\":{\"below\":[{\"id\":\"10195\"}],\"center\":[{\"id\":\"10198\"},{\"id\":\"10202\"},{\"id\":\"10233\"}],\"height\":250,\"left\":[{\"id\":\"10199\"}],\"renderers\":[{\"id\":\"10220\"}],\"title\":{\"id\":\"10223\"},\"toolbar\":{\"id\":\"10210\"},\"x_range\":{\"id\":\"10187\"},\"x_scale\":{\"id\":\"10191\"},\"y_range\":{\"id\":\"10189\"},\"y_scale\":{\"id\":\"10193\"}},\"id\":\"10186\",\"subtype\":\"Figure\",\"type\":\"Plot\"},{\"attributes\":{},\"id\":\"10208\",\"type\":\"HelpTool\"},{\"attributes\":{\"axis\":{\"id\":\"10195\"},\"ticker\":null},\"id\":\"10198\",\"type\":\"Grid\"},{\"attributes\":{},\"id\":\"10200\",\"type\":\"BasicTicker\"},{\"attributes\":{},\"id\":\"10226\",\"type\":\"BasicTickFormatter\"},{\"attributes\":{},\"id\":\"10228\",\"type\":\"AllLabels\"},{\"attributes\":{\"data_source\":{\"id\":\"10217\"},\"glyph\":{\"id\":\"10218\"},\"hover_glyph\":null,\"muted_glyph\":null,\"nonselection_glyph\":{\"id\":\"10219\"},\"view\":{\"id\":\"10221\"}},\"id\":\"10220\",\"type\":\"GlyphRenderer\"},{\"attributes\":{\"fill_alpha\":{\"value\":0.1},\"fill_color\":{\"value\":\"red\"},\"line_alpha\":{\"value\":0.1},\"line_color\":{\"value\":\"blue\"},\"line_width\":{\"value\":5},\"size\":{\"value\":80},\"x\":{\"field\":\"x\"},\"y\":{\"field\":\"y\"}},\"id\":\"10219\",\"type\":\"Circle\"},{\"attributes\":{\"axis\":{\"id\":\"10199\"},\"dimension\":1,\"ticker\":null},\"id\":\"10202\",\"type\":\"Grid\"},{\"attributes\":{},\"id\":\"10230\",\"type\":\"UnionRenderers\"},{\"attributes\":{},\"id\":\"10223\",\"type\":\"Title\"},{\"attributes\":{},\"id\":\"10229\",\"type\":\"BasicTickFormatter\"},{\"attributes\":{\"items\":[{\"id\":\"10234\"}]},\"id\":\"10233\",\"type\":\"Legend\"},{\"attributes\":{\"active_multi\":null,\"tools\":[{\"id\":\"10203\"},{\"id\":\"10204\"},{\"id\":\"10205\"},{\"id\":\"10206\"},{\"id\":\"10207\"},{\"id\":\"10208\"}]},\"id\":\"10210\",\"type\":\"Toolbar\"},{\"attributes\":{\"fill_alpha\":{\"value\":0.5},\"fill_color\":{\"value\":\"green\"},\"line_color\":{\"value\":\"blue\"},\"line_width\":{\"value\":5},\"size\":{\"value\":80},\"x\":{\"field\":\"x\"},\"y\":{\"field\":\"y\"}},\"id\":\"10218\",\"type\":\"Circle\"},{\"attributes\":{},\"id\":\"10203\",\"type\":\"PanTool\"},{\"attributes\":{\"data\":{\"x\":[1,2,3,4,5],\"y\":[6,7,2,4,5]},\"selected\":{\"id\":\"10231\"},\"selection_policy\":{\"id\":\"10230\"}},\"id\":\"10217\",\"type\":\"ColumnDataSource\"},{\"attributes\":{\"label\":{\"value\":\"Objects\"},\"renderers\":[{\"id\":\"10220\"}]},\"id\":\"10234\",\"type\":\"LegendItem\"},{\"attributes\":{},\"id\":\"10187\",\"type\":\"DataRange1d\"},{\"attributes\":{\"bottom_units\":\"screen\",\"fill_alpha\":0.5,\"fill_color\":\"lightgrey\",\"left_units\":\"screen\",\"level\":\"overlay\",\"line_alpha\":1.0,\"line_color\":\"black\",\"line_dash\":[4,4],\"line_width\":2,\"right_units\":\"screen\",\"syncable\":false,\"top_units\":\"screen\"},\"id\":\"10209\",\"type\":\"BoxAnnotation\"},{\"attributes\":{\"formatter\":{\"id\":\"10229\"},\"major_label_policy\":{\"id\":\"10228\"},\"ticker\":{\"id\":\"10196\"}},\"id\":\"10195\",\"type\":\"LinearAxis\"},{\"attributes\":{\"source\":{\"id\":\"10217\"}},\"id\":\"10221\",\"type\":\"CDSView\"},{\"attributes\":{},\"id\":\"10204\",\"type\":\"WheelZoomTool\"},{\"attributes\":{},\"id\":\"10207\",\"type\":\"ResetTool\"},{\"attributes\":{},\"id\":\"10189\",\"type\":\"DataRange1d\"},{\"attributes\":{},\"id\":\"10191\",\"type\":\"LinearScale\"},{\"attributes\":{\"overlay\":{\"id\":\"10209\"}},\"id\":\"10205\",\"type\":\"BoxZoomTool\"},{\"attributes\":{},\"id\":\"10206\",\"type\":\"SaveTool\"},{\"attributes\":{},\"id\":\"10231\",\"type\":\"Selection\"},{\"attributes\":{},\"id\":\"10225\",\"type\":\"AllLabels\"},{\"attributes\":{},\"id\":\"10196\",\"type\":\"BasicTicker\"},{\"attributes\":{},\"id\":\"10193\",\"type\":\"LinearScale\"},{\"attributes\":{\"formatter\":{\"id\":\"10226\"},\"major_label_policy\":{\"id\":\"10225\"},\"ticker\":{\"id\":\"10200\"}},\"id\":\"10199\",\"type\":\"LinearAxis\"}],\"root_ids\":[\"10186\"]},\"title\":\"Bokeh Application\",\"version\":\"2.3.0\"}};\n",
       "  var render_items = [{\"docid\":\"7aec11ee-0a3b-4d23-b904-90ed65a6c7fd\",\"root_ids\":[\"10186\"],\"roots\":{\"10186\":\"53630b59-f656-4c45-8b38-d66a11701566\"}}];\n",
       "  root.Bokeh.embed.embed_items_notebook(docs_json, render_items);\n",
       "\n",
       "  }\n",
       "  if (root.Bokeh !== undefined) {\n",
       "    embed_document(root);\n",
       "  } else {\n",
       "    var attempts = 0;\n",
       "    var timer = setInterval(function(root) {\n",
       "      if (root.Bokeh !== undefined) {\n",
       "        clearInterval(timer);\n",
       "        embed_document(root);\n",
       "      } else {\n",
       "        attempts++;\n",
       "        if (attempts > 100) {\n",
       "          clearInterval(timer);\n",
       "          console.log(\"Bokeh: ERROR: Unable to run BokehJS code because BokehJS library is missing\");\n",
       "        }\n",
       "      }\n",
       "    }, 10, root)\n",
       "  }\n",
       "})(window);"
      ],
      "application/vnd.bokehjs_exec.v0+json": ""
     },
     "metadata": {
      "application/vnd.bokehjs_exec.v0+json": {
       "id": "10186"
      }
     },
     "output_type": "display_data"
    }
   ],
   "source": [
    "g.glyph.fill_color = 'green'\n",
    "show(p)"
   ]
  },
  {
   "cell_type": "code",
   "execution_count": 57,
   "id": "naked-guide",
   "metadata": {},
   "outputs": [
    {
     "data": {
      "text/html": [
       "\n",
       "\n",
       "\n",
       "\n",
       "\n",
       "\n",
       "  <div class=\"bk-root\" id=\"2d16288c-d605-4097-bb0c-618147176fe6\" data-root-id=\"10186\"></div>\n"
      ]
     },
     "metadata": {},
     "output_type": "display_data"
    },
    {
     "data": {
      "application/javascript": [
       "(function(root) {\n",
       "  function embed_document(root) {\n",
       "    \n",
       "  var docs_json = {\"e16ad5ad-c1e3-4284-a625-b4dfcf2c3abf\":{\"defs\":[{\"extends\":null,\"module\":null,\"name\":\"DataModel\",\"overrides\":[],\"properties\":[]}],\"roots\":{\"references\":[{\"attributes\":{\"below\":[{\"id\":\"10195\"}],\"center\":[{\"id\":\"10198\"},{\"id\":\"10202\"},{\"id\":\"10233\"}],\"height\":250,\"left\":[{\"id\":\"10199\"}],\"renderers\":[{\"id\":\"10220\"}],\"title\":{\"id\":\"10223\"},\"toolbar\":{\"id\":\"10210\"},\"x_range\":{\"id\":\"10187\"},\"x_scale\":{\"id\":\"10191\"},\"y_range\":{\"id\":\"10189\"},\"y_scale\":{\"id\":\"10193\"}},\"id\":\"10186\",\"subtype\":\"Figure\",\"type\":\"Plot\"},{\"attributes\":{},\"id\":\"10208\",\"type\":\"HelpTool\"},{\"attributes\":{\"axis\":{\"id\":\"10195\"},\"ticker\":null},\"id\":\"10198\",\"type\":\"Grid\"},{\"attributes\":{},\"id\":\"10200\",\"type\":\"BasicTicker\"},{\"attributes\":{},\"id\":\"10226\",\"type\":\"BasicTickFormatter\"},{\"attributes\":{},\"id\":\"10228\",\"type\":\"AllLabels\"},{\"attributes\":{\"data_source\":{\"id\":\"10217\"},\"glyph\":{\"id\":\"10218\"},\"hover_glyph\":null,\"muted_glyph\":null,\"nonselection_glyph\":{\"id\":\"10219\"},\"view\":{\"id\":\"10221\"}},\"id\":\"10220\",\"type\":\"GlyphRenderer\"},{\"attributes\":{\"fill_alpha\":{\"value\":0.1},\"fill_color\":{\"value\":\"red\"},\"line_alpha\":{\"value\":0.1},\"line_color\":{\"value\":\"blue\"},\"line_width\":{\"value\":5},\"size\":{\"value\":80},\"x\":{\"field\":\"x\"},\"y\":{\"field\":\"y\"}},\"id\":\"10219\",\"type\":\"Circle\"},{\"attributes\":{\"axis\":{\"id\":\"10199\"},\"dimension\":1,\"ticker\":null},\"id\":\"10202\",\"type\":\"Grid\"},{\"attributes\":{},\"id\":\"10230\",\"type\":\"UnionRenderers\"},{\"attributes\":{},\"id\":\"10223\",\"type\":\"Title\"},{\"attributes\":{},\"id\":\"10229\",\"type\":\"BasicTickFormatter\"},{\"attributes\":{\"items\":[{\"id\":\"10234\"}]},\"id\":\"10233\",\"type\":\"Legend\"},{\"attributes\":{\"active_multi\":null,\"tools\":[{\"id\":\"10203\"},{\"id\":\"10204\"},{\"id\":\"10205\"},{\"id\":\"10206\"},{\"id\":\"10207\"},{\"id\":\"10208\"}]},\"id\":\"10210\",\"type\":\"Toolbar\"},{\"attributes\":{\"fill_alpha\":{\"value\":0.5},\"fill_color\":{\"value\":\"yellow\"},\"line_color\":{\"value\":\"blue\"},\"line_width\":{\"value\":5},\"size\":{\"value\":80},\"x\":{\"field\":\"x\"},\"y\":{\"field\":\"y\"}},\"id\":\"10218\",\"type\":\"Circle\"},{\"attributes\":{},\"id\":\"10203\",\"type\":\"PanTool\"},{\"attributes\":{\"data\":{\"x\":[1,2,3,4,5],\"y\":[6,7,2,4,5]},\"selected\":{\"id\":\"10231\"},\"selection_policy\":{\"id\":\"10230\"}},\"id\":\"10217\",\"type\":\"ColumnDataSource\"},{\"attributes\":{\"label\":{\"value\":\"Objects\"},\"renderers\":[{\"id\":\"10220\"}]},\"id\":\"10234\",\"type\":\"LegendItem\"},{\"attributes\":{},\"id\":\"10187\",\"type\":\"DataRange1d\"},{\"attributes\":{\"bottom_units\":\"screen\",\"fill_alpha\":0.5,\"fill_color\":\"lightgrey\",\"left_units\":\"screen\",\"level\":\"overlay\",\"line_alpha\":1.0,\"line_color\":\"black\",\"line_dash\":[4,4],\"line_width\":2,\"right_units\":\"screen\",\"syncable\":false,\"top_units\":\"screen\"},\"id\":\"10209\",\"type\":\"BoxAnnotation\"},{\"attributes\":{\"formatter\":{\"id\":\"10229\"},\"major_label_policy\":{\"id\":\"10228\"},\"ticker\":{\"id\":\"10196\"}},\"id\":\"10195\",\"type\":\"LinearAxis\"},{\"attributes\":{\"source\":{\"id\":\"10217\"}},\"id\":\"10221\",\"type\":\"CDSView\"},{\"attributes\":{},\"id\":\"10204\",\"type\":\"WheelZoomTool\"},{\"attributes\":{},\"id\":\"10207\",\"type\":\"ResetTool\"},{\"attributes\":{},\"id\":\"10189\",\"type\":\"DataRange1d\"},{\"attributes\":{},\"id\":\"10191\",\"type\":\"LinearScale\"},{\"attributes\":{\"overlay\":{\"id\":\"10209\"}},\"id\":\"10205\",\"type\":\"BoxZoomTool\"},{\"attributes\":{},\"id\":\"10206\",\"type\":\"SaveTool\"},{\"attributes\":{},\"id\":\"10231\",\"type\":\"Selection\"},{\"attributes\":{},\"id\":\"10225\",\"type\":\"AllLabels\"},{\"attributes\":{},\"id\":\"10196\",\"type\":\"BasicTicker\"},{\"attributes\":{},\"id\":\"10193\",\"type\":\"LinearScale\"},{\"attributes\":{\"formatter\":{\"id\":\"10226\"},\"major_label_policy\":{\"id\":\"10225\"},\"ticker\":{\"id\":\"10200\"}},\"id\":\"10199\",\"type\":\"LinearAxis\"}],\"root_ids\":[\"10186\"]},\"title\":\"Bokeh Application\",\"version\":\"2.3.0\"}};\n",
       "  var render_items = [{\"docid\":\"e16ad5ad-c1e3-4284-a625-b4dfcf2c3abf\",\"root_ids\":[\"10186\"],\"roots\":{\"10186\":\"2d16288c-d605-4097-bb0c-618147176fe6\"}}];\n",
       "  root.Bokeh.embed.embed_items_notebook(docs_json, render_items);\n",
       "\n",
       "  }\n",
       "  if (root.Bokeh !== undefined) {\n",
       "    embed_document(root);\n",
       "  } else {\n",
       "    var attempts = 0;\n",
       "    var timer = setInterval(function(root) {\n",
       "      if (root.Bokeh !== undefined) {\n",
       "        clearInterval(timer);\n",
       "        embed_document(root);\n",
       "      } else {\n",
       "        attempts++;\n",
       "        if (attempts > 100) {\n",
       "          clearInterval(timer);\n",
       "          console.log(\"Bokeh: ERROR: Unable to run BokehJS code because BokehJS library is missing\");\n",
       "        }\n",
       "      }\n",
       "    }, 10, root)\n",
       "  }\n",
       "})(window);"
      ],
      "application/vnd.bokehjs_exec.v0+json": ""
     },
     "metadata": {
      "application/vnd.bokehjs_exec.v0+json": {
       "id": "10186"
      }
     },
     "output_type": "display_data"
    }
   ],
   "source": [
    "g.glyph.fill_color = 'yellow'\n",
    "show(p)"
   ]
  },
  {
   "cell_type": "markdown",
   "id": "amber-julian",
   "metadata": {},
   "source": [
    "## Image RGB"
   ]
  },
  {
   "cell_type": "code",
   "execution_count": 62,
   "id": "textile-exemption",
   "metadata": {},
   "outputs": [
    {
     "data": {
      "text/html": [
       "\n",
       "\n",
       "\n",
       "\n",
       "\n",
       "\n",
       "  <div class=\"bk-root\" id=\"50e38fea-30d6-4efc-919c-d8b571b1c50c\" data-root-id=\"11692\"></div>\n"
      ]
     },
     "metadata": {},
     "output_type": "display_data"
    },
    {
     "data": {
      "application/javascript": [
       "(function(root) {\n",
       "  function embed_document(root) {\n",
       "    \n",
       "  var docs_json = {\"96c296e9-3e8b-4b2f-a6c1-19502d2d6b27\":{\"defs\":[{\"extends\":null,\"module\":null,\"name\":\"DataModel\",\"overrides\":[],\"properties\":[]}],\"roots\":{\"references\":[{\"attributes\":{\"below\":[{\"id\":\"11701\"}],\"center\":[{\"id\":\"11704\"},{\"id\":\"11708\"}],\"height\":250,\"left\":[{\"id\":\"11705\"}],\"renderers\":[{\"id\":\"11726\"}],\"title\":{\"id\":\"12110\"},\"toolbar\":{\"id\":\"11716\"},\"x_range\":{\"id\":\"11693\"},\"x_scale\":{\"id\":\"11697\"},\"y_range\":{\"id\":\"11695\"},\"y_scale\":{\"id\":\"11699\"}},\"id\":\"11692\",\"subtype\":\"Figure\",\"type\":\"Plot\"},{\"attributes\":{},\"id\":\"12113\",\"type\":\"BasicTickFormatter\"},{\"attributes\":{\"end\":10},\"id\":\"11693\",\"type\":\"Range1d\"},{\"attributes\":{\"overlay\":{\"id\":\"11715\"}},\"id\":\"11711\",\"type\":\"BoxZoomTool\"},{\"attributes\":{},\"id\":\"11702\",\"type\":\"BasicTicker\"},{\"attributes\":{},\"id\":\"12115\",\"type\":\"AllLabels\"},{\"attributes\":{\"bottom_units\":\"screen\",\"fill_alpha\":0.5,\"fill_color\":\"lightgrey\",\"left_units\":\"screen\",\"level\":\"overlay\",\"line_alpha\":1.0,\"line_color\":\"black\",\"line_dash\":[4,4],\"line_width\":2,\"right_units\":\"screen\",\"syncable\":false,\"top_units\":\"screen\"},\"id\":\"11715\",\"type\":\"BoxAnnotation\"},{\"attributes\":{\"axis\":{\"id\":\"11701\"},\"ticker\":null},\"id\":\"11704\",\"type\":\"Grid\"},{\"attributes\":{\"axis\":{\"id\":\"11705\"},\"dimension\":1,\"ticker\":null},\"id\":\"11708\",\"type\":\"Grid\"},{\"attributes\":{},\"id\":\"11699\",\"type\":\"LinearScale\"},{\"attributes\":{},\"id\":\"12112\",\"type\":\"AllLabels\"},{\"attributes\":{},\"id\":\"11709\",\"type\":\"PanTool\"},{\"attributes\":{},\"id\":\"11697\",\"type\":\"LinearScale\"},{\"attributes\":{},\"id\":\"11714\",\"type\":\"HelpTool\"},{\"attributes\":{},\"id\":\"11706\",\"type\":\"BasicTicker\"},{\"attributes\":{\"dh\":{\"field\":\"dh\"},\"dw\":{\"field\":\"dw\"},\"image\":{\"field\":\"image\"},\"x\":{\"field\":\"x\"},\"y\":{\"field\":\"y\"}},\"id\":\"11724\",\"type\":\"ImageRGBA\"},{\"attributes\":{},\"id\":\"11713\",\"type\":\"ResetTool\"},{\"attributes\":{\"data_source\":{\"id\":\"11723\"},\"glyph\":{\"id\":\"11724\"},\"hover_glyph\":null,\"muted_glyph\":null,\"nonselection_glyph\":{\"id\":\"11725\"},\"view\":{\"id\":\"11727\"}},\"id\":\"11726\",\"type\":\"GlyphRenderer\"},{\"attributes\":{\"formatter\":{\"id\":\"12116\"},\"major_label_policy\":{\"id\":\"12115\"},\"ticker\":{\"id\":\"11702\"}},\"id\":\"11701\",\"type\":\"LinearAxis\"},{\"attributes\":{},\"id\":\"12110\",\"type\":\"Title\"},{\"attributes\":{\"formatter\":{\"id\":\"12113\"},\"major_label_policy\":{\"id\":\"12112\"},\"ticker\":{\"id\":\"11706\"}},\"id\":\"11705\",\"type\":\"LinearAxis\"},{\"attributes\":{},\"id\":\"12116\",\"type\":\"BasicTickFormatter\"},{\"attributes\":{\"data\":{\"dh\":[10],\"dw\":[10],\"image\":[{\"__ndarray__\":\"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\",\"dtype\":\"uint32\",\"order\":\"little\",\"shape\":[20,20]}],\"x\":[0],\"y\":[0]},\"selected\":{\"id\":\"12118\"},\"selection_policy\":{\"id\":\"12117\"}},\"id\":\"11723\",\"type\":\"ColumnDataSource\"},{\"attributes\":{},\"id\":\"11710\",\"type\":\"WheelZoomTool\"},{\"attributes\":{},\"id\":\"12117\",\"type\":\"UnionRenderers\"},{\"attributes\":{},\"id\":\"11712\",\"type\":\"SaveTool\"},{\"attributes\":{},\"id\":\"12118\",\"type\":\"Selection\"},{\"attributes\":{\"end\":10},\"id\":\"11695\",\"type\":\"Range1d\"},{\"attributes\":{\"dh\":{\"field\":\"dh\"},\"dw\":{\"field\":\"dw\"},\"global_alpha\":0.1,\"image\":{\"field\":\"image\"},\"x\":{\"field\":\"x\"},\"y\":{\"field\":\"y\"}},\"id\":\"11725\",\"type\":\"ImageRGBA\"},{\"attributes\":{\"source\":{\"id\":\"11723\"}},\"id\":\"11727\",\"type\":\"CDSView\"},{\"attributes\":{\"active_multi\":null,\"tools\":[{\"id\":\"11709\"},{\"id\":\"11710\"},{\"id\":\"11711\"},{\"id\":\"11712\"},{\"id\":\"11713\"},{\"id\":\"11714\"}]},\"id\":\"11716\",\"type\":\"Toolbar\"}],\"root_ids\":[\"11692\"]},\"title\":\"Bokeh Application\",\"version\":\"2.3.0\"}};\n",
       "  var render_items = [{\"docid\":\"96c296e9-3e8b-4b2f-a6c1-19502d2d6b27\",\"root_ids\":[\"11692\"],\"roots\":{\"11692\":\"50e38fea-30d6-4efc-919c-d8b571b1c50c\"}}];\n",
       "  root.Bokeh.embed.embed_items_notebook(docs_json, render_items);\n",
       "\n",
       "  }\n",
       "  if (root.Bokeh !== undefined) {\n",
       "    embed_document(root);\n",
       "  } else {\n",
       "    var attempts = 0;\n",
       "    var timer = setInterval(function(root) {\n",
       "      if (root.Bokeh !== undefined) {\n",
       "        clearInterval(timer);\n",
       "        embed_document(root);\n",
       "      } else {\n",
       "        attempts++;\n",
       "        if (attempts > 100) {\n",
       "          clearInterval(timer);\n",
       "          console.log(\"Bokeh: ERROR: Unable to run BokehJS code because BokehJS library is missing\");\n",
       "        }\n",
       "      }\n",
       "    }, 10, root)\n",
       "  }\n",
       "})(window);"
      ],
      "application/vnd.bokehjs_exec.v0+json": ""
     },
     "metadata": {
      "application/vnd.bokehjs_exec.v0+json": {
       "id": "11692"
      }
     },
     "output_type": "display_data"
    }
   ],
   "source": [
    "import numpy as np\n",
    "\n",
    "# create an array of RGBA data\n",
    "N = 20\n",
    "img = np.empty((N, N), dtype=np.uint32)\n",
    "view = img.view(dtype=np.uint8).reshape((N, N, 4))\n",
    "for i in range(N):\n",
    "    for j in range(N):\n",
    "        view[i, j, 0] = int(255 * i / N)\n",
    "        view[i, j, 1] = 158\n",
    "        view[i, j, 2] = int(255 * j / N)\n",
    "        view[i, j, 3] = 255\n",
    "\n",
    "p = figure(plot_height=250, x_range=(0, 10), y_range=(0, 10))\n",
    "p.image_rgba(image=[img], x=[0], y=[0], dw=[10], dh=[10])\n",
    "\n",
    "show(p)"
   ]
  },
  {
   "cell_type": "code",
   "execution_count": 63,
   "id": "stopped-mountain",
   "metadata": {},
   "outputs": [
    {
     "data": {
      "text/plain": [
       "(20, 20)"
      ]
     },
     "execution_count": 63,
     "metadata": {},
     "output_type": "execute_result"
    }
   ],
   "source": [
    "img.shape"
   ]
  },
  {
   "cell_type": "markdown",
   "id": "coral-gabriel",
   "metadata": {},
   "source": [
    "## Format des legendes"
   ]
  },
  {
   "cell_type": "code",
   "execution_count": 69,
   "id": "stunning-connectivity",
   "metadata": {},
   "outputs": [
    {
     "data": {
      "text/html": [
       "\n",
       "\n",
       "\n",
       "\n",
       "\n",
       "\n",
       "  <div class=\"bk-root\" id=\"d092e7ad-b4ae-4268-b273-3d92bffede61\" data-root-id=\"14995\"></div>\n"
      ]
     },
     "metadata": {},
     "output_type": "display_data"
    },
    {
     "data": {
      "application/javascript": [
       "(function(root) {\n",
       "  function embed_document(root) {\n",
       "    \n",
       "  var docs_json = {\"4246c2fb-c1e8-4f97-b0dc-c17bad7f8bc6\":{\"defs\":[{\"extends\":null,\"module\":null,\"name\":\"DataModel\",\"overrides\":[],\"properties\":[]}],\"roots\":{\"references\":[{\"attributes\":{\"below\":[{\"id\":\"15006\"}],\"center\":[{\"id\":\"15009\"},{\"id\":\"15013\"},{\"id\":\"15043\"}],\"height\":350,\"left\":[{\"id\":\"15010\"}],\"renderers\":[{\"id\":\"15031\"},{\"id\":\"15048\"}],\"title\":{\"id\":\"14996\"},\"toolbar\":{\"id\":\"15021\"},\"x_range\":{\"id\":\"14998\"},\"x_scale\":{\"id\":\"15002\"},\"y_range\":{\"id\":\"15000\"},\"y_scale\":{\"id\":\"15004\"}},\"id\":\"14995\",\"subtype\":\"Figure\",\"type\":\"Plot\"},{\"attributes\":{},\"id\":\"15035\",\"type\":\"AllLabels\"},{\"attributes\":{\"formatter\":{\"id\":\"15036\"},\"major_label_policy\":{\"id\":\"15035\"},\"ticker\":{\"id\":\"15011\"}},\"id\":\"15010\",\"type\":\"LinearAxis\"},{\"attributes\":{\"active_multi\":null,\"tools\":[{\"id\":\"15014\"},{\"id\":\"15015\"},{\"id\":\"15016\"},{\"id\":\"15017\"},{\"id\":\"15018\"},{\"id\":\"15019\"}]},\"id\":\"15021\",\"type\":\"Toolbar\"},{\"attributes\":{\"fill_alpha\":{\"value\":0.1},\"fill_color\":{\"value\":\"red\"},\"line_alpha\":{\"value\":0.1},\"line_color\":{\"value\":\"red\"},\"top\":{\"field\":\"top\"},\"width\":{\"value\":0.2},\"x\":{\"field\":\"x\"}},\"id\":\"15030\",\"type\":\"VBar\"},{\"attributes\":{},\"id\":\"15011\",\"type\":\"BasicTicker\"},{\"attributes\":{\"data\":{\"x\":[1,2,3,4,5],\"y\":[4,5,5,7,2]},\"selected\":{\"id\":\"15060\"},\"selection_policy\":{\"id\":\"15059\"}},\"id\":\"15045\",\"type\":\"ColumnDataSource\"},{\"attributes\":{},\"id\":\"15014\",\"type\":\"PanTool\"},{\"attributes\":{},\"id\":\"14998\",\"type\":\"DataRange1d\"},{\"attributes\":{},\"id\":\"15015\",\"type\":\"WheelZoomTool\"},{\"attributes\":{},\"id\":\"15004\",\"type\":\"LinearScale\"},{\"attributes\":{\"data\":{\"top\":[2,3,4,5,6],\"x\":[1,2,3,4,5]},\"selected\":{\"id\":\"15041\"},\"selection_policy\":{\"id\":\"15040\"}},\"id\":\"15028\",\"type\":\"ColumnDataSource\"},{\"attributes\":{\"overlay\":{\"id\":\"15020\"}},\"id\":\"15016\",\"type\":\"BoxZoomTool\"},{\"attributes\":{},\"id\":\"15017\",\"type\":\"SaveTool\"},{\"attributes\":{},\"id\":\"15036\",\"type\":\"BasicTickFormatter\"},{\"attributes\":{},\"id\":\"15018\",\"type\":\"ResetTool\"},{\"attributes\":{\"fill_color\":{\"value\":\"#1f77b4\"},\"line_color\":{\"value\":\"yellow\"},\"size\":{\"value\":12},\"x\":{\"field\":\"x\"},\"y\":{\"field\":\"y\"}},\"id\":\"15046\",\"type\":\"Circle\"},{\"attributes\":{\"text\":\"Courbes multiples\"},\"id\":\"14996\",\"type\":\"Title\"},{\"attributes\":{},\"id\":\"15019\",\"type\":\"HelpTool\"},{\"attributes\":{\"bottom_units\":\"screen\",\"fill_alpha\":0.5,\"fill_color\":\"lightgrey\",\"left_units\":\"screen\",\"level\":\"overlay\",\"line_alpha\":1.0,\"line_color\":\"black\",\"line_dash\":[4,4],\"line_width\":2,\"right_units\":\"screen\",\"syncable\":false,\"top_units\":\"screen\"},\"id\":\"15020\",\"type\":\"BoxAnnotation\"},{\"attributes\":{},\"id\":\"15041\",\"type\":\"Selection\"},{\"attributes\":{},\"id\":\"15002\",\"type\":\"LinearScale\"},{\"attributes\":{},\"id\":\"15038\",\"type\":\"AllLabels\"},{\"attributes\":{},\"id\":\"15060\",\"type\":\"Selection\"},{\"attributes\":{\"label\":{\"value\":\"Rate\"},\"renderers\":[{\"id\":\"15031\"}]},\"id\":\"15044\",\"type\":\"LegendItem\"},{\"attributes\":{\"label\":{\"value\":\"Objects\"},\"renderers\":[{\"id\":\"15048\"}]},\"id\":\"15062\",\"type\":\"LegendItem\"},{\"attributes\":{\"fill_color\":{\"value\":\"red\"},\"line_color\":{\"value\":\"red\"},\"top\":{\"field\":\"top\"},\"width\":{\"value\":0.2},\"x\":{\"field\":\"x\"}},\"id\":\"15029\",\"type\":\"VBar\"},{\"attributes\":{\"fill_alpha\":{\"value\":0.1},\"fill_color\":{\"value\":\"#1f77b4\"},\"line_alpha\":{\"value\":0.1},\"line_color\":{\"value\":\"yellow\"},\"size\":{\"value\":12},\"x\":{\"field\":\"x\"},\"y\":{\"field\":\"y\"}},\"id\":\"15047\",\"type\":\"Circle\"},{\"attributes\":{\"background_fill_alpha\":0.2,\"background_fill_color\":\"yellow\",\"border_line_alpha\":0.8,\"border_line_color\":\"navy\",\"border_line_width\":3,\"items\":[{\"id\":\"15044\"},{\"id\":\"15062\"}],\"label_text_color\":\"navy\",\"label_text_font\":\"courier\",\"label_text_font_style\":\"italic\",\"location\":\"top_left\",\"title\":\"Obervations\"},\"id\":\"15043\",\"type\":\"Legend\"},{\"attributes\":{},\"id\":\"15000\",\"type\":\"DataRange1d\"},{\"attributes\":{\"axis\":{\"id\":\"15006\"},\"ticker\":null},\"id\":\"15009\",\"type\":\"Grid\"},{\"attributes\":{\"formatter\":{\"id\":\"15039\"},\"major_label_policy\":{\"id\":\"15038\"},\"ticker\":{\"id\":\"15007\"}},\"id\":\"15006\",\"type\":\"LinearAxis\"},{\"attributes\":{\"axis\":{\"id\":\"15010\"},\"dimension\":1,\"ticker\":null},\"id\":\"15013\",\"type\":\"Grid\"},{\"attributes\":{},\"id\":\"15007\",\"type\":\"BasicTicker\"},{\"attributes\":{},\"id\":\"15039\",\"type\":\"BasicTickFormatter\"},{\"attributes\":{},\"id\":\"15040\",\"type\":\"UnionRenderers\"},{\"attributes\":{\"data_source\":{\"id\":\"15028\"},\"glyph\":{\"id\":\"15029\"},\"hover_glyph\":null,\"muted_glyph\":null,\"nonselection_glyph\":{\"id\":\"15030\"},\"view\":{\"id\":\"15032\"}},\"id\":\"15031\",\"type\":\"GlyphRenderer\"},{\"attributes\":{},\"id\":\"15059\",\"type\":\"UnionRenderers\"},{\"attributes\":{\"source\":{\"id\":\"15045\"}},\"id\":\"15049\",\"type\":\"CDSView\"},{\"attributes\":{\"data_source\":{\"id\":\"15045\"},\"glyph\":{\"id\":\"15046\"},\"hover_glyph\":null,\"muted_glyph\":null,\"nonselection_glyph\":{\"id\":\"15047\"},\"view\":{\"id\":\"15049\"}},\"id\":\"15048\",\"type\":\"GlyphRenderer\"},{\"attributes\":{\"source\":{\"id\":\"15028\"}},\"id\":\"15032\",\"type\":\"CDSView\"}],\"root_ids\":[\"14995\"]},\"title\":\"Bokeh Application\",\"version\":\"2.3.0\"}};\n",
       "  var render_items = [{\"docid\":\"4246c2fb-c1e8-4f97-b0dc-c17bad7f8bc6\",\"root_ids\":[\"14995\"],\"roots\":{\"14995\":\"d092e7ad-b4ae-4268-b273-3d92bffede61\"}}];\n",
       "  root.Bokeh.embed.embed_items_notebook(docs_json, render_items);\n",
       "\n",
       "  }\n",
       "  if (root.Bokeh !== undefined) {\n",
       "    embed_document(root);\n",
       "  } else {\n",
       "    var attempts = 0;\n",
       "    var timer = setInterval(function(root) {\n",
       "      if (root.Bokeh !== undefined) {\n",
       "        clearInterval(timer);\n",
       "        embed_document(root);\n",
       "      } else {\n",
       "        attempts++;\n",
       "        if (attempts > 100) {\n",
       "          clearInterval(timer);\n",
       "          console.log(\"Bokeh: ERROR: Unable to run BokehJS code because BokehJS library is missing\");\n",
       "        }\n",
       "      }\n",
       "    }, 10, root)\n",
       "  }\n",
       "})(window);"
      ],
      "application/vnd.bokehjs_exec.v0+json": ""
     },
     "metadata": {
      "application/vnd.bokehjs_exec.v0+json": {
       "id": "14995"
      }
     },
     "output_type": "display_data"
    }
   ],
   "source": [
    "p = figure(title=\"Courbes multiples\", plot_height=350)\n",
    "\n",
    "# add multiple renderers\n",
    "p.vbar(x=x, top=y2, legend_label=\"Rate\", width=0.2, bottom=0, color=\"red\")\n",
    "p.circle(x, y3, legend_label=\"Objects\", line_color=\"yellow\", size=12)\n",
    "\n",
    "# display legend in top left corner (default is top right corner)\n",
    "p.legend.location = \"top_left\"\n",
    "\n",
    "# add a title to your legend\n",
    "p.legend.title = \"Obervations\"\n",
    "\n",
    "# change appearance of legend text\n",
    "p.legend.label_text_font = \"courier\"\n",
    "p.legend.label_text_font_style = \"italic\"\n",
    "p.legend.label_text_color = \"navy\"\n",
    "\n",
    "# change border and background of legend\n",
    "p.legend.border_line_width = 3\n",
    "p.legend.border_line_color = \"navy\"\n",
    "p.legend.border_line_alpha = 0.8\n",
    "p.legend.background_fill_color = \"yellow\"\n",
    "p.legend.background_fill_alpha = 0.2\n",
    "\n",
    "# show the results\n",
    "show(p)"
   ]
  },
  {
   "cell_type": "markdown",
   "id": "young-kingston",
   "metadata": {},
   "source": [
    "## Format du titre"
   ]
  },
  {
   "cell_type": "code",
   "execution_count": 73,
   "id": "neural-powder",
   "metadata": {},
   "outputs": [
    {
     "data": {
      "text/html": [
       "\n",
       "\n",
       "\n",
       "\n",
       "\n",
       "\n",
       "  <div class=\"bk-root\" id=\"fefd9a37-1a60-457d-bd43-e2e5d7a28199\" data-root-id=\"14995\"></div>\n"
      ]
     },
     "metadata": {},
     "output_type": "display_data"
    },
    {
     "data": {
      "application/javascript": [
       "(function(root) {\n",
       "  function embed_document(root) {\n",
       "    \n",
       "  var docs_json = {\"547fcc1f-6727-4847-9949-6a946c25fce7\":{\"defs\":[{\"extends\":null,\"module\":null,\"name\":\"DataModel\",\"overrides\":[],\"properties\":[]}],\"roots\":{\"references\":[{\"attributes\":{\"below\":[{\"id\":\"15006\"}],\"center\":[{\"id\":\"15009\"},{\"id\":\"15013\"},{\"id\":\"15043\"}],\"height\":350,\"left\":[{\"id\":\"15010\"}],\"renderers\":[{\"id\":\"15031\"},{\"id\":\"15048\"}],\"title\":{\"id\":\"14996\"},\"title_location\":\"left\",\"toolbar\":{\"id\":\"15021\"},\"x_range\":{\"id\":\"14998\"},\"x_scale\":{\"id\":\"15002\"},\"y_range\":{\"id\":\"15000\"},\"y_scale\":{\"id\":\"15004\"}},\"id\":\"14995\",\"subtype\":\"Figure\",\"type\":\"Plot\"},{\"attributes\":{},\"id\":\"15035\",\"type\":\"AllLabels\"},{\"attributes\":{\"formatter\":{\"id\":\"15036\"},\"major_label_policy\":{\"id\":\"15035\"},\"ticker\":{\"id\":\"15011\"}},\"id\":\"15010\",\"type\":\"LinearAxis\"},{\"attributes\":{\"active_multi\":null,\"tools\":[{\"id\":\"15014\"},{\"id\":\"15015\"},{\"id\":\"15016\"},{\"id\":\"15017\"},{\"id\":\"15018\"},{\"id\":\"15019\"}]},\"id\":\"15021\",\"type\":\"Toolbar\"},{\"attributes\":{\"fill_alpha\":{\"value\":0.1},\"fill_color\":{\"value\":\"red\"},\"line_alpha\":{\"value\":0.1},\"line_color\":{\"value\":\"red\"},\"top\":{\"field\":\"top\"},\"width\":{\"value\":0.2},\"x\":{\"field\":\"x\"}},\"id\":\"15030\",\"type\":\"VBar\"},{\"attributes\":{},\"id\":\"15011\",\"type\":\"BasicTicker\"},{\"attributes\":{\"data\":{\"x\":[1,2,3,4,5],\"y\":[4,5,5,7,2]},\"selected\":{\"id\":\"15060\"},\"selection_policy\":{\"id\":\"15059\"}},\"id\":\"15045\",\"type\":\"ColumnDataSource\"},{\"attributes\":{},\"id\":\"15014\",\"type\":\"PanTool\"},{\"attributes\":{},\"id\":\"14998\",\"type\":\"DataRange1d\"},{\"attributes\":{},\"id\":\"15015\",\"type\":\"WheelZoomTool\"},{\"attributes\":{},\"id\":\"15004\",\"type\":\"LinearScale\"},{\"attributes\":{\"data\":{\"top\":[2,3,4,5,6],\"x\":[1,2,3,4,5]},\"selected\":{\"id\":\"15041\"},\"selection_policy\":{\"id\":\"15040\"}},\"id\":\"15028\",\"type\":\"ColumnDataSource\"},{\"attributes\":{\"overlay\":{\"id\":\"15020\"}},\"id\":\"15016\",\"type\":\"BoxZoomTool\"},{\"attributes\":{},\"id\":\"15017\",\"type\":\"SaveTool\"},{\"attributes\":{},\"id\":\"15036\",\"type\":\"BasicTickFormatter\"},{\"attributes\":{},\"id\":\"15018\",\"type\":\"ResetTool\"},{\"attributes\":{\"fill_color\":{\"value\":\"#1f77b4\"},\"line_color\":{\"value\":\"yellow\"},\"size\":{\"value\":12},\"x\":{\"field\":\"x\"},\"y\":{\"field\":\"y\"}},\"id\":\"15046\",\"type\":\"Circle\"},{\"attributes\":{\"align\":\"left\",\"background_fill_color\":\"darkgrey\",\"text\":\" headline text example \",\"text_color\":\"white\",\"text_font_size\":\"25px\"},\"id\":\"14996\",\"type\":\"Title\"},{\"attributes\":{},\"id\":\"15019\",\"type\":\"HelpTool\"},{\"attributes\":{\"bottom_units\":\"screen\",\"fill_alpha\":0.5,\"fill_color\":\"lightgrey\",\"left_units\":\"screen\",\"level\":\"overlay\",\"line_alpha\":1.0,\"line_color\":\"black\",\"line_dash\":[4,4],\"line_width\":2,\"right_units\":\"screen\",\"syncable\":false,\"top_units\":\"screen\"},\"id\":\"15020\",\"type\":\"BoxAnnotation\"},{\"attributes\":{},\"id\":\"15041\",\"type\":\"Selection\"},{\"attributes\":{},\"id\":\"15002\",\"type\":\"LinearScale\"},{\"attributes\":{},\"id\":\"15038\",\"type\":\"AllLabels\"},{\"attributes\":{},\"id\":\"15060\",\"type\":\"Selection\"},{\"attributes\":{\"label\":{\"value\":\"Rate\"},\"renderers\":[{\"id\":\"15031\"}]},\"id\":\"15044\",\"type\":\"LegendItem\"},{\"attributes\":{\"label\":{\"value\":\"Objects\"},\"renderers\":[{\"id\":\"15048\"}]},\"id\":\"15062\",\"type\":\"LegendItem\"},{\"attributes\":{\"fill_color\":{\"value\":\"red\"},\"line_color\":{\"value\":\"red\"},\"top\":{\"field\":\"top\"},\"width\":{\"value\":0.2},\"x\":{\"field\":\"x\"}},\"id\":\"15029\",\"type\":\"VBar\"},{\"attributes\":{\"fill_alpha\":{\"value\":0.1},\"fill_color\":{\"value\":\"#1f77b4\"},\"line_alpha\":{\"value\":0.1},\"line_color\":{\"value\":\"yellow\"},\"size\":{\"value\":12},\"x\":{\"field\":\"x\"},\"y\":{\"field\":\"y\"}},\"id\":\"15047\",\"type\":\"Circle\"},{\"attributes\":{\"background_fill_alpha\":0.2,\"background_fill_color\":\"yellow\",\"border_line_alpha\":0.8,\"border_line_color\":\"navy\",\"border_line_width\":3,\"items\":[{\"id\":\"15044\"},{\"id\":\"15062\"}],\"label_text_color\":\"navy\",\"label_text_font\":\"courier\",\"label_text_font_style\":\"italic\",\"location\":\"top_left\",\"title\":\"Obervations\"},\"id\":\"15043\",\"type\":\"Legend\"},{\"attributes\":{},\"id\":\"15000\",\"type\":\"DataRange1d\"},{\"attributes\":{\"axis\":{\"id\":\"15006\"},\"ticker\":null},\"id\":\"15009\",\"type\":\"Grid\"},{\"attributes\":{\"formatter\":{\"id\":\"15039\"},\"major_label_policy\":{\"id\":\"15038\"},\"ticker\":{\"id\":\"15007\"}},\"id\":\"15006\",\"type\":\"LinearAxis\"},{\"attributes\":{\"axis\":{\"id\":\"15010\"},\"dimension\":1,\"ticker\":null},\"id\":\"15013\",\"type\":\"Grid\"},{\"attributes\":{},\"id\":\"15007\",\"type\":\"BasicTicker\"},{\"attributes\":{},\"id\":\"15039\",\"type\":\"BasicTickFormatter\"},{\"attributes\":{},\"id\":\"15040\",\"type\":\"UnionRenderers\"},{\"attributes\":{\"data_source\":{\"id\":\"15028\"},\"glyph\":{\"id\":\"15029\"},\"hover_glyph\":null,\"muted_glyph\":null,\"nonselection_glyph\":{\"id\":\"15030\"},\"view\":{\"id\":\"15032\"}},\"id\":\"15031\",\"type\":\"GlyphRenderer\"},{\"attributes\":{},\"id\":\"15059\",\"type\":\"UnionRenderers\"},{\"attributes\":{\"source\":{\"id\":\"15045\"}},\"id\":\"15049\",\"type\":\"CDSView\"},{\"attributes\":{\"data_source\":{\"id\":\"15045\"},\"glyph\":{\"id\":\"15046\"},\"hover_glyph\":null,\"muted_glyph\":null,\"nonselection_glyph\":{\"id\":\"15047\"},\"view\":{\"id\":\"15049\"}},\"id\":\"15048\",\"type\":\"GlyphRenderer\"},{\"attributes\":{\"source\":{\"id\":\"15028\"}},\"id\":\"15032\",\"type\":\"CDSView\"}],\"root_ids\":[\"14995\"]},\"title\":\"Bokeh Application\",\"version\":\"2.3.0\"}};\n",
       "  var render_items = [{\"docid\":\"547fcc1f-6727-4847-9949-6a946c25fce7\",\"root_ids\":[\"14995\"],\"roots\":{\"14995\":\"fefd9a37-1a60-457d-bd43-e2e5d7a28199\"}}];\n",
       "  root.Bokeh.embed.embed_items_notebook(docs_json, render_items);\n",
       "\n",
       "  }\n",
       "  if (root.Bokeh !== undefined) {\n",
       "    embed_document(root);\n",
       "  } else {\n",
       "    var attempts = 0;\n",
       "    var timer = setInterval(function(root) {\n",
       "      if (root.Bokeh !== undefined) {\n",
       "        clearInterval(timer);\n",
       "        embed_document(root);\n",
       "      } else {\n",
       "        attempts++;\n",
       "        if (attempts > 100) {\n",
       "          clearInterval(timer);\n",
       "          console.log(\"Bokeh: ERROR: Unable to run BokehJS code because BokehJS library is missing\");\n",
       "        }\n",
       "      }\n",
       "    }, 10, root)\n",
       "  }\n",
       "})(window);"
      ],
      "application/vnd.bokehjs_exec.v0+json": ""
     },
     "metadata": {
      "application/vnd.bokehjs_exec.v0+json": {
       "id": "14995"
      }
     },
     "output_type": "display_data"
    }
   ],
   "source": [
    "# change headline location to the left\n",
    "p.title_location = \"left\"\n",
    "\n",
    "# change headline text\n",
    "p.title.text = \" headline text example \"\n",
    "\n",
    "# style the headline\n",
    "p.title.text_font_size = \"25px\"\n",
    "p.title.align = \"left\"\n",
    "p.title.background_fill_color = \"darkgrey\"\n",
    "p.title.text_color = \"white\"\n",
    "\n",
    "# show the results\n",
    "show(p)"
   ]
  },
  {
   "cell_type": "code",
   "execution_count": 79,
   "id": "mobile-quantity",
   "metadata": {},
   "outputs": [
    {
     "data": {
      "text/html": [
       "\n",
       "\n",
       "\n",
       "\n",
       "\n",
       "\n",
       "  <div class=\"bk-root\" id=\"d5242a51-0f5f-4434-8ec2-9ada76daffd5\" data-root-id=\"20614\"></div>\n"
      ]
     },
     "metadata": {},
     "output_type": "display_data"
    },
    {
     "data": {
      "application/javascript": [
       "(function(root) {\n",
       "  function embed_document(root) {\n",
       "    \n",
       "  var docs_json = {\"db38a4ff-2438-4be5-89d4-cf255b5d36d4\":{\"defs\":[{\"extends\":null,\"module\":null,\"name\":\"DataModel\",\"overrides\":[],\"properties\":[]}],\"roots\":{\"references\":[{\"attributes\":{\"below\":[{\"id\":\"20625\"}],\"center\":[{\"id\":\"20628\"},{\"id\":\"20632\"},{\"id\":\"20662\"},{\"id\":\"20682\"},{\"id\":\"20683\"},{\"id\":\"20684\"}],\"height\":350,\"left\":[{\"id\":\"20629\"}],\"renderers\":[{\"id\":\"20650\"},{\"id\":\"20667\"}],\"title\":{\"id\":\"20615\"},\"toolbar\":{\"id\":\"20640\"},\"x_range\":{\"id\":\"20617\"},\"x_scale\":{\"id\":\"20621\"},\"y_range\":{\"id\":\"20619\"},\"y_scale\":{\"id\":\"20623\"}},\"id\":\"20614\",\"subtype\":\"Figure\",\"type\":\"Plot\"},{\"attributes\":{},\"id\":\"20679\",\"type\":\"Selection\"},{\"attributes\":{},\"id\":\"20659\",\"type\":\"UnionRenderers\"},{\"attributes\":{\"background_fill_color\":\"yellow\",\"items\":[{\"id\":\"20663\"},{\"id\":\"20681\"}],\"location\":\"top_left\"},\"id\":\"20662\",\"type\":\"Legend\"},{\"attributes\":{},\"id\":\"20636\",\"type\":\"SaveTool\"},{\"attributes\":{},\"id\":\"20657\",\"type\":\"AllLabels\"},{\"attributes\":{},\"id\":\"20626\",\"type\":\"BasicTicker\"},{\"attributes\":{\"formatter\":{\"id\":\"20655\"},\"major_label_policy\":{\"id\":\"20654\"},\"ticker\":{\"id\":\"20630\"}},\"id\":\"20629\",\"type\":\"LinearAxis\"},{\"attributes\":{\"axis\":{\"id\":\"20629\"},\"dimension\":1,\"ticker\":null},\"id\":\"20632\",\"type\":\"Grid\"},{\"attributes\":{\"fill_alpha\":{\"value\":0.1},\"fill_color\":{\"value\":\"red\"},\"line_alpha\":{\"value\":0.1},\"line_color\":{\"value\":\"red\"},\"top\":{\"field\":\"top\"},\"width\":{\"value\":0.2},\"x\":{\"field\":\"x\"}},\"id\":\"20649\",\"type\":\"VBar\"},{\"attributes\":{\"bottom_units\":\"screen\",\"fill_alpha\":0.5,\"fill_color\":\"lightgrey\",\"left_units\":\"screen\",\"level\":\"overlay\",\"line_alpha\":1.0,\"line_color\":\"black\",\"line_dash\":[4,4],\"line_width\":2,\"right_units\":\"screen\",\"syncable\":false,\"top_units\":\"screen\"},\"id\":\"20639\",\"type\":\"BoxAnnotation\"},{\"attributes\":{},\"id\":\"20617\",\"type\":\"DataRange1d\"},{\"attributes\":{},\"id\":\"20655\",\"type\":\"BasicTickFormatter\"},{\"attributes\":{},\"id\":\"20633\",\"type\":\"PanTool\"},{\"attributes\":{\"overlay\":{\"id\":\"20639\"}},\"id\":\"20635\",\"type\":\"BoxZoomTool\"},{\"attributes\":{},\"id\":\"20654\",\"type\":\"AllLabels\"},{\"attributes\":{\"bottom\":2.5,\"fill_alpha\":0.1,\"fill_color\":\"green\",\"top\":4.5},\"id\":\"20683\",\"type\":\"BoxAnnotation\"},{\"attributes\":{\"formatter\":{\"id\":\"20658\"},\"major_label_policy\":{\"id\":\"20657\"},\"ticker\":{\"id\":\"20626\"}},\"id\":\"20625\",\"type\":\"LinearAxis\"},{\"attributes\":{\"fill_alpha\":0.1,\"fill_color\":\"red\",\"top\":2.5},\"id\":\"20682\",\"type\":\"BoxAnnotation\"},{\"attributes\":{\"data\":{\"top\":[2,3,4,5,6],\"x\":[1,2,3,4,5]},\"selected\":{\"id\":\"20660\"},\"selection_policy\":{\"id\":\"20659\"}},\"id\":\"20647\",\"type\":\"ColumnDataSource\"},{\"attributes\":{},\"id\":\"20621\",\"type\":\"LinearScale\"},{\"attributes\":{},\"id\":\"20619\",\"type\":\"DataRange1d\"},{\"attributes\":{},\"id\":\"20660\",\"type\":\"Selection\"},{\"attributes\":{},\"id\":\"20678\",\"type\":\"UnionRenderers\"},{\"attributes\":{},\"id\":\"20623\",\"type\":\"LinearScale\"},{\"attributes\":{\"data_source\":{\"id\":\"20647\"},\"glyph\":{\"id\":\"20648\"},\"hover_glyph\":null,\"muted_glyph\":null,\"nonselection_glyph\":{\"id\":\"20649\"},\"view\":{\"id\":\"20651\"}},\"id\":\"20650\",\"type\":\"GlyphRenderer\"},{\"attributes\":{\"source\":{\"id\":\"20664\"}},\"id\":\"20668\",\"type\":\"CDSView\"},{\"attributes\":{\"text\":\"Annotations\"},\"id\":\"20615\",\"type\":\"Title\"},{\"attributes\":{\"label\":{\"value\":\"Rate\"},\"renderers\":[{\"id\":\"20650\"}]},\"id\":\"20663\",\"type\":\"LegendItem\"},{\"attributes\":{\"active_multi\":null,\"tools\":[{\"id\":\"20633\"},{\"id\":\"20634\"},{\"id\":\"20635\"},{\"id\":\"20636\"},{\"id\":\"20637\"},{\"id\":\"20638\"}]},\"id\":\"20640\",\"type\":\"Toolbar\"},{\"attributes\":{\"source\":{\"id\":\"20647\"}},\"id\":\"20651\",\"type\":\"CDSView\"},{\"attributes\":{\"fill_color\":{\"value\":\"red\"},\"line_color\":{\"value\":\"red\"},\"top\":{\"field\":\"top\"},\"width\":{\"value\":0.2},\"x\":{\"field\":\"x\"}},\"id\":\"20648\",\"type\":\"VBar\"},{\"attributes\":{},\"id\":\"20638\",\"type\":\"HelpTool\"},{\"attributes\":{\"data\":{\"x\":[1,2,3,4,5],\"y\":[4,5,5,7,2]},\"selected\":{\"id\":\"20679\"},\"selection_policy\":{\"id\":\"20678\"}},\"id\":\"20664\",\"type\":\"ColumnDataSource\"},{\"attributes\":{\"label\":{\"value\":\"Objects\"},\"renderers\":[{\"id\":\"20667\"}]},\"id\":\"20681\",\"type\":\"LegendItem\"},{\"attributes\":{},\"id\":\"20634\",\"type\":\"WheelZoomTool\"},{\"attributes\":{\"fill_alpha\":{\"value\":0.1},\"fill_color\":{\"value\":\"#1f77b4\"},\"line_alpha\":{\"value\":0.1},\"line_color\":{\"value\":\"yellow\"},\"size\":{\"value\":12},\"x\":{\"field\":\"x\"},\"y\":{\"field\":\"y\"}},\"id\":\"20666\",\"type\":\"Circle\"},{\"attributes\":{},\"id\":\"20637\",\"type\":\"ResetTool\"},{\"attributes\":{},\"id\":\"20630\",\"type\":\"BasicTicker\"},{\"attributes\":{\"data_source\":{\"id\":\"20664\"},\"glyph\":{\"id\":\"20665\"},\"hover_glyph\":null,\"muted_glyph\":null,\"nonselection_glyph\":{\"id\":\"20666\"},\"view\":{\"id\":\"20668\"}},\"id\":\"20667\",\"type\":\"GlyphRenderer\"},{\"attributes\":{\"axis\":{\"id\":\"20625\"},\"ticker\":null},\"id\":\"20628\",\"type\":\"Grid\"},{\"attributes\":{},\"id\":\"20658\",\"type\":\"BasicTickFormatter\"},{\"attributes\":{\"bottom\":4.5,\"fill_alpha\":0.1,\"fill_color\":\"red\"},\"id\":\"20684\",\"type\":\"BoxAnnotation\"},{\"attributes\":{\"fill_color\":{\"value\":\"#1f77b4\"},\"line_color\":{\"value\":\"yellow\"},\"size\":{\"value\":12},\"x\":{\"field\":\"x\"},\"y\":{\"field\":\"y\"}},\"id\":\"20665\",\"type\":\"Circle\"}],\"root_ids\":[\"20614\"]},\"title\":\"Bokeh Application\",\"version\":\"2.3.0\"}};\n",
       "  var render_items = [{\"docid\":\"db38a4ff-2438-4be5-89d4-cf255b5d36d4\",\"root_ids\":[\"20614\"],\"roots\":{\"20614\":\"d5242a51-0f5f-4434-8ec2-9ada76daffd5\"}}];\n",
       "  root.Bokeh.embed.embed_items_notebook(docs_json, render_items);\n",
       "\n",
       "  }\n",
       "  if (root.Bokeh !== undefined) {\n",
       "    embed_document(root);\n",
       "  } else {\n",
       "    var attempts = 0;\n",
       "    var timer = setInterval(function(root) {\n",
       "      if (root.Bokeh !== undefined) {\n",
       "        clearInterval(timer);\n",
       "        embed_document(root);\n",
       "      } else {\n",
       "        attempts++;\n",
       "        if (attempts > 100) {\n",
       "          clearInterval(timer);\n",
       "          console.log(\"Bokeh: ERROR: Unable to run BokehJS code because BokehJS library is missing\");\n",
       "        }\n",
       "      }\n",
       "    }, 10, root)\n",
       "  }\n",
       "})(window);"
      ],
      "application/vnd.bokehjs_exec.v0+json": ""
     },
     "metadata": {
      "application/vnd.bokehjs_exec.v0+json": {
       "id": "20614"
      }
     },
     "output_type": "display_data"
    }
   ],
   "source": [
    "from bokeh.models import BoxAnnotation\n",
    "\n",
    "p = figure(title=\"Annotations\", plot_height=350)\n",
    "p.vbar(x=x, top=y2, legend_label=\"Rate\", width=0.2, bottom=0, color=\"red\")\n",
    "p.circle(x, y3, legend_label=\"Objects\", line_color=\"yellow\", size=12)\n",
    "\n",
    "p.legend.location = \"top_left\"\n",
    "p.legend.background_fill_color = \"yellow\"\n",
    "\n",
    "low_box = BoxAnnotation(top=2.5, fill_alpha=0.1, fill_color='red')\n",
    "mid_box = BoxAnnotation(bottom=2.5, top=4.5, fill_alpha=0.1, fill_color='green')\n",
    "high_box = BoxAnnotation(bottom=4.5, fill_alpha=0.1, fill_color='red')\n",
    "\n",
    "p.add_layout(low_box)\n",
    "p.add_layout(mid_box)\n",
    "p.add_layout(high_box)\n",
    "\n",
    "show(p)"
   ]
  },
  {
   "cell_type": "markdown",
   "id": "formal-finder",
   "metadata": {},
   "source": [
    "## Interface GUI"
   ]
  },
  {
   "cell_type": "code",
   "execution_count": 81,
   "id": "featured-earth",
   "metadata": {},
   "outputs": [
    {
     "data": {
      "text/html": [
       "\n",
       "\n",
       "\n",
       "\n",
       "\n",
       "\n",
       "  <div class=\"bk-root\" id=\"8787e238-d8f6-4bd8-86b4-0a3eeb10796d\" data-root-id=\"21775\"></div>\n"
      ]
     },
     "metadata": {},
     "output_type": "display_data"
    },
    {
     "data": {
      "application/javascript": [
       "(function(root) {\n",
       "  function embed_document(root) {\n",
       "    \n",
       "  var docs_json = {\"f50c92eb-73dc-4a1b-9923-a2946ffea9f5\":{\"defs\":[{\"extends\":null,\"module\":null,\"name\":\"DataModel\",\"overrides\":[],\"properties\":[]}],\"roots\":{\"references\":[{\"attributes\":{\"button_type\":\"success\",\"icon\":null,\"js_event_callbacks\":{\"button_click\":[{\"id\":\"21776\"}]},\"label\":\"Foo\"},\"id\":\"21775\",\"type\":\"Button\"},{\"attributes\":{\"code\":\"console.log('button: click!', this.toString())\"},\"id\":\"21776\",\"type\":\"CustomJS\"}],\"root_ids\":[\"21775\"]},\"title\":\"Bokeh Application\",\"version\":\"2.3.0\"}};\n",
       "  var render_items = [{\"docid\":\"f50c92eb-73dc-4a1b-9923-a2946ffea9f5\",\"root_ids\":[\"21775\"],\"roots\":{\"21775\":\"8787e238-d8f6-4bd8-86b4-0a3eeb10796d\"}}];\n",
       "  root.Bokeh.embed.embed_items_notebook(docs_json, render_items);\n",
       "\n",
       "  }\n",
       "  if (root.Bokeh !== undefined) {\n",
       "    embed_document(root);\n",
       "  } else {\n",
       "    var attempts = 0;\n",
       "    var timer = setInterval(function(root) {\n",
       "      if (root.Bokeh !== undefined) {\n",
       "        clearInterval(timer);\n",
       "        embed_document(root);\n",
       "      } else {\n",
       "        attempts++;\n",
       "        if (attempts > 100) {\n",
       "          clearInterval(timer);\n",
       "          console.log(\"Bokeh: ERROR: Unable to run BokehJS code because BokehJS library is missing\");\n",
       "        }\n",
       "      }\n",
       "    }, 10, root)\n",
       "  }\n",
       "})(window);"
      ],
      "application/vnd.bokehjs_exec.v0+json": ""
     },
     "metadata": {
      "application/vnd.bokehjs_exec.v0+json": {
       "id": "21775"
      }
     },
     "output_type": "display_data"
    }
   ],
   "source": [
    "from bokeh.models import Button, CustomJS\n",
    "\n",
    "button = Button(label=\"Foo\", button_type=\"success\")\n",
    "button.js_on_click(CustomJS(code=\"console.log('button: click!', this.toString())\"))\n",
    "\n",
    "show(button)"
   ]
  },
  {
   "cell_type": "code",
   "execution_count": 83,
   "id": "animated-sperm",
   "metadata": {},
   "outputs": [
    {
     "data": {
      "text/html": [
       "\n",
       "\n",
       "\n",
       "\n",
       "\n",
       "\n",
       "  <div class=\"bk-root\" id=\"381acdd1-a784-4c30-8ec9-860c027e34ca\" data-root-id=\"22291\"></div>\n"
      ]
     },
     "metadata": {},
     "output_type": "display_data"
    },
    {
     "data": {
      "application/javascript": [
       "(function(root) {\n",
       "  function embed_document(root) {\n",
       "    \n",
       "  var docs_json = {\"1113bf5e-8254-4a50-ac9d-c2b4a37d47dd\":{\"defs\":[{\"extends\":null,\"module\":null,\"name\":\"DataModel\",\"overrides\":[],\"properties\":[]}],\"roots\":{\"references\":[{\"attributes\":{\"active\":[0,1],\"js_property_callbacks\":{\"change:active\":[{\"id\":\"22292\"}]},\"labels\":[\"Option 1\",\"Option 2\",\"Option 3\"]},\"id\":\"22291\",\"type\":\"CheckboxButtonGroup\"},{\"attributes\":{\"code\":\"\\n    console.log('checkbox_button_group: active=' + this.active, this.toString())\\n\"},\"id\":\"22292\",\"type\":\"CustomJS\"}],\"root_ids\":[\"22291\"]},\"title\":\"Bokeh Application\",\"version\":\"2.3.0\"}};\n",
       "  var render_items = [{\"docid\":\"1113bf5e-8254-4a50-ac9d-c2b4a37d47dd\",\"root_ids\":[\"22291\"],\"roots\":{\"22291\":\"381acdd1-a784-4c30-8ec9-860c027e34ca\"}}];\n",
       "  root.Bokeh.embed.embed_items_notebook(docs_json, render_items);\n",
       "\n",
       "  }\n",
       "  if (root.Bokeh !== undefined) {\n",
       "    embed_document(root);\n",
       "  } else {\n",
       "    var attempts = 0;\n",
       "    var timer = setInterval(function(root) {\n",
       "      if (root.Bokeh !== undefined) {\n",
       "        clearInterval(timer);\n",
       "        embed_document(root);\n",
       "      } else {\n",
       "        attempts++;\n",
       "        if (attempts > 100) {\n",
       "          clearInterval(timer);\n",
       "          console.log(\"Bokeh: ERROR: Unable to run BokehJS code because BokehJS library is missing\");\n",
       "        }\n",
       "      }\n",
       "    }, 10, root)\n",
       "  }\n",
       "})(window);"
      ],
      "application/vnd.bokehjs_exec.v0+json": ""
     },
     "metadata": {
      "application/vnd.bokehjs_exec.v0+json": {
       "id": "22291"
      }
     },
     "output_type": "display_data"
    }
   ],
   "source": [
    "from bokeh.models import CheckboxButtonGroup, CustomJS\n",
    "\n",
    "LABELS = [\"Option 1\", \"Option 2\", \"Option 3\"]\n",
    "\n",
    "checkbox_button_group = CheckboxButtonGroup(labels=LABELS, active=[0, 1])\n",
    "checkbox_button_group.js_on_click(CustomJS(code=\"\"\"\n",
    "    console.log('checkbox_button_group: active=' + this.active, this.toString())\n",
    "\"\"\"))\n",
    "\n",
    "show(checkbox_button_group)"
   ]
  },
  {
   "cell_type": "code",
   "execution_count": 86,
   "id": "amazing-pencil",
   "metadata": {},
   "outputs": [
    {
     "data": {
      "text/html": [
       "\n",
       "\n",
       "\n",
       "\n",
       "\n",
       "\n",
       "  <div class=\"bk-root\" id=\"22d68b25-927d-4e0c-b8df-b1c2ae6f1134\" data-root-id=\"24094\"></div>\n"
      ]
     },
     "metadata": {},
     "output_type": "display_data"
    },
    {
     "data": {
      "application/javascript": [
       "(function(root) {\n",
       "  function embed_document(root) {\n",
       "    \n",
       "  var docs_json = {\"0cc615d6-d533-4da0-8db0-377eaf3684ac\":{\"defs\":[{\"extends\":null,\"module\":null,\"name\":\"DataModel\",\"overrides\":[],\"properties\":[]}],\"roots\":{\"references\":[{\"attributes\":{\"children\":[{\"id\":\"24056\"},{\"id\":\"24092\"}]},\"id\":\"24094\",\"type\":\"Column\"},{\"attributes\":{\"data_source\":{\"id\":\"24087\"},\"glyph\":{\"id\":\"24088\"},\"hover_glyph\":null,\"muted_glyph\":null,\"nonselection_glyph\":{\"id\":\"24089\"},\"view\":{\"id\":\"24091\"}},\"id\":\"24090\",\"type\":\"GlyphRenderer\"},{\"attributes\":{},\"id\":\"24635\",\"type\":\"BasicTickFormatter\"},{\"attributes\":{},\"id\":\"24632\",\"type\":\"Title\"},{\"attributes\":{\"line_alpha\":0.1,\"line_width\":4,\"x\":{\"field\":\"x\"},\"y\":{\"field\":\"y\"}},\"id\":\"24089\",\"type\":\"Line\"},{\"attributes\":{\"js_property_callbacks\":{\"change:color\":[{\"id\":\"24093\"}]},\"title\":\"Line Color\"},\"id\":\"24092\",\"type\":\"ColorPicker\"},{\"attributes\":{\"args\":{\"other\":{\"id\":\"24088\"}},\"code\":\"other.line_color = this.color\"},\"id\":\"24093\",\"type\":\"CustomJS\"},{\"attributes\":{\"axis\":{\"id\":\"24065\"},\"ticker\":null},\"id\":\"24068\",\"type\":\"Grid\"},{\"attributes\":{},\"id\":\"24070\",\"type\":\"BasicTicker\"},{\"attributes\":{},\"id\":\"24637\",\"type\":\"AllLabels\"},{\"attributes\":{},\"id\":\"24066\",\"type\":\"BasicTicker\"},{\"attributes\":{\"formatter\":{\"id\":\"24638\"},\"major_label_policy\":{\"id\":\"24637\"},\"ticker\":{\"id\":\"24066\"}},\"id\":\"24065\",\"type\":\"LinearAxis\"},{\"attributes\":{},\"id\":\"24073\",\"type\":\"PanTool\"},{\"attributes\":{},\"id\":\"24063\",\"type\":\"LinearScale\"},{\"attributes\":{\"bottom_units\":\"screen\",\"fill_alpha\":0.5,\"fill_color\":\"lightgrey\",\"left_units\":\"screen\",\"level\":\"overlay\",\"line_alpha\":1.0,\"line_color\":\"black\",\"line_dash\":[4,4],\"line_width\":2,\"right_units\":\"screen\",\"syncable\":false,\"top_units\":\"screen\"},\"id\":\"24079\",\"type\":\"BoxAnnotation\"},{\"attributes\":{},\"id\":\"24638\",\"type\":\"BasicTickFormatter\"},{\"attributes\":{\"overlay\":{\"id\":\"24079\"}},\"id\":\"24075\",\"type\":\"BoxZoomTool\"},{\"attributes\":{},\"id\":\"24077\",\"type\":\"ResetTool\"},{\"attributes\":{},\"id\":\"24078\",\"type\":\"HelpTool\"},{\"attributes\":{},\"id\":\"24061\",\"type\":\"LinearScale\"},{\"attributes\":{\"axis\":{\"id\":\"24069\"},\"dimension\":1,\"ticker\":null},\"id\":\"24072\",\"type\":\"Grid\"},{\"attributes\":{},\"id\":\"24640\",\"type\":\"Selection\"},{\"attributes\":{},\"id\":\"24059\",\"type\":\"Range1d\"},{\"attributes\":{},\"id\":\"24074\",\"type\":\"WheelZoomTool\"},{\"attributes\":{},\"id\":\"24076\",\"type\":\"SaveTool\"},{\"attributes\":{},\"id\":\"24634\",\"type\":\"AllLabels\"},{\"attributes\":{\"below\":[{\"id\":\"24065\"}],\"center\":[{\"id\":\"24068\"},{\"id\":\"24072\"}],\"height\":150,\"left\":[{\"id\":\"24069\"}],\"renderers\":[{\"id\":\"24090\"}],\"title\":{\"id\":\"24632\"},\"toolbar\":{\"id\":\"24080\"},\"x_range\":{\"id\":\"24057\"},\"x_scale\":{\"id\":\"24061\"},\"y_range\":{\"id\":\"24059\"},\"y_scale\":{\"id\":\"24063\"}},\"id\":\"24056\",\"subtype\":\"Figure\",\"type\":\"Plot\"},{\"attributes\":{\"active_multi\":null,\"tools\":[{\"id\":\"24073\"},{\"id\":\"24074\"},{\"id\":\"24075\"},{\"id\":\"24076\"},{\"id\":\"24077\"},{\"id\":\"24078\"}]},\"id\":\"24080\",\"type\":\"Toolbar\"},{\"attributes\":{},\"id\":\"24639\",\"type\":\"UnionRenderers\"},{\"attributes\":{\"formatter\":{\"id\":\"24635\"},\"major_label_policy\":{\"id\":\"24634\"},\"ticker\":{\"id\":\"24070\"}},\"id\":\"24069\",\"type\":\"LinearAxis\"},{\"attributes\":{\"data\":{\"x\":[0,1],\"y\":[0,1]},\"selected\":{\"id\":\"24640\"},\"selection_policy\":{\"id\":\"24639\"}},\"id\":\"24087\",\"type\":\"ColumnDataSource\"},{\"attributes\":{},\"id\":\"24057\",\"type\":\"Range1d\"},{\"attributes\":{\"source\":{\"id\":\"24087\"}},\"id\":\"24091\",\"type\":\"CDSView\"},{\"attributes\":{\"line_width\":4,\"x\":{\"field\":\"x\"},\"y\":{\"field\":\"y\"}},\"id\":\"24088\",\"type\":\"Line\"}],\"root_ids\":[\"24094\"]},\"title\":\"Bokeh Application\",\"version\":\"2.3.0\"}};\n",
       "  var render_items = [{\"docid\":\"0cc615d6-d533-4da0-8db0-377eaf3684ac\",\"root_ids\":[\"24094\"],\"roots\":{\"24094\":\"22d68b25-927d-4e0c-b8df-b1c2ae6f1134\"}}];\n",
       "  root.Bokeh.embed.embed_items_notebook(docs_json, render_items);\n",
       "\n",
       "  }\n",
       "  if (root.Bokeh !== undefined) {\n",
       "    embed_document(root);\n",
       "  } else {\n",
       "    var attempts = 0;\n",
       "    var timer = setInterval(function(root) {\n",
       "      if (root.Bokeh !== undefined) {\n",
       "        clearInterval(timer);\n",
       "        embed_document(root);\n",
       "      } else {\n",
       "        attempts++;\n",
       "        if (attempts > 100) {\n",
       "          clearInterval(timer);\n",
       "          console.log(\"Bokeh: ERROR: Unable to run BokehJS code because BokehJS library is missing\");\n",
       "        }\n",
       "      }\n",
       "    }, 10, root)\n",
       "  }\n",
       "})(window);"
      ],
      "application/vnd.bokehjs_exec.v0+json": ""
     },
     "metadata": {
      "application/vnd.bokehjs_exec.v0+json": {
       "id": "24094"
      }
     },
     "output_type": "display_data"
    }
   ],
   "source": [
    "from bokeh.io import show\n",
    "from bokeh.layouts import column\n",
    "from bokeh.models import ColorPicker\n",
    "from bokeh.plotting import Figure\n",
    "\n",
    "plot = Figure(x_range=(0, 1), y_range=(0, 1), plot_height=150)\n",
    "line = plot.line(x=(0,1), y=(0,1), color=\"black\", line_width=4)\n",
    "\n",
    "picker = ColorPicker(title=\"Line Color\")\n",
    "picker.js_link('color', line.glyph, 'line_color')\n",
    "\n",
    "show(column(plot, picker))"
   ]
  },
  {
   "cell_type": "code",
   "execution_count": null,
   "id": "defined-latest",
   "metadata": {},
   "outputs": [],
   "source": []
  }
 ],
 "metadata": {
  "kernelspec": {
   "display_name": "Python 3",
   "language": "python",
   "name": "python3"
  },
  "language_info": {
   "codemirror_mode": {
    "name": "ipython",
    "version": 3
   },
   "file_extension": ".py",
   "mimetype": "text/x-python",
   "name": "python",
   "nbconvert_exporter": "python",
   "pygments_lexer": "ipython3",
   "version": "3.7.9"
  }
 },
 "nbformat": 4,
 "nbformat_minor": 5
}
